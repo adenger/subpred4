{
 "cells": [
  {
   "attachments": {},
   "cell_type": "markdown",
   "metadata": {},
   "source": [
    "# Dataset creation\n",
    "\n",
    "The input file for this notebook is a Uniprot custom download. Proteins with existence not verified at protein level or transcript level, as well as proteins with fragmented sequences, were removed during the dataset creation process.\n",
    "\n",
    "The Uniprot version used here is 2022_05.\n",
    "\n",
    "The result will be datasets of:\n",
    "\n",
    "- Sequences, along with information about manual review status and gene/protein names\n",
    "- Uniprot keywords\n",
    "- GO terms\n",
    "- TCDB data, including annotated CHEBI molecules\n",
    "- Interpro domains\n",
    "\n",
    "The data will be saved as pickled dataframes, which makes the reading much faster. We also tried other binary formats, such as feather, parquet, HDF, and gz/lzma-compressed pickles. The normal pickles led to the best tradeoff between reading speed and file size. "
   ]
  },
  {
   "cell_type": "code",
   "execution_count": 31,
   "metadata": {},
   "outputs": [],
   "source": [
    "OUTPUT_FOLDER = \"../data/datasets\""
   ]
  },
  {
   "cell_type": "code",
   "execution_count": 32,
   "metadata": {},
   "outputs": [],
   "source": [
    "from subpred.util import save_df\n",
    "from subpred.cdhit import cd_hit\n"
   ]
  },
  {
   "cell_type": "code",
   "execution_count": 33,
   "metadata": {},
   "outputs": [],
   "source": [
    "import pandas as pd\n",
    "\n",
    "names = [\n",
    "    \"Uniprot\",\n",
    "    \"gene_names\",\n",
    "    \"protein_names\",\n",
    "    \"reviewed\",\n",
    "    \"protein_existence\",\n",
    "    \"sequence\",\n",
    "    \"organism_id\",\n",
    "    \"go_ids\",\n",
    "    \"keyword_ids\",\n",
    "    \"keywords\",\n",
    "    \"tcdb_ids\",\n",
    "    \"interpro_ids\",\n",
    "]\n",
    "dtypes = {\n",
    "    \"Uniprot\": \"string\",\n",
    "    \"gene_names\": \"string\",\n",
    "    \"protein_names\": \"string\",\n",
    "    \"reviewed\": \"category\",\n",
    "    \"protein_existence\": \"category\",\n",
    "    \"sequence\": \"string\",\n",
    "    \"organism_id\": \"int\",\n",
    "    \"go_ids\": \"string\",\n",
    "    \"keyword_ids\": \"string\",\n",
    "    \"keywords\": \"string\",\n",
    "    \"tcdb_ids\": \"string\",\n",
    "    \"interpro_ids\": \"string\",\n",
    "}\n",
    "\n",
    "df = pd.read_table(\n",
    "    \"../data/raw/uniprot/uniprot_2022_05_evidence1-2_nofragments.tsv\",\n",
    "    index_col=0,\n",
    "    header=None,\n",
    "    names=names,\n",
    "    dtype=dtypes,\n",
    "    skiprows=1,\n",
    ")\n"
   ]
  },
  {
   "attachments": {},
   "cell_type": "markdown",
   "metadata": {},
   "source": [
    "## Cleanup"
   ]
  },
  {
   "cell_type": "code",
   "execution_count": 5,
   "metadata": {},
   "outputs": [
    {
     "name": "stdout",
     "output_type": "stream",
     "text": [
      "unreviewed    1530743\n",
      "reviewed       162964\n",
      "False    1530743\n",
      "True      162964\n"
     ]
    }
   ],
   "source": [
    "print(df.reviewed.value_counts().to_string())\n",
    "df.reviewed = df.reviewed.transform(lambda x: x == \"reviewed\").astype(\"bool\")\n",
    "print(df.reviewed.value_counts().to_string())"
   ]
  },
  {
   "cell_type": "code",
   "execution_count": 6,
   "metadata": {},
   "outputs": [
    {
     "name": "stdout",
     "output_type": "stream",
     "text": [
      "Evidence at transcript level    1429578\n",
      "Evidence at protein level        264129\n",
      "2    1429578\n",
      "1     264129\n"
     ]
    }
   ],
   "source": [
    "print(df.protein_existence.value_counts().to_string())\n",
    "df.protein_existence = df.protein_existence.map({\"Evidence at transcript level\":2,\"Evidence at protein level\":1}).astype(\"int\")\n",
    "print(df.protein_existence.value_counts().to_string())"
   ]
  },
  {
   "attachments": {},
   "cell_type": "markdown",
   "metadata": {},
   "source": [
    "### Filtering out proteins without gene names\n",
    "\n",
    "Apparently mostly peptides and pollen, no transporters"
   ]
  },
  {
   "cell_type": "code",
   "execution_count": 7,
   "metadata": {},
   "outputs": [
    {
     "name": "stdout",
     "output_type": "stream",
     "text": [
      "before 1693707\n",
      "after 1021957\n"
     ]
    }
   ],
   "source": [
    "print(\"before\", len(df))\n",
    "df = df[~df.gene_names.isnull()]\n",
    "print(\"after\", len(df))"
   ]
  },
  {
   "attachments": {},
   "cell_type": "markdown",
   "metadata": {},
   "source": [
    "### Parsing sequences"
   ]
  },
  {
   "cell_type": "code",
   "execution_count": 8,
   "metadata": {},
   "outputs": [
    {
     "name": "stdout",
     "output_type": "stream",
     "text": [
      "proteins with non-standard amino acids:\n"
     ]
    },
    {
     "data": {
      "text/plain": [
       "21352"
      ]
     },
     "execution_count": 8,
     "metadata": {},
     "output_type": "execute_result"
    }
   ],
   "source": [
    "import re\n",
    "print(\"proteins with non-standard amino acids:\")\n",
    "df[~df.sequence.str.fullmatch(re.compile(\"[ACDEFGHIKLMNPQRSTVWY]+\"))].shape[0]"
   ]
  },
  {
   "attachments": {},
   "cell_type": "markdown",
   "metadata": {},
   "source": [
    "Removing non-standard amino acids from sequences:"
   ]
  },
  {
   "cell_type": "code",
   "execution_count": 9,
   "metadata": {},
   "outputs": [],
   "source": [
    "df.sequence = df.sequence.str.replace(re.compile(\"[^ACDEFGHIKLMNPQRSTVWY]+\"), \"\")"
   ]
  },
  {
   "cell_type": "code",
   "execution_count": 10,
   "metadata": {},
   "outputs": [
    {
     "name": "stdout",
     "output_type": "stream",
     "text": [
      "proteins with non-standard amino acids:\n"
     ]
    },
    {
     "data": {
      "text/plain": [
       "0"
      ]
     },
     "execution_count": 10,
     "metadata": {},
     "output_type": "execute_result"
    }
   ],
   "source": [
    "print(\"proteins with non-standard amino acids:\")\n",
    "df[~df.sequence.str.fullmatch(re.compile(\"[ACDEFGHIKLMNPQRSTVWY]+\"))].shape[0]"
   ]
  },
  {
   "attachments": {},
   "cell_type": "markdown",
   "metadata": {},
   "source": [
    "### Saving dataset"
   ]
  },
  {
   "cell_type": "code",
   "execution_count": 11,
   "metadata": {},
   "outputs": [],
   "source": [
    "df_sequences = df.drop(\n",
    "    [\"go_ids\", \"keyword_ids\", \"keywords\", \"tcdb_ids\", \"interpro_ids\"], axis=1\n",
    ")"
   ]
  },
  {
   "cell_type": "code",
   "execution_count": 12,
   "metadata": {},
   "outputs": [],
   "source": [
    "save_df(df=df_sequences, dataset_name=\"uniprot\", folder_path=OUTPUT_FOLDER)"
   ]
  },
  {
   "attachments": {},
   "cell_type": "markdown",
   "metadata": {},
   "source": [
    "### Clustering"
   ]
  },
  {
   "cell_type": "code",
   "execution_count": 13,
   "metadata": {},
   "outputs": [
    {
     "name": "stdout",
     "output_type": "stream",
     "text": [
      "cd-hit: clustered .......... sequences into finished clusters at threshold 70\n"
     ]
    }
   ],
   "source": [
    "cluster_representatives_70 = cd_hit(df_sequences.sequence, identity_threshold=70,n_threads=0)\n",
    "df_sequences_cdhit70 = df_sequences.loc[cluster_representatives_70]\n",
    "save_df(df=df_sequences_cdhit70, dataset_name=\"uniprot70\", folder_path=OUTPUT_FOLDER)"
   ]
  },
  {
   "attachments": {},
   "cell_type": "markdown",
   "metadata": {},
   "source": [
    "## Annotation datasets"
   ]
  },
  {
   "attachments": {},
   "cell_type": "markdown",
   "metadata": {},
   "source": [
    "### Keywords"
   ]
  },
  {
   "cell_type": "code",
   "execution_count": 14,
   "metadata": {},
   "outputs": [
    {
     "data": {
      "text/html": [
       "<div>\n",
       "<style scoped>\n",
       "    .dataframe tbody tr th:only-of-type {\n",
       "        vertical-align: middle;\n",
       "    }\n",
       "\n",
       "    .dataframe tbody tr th {\n",
       "        vertical-align: top;\n",
       "    }\n",
       "\n",
       "    .dataframe thead th {\n",
       "        text-align: right;\n",
       "    }\n",
       "</style>\n",
       "<table border=\"1\" class=\"dataframe\">\n",
       "  <thead>\n",
       "    <tr style=\"text-align: right;\">\n",
       "      <th></th>\n",
       "      <th>keyword</th>\n",
       "    </tr>\n",
       "    <tr>\n",
       "      <th>Uniprot</th>\n",
       "      <th></th>\n",
       "    </tr>\n",
       "  </thead>\n",
       "  <tbody>\n",
       "    <tr>\n",
       "      <th>A0A0C5B5G6</th>\n",
       "      <td>DNA-binding</td>\n",
       "    </tr>\n",
       "    <tr>\n",
       "      <th>A0A0C5B5G6</th>\n",
       "      <td>Mitochondrion</td>\n",
       "    </tr>\n",
       "    <tr>\n",
       "      <th>A0A0C5B5G6</th>\n",
       "      <td>Nucleus</td>\n",
       "    </tr>\n",
       "    <tr>\n",
       "      <th>A0A0C5B5G6</th>\n",
       "      <td>Osteogenesis</td>\n",
       "    </tr>\n",
       "    <tr>\n",
       "      <th>A0A0C5B5G6</th>\n",
       "      <td>Reference proteome</td>\n",
       "    </tr>\n",
       "    <tr>\n",
       "      <th>...</th>\n",
       "      <td>...</td>\n",
       "    </tr>\n",
       "    <tr>\n",
       "      <th>Q8BEL5</th>\n",
       "      <td>Inhibition of host tapasin by virus</td>\n",
       "    </tr>\n",
       "    <tr>\n",
       "      <th>A0MNZ5</th>\n",
       "      <td>Hemolymph clotting</td>\n",
       "    </tr>\n",
       "    <tr>\n",
       "      <th>B5A4F2</th>\n",
       "      <td>Nucleomorph</td>\n",
       "    </tr>\n",
       "    <tr>\n",
       "      <th>U3L010</th>\n",
       "      <td>Acetylcholine receptor inhibiting toxin</td>\n",
       "    </tr>\n",
       "    <tr>\n",
       "      <th>U3L010</th>\n",
       "      <td>Postsynaptic neurotoxin</td>\n",
       "    </tr>\n",
       "  </tbody>\n",
       "</table>\n",
       "<p>1165 rows × 1 columns</p>\n",
       "</div>"
      ],
      "text/plain": [
       "                                            keyword\n",
       "Uniprot                                            \n",
       "A0A0C5B5G6                              DNA-binding\n",
       "A0A0C5B5G6                            Mitochondrion\n",
       "A0A0C5B5G6                                  Nucleus\n",
       "A0A0C5B5G6                             Osteogenesis\n",
       "A0A0C5B5G6                       Reference proteome\n",
       "...                                             ...\n",
       "Q8BEL5          Inhibition of host tapasin by virus\n",
       "A0MNZ5                           Hemolymph clotting\n",
       "B5A4F2                                  Nucleomorph\n",
       "U3L010      Acetylcholine receptor inhibiting toxin\n",
       "U3L010                      Postsynaptic neurotoxin\n",
       "\n",
       "[1165 rows x 1 columns]"
      ]
     },
     "execution_count": 14,
     "metadata": {},
     "output_type": "execute_result"
    }
   ],
   "source": [
    "df_keywords = (\n",
    "    df.keywords.dropna()\n",
    "    .str.split(\";\")\n",
    "    .explode()\n",
    "    .str.strip()\n",
    "    .drop_duplicates()\n",
    "    .astype(\"category\")\n",
    "    .rename(\"keyword\")\n",
    "    .to_frame()\n",
    ")\n",
    "df_keywords"
   ]
  },
  {
   "cell_type": "code",
   "execution_count": 15,
   "metadata": {},
   "outputs": [],
   "source": [
    "save_df(df=df_keywords, dataset_name=\"keywords\", folder_path=OUTPUT_FOLDER)"
   ]
  },
  {
   "attachments": {},
   "cell_type": "markdown",
   "metadata": {},
   "source": [
    "There are keyword ids as well, but their order does not match that of the keyword strings column:"
   ]
  },
  {
   "cell_type": "code",
   "execution_count": 16,
   "metadata": {},
   "outputs": [
    {
     "data": {
      "text/plain": [
       "Uniprot\n",
       "A0A0C5B5G6    KW-0238\n",
       "A0A0C5B5G6    KW-0496\n",
       "A0A0C5B5G6    KW-0539\n",
       "A0A0C5B5G6    KW-0892\n",
       "A0A0C5B5G6    KW-1185\n",
       "               ...   \n",
       "X5MI49        KW-0472\n",
       "X5MI49        KW-0808\n",
       "X5MI49        KW-0812\n",
       "X5MI49        KW-1133\n",
       "X5MPI5        KW-0808\n",
       "Name: keyword_ids, Length: 5410571, dtype: object"
      ]
     },
     "execution_count": 16,
     "metadata": {},
     "output_type": "execute_result"
    }
   ],
   "source": [
    "df.keyword_ids.str.split(\";\").explode().str.strip()"
   ]
  },
  {
   "attachments": {},
   "cell_type": "markdown",
   "metadata": {},
   "source": [
    "### Interpro Domains"
   ]
  },
  {
   "cell_type": "code",
   "execution_count": 17,
   "metadata": {},
   "outputs": [
    {
     "data": {
      "text/html": [
       "<div>\n",
       "<style scoped>\n",
       "    .dataframe tbody tr th:only-of-type {\n",
       "        vertical-align: middle;\n",
       "    }\n",
       "\n",
       "    .dataframe tbody tr th {\n",
       "        vertical-align: top;\n",
       "    }\n",
       "\n",
       "    .dataframe thead th {\n",
       "        text-align: right;\n",
       "    }\n",
       "</style>\n",
       "<table border=\"1\" class=\"dataframe\">\n",
       "  <thead>\n",
       "    <tr style=\"text-align: right;\">\n",
       "      <th></th>\n",
       "      <th>interpro_id</th>\n",
       "    </tr>\n",
       "    <tr>\n",
       "      <th>Uniprot</th>\n",
       "      <th></th>\n",
       "    </tr>\n",
       "  </thead>\n",
       "  <tbody>\n",
       "    <tr>\n",
       "      <th>A0A1B0GTW7</th>\n",
       "      <td>IPR001577</td>\n",
       "    </tr>\n",
       "    <tr>\n",
       "      <th>A0JNW5</th>\n",
       "      <td>IPR026728</td>\n",
       "    </tr>\n",
       "    <tr>\n",
       "      <th>A0JNW5</th>\n",
       "      <td>IPR026854</td>\n",
       "    </tr>\n",
       "    <tr>\n",
       "      <th>A0JP26</th>\n",
       "      <td>IPR002110</td>\n",
       "    </tr>\n",
       "    <tr>\n",
       "      <th>A0JP26</th>\n",
       "      <td>IPR036770</td>\n",
       "    </tr>\n",
       "    <tr>\n",
       "      <th>...</th>\n",
       "      <td>...</td>\n",
       "    </tr>\n",
       "    <tr>\n",
       "      <th>T1T0Q8</th>\n",
       "      <td>IPR021222</td>\n",
       "    </tr>\n",
       "    <tr>\n",
       "      <th>U3L077</th>\n",
       "      <td>IPR031565</td>\n",
       "    </tr>\n",
       "    <tr>\n",
       "      <th>U6DN30</th>\n",
       "      <td>IPR033009</td>\n",
       "    </tr>\n",
       "    <tr>\n",
       "      <th>W8BIV9</th>\n",
       "      <td>IPR018473</td>\n",
       "    </tr>\n",
       "    <tr>\n",
       "      <th>W8C1S6</th>\n",
       "      <td>IPR006579</td>\n",
       "    </tr>\n",
       "  </tbody>\n",
       "</table>\n",
       "<p>34104 rows × 1 columns</p>\n",
       "</div>"
      ],
      "text/plain": [
       "           interpro_id\n",
       "Uniprot               \n",
       "A0A1B0GTW7   IPR001577\n",
       "A0JNW5       IPR026728\n",
       "A0JNW5       IPR026854\n",
       "A0JP26       IPR002110\n",
       "A0JP26       IPR036770\n",
       "...                ...\n",
       "T1T0Q8       IPR021222\n",
       "U3L077       IPR031565\n",
       "U6DN30       IPR033009\n",
       "W8BIV9       IPR018473\n",
       "W8C1S6       IPR006579\n",
       "\n",
       "[34104 rows x 1 columns]"
      ]
     },
     "execution_count": 17,
     "metadata": {},
     "output_type": "execute_result"
    }
   ],
   "source": [
    "df_interpro = (\n",
    "    df.interpro_ids.dropna()\n",
    "    .str.rstrip(\";\")\n",
    "    .str.split(\";\")\n",
    "    .explode()\n",
    "    .drop_duplicates()\n",
    "    .rename(\"interpro_id\")\n",
    "    .to_frame()\n",
    ")\n",
    "df_interpro"
   ]
  },
  {
   "cell_type": "code",
   "execution_count": 18,
   "metadata": {},
   "outputs": [],
   "source": [
    "save_df(df=df_interpro, dataset_name=\"interpro\", folder_path=OUTPUT_FOLDER)"
   ]
  },
  {
   "attachments": {},
   "cell_type": "markdown",
   "metadata": {},
   "source": [
    "### TCDB substrates"
   ]
  },
  {
   "cell_type": "code",
   "execution_count": 19,
   "metadata": {},
   "outputs": [
    {
     "data": {
      "text/html": [
       "<div>\n",
       "<style scoped>\n",
       "    .dataframe tbody tr th:only-of-type {\n",
       "        vertical-align: middle;\n",
       "    }\n",
       "\n",
       "    .dataframe tbody tr th {\n",
       "        vertical-align: top;\n",
       "    }\n",
       "\n",
       "    .dataframe thead th {\n",
       "        text-align: right;\n",
       "    }\n",
       "</style>\n",
       "<table border=\"1\" class=\"dataframe\">\n",
       "  <thead>\n",
       "    <tr style=\"text-align: right;\">\n",
       "      <th></th>\n",
       "      <th>tcdb_id</th>\n",
       "      <th>variable</th>\n",
       "      <th>value</th>\n",
       "    </tr>\n",
       "  </thead>\n",
       "  <tbody>\n",
       "    <tr>\n",
       "      <th>0</th>\n",
       "      <td>2.A.52.2.2</td>\n",
       "      <td>chebi_id</td>\n",
       "      <td>CHEBI:23337</td>\n",
       "    </tr>\n",
       "    <tr>\n",
       "      <th>1</th>\n",
       "      <td>2.A.52.2.2</td>\n",
       "      <td>chebi_id</td>\n",
       "      <td>CHEBI:25517</td>\n",
       "    </tr>\n",
       "    <tr>\n",
       "      <th>2</th>\n",
       "      <td>2.A.22.2.5</td>\n",
       "      <td>chebi_id</td>\n",
       "      <td>CHEBI:9175</td>\n",
       "    </tr>\n",
       "    <tr>\n",
       "      <th>3</th>\n",
       "      <td>2.A.22.2.5</td>\n",
       "      <td>chebi_id</td>\n",
       "      <td>CHEBI:8345</td>\n",
       "    </tr>\n",
       "    <tr>\n",
       "      <th>4</th>\n",
       "      <td>2.A.90.2.4</td>\n",
       "      <td>chebi_id</td>\n",
       "      <td>CHEBI:8816</td>\n",
       "    </tr>\n",
       "    <tr>\n",
       "      <th>...</th>\n",
       "      <td>...</td>\n",
       "      <td>...</td>\n",
       "      <td>...</td>\n",
       "    </tr>\n",
       "    <tr>\n",
       "      <th>26829</th>\n",
       "      <td>1.H.1.1.17</td>\n",
       "      <td>chebi_term</td>\n",
       "      <td>cation</td>\n",
       "    </tr>\n",
       "    <tr>\n",
       "      <th>26830</th>\n",
       "      <td>8.A.139.2.2</td>\n",
       "      <td>chebi_term</td>\n",
       "      <td>peptide</td>\n",
       "    </tr>\n",
       "    <tr>\n",
       "      <th>26831</th>\n",
       "      <td>1.B.6.2.13</td>\n",
       "      <td>chebi_term</td>\n",
       "      <td>molecule</td>\n",
       "    </tr>\n",
       "    <tr>\n",
       "      <th>26832</th>\n",
       "      <td>2.A.66.1.20</td>\n",
       "      <td>chebi_term</td>\n",
       "      <td>hydron</td>\n",
       "    </tr>\n",
       "    <tr>\n",
       "      <th>26833</th>\n",
       "      <td>2.A.66.1.20</td>\n",
       "      <td>chebi_term</td>\n",
       "      <td>drug</td>\n",
       "    </tr>\n",
       "  </tbody>\n",
       "</table>\n",
       "<p>26834 rows × 3 columns</p>\n",
       "</div>"
      ],
      "text/plain": [
       "           tcdb_id    variable        value\n",
       "0       2.A.52.2.2    chebi_id  CHEBI:23337\n",
       "1       2.A.52.2.2    chebi_id  CHEBI:25517\n",
       "2       2.A.22.2.5    chebi_id   CHEBI:9175\n",
       "3       2.A.22.2.5    chebi_id   CHEBI:8345\n",
       "4       2.A.90.2.4    chebi_id   CHEBI:8816\n",
       "...            ...         ...          ...\n",
       "26829   1.H.1.1.17  chebi_term       cation\n",
       "26830  8.A.139.2.2  chebi_term      peptide\n",
       "26831   1.B.6.2.13  chebi_term     molecule\n",
       "26832  2.A.66.1.20  chebi_term       hydron\n",
       "26833  2.A.66.1.20  chebi_term         drug\n",
       "\n",
       "[26834 rows x 3 columns]"
      ]
     },
     "execution_count": 19,
     "metadata": {},
     "output_type": "execute_result"
    }
   ],
   "source": [
    "df_substrates = pd.read_table(\n",
    "    \"../data/raw/tcdb/tcdb_substrates.tsv\",\n",
    "    header=None,\n",
    "    names=[\"tcdb_id\", \"tcdb_substrates\"],\n",
    "    index_col=0,\n",
    ")\n",
    "df_substrates = (\n",
    "    df_substrates.tcdb_substrates.str.split(\"|\")\n",
    "    .explode()\n",
    "    .str.split(\";\", expand=True)\n",
    "    .rename(columns={0: \"chebi_id\", 1: \"chebi_term\"})\n",
    "    .reset_index(drop=False)\n",
    "    .melt(id_vars=[\"tcdb_id\"], value_vars=[\"chebi_id\", \"chebi_term\"])\n",
    ")\n",
    "df_substrates"
   ]
  },
  {
   "cell_type": "code",
   "execution_count": 20,
   "metadata": {},
   "outputs": [
    {
     "data": {
      "text/html": [
       "<div>\n",
       "<style scoped>\n",
       "    .dataframe tbody tr th:only-of-type {\n",
       "        vertical-align: middle;\n",
       "    }\n",
       "\n",
       "    .dataframe tbody tr th {\n",
       "        vertical-align: top;\n",
       "    }\n",
       "\n",
       "    .dataframe thead th {\n",
       "        text-align: right;\n",
       "    }\n",
       "</style>\n",
       "<table border=\"1\" class=\"dataframe\">\n",
       "  <thead>\n",
       "    <tr style=\"text-align: right;\">\n",
       "      <th></th>\n",
       "      <th>tcdb_id</th>\n",
       "      <th>variable</th>\n",
       "      <th>value</th>\n",
       "    </tr>\n",
       "  </thead>\n",
       "  <tbody>\n",
       "    <tr>\n",
       "      <th>0</th>\n",
       "      <td>9.A.46.1.2</td>\n",
       "      <td>Uniprot</td>\n",
       "      <td>A0PK11</td>\n",
       "    </tr>\n",
       "    <tr>\n",
       "      <th>1</th>\n",
       "      <td>9.B.438.1.1</td>\n",
       "      <td>Uniprot</td>\n",
       "      <td>A2RU14</td>\n",
       "    </tr>\n",
       "    <tr>\n",
       "      <th>2</th>\n",
       "      <td>1.N.2.1.1</td>\n",
       "      <td>Uniprot</td>\n",
       "      <td>A6NI61</td>\n",
       "    </tr>\n",
       "    <tr>\n",
       "      <th>3</th>\n",
       "      <td>9.A.80.1.1</td>\n",
       "      <td>Uniprot</td>\n",
       "      <td>A6NKB5</td>\n",
       "    </tr>\n",
       "    <tr>\n",
       "      <th>4</th>\n",
       "      <td>1.I.1.1.3</td>\n",
       "      <td>Uniprot</td>\n",
       "      <td>O00159</td>\n",
       "    </tr>\n",
       "    <tr>\n",
       "      <th>...</th>\n",
       "      <td>...</td>\n",
       "      <td>...</td>\n",
       "      <td>...</td>\n",
       "    </tr>\n",
       "    <tr>\n",
       "      <th>7553</th>\n",
       "      <td>2.A.47.1.5</td>\n",
       "      <td>Uniprot</td>\n",
       "      <td>Q9W7I2</td>\n",
       "    </tr>\n",
       "    <tr>\n",
       "      <th>7554</th>\n",
       "      <td>2.A.18.3.2</td>\n",
       "      <td>Uniprot</td>\n",
       "      <td>Q9XE48</td>\n",
       "    </tr>\n",
       "    <tr>\n",
       "      <th>7555</th>\n",
       "      <td>2.A.18.3.3</td>\n",
       "      <td>Uniprot</td>\n",
       "      <td>Q9XE49</td>\n",
       "    </tr>\n",
       "    <tr>\n",
       "      <th>7556</th>\n",
       "      <td>2.A.29.11.2</td>\n",
       "      <td>Uniprot</td>\n",
       "      <td>Q9ZNY4</td>\n",
       "    </tr>\n",
       "    <tr>\n",
       "      <th>7557</th>\n",
       "      <td>1.C.71.2.3</td>\n",
       "      <td>Uniprot</td>\n",
       "      <td>T1WIB6</td>\n",
       "    </tr>\n",
       "  </tbody>\n",
       "</table>\n",
       "<p>7558 rows × 3 columns</p>\n",
       "</div>"
      ],
      "text/plain": [
       "          tcdb_id variable   value\n",
       "0      9.A.46.1.2  Uniprot  A0PK11\n",
       "1     9.B.438.1.1  Uniprot  A2RU14\n",
       "2       1.N.2.1.1  Uniprot  A6NI61\n",
       "3      9.A.80.1.1  Uniprot  A6NKB5\n",
       "4       1.I.1.1.3  Uniprot  O00159\n",
       "...           ...      ...     ...\n",
       "7553   2.A.47.1.5  Uniprot  Q9W7I2\n",
       "7554   2.A.18.3.2  Uniprot  Q9XE48\n",
       "7555   2.A.18.3.3  Uniprot  Q9XE49\n",
       "7556  2.A.29.11.2  Uniprot  Q9ZNY4\n",
       "7557   1.C.71.2.3  Uniprot  T1WIB6\n",
       "\n",
       "[7558 rows x 3 columns]"
      ]
     },
     "execution_count": 20,
     "metadata": {},
     "output_type": "execute_result"
    }
   ],
   "source": [
    "df_tcdb_uniprot = (\n",
    "    df.tcdb_ids.dropna()\n",
    "    .str.rstrip(\";\")\n",
    "    .str.split(\";\")\n",
    "    .explode()\n",
    "    .rename(\"tcdb_id\")\n",
    "    .reset_index(drop=False)\n",
    "    .drop_duplicates()\n",
    "    .melt(id_vars=[\"tcdb_id\"], value_vars=[\"Uniprot\"])\n",
    ")\n",
    "df_tcdb_uniprot"
   ]
  },
  {
   "cell_type": "code",
   "execution_count": 21,
   "metadata": {},
   "outputs": [
    {
     "data": {
      "text/html": [
       "<div>\n",
       "<style scoped>\n",
       "    .dataframe tbody tr th:only-of-type {\n",
       "        vertical-align: middle;\n",
       "    }\n",
       "\n",
       "    .dataframe tbody tr th {\n",
       "        vertical-align: top;\n",
       "    }\n",
       "\n",
       "    .dataframe thead th {\n",
       "        text-align: right;\n",
       "    }\n",
       "</style>\n",
       "<table border=\"1\" class=\"dataframe\">\n",
       "  <thead>\n",
       "    <tr style=\"text-align: right;\">\n",
       "      <th></th>\n",
       "      <th>tcdb_id</th>\n",
       "      <th>variable</th>\n",
       "      <th>value</th>\n",
       "    </tr>\n",
       "  </thead>\n",
       "  <tbody>\n",
       "    <tr>\n",
       "      <th>0</th>\n",
       "      <td>2.A.52.2.2</td>\n",
       "      <td>chebi_id</td>\n",
       "      <td>CHEBI:23337</td>\n",
       "    </tr>\n",
       "    <tr>\n",
       "      <th>1</th>\n",
       "      <td>2.A.52.2.2</td>\n",
       "      <td>chebi_id</td>\n",
       "      <td>CHEBI:25517</td>\n",
       "    </tr>\n",
       "    <tr>\n",
       "      <th>2</th>\n",
       "      <td>2.A.22.2.5</td>\n",
       "      <td>chebi_id</td>\n",
       "      <td>CHEBI:9175</td>\n",
       "    </tr>\n",
       "    <tr>\n",
       "      <th>3</th>\n",
       "      <td>2.A.22.2.5</td>\n",
       "      <td>chebi_id</td>\n",
       "      <td>CHEBI:8345</td>\n",
       "    </tr>\n",
       "    <tr>\n",
       "      <th>4</th>\n",
       "      <td>2.A.90.2.4</td>\n",
       "      <td>chebi_id</td>\n",
       "      <td>CHEBI:8816</td>\n",
       "    </tr>\n",
       "    <tr>\n",
       "      <th>...</th>\n",
       "      <td>...</td>\n",
       "      <td>...</td>\n",
       "      <td>...</td>\n",
       "    </tr>\n",
       "    <tr>\n",
       "      <th>34387</th>\n",
       "      <td>2.A.47.1.5</td>\n",
       "      <td>Uniprot</td>\n",
       "      <td>Q9W7I2</td>\n",
       "    </tr>\n",
       "    <tr>\n",
       "      <th>34388</th>\n",
       "      <td>2.A.18.3.2</td>\n",
       "      <td>Uniprot</td>\n",
       "      <td>Q9XE48</td>\n",
       "    </tr>\n",
       "    <tr>\n",
       "      <th>34389</th>\n",
       "      <td>2.A.18.3.3</td>\n",
       "      <td>Uniprot</td>\n",
       "      <td>Q9XE49</td>\n",
       "    </tr>\n",
       "    <tr>\n",
       "      <th>34390</th>\n",
       "      <td>2.A.29.11.2</td>\n",
       "      <td>Uniprot</td>\n",
       "      <td>Q9ZNY4</td>\n",
       "    </tr>\n",
       "    <tr>\n",
       "      <th>34391</th>\n",
       "      <td>1.C.71.2.3</td>\n",
       "      <td>Uniprot</td>\n",
       "      <td>T1WIB6</td>\n",
       "    </tr>\n",
       "  </tbody>\n",
       "</table>\n",
       "<p>34392 rows × 3 columns</p>\n",
       "</div>"
      ],
      "text/plain": [
       "           tcdb_id  variable        value\n",
       "0       2.A.52.2.2  chebi_id  CHEBI:23337\n",
       "1       2.A.52.2.2  chebi_id  CHEBI:25517\n",
       "2       2.A.22.2.5  chebi_id   CHEBI:9175\n",
       "3       2.A.22.2.5  chebi_id   CHEBI:8345\n",
       "4       2.A.90.2.4  chebi_id   CHEBI:8816\n",
       "...            ...       ...          ...\n",
       "34387   2.A.47.1.5   Uniprot       Q9W7I2\n",
       "34388   2.A.18.3.2   Uniprot       Q9XE48\n",
       "34389   2.A.18.3.3   Uniprot       Q9XE49\n",
       "34390  2.A.29.11.2   Uniprot       Q9ZNY4\n",
       "34391   1.C.71.2.3   Uniprot       T1WIB6\n",
       "\n",
       "[34392 rows x 3 columns]"
      ]
     },
     "execution_count": 21,
     "metadata": {},
     "output_type": "execute_result"
    }
   ],
   "source": [
    "df_uniprot_tcdb_chebi = pd.concat([df_substrates, df_tcdb_uniprot]).reset_index(drop=True)\n",
    "df_uniprot_tcdb_chebi"
   ]
  },
  {
   "cell_type": "code",
   "execution_count": 22,
   "metadata": {},
   "outputs": [],
   "source": [
    "save_df(df=df_uniprot_tcdb_chebi, dataset_name=\"tcdb_substrates\", folder_path=OUTPUT_FOLDER)"
   ]
  },
  {
   "attachments": {},
   "cell_type": "markdown",
   "metadata": {},
   "source": [
    "### GO\n",
    "\n",
    "This file from EBI contains all GO terms from Uniprot and from Interpro. It has been filtered for Uniprot accessions, which removes RNA annotations, for example. Some of the unnecessary columns have also been removed by awk, in order to reduce the file size from 170GB (uncompressed raw data) to 1.5GB (as xz file). Command is in Makefile. We filter the dataset for Uniprot proteins in our dataset only, that reduces the pickle file size from around 8GB to 100MB."
   ]
  },
  {
   "cell_type": "code",
   "execution_count": 30,
   "metadata": {},
   "outputs": [],
   "source": [
    "df_go_ebi = pd.read_table(\n",
    "    \"../data/raw/gene_ontology/goa_uniprot_all_ebi_filtered.tsv.xz\",\n",
    "    header=None,\n",
    "    names=[\"Uniprot\", \"qualifier\", \"go_id\", \"evidence_code\", \"aspect\", \"date\"],\n",
    "    dtype={\n",
    "        \"Uniprot\": \"string\",\n",
    "        \"qualifier\": \"category\",\n",
    "        \"go_id\": \"string\",\n",
    "        \"evidence_code\": \"category\",\n",
    "        \"aspect\": \"category\",\n",
    "        \"date\": \"int\",\n",
    "    },\n",
    "    # parse_dates=[\"date\"],\n",
    ")"
   ]
  },
  {
   "cell_type": "code",
   "execution_count": 24,
   "metadata": {},
   "outputs": [],
   "source": [
    "uniprot_accessions = set(df.index.unique())\n",
    "df_go_ebi = df_go_ebi[df_go_ebi.Uniprot.isin(uniprot_accessions)]"
   ]
  },
  {
   "cell_type": "code",
   "execution_count": 25,
   "metadata": {},
   "outputs": [
    {
     "name": "stdout",
     "output_type": "stream",
     "text": [
      "(7580427, 6)\n",
      "(7452018, 5)\n"
     ]
    }
   ],
   "source": [
    "print(df_go_ebi.shape)\n",
    "df_go_ebi = df_go_ebi.drop(\"date\", axis=1)\n",
    "df_go_ebi = df_go_ebi.drop_duplicates()\n",
    "print(df_go_ebi.shape)"
   ]
  },
  {
   "cell_type": "code",
   "execution_count": 26,
   "metadata": {},
   "outputs": [],
   "source": [
    "# This halves the file size! \n",
    "df_go_ebi = df_go_ebi.reset_index(drop=True)"
   ]
  },
  {
   "cell_type": "code",
   "execution_count": 27,
   "metadata": {},
   "outputs": [],
   "source": [
    "save_df(df_go_ebi, \"go\", OUTPUT_FOLDER)"
   ]
  },
  {
   "cell_type": "code",
   "execution_count": 28,
   "metadata": {},
   "outputs": [],
   "source": [
    "# df_go_ebi_mf_enables = df_go_ebi[\n",
    "#     (df_go_ebi.qualifier == \"enables\")&\n",
    "#     (df_go_ebi.aspect == \"F\")\n",
    "# ].drop([\"qualifier\", \"aspect\"], axis=1).reset_index(drop=True)\n",
    "# save_df(df_go_ebi_mf_enables, \"go_mf\", OUTPUT_FOLDER)"
   ]
  },
  {
   "cell_type": "code",
   "execution_count": 29,
   "metadata": {},
   "outputs": [
    {
     "name": "stdout",
     "output_type": "stream",
     "text": [
      "107M\t../data/datasets/go.pickle\n",
      "656K\t../data/datasets/interpro.pickle\n",
      "40K\t../data/datasets/keywords.pickle\n",
      "892K\t../data/datasets/tcdb_substrates.pickle\n",
      "158M\t../data/datasets/uniprot70.pickle\n",
      "498M\t../data/datasets/uniprot.pickle\n"
     ]
    }
   ],
   "source": [
    "!du -hs ../data/datasets/*"
   ]
  }
 ],
 "metadata": {
  "kernelspec": {
   "display_name": "subpred4",
   "language": "python",
   "name": "python3"
  },
  "language_info": {
   "codemirror_mode": {
    "name": "ipython",
    "version": 3
   },
   "file_extension": ".py",
   "mimetype": "text/x-python",
   "name": "python",
   "nbconvert_exporter": "python",
   "pygments_lexer": "ipython3",
   "version": "3.10.8"
  },
  "orig_nbformat": 4,
  "vscode": {
   "interpreter": {
    "hash": "ec8de6dd8f2d395005c42468f5d13cdd089376f2ad37eab4b2481f4d8703f0b2"
   }
  }
 },
 "nbformat": 4,
 "nbformat_minor": 2
}
