{
 "cells": [
  {
   "cell_type": "code",
   "execution_count": 57,
   "metadata": {},
   "outputs": [],
   "source": [
    "# !python3 ../subpred/uniprot_downloader.py \"https://rest.uniprot.org/uniprotkb/search?compressed=false&fields=accession%2Cgene_names%2Cprotein_name%2Creviewed%2Cprotein_existence%2Csequence%2Corganism_id%2Cgo_id%2Ckeywordid%2Ckeyword%2Cxref_tcdb%2Cxref_interpro&format=tsv&query=%28%28fragment%3Afalse%29%20AND%20%28existence%3A1%29%20OR%20%28existence%3A2%29%29&size=500\" \"../data/raw/uniprot/uniprot_2022_05_evidence1-2_nofragments.tsv\""
   ]
  },
  {
   "cell_type": "code",
   "execution_count": 58,
   "metadata": {},
   "outputs": [],
   "source": [
    "import pandas as pd\n",
    "\n",
    "names = [\n",
    "    \"Uniprot\",\n",
    "    \"gene_names\",\n",
    "    \"protein_names\",\n",
    "    \"reviewed\",\n",
    "    \"protein_existence\",\n",
    "    \"sequence\",\n",
    "    \"organism_id\",\n",
    "    \"go_ids\",\n",
    "    \"keyword_ids\",\n",
    "    \"keywords\",\n",
    "    \"tcdb_ids\",\n",
    "    \"interpro_ids\",\n",
    "]\n",
    "dtypes = {\n",
    "    \"Uniprot\": \"string\",\n",
    "    \"gene_names\": \"string\",\n",
    "    \"protein_names\" : \"string\",\n",
    "    \"reviewed\" : \"category\",\n",
    "    \"protein_existence\": \"category\",\n",
    "    \"sequence\": \"string\",\n",
    "    \"organism_id\": \"int\",\n",
    "    \"go_ids\": \"string\",\n",
    "    \"keyword_ids\": \"string\",\n",
    "    \"keywords\": \"string\",\n",
    "    \"tcdb_ids\": \"string\",\n",
    "    \"interpro_ids\": \"string\",\n",
    "}\n",
    "\n",
    "df = pd.read_table(\n",
    "    \"../data/raw/uniprot/uniprot_2022_05_evidence1-2_nofragments.tsv\",\n",
    "    index_col=0,\n",
    "    header=None,\n",
    "    names=names, \n",
    "    dtype=dtypes,\n",
    "    skiprows=1\n",
    ")\n"
   ]
  },
  {
   "cell_type": "code",
   "execution_count": null,
   "metadata": {},
   "outputs": [],
   "source": []
  },
  {
   "attachments": {},
   "cell_type": "markdown",
   "metadata": {},
   "source": [
    "## Cleanup"
   ]
  },
  {
   "cell_type": "code",
   "execution_count": 59,
   "metadata": {},
   "outputs": [],
   "source": [
    "df.tcdb_ids = df.tcdb_ids.str.rstrip(\";\")"
   ]
  },
  {
   "cell_type": "code",
   "execution_count": 60,
   "metadata": {},
   "outputs": [
    {
     "name": "stdout",
     "output_type": "stream",
     "text": [
      "unreviewed    1530743\n",
      "reviewed       162964\n",
      "Name: reviewed, dtype: int64\n",
      "False    1530743\n",
      "True      162964\n",
      "Name: reviewed, dtype: int64\n"
     ]
    }
   ],
   "source": [
    "print(df.reviewed.value_counts())\n",
    "df.reviewed = df.reviewed.transform(lambda x: x == \"reviewed\").astype(\"bool\")\n",
    "print(df.reviewed.value_counts())"
   ]
  },
  {
   "cell_type": "code",
   "execution_count": 55,
   "metadata": {},
   "outputs": [
    {
     "data": {
      "text/plain": [
       "Evidence at transcript level    772752\n",
       "Evidence at protein level       249205\n",
       "Name: protein_existence, dtype: int64"
      ]
     },
     "execution_count": 55,
     "metadata": {},
     "output_type": "execute_result"
    }
   ],
   "source": [
    "df.protein_existence.value_counts()"
   ]
  },
  {
   "attachments": {},
   "cell_type": "markdown",
   "metadata": {},
   "source": [
    "### Filtering out proteins without gene names\n",
    "\n",
    "Apparently mostly peptides and pollen, no transporters"
   ]
  },
  {
   "cell_type": "code",
   "execution_count": 49,
   "metadata": {},
   "outputs": [
    {
     "name": "stdout",
     "output_type": "stream",
     "text": [
      "before 1021957\n",
      "after 1021957\n"
     ]
    }
   ],
   "source": [
    "print(\"before\", len(df))\n",
    "df = df[~df.gene_names.isnull()]\n",
    "print(\"after\", len(df))"
   ]
  },
  {
   "attachments": {},
   "cell_type": "markdown",
   "metadata": {},
   "source": [
    "### Parsing sequences"
   ]
  },
  {
   "cell_type": "code",
   "execution_count": 65,
   "metadata": {},
   "outputs": [
    {
     "name": "stdout",
     "output_type": "stream",
     "text": [
      "proteins with non-standard amino acids:\n"
     ]
    },
    {
     "data": {
      "text/plain": [
       "45718"
      ]
     },
     "execution_count": 65,
     "metadata": {},
     "output_type": "execute_result"
    }
   ],
   "source": [
    "import re\n",
    "\n",
    "print(\"proteins with non-standard amino acids:\")\n",
    "df[~df.sequence.str.fullmatch(re.compile(\"[ACDEFGHIKLMNPQRSTVWY]+\"))].shape[0]"
   ]
  },
  {
   "attachments": {},
   "cell_type": "markdown",
   "metadata": {},
   "source": [
    "Removing non-standard amino acids from sequences:"
   ]
  },
  {
   "cell_type": "code",
   "execution_count": 66,
   "metadata": {},
   "outputs": [],
   "source": [
    "df.sequence = df.sequence.str.replace(re.compile(\"[^ACDEFGHIKLMNPQRSTVWY]+\"), \"\")"
   ]
  },
  {
   "cell_type": "code",
   "execution_count": 68,
   "metadata": {},
   "outputs": [
    {
     "name": "stdout",
     "output_type": "stream",
     "text": [
      "proteins with non-standard amino acids:\n"
     ]
    },
    {
     "data": {
      "text/plain": [
       "0"
      ]
     },
     "execution_count": 68,
     "metadata": {},
     "output_type": "execute_result"
    }
   ],
   "source": [
    "print(\"proteins with non-standard amino acids:\")\n",
    "df[~df.sequence.str.fullmatch(re.compile(\"[ACDEFGHIKLMNPQRSTVWY]+\"))].shape[0]"
   ]
  },
  {
   "attachments": {},
   "cell_type": "markdown",
   "metadata": {},
   "source": [
    "## Annotation datasets"
   ]
  },
  {
   "attachments": {},
   "cell_type": "markdown",
   "metadata": {},
   "source": [
    "### Keywords"
   ]
  },
  {
   "attachments": {},
   "cell_type": "markdown",
   "metadata": {},
   "source": [
    "### Interpro Domains"
   ]
  },
  {
   "attachments": {},
   "cell_type": "markdown",
   "metadata": {},
   "source": [
    "### TCDB substrates"
   ]
  },
  {
   "attachments": {},
   "cell_type": "markdown",
   "metadata": {},
   "source": [
    "### GO"
   ]
  },
  {
   "attachments": {},
   "cell_type": "markdown",
   "metadata": {},
   "source": [
    "## Clustering"
   ]
  },
  {
   "cell_type": "code",
   "execution_count": 2,
   "metadata": {},
   "outputs": [
    {
     "name": "stdout",
     "output_type": "stream",
     "text": [
      "Reading text file...\n",
      "Overwriting existing pickle...\n",
      "cd-hit: clustered .......... sequences into finished clusters at threshold 70\n"
     ]
    }
   ],
   "source": [
    "# from subpred.dataset import create_dataset\n",
    "# df_uniprot = create_dataset(\n",
    "#     input_file=\"../data/raw/uniprot/uniprot_2022_05_evidence1-2_nofragments.tsv\",\n",
    "#     # keywords_classes = None,\n",
    "#     # keywords_classes_all = SUBSTRATE_KEYWORDS,\n",
    "#     # keywords_filter = None,\n",
    "#     multi_substrate=\"keep\",\n",
    "#     # outliers=outliers,\n",
    "#     verbose=True,\n",
    "#     # tax_ids_filter=[3702, 9606, 83333, 559292],\n",
    "#     evidence_code=2,\n",
    "#     invalid_amino_acids=\"remove_amino_acids\",\n",
    "#     # gene_names_only = True,\n",
    "#     # force_update=True,\n",
    "#     # remove_sequence_fragments = True,\n",
    "#     # force_update = True,\n",
    "#     tcdb_substrates_file=\"../data/raw/tcdb/tcdb_substrates.tsv\",\n",
    "#     swissprot_only=False,\n",
    "#     sequence_clustering=70,\n",
    "# )\n",
    "# TODO dtypes, take apart, mmseqs2\n",
    "\n",
    "# TODO categories in dataset py, rework script there\n",
    "#     - use read_pickle function. \n",
    "#     - No more keywords"
   ]
  },
  {
   "cell_type": "code",
   "execution_count": 6,
   "metadata": {},
   "outputs": [
    {
     "data": {
      "text/plain": [
       "Index(['gene_names', 'protein_names', 'reviewed', 'protein_existence',\n",
       "       'sequence', 'organism_id', 'go_ids', 'keyword_ids', 'keywords',\n",
       "       'tcdb_id', 'interpro', 'tcdb_class', 'tcdb_substrates',\n",
       "       'keywords_substrates', 'keywords_transport_related',\n",
       "       'keywords_location'],\n",
       "      dtype='object')"
      ]
     },
     "execution_count": 6,
     "metadata": {},
     "output_type": "execute_result"
    }
   ],
   "source": [
    "df_uniprot.columns"
   ]
  }
 ],
 "metadata": {
  "kernelspec": {
   "display_name": "subpred4",
   "language": "python",
   "name": "python3"
  },
  "language_info": {
   "codemirror_mode": {
    "name": "ipython",
    "version": 3
   },
   "file_extension": ".py",
   "mimetype": "text/x-python",
   "name": "python",
   "nbconvert_exporter": "python",
   "pygments_lexer": "ipython3",
   "version": "3.10.8"
  },
  "orig_nbformat": 4,
  "vscode": {
   "interpreter": {
    "hash": "ec8de6dd8f2d395005c42468f5d13cdd089376f2ad37eab4b2481f4d8703f0b2"
   }
  }
 },
 "nbformat": 4,
 "nbformat_minor": 2
}
