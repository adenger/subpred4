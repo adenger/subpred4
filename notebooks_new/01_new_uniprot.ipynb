{
 "cells": [
  {
   "cell_type": "code",
   "execution_count": 57,
   "metadata": {},
   "outputs": [],
   "source": [
    "# !python3 ../subpred/uniprot_downloader.py \"https://rest.uniprot.org/uniprotkb/search?compressed=false&fields=accession%2Cgene_names%2Cprotein_name%2Creviewed%2Cprotein_existence%2Csequence%2Corganism_id%2Cgo_id%2Ckeywordid%2Ckeyword%2Cxref_tcdb%2Cxref_interpro&format=tsv&query=%28%28fragment%3Afalse%29%20AND%20%28existence%3A1%29%20OR%20%28existence%3A2%29%29&size=500\" \"../data/raw/uniprot/uniprot_2022_05_evidence1-2_nofragments.tsv\"\n"
   ]
  },
  {
   "cell_type": "code",
   "execution_count": 58,
   "metadata": {},
   "outputs": [],
   "source": [
    "import pandas as pd\n",
    "\n",
    "names = [\n",
    "    \"Uniprot\",\n",
    "    \"gene_names\",\n",
    "    \"protein_names\",\n",
    "    \"reviewed\",\n",
    "    \"protein_existence\",\n",
    "    \"sequence\",\n",
    "    \"organism_id\",\n",
    "    \"go_ids\",\n",
    "    \"keyword_ids\",\n",
    "    \"keywords\",\n",
    "    \"tcdb_ids\",\n",
    "    \"interpro_ids\",\n",
    "]\n",
    "dtypes = {\n",
    "    \"Uniprot\": \"string\",\n",
    "    \"gene_names\": \"string\",\n",
    "    \"protein_names\": \"string\",\n",
    "    \"reviewed\": \"category\",\n",
    "    \"protein_existence\": \"category\",\n",
    "    \"sequence\": \"string\",\n",
    "    \"organism_id\": \"int\",\n",
    "    \"go_ids\": \"string\",\n",
    "    \"keyword_ids\": \"string\",\n",
    "    \"keywords\": \"string\",\n",
    "    \"tcdb_ids\": \"string\",\n",
    "    \"interpro_ids\": \"string\",\n",
    "}\n",
    "\n",
    "df = pd.read_table(\n",
    "    \"../data/raw/uniprot/uniprot_2022_05_evidence1-2_nofragments.tsv\",\n",
    "    index_col=0,\n",
    "    header=None,\n",
    "    names=names,\n",
    "    dtype=dtypes,\n",
    "    skiprows=1,\n",
    ")\n"
   ]
  },
  {
   "cell_type": "code",
   "execution_count": null,
   "metadata": {},
   "outputs": [],
   "source": []
  },
  {
   "attachments": {},
   "cell_type": "markdown",
   "metadata": {},
   "source": [
    "## Cleanup"
   ]
  },
  {
   "cell_type": "code",
   "execution_count": 59,
   "metadata": {},
   "outputs": [],
   "source": [
    "df.tcdb_ids = df.tcdb_ids.str.rstrip(\";\")\n"
   ]
  },
  {
   "cell_type": "code",
   "execution_count": 60,
   "metadata": {},
   "outputs": [
    {
     "name": "stdout",
     "output_type": "stream",
     "text": [
      "unreviewed    1530743\n",
      "reviewed       162964\n",
      "Name: reviewed, dtype: int64\n",
      "False    1530743\n",
      "True      162964\n",
      "Name: reviewed, dtype: int64\n"
     ]
    }
   ],
   "source": [
    "print(df.reviewed.value_counts())\n",
    "df.reviewed = df.reviewed.transform(lambda x: x == \"reviewed\").astype(\"bool\")\n",
    "print(df.reviewed.value_counts())\n"
   ]
  },
  {
   "cell_type": "code",
   "execution_count": 55,
   "metadata": {},
   "outputs": [
    {
     "data": {
      "text/plain": [
       "Evidence at transcript level    772752\n",
       "Evidence at protein level       249205\n",
       "Name: protein_existence, dtype: int64"
      ]
     },
     "execution_count": 55,
     "metadata": {},
     "output_type": "execute_result"
    }
   ],
   "source": [
    "df.protein_existence.value_counts()\n"
   ]
  },
  {
   "attachments": {},
   "cell_type": "markdown",
   "metadata": {},
   "source": [
    "### Filtering out proteins without gene names\n",
    "\n",
    "Apparently mostly peptides and pollen, no transporters"
   ]
  },
  {
   "cell_type": "code",
   "execution_count": 49,
   "metadata": {},
   "outputs": [
    {
     "name": "stdout",
     "output_type": "stream",
     "text": [
      "before 1021957\n",
      "after 1021957\n"
     ]
    }
   ],
   "source": [
    "print(\"before\", len(df))\n",
    "df = df[~df.gene_names.isnull()]\n",
    "print(\"after\", len(df))\n"
   ]
  },
  {
   "attachments": {},
   "cell_type": "markdown",
   "metadata": {},
   "source": [
    "### Parsing sequences"
   ]
  },
  {
   "cell_type": "code",
   "execution_count": 65,
   "metadata": {},
   "outputs": [
    {
     "name": "stdout",
     "output_type": "stream",
     "text": [
      "proteins with non-standard amino acids:\n"
     ]
    },
    {
     "data": {
      "text/plain": [
       "45718"
      ]
     },
     "execution_count": 65,
     "metadata": {},
     "output_type": "execute_result"
    }
   ],
   "source": [
    "import re\n",
    "\n",
    "print(\"proteins with non-standard amino acids:\")\n",
    "df[~df.sequence.str.fullmatch(re.compile(\"[ACDEFGHIKLMNPQRSTVWY]+\"))].shape[0]\n"
   ]
  },
  {
   "attachments": {},
   "cell_type": "markdown",
   "metadata": {},
   "source": [
    "Removing non-standard amino acids from sequences:"
   ]
  },
  {
   "cell_type": "code",
   "execution_count": 66,
   "metadata": {},
   "outputs": [],
   "source": [
    "df.sequence = df.sequence.str.replace(re.compile(\"[^ACDEFGHIKLMNPQRSTVWY]+\"), \"\")\n"
   ]
  },
  {
   "cell_type": "code",
   "execution_count": 68,
   "metadata": {},
   "outputs": [
    {
     "name": "stdout",
     "output_type": "stream",
     "text": [
      "proteins with non-standard amino acids:\n"
     ]
    },
    {
     "data": {
      "text/plain": [
       "0"
      ]
     },
     "execution_count": 68,
     "metadata": {},
     "output_type": "execute_result"
    }
   ],
   "source": [
    "print(\"proteins with non-standard amino acids:\")\n",
    "df[~df.sequence.str.fullmatch(re.compile(\"[ACDEFGHIKLMNPQRSTVWY]+\"))].shape[0]\n"
   ]
  },
  {
   "attachments": {},
   "cell_type": "markdown",
   "metadata": {},
   "source": [
    "## Annotation datasets"
   ]
  },
  {
   "attachments": {},
   "cell_type": "markdown",
   "metadata": {},
   "source": [
    "### Keywords"
   ]
  },
  {
   "cell_type": "code",
   "execution_count": 91,
   "metadata": {},
   "outputs": [
    {
     "data": {
      "text/html": [
       "<div>\n",
       "<style scoped>\n",
       "    .dataframe tbody tr th:only-of-type {\n",
       "        vertical-align: middle;\n",
       "    }\n",
       "\n",
       "    .dataframe tbody tr th {\n",
       "        vertical-align: top;\n",
       "    }\n",
       "\n",
       "    .dataframe thead th {\n",
       "        text-align: right;\n",
       "    }\n",
       "</style>\n",
       "<table border=\"1\" class=\"dataframe\">\n",
       "  <thead>\n",
       "    <tr style=\"text-align: right;\">\n",
       "      <th></th>\n",
       "      <th>keyword</th>\n",
       "    </tr>\n",
       "    <tr>\n",
       "      <th>Uniprot</th>\n",
       "      <th></th>\n",
       "    </tr>\n",
       "  </thead>\n",
       "  <tbody>\n",
       "    <tr>\n",
       "      <th>A0A0C5B5G6</th>\n",
       "      <td>DNA-binding</td>\n",
       "    </tr>\n",
       "    <tr>\n",
       "      <th>A0A0C5B5G6</th>\n",
       "      <td>Mitochondrion</td>\n",
       "    </tr>\n",
       "    <tr>\n",
       "      <th>A0A0C5B5G6</th>\n",
       "      <td>Nucleus</td>\n",
       "    </tr>\n",
       "    <tr>\n",
       "      <th>A0A0C5B5G6</th>\n",
       "      <td>Osteogenesis</td>\n",
       "    </tr>\n",
       "    <tr>\n",
       "      <th>A0A0C5B5G6</th>\n",
       "      <td>Reference proteome</td>\n",
       "    </tr>\n",
       "    <tr>\n",
       "      <th>...</th>\n",
       "      <td>...</td>\n",
       "    </tr>\n",
       "    <tr>\n",
       "      <th>P15556</th>\n",
       "      <td>Inhibition of host DNA replication by virus</td>\n",
       "    </tr>\n",
       "    <tr>\n",
       "      <th>Q8JL78</th>\n",
       "      <td>Actin-dependent inwards viral transport</td>\n",
       "    </tr>\n",
       "    <tr>\n",
       "      <th>P26948</th>\n",
       "      <td>Capsule</td>\n",
       "    </tr>\n",
       "    <tr>\n",
       "      <th>A0A0A0MQU7</th>\n",
       "      <td>Proteomics identification</td>\n",
       "    </tr>\n",
       "    <tr>\n",
       "      <th>B5A4F2</th>\n",
       "      <td>Nucleomorph</td>\n",
       "    </tr>\n",
       "  </tbody>\n",
       "</table>\n",
       "<p>1176 rows × 1 columns</p>\n",
       "</div>"
      ],
      "text/plain": [
       "                                                keyword\n",
       "Uniprot                                                \n",
       "A0A0C5B5G6                                  DNA-binding\n",
       "A0A0C5B5G6                                Mitochondrion\n",
       "A0A0C5B5G6                                      Nucleus\n",
       "A0A0C5B5G6                                 Osteogenesis\n",
       "A0A0C5B5G6                           Reference proteome\n",
       "...                                                 ...\n",
       "P15556      Inhibition of host DNA replication by virus\n",
       "Q8JL78          Actin-dependent inwards viral transport\n",
       "P26948                                          Capsule\n",
       "A0A0A0MQU7                    Proteomics identification\n",
       "B5A4F2                                      Nucleomorph\n",
       "\n",
       "[1176 rows x 1 columns]"
      ]
     },
     "execution_count": 91,
     "metadata": {},
     "output_type": "execute_result"
    }
   ],
   "source": [
    "df_keywords = (\n",
    "    df.keywords.dropna()\n",
    "    .str.split(\";\")\n",
    "    .explode()\n",
    "    .str.strip()\n",
    "    .drop_duplicates()\n",
    "    .astype(\"category\")\n",
    "    .rename(\"keyword\")\n",
    "    .to_frame()\n",
    ")\n",
    "df_keywords\n"
   ]
  },
  {
   "attachments": {},
   "cell_type": "markdown",
   "metadata": {},
   "source": [
    "There are keyword ids as well, but their order does not match that of the keyword strings column:"
   ]
  },
  {
   "cell_type": "code",
   "execution_count": 70,
   "metadata": {},
   "outputs": [
    {
     "data": {
      "text/plain": [
       "Uniprot\n",
       "A0A0C5B5G6    KW-0238\n",
       "A0A0C5B5G6    KW-0496\n",
       "A0A0C5B5G6    KW-0539\n",
       "A0A0C5B5G6    KW-0892\n",
       "A0A0C5B5G6    KW-1185\n",
       "               ...   \n",
       "X5MPI4        KW-0378\n",
       "X5MPI4        KW-0645\n",
       "X5MPI4        KW-0720\n",
       "X5MPI4        KW-0732\n",
       "X5MPI5        KW-0808\n",
       "Name: keyword_ids, Length: 7456053, dtype: object"
      ]
     },
     "execution_count": 70,
     "metadata": {},
     "output_type": "execute_result"
    }
   ],
   "source": [
    "df.keyword_ids.str.split(\";\").explode().str.strip()\n"
   ]
  },
  {
   "attachments": {},
   "cell_type": "markdown",
   "metadata": {},
   "source": [
    "### Interpro Domains"
   ]
  },
  {
   "cell_type": "code",
   "execution_count": 92,
   "metadata": {},
   "outputs": [],
   "source": [
    "df_interpro = (\n",
    "    df.interpro_ids.dropna()\n",
    "    .str.rstrip(\";\")\n",
    "    .str.split(\";\")\n",
    "    .explode()\n",
    "    .drop_duplicates()\n",
    "    .rename(\"interpro_id\")\n",
    "    .to_frame()\n",
    ")\n",
    "df_interpro"
   ]
  },
  {
   "attachments": {},
   "cell_type": "markdown",
   "metadata": {},
   "source": [
    "### TCDB substrates"
   ]
  },
  {
   "cell_type": "code",
   "execution_count": null,
   "metadata": {},
   "outputs": [],
   "source": [
    "!curl \"https://tcdb.org/cgi-bin/substrates/getSubstrates.py\" > data/raw/tcdb/tcdb_substrates.tsv"
   ]
  },
  {
   "cell_type": "code",
   "execution_count": 97,
   "metadata": {},
   "outputs": [
    {
     "data": {
      "text/html": [
       "<div>\n",
       "<style scoped>\n",
       "    .dataframe tbody tr th:only-of-type {\n",
       "        vertical-align: middle;\n",
       "    }\n",
       "\n",
       "    .dataframe tbody tr th {\n",
       "        vertical-align: top;\n",
       "    }\n",
       "\n",
       "    .dataframe thead th {\n",
       "        text-align: right;\n",
       "    }\n",
       "</style>\n",
       "<table border=\"1\" class=\"dataframe\">\n",
       "  <thead>\n",
       "    <tr style=\"text-align: right;\">\n",
       "      <th></th>\n",
       "      <th>tcdb_id</th>\n",
       "      <th>tcdb_substrates</th>\n",
       "    </tr>\n",
       "  </thead>\n",
       "  <tbody>\n",
       "    <tr>\n",
       "      <th>0</th>\n",
       "      <td>2.A.52.2.2</td>\n",
       "      <td>CHEBI:23337;cobalt(2+)|CHEBI:25517;nickel(2+)</td>\n",
       "    </tr>\n",
       "    <tr>\n",
       "      <th>1</th>\n",
       "      <td>2.A.22.2.5</td>\n",
       "      <td>CHEBI:9175;sodium(1+)|CHEBI:8345;potassium(1+)</td>\n",
       "    </tr>\n",
       "    <tr>\n",
       "      <th>2</th>\n",
       "      <td>2.A.90.2.4</td>\n",
       "      <td>CHEBI:8816;all-trans-retinol</td>\n",
       "    </tr>\n",
       "    <tr>\n",
       "      <th>3</th>\n",
       "      <td>2.A.29.23.1</td>\n",
       "      <td>CHEBI:6635;magnesium(2+)|CHEBI:7793;phosphate(...</td>\n",
       "    </tr>\n",
       "    <tr>\n",
       "      <th>4</th>\n",
       "      <td>5.B.6.1.3</td>\n",
       "      <td>CHEBI:10545;electron</td>\n",
       "    </tr>\n",
       "    <tr>\n",
       "      <th>...</th>\n",
       "      <td>...</td>\n",
       "      <td>...</td>\n",
       "    </tr>\n",
       "    <tr>\n",
       "      <th>8436</th>\n",
       "      <td>2.A.30.5.5</td>\n",
       "      <td>CHEBI:32588;potassium chloride</td>\n",
       "    </tr>\n",
       "    <tr>\n",
       "      <th>8437</th>\n",
       "      <td>1.H.1.1.17</td>\n",
       "      <td>CHEBI:3473;cation</td>\n",
       "    </tr>\n",
       "    <tr>\n",
       "      <th>8438</th>\n",
       "      <td>8.A.139.2.2</td>\n",
       "      <td>CHEBI:7990;peptide</td>\n",
       "    </tr>\n",
       "    <tr>\n",
       "      <th>8439</th>\n",
       "      <td>1.B.6.2.13</td>\n",
       "      <td>CHEBI:25367;molecule</td>\n",
       "    </tr>\n",
       "    <tr>\n",
       "      <th>8440</th>\n",
       "      <td>2.A.66.1.20</td>\n",
       "      <td>CHEBI:5584;hydron|CHEBI:23888;drug</td>\n",
       "    </tr>\n",
       "  </tbody>\n",
       "</table>\n",
       "<p>8441 rows × 2 columns</p>\n",
       "</div>"
      ],
      "text/plain": [
       "          tcdb_id                                    tcdb_substrates\n",
       "0      2.A.52.2.2      CHEBI:23337;cobalt(2+)|CHEBI:25517;nickel(2+)\n",
       "1      2.A.22.2.5     CHEBI:9175;sodium(1+)|CHEBI:8345;potassium(1+)\n",
       "2      2.A.90.2.4                       CHEBI:8816;all-trans-retinol\n",
       "3     2.A.29.23.1  CHEBI:6635;magnesium(2+)|CHEBI:7793;phosphate(...\n",
       "4       5.B.6.1.3                               CHEBI:10545;electron\n",
       "...           ...                                                ...\n",
       "8436   2.A.30.5.5                     CHEBI:32588;potassium chloride\n",
       "8437   1.H.1.1.17                                  CHEBI:3473;cation\n",
       "8438  8.A.139.2.2                                 CHEBI:7990;peptide\n",
       "8439   1.B.6.2.13                               CHEBI:25367;molecule\n",
       "8440  2.A.66.1.20                 CHEBI:5584;hydron|CHEBI:23888;drug\n",
       "\n",
       "[8441 rows x 2 columns]"
      ]
     },
     "execution_count": 97,
     "metadata": {},
     "output_type": "execute_result"
    }
   ],
   "source": [
    "df_substrates = pd.read_table(\"../data/raw/tcdb/tcdb_substrates.tsv\", header=None, names=[\"tcdb_id\", \"tcdb_substrates\"])\n",
    "df_substrates\n",
    "\n",
    "\n",
    "# df.tcdb_ids\n",
    "\n",
    "# add uniprot accessions\n",
    "# df_substrates = df_substrates.merge(\n",
    "#     df.tcdb_id.to_frame().reset_index(drop=False), how=\"left\", on=\"tcdb_id\"\n",
    "# )\n",
    "# df_substrates = df_substrates.drop(\"tcdb_id\", axis=1)\n",
    "# df_substrates = df_substrates[~df_substrates.Uniprot.isnull()]\n",
    "# df_substrates = df_substrates.set_index(\"Uniprot\", drop=True)"
   ]
  },
  {
   "attachments": {},
   "cell_type": "markdown",
   "metadata": {},
   "source": [
    "### GO"
   ]
  },
  {
   "cell_type": "code",
   "execution_count": null,
   "metadata": {},
   "outputs": [],
   "source": []
  },
  {
   "attachments": {},
   "cell_type": "markdown",
   "metadata": {},
   "source": [
    "## Clustering"
   ]
  },
  {
   "cell_type": "code",
   "execution_count": 2,
   "metadata": {},
   "outputs": [
    {
     "name": "stdout",
     "output_type": "stream",
     "text": [
      "Reading text file...\n",
      "Overwriting existing pickle...\n",
      "cd-hit: clustered .......... sequences into finished clusters at threshold 70\n"
     ]
    }
   ],
   "source": [
    "# from subpred.dataset import create_dataset\n",
    "# df_uniprot = create_dataset(\n",
    "#     input_file=\"../data/raw/uniprot/uniprot_2022_05_evidence1-2_nofragments.tsv\",\n",
    "#     # keywords_classes = None,\n",
    "#     # keywords_classes_all = SUBSTRATE_KEYWORDS,\n",
    "#     # keywords_filter = None,\n",
    "#     multi_substrate=\"keep\",\n",
    "#     # outliers=outliers,\n",
    "#     verbose=True,\n",
    "#     # tax_ids_filter=[3702, 9606, 83333, 559292],\n",
    "#     evidence_code=2,\n",
    "#     invalid_amino_acids=\"remove_amino_acids\",\n",
    "#     # gene_names_only = True,\n",
    "#     # force_update=True,\n",
    "#     # remove_sequence_fragments = True,\n",
    "#     # force_update = True,\n",
    "#     tcdb_substrates_file=\"../data/raw/tcdb/tcdb_substrates.tsv\",\n",
    "#     swissprot_only=False,\n",
    "#     sequence_clustering=70,\n",
    "# )\n",
    "# TODO dtypes, take apart, mmseqs2\n",
    "\n",
    "# TODO categories in dataset py, rework script there\n",
    "#     - use read_pickle function.\n",
    "#     - No more keywords\n"
   ]
  },
  {
   "attachments": {},
   "cell_type": "markdown",
   "metadata": {},
   "source": [
    "## Removing unnecessary columns\n",
    "\n",
    "Since they are in other datasets"
   ]
  },
  {
   "cell_type": "code",
   "execution_count": 79,
   "metadata": {},
   "outputs": [
    {
     "data": {
      "text/html": [
       "<div>\n",
       "<style scoped>\n",
       "    .dataframe tbody tr th:only-of-type {\n",
       "        vertical-align: middle;\n",
       "    }\n",
       "\n",
       "    .dataframe tbody tr th {\n",
       "        vertical-align: top;\n",
       "    }\n",
       "\n",
       "    .dataframe thead th {\n",
       "        text-align: right;\n",
       "    }\n",
       "</style>\n",
       "<table border=\"1\" class=\"dataframe\">\n",
       "  <thead>\n",
       "    <tr style=\"text-align: right;\">\n",
       "      <th></th>\n",
       "      <th>gene_names</th>\n",
       "      <th>protein_names</th>\n",
       "      <th>reviewed</th>\n",
       "      <th>protein_existence</th>\n",
       "      <th>sequence</th>\n",
       "      <th>organism_id</th>\n",
       "    </tr>\n",
       "    <tr>\n",
       "      <th>Uniprot</th>\n",
       "      <th></th>\n",
       "      <th></th>\n",
       "      <th></th>\n",
       "      <th></th>\n",
       "      <th></th>\n",
       "      <th></th>\n",
       "    </tr>\n",
       "  </thead>\n",
       "  <tbody>\n",
       "    <tr>\n",
       "      <th>A0A0C5B5G6</th>\n",
       "      <td>MT-RNR1</td>\n",
       "      <td>Mitochondrial-derived peptide MOTS-c (Mitochon...</td>\n",
       "      <td>True</td>\n",
       "      <td>Evidence at protein level</td>\n",
       "      <td>MRWQEMGYIFYPRKLR</td>\n",
       "      <td>9606</td>\n",
       "    </tr>\n",
       "    <tr>\n",
       "      <th>A0A1B0GTW7</th>\n",
       "      <td>CIROP LMLN2</td>\n",
       "      <td>Ciliated left-right organizer metallopeptidase...</td>\n",
       "      <td>True</td>\n",
       "      <td>Evidence at protein level</td>\n",
       "      <td>MLLLLLLLLLLPPLVLRVAASRCLHDETQKSVSLLRPPFSQLPSKS...</td>\n",
       "      <td>9606</td>\n",
       "    </tr>\n",
       "    <tr>\n",
       "      <th>A0JNW5</th>\n",
       "      <td>BLTP3B KIAA0701 SHIP164 UHRF1BP1L</td>\n",
       "      <td>Bridge-like lipid transfer protein family memb...</td>\n",
       "      <td>True</td>\n",
       "      <td>Evidence at protein level</td>\n",
       "      <td>MAGIIKKQILKHLSRFTKNLSPDKINLSTLKGEGELKNLELDEEVL...</td>\n",
       "      <td>9606</td>\n",
       "    </tr>\n",
       "    <tr>\n",
       "      <th>A0JP26</th>\n",
       "      <td>POTEB3</td>\n",
       "      <td>POTE ankyrin domain family member B3</td>\n",
       "      <td>True</td>\n",
       "      <td>Evidence at protein level</td>\n",
       "      <td>MVAEVCSMPAASAVKKPFDLRSKMGKWCHHRFPCCRGSGKSNMGTS...</td>\n",
       "      <td>9606</td>\n",
       "    </tr>\n",
       "    <tr>\n",
       "      <th>A0PK11</th>\n",
       "      <td>CLRN2</td>\n",
       "      <td>Clarin-2</td>\n",
       "      <td>True</td>\n",
       "      <td>Evidence at protein level</td>\n",
       "      <td>MPGWFKKAWYGLASLLSFSSFILIIVALVVPHWLSGKILCQTGVDL...</td>\n",
       "      <td>9606</td>\n",
       "    </tr>\n",
       "    <tr>\n",
       "      <th>...</th>\n",
       "      <td>...</td>\n",
       "      <td>...</td>\n",
       "      <td>...</td>\n",
       "      <td>...</td>\n",
       "      <td>...</td>\n",
       "      <td>...</td>\n",
       "    </tr>\n",
       "    <tr>\n",
       "      <th>X5MPI1</th>\n",
       "      <td>&lt;NA&gt;</td>\n",
       "      <td>Trypsin 1C</td>\n",
       "      <td>False</td>\n",
       "      <td>Evidence at transcript level</td>\n",
       "      <td>MVLLLAVALCSASTYPLVRPIPAGRDLRSRLDGRIVGGSAVSISQY...</td>\n",
       "      <td>7004</td>\n",
       "    </tr>\n",
       "    <tr>\n",
       "      <th>X5MPI2</th>\n",
       "      <td>&lt;NA&gt;</td>\n",
       "      <td>Chymotrypsin 2</td>\n",
       "      <td>False</td>\n",
       "      <td>Evidence at transcript level</td>\n",
       "      <td>MQLAVFLFCLLGSALALPKARMWTRDESRIIGGSNADIADYPWQLS...</td>\n",
       "      <td>7004</td>\n",
       "    </tr>\n",
       "    <tr>\n",
       "      <th>X5MPI3</th>\n",
       "      <td>&lt;NA&gt;</td>\n",
       "      <td>Chymotrypsin 7</td>\n",
       "      <td>False</td>\n",
       "      <td>Evidence at transcript level</td>\n",
       "      <td>AGLLFTLAGCVWVRGSHAPLVHSGKWLGAAGGRIVGGRTPYSGSSV...</td>\n",
       "      <td>7004</td>\n",
       "    </tr>\n",
       "    <tr>\n",
       "      <th>X5MPI4</th>\n",
       "      <td>&lt;NA&gt;</td>\n",
       "      <td>Chymotrypsin 12</td>\n",
       "      <td>False</td>\n",
       "      <td>Evidence at transcript level</td>\n",
       "      <td>MMRQTVLVLALAACVFAAELPIRRVPHSGPQRKFGLKHGRIVGGSD...</td>\n",
       "      <td>7004</td>\n",
       "    </tr>\n",
       "    <tr>\n",
       "      <th>X5MPI5</th>\n",
       "      <td>GT34C</td>\n",
       "      <td>Xyloglucan alpha-1,6-xylosyltransferase</td>\n",
       "      <td>False</td>\n",
       "      <td>Evidence at transcript level</td>\n",
       "      <td>MRESVKRGLPSVRGPANGRSLALPKARSIQKTFNNLKITILCGFVT...</td>\n",
       "      <td>3352</td>\n",
       "    </tr>\n",
       "  </tbody>\n",
       "</table>\n",
       "<p>1693707 rows × 6 columns</p>\n",
       "</div>"
      ],
      "text/plain": [
       "                                   gene_names  \\\n",
       "Uniprot                                         \n",
       "A0A0C5B5G6                            MT-RNR1   \n",
       "A0A1B0GTW7                        CIROP LMLN2   \n",
       "A0JNW5      BLTP3B KIAA0701 SHIP164 UHRF1BP1L   \n",
       "A0JP26                                 POTEB3   \n",
       "A0PK11                                  CLRN2   \n",
       "...                                       ...   \n",
       "X5MPI1                                   <NA>   \n",
       "X5MPI2                                   <NA>   \n",
       "X5MPI3                                   <NA>   \n",
       "X5MPI4                                   <NA>   \n",
       "X5MPI5                                  GT34C   \n",
       "\n",
       "                                                protein_names  reviewed  \\\n",
       "Uniprot                                                                   \n",
       "A0A0C5B5G6  Mitochondrial-derived peptide MOTS-c (Mitochon...      True   \n",
       "A0A1B0GTW7  Ciliated left-right organizer metallopeptidase...      True   \n",
       "A0JNW5      Bridge-like lipid transfer protein family memb...      True   \n",
       "A0JP26                   POTE ankyrin domain family member B3      True   \n",
       "A0PK11                                               Clarin-2      True   \n",
       "...                                                       ...       ...   \n",
       "X5MPI1                                             Trypsin 1C     False   \n",
       "X5MPI2                                         Chymotrypsin 2     False   \n",
       "X5MPI3                                         Chymotrypsin 7     False   \n",
       "X5MPI4                                        Chymotrypsin 12     False   \n",
       "X5MPI5                Xyloglucan alpha-1,6-xylosyltransferase     False   \n",
       "\n",
       "                       protein_existence  \\\n",
       "Uniprot                                    \n",
       "A0A0C5B5G6     Evidence at protein level   \n",
       "A0A1B0GTW7     Evidence at protein level   \n",
       "A0JNW5         Evidence at protein level   \n",
       "A0JP26         Evidence at protein level   \n",
       "A0PK11         Evidence at protein level   \n",
       "...                                  ...   \n",
       "X5MPI1      Evidence at transcript level   \n",
       "X5MPI2      Evidence at transcript level   \n",
       "X5MPI3      Evidence at transcript level   \n",
       "X5MPI4      Evidence at transcript level   \n",
       "X5MPI5      Evidence at transcript level   \n",
       "\n",
       "                                                     sequence  organism_id  \n",
       "Uniprot                                                                     \n",
       "A0A0C5B5G6                                   MRWQEMGYIFYPRKLR         9606  \n",
       "A0A1B0GTW7  MLLLLLLLLLLPPLVLRVAASRCLHDETQKSVSLLRPPFSQLPSKS...         9606  \n",
       "A0JNW5      MAGIIKKQILKHLSRFTKNLSPDKINLSTLKGEGELKNLELDEEVL...         9606  \n",
       "A0JP26      MVAEVCSMPAASAVKKPFDLRSKMGKWCHHRFPCCRGSGKSNMGTS...         9606  \n",
       "A0PK11      MPGWFKKAWYGLASLLSFSSFILIIVALVVPHWLSGKILCQTGVDL...         9606  \n",
       "...                                                       ...          ...  \n",
       "X5MPI1      MVLLLAVALCSASTYPLVRPIPAGRDLRSRLDGRIVGGSAVSISQY...         7004  \n",
       "X5MPI2      MQLAVFLFCLLGSALALPKARMWTRDESRIIGGSNADIADYPWQLS...         7004  \n",
       "X5MPI3      AGLLFTLAGCVWVRGSHAPLVHSGKWLGAAGGRIVGGRTPYSGSSV...         7004  \n",
       "X5MPI4      MMRQTVLVLALAACVFAAELPIRRVPHSGPQRKFGLKHGRIVGGSD...         7004  \n",
       "X5MPI5      MRESVKRGLPSVRGPANGRSLALPKARSIQKTFNNLKITILCGFVT...         3352  \n",
       "\n",
       "[1693707 rows x 6 columns]"
      ]
     },
     "execution_count": 79,
     "metadata": {},
     "output_type": "execute_result"
    }
   ],
   "source": [
    "# TODO\n",
    "df.drop(\n",
    "    [\"go_ids\", \"keyword_ids\", \"keywords\", \"tcdb_ids\", \"interpro_ids\"], axis=1\n",
    ").to_pickle(\"\")\n"
   ]
  }
 ],
 "metadata": {
  "kernelspec": {
   "display_name": "subpred4",
   "language": "python",
   "name": "python3"
  },
  "language_info": {
   "codemirror_mode": {
    "name": "ipython",
    "version": 3
   },
   "file_extension": ".py",
   "mimetype": "text/x-python",
   "name": "python",
   "nbconvert_exporter": "python",
   "pygments_lexer": "ipython3",
   "version": "3.10.8"
  },
  "orig_nbformat": 4,
  "vscode": {
   "interpreter": {
    "hash": "ec8de6dd8f2d395005c42468f5d13cdd089376f2ad37eab4b2481f4d8703f0b2"
   }
  }
 },
 "nbformat": 4,
 "nbformat_minor": 2
}
