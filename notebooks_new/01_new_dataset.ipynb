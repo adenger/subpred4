{
 "cells": [
  {
   "attachments": {},
   "cell_type": "markdown",
   "metadata": {},
   "source": [
    "### Download data\n",
    "\n",
    "- Lower file size from 17GB to 1.5GB\n",
    "    - Remove some unnecessary data\n",
    "    - Compress as xz "
   ]
  },
  {
   "cell_type": "code",
   "execution_count": 15,
   "metadata": {},
   "outputs": [],
   "source": [
    "# !wget https://ftp.ebi.ac.uk/pub/databases/GO/goa/UNIPROT/goa_uniprot_all.gaf.gz  -O goa_uniprot_all_ebi.gaf.gz.download\n",
    "# !mv goa_uniprot_all_ebi.gaf.gz.download goa_uniprot_all_ebi.gaf.gz\n",
    "# !gunzip -c goa_uniprot_all_ebi.gaf.gz | awk 'BEGIN {OFS=\"\\t\";FS=\"\\t\"} ($1 == \"UniProtKB\") {print $2,$4,$5,$7,$9,$14}' | sort -u | xz -T0 > goa_uniprot_all_ebi_filtered.tsv.xz.tmp\n",
    "# !mv goa_uniprot_all_ebi_filtered.tsv.xz.tmp ../data/raw/gene_ontology/goa_uniprot_all_ebi_filtered.tsv.xz"
   ]
  },
  {
   "cell_type": "code",
   "execution_count": null,
   "metadata": {},
   "outputs": [],
   "source": [
    "# TODO oneliner, did it work now?\n",
    "\n",
    "# wget https://ftp.ebi.ac.uk/pub/databases/GO/goa/UNIPROT/goa_uniprot_all.gaf.gz -O - | gunzip -c | awk 'BEGIN {OFS=\"\\t\";FS=\"\\t\"} ($1 == \"UniProtKB\") {print $2,$4,$5,$7,$9,$14}' | sort -u | xz -T0 > goa_uniprot_all_ebi_filtered.tsv.xz"
   ]
  },
  {
   "attachments": {},
   "cell_type": "markdown",
   "metadata": {},
   "source": [
    "### Read into pandas\n",
    "\n",
    "Using optimized dtypes to save space"
   ]
  },
  {
   "cell_type": "code",
   "execution_count": 17,
   "metadata": {},
   "outputs": [],
   "source": [
    "import pandas as pd\n",
    "from subpred.util import save_df\n",
    "DATASET_FOLDER = \"../data/datasets\""
   ]
  },
  {
   "cell_type": "code",
   "execution_count": 18,
   "metadata": {},
   "outputs": [],
   "source": [
    "df_go_ebi = pd.read_table(\n",
    "    \"../data/raw/gene_ontology/goa_uniprot_all_ebi_filtered.tsv.xz\",\n",
    "    # force_update=True,\n",
    "    header=None,\n",
    "    names=[\"Uniprot\", \"qualifier\", \"go_id\", \"evidence_code\", \"aspect\", \"date\"],\n",
    "    dtype={\n",
    "        \"Uniprot\": \"string\",\n",
    "        \"qualifier\": \"category\",\n",
    "        \"go_id\": \"string\",\n",
    "        \"evidence_code\": \"category\",\n",
    "        \"aspect\": \"category\",\n",
    "        \"date\": \"int\",\n",
    "    },\n",
    "    # parse_dates=[\"date\"],\n",
    ")\n"
   ]
  },
  {
   "cell_type": "code",
   "execution_count": null,
   "metadata": {},
   "outputs": [],
   "source": [
    "print(df_go_ebi.shape)\n",
    "df_go_ebi = df_go_ebi.drop(\"date\", axis=1)\n",
    "df_go_ebi = df_go_ebi.drop_duplicates()\n",
    "print(df_go_ebi.shape)"
   ]
  },
  {
   "cell_type": "code",
   "execution_count": 31,
   "metadata": {},
   "outputs": [],
   "source": [
    "df_go_ebi = df_go_ebi.reset_index(drop=True)"
   ]
  },
  {
   "attachments": {},
   "cell_type": "markdown",
   "metadata": {},
   "source": [
    "### Save pickles containing datasets:\n"
   ]
  },
  {
   "cell_type": "code",
   "execution_count": 33,
   "metadata": {},
   "outputs": [],
   "source": [
    "save_df(df_go_ebi, \"go_all\", DATASET_FOLDER)"
   ]
  },
  {
   "attachments": {},
   "cell_type": "markdown",
   "metadata": {},
   "source": [
    "Filtered dataframe with no IEA terms"
   ]
  },
  {
   "cell_type": "code",
   "execution_count": 27,
   "metadata": {},
   "outputs": [],
   "source": [
    "df_go_ebi_mf_enables = df_go_ebi[\n",
    "    (df_go_ebi.qualifier == \"enables\")&\n",
    "    (df_go_ebi.aspect == \"F\")\n",
    "].drop([\"qualifier\", \"aspect\"], axis=1).reset_index(drop=True)\n",
    "save_df(df_go_ebi_mf_enables, \"go_mf\", DATASET_FOLDER)"
   ]
  },
  {
   "cell_type": "code",
   "execution_count": 28,
   "metadata": {},
   "outputs": [
    {
     "data": {
      "text/html": [
       "<div>\n",
       "<style scoped>\n",
       "    .dataframe tbody tr th:only-of-type {\n",
       "        vertical-align: middle;\n",
       "    }\n",
       "\n",
       "    .dataframe tbody tr th {\n",
       "        vertical-align: top;\n",
       "    }\n",
       "\n",
       "    .dataframe thead th {\n",
       "        text-align: right;\n",
       "    }\n",
       "</style>\n",
       "<table border=\"1\" class=\"dataframe\">\n",
       "  <thead>\n",
       "    <tr style=\"text-align: right;\">\n",
       "      <th></th>\n",
       "      <th>Uniprot</th>\n",
       "      <th>go_id</th>\n",
       "      <th>evidence_code</th>\n",
       "    </tr>\n",
       "  </thead>\n",
       "  <tbody>\n",
       "    <tr>\n",
       "      <th>0</th>\n",
       "      <td>A0A000</td>\n",
       "      <td>GO:0003824</td>\n",
       "      <td>IEA</td>\n",
       "    </tr>\n",
       "    <tr>\n",
       "      <th>1</th>\n",
       "      <td>A0A000</td>\n",
       "      <td>GO:0003870</td>\n",
       "      <td>IEA</td>\n",
       "    </tr>\n",
       "    <tr>\n",
       "      <th>2</th>\n",
       "      <td>A0A000</td>\n",
       "      <td>GO:0030170</td>\n",
       "      <td>IEA</td>\n",
       "    </tr>\n",
       "    <tr>\n",
       "      <th>3</th>\n",
       "      <td>A0A001</td>\n",
       "      <td>GO:0000166</td>\n",
       "      <td>IEA</td>\n",
       "    </tr>\n",
       "    <tr>\n",
       "      <th>4</th>\n",
       "      <td>A0A001</td>\n",
       "      <td>GO:0005524</td>\n",
       "      <td>IEA</td>\n",
       "    </tr>\n",
       "    <tr>\n",
       "      <th>...</th>\n",
       "      <td>...</td>\n",
       "      <td>...</td>\n",
       "      <td>...</td>\n",
       "    </tr>\n",
       "    <tr>\n",
       "      <th>351680369</th>\n",
       "      <td>Z9JZ78</td>\n",
       "      <td>GO:0050048</td>\n",
       "      <td>IEA</td>\n",
       "    </tr>\n",
       "    <tr>\n",
       "      <th>351680370</th>\n",
       "      <td>Z9JZ78</td>\n",
       "      <td>GO:0052654</td>\n",
       "      <td>IEA</td>\n",
       "    </tr>\n",
       "    <tr>\n",
       "      <th>351680371</th>\n",
       "      <td>Z9JZ78</td>\n",
       "      <td>GO:0052655</td>\n",
       "      <td>IEA</td>\n",
       "    </tr>\n",
       "    <tr>\n",
       "      <th>351680372</th>\n",
       "      <td>Z9JZ78</td>\n",
       "      <td>GO:0052656</td>\n",
       "      <td>IEA</td>\n",
       "    </tr>\n",
       "    <tr>\n",
       "      <th>351680373</th>\n",
       "      <td>Z9JZ82</td>\n",
       "      <td>GO:0140359</td>\n",
       "      <td>IEA</td>\n",
       "    </tr>\n",
       "  </tbody>\n",
       "</table>\n",
       "<p>351680374 rows × 3 columns</p>\n",
       "</div>"
      ],
      "text/plain": [
       "          Uniprot       go_id evidence_code\n",
       "0          A0A000  GO:0003824           IEA\n",
       "1          A0A000  GO:0003870           IEA\n",
       "2          A0A000  GO:0030170           IEA\n",
       "3          A0A001  GO:0000166           IEA\n",
       "4          A0A001  GO:0005524           IEA\n",
       "...           ...         ...           ...\n",
       "351680369  Z9JZ78  GO:0050048           IEA\n",
       "351680370  Z9JZ78  GO:0052654           IEA\n",
       "351680371  Z9JZ78  GO:0052655           IEA\n",
       "351680372  Z9JZ78  GO:0052656           IEA\n",
       "351680373  Z9JZ82  GO:0140359           IEA\n",
       "\n",
       "[351680374 rows x 3 columns]"
      ]
     },
     "execution_count": 28,
     "metadata": {},
     "output_type": "execute_result"
    }
   ],
   "source": [
    "from subpred.util import load_df\n",
    "\n",
    "load_df(\"go_mf\", DATASET_FOLDER)"
   ]
  },
  {
   "cell_type": "code",
   "execution_count": 34,
   "metadata": {},
   "outputs": [
    {
     "name": "stdout",
     "output_type": "stream",
     "text": [
      "9.9G\t../data/datasets/go_all.pickle\n",
      "4.6G\t../data/datasets/go_mf.pickle\n",
      "656K\t../data/datasets/interpro.pickle\n",
      "40K\t../data/datasets/keywords.pickle\n",
      "158M\t../data/datasets/uniprot70.pickle\n",
      "498M\t../data/datasets/uniprot.pickle\n"
     ]
    }
   ],
   "source": [
    "!du -hs ../data/datasets/*"
   ]
  },
  {
   "cell_type": "code",
   "execution_count": 23,
   "metadata": {},
   "outputs": [],
   "source": [
    "# df_go_ebi_filtered = df_go_ebi[df_go_ebi.Uniprot.isin(df_uniprot.index)]\n",
    "# df_go_ebi_filtered = df_go_ebi_filtered[df_go_ebi_filtered.qualifier == \"enables\"]\n",
    "# df_go_ebi_filtered = df_go_ebi_filtered[df_go_ebi_filtered.evidence_code != \"IEA\"]\n",
    "# df_go_ebi_filtered = df_go_ebi_filtered[df_go_ebi_filtered.aspect == \"F\"]\n",
    "# df_go_ebi_filtered = df_go_ebi_filtered.drop([\"qualifier\", \"aspect\", \"date\"], axis=1).reset_index(drop=True)"
   ]
  }
 ],
 "metadata": {
  "kernelspec": {
   "display_name": "subpred4",
   "language": "python",
   "name": "python3"
  },
  "language_info": {
   "codemirror_mode": {
    "name": "ipython",
    "version": 3
   },
   "file_extension": ".py",
   "mimetype": "text/x-python",
   "name": "python",
   "nbconvert_exporter": "python",
   "pygments_lexer": "ipython3",
   "version": "3.10.8"
  },
  "orig_nbformat": 4,
  "vscode": {
   "interpreter": {
    "hash": "ec8de6dd8f2d395005c42468f5d13cdd089376f2ad37eab4b2481f4d8703f0b2"
   }
  }
 },
 "nbformat": 4,
 "nbformat_minor": 2
}
