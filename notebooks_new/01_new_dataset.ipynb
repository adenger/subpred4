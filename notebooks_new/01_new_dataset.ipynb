{
 "cells": [
  {
   "attachments": {},
   "cell_type": "markdown",
   "metadata": {},
   "source": [
    "### Download data\n",
    "\n",
    "- Lower file size from 17GB to 1.5GB\n",
    "    - Remove some unnecessary data\n",
    "    - Compress as xz "
   ]
  },
  {
   "cell_type": "code",
   "execution_count": 15,
   "metadata": {},
   "outputs": [],
   "source": [
    "# !wget https://ftp.ebi.ac.uk/pub/databases/GO/goa/UNIPROT/goa_uniprot_all.gaf.gz  -O goa_uniprot_all_ebi.gaf.gz.download\n",
    "# !mv goa_uniprot_all_ebi.gaf.gz.download goa_uniprot_all_ebi.gaf.gz\n",
    "# !gunzip -c goa_uniprot_all_ebi.gaf.gz | awk 'BEGIN {OFS=\"\\t\";FS=\"\\t\"} ($1 == \"UniProtKB\") {print $2,$4,$5,$7,$9,$14}' | sort -u | xz -T0 > goa_uniprot_all_ebi_filtered.tsv.xz.tmp\n",
    "# !mv goa_uniprot_all_ebi_filtered.tsv.xz.tmp ../data/raw/gene_ontology/goa_uniprot_all_ebi_filtered.tsv.xz"
   ]
  },
  {
   "cell_type": "code",
   "execution_count": null,
   "metadata": {},
   "outputs": [],
   "source": [
    "# TODO oneliner, did it work now?\n",
    "\n",
    "# wget https://ftp.ebi.ac.uk/pub/databases/GO/goa/UNIPROT/goa_uniprot_all.gaf.gz -O - | gunzip -c | awk 'BEGIN {OFS=\"\\t\";FS=\"\\t\"} ($1 == \"UniProtKB\") {print $2,$4,$5,$7,$9,$14}' | sort -u | xz -T0 > goa_uniprot_all_ebi_filtered.tsv.xz"
   ]
  },
  {
   "attachments": {},
   "cell_type": "markdown",
   "metadata": {},
   "source": [
    "### Read into pandas\n",
    "\n",
    "Using optimized dtypes to save space"
   ]
  },
  {
   "cell_type": "code",
   "execution_count": 17,
   "metadata": {},
   "outputs": [],
   "source": [
    "import pandas as pd\n",
    "from subpred.util import save_df\n",
    "DATASET_FOLDER = \"../data/datasets\""
   ]
  },
  {
   "cell_type": "code",
   "execution_count": 18,
   "metadata": {},
   "outputs": [],
   "source": [
    "df_go_ebi = pd.read_table(\n",
    "    \"../data/raw/gene_ontology/goa_uniprot_all_ebi_filtered.tsv.xz\",\n",
    "    # force_update=True,\n",
    "    header=None,\n",
    "    names=[\"Uniprot\", \"qualifier\", \"go_id\", \"evidence_code\", \"aspect\", \"date\"],\n",
    "    dtype={\n",
    "        \"Uniprot\": \"string\",\n",
    "        \"qualifier\": \"category\",\n",
    "        \"go_id\": \"string\",\n",
    "        \"evidence_code\": \"category\",\n",
    "        \"aspect\": \"category\",\n",
    "        \"date\": \"int\",\n",
    "    },\n",
    "    # parse_dates=[\"date\"],\n",
    ")\n"
   ]
  },
  {
   "cell_type": "code",
   "execution_count": 30,
   "metadata": {},
   "outputs": [
    {
     "name": "stdout",
     "output_type": "stream",
     "text": [
      "(710498697, 5)\n"
     ]
    },
    {
     "ename": "KeyError",
     "evalue": "\"['date'] not found in axis\"",
     "output_type": "error",
     "traceback": [
      "\u001b[0;31m---------------------------------------------------------------------------\u001b[0m",
      "\u001b[0;31mKeyError\u001b[0m                                  Traceback (most recent call last)",
      "Cell \u001b[0;32mIn[30], line 2\u001b[0m\n\u001b[1;32m      1\u001b[0m \u001b[39mprint\u001b[39m(df_go_ebi\u001b[39m.\u001b[39mshape)\n\u001b[0;32m----> 2\u001b[0m df_go_ebi \u001b[39m=\u001b[39m df_go_ebi\u001b[39m.\u001b[39;49mdrop(\u001b[39m\"\u001b[39;49m\u001b[39mdate\u001b[39;49m\u001b[39m\"\u001b[39;49m, axis\u001b[39m=\u001b[39;49m\u001b[39m1\u001b[39;49m)\n\u001b[1;32m      3\u001b[0m df_go_ebi \u001b[39m=\u001b[39m df_go_ebi\u001b[39m.\u001b[39mdrop_duplicates()\n\u001b[1;32m      4\u001b[0m df_go_ebi \u001b[39m=\u001b[39m df_go_ebi\u001b[39m.\u001b[39mreset_index(drop\u001b[39m=\u001b[39m\u001b[39mTrue\u001b[39;00m)\n",
      "File \u001b[0;32m~/mambaforge/envs/subpred4/lib/python3.10/site-packages/pandas/util/_decorators.py:331\u001b[0m, in \u001b[0;36mdeprecate_nonkeyword_arguments.<locals>.decorate.<locals>.wrapper\u001b[0;34m(*args, **kwargs)\u001b[0m\n\u001b[1;32m    325\u001b[0m \u001b[39mif\u001b[39;00m \u001b[39mlen\u001b[39m(args) \u001b[39m>\u001b[39m num_allow_args:\n\u001b[1;32m    326\u001b[0m     warnings\u001b[39m.\u001b[39mwarn(\n\u001b[1;32m    327\u001b[0m         msg\u001b[39m.\u001b[39mformat(arguments\u001b[39m=\u001b[39m_format_argument_list(allow_args)),\n\u001b[1;32m    328\u001b[0m         \u001b[39mFutureWarning\u001b[39;00m,\n\u001b[1;32m    329\u001b[0m         stacklevel\u001b[39m=\u001b[39mfind_stack_level(),\n\u001b[1;32m    330\u001b[0m     )\n\u001b[0;32m--> 331\u001b[0m \u001b[39mreturn\u001b[39;00m func(\u001b[39m*\u001b[39;49margs, \u001b[39m*\u001b[39;49m\u001b[39m*\u001b[39;49mkwargs)\n",
      "File \u001b[0;32m~/mambaforge/envs/subpred4/lib/python3.10/site-packages/pandas/core/frame.py:5388\u001b[0m, in \u001b[0;36mDataFrame.drop\u001b[0;34m(self, labels, axis, index, columns, level, inplace, errors)\u001b[0m\n\u001b[1;32m   5240\u001b[0m \u001b[39m@deprecate_nonkeyword_arguments\u001b[39m(version\u001b[39m=\u001b[39m\u001b[39mNone\u001b[39;00m, allowed_args\u001b[39m=\u001b[39m[\u001b[39m\"\u001b[39m\u001b[39mself\u001b[39m\u001b[39m\"\u001b[39m, \u001b[39m\"\u001b[39m\u001b[39mlabels\u001b[39m\u001b[39m\"\u001b[39m])\n\u001b[1;32m   5241\u001b[0m \u001b[39mdef\u001b[39;00m \u001b[39mdrop\u001b[39m(  \u001b[39m# type: ignore[override]\u001b[39;00m\n\u001b[1;32m   5242\u001b[0m     \u001b[39mself\u001b[39m,\n\u001b[0;32m   (...)\u001b[0m\n\u001b[1;32m   5249\u001b[0m     errors: IgnoreRaise \u001b[39m=\u001b[39m \u001b[39m\"\u001b[39m\u001b[39mraise\u001b[39m\u001b[39m\"\u001b[39m,\n\u001b[1;32m   5250\u001b[0m ) \u001b[39m-\u001b[39m\u001b[39m>\u001b[39m DataFrame \u001b[39m|\u001b[39m \u001b[39mNone\u001b[39;00m:\n\u001b[1;32m   5251\u001b[0m     \u001b[39m\"\"\"\u001b[39;00m\n\u001b[1;32m   5252\u001b[0m \u001b[39m    Drop specified labels from rows or columns.\u001b[39;00m\n\u001b[1;32m   5253\u001b[0m \n\u001b[0;32m   (...)\u001b[0m\n\u001b[1;32m   5386\u001b[0m \u001b[39m            weight  1.0     0.8\u001b[39;00m\n\u001b[1;32m   5387\u001b[0m \u001b[39m    \"\"\"\u001b[39;00m\n\u001b[0;32m-> 5388\u001b[0m     \u001b[39mreturn\u001b[39;00m \u001b[39msuper\u001b[39;49m()\u001b[39m.\u001b[39;49mdrop(\n\u001b[1;32m   5389\u001b[0m         labels\u001b[39m=\u001b[39;49mlabels,\n\u001b[1;32m   5390\u001b[0m         axis\u001b[39m=\u001b[39;49maxis,\n\u001b[1;32m   5391\u001b[0m         index\u001b[39m=\u001b[39;49mindex,\n\u001b[1;32m   5392\u001b[0m         columns\u001b[39m=\u001b[39;49mcolumns,\n\u001b[1;32m   5393\u001b[0m         level\u001b[39m=\u001b[39;49mlevel,\n\u001b[1;32m   5394\u001b[0m         inplace\u001b[39m=\u001b[39;49minplace,\n\u001b[1;32m   5395\u001b[0m         errors\u001b[39m=\u001b[39;49merrors,\n\u001b[1;32m   5396\u001b[0m     )\n",
      "File \u001b[0;32m~/mambaforge/envs/subpred4/lib/python3.10/site-packages/pandas/util/_decorators.py:331\u001b[0m, in \u001b[0;36mdeprecate_nonkeyword_arguments.<locals>.decorate.<locals>.wrapper\u001b[0;34m(*args, **kwargs)\u001b[0m\n\u001b[1;32m    325\u001b[0m \u001b[39mif\u001b[39;00m \u001b[39mlen\u001b[39m(args) \u001b[39m>\u001b[39m num_allow_args:\n\u001b[1;32m    326\u001b[0m     warnings\u001b[39m.\u001b[39mwarn(\n\u001b[1;32m    327\u001b[0m         msg\u001b[39m.\u001b[39mformat(arguments\u001b[39m=\u001b[39m_format_argument_list(allow_args)),\n\u001b[1;32m    328\u001b[0m         \u001b[39mFutureWarning\u001b[39;00m,\n\u001b[1;32m    329\u001b[0m         stacklevel\u001b[39m=\u001b[39mfind_stack_level(),\n\u001b[1;32m    330\u001b[0m     )\n\u001b[0;32m--> 331\u001b[0m \u001b[39mreturn\u001b[39;00m func(\u001b[39m*\u001b[39;49margs, \u001b[39m*\u001b[39;49m\u001b[39m*\u001b[39;49mkwargs)\n",
      "File \u001b[0;32m~/mambaforge/envs/subpred4/lib/python3.10/site-packages/pandas/core/generic.py:4505\u001b[0m, in \u001b[0;36mNDFrame.drop\u001b[0;34m(self, labels, axis, index, columns, level, inplace, errors)\u001b[0m\n\u001b[1;32m   4503\u001b[0m \u001b[39mfor\u001b[39;00m axis, labels \u001b[39min\u001b[39;00m axes\u001b[39m.\u001b[39mitems():\n\u001b[1;32m   4504\u001b[0m     \u001b[39mif\u001b[39;00m labels \u001b[39mis\u001b[39;00m \u001b[39mnot\u001b[39;00m \u001b[39mNone\u001b[39;00m:\n\u001b[0;32m-> 4505\u001b[0m         obj \u001b[39m=\u001b[39m obj\u001b[39m.\u001b[39;49m_drop_axis(labels, axis, level\u001b[39m=\u001b[39;49mlevel, errors\u001b[39m=\u001b[39;49merrors)\n\u001b[1;32m   4507\u001b[0m \u001b[39mif\u001b[39;00m inplace:\n\u001b[1;32m   4508\u001b[0m     \u001b[39mself\u001b[39m\u001b[39m.\u001b[39m_update_inplace(obj)\n",
      "File \u001b[0;32m~/mambaforge/envs/subpred4/lib/python3.10/site-packages/pandas/core/generic.py:4546\u001b[0m, in \u001b[0;36mNDFrame._drop_axis\u001b[0;34m(self, labels, axis, level, errors, only_slice)\u001b[0m\n\u001b[1;32m   4544\u001b[0m         new_axis \u001b[39m=\u001b[39m axis\u001b[39m.\u001b[39mdrop(labels, level\u001b[39m=\u001b[39mlevel, errors\u001b[39m=\u001b[39merrors)\n\u001b[1;32m   4545\u001b[0m     \u001b[39melse\u001b[39;00m:\n\u001b[0;32m-> 4546\u001b[0m         new_axis \u001b[39m=\u001b[39m axis\u001b[39m.\u001b[39;49mdrop(labels, errors\u001b[39m=\u001b[39;49merrors)\n\u001b[1;32m   4547\u001b[0m     indexer \u001b[39m=\u001b[39m axis\u001b[39m.\u001b[39mget_indexer(new_axis)\n\u001b[1;32m   4549\u001b[0m \u001b[39m# Case for non-unique axis\u001b[39;00m\n\u001b[1;32m   4550\u001b[0m \u001b[39melse\u001b[39;00m:\n",
      "File \u001b[0;32m~/mambaforge/envs/subpred4/lib/python3.10/site-packages/pandas/core/indexes/base.py:6975\u001b[0m, in \u001b[0;36mIndex.drop\u001b[0;34m(self, labels, errors)\u001b[0m\n\u001b[1;32m   6973\u001b[0m \u001b[39mif\u001b[39;00m mask\u001b[39m.\u001b[39many():\n\u001b[1;32m   6974\u001b[0m     \u001b[39mif\u001b[39;00m errors \u001b[39m!=\u001b[39m \u001b[39m\"\u001b[39m\u001b[39mignore\u001b[39m\u001b[39m\"\u001b[39m:\n\u001b[0;32m-> 6975\u001b[0m         \u001b[39mraise\u001b[39;00m \u001b[39mKeyError\u001b[39;00m(\u001b[39mf\u001b[39m\u001b[39m\"\u001b[39m\u001b[39m{\u001b[39;00m\u001b[39mlist\u001b[39m(labels[mask])\u001b[39m}\u001b[39;00m\u001b[39m not found in axis\u001b[39m\u001b[39m\"\u001b[39m)\n\u001b[1;32m   6976\u001b[0m     indexer \u001b[39m=\u001b[39m indexer[\u001b[39m~\u001b[39mmask]\n\u001b[1;32m   6977\u001b[0m \u001b[39mreturn\u001b[39;00m \u001b[39mself\u001b[39m\u001b[39m.\u001b[39mdelete(indexer)\n",
      "\u001b[0;31mKeyError\u001b[0m: \"['date'] not found in axis\""
     ]
    }
   ],
   "source": [
    "print(df_go_ebi.shape)\n",
    "df_go_ebi = df_go_ebi.drop(\"date\", axis=1)\n",
    "df_go_ebi = df_go_ebi.drop_duplicates()\n",
    "print(df_go_ebi.shape)"
   ]
  },
  {
   "cell_type": "code",
   "execution_count": 31,
   "metadata": {},
   "outputs": [],
   "source": [
    "df_go_ebi = df_go_ebi.reset_index(drop=True)"
   ]
  },
  {
   "attachments": {},
   "cell_type": "markdown",
   "metadata": {},
   "source": [
    "### Save pickles containing datasets:\n"
   ]
  },
  {
   "cell_type": "code",
   "execution_count": 33,
   "metadata": {},
   "outputs": [],
   "source": [
    "save_df(df_go_ebi, \"go_all\", DATASET_FOLDER)"
   ]
  },
  {
   "attachments": {},
   "cell_type": "markdown",
   "metadata": {},
   "source": [
    "Filtered dataframe with no IEA terms"
   ]
  },
  {
   "cell_type": "code",
   "execution_count": 27,
   "metadata": {},
   "outputs": [],
   "source": [
    "df_go_ebi_mf_enables = df_go_ebi[\n",
    "    (df_go_ebi.qualifier == \"enables\")&\n",
    "    (df_go_ebi.aspect == \"F\")\n",
    "].drop([\"qualifier\", \"aspect\"], axis=1).reset_index(drop=True)\n",
    "save_df(df_go_ebi_mf_enables, \"go_mf\", DATASET_FOLDER)"
   ]
  },
  {
   "cell_type": "code",
   "execution_count": 28,
   "metadata": {},
   "outputs": [
    {
     "data": {
      "text/html": [
       "<div>\n",
       "<style scoped>\n",
       "    .dataframe tbody tr th:only-of-type {\n",
       "        vertical-align: middle;\n",
       "    }\n",
       "\n",
       "    .dataframe tbody tr th {\n",
       "        vertical-align: top;\n",
       "    }\n",
       "\n",
       "    .dataframe thead th {\n",
       "        text-align: right;\n",
       "    }\n",
       "</style>\n",
       "<table border=\"1\" class=\"dataframe\">\n",
       "  <thead>\n",
       "    <tr style=\"text-align: right;\">\n",
       "      <th></th>\n",
       "      <th>Uniprot</th>\n",
       "      <th>go_id</th>\n",
       "      <th>evidence_code</th>\n",
       "    </tr>\n",
       "  </thead>\n",
       "  <tbody>\n",
       "    <tr>\n",
       "      <th>0</th>\n",
       "      <td>A0A000</td>\n",
       "      <td>GO:0003824</td>\n",
       "      <td>IEA</td>\n",
       "    </tr>\n",
       "    <tr>\n",
       "      <th>1</th>\n",
       "      <td>A0A000</td>\n",
       "      <td>GO:0003870</td>\n",
       "      <td>IEA</td>\n",
       "    </tr>\n",
       "    <tr>\n",
       "      <th>2</th>\n",
       "      <td>A0A000</td>\n",
       "      <td>GO:0030170</td>\n",
       "      <td>IEA</td>\n",
       "    </tr>\n",
       "    <tr>\n",
       "      <th>3</th>\n",
       "      <td>A0A001</td>\n",
       "      <td>GO:0000166</td>\n",
       "      <td>IEA</td>\n",
       "    </tr>\n",
       "    <tr>\n",
       "      <th>4</th>\n",
       "      <td>A0A001</td>\n",
       "      <td>GO:0005524</td>\n",
       "      <td>IEA</td>\n",
       "    </tr>\n",
       "    <tr>\n",
       "      <th>...</th>\n",
       "      <td>...</td>\n",
       "      <td>...</td>\n",
       "      <td>...</td>\n",
       "    </tr>\n",
       "    <tr>\n",
       "      <th>351680369</th>\n",
       "      <td>Z9JZ78</td>\n",
       "      <td>GO:0050048</td>\n",
       "      <td>IEA</td>\n",
       "    </tr>\n",
       "    <tr>\n",
       "      <th>351680370</th>\n",
       "      <td>Z9JZ78</td>\n",
       "      <td>GO:0052654</td>\n",
       "      <td>IEA</td>\n",
       "    </tr>\n",
       "    <tr>\n",
       "      <th>351680371</th>\n",
       "      <td>Z9JZ78</td>\n",
       "      <td>GO:0052655</td>\n",
       "      <td>IEA</td>\n",
       "    </tr>\n",
       "    <tr>\n",
       "      <th>351680372</th>\n",
       "      <td>Z9JZ78</td>\n",
       "      <td>GO:0052656</td>\n",
       "      <td>IEA</td>\n",
       "    </tr>\n",
       "    <tr>\n",
       "      <th>351680373</th>\n",
       "      <td>Z9JZ82</td>\n",
       "      <td>GO:0140359</td>\n",
       "      <td>IEA</td>\n",
       "    </tr>\n",
       "  </tbody>\n",
       "</table>\n",
       "<p>351680374 rows × 3 columns</p>\n",
       "</div>"
      ],
      "text/plain": [
       "          Uniprot       go_id evidence_code\n",
       "0          A0A000  GO:0003824           IEA\n",
       "1          A0A000  GO:0003870           IEA\n",
       "2          A0A000  GO:0030170           IEA\n",
       "3          A0A001  GO:0000166           IEA\n",
       "4          A0A001  GO:0005524           IEA\n",
       "...           ...         ...           ...\n",
       "351680369  Z9JZ78  GO:0050048           IEA\n",
       "351680370  Z9JZ78  GO:0052654           IEA\n",
       "351680371  Z9JZ78  GO:0052655           IEA\n",
       "351680372  Z9JZ78  GO:0052656           IEA\n",
       "351680373  Z9JZ82  GO:0140359           IEA\n",
       "\n",
       "[351680374 rows x 3 columns]"
      ]
     },
     "execution_count": 28,
     "metadata": {},
     "output_type": "execute_result"
    }
   ],
   "source": [
    "from subpred.util import load_df\n",
    "\n",
    "load_df(\"go_mf\", DATASET_FOLDER)"
   ]
  },
  {
   "cell_type": "code",
   "execution_count": 34,
   "metadata": {},
   "outputs": [
    {
     "name": "stdout",
     "output_type": "stream",
     "text": [
      "9.9G\t../data/datasets/go_all.pickle\n",
      "4.6G\t../data/datasets/go_mf.pickle\n",
      "656K\t../data/datasets/interpro.pickle\n",
      "40K\t../data/datasets/keywords.pickle\n",
      "158M\t../data/datasets/uniprot70.pickle\n",
      "498M\t../data/datasets/uniprot.pickle\n"
     ]
    }
   ],
   "source": [
    "!du -hs ../data/datasets/*"
   ]
  },
  {
   "cell_type": "code",
   "execution_count": 23,
   "metadata": {},
   "outputs": [],
   "source": [
    "# df_go_ebi_filtered = df_go_ebi[df_go_ebi.Uniprot.isin(df_uniprot.index)]\n",
    "# df_go_ebi_filtered = df_go_ebi_filtered[df_go_ebi_filtered.qualifier == \"enables\"]\n",
    "# df_go_ebi_filtered = df_go_ebi_filtered[df_go_ebi_filtered.evidence_code != \"IEA\"]\n",
    "# df_go_ebi_filtered = df_go_ebi_filtered[df_go_ebi_filtered.aspect == \"F\"]\n",
    "# df_go_ebi_filtered = df_go_ebi_filtered.drop([\"qualifier\", \"aspect\", \"date\"], axis=1).reset_index(drop=True)"
   ]
  }
 ],
 "metadata": {
  "kernelspec": {
   "display_name": "subpred4",
   "language": "python",
   "name": "python3"
  },
  "language_info": {
   "codemirror_mode": {
    "name": "ipython",
    "version": 3
   },
   "file_extension": ".py",
   "mimetype": "text/x-python",
   "name": "python",
   "nbconvert_exporter": "python",
   "pygments_lexer": "ipython3",
   "version": "3.10.8"
  },
  "orig_nbformat": 4,
  "vscode": {
   "interpreter": {
    "hash": "ec8de6dd8f2d395005c42468f5d13cdd089376f2ad37eab4b2481f4d8703f0b2"
   }
  }
 },
 "nbformat": 4,
 "nbformat_minor": 2
}
