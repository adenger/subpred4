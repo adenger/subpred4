{
 "cells": [
  {
   "attachments": {},
   "cell_type": "markdown",
   "metadata": {},
   "source": [
    "# Uniprot dataset update analysis\n",
    "\n",
    "### Task: Compare dataset from manuscript 1 to current version of Uniprot\n",
    "\n",
    "- Uniprot releases updates every 8 weeks\n",
    "    - Current version is 2022_5, manuscript 1 used 2021_04 \n",
    "- Are there changes to proteins/annotations in new Uniprot release?\n",
    "\n",
    "\n",
    "### Results:\n",
    "\n",
    "Dataset:\n",
    "- Swissprot 2022_05\n",
    "- Protein evidence at transcript level or protein level\n",
    "- Transmembrane domain keyword\n",
    "- Substrate transport keywords\n",
    "- Clustering at 70% identity threshold\n",
    "- Only valid sequences\n",
    "\n",
    "Stats:\n",
    "- Transmembrane transporters (\"Transmembrane\" keyword + substrate transport keywords):\n",
    "    - Removed annotations\n",
    "        - 67 annotations in 47 proteins were deleted\n",
    "        - Only one of them might have been one of the outliers in the dataset in M1 (human sugar transporter that is actually ATP exchanger).\n",
    "    - Added annotations\n",
    "        - Before clustering: 386 proteins have 478 new substrate annotations\n",
    "        - After clustering: 222 proteins have 328 new substrate annotations\n",
    "        - Most were added in human, mouse and rat\n",
    "        - Most commonly added substrates: Lipid, Ion, Sodium, Amino-acid\n",
    "- Cellular component keywords (before filtering and clustering, top 4):\n",
    "    - Added annotations\n",
    "        - Total: 5258\n",
    "        - Membrane: 1402\n",
    "        - Nucleus: 1082\n",
    "        - Transmembrane: 894\n",
    "        - Cell membrane: 893\n",
    "    - Deleted annotations\n",
    "        - Total: 210\n",
    "        - Membrane: 90\n",
    "        - Transmembrane: 51\n",
    "        - Cell membrane: 24\n",
    "        - Nucleus 22\n",
    "\n",
    "\n",
    "### Conclusion\n",
    "\n",
    "Using the most recent version of Uniprot adds additional annotations that could be useful for training our models, since more samples are available. The deleted annotations show that some errors in the previous version have been corrected, among them a wrongly-classified human sugar transporter that we removed from our dataset as an outlier in Manuscript 1.  "
   ]
  },
  {
   "cell_type": "markdown",
   "metadata": {},
   "source": [
    "## Imports"
   ]
  },
  {
   "cell_type": "code",
   "execution_count": 1,
   "metadata": {
    "execution": {
     "iopub.execute_input": "2023-01-31T17:27:44.921797Z",
     "iopub.status.busy": "2023-01-31T17:27:44.921193Z",
     "iopub.status.idle": "2023-01-31T17:27:45.340676Z",
     "shell.execute_reply": "2023-01-31T17:27:45.340055Z"
    }
   },
   "outputs": [],
   "source": [
    "from subpred.dataset import (\n",
    "    create_dataset,\n",
    "    SUBSTRATE_KEYWORDS,\n",
    "    get_keywords_df,\n",
    "    KEYWORDS_LOCATION,\n",
    ")\n"
   ]
  },
  {
   "cell_type": "markdown",
   "metadata": {},
   "source": [
    "Dataset used in manuscript 1:"
   ]
  },
  {
   "cell_type": "code",
   "execution_count": 2,
   "metadata": {
    "execution": {
     "iopub.execute_input": "2023-01-31T17:27:45.344182Z",
     "iopub.status.busy": "2023-01-31T17:27:45.343574Z",
     "iopub.status.idle": "2023-01-31T17:27:52.910671Z",
     "shell.execute_reply": "2023-01-31T17:27:52.909204Z"
    }
   },
   "outputs": [
    {
     "name": "stdout",
     "output_type": "stream",
     "text": [
      "Found pickle, reading...\n"
     ]
    },
    {
     "data": {
      "text/plain": [
       "(141894, 16)"
      ]
     },
     "execution_count": 2,
     "metadata": {},
     "output_type": "execute_result"
    }
   ],
   "source": [
    "df_swissprot_manuscript1 = create_dataset(\n",
    "    # keywords_substrate_filter=[\"Amino-acid transport\", \"Sugar transport\"],\n",
    "    # keywords_component_filter=[\"Transmembrane\"],\n",
    "    # keywords_transport_filter=[\"Transport\"],\n",
    "    input_file=\"../data/raw/uniprot/swissprot_data_2021_04_manuscript1.tsv.gz\",\n",
    "    multi_substrate=\"keep\",\n",
    "    verbose=True,\n",
    "    # tax_ids_filter=[3702, 9606, 83333, 559292],\n",
    "    # outliers=outliers,\n",
    "    # sequence_clustering=70,\n",
    "    evidence_code=2,\n",
    "    invalid_amino_acids=\"remove_amino_acids\",\n",
    "    # force_update=True,\n",
    "    tcdb_substrates_file=\"../data/raw/tcdb/tcdb_substrates.tsv\",\n",
    ")\n",
    "df_swissprot_manuscript1.shape\n"
   ]
  },
  {
   "cell_type": "markdown",
   "metadata": {},
   "source": [
    "Swissprot 2022_04:"
   ]
  },
  {
   "cell_type": "code",
   "execution_count": 3,
   "metadata": {
    "execution": {
     "iopub.execute_input": "2023-01-31T17:27:52.916324Z",
     "iopub.status.busy": "2023-01-31T17:27:52.915897Z",
     "iopub.status.idle": "2023-01-31T17:28:01.066500Z",
     "shell.execute_reply": "2023-01-31T17:28:01.065259Z"
    }
   },
   "outputs": [
    {
     "name": "stdout",
     "output_type": "stream",
     "text": [
      "Found pickle, reading...\n"
     ]
    },
    {
     "data": {
      "text/plain": [
       "(146597, 16)"
      ]
     },
     "execution_count": 3,
     "metadata": {},
     "output_type": "execute_result"
    }
   ],
   "source": [
    "df_swissprot_new = create_dataset(\n",
    "    # keywords_substrate_filter=[\"Amino-acid transport\", \"Sugar transport\"],\n",
    "    # keywords_component_filter=[\"Transmembrane\"],\n",
    "    # keywords_transport_filter=[\"Transport\"],\n",
    "    input_file=\"../data/raw/uniprot/uniprot_2022_05_evidence1-2_nofragments.tsv\",\n",
    "    multi_substrate=\"keep\",\n",
    "    verbose=True,\n",
    "    # tax_ids_filter=[3702, 9606, 83333, 559292],\n",
    "    # outliers=outliers,\n",
    "    # sequence_clustering=70,\n",
    "    evidence_code=2,\n",
    "    invalid_amino_acids=\"remove_amino_acids\",\n",
    "    # force_update=True,\n",
    "    tcdb_substrates_file=\"../data/raw/tcdb/tcdb_substrates.tsv\",\n",
    ")\n",
    "df_swissprot_new.shape\n"
   ]
  },
  {
   "cell_type": "markdown",
   "metadata": {},
   "source": [
    "## New entries in general:"
   ]
  },
  {
   "cell_type": "code",
   "execution_count": 4,
   "metadata": {
    "execution": {
     "iopub.execute_input": "2023-01-31T17:28:01.071942Z",
     "iopub.status.busy": "2023-01-31T17:28:01.071741Z",
     "iopub.status.idle": "2023-01-31T17:28:01.077622Z",
     "shell.execute_reply": "2023-01-31T17:28:01.076656Z"
    }
   },
   "outputs": [
    {
     "data": {
      "text/plain": [
       "4703"
      ]
     },
     "execution_count": 4,
     "metadata": {},
     "output_type": "execute_result"
    }
   ],
   "source": [
    "df_swissprot_new.shape[0] - df_swissprot_manuscript1.shape[0]\n"
   ]
  },
  {
   "cell_type": "markdown",
   "metadata": {},
   "source": [
    "## New keyword annotations:"
   ]
  },
  {
   "cell_type": "code",
   "execution_count": 5,
   "metadata": {
    "execution": {
     "iopub.execute_input": "2023-01-31T17:28:01.085080Z",
     "iopub.status.busy": "2023-01-31T17:28:01.084506Z",
     "iopub.status.idle": "2023-01-31T17:28:01.852916Z",
     "shell.execute_reply": "2023-01-31T17:28:01.851777Z"
    }
   },
   "outputs": [
    {
     "data": {
      "text/html": [
       "<div>\n",
       "<style scoped>\n",
       "    .dataframe tbody tr th:only-of-type {\n",
       "        vertical-align: middle;\n",
       "    }\n",
       "\n",
       "    .dataframe tbody tr th {\n",
       "        vertical-align: top;\n",
       "    }\n",
       "\n",
       "    .dataframe thead th {\n",
       "        text-align: right;\n",
       "    }\n",
       "</style>\n",
       "<table border=\"1\" class=\"dataframe\">\n",
       "  <thead>\n",
       "    <tr style=\"text-align: right;\">\n",
       "      <th></th>\n",
       "      <th>Uniprot</th>\n",
       "      <th>keyword</th>\n",
       "    </tr>\n",
       "  </thead>\n",
       "  <tbody>\n",
       "    <tr>\n",
       "      <th>0</th>\n",
       "      <td>Q5SW45</td>\n",
       "      <td>Cell projection</td>\n",
       "    </tr>\n",
       "    <tr>\n",
       "      <th>1</th>\n",
       "      <td>Q5SW45</td>\n",
       "      <td>Cilium</td>\n",
       "    </tr>\n",
       "    <tr>\n",
       "      <th>2</th>\n",
       "      <td>Q5SW45</td>\n",
       "      <td>Cilium biogenesis/degradation</td>\n",
       "    </tr>\n",
       "    <tr>\n",
       "      <th>3</th>\n",
       "      <td>Q5SW45</td>\n",
       "      <td>Cytoplasm</td>\n",
       "    </tr>\n",
       "    <tr>\n",
       "      <th>4</th>\n",
       "      <td>Q5SW45</td>\n",
       "      <td>Cytoskeleton</td>\n",
       "    </tr>\n",
       "    <tr>\n",
       "      <th>...</th>\n",
       "      <td>...</td>\n",
       "      <td>...</td>\n",
       "    </tr>\n",
       "    <tr>\n",
       "      <th>1173582</th>\n",
       "      <td>P50402</td>\n",
       "      <td>Nucleus</td>\n",
       "    </tr>\n",
       "    <tr>\n",
       "      <th>1173583</th>\n",
       "      <td>P50402</td>\n",
       "      <td>Phosphoprotein</td>\n",
       "    </tr>\n",
       "    <tr>\n",
       "      <th>1173584</th>\n",
       "      <td>P50402</td>\n",
       "      <td>Reference proteome</td>\n",
       "    </tr>\n",
       "    <tr>\n",
       "      <th>1173585</th>\n",
       "      <td>P50402</td>\n",
       "      <td>Transmembrane</td>\n",
       "    </tr>\n",
       "    <tr>\n",
       "      <th>1173586</th>\n",
       "      <td>P50402</td>\n",
       "      <td>Transmembrane helix</td>\n",
       "    </tr>\n",
       "  </tbody>\n",
       "</table>\n",
       "<p>1173587 rows × 2 columns</p>\n",
       "</div>"
      ],
      "text/plain": [
       "        Uniprot                        keyword\n",
       "0        Q5SW45                Cell projection\n",
       "1        Q5SW45                         Cilium\n",
       "2        Q5SW45  Cilium biogenesis/degradation\n",
       "3        Q5SW45                      Cytoplasm\n",
       "4        Q5SW45                   Cytoskeleton\n",
       "...         ...                            ...\n",
       "1173582  P50402                        Nucleus\n",
       "1173583  P50402                 Phosphoprotein\n",
       "1173584  P50402             Reference proteome\n",
       "1173585  P50402                  Transmembrane\n",
       "1173586  P50402            Transmembrane helix\n",
       "\n",
       "[1173587 rows x 2 columns]"
      ]
     },
     "execution_count": 5,
     "metadata": {},
     "output_type": "execute_result"
    }
   ],
   "source": [
    "df_keywords_m1 = get_keywords_df(df_swissprot_manuscript1)\n",
    "df_keywords_m1\n"
   ]
  },
  {
   "cell_type": "code",
   "execution_count": 6,
   "metadata": {
    "execution": {
     "iopub.execute_input": "2023-01-31T17:28:01.857749Z",
     "iopub.status.busy": "2023-01-31T17:28:01.857552Z",
     "iopub.status.idle": "2023-01-31T17:28:02.695733Z",
     "shell.execute_reply": "2023-01-31T17:28:02.694554Z"
    }
   },
   "outputs": [
    {
     "data": {
      "text/html": [
       "<div>\n",
       "<style scoped>\n",
       "    .dataframe tbody tr th:only-of-type {\n",
       "        vertical-align: middle;\n",
       "    }\n",
       "\n",
       "    .dataframe tbody tr th {\n",
       "        vertical-align: top;\n",
       "    }\n",
       "\n",
       "    .dataframe thead th {\n",
       "        text-align: right;\n",
       "    }\n",
       "</style>\n",
       "<table border=\"1\" class=\"dataframe\">\n",
       "  <thead>\n",
       "    <tr style=\"text-align: right;\">\n",
       "      <th></th>\n",
       "      <th>Uniprot</th>\n",
       "      <th>keyword</th>\n",
       "    </tr>\n",
       "  </thead>\n",
       "  <tbody>\n",
       "    <tr>\n",
       "      <th>0</th>\n",
       "      <td>A0A0C5B5G6</td>\n",
       "      <td>DNA-binding</td>\n",
       "    </tr>\n",
       "    <tr>\n",
       "      <th>1</th>\n",
       "      <td>A0A0C5B5G6</td>\n",
       "      <td>Mitochondrion</td>\n",
       "    </tr>\n",
       "    <tr>\n",
       "      <th>2</th>\n",
       "      <td>A0A0C5B5G6</td>\n",
       "      <td>Nucleus</td>\n",
       "    </tr>\n",
       "    <tr>\n",
       "      <th>3</th>\n",
       "      <td>A0A0C5B5G6</td>\n",
       "      <td>Osteogenesis</td>\n",
       "    </tr>\n",
       "    <tr>\n",
       "      <th>4</th>\n",
       "      <td>A0A0C5B5G6</td>\n",
       "      <td>Reference proteome</td>\n",
       "    </tr>\n",
       "    <tr>\n",
       "      <th>...</th>\n",
       "      <td>...</td>\n",
       "      <td>...</td>\n",
       "    </tr>\n",
       "    <tr>\n",
       "      <th>1219343</th>\n",
       "      <td>Q9T1X7</td>\n",
       "      <td>Reference proteome</td>\n",
       "    </tr>\n",
       "    <tr>\n",
       "      <th>1219344</th>\n",
       "      <td>Q9UAS2</td>\n",
       "      <td>Acetylation</td>\n",
       "    </tr>\n",
       "    <tr>\n",
       "      <th>1219345</th>\n",
       "      <td>Q9UAS2</td>\n",
       "      <td>Lipid-binding</td>\n",
       "    </tr>\n",
       "    <tr>\n",
       "      <th>1219346</th>\n",
       "      <td>Q9UAS2</td>\n",
       "      <td>Transport</td>\n",
       "    </tr>\n",
       "    <tr>\n",
       "      <th>1219347</th>\n",
       "      <td>Q9XFY6</td>\n",
       "      <td>nan</td>\n",
       "    </tr>\n",
       "  </tbody>\n",
       "</table>\n",
       "<p>1219348 rows × 2 columns</p>\n",
       "</div>"
      ],
      "text/plain": [
       "            Uniprot             keyword\n",
       "0        A0A0C5B5G6         DNA-binding\n",
       "1        A0A0C5B5G6       Mitochondrion\n",
       "2        A0A0C5B5G6             Nucleus\n",
       "3        A0A0C5B5G6        Osteogenesis\n",
       "4        A0A0C5B5G6  Reference proteome\n",
       "...             ...                 ...\n",
       "1219343      Q9T1X7  Reference proteome\n",
       "1219344      Q9UAS2         Acetylation\n",
       "1219345      Q9UAS2       Lipid-binding\n",
       "1219346      Q9UAS2           Transport\n",
       "1219347      Q9XFY6                 nan\n",
       "\n",
       "[1219348 rows x 2 columns]"
      ]
     },
     "execution_count": 6,
     "metadata": {},
     "output_type": "execute_result"
    }
   ],
   "source": [
    "df_keywords_m2 = get_keywords_df(df_swissprot_new)\n",
    "df_keywords_m2\n"
   ]
  },
  {
   "cell_type": "markdown",
   "metadata": {},
   "source": [
    "There are 31.557 new keyword annoataions on total:"
   ]
  },
  {
   "cell_type": "code",
   "execution_count": 7,
   "metadata": {
    "execution": {
     "iopub.execute_input": "2023-01-31T17:28:02.700665Z",
     "iopub.status.busy": "2023-01-31T17:28:02.700280Z",
     "iopub.status.idle": "2023-01-31T17:28:02.707520Z",
     "shell.execute_reply": "2023-01-31T17:28:02.706501Z"
    }
   },
   "outputs": [
    {
     "data": {
      "text/plain": [
       "45761"
      ]
     },
     "execution_count": 7,
     "metadata": {},
     "output_type": "execute_result"
    }
   ],
   "source": [
    "df_keywords_m2.shape[0] - df_keywords_m1.shape[0]\n"
   ]
  },
  {
   "cell_type": "markdown",
   "metadata": {},
   "source": [
    "## New substrate annotations\n",
    "\n",
    "No filtering for Transmembrane transporters beforehand, these are all substrate annotations."
   ]
  },
  {
   "cell_type": "code",
   "execution_count": 8,
   "metadata": {
    "execution": {
     "iopub.execute_input": "2023-01-31T17:28:02.711701Z",
     "iopub.status.busy": "2023-01-31T17:28:02.711251Z",
     "iopub.status.idle": "2023-01-31T17:28:02.716558Z",
     "shell.execute_reply": "2023-01-31T17:28:02.715503Z"
    }
   },
   "outputs": [
    {
     "name": "stdout",
     "output_type": "stream",
     "text": [
      "{'Electron transport', 'Peptide transport', 'Hydrogen ion transport', 'Viral movement protein', 'mRNA transport', 'Translocation', 'Sugar transport', 'Protein transport', 'Bacterial flagellum protein export', 'Ammonia transport', 'Potassium transport', 'Copper transport', 'Ion transport', 'Lipid transport', 'Sodium/potassium transport', 'Nickel transport', 'Zinc transport', 'Bacteriocin transport', 'Cobalt transport', 'Sulfate transport', 'Phosphonate transport', 'Neurotransmitter transport', 'Polysaccharide transport', 'Oxygen transport', 'Calcium transport', 'Chloride', 'Amino-acid transport', 'Iron transport', 'Anion exchange', 'Phosphate transport', 'Sodium transport'}\n"
     ]
    }
   ],
   "source": [
    "print(SUBSTRATE_KEYWORDS)\n"
   ]
  },
  {
   "cell_type": "code",
   "execution_count": 9,
   "metadata": {
    "execution": {
     "iopub.execute_input": "2023-01-31T17:28:02.720681Z",
     "iopub.status.busy": "2023-01-31T17:28:02.720194Z",
     "iopub.status.idle": "2023-01-31T17:28:02.827112Z",
     "shell.execute_reply": "2023-01-31T17:28:02.825777Z"
    }
   },
   "outputs": [],
   "source": [
    "df_substrates_m1 = df_keywords_m1[df_keywords_m1.keyword.isin(SUBSTRATE_KEYWORDS)]\n"
   ]
  },
  {
   "cell_type": "code",
   "execution_count": 10,
   "metadata": {
    "execution": {
     "iopub.execute_input": "2023-01-31T17:28:02.831026Z",
     "iopub.status.busy": "2023-01-31T17:28:02.830577Z",
     "iopub.status.idle": "2023-01-31T17:28:02.928697Z",
     "shell.execute_reply": "2023-01-31T17:28:02.927432Z"
    }
   },
   "outputs": [],
   "source": [
    "df_substrates_m2 = df_keywords_m2[df_keywords_m2.keyword.isin(SUBSTRATE_KEYWORDS)]\n"
   ]
  },
  {
   "attachments": {},
   "cell_type": "markdown",
   "metadata": {},
   "source": [
    "There are 645 more substrate annotations in all of swissprot:"
   ]
  },
  {
   "cell_type": "code",
   "execution_count": 11,
   "metadata": {
    "execution": {
     "iopub.execute_input": "2023-01-31T17:28:02.933438Z",
     "iopub.status.busy": "2023-01-31T17:28:02.933009Z",
     "iopub.status.idle": "2023-01-31T17:28:02.939451Z",
     "shell.execute_reply": "2023-01-31T17:28:02.938356Z"
    }
   },
   "outputs": [
    {
     "data": {
      "text/plain": [
       "645"
      ]
     },
     "execution_count": 11,
     "metadata": {},
     "output_type": "execute_result"
    }
   ],
   "source": [
    "df_substrates_m2.shape[0] - df_substrates_m1.shape[0]\n"
   ]
  },
  {
   "cell_type": "markdown",
   "metadata": {},
   "source": [
    "#### Merging dataframes to see differences:"
   ]
  },
  {
   "cell_type": "code",
   "execution_count": 12,
   "metadata": {
    "execution": {
     "iopub.execute_input": "2023-01-31T17:28:02.943648Z",
     "iopub.status.busy": "2023-01-31T17:28:02.943313Z",
     "iopub.status.idle": "2023-01-31T17:28:02.984878Z",
     "shell.execute_reply": "2023-01-31T17:28:02.983771Z"
    }
   },
   "outputs": [
    {
     "data": {
      "text/html": [
       "<div>\n",
       "<style scoped>\n",
       "    .dataframe tbody tr th:only-of-type {\n",
       "        vertical-align: middle;\n",
       "    }\n",
       "\n",
       "    .dataframe tbody tr th {\n",
       "        vertical-align: top;\n",
       "    }\n",
       "\n",
       "    .dataframe thead th {\n",
       "        text-align: right;\n",
       "    }\n",
       "</style>\n",
       "<table border=\"1\" class=\"dataframe\">\n",
       "  <thead>\n",
       "    <tr style=\"text-align: right;\">\n",
       "      <th></th>\n",
       "      <th>Uniprot</th>\n",
       "      <th>keyword</th>\n",
       "      <th>_merge</th>\n",
       "    </tr>\n",
       "  </thead>\n",
       "  <tbody>\n",
       "    <tr>\n",
       "      <th>0</th>\n",
       "      <td>B7U540</td>\n",
       "      <td>Ion transport</td>\n",
       "      <td>both</td>\n",
       "    </tr>\n",
       "    <tr>\n",
       "      <th>1</th>\n",
       "      <td>B7U540</td>\n",
       "      <td>Potassium transport</td>\n",
       "      <td>both</td>\n",
       "    </tr>\n",
       "    <tr>\n",
       "      <th>2</th>\n",
       "      <td>O00161</td>\n",
       "      <td>Protein transport</td>\n",
       "      <td>both</td>\n",
       "    </tr>\n",
       "    <tr>\n",
       "      <th>3</th>\n",
       "      <td>O00168</td>\n",
       "      <td>Ion transport</td>\n",
       "      <td>both</td>\n",
       "    </tr>\n",
       "    <tr>\n",
       "      <th>4</th>\n",
       "      <td>O00168</td>\n",
       "      <td>Potassium transport</td>\n",
       "      <td>both</td>\n",
       "    </tr>\n",
       "    <tr>\n",
       "      <th>...</th>\n",
       "      <td>...</td>\n",
       "      <td>...</td>\n",
       "      <td>...</td>\n",
       "    </tr>\n",
       "    <tr>\n",
       "      <th>19766</th>\n",
       "      <td>Q10045</td>\n",
       "      <td>Protein transport</td>\n",
       "      <td>right_only</td>\n",
       "    </tr>\n",
       "    <tr>\n",
       "      <th>19767</th>\n",
       "      <td>Q5U520</td>\n",
       "      <td>Protein transport</td>\n",
       "      <td>right_only</td>\n",
       "    </tr>\n",
       "    <tr>\n",
       "      <th>19768</th>\n",
       "      <td>Q7ZUU1</td>\n",
       "      <td>Protein transport</td>\n",
       "      <td>right_only</td>\n",
       "    </tr>\n",
       "    <tr>\n",
       "      <th>19769</th>\n",
       "      <td>Q53HI1</td>\n",
       "      <td>Protein transport</td>\n",
       "      <td>right_only</td>\n",
       "    </tr>\n",
       "    <tr>\n",
       "      <th>19770</th>\n",
       "      <td>A1Z713</td>\n",
       "      <td>Protein transport</td>\n",
       "      <td>right_only</td>\n",
       "    </tr>\n",
       "  </tbody>\n",
       "</table>\n",
       "<p>19771 rows × 3 columns</p>\n",
       "</div>"
      ],
      "text/plain": [
       "      Uniprot              keyword      _merge\n",
       "0      B7U540        Ion transport        both\n",
       "1      B7U540  Potassium transport        both\n",
       "2      O00161    Protein transport        both\n",
       "3      O00168        Ion transport        both\n",
       "4      O00168  Potassium transport        both\n",
       "...       ...                  ...         ...\n",
       "19766  Q10045    Protein transport  right_only\n",
       "19767  Q5U520    Protein transport  right_only\n",
       "19768  Q7ZUU1    Protein transport  right_only\n",
       "19769  Q53HI1    Protein transport  right_only\n",
       "19770  A1Z713    Protein transport  right_only\n",
       "\n",
       "[19771 rows x 3 columns]"
      ]
     },
     "execution_count": 12,
     "metadata": {},
     "output_type": "execute_result"
    }
   ],
   "source": [
    "df_substrates_merged = df_substrates_m2.merge(\n",
    "    df_substrates_m1, indicator=True, how=\"outer\"\n",
    ")\n",
    "df_substrates_merged\n"
   ]
  },
  {
   "attachments": {},
   "cell_type": "markdown",
   "metadata": {},
   "source": [
    "### Deleted annotations:\n",
    "\n",
    "47 keyword annotations were deleted in the new version, most of them related to protein transport:"
   ]
  },
  {
   "cell_type": "code",
   "execution_count": 13,
   "metadata": {
    "execution": {
     "iopub.execute_input": "2023-01-31T17:28:02.988614Z",
     "iopub.status.busy": "2023-01-31T17:28:02.988450Z",
     "iopub.status.idle": "2023-01-31T17:28:02.999627Z",
     "shell.execute_reply": "2023-01-31T17:28:02.998532Z"
    }
   },
   "outputs": [
    {
     "data": {
      "text/plain": [
       "Protein transport     37\n",
       "Translocation         11\n",
       "mRNA transport        10\n",
       "Sugar transport        4\n",
       "Lipid transport        3\n",
       "Chloride               1\n",
       "Electron transport     1\n",
       "Name: keyword, dtype: int64"
      ]
     },
     "metadata": {},
     "output_type": "display_data"
    },
    {
     "name": "stdout",
     "output_type": "stream",
     "text": [
      "47\n"
     ]
    }
   ],
   "source": [
    "display(\n",
    "    df_substrates_merged[\n",
    "        df_substrates_merged._merge == \"right_only\"\n",
    "    ].keyword.value_counts()\n",
    ")\n",
    "# display(df_substrates_merged[df_substrates_merged._merge == \"right_only\"])\n",
    "print(\n",
    "    df_substrates_merged[df_substrates_merged._merge == \"right_only\"]\n",
    "    .Uniprot.unique()\n",
    "    .size\n",
    ")\n"
   ]
  },
  {
   "cell_type": "markdown",
   "metadata": {},
   "source": [
    "#### What are the four deleted sugar transporters?\n",
    "\n",
    "It looks like they all belong to the same protein family, that is related to UDP-Galactose, but now we know that they are ATP/ADP Antiporters."
   ]
  },
  {
   "cell_type": "code",
   "execution_count": 14,
   "metadata": {
    "execution": {
     "iopub.execute_input": "2023-01-31T17:28:03.003904Z",
     "iopub.status.busy": "2023-01-31T17:28:03.003422Z",
     "iopub.status.idle": "2023-01-31T17:28:03.249294Z",
     "shell.execute_reply": "2023-01-31T17:28:03.247909Z"
    }
   },
   "outputs": [
    {
     "name": "stdout",
     "output_type": "stream",
     "text": [
      "manuscript 1:\n"
     ]
    },
    {
     "data": {
      "text/html": [
       "<div>\n",
       "<style scoped>\n",
       "    .dataframe tbody tr th:only-of-type {\n",
       "        vertical-align: middle;\n",
       "    }\n",
       "\n",
       "    .dataframe tbody tr th {\n",
       "        vertical-align: top;\n",
       "    }\n",
       "\n",
       "    .dataframe thead th {\n",
       "        text-align: right;\n",
       "    }\n",
       "</style>\n",
       "<table border=\"1\" class=\"dataframe\">\n",
       "  <thead>\n",
       "    <tr style=\"text-align: right;\">\n",
       "      <th></th>\n",
       "      <th>keyword</th>\n",
       "      <th>_merge</th>\n",
       "      <th>protein_names</th>\n",
       "      <th>organism_id</th>\n",
       "    </tr>\n",
       "    <tr>\n",
       "      <th>Uniprot</th>\n",
       "      <th></th>\n",
       "      <th></th>\n",
       "      <th></th>\n",
       "      <th></th>\n",
       "    </tr>\n",
       "  </thead>\n",
       "  <tbody>\n",
       "    <tr>\n",
       "      <th>P78383</th>\n",
       "      <td>Sugar transport</td>\n",
       "      <td>right_only</td>\n",
       "      <td>Solute carrier family 35 member B1 (UDP-galactose transporter-related protein 1) (UGTrel1) (hUGTrel1)</td>\n",
       "      <td>9606</td>\n",
       "    </tr>\n",
       "    <tr>\n",
       "      <th>P97858</th>\n",
       "      <td>Sugar transport</td>\n",
       "      <td>right_only</td>\n",
       "      <td>Solute carrier family 35 member B1 (UDP-galactose translocator 2) (UDP-galactose transporter-related protein 1) (UGTrel1)</td>\n",
       "      <td>10090</td>\n",
       "    </tr>\n",
       "    <tr>\n",
       "      <th>Q8MII5</th>\n",
       "      <td>Sugar transport</td>\n",
       "      <td>right_only</td>\n",
       "      <td>Solute carrier family 35 member B1 (Endoplasmic reticulum nucleotide sugar transporter 1)</td>\n",
       "      <td>9913</td>\n",
       "    </tr>\n",
       "    <tr>\n",
       "      <th>Q6V7K3</th>\n",
       "      <td>Sugar transport</td>\n",
       "      <td>right_only</td>\n",
       "      <td>Solute carrier family 35 member B1 (UDP-galactose transporter-related protein 1) (UGTrel1)</td>\n",
       "      <td>10116</td>\n",
       "    </tr>\n",
       "  </tbody>\n",
       "</table>\n",
       "</div>"
      ],
      "text/plain": [
       "                 keyword      _merge  \\\n",
       "Uniprot                                \n",
       "P78383   Sugar transport  right_only   \n",
       "P97858   Sugar transport  right_only   \n",
       "Q8MII5   Sugar transport  right_only   \n",
       "Q6V7K3   Sugar transport  right_only   \n",
       "\n",
       "                                                                                                                     protein_names  \\\n",
       "Uniprot                                                                                                                              \n",
       "P78383                       Solute carrier family 35 member B1 (UDP-galactose transporter-related protein 1) (UGTrel1) (hUGTrel1)   \n",
       "P97858   Solute carrier family 35 member B1 (UDP-galactose translocator 2) (UDP-galactose transporter-related protein 1) (UGTrel1)   \n",
       "Q8MII5                                   Solute carrier family 35 member B1 (Endoplasmic reticulum nucleotide sugar transporter 1)   \n",
       "Q6V7K3                                  Solute carrier family 35 member B1 (UDP-galactose transporter-related protein 1) (UGTrel1)   \n",
       "\n",
       "         organism_id  \n",
       "Uniprot               \n",
       "P78383          9606  \n",
       "P97858         10090  \n",
       "Q8MII5          9913  \n",
       "Q6V7K3         10116  "
      ]
     },
     "metadata": {},
     "output_type": "display_data"
    },
    {
     "name": "stdout",
     "output_type": "stream",
     "text": [
      "manuscript 2:\n"
     ]
    },
    {
     "data": {
      "text/html": [
       "<div>\n",
       "<style scoped>\n",
       "    .dataframe tbody tr th:only-of-type {\n",
       "        vertical-align: middle;\n",
       "    }\n",
       "\n",
       "    .dataframe tbody tr th {\n",
       "        vertical-align: top;\n",
       "    }\n",
       "\n",
       "    .dataframe thead th {\n",
       "        text-align: right;\n",
       "    }\n",
       "</style>\n",
       "<table border=\"1\" class=\"dataframe\">\n",
       "  <thead>\n",
       "    <tr style=\"text-align: right;\">\n",
       "      <th></th>\n",
       "      <th>keyword</th>\n",
       "      <th>_merge</th>\n",
       "      <th>protein_names</th>\n",
       "      <th>organism_id</th>\n",
       "    </tr>\n",
       "    <tr>\n",
       "      <th>Uniprot</th>\n",
       "      <th></th>\n",
       "      <th></th>\n",
       "      <th></th>\n",
       "      <th></th>\n",
       "    </tr>\n",
       "  </thead>\n",
       "  <tbody>\n",
       "    <tr>\n",
       "      <th>P78383</th>\n",
       "      <td>Sugar transport</td>\n",
       "      <td>right_only</td>\n",
       "      <td>Solute carrier family 35 member B1 (ATP/ADP exchanger ER) (AXER) (Endoplasmic reticulum ATP/ADP translocase) (UDP-galactose transporter-related protein 1) (UGTrel1)</td>\n",
       "      <td>9606</td>\n",
       "    </tr>\n",
       "    <tr>\n",
       "      <th>P97858</th>\n",
       "      <td>Sugar transport</td>\n",
       "      <td>right_only</td>\n",
       "      <td>Solute carrier family 35 member B1 (ATP/ADP exchanger ER) (AXER) (Endoplasmic reticulum ATP/ADP translocase) (UDP-galactose transporter-related protein 1) (UGTrel1)</td>\n",
       "      <td>10090</td>\n",
       "    </tr>\n",
       "    <tr>\n",
       "      <th>Q8MII5</th>\n",
       "      <td>Sugar transport</td>\n",
       "      <td>right_only</td>\n",
       "      <td>Solute carrier family 35 member B1 (ATP/ADP exchanger ER) (AXER) (Endoplasmic reticulum ATP/ADP translocase) (UDP-galactose transporter-related protein 1) (UGTrel1)</td>\n",
       "      <td>9913</td>\n",
       "    </tr>\n",
       "    <tr>\n",
       "      <th>Q6V7K3</th>\n",
       "      <td>Sugar transport</td>\n",
       "      <td>right_only</td>\n",
       "      <td>Solute carrier family 35 member B1 (ATP/ADP exchanger ER) (AXER) (Endoplasmic reticulum ATP/ADP translocase) (UDP-galactose transporter-related protein 1) (UGTrel1)</td>\n",
       "      <td>10116</td>\n",
       "    </tr>\n",
       "  </tbody>\n",
       "</table>\n",
       "</div>"
      ],
      "text/plain": [
       "                 keyword      _merge  \\\n",
       "Uniprot                                \n",
       "P78383   Sugar transport  right_only   \n",
       "P97858   Sugar transport  right_only   \n",
       "Q8MII5   Sugar transport  right_only   \n",
       "Q6V7K3   Sugar transport  right_only   \n",
       "\n",
       "                                                                                                                                                                protein_names  \\\n",
       "Uniprot                                                                                                                                                                         \n",
       "P78383   Solute carrier family 35 member B1 (ATP/ADP exchanger ER) (AXER) (Endoplasmic reticulum ATP/ADP translocase) (UDP-galactose transporter-related protein 1) (UGTrel1)   \n",
       "P97858   Solute carrier family 35 member B1 (ATP/ADP exchanger ER) (AXER) (Endoplasmic reticulum ATP/ADP translocase) (UDP-galactose transporter-related protein 1) (UGTrel1)   \n",
       "Q8MII5   Solute carrier family 35 member B1 (ATP/ADP exchanger ER) (AXER) (Endoplasmic reticulum ATP/ADP translocase) (UDP-galactose transporter-related protein 1) (UGTrel1)   \n",
       "Q6V7K3   Solute carrier family 35 member B1 (ATP/ADP exchanger ER) (AXER) (Endoplasmic reticulum ATP/ADP translocase) (UDP-galactose transporter-related protein 1) (UGTrel1)   \n",
       "\n",
       "         organism_id  \n",
       "Uniprot               \n",
       "P78383          9606  \n",
       "P97858         10090  \n",
       "Q8MII5          9913  \n",
       "Q6V7K3         10116  "
      ]
     },
     "execution_count": 14,
     "metadata": {},
     "output_type": "execute_result"
    }
   ],
   "source": [
    "import pandas as pd\n",
    "\n",
    "pd.set_option(\"max_colwidth\", 200)\n",
    "df_substrates_merged_deleted_sugar = df_substrates_merged[\n",
    "    (df_substrates_merged._merge == \"right_only\")\n",
    "    & (df_substrates_merged.keyword == \"Sugar transport\")\n",
    "]\n",
    "print(\"manuscript 1:\")\n",
    "display(\n",
    "    df_substrates_merged_deleted_sugar.set_index(\"Uniprot\", drop=True).join(\n",
    "        df_swissprot_manuscript1[[\"protein_names\", \"organism_id\"]], how=\"left\"\n",
    "    )\n",
    ")\n",
    "print(\"manuscript 2:\")\n",
    "df_substrates_merged_deleted_sugar.set_index(\"Uniprot\", drop=True).join(\n",
    "    df_swissprot_new[[\"protein_names\", \"organism_id\"]], how=\"left\"\n",
    ")\n"
   ]
  },
  {
   "cell_type": "markdown",
   "metadata": {},
   "source": [
    "They are all annotated with \"transmembrane\" and \"transport\", so they were in our dataset, at least the human protein. We did actually have troubles with some UDP-galactose transporters in the human dataset and removed some of them as outliers, so this could be why."
   ]
  },
  {
   "cell_type": "code",
   "execution_count": 15,
   "metadata": {
    "execution": {
     "iopub.execute_input": "2023-01-31T17:28:03.253816Z",
     "iopub.status.busy": "2023-01-31T17:28:03.253623Z",
     "iopub.status.idle": "2023-01-31T17:28:03.302194Z",
     "shell.execute_reply": "2023-01-31T17:28:03.301241Z"
    }
   },
   "outputs": [
    {
     "data": {
      "text/html": [
       "<div>\n",
       "<style scoped>\n",
       "    .dataframe tbody tr th:only-of-type {\n",
       "        vertical-align: middle;\n",
       "    }\n",
       "\n",
       "    .dataframe tbody tr th {\n",
       "        vertical-align: top;\n",
       "    }\n",
       "\n",
       "    .dataframe thead th {\n",
       "        text-align: right;\n",
       "    }\n",
       "</style>\n",
       "<table border=\"1\" class=\"dataframe\">\n",
       "  <thead>\n",
       "    <tr style=\"text-align: right;\">\n",
       "      <th></th>\n",
       "      <th>Uniprot</th>\n",
       "      <th>keyword</th>\n",
       "    </tr>\n",
       "  </thead>\n",
       "  <tbody>\n",
       "    <tr>\n",
       "      <th>163486</th>\n",
       "      <td>P78383</td>\n",
       "      <td>Transmembrane</td>\n",
       "    </tr>\n",
       "    <tr>\n",
       "      <th>163488</th>\n",
       "      <td>P78383</td>\n",
       "      <td>Transport</td>\n",
       "    </tr>\n",
       "    <tr>\n",
       "      <th>163520</th>\n",
       "      <td>P97858</td>\n",
       "      <td>Transmembrane</td>\n",
       "    </tr>\n",
       "    <tr>\n",
       "      <th>163522</th>\n",
       "      <td>P97858</td>\n",
       "      <td>Transport</td>\n",
       "    </tr>\n",
       "    <tr>\n",
       "      <th>178701</th>\n",
       "      <td>Q8MII5</td>\n",
       "      <td>Transmembrane</td>\n",
       "    </tr>\n",
       "    <tr>\n",
       "      <th>178703</th>\n",
       "      <td>Q8MII5</td>\n",
       "      <td>Transport</td>\n",
       "    </tr>\n",
       "    <tr>\n",
       "      <th>398971</th>\n",
       "      <td>Q6V7K3</td>\n",
       "      <td>Transmembrane</td>\n",
       "    </tr>\n",
       "    <tr>\n",
       "      <th>398973</th>\n",
       "      <td>Q6V7K3</td>\n",
       "      <td>Transport</td>\n",
       "    </tr>\n",
       "  </tbody>\n",
       "</table>\n",
       "</div>"
      ],
      "text/plain": [
       "       Uniprot        keyword\n",
       "163486  P78383  Transmembrane\n",
       "163488  P78383      Transport\n",
       "163520  P97858  Transmembrane\n",
       "163522  P97858      Transport\n",
       "178701  Q8MII5  Transmembrane\n",
       "178703  Q8MII5      Transport\n",
       "398971  Q6V7K3  Transmembrane\n",
       "398973  Q6V7K3      Transport"
      ]
     },
     "execution_count": 15,
     "metadata": {},
     "output_type": "execute_result"
    }
   ],
   "source": [
    "tmp = df_keywords_m1[\n",
    "    df_keywords_m1.Uniprot.isin(df_substrates_merged_deleted_sugar.Uniprot)\n",
    "]\n",
    "tmp[tmp.keyword.isin([\"Transport\", \"Transmembrane\"])]\n"
   ]
  },
  {
   "cell_type": "markdown",
   "metadata": {},
   "source": [
    "### Added annotations\n",
    "\n",
    "Substrate annotations that were added in the last year:\n",
    "\n",
    "- There are many new lipid transporter annotations, as well as ion and protein."
   ]
  },
  {
   "cell_type": "code",
   "execution_count": 16,
   "metadata": {
    "execution": {
     "iopub.execute_input": "2023-01-31T17:28:03.307513Z",
     "iopub.status.busy": "2023-01-31T17:28:03.307173Z",
     "iopub.status.idle": "2023-01-31T17:28:03.318084Z",
     "shell.execute_reply": "2023-01-31T17:28:03.316959Z"
    }
   },
   "outputs": [
    {
     "name": "stdout",
     "output_type": "stream",
     "text": [
      "712\n"
     ]
    },
    {
     "data": {
      "text/plain": [
       "Lipid transport               233\n",
       "Ion transport                 107\n",
       "Protein transport              90\n",
       "Electron transport             51\n",
       "Amino-acid transport           31\n",
       "Potassium transport            27\n",
       "Hydrogen ion transport         27\n",
       "Translocation                  23\n",
       "Sodium transport               23\n",
       "Phosphate transport            17\n",
       "Chloride                       17\n",
       "Sugar transport                14\n",
       "mRNA transport                 12\n",
       "Calcium transport              11\n",
       "Iron transport                  8\n",
       "Zinc transport                  6\n",
       "Oxygen transport                5\n",
       "Anion exchange                  3\n",
       "Viral movement protein          2\n",
       "Peptide transport               2\n",
       "Cobalt transport                1\n",
       "Copper transport                1\n",
       "Neurotransmitter transport      1\n",
       "Name: keyword, dtype: int64"
      ]
     },
     "execution_count": 16,
     "metadata": {},
     "output_type": "execute_result"
    }
   ],
   "source": [
    "df_substrates_new = df_substrates_merged[df_substrates_merged._merge == \"left_only\"]\n",
    "print(len(df_substrates_new))\n",
    "df_substrates_new.keyword.value_counts()\n"
   ]
  },
  {
   "cell_type": "markdown",
   "metadata": {},
   "source": [
    "#### How many of them are transmembrane transporters?\n",
    "\n",
    "We did not yet filter by transmembrane transport, and did not perform any clustering. How does this change the additional data?"
   ]
  },
  {
   "cell_type": "code",
   "execution_count": 17,
   "metadata": {
    "execution": {
     "iopub.execute_input": "2023-01-31T17:28:03.322644Z",
     "iopub.status.busy": "2023-01-31T17:28:03.322203Z",
     "iopub.status.idle": "2023-01-31T17:28:03.727787Z",
     "shell.execute_reply": "2023-01-31T17:28:03.726160Z"
    }
   },
   "outputs": [
    {
     "data": {
      "text/plain": [
       "Lipid transport               184\n",
       "Ion transport                  79\n",
       "Protein transport              40\n",
       "Potassium transport            27\n",
       "Amino-acid transport           26\n",
       "Sodium transport               18\n",
       "Phosphate transport            17\n",
       "Electron transport             17\n",
       "Chloride                       16\n",
       "Hydrogen ion transport         14\n",
       "Calcium transport              10\n",
       "Sugar transport                10\n",
       "Translocation                   7\n",
       "Zinc transport                  6\n",
       "Anion exchange                  3\n",
       "Iron transport                  1\n",
       "Cobalt transport                1\n",
       "Copper transport                1\n",
       "Neurotransmitter transport      1\n",
       "Name: keyword, dtype: int64"
      ]
     },
     "metadata": {},
     "output_type": "display_data"
    },
    {
     "name": "stdout",
     "output_type": "stream",
     "text": [
      "478\n",
      "386\n"
     ]
    }
   ],
   "source": [
    "keyword_matches = (\n",
    "    df_keywords_m2[df_keywords_m2.keyword.isin([\"Transport\", \"Transmembrane\"])]\n",
    "    .groupby(\"Uniprot\")\n",
    "    .apply(len)\n",
    ")\n",
    "transmembrane_transport = set(\n",
    "    keyword_matches[keyword_matches == len([\"Transport\", \"Transmembrane\"])]\n",
    "    .index.unique()\n",
    "    .values\n",
    ")\n",
    "df_substrates_new_transmembrane_transport = df_substrates_new[\n",
    "    df_substrates_new.Uniprot.isin(transmembrane_transport)\n",
    "]\n",
    "display(df_substrates_new_transmembrane_transport.keyword.value_counts())\n",
    "print(len(df_substrates_new_transmembrane_transport))\n",
    "print(len(df_substrates_new_transmembrane_transport.Uniprot.unique()))\n"
   ]
  },
  {
   "attachments": {},
   "cell_type": "markdown",
   "metadata": {},
   "source": [
    "So, there are 478 new annotations for 386 transmembrane transporters before clustering. How do they distribute among the organisms?\n",
    "\n",
    "- Most were added in human, followed by mouse and rat. This could make these organisms suitable for ion transporter training sets."
   ]
  },
  {
   "cell_type": "code",
   "execution_count": 18,
   "metadata": {
    "execution": {
     "iopub.execute_input": "2023-01-31T17:28:03.734073Z",
     "iopub.status.busy": "2023-01-31T17:28:03.733630Z",
     "iopub.status.idle": "2023-01-31T17:28:03.744368Z",
     "shell.execute_reply": "2023-01-31T17:28:03.742994Z"
    }
   },
   "outputs": [],
   "source": [
    "df_organisms_new = df_swissprot_new[[\"organism_id\"]].reset_index(drop=False)"
   ]
  },
  {
   "cell_type": "code",
   "execution_count": 19,
   "metadata": {
    "execution": {
     "iopub.execute_input": "2023-01-31T17:28:03.748816Z",
     "iopub.status.busy": "2023-01-31T17:28:03.748361Z",
     "iopub.status.idle": "2023-01-31T17:28:03.790164Z",
     "shell.execute_reply": "2023-01-31T17:28:03.788771Z"
    }
   },
   "outputs": [
    {
     "name": "stdout",
     "output_type": "stream",
     "text": [
      "9606      64\n",
      "10090     60\n",
      "10116     44\n",
      "9913      24\n",
      "6239      19\n",
      "          ..\n",
      "29397      1\n",
      "395019     1\n",
      "83332      1\n",
      "10036      1\n",
      "37316      1\n",
      "Name: organism_id, Length: 86, dtype: int64\n"
     ]
    }
   ],
   "source": [
    "# df_substrates_new_transmembrane_transport.merge\n",
    "# df_swissprot_new\n",
    "\n",
    "df_substrates_new_transmembrane_transport = (\n",
    "    df_substrates_new_transmembrane_transport.merge(\n",
    "        df_organisms_new, how=\"left\", on=\"Uniprot\"\n",
    "    )\n",
    ")\n",
    "print(df_substrates_new_transmembrane_transport.organism_id.value_counts())\n"
   ]
  },
  {
   "cell_type": "markdown",
   "metadata": {},
   "source": [
    "#### Filtering out invalid proteins:\n",
    "\n",
    "How many proteins are in our filtered dataset, where only proteins with experimental evidence and valid sequences are allowed?\n",
    "\n",
    "- Now we have 282 proteins left. \n",
    "- This is also because proteins often have multiple substrate annotations."
   ]
  },
  {
   "cell_type": "code",
   "execution_count": 20,
   "metadata": {
    "execution": {
     "iopub.execute_input": "2023-01-31T17:28:03.794741Z",
     "iopub.status.busy": "2023-01-31T17:28:03.794423Z",
     "iopub.status.idle": "2023-01-31T17:28:03.839034Z",
     "shell.execute_reply": "2023-01-31T17:28:03.837905Z"
    }
   },
   "outputs": [
    {
     "data": {
      "text/html": [
       "<div>\n",
       "<style scoped>\n",
       "    .dataframe tbody tr th:only-of-type {\n",
       "        vertical-align: middle;\n",
       "    }\n",
       "\n",
       "    .dataframe tbody tr th {\n",
       "        vertical-align: top;\n",
       "    }\n",
       "\n",
       "    .dataframe thead th {\n",
       "        text-align: right;\n",
       "    }\n",
       "</style>\n",
       "<table border=\"1\" class=\"dataframe\">\n",
       "  <thead>\n",
       "    <tr style=\"text-align: right;\">\n",
       "      <th></th>\n",
       "      <th>Uniprot</th>\n",
       "      <th>sequence</th>\n",
       "    </tr>\n",
       "  </thead>\n",
       "  <tbody>\n",
       "    <tr>\n",
       "      <th>105</th>\n",
       "      <td>O14975</td>\n",
       "      <td>MLSAIYTVLAGLLFLPLLVNLCCPYFFQDIGYFLKVAAVGRRVRSYGKRRPARTILRAFLEKARQTPHKPFLLFRDETLTYAQVDRRSNQVARALHDHLGLRQGDCVALLMGNEPAYVWLWLGLVKLGCAMACLNYNIRAKSLLHCFQCCGAKVLLVSPELQAAVEEILPSLKKDDVSIYYVSRTSNTDGIDSFLD...</td>\n",
       "    </tr>\n",
       "    <tr>\n",
       "      <th>116</th>\n",
       "      <td>O15162</td>\n",
       "      <td>MDKQNSQMNASHPETNLPVGYPPQYPPTAFQGPPGYSGYPGPQVSYPPPPAGHSGPGPAGFPVPNQPVYNQPVYNQPVGAAGVPWMPAPQPPLNCPPGLEYLSQIDQILIHQQIELLEVLTGFETNNKYEIKNSFGQRVYFAAEDTDCCTRNCCGPSRPFTLRIIDNMGQEVITLERPLRCSSCCCPCCLQEIEIQ...</td>\n",
       "    </tr>\n",
       "    <tr>\n",
       "      <th>123</th>\n",
       "      <td>O15260</td>\n",
       "      <td>MGQNDLMGTAEDFADQFLRVTKQYLPHVARLCLISTFLEDGIRMWFQWSEQRDYIDTTWNCGYLLASSFVFLNLLGQLTGCVLVLSRNFVQYACFGLFGIIALQTIAYSILWDLKFLMRNLALGGGLLLLLAESRSEGKSMFAGVPTMRESSPKQYMQLGGRVLLVLMFMTLLHFDASFFSIVQNIVGTALMILVA...</td>\n",
       "    </tr>\n",
       "    <tr>\n",
       "      <th>317</th>\n",
       "      <td>O95342</td>\n",
       "      <td>MSDSVILRSIKKFGEENDGFESDKSYNNDKKSRLQDEKKGDGVRVGFFQLFRFSSSTDIWLMFVGSLCAFLHGIAQPGVLLIFGTMTDVFIDYDVELQELQIPGKACVNNTIVWTNSSLNQNMTNGTRCGLLNIESEMIKFASYYAGIAVAVLITGYIQICFWVIAAARQIQKMRKFYFRRIMRMEIGWFDCNSVG...</td>\n",
       "    </tr>\n",
       "    <tr>\n",
       "      <th>1382</th>\n",
       "      <td>Q5T3U5</td>\n",
       "      <td>MERLLAQLCGSSAAWPLPLWEGDTTGHCFTQLVLSALPHALLAVLSACYLGTPRSPDYILPCSPGWRLRLAASFLLSVFPLLDLLPVALPPGAGPGPIGLEVLAGCVAAVAWISHSLALWVLAHSPHGHSRGPLALALVALLPAPALVLTVLWHCQRGTLLPPLLPGPMARLCLLILQLAALLAYALGWAAPGGPR...</td>\n",
       "    </tr>\n",
       "    <tr>\n",
       "      <th>...</th>\n",
       "      <td>...</td>\n",
       "      <td>...</td>\n",
       "    </tr>\n",
       "    <tr>\n",
       "      <th>137657</th>\n",
       "      <td>P54251</td>\n",
       "      <td>AIFKSYCEIIVTHFPFDEQNCSMKLGTWTYDSSVVVINPESDQPDLSNFMESGEWVIKEARGWKHNVTYACCLTTHYLDITYHF</td>\n",
       "    </tr>\n",
       "    <tr>\n",
       "      <th>137787</th>\n",
       "      <td>Q15B89</td>\n",
       "      <td>KGEAPAKSSTHRHDEELGMASAETLTVFLKLLAAGFYGVSSFLIVVVNKSVLTNYRFPSSLCVGLGQMVATVAVLWVGKALRVVKFPDFDRNVPRKTFPLPLLYFGNQITGLFSTKKLNLPMFTVLRRFSILFTMFAEGVLLKKTFSWGIKMTVFAMIIGAFVAASSDLAFDLEGYVFILINDVLTAANGAYVKQK...</td>\n",
       "    </tr>\n",
       "    <tr>\n",
       "      <th>140258</th>\n",
       "      <td>P54248</td>\n",
       "      <td>AIFKSYCEIIVTHFPFDEQNCSMKLGTWTYDGSKVAINAESEHPDLSNFMESGEWVIKEARGWKHWVFYACCPTTPYLDITYHF</td>\n",
       "    </tr>\n",
       "    <tr>\n",
       "      <th>141566</th>\n",
       "      <td>P54249</td>\n",
       "      <td>AIFKSYCEIIVTHFPFDEQNCSMKLGTWTYDGSVVAINPENDQPDLSNFMESGEWVIKEARGWKHRVIYACCPSTPYLDITYHF</td>\n",
       "    </tr>\n",
       "    <tr>\n",
       "      <th>142303</th>\n",
       "      <td>Q8HY59</td>\n",
       "      <td>LFSFKELNEQFKRKIKVVLPVDLVLIIAASFACYCTNMENTYGLEVVGHIPRGIPPPRAPPMNILSAVITEAFGVALVGYAASLALAQGSAKKFKYSVDDNQEFLAHGLSNVISSFLFCIPSAAAMGR</td>\n",
       "    </tr>\n",
       "  </tbody>\n",
       "</table>\n",
       "<p>386 rows × 2 columns</p>\n",
       "</div>"
      ],
      "text/plain": [
       "       Uniprot  \\\n",
       "105     O14975   \n",
       "116     O15162   \n",
       "123     O15260   \n",
       "317     O95342   \n",
       "1382    Q5T3U5   \n",
       "...        ...   \n",
       "137657  P54251   \n",
       "137787  Q15B89   \n",
       "140258  P54248   \n",
       "141566  P54249   \n",
       "142303  Q8HY59   \n",
       "\n",
       "                                                                                                                                                                                                       sequence  \n",
       "105     MLSAIYTVLAGLLFLPLLVNLCCPYFFQDIGYFLKVAAVGRRVRSYGKRRPARTILRAFLEKARQTPHKPFLLFRDETLTYAQVDRRSNQVARALHDHLGLRQGDCVALLMGNEPAYVWLWLGLVKLGCAMACLNYNIRAKSLLHCFQCCGAKVLLVSPELQAAVEEILPSLKKDDVSIYYVSRTSNTDGIDSFLD...  \n",
       "116     MDKQNSQMNASHPETNLPVGYPPQYPPTAFQGPPGYSGYPGPQVSYPPPPAGHSGPGPAGFPVPNQPVYNQPVYNQPVGAAGVPWMPAPQPPLNCPPGLEYLSQIDQILIHQQIELLEVLTGFETNNKYEIKNSFGQRVYFAAEDTDCCTRNCCGPSRPFTLRIIDNMGQEVITLERPLRCSSCCCPCCLQEIEIQ...  \n",
       "123     MGQNDLMGTAEDFADQFLRVTKQYLPHVARLCLISTFLEDGIRMWFQWSEQRDYIDTTWNCGYLLASSFVFLNLLGQLTGCVLVLSRNFVQYACFGLFGIIALQTIAYSILWDLKFLMRNLALGGGLLLLLAESRSEGKSMFAGVPTMRESSPKQYMQLGGRVLLVLMFMTLLHFDASFFSIVQNIVGTALMILVA...  \n",
       "317     MSDSVILRSIKKFGEENDGFESDKSYNNDKKSRLQDEKKGDGVRVGFFQLFRFSSSTDIWLMFVGSLCAFLHGIAQPGVLLIFGTMTDVFIDYDVELQELQIPGKACVNNTIVWTNSSLNQNMTNGTRCGLLNIESEMIKFASYYAGIAVAVLITGYIQICFWVIAAARQIQKMRKFYFRRIMRMEIGWFDCNSVG...  \n",
       "1382    MERLLAQLCGSSAAWPLPLWEGDTTGHCFTQLVLSALPHALLAVLSACYLGTPRSPDYILPCSPGWRLRLAASFLLSVFPLLDLLPVALPPGAGPGPIGLEVLAGCVAAVAWISHSLALWVLAHSPHGHSRGPLALALVALLPAPALVLTVLWHCQRGTLLPPLLPGPMARLCLLILQLAALLAYALGWAAPGGPR...  \n",
       "...                                                                                                                                                                                                         ...  \n",
       "137657                                                                                                                     AIFKSYCEIIVTHFPFDEQNCSMKLGTWTYDSSVVVINPESDQPDLSNFMESGEWVIKEARGWKHNVTYACCLTTHYLDITYHF  \n",
       "137787  KGEAPAKSSTHRHDEELGMASAETLTVFLKLLAAGFYGVSSFLIVVVNKSVLTNYRFPSSLCVGLGQMVATVAVLWVGKALRVVKFPDFDRNVPRKTFPLPLLYFGNQITGLFSTKKLNLPMFTVLRRFSILFTMFAEGVLLKKTFSWGIKMTVFAMIIGAFVAASSDLAFDLEGYVFILINDVLTAANGAYVKQK...  \n",
       "140258                                                                                                                     AIFKSYCEIIVTHFPFDEQNCSMKLGTWTYDGSKVAINAESEHPDLSNFMESGEWVIKEARGWKHWVFYACCPTTPYLDITYHF  \n",
       "141566                                                                                                                     AIFKSYCEIIVTHFPFDEQNCSMKLGTWTYDGSVVAINPENDQPDLSNFMESGEWVIKEARGWKHRVIYACCPSTPYLDITYHF  \n",
       "142303                                                                         LFSFKELNEQFKRKIKVVLPVDLVLIIAASFACYCTNMENTYGLEVVGHIPRGIPPPRAPPMNILSAVITEAFGVALVGYAASLALAQGSAKKFKYSVDDNQEFLAHGLSNVISSFLFCIPSAAAMGR  \n",
       "\n",
       "[386 rows x 2 columns]"
      ]
     },
     "execution_count": 20,
     "metadata": {},
     "output_type": "execute_result"
    }
   ],
   "source": [
    "df_swissprot_new_sequence_only = df_swissprot_new[[\"sequence\"]].reset_index(drop=False)\n",
    "tmp = df_swissprot_new_sequence_only[\n",
    "    df_swissprot_new_sequence_only.Uniprot.isin(\n",
    "        df_substrates_new_transmembrane_transport.Uniprot\n",
    "    )\n",
    "]\n",
    "tmp\n"
   ]
  },
  {
   "attachments": {},
   "cell_type": "markdown",
   "metadata": {},
   "source": [
    "#### How many are left after clustering?\n",
    "\n",
    "- After clustering, we have 222 transporters with new annotations"
   ]
  },
  {
   "cell_type": "code",
   "execution_count": 21,
   "metadata": {
    "execution": {
     "iopub.execute_input": "2023-01-31T17:28:03.843710Z",
     "iopub.status.busy": "2023-01-31T17:28:03.843264Z",
     "iopub.status.idle": "2023-01-31T17:28:04.123375Z",
     "shell.execute_reply": "2023-01-31T17:28:04.121800Z"
    }
   },
   "outputs": [
    {
     "name": "stdout",
     "output_type": "stream",
     "text": [
      "cd-hit: clustered 386 sequences into 222 clusters at threshold 70\n",
      "222\n"
     ]
    }
   ],
   "source": [
    "from subpred.cdhit import cd_hit\n",
    "\n",
    "valid_transporters_cluster_representatives = cd_hit(\n",
    "    tmp.set_index(\"Uniprot\").sequence, identity_threshold=70\n",
    ")\n",
    "print(len(valid_transporters_cluster_representatives))\n"
   ]
  },
  {
   "attachments": {},
   "cell_type": "markdown",
   "metadata": {},
   "source": [
    "These 222 proteins have 328 substrate annotations:\n",
    "\n",
    "- Lipid is still the largest class in terms of gains, followed by Ion, Sodium and Amino-acid.\n"
   ]
  },
  {
   "cell_type": "code",
   "execution_count": 22,
   "metadata": {
    "execution": {
     "iopub.execute_input": "2023-01-31T17:28:04.128126Z",
     "iopub.status.busy": "2023-01-31T17:28:04.127766Z",
     "iopub.status.idle": "2023-01-31T17:28:04.143284Z",
     "shell.execute_reply": "2023-01-31T17:28:04.142169Z"
    }
   },
   "outputs": [
    {
     "data": {
      "text/plain": [
       "Ion transport                 86\n",
       "Lipid transport               71\n",
       "Protein transport             30\n",
       "Sodium transport              27\n",
       "Amino-acid transport          25\n",
       "Potassium transport           20\n",
       "Electron transport            15\n",
       "Hydrogen ion transport        12\n",
       "Calcium transport              9\n",
       "Sugar transport                9\n",
       "Zinc transport                 6\n",
       "Translocation                  4\n",
       "Phosphate transport            3\n",
       "Anion exchange                 3\n",
       "Iron transport                 2\n",
       "Chloride                       2\n",
       "Neurotransmitter transport     2\n",
       "Cobalt transport               1\n",
       "Copper transport               1\n",
       "Name: keyword, dtype: int64"
      ]
     },
     "execution_count": 22,
     "metadata": {},
     "output_type": "execute_result"
    }
   ],
   "source": [
    "df_substrates_m2[\n",
    "    df_substrates_m2.Uniprot.isin(valid_transporters_cluster_representatives)\n",
    "]\n",
    "df_substrates_m2[\n",
    "    df_substrates_m2.Uniprot.isin(valid_transporters_cluster_representatives)\n",
    "].keyword.value_counts()\n"
   ]
  },
  {
   "cell_type": "markdown",
   "metadata": {},
   "source": [
    "We can't give any statistics on the organism distribution of these final proteins, since the cluster representative for a protein family is selected by cd-hit, based on deterministic criteria such as sequence length."
   ]
  },
  {
   "cell_type": "markdown",
   "metadata": {},
   "source": [
    "## Changes to cellular components"
   ]
  },
  {
   "cell_type": "code",
   "execution_count": 23,
   "metadata": {
    "execution": {
     "iopub.execute_input": "2023-01-31T17:28:04.148245Z",
     "iopub.status.busy": "2023-01-31T17:28:04.147761Z",
     "iopub.status.idle": "2023-01-31T17:28:04.538974Z",
     "shell.execute_reply": "2023-01-31T17:28:04.537741Z"
    }
   },
   "outputs": [
    {
     "data": {
      "text/html": [
       "<div>\n",
       "<style scoped>\n",
       "    .dataframe tbody tr th:only-of-type {\n",
       "        vertical-align: middle;\n",
       "    }\n",
       "\n",
       "    .dataframe tbody tr th {\n",
       "        vertical-align: top;\n",
       "    }\n",
       "\n",
       "    .dataframe thead th {\n",
       "        text-align: right;\n",
       "    }\n",
       "</style>\n",
       "<table border=\"1\" class=\"dataframe\">\n",
       "  <thead>\n",
       "    <tr style=\"text-align: right;\">\n",
       "      <th></th>\n",
       "      <th>Uniprot</th>\n",
       "      <th>keyword</th>\n",
       "      <th>_merge</th>\n",
       "    </tr>\n",
       "  </thead>\n",
       "  <tbody>\n",
       "    <tr>\n",
       "      <th>0</th>\n",
       "      <td>A0A0C5B5G6</td>\n",
       "      <td>Mitochondrion</td>\n",
       "      <td>left_only</td>\n",
       "    </tr>\n",
       "    <tr>\n",
       "      <th>1</th>\n",
       "      <td>A0A0C5B5G6</td>\n",
       "      <td>Nucleus</td>\n",
       "      <td>left_only</td>\n",
       "    </tr>\n",
       "    <tr>\n",
       "      <th>2</th>\n",
       "      <td>A0A1B0GTW7</td>\n",
       "      <td>Membrane</td>\n",
       "      <td>left_only</td>\n",
       "    </tr>\n",
       "    <tr>\n",
       "      <th>3</th>\n",
       "      <td>A0A1B0GTW7</td>\n",
       "      <td>Transmembrane</td>\n",
       "      <td>left_only</td>\n",
       "    </tr>\n",
       "    <tr>\n",
       "      <th>4</th>\n",
       "      <td>A0PK11</td>\n",
       "      <td>Cell membrane</td>\n",
       "      <td>left_only</td>\n",
       "    </tr>\n",
       "    <tr>\n",
       "      <th>...</th>\n",
       "      <td>...</td>\n",
       "      <td>...</td>\n",
       "      <td>...</td>\n",
       "    </tr>\n",
       "    <tr>\n",
       "      <th>147002</th>\n",
       "      <td>O94325</td>\n",
       "      <td>Membrane</td>\n",
       "      <td>right_only</td>\n",
       "    </tr>\n",
       "    <tr>\n",
       "      <th>147003</th>\n",
       "      <td>Q1AE95</td>\n",
       "      <td>Membrane</td>\n",
       "      <td>right_only</td>\n",
       "    </tr>\n",
       "    <tr>\n",
       "      <th>147004</th>\n",
       "      <td>Q1AE95</td>\n",
       "      <td>Transmembrane</td>\n",
       "      <td>right_only</td>\n",
       "    </tr>\n",
       "    <tr>\n",
       "      <th>147005</th>\n",
       "      <td>Q8IM46</td>\n",
       "      <td>Membrane</td>\n",
       "      <td>right_only</td>\n",
       "    </tr>\n",
       "    <tr>\n",
       "      <th>147006</th>\n",
       "      <td>Q8IM46</td>\n",
       "      <td>Transmembrane</td>\n",
       "      <td>right_only</td>\n",
       "    </tr>\n",
       "  </tbody>\n",
       "</table>\n",
       "<p>147007 rows × 3 columns</p>\n",
       "</div>"
      ],
      "text/plain": [
       "           Uniprot        keyword      _merge\n",
       "0       A0A0C5B5G6  Mitochondrion   left_only\n",
       "1       A0A0C5B5G6        Nucleus   left_only\n",
       "2       A0A1B0GTW7       Membrane   left_only\n",
       "3       A0A1B0GTW7  Transmembrane   left_only\n",
       "4           A0PK11  Cell membrane   left_only\n",
       "...            ...            ...         ...\n",
       "147002      O94325       Membrane  right_only\n",
       "147003      Q1AE95       Membrane  right_only\n",
       "147004      Q1AE95  Transmembrane  right_only\n",
       "147005      Q8IM46       Membrane  right_only\n",
       "147006      Q8IM46  Transmembrane  right_only\n",
       "\n",
       "[147007 rows x 3 columns]"
      ]
     },
     "execution_count": 23,
     "metadata": {},
     "output_type": "execute_result"
    }
   ],
   "source": [
    "df_keywords_locations_merged = df_keywords_m2[\n",
    "    df_keywords_m2.keyword.isin(KEYWORDS_LOCATION)\n",
    "].merge(\n",
    "    df_keywords_m1[df_keywords_m1.keyword.isin(KEYWORDS_LOCATION)],\n",
    "    how=\"outer\",\n",
    "    indicator=True,\n",
    ")\n",
    "df_keywords_locations_merged\n"
   ]
  },
  {
   "attachments": {},
   "cell_type": "markdown",
   "metadata": {},
   "source": [
    "#### Stats (before filtering and clustering)\n",
    "\n",
    "210 membrane-related keywords were deleted, 5258 were added:"
   ]
  },
  {
   "cell_type": "code",
   "execution_count": 24,
   "metadata": {
    "execution": {
     "iopub.execute_input": "2023-01-31T17:28:04.544184Z",
     "iopub.status.busy": "2023-01-31T17:28:04.543846Z",
     "iopub.status.idle": "2023-01-31T17:28:04.563657Z",
     "shell.execute_reply": "2023-01-31T17:28:04.562558Z"
    }
   },
   "outputs": [
    {
     "name": "stdout",
     "output_type": "stream",
     "text": [
      "210\n"
     ]
    },
    {
     "data": {
      "text/plain": [
       "Membrane                        90\n",
       "Transmembrane                   51\n",
       "Cell membrane                   24\n",
       "Nucleus                         22\n",
       "Mitochondrion inner membrane     9\n",
       "Mitochondrion                    6\n",
       "Endoplasmic reticulum            5\n",
       "Cell inner membrane              2\n",
       "Cell outer membrane              1\n",
       "Name: keyword, dtype: int64"
      ]
     },
     "execution_count": 24,
     "metadata": {},
     "output_type": "execute_result"
    }
   ],
   "source": [
    "df_keywords_locations_deleted = df_keywords_locations_merged[\n",
    "    df_keywords_locations_merged._merge == \"right_only\"\n",
    "]\n",
    "print(df_keywords_locations_deleted.shape[0])\n",
    "df_keywords_locations_deleted.keyword.value_counts()"
   ]
  },
  {
   "cell_type": "code",
   "execution_count": 25,
   "metadata": {
    "execution": {
     "iopub.execute_input": "2023-01-31T17:28:04.568591Z",
     "iopub.status.busy": "2023-01-31T17:28:04.568129Z",
     "iopub.status.idle": "2023-01-31T17:28:04.580225Z",
     "shell.execute_reply": "2023-01-31T17:28:04.579161Z"
    }
   },
   "outputs": [
    {
     "name": "stdout",
     "output_type": "stream",
     "text": [
      "5258\n"
     ]
    },
    {
     "data": {
      "text/plain": [
       "Membrane                        1402\n",
       "Nucleus                         1082\n",
       "Transmembrane                    894\n",
       "Cell membrane                    893\n",
       "Endoplasmic reticulum            381\n",
       "Mitochondrion                    333\n",
       "Mitochondrion inner membrane     101\n",
       "Cell inner membrane               91\n",
       "Mitochondrion outer membrane      45\n",
       "Cell outer membrane               21\n",
       "Postsynaptic cell membrane        14\n",
       "Plastid inner membrane             1\n",
       "Name: keyword, dtype: int64"
      ]
     },
     "execution_count": 25,
     "metadata": {},
     "output_type": "execute_result"
    }
   ],
   "source": [
    "df_keywords_locations_added = df_keywords_locations_merged[\n",
    "    df_keywords_locations_merged._merge == \"left_only\"\n",
    "]\n",
    "print(df_keywords_locations_added.shape[0])\n",
    "df_keywords_locations_added.keyword.value_counts()"
   ]
  }
 ],
 "metadata": {
  "kernelspec": {
   "display_name": "Python 3.10.8 ('subpred4')",
   "language": "python",
   "name": "python3"
  },
  "language_info": {
   "codemirror_mode": {
    "name": "ipython",
    "version": 3
   },
   "file_extension": ".py",
   "mimetype": "text/x-python",
   "name": "python",
   "nbconvert_exporter": "python",
   "pygments_lexer": "ipython3",
   "version": "3.10.8"
  },
  "vscode": {
   "interpreter": {
    "hash": "ec8de6dd8f2d395005c42468f5d13cdd089376f2ad37eab4b2481f4d8703f0b2"
   }
  }
 },
 "nbformat": 4,
 "nbformat_minor": 2
}
