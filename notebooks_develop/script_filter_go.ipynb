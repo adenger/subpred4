{
 "cells": [
  {
   "cell_type": "code",
   "execution_count": 20,
   "metadata": {},
   "outputs": [],
   "source": [
    "header = [\n",
    "    \"db\",\n",
    "    \"db_object_id\",\n",
    "    \"db_object_symbol\",\n",
    "    \"qualifier\",\n",
    "    \"go_id\",\n",
    "    \"db_reference\",\n",
    "    \"evidence_code\",\n",
    "    \"with_or_from\",\n",
    "    \"aspect\",\n",
    "    \"db_object_name\",\n",
    "    \"db_object_synonym\",\n",
    "    \"db_object_type\",\n",
    "    \"taxon\",\n",
    "    \"date\",\n",
    "    \"assigned_by\",\n",
    "    \"annotation_extension\",\n",
    "    \"gene_product_form_id\",\n",
    "]\n",
    "outfile_header = [\"Uniprot\", \"qualifier\", \"go_id\", \"evidence_code\", \"aspect\", \"date\"]\n",
    "with open(\"/home/ad/gene_ontology/goa_uniprot_all_filtered.gaf\", \"w\") as outfile:\n",
    "    outfile.write(\"\\t\".join(outfile_header) + \"\\n\")\n",
    "    with open(\"/home/ad/gene_ontology/goa_uniprot_all.gaf.sample\") as infile:\n",
    "        for line in infile:\n",
    "            if not line.startswith(\"UniProtKB\"):\n",
    "                # also takes care of comments\n",
    "                continue\n",
    "            items = line.split(\"\\t\")\n",
    "            outfile.write(\n",
    "                \"\\t\".join([items[i] for i in (1,3,4,6,8,13)]+[\"\\n\"])\n",
    "            )\n"
   ]
  }
 ],
 "metadata": {
  "kernelspec": {
   "display_name": "Python 3.10.8 ('subpred4')",
   "language": "python",
   "name": "python3"
  },
  "language_info": {
   "codemirror_mode": {
    "name": "ipython",
    "version": 3
   },
   "file_extension": ".py",
   "mimetype": "text/x-python",
   "name": "python",
   "nbconvert_exporter": "python",
   "pygments_lexer": "ipython3",
   "version": "3.10.8"
  },
  "orig_nbformat": 4,
  "vscode": {
   "interpreter": {
    "hash": "ec8de6dd8f2d395005c42468f5d13cdd089376f2ad37eab4b2481f4d8703f0b2"
   }
  }
 },
 "nbformat": 4,
 "nbformat_minor": 2
}
