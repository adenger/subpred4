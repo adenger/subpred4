{
 "cells": [
  {
   "cell_type": "code",
   "execution_count": 1,
   "metadata": {},
   "outputs": [
    {
     "data": {
      "text/html": [
       "<div>\n",
       "<style scoped>\n",
       "    .dataframe tbody tr th:only-of-type {\n",
       "        vertical-align: middle;\n",
       "    }\n",
       "\n",
       "    .dataframe tbody tr th {\n",
       "        vertical-align: top;\n",
       "    }\n",
       "\n",
       "    .dataframe thead th {\n",
       "        text-align: right;\n",
       "    }\n",
       "</style>\n",
       "<table border=\"1\" class=\"dataframe\">\n",
       "  <thead>\n",
       "    <tr style=\"text-align: right;\">\n",
       "      <th></th>\n",
       "      <th>gene_names</th>\n",
       "      <th>protein_names</th>\n",
       "      <th>reviewed</th>\n",
       "      <th>protein_existence</th>\n",
       "      <th>sequence</th>\n",
       "      <th>organism_id</th>\n",
       "    </tr>\n",
       "    <tr>\n",
       "      <th>Uniprot</th>\n",
       "      <th></th>\n",
       "      <th></th>\n",
       "      <th></th>\n",
       "      <th></th>\n",
       "      <th></th>\n",
       "      <th></th>\n",
       "    </tr>\n",
       "  </thead>\n",
       "  <tbody>\n",
       "    <tr>\n",
       "      <th>A0A0C5B5G6</th>\n",
       "      <td>MT-RNR1</td>\n",
       "      <td>Mitochondrial-derived peptide MOTS-c (Mitochon...</td>\n",
       "      <td>True</td>\n",
       "      <td>1</td>\n",
       "      <td>MRWQEMGYIFYPRKLR</td>\n",
       "      <td>9606</td>\n",
       "    </tr>\n",
       "    <tr>\n",
       "      <th>A0A1B0GTW7</th>\n",
       "      <td>CIROP LMLN2</td>\n",
       "      <td>Ciliated left-right organizer metallopeptidase...</td>\n",
       "      <td>True</td>\n",
       "      <td>1</td>\n",
       "      <td>MLLLLLLLLLLPPLVLRVAASRCLHDETQKSVSLLRPPFSQLPSKS...</td>\n",
       "      <td>9606</td>\n",
       "    </tr>\n",
       "    <tr>\n",
       "      <th>A0PK11</th>\n",
       "      <td>CLRN2</td>\n",
       "      <td>Clarin-2</td>\n",
       "      <td>True</td>\n",
       "      <td>1</td>\n",
       "      <td>MPGWFKKAWYGLASLLSFSSFILIIVALVVPHWLSGKILCQTGVDL...</td>\n",
       "      <td>9606</td>\n",
       "    </tr>\n",
       "    <tr>\n",
       "      <th>A1L190</th>\n",
       "      <td>SYCE3 C22orf41 THEG2</td>\n",
       "      <td>Synaptonemal complex central element protein 3...</td>\n",
       "      <td>True</td>\n",
       "      <td>1</td>\n",
       "      <td>MDDADPEERNYDNMLKMLSDLNKDLEKLLEEMEKISVQATWMAYDM...</td>\n",
       "      <td>9606</td>\n",
       "    </tr>\n",
       "    <tr>\n",
       "      <th>A1X283</th>\n",
       "      <td>SH3PXD2B FAD49 KIAA1295 TKS4</td>\n",
       "      <td>SH3 and PX domain-containing protein 2B (Adapt...</td>\n",
       "      <td>True</td>\n",
       "      <td>1</td>\n",
       "      <td>MPPRRSIVEVKVLDVQKRRVPNKHYVYIIRVTWSSGSTEAIYRRYS...</td>\n",
       "      <td>9606</td>\n",
       "    </tr>\n",
       "  </tbody>\n",
       "</table>\n",
       "</div>"
      ],
      "text/plain": [
       "                              gene_names  \\\n",
       "Uniprot                                    \n",
       "A0A0C5B5G6                       MT-RNR1   \n",
       "A0A1B0GTW7                   CIROP LMLN2   \n",
       "A0PK11                             CLRN2   \n",
       "A1L190              SYCE3 C22orf41 THEG2   \n",
       "A1X283      SH3PXD2B FAD49 KIAA1295 TKS4   \n",
       "\n",
       "                                                protein_names  reviewed  \\\n",
       "Uniprot                                                                   \n",
       "A0A0C5B5G6  Mitochondrial-derived peptide MOTS-c (Mitochon...      True   \n",
       "A0A1B0GTW7  Ciliated left-right organizer metallopeptidase...      True   \n",
       "A0PK11                                               Clarin-2      True   \n",
       "A1L190      Synaptonemal complex central element protein 3...      True   \n",
       "A1X283      SH3 and PX domain-containing protein 2B (Adapt...      True   \n",
       "\n",
       "            protein_existence  \\\n",
       "Uniprot                         \n",
       "A0A0C5B5G6                  1   \n",
       "A0A1B0GTW7                  1   \n",
       "A0PK11                      1   \n",
       "A1L190                      1   \n",
       "A1X283                      1   \n",
       "\n",
       "                                                     sequence  organism_id  \n",
       "Uniprot                                                                     \n",
       "A0A0C5B5G6                                   MRWQEMGYIFYPRKLR         9606  \n",
       "A0A1B0GTW7  MLLLLLLLLLLPPLVLRVAASRCLHDETQKSVSLLRPPFSQLPSKS...         9606  \n",
       "A0PK11      MPGWFKKAWYGLASLLSFSSFILIIVALVVPHWLSGKILCQTGVDL...         9606  \n",
       "A1L190      MDDADPEERNYDNMLKMLSDLNKDLEKLLEEMEKISVQATWMAYDM...         9606  \n",
       "A1X283      MPPRRSIVEVKVLDVQKRRVPNKHYVYIIRVTWSSGSTEAIYRRYS...         9606  "
      ]
     },
     "execution_count": 1,
     "metadata": {},
     "output_type": "execute_result"
    }
   ],
   "source": [
    "from subpred.util import load_df\n",
    "\n",
    "sequences70 = load_df(\"uniprot70\")\n",
    "sequences70.head()"
   ]
  },
  {
   "cell_type": "code",
   "execution_count": 10,
   "metadata": {},
   "outputs": [
    {
     "data": {
      "text/html": [
       "<div>\n",
       "<style scoped>\n",
       "    .dataframe tbody tr th:only-of-type {\n",
       "        vertical-align: middle;\n",
       "    }\n",
       "\n",
       "    .dataframe tbody tr th {\n",
       "        vertical-align: top;\n",
       "    }\n",
       "\n",
       "    .dataframe thead th {\n",
       "        text-align: right;\n",
       "    }\n",
       "</style>\n",
       "<table border=\"1\" class=\"dataframe\">\n",
       "  <thead>\n",
       "    <tr style=\"text-align: right;\">\n",
       "      <th></th>\n",
       "      <th>Uniprot</th>\n",
       "      <th>qualifier</th>\n",
       "      <th>go_id</th>\n",
       "      <th>evidence_code</th>\n",
       "      <th>aspect</th>\n",
       "    </tr>\n",
       "  </thead>\n",
       "  <tbody>\n",
       "    <tr>\n",
       "      <th>0</th>\n",
       "      <td>A0A009FND8</td>\n",
       "      <td>enables</td>\n",
       "      <td>GO:0000166</td>\n",
       "      <td>IEA</td>\n",
       "      <td>F</td>\n",
       "    </tr>\n",
       "    <tr>\n",
       "      <th>1</th>\n",
       "      <td>A0A009FND8</td>\n",
       "      <td>enables</td>\n",
       "      <td>GO:0005524</td>\n",
       "      <td>IEA</td>\n",
       "      <td>F</td>\n",
       "    </tr>\n",
       "    <tr>\n",
       "      <th>2</th>\n",
       "      <td>A0A009FND8</td>\n",
       "      <td>enables</td>\n",
       "      <td>GO:0051082</td>\n",
       "      <td>IEA</td>\n",
       "      <td>F</td>\n",
       "    </tr>\n",
       "    <tr>\n",
       "      <th>3</th>\n",
       "      <td>A0A009FND8</td>\n",
       "      <td>enables</td>\n",
       "      <td>GO:0140662</td>\n",
       "      <td>IEA</td>\n",
       "      <td>F</td>\n",
       "    </tr>\n",
       "    <tr>\n",
       "      <th>4</th>\n",
       "      <td>A0A009FND8</td>\n",
       "      <td>involved_in</td>\n",
       "      <td>GO:0006457</td>\n",
       "      <td>IEA</td>\n",
       "      <td>P</td>\n",
       "    </tr>\n",
       "    <tr>\n",
       "      <th>...</th>\n",
       "      <td>...</td>\n",
       "      <td>...</td>\n",
       "      <td>...</td>\n",
       "      <td>...</td>\n",
       "      <td>...</td>\n",
       "    </tr>\n",
       "    <tr>\n",
       "      <th>7452013</th>\n",
       "      <td>Z9JND5</td>\n",
       "      <td>enables</td>\n",
       "      <td>GO:0000166</td>\n",
       "      <td>IEA</td>\n",
       "      <td>F</td>\n",
       "    </tr>\n",
       "    <tr>\n",
       "      <th>7452014</th>\n",
       "      <td>Z9JND5</td>\n",
       "      <td>enables</td>\n",
       "      <td>GO:0005524</td>\n",
       "      <td>IEA</td>\n",
       "      <td>F</td>\n",
       "    </tr>\n",
       "    <tr>\n",
       "      <th>7452015</th>\n",
       "      <td>Z9JND5</td>\n",
       "      <td>enables</td>\n",
       "      <td>GO:0051082</td>\n",
       "      <td>IEA</td>\n",
       "      <td>F</td>\n",
       "    </tr>\n",
       "    <tr>\n",
       "      <th>7452016</th>\n",
       "      <td>Z9JND5</td>\n",
       "      <td>enables</td>\n",
       "      <td>GO:0140662</td>\n",
       "      <td>IEA</td>\n",
       "      <td>F</td>\n",
       "    </tr>\n",
       "    <tr>\n",
       "      <th>7452017</th>\n",
       "      <td>Z9JND5</td>\n",
       "      <td>involved_in</td>\n",
       "      <td>GO:0006457</td>\n",
       "      <td>IEA</td>\n",
       "      <td>P</td>\n",
       "    </tr>\n",
       "  </tbody>\n",
       "</table>\n",
       "<p>7452018 rows × 5 columns</p>\n",
       "</div>"
      ],
      "text/plain": [
       "            Uniprot    qualifier       go_id evidence_code aspect\n",
       "0        A0A009FND8      enables  GO:0000166           IEA      F\n",
       "1        A0A009FND8      enables  GO:0005524           IEA      F\n",
       "2        A0A009FND8      enables  GO:0051082           IEA      F\n",
       "3        A0A009FND8      enables  GO:0140662           IEA      F\n",
       "4        A0A009FND8  involved_in  GO:0006457           IEA      P\n",
       "...             ...          ...         ...           ...    ...\n",
       "7452013      Z9JND5      enables  GO:0000166           IEA      F\n",
       "7452014      Z9JND5      enables  GO:0005524           IEA      F\n",
       "7452015      Z9JND5      enables  GO:0051082           IEA      F\n",
       "7452016      Z9JND5      enables  GO:0140662           IEA      F\n",
       "7452017      Z9JND5  involved_in  GO:0006457           IEA      P\n",
       "\n",
       "[7452018 rows x 5 columns]"
      ]
     },
     "execution_count": 10,
     "metadata": {},
     "output_type": "execute_result"
    }
   ],
   "source": [
    "goa_uniprot = load_df(\"go\")\n",
    "goa_uniprot"
   ]
  },
  {
   "cell_type": "code",
   "execution_count": 11,
   "metadata": {},
   "outputs": [
    {
     "data": {
      "text/html": [
       "<div>\n",
       "<style scoped>\n",
       "    .dataframe tbody tr th:only-of-type {\n",
       "        vertical-align: middle;\n",
       "    }\n",
       "\n",
       "    .dataframe tbody tr th {\n",
       "        vertical-align: top;\n",
       "    }\n",
       "\n",
       "    .dataframe thead th {\n",
       "        text-align: right;\n",
       "    }\n",
       "</style>\n",
       "<table border=\"1\" class=\"dataframe\">\n",
       "  <thead>\n",
       "    <tr style=\"text-align: right;\">\n",
       "      <th></th>\n",
       "      <th>Uniprot</th>\n",
       "      <th>qualifier</th>\n",
       "      <th>go_id</th>\n",
       "      <th>evidence_code</th>\n",
       "      <th>aspect</th>\n",
       "    </tr>\n",
       "  </thead>\n",
       "  <tbody>\n",
       "    <tr>\n",
       "      <th>69</th>\n",
       "      <td>A0A009IHW8</td>\n",
       "      <td>enables</td>\n",
       "      <td>GO:0003953</td>\n",
       "      <td>IDA</td>\n",
       "      <td>F</td>\n",
       "    </tr>\n",
       "    <tr>\n",
       "      <th>70</th>\n",
       "      <td>A0A009IHW8</td>\n",
       "      <td>enables</td>\n",
       "      <td>GO:0003953</td>\n",
       "      <td>IEA</td>\n",
       "      <td>F</td>\n",
       "    </tr>\n",
       "    <tr>\n",
       "      <th>71</th>\n",
       "      <td>A0A009IHW8</td>\n",
       "      <td>enables</td>\n",
       "      <td>GO:0016787</td>\n",
       "      <td>IEA</td>\n",
       "      <td>F</td>\n",
       "    </tr>\n",
       "    <tr>\n",
       "      <th>72</th>\n",
       "      <td>A0A009IHW8</td>\n",
       "      <td>enables</td>\n",
       "      <td>GO:0050135</td>\n",
       "      <td>IEA</td>\n",
       "      <td>F</td>\n",
       "    </tr>\n",
       "    <tr>\n",
       "      <th>73</th>\n",
       "      <td>A0A009IHW8</td>\n",
       "      <td>enables</td>\n",
       "      <td>GO:0061809</td>\n",
       "      <td>IEA</td>\n",
       "      <td>F</td>\n",
       "    </tr>\n",
       "    <tr>\n",
       "      <th>...</th>\n",
       "      <td>...</td>\n",
       "      <td>...</td>\n",
       "      <td>...</td>\n",
       "      <td>...</td>\n",
       "      <td>...</td>\n",
       "    </tr>\n",
       "    <tr>\n",
       "      <th>7451977</th>\n",
       "      <td>Z4YNH5</td>\n",
       "      <td>located_in</td>\n",
       "      <td>GO:0005856</td>\n",
       "      <td>IEA</td>\n",
       "      <td>C</td>\n",
       "    </tr>\n",
       "    <tr>\n",
       "      <th>7451978</th>\n",
       "      <td>Z4YNH5</td>\n",
       "      <td>located_in</td>\n",
       "      <td>GO:0005886</td>\n",
       "      <td>IEA</td>\n",
       "      <td>C</td>\n",
       "    </tr>\n",
       "    <tr>\n",
       "      <th>7451979</th>\n",
       "      <td>Z4YNH5</td>\n",
       "      <td>located_in</td>\n",
       "      <td>GO:0016020</td>\n",
       "      <td>IEA</td>\n",
       "      <td>C</td>\n",
       "    </tr>\n",
       "    <tr>\n",
       "      <th>7451984</th>\n",
       "      <td>Z4YNN0</td>\n",
       "      <td>located_in</td>\n",
       "      <td>GO:0005737</td>\n",
       "      <td>IEA</td>\n",
       "      <td>C</td>\n",
       "    </tr>\n",
       "    <tr>\n",
       "      <th>7451985</th>\n",
       "      <td>Z4YNN0</td>\n",
       "      <td>located_in</td>\n",
       "      <td>GO:0098793</td>\n",
       "      <td>IEA</td>\n",
       "      <td>C</td>\n",
       "    </tr>\n",
       "  </tbody>\n",
       "</table>\n",
       "<p>1840684 rows × 5 columns</p>\n",
       "</div>"
      ],
      "text/plain": [
       "            Uniprot   qualifier       go_id evidence_code aspect\n",
       "69       A0A009IHW8     enables  GO:0003953           IDA      F\n",
       "70       A0A009IHW8     enables  GO:0003953           IEA      F\n",
       "71       A0A009IHW8     enables  GO:0016787           IEA      F\n",
       "72       A0A009IHW8     enables  GO:0050135           IEA      F\n",
       "73       A0A009IHW8     enables  GO:0061809           IEA      F\n",
       "...             ...         ...         ...           ...    ...\n",
       "7451977      Z4YNH5  located_in  GO:0005856           IEA      C\n",
       "7451978      Z4YNH5  located_in  GO:0005886           IEA      C\n",
       "7451979      Z4YNH5  located_in  GO:0016020           IEA      C\n",
       "7451984      Z4YNN0  located_in  GO:0005737           IEA      C\n",
       "7451985      Z4YNN0  located_in  GO:0098793           IEA      C\n",
       "\n",
       "[1840684 rows x 5 columns]"
      ]
     },
     "execution_count": 11,
     "metadata": {},
     "output_type": "execute_result"
    }
   ],
   "source": [
    "goa_uniprot70 = goa_uniprot[goa_uniprot.Uniprot.isin(sequences70.index)]\n",
    "goa_uniprot70"
   ]
  },
  {
   "attachments": {},
   "cell_type": "markdown",
   "metadata": {},
   "source": [
    "Filtering for descendants of *transmembrane transporter activity*:"
   ]
  },
  {
   "cell_type": "code",
   "execution_count": 14,
   "metadata": {},
   "outputs": [],
   "source": [
    "from subpred.ontology import GeneOntology, GO_FILE\n",
    "\n",
    "go = GeneOntology(GO_FILE)\n",
    "# set of go_ids\n",
    "go_ids_transmembrane_transporters = go.get_descendants(go.get_identifier(\"transmembrane transporter activity\"))"
   ]
  },
  {
   "cell_type": "code",
   "execution_count": 13,
   "metadata": {},
   "outputs": [
    {
     "data": {
      "text/plain": [
       "True"
      ]
     },
     "execution_count": 13,
     "metadata": {},
     "output_type": "execute_result"
    }
   ],
   "source": [
    "go.get_identifier(\"transmembrane transporter activity\") in go_ids_transmembrane_transporters"
   ]
  },
  {
   "cell_type": "code",
   "execution_count": 15,
   "metadata": {},
   "outputs": [
    {
     "data": {
      "text/html": [
       "<div>\n",
       "<style scoped>\n",
       "    .dataframe tbody tr th:only-of-type {\n",
       "        vertical-align: middle;\n",
       "    }\n",
       "\n",
       "    .dataframe tbody tr th {\n",
       "        vertical-align: top;\n",
       "    }\n",
       "\n",
       "    .dataframe thead th {\n",
       "        text-align: right;\n",
       "    }\n",
       "</style>\n",
       "<table border=\"1\" class=\"dataframe\">\n",
       "  <thead>\n",
       "    <tr style=\"text-align: right;\">\n",
       "      <th></th>\n",
       "      <th>Uniprot</th>\n",
       "      <th>qualifier</th>\n",
       "      <th>go_id</th>\n",
       "      <th>evidence_code</th>\n",
       "      <th>aspect</th>\n",
       "    </tr>\n",
       "  </thead>\n",
       "  <tbody>\n",
       "    <tr>\n",
       "      <th>1751</th>\n",
       "      <td>A0A023EBM3</td>\n",
       "      <td>enables</td>\n",
       "      <td>GO:0015078</td>\n",
       "      <td>IEA</td>\n",
       "      <td>F</td>\n",
       "    </tr>\n",
       "    <tr>\n",
       "      <th>2084</th>\n",
       "      <td>A0A023EEI5</td>\n",
       "      <td>enables</td>\n",
       "      <td>GO:0046961</td>\n",
       "      <td>IEA</td>\n",
       "      <td>F</td>\n",
       "    </tr>\n",
       "    <tr>\n",
       "      <th>2713</th>\n",
       "      <td>A0A023EIR3</td>\n",
       "      <td>enables</td>\n",
       "      <td>GO:0005375</td>\n",
       "      <td>IEA</td>\n",
       "      <td>F</td>\n",
       "    </tr>\n",
       "    <tr>\n",
       "      <th>2765</th>\n",
       "      <td>A0A023EJ76</td>\n",
       "      <td>enables</td>\n",
       "      <td>GO:0022857</td>\n",
       "      <td>IEA</td>\n",
       "      <td>F</td>\n",
       "    </tr>\n",
       "    <tr>\n",
       "      <th>2800</th>\n",
       "      <td>A0A023EJJ1</td>\n",
       "      <td>enables</td>\n",
       "      <td>GO:0034632</td>\n",
       "      <td>IEA</td>\n",
       "      <td>F</td>\n",
       "    </tr>\n",
       "    <tr>\n",
       "      <th>...</th>\n",
       "      <td>...</td>\n",
       "      <td>...</td>\n",
       "      <td>...</td>\n",
       "      <td>...</td>\n",
       "      <td>...</td>\n",
       "    </tr>\n",
       "    <tr>\n",
       "      <th>7449063</th>\n",
       "      <td>X5ICQ3</td>\n",
       "      <td>enables</td>\n",
       "      <td>GO:0005216</td>\n",
       "      <td>IEA</td>\n",
       "      <td>F</td>\n",
       "    </tr>\n",
       "    <tr>\n",
       "      <th>7449064</th>\n",
       "      <td>X5ICQ3</td>\n",
       "      <td>enables</td>\n",
       "      <td>GO:0005230</td>\n",
       "      <td>IEA</td>\n",
       "      <td>F</td>\n",
       "    </tr>\n",
       "    <tr>\n",
       "      <th>7449230</th>\n",
       "      <td>X5IS84</td>\n",
       "      <td>enables</td>\n",
       "      <td>GO:0008324</td>\n",
       "      <td>IEA</td>\n",
       "      <td>F</td>\n",
       "    </tr>\n",
       "    <tr>\n",
       "      <th>7449231</th>\n",
       "      <td>X5IS84</td>\n",
       "      <td>enables</td>\n",
       "      <td>GO:0015297</td>\n",
       "      <td>IEA</td>\n",
       "      <td>F</td>\n",
       "    </tr>\n",
       "    <tr>\n",
       "      <th>7449232</th>\n",
       "      <td>X5IS84</td>\n",
       "      <td>enables</td>\n",
       "      <td>GO:0015369</td>\n",
       "      <td>IEA</td>\n",
       "      <td>F</td>\n",
       "    </tr>\n",
       "  </tbody>\n",
       "</table>\n",
       "<p>25568 rows × 5 columns</p>\n",
       "</div>"
      ],
      "text/plain": [
       "            Uniprot qualifier       go_id evidence_code aspect\n",
       "1751     A0A023EBM3   enables  GO:0015078           IEA      F\n",
       "2084     A0A023EEI5   enables  GO:0046961           IEA      F\n",
       "2713     A0A023EIR3   enables  GO:0005375           IEA      F\n",
       "2765     A0A023EJ76   enables  GO:0022857           IEA      F\n",
       "2800     A0A023EJJ1   enables  GO:0034632           IEA      F\n",
       "...             ...       ...         ...           ...    ...\n",
       "7449063      X5ICQ3   enables  GO:0005216           IEA      F\n",
       "7449064      X5ICQ3   enables  GO:0005230           IEA      F\n",
       "7449230      X5IS84   enables  GO:0008324           IEA      F\n",
       "7449231      X5IS84   enables  GO:0015297           IEA      F\n",
       "7449232      X5IS84   enables  GO:0015369           IEA      F\n",
       "\n",
       "[25568 rows x 5 columns]"
      ]
     },
     "execution_count": 15,
     "metadata": {},
     "output_type": "execute_result"
    }
   ],
   "source": [
    "goa_uniprot70_tmtp = goa_uniprot70[goa_uniprot70.go_id.isin(go_ids_transmembrane_transporters)]\n",
    "\n",
    "goa_uniprot70_tmtp"
   ]
  },
  {
   "attachments": {},
   "cell_type": "markdown",
   "metadata": {},
   "source": [
    "adding go terms for go ids:"
   ]
  },
  {
   "cell_type": "code",
   "execution_count": 19,
   "metadata": {},
   "outputs": [
    {
     "data": {
      "text/html": [
       "<div>\n",
       "<style scoped>\n",
       "    .dataframe tbody tr th:only-of-type {\n",
       "        vertical-align: middle;\n",
       "    }\n",
       "\n",
       "    .dataframe tbody tr th {\n",
       "        vertical-align: top;\n",
       "    }\n",
       "\n",
       "    .dataframe thead th {\n",
       "        text-align: right;\n",
       "    }\n",
       "</style>\n",
       "<table border=\"1\" class=\"dataframe\">\n",
       "  <thead>\n",
       "    <tr style=\"text-align: right;\">\n",
       "      <th></th>\n",
       "      <th>Uniprot</th>\n",
       "      <th>qualifier</th>\n",
       "      <th>go_id</th>\n",
       "      <th>evidence_code</th>\n",
       "      <th>aspect</th>\n",
       "      <th>go_term</th>\n",
       "    </tr>\n",
       "  </thead>\n",
       "  <tbody>\n",
       "    <tr>\n",
       "      <th>1751</th>\n",
       "      <td>A0A023EBM3</td>\n",
       "      <td>enables</td>\n",
       "      <td>GO:0015078</td>\n",
       "      <td>IEA</td>\n",
       "      <td>F</td>\n",
       "      <td>proton transmembrane transporter activity</td>\n",
       "    </tr>\n",
       "    <tr>\n",
       "      <th>2084</th>\n",
       "      <td>A0A023EEI5</td>\n",
       "      <td>enables</td>\n",
       "      <td>GO:0046961</td>\n",
       "      <td>IEA</td>\n",
       "      <td>F</td>\n",
       "      <td>proton-transporting ATPase activity, rotationa...</td>\n",
       "    </tr>\n",
       "    <tr>\n",
       "      <th>2713</th>\n",
       "      <td>A0A023EIR3</td>\n",
       "      <td>enables</td>\n",
       "      <td>GO:0005375</td>\n",
       "      <td>IEA</td>\n",
       "      <td>F</td>\n",
       "      <td>copper ion transmembrane transporter activity</td>\n",
       "    </tr>\n",
       "    <tr>\n",
       "      <th>2765</th>\n",
       "      <td>A0A023EJ76</td>\n",
       "      <td>enables</td>\n",
       "      <td>GO:0022857</td>\n",
       "      <td>IEA</td>\n",
       "      <td>F</td>\n",
       "      <td>transmembrane transporter activity</td>\n",
       "    </tr>\n",
       "    <tr>\n",
       "      <th>2800</th>\n",
       "      <td>A0A023EJJ1</td>\n",
       "      <td>enables</td>\n",
       "      <td>GO:0034632</td>\n",
       "      <td>IEA</td>\n",
       "      <td>F</td>\n",
       "      <td>retinol transmembrane transporter activity</td>\n",
       "    </tr>\n",
       "    <tr>\n",
       "      <th>...</th>\n",
       "      <td>...</td>\n",
       "      <td>...</td>\n",
       "      <td>...</td>\n",
       "      <td>...</td>\n",
       "      <td>...</td>\n",
       "      <td>...</td>\n",
       "    </tr>\n",
       "    <tr>\n",
       "      <th>7449063</th>\n",
       "      <td>X5ICQ3</td>\n",
       "      <td>enables</td>\n",
       "      <td>GO:0005216</td>\n",
       "      <td>IEA</td>\n",
       "      <td>F</td>\n",
       "      <td>ion channel activity</td>\n",
       "    </tr>\n",
       "    <tr>\n",
       "      <th>7449064</th>\n",
       "      <td>X5ICQ3</td>\n",
       "      <td>enables</td>\n",
       "      <td>GO:0005230</td>\n",
       "      <td>IEA</td>\n",
       "      <td>F</td>\n",
       "      <td>extracellular ligand-gated ion channel activity</td>\n",
       "    </tr>\n",
       "    <tr>\n",
       "      <th>7449230</th>\n",
       "      <td>X5IS84</td>\n",
       "      <td>enables</td>\n",
       "      <td>GO:0008324</td>\n",
       "      <td>IEA</td>\n",
       "      <td>F</td>\n",
       "      <td>cation transmembrane transporter activity</td>\n",
       "    </tr>\n",
       "    <tr>\n",
       "      <th>7449231</th>\n",
       "      <td>X5IS84</td>\n",
       "      <td>enables</td>\n",
       "      <td>GO:0015297</td>\n",
       "      <td>IEA</td>\n",
       "      <td>F</td>\n",
       "      <td>antiporter activity</td>\n",
       "    </tr>\n",
       "    <tr>\n",
       "      <th>7449232</th>\n",
       "      <td>X5IS84</td>\n",
       "      <td>enables</td>\n",
       "      <td>GO:0015369</td>\n",
       "      <td>IEA</td>\n",
       "      <td>F</td>\n",
       "      <td>calcium:proton antiporter activity</td>\n",
       "    </tr>\n",
       "  </tbody>\n",
       "</table>\n",
       "<p>25568 rows × 6 columns</p>\n",
       "</div>"
      ],
      "text/plain": [
       "            Uniprot qualifier       go_id evidence_code aspect  \\\n",
       "1751     A0A023EBM3   enables  GO:0015078           IEA      F   \n",
       "2084     A0A023EEI5   enables  GO:0046961           IEA      F   \n",
       "2713     A0A023EIR3   enables  GO:0005375           IEA      F   \n",
       "2765     A0A023EJ76   enables  GO:0022857           IEA      F   \n",
       "2800     A0A023EJJ1   enables  GO:0034632           IEA      F   \n",
       "...             ...       ...         ...           ...    ...   \n",
       "7449063      X5ICQ3   enables  GO:0005216           IEA      F   \n",
       "7449064      X5ICQ3   enables  GO:0005230           IEA      F   \n",
       "7449230      X5IS84   enables  GO:0008324           IEA      F   \n",
       "7449231      X5IS84   enables  GO:0015297           IEA      F   \n",
       "7449232      X5IS84   enables  GO:0015369           IEA      F   \n",
       "\n",
       "                                                   go_term  \n",
       "1751             proton transmembrane transporter activity  \n",
       "2084     proton-transporting ATPase activity, rotationa...  \n",
       "2713         copper ion transmembrane transporter activity  \n",
       "2765                    transmembrane transporter activity  \n",
       "2800            retinol transmembrane transporter activity  \n",
       "...                                                    ...  \n",
       "7449063                               ion channel activity  \n",
       "7449064    extracellular ligand-gated ion channel activity  \n",
       "7449230          cation transmembrane transporter activity  \n",
       "7449231                                antiporter activity  \n",
       "7449232                 calcium:proton antiporter activity  \n",
       "\n",
       "[25568 rows x 6 columns]"
      ]
     },
     "execution_count": 19,
     "metadata": {},
     "output_type": "execute_result"
    }
   ],
   "source": [
    "goa_uniprot70_tmtp = goa_uniprot70_tmtp.assign(go_term = goa_uniprot70_tmtp.go_id.map(go.get_label))\n",
    "goa_uniprot70_tmtp"
   ]
  },
  {
   "cell_type": "code",
   "execution_count": 20,
   "metadata": {},
   "outputs": [
    {
     "data": {
      "text/plain": [
       "False"
      ]
     },
     "execution_count": 20,
     "metadata": {},
     "output_type": "execute_result"
    }
   ],
   "source": [
    "goa_uniprot70_tmtp.go_term.isnull().any()"
   ]
  },
  {
   "cell_type": "code",
   "execution_count": 21,
   "metadata": {},
   "outputs": [
    {
     "data": {
      "text/plain": [
       "enables                                           25064\n",
       "contributes_to                                      434\n",
       "NOT|enables                                          69\n",
       "NOT|contributes_to                                    1\n",
       "NOT|acts_upstream_of_or_within                        0\n",
       "NOT|acts_upstream_of                                  0\n",
       "NOT|acts_upstream_of_or_within_negative_effect        0\n",
       "acts_upstream_of_or_within_negative_effect            0\n",
       "acts_upstream_of_negative_effect                      0\n",
       "NOT|part_of                                           0\n",
       "NOT|colocalizes_with                                  0\n",
       "acts_upstream_of_positive_effect                      0\n",
       "acts_upstream_of_or_within_positive_effect            0\n",
       "acts_upstream_of                                      0\n",
       "involved_in                                           0\n",
       "NOT|located_in                                        0\n",
       "acts_upstream_of_or_within                            0\n",
       "colocalizes_with                                      0\n",
       "NOT|is_active_in                                      0\n",
       "NOT|involved_in                                       0\n",
       "is_active_in                                          0\n",
       "part_of                                               0\n",
       "located_in                                            0\n",
       "NOT|acts_upstream_of_or_within_positive_effect        0\n",
       "Name: qualifier, dtype: int64"
      ]
     },
     "execution_count": 21,
     "metadata": {},
     "output_type": "execute_result"
    }
   ],
   "source": [
    "goa_uniprot70_tmtp.qualifier.value_counts()"
   ]
  },
  {
   "cell_type": "code",
   "execution_count": 24,
   "metadata": {},
   "outputs": [],
   "source": [
    "goa_uniprot70_tmtp = goa_uniprot70_tmtp[goa_uniprot70_tmtp.qualifier == \"enables\"]"
   ]
  },
  {
   "cell_type": "code",
   "execution_count": 27,
   "metadata": {},
   "outputs": [
    {
     "data": {
      "text/plain": [
       "F    25064\n",
       "C        0\n",
       "P        0\n",
       "Name: aspect, dtype: int64"
      ]
     },
     "execution_count": 27,
     "metadata": {},
     "output_type": "execute_result"
    }
   ],
   "source": [
    "goa_uniprot70_tmtp.aspect.value_counts()"
   ]
  },
  {
   "attachments": {},
   "cell_type": "markdown",
   "metadata": {},
   "source": [
    "Keeping the IEA terms for now"
   ]
  },
  {
   "cell_type": "code",
   "execution_count": 28,
   "metadata": {},
   "outputs": [
    {
     "data": {
      "text/plain": [
       "IEA    17461\n",
       "IBA     3864\n",
       "IDA     1375\n",
       "IMP      730\n",
       "ISS      669\n",
       "ISO      411\n",
       "TAS      236\n",
       "IGI      123\n",
       "NAS       50\n",
       "ISM       41\n",
       "IC        34\n",
       "RCA       23\n",
       "EXP       20\n",
       "ISA       11\n",
       "IPI        8\n",
       "IGC        7\n",
       "IEP        1\n",
       "HDA        0\n",
       "HEP        0\n",
       "HGI        0\n",
       "IKR        0\n",
       "ND         0\n",
       "HMP        0\n",
       "Name: evidence_code, dtype: int64"
      ]
     },
     "execution_count": 28,
     "metadata": {},
     "output_type": "execute_result"
    }
   ],
   "source": [
    "goa_uniprot70_tmtp.evidence_code.value_counts()"
   ]
  },
  {
   "cell_type": "code",
   "execution_count": 37,
   "metadata": {},
   "outputs": [
    {
     "data": {
      "text/html": [
       "<div>\n",
       "<style scoped>\n",
       "    .dataframe tbody tr th:only-of-type {\n",
       "        vertical-align: middle;\n",
       "    }\n",
       "\n",
       "    .dataframe tbody tr th {\n",
       "        vertical-align: top;\n",
       "    }\n",
       "\n",
       "    .dataframe thead th {\n",
       "        text-align: right;\n",
       "    }\n",
       "</style>\n",
       "<table border=\"1\" class=\"dataframe\">\n",
       "  <thead>\n",
       "    <tr style=\"text-align: right;\">\n",
       "      <th></th>\n",
       "      <th>Uniprot</th>\n",
       "      <th>go_id</th>\n",
       "      <th>go_term</th>\n",
       "    </tr>\n",
       "  </thead>\n",
       "  <tbody>\n",
       "    <tr>\n",
       "      <th>0</th>\n",
       "      <td>A0A023EBM3</td>\n",
       "      <td>GO:0015078</td>\n",
       "      <td>proton transmembrane transporter activity</td>\n",
       "    </tr>\n",
       "    <tr>\n",
       "      <th>1</th>\n",
       "      <td>A0A023EEI5</td>\n",
       "      <td>GO:0046961</td>\n",
       "      <td>proton-transporting ATPase activity, rotationa...</td>\n",
       "    </tr>\n",
       "    <tr>\n",
       "      <th>2</th>\n",
       "      <td>A0A023EIR3</td>\n",
       "      <td>GO:0005375</td>\n",
       "      <td>copper ion transmembrane transporter activity</td>\n",
       "    </tr>\n",
       "    <tr>\n",
       "      <th>3</th>\n",
       "      <td>A0A023EJ76</td>\n",
       "      <td>GO:0022857</td>\n",
       "      <td>transmembrane transporter activity</td>\n",
       "    </tr>\n",
       "    <tr>\n",
       "      <th>4</th>\n",
       "      <td>A0A023EJJ1</td>\n",
       "      <td>GO:0034632</td>\n",
       "      <td>retinol transmembrane transporter activity</td>\n",
       "    </tr>\n",
       "    <tr>\n",
       "      <th>...</th>\n",
       "      <td>...</td>\n",
       "      <td>...</td>\n",
       "      <td>...</td>\n",
       "    </tr>\n",
       "    <tr>\n",
       "      <th>25059</th>\n",
       "      <td>X5ICQ3</td>\n",
       "      <td>GO:0005216</td>\n",
       "      <td>ion channel activity</td>\n",
       "    </tr>\n",
       "    <tr>\n",
       "      <th>25060</th>\n",
       "      <td>X5ICQ3</td>\n",
       "      <td>GO:0005230</td>\n",
       "      <td>extracellular ligand-gated ion channel activity</td>\n",
       "    </tr>\n",
       "    <tr>\n",
       "      <th>25061</th>\n",
       "      <td>X5IS84</td>\n",
       "      <td>GO:0008324</td>\n",
       "      <td>cation transmembrane transporter activity</td>\n",
       "    </tr>\n",
       "    <tr>\n",
       "      <th>25062</th>\n",
       "      <td>X5IS84</td>\n",
       "      <td>GO:0015297</td>\n",
       "      <td>antiporter activity</td>\n",
       "    </tr>\n",
       "    <tr>\n",
       "      <th>25063</th>\n",
       "      <td>X5IS84</td>\n",
       "      <td>GO:0015369</td>\n",
       "      <td>calcium:proton antiporter activity</td>\n",
       "    </tr>\n",
       "  </tbody>\n",
       "</table>\n",
       "<p>25064 rows × 3 columns</p>\n",
       "</div>"
      ],
      "text/plain": [
       "          Uniprot       go_id  \\\n",
       "0      A0A023EBM3  GO:0015078   \n",
       "1      A0A023EEI5  GO:0046961   \n",
       "2      A0A023EIR3  GO:0005375   \n",
       "3      A0A023EJ76  GO:0022857   \n",
       "4      A0A023EJJ1  GO:0034632   \n",
       "...           ...         ...   \n",
       "25059      X5ICQ3  GO:0005216   \n",
       "25060      X5ICQ3  GO:0005230   \n",
       "25061      X5IS84  GO:0008324   \n",
       "25062      X5IS84  GO:0015297   \n",
       "25063      X5IS84  GO:0015369   \n",
       "\n",
       "                                                 go_term  \n",
       "0              proton transmembrane transporter activity  \n",
       "1      proton-transporting ATPase activity, rotationa...  \n",
       "2          copper ion transmembrane transporter activity  \n",
       "3                     transmembrane transporter activity  \n",
       "4             retinol transmembrane transporter activity  \n",
       "...                                                  ...  \n",
       "25059                               ion channel activity  \n",
       "25060    extracellular ligand-gated ion channel activity  \n",
       "25061          cation transmembrane transporter activity  \n",
       "25062                                antiporter activity  \n",
       "25063                 calcium:proton antiporter activity  \n",
       "\n",
       "[25064 rows x 3 columns]"
      ]
     },
     "execution_count": 37,
     "metadata": {},
     "output_type": "execute_result"
    }
   ],
   "source": [
    "goa_uniprot70_tmtp_enables_iea = goa_uniprot70_tmtp.drop([\"qualifier\", \"evidence_code\", \"aspect\"], axis=1).reset_index(drop=True)\n",
    "goa_uniprot70_tmtp_enables_iea"
   ]
  },
  {
   "attachments": {},
   "cell_type": "markdown",
   "metadata": {},
   "source": [
    "Adding ancestors as well:"
   ]
  },
  {
   "cell_type": "code",
   "execution_count": 69,
   "metadata": {},
   "outputs": [],
   "source": [
    "def process_row(row):\n",
    "    go_id = row.go_id\n",
    "    go_id_ancestors = go.get_ancestors(go_id)\n",
    "    return go_id_ancestors"
   ]
  },
  {
   "cell_type": "code",
   "execution_count": 72,
   "metadata": {},
   "outputs": [],
   "source": [
    "goa_uniprot70_tmtp_enables_iea = goa_uniprot70_tmtp_enables_iea.drop(\"go_term\", axis=1)"
   ]
  },
  {
   "cell_type": "code",
   "execution_count": 77,
   "metadata": {},
   "outputs": [],
   "source": [
    "# go.get_ancestors(\"GO:0015078\")\n",
    "# the original go terms is always in the list of ancestors\n",
    "goa_uniprot70_tmtp_enables_iea = goa_uniprot70_tmtp_enables_iea.assign(ancestors = goa_uniprot70_tmtp_enables_iea.apply(process_row, axis=1))"
   ]
  },
  {
   "cell_type": "code",
   "execution_count": 88,
   "metadata": {},
   "outputs": [],
   "source": [
    "goa_uniprot70_tmtp_enables_iea = goa_uniprot70_tmtp_enables_iea.drop(\"go_id\", axis=1).explode(\"ancestors\")"
   ]
  },
  {
   "cell_type": "code",
   "execution_count": 93,
   "metadata": {},
   "outputs": [],
   "source": [
    "goa_uniprot70_tmtp_enables_iea = goa_uniprot70_tmtp_enables_iea.rename(columns = {\"ancestors\": \"go_id\"})"
   ]
  },
  {
   "cell_type": "code",
   "execution_count": 104,
   "metadata": {},
   "outputs": [],
   "source": [
    "goa_uniprot70_tmtp_enables_iea = goa_uniprot70_tmtp_enables_iea.assign(go_term = goa_uniprot70_tmtp_enables_iea.go_id.apply(go.get_label))"
   ]
  },
  {
   "attachments": {},
   "cell_type": "markdown",
   "metadata": {},
   "source": [
    "Filtering for transmembrane activity descendants again:"
   ]
  },
  {
   "cell_type": "code",
   "execution_count": 105,
   "metadata": {},
   "outputs": [],
   "source": [
    "goa_uniprot70_tmtp_enables_iea = goa_uniprot70_tmtp_enables_iea[goa_uniprot70_tmtp_enables_iea.go_id.isin(go_ids_transmembrane_transporters)]"
   ]
  },
  {
   "attachments": {},
   "cell_type": "markdown",
   "metadata": {},
   "source": [
    "GO terms:"
   ]
  },
  {
   "cell_type": "code",
   "execution_count": 106,
   "metadata": {},
   "outputs": [
    {
     "data": {
      "text/plain": [
       "transmembrane transporter activity                                                                       25064\n",
       "ion transmembrane transporter activity                                                                   13907\n",
       "inorganic molecular entity transmembrane transporter activity                                            11472\n",
       "cation transmembrane transporter activity                                                                 8393\n",
       "channel activity                                                                                          8261\n",
       "                                                                                                         ...  \n",
       "low-affinity tryptophan transmembrane transporter activity                                                   1\n",
       "chloride:proton antiporter activity                                                                          1\n",
       "gap junction channel activity involved in SA node cell-atrial cardiac muscle cell electrical coupling        1\n",
       "phosphate ion uniporter activity                                                                             1\n",
       "creatine:sodium symporter activity                                                                           1\n",
       "Name: go_term, Length: 750, dtype: int64"
      ]
     },
     "execution_count": 106,
     "metadata": {},
     "output_type": "execute_result"
    }
   ],
   "source": [
    "go_term_counts = goa_uniprot70_tmtp_enables_iea.go_term.value_counts()\n",
    "go_term_counts"
   ]
  },
  {
   "cell_type": "code",
   "execution_count": 117,
   "metadata": {},
   "outputs": [
    {
     "name": "stdout",
     "output_type": "stream",
     "text": [
      "terms with more than 0 samples: 750\n",
      "proteins with go terms that have more than 0 samples: 12755\n",
      "terms with more than 1 samples: 660\n",
      "proteins with go terms that have more than 1 samples: 12755\n",
      "terms with more than 20 samples: 274\n",
      "proteins with go terms that have more than 20 samples: 12755\n",
      "terms with more than 50 samples: 187\n",
      "proteins with go terms that have more than 50 samples: 12755\n"
     ]
    }
   ],
   "source": [
    "for c in [0,1,20,50]:\n",
    "    terms_tmp = go_term_counts[go_term_counts > c]\n",
    "    print(f\"terms with more than {c} samples:\", terms_tmp.shape[0])\n",
    "    proteins_tmp = goa_uniprot70_tmtp_enables_iea[goa_uniprot70_tmtp_enables_iea.go_term.isin(terms_tmp.index)].Uniprot.unique()\n",
    "    print(f\"proteins with go terms that have more than {c} samples:\", proteins_tmp.shape[0])\n"
   ]
  },
  {
   "cell_type": "code",
   "execution_count": 114,
   "metadata": {},
   "outputs": [
    {
     "data": {
      "text/plain": [
       "transmembrane transporter activity                                                                       25064\n",
       "ion transmembrane transporter activity                                                                   13907\n",
       "inorganic molecular entity transmembrane transporter activity                                            11472\n",
       "cation transmembrane transporter activity                                                                 8393\n",
       "channel activity                                                                                          8261\n",
       "                                                                                                         ...  \n",
       "low-affinity tryptophan transmembrane transporter activity                                                   1\n",
       "chloride:proton antiporter activity                                                                          1\n",
       "gap junction channel activity involved in SA node cell-atrial cardiac muscle cell electrical coupling        1\n",
       "phosphate ion uniporter activity                                                                             1\n",
       "creatine:sodium symporter activity                                                                           1\n",
       "Name: go_term, Length: 750, dtype: int64"
      ]
     },
     "execution_count": 114,
     "metadata": {},
     "output_type": "execute_result"
    }
   ],
   "source": [
    "go_term_counts"
   ]
  },
  {
   "cell_type": "code",
   "execution_count": 116,
   "metadata": {},
   "outputs": [
    {
     "name": "stdout",
     "output_type": "stream",
     "text": [
      "terms with less than 30000 samples: 750\n",
      "proteins with go terms that have more than 30000 samples: 12755\n",
      "terms with less than 15000 samples: 749\n",
      "proteins with go terms that have more than 15000 samples: 10896\n",
      "terms with less than 1000 samples: 718\n",
      "proteins with go terms that have more than 1000 samples: 7903\n",
      "terms with less than 500 samples: 702\n",
      "proteins with go terms that have more than 500 samples: 7230\n"
     ]
    }
   ],
   "source": [
    "for c in [30000,15000,1000,500]:\n",
    "    terms_tmp = go_term_counts[go_term_counts < c]\n",
    "    print(f\"terms with less than {c} samples:\", terms_tmp.shape[0])\n",
    "    proteins_tmp = goa_uniprot70_tmtp_enables_iea[goa_uniprot70_tmtp_enables_iea.go_term.isin(terms_tmp.index)].Uniprot.unique()\n",
    "    print(f\"proteins with go terms that have less than {c} samples:\", proteins_tmp.shape[0])"
   ]
  },
  {
   "cell_type": "code",
   "execution_count": 121,
   "metadata": {},
   "outputs": [
    {
     "data": {
      "text/plain": [
       "ion transmembrane transporter activity                               13907\n",
       "inorganic molecular entity transmembrane transporter activity        11472\n",
       "cation transmembrane transporter activity                             8393\n",
       "channel activity                                                      8261\n",
       "passive transmembrane transporter activity                            8261\n",
       "                                                                     ...  \n",
       "intracellular cyclic nucleotide activated cation channel activity       54\n",
       "intracellular chloride channel activity                                 53\n",
       "sucrose transmembrane transporter activity                              52\n",
       "calcium:proton antiporter activity                                      52\n",
       "intracellular calcium activated chloride channel activity               51\n",
       "Name: go_term, Length: 186, dtype: int64"
      ]
     },
     "execution_count": 121,
     "metadata": {},
     "output_type": "execute_result"
    }
   ],
   "source": [
    "transmembrane_go_terms_filtered = go_term_counts[(go_term_counts < 20000) & (go_term_counts > 50)]\n",
    "transmembrane_go_terms_filtered"
   ]
  },
  {
   "cell_type": "code",
   "execution_count": 108,
   "metadata": {},
   "outputs": [
    {
     "data": {
      "text/plain": [
       "<StringArray>\n",
       "['A0A023EBM3', 'A0A023EEI5', 'A0A023EIR3', 'A0A023EJ76', 'A0A023EJJ1',\n",
       " 'A0A023EJP6', 'A0A023ELV4', 'A0A023ETG8', 'A0A023EUC9', 'A0A023EVA1',\n",
       " ...\n",
       "     'X2D7N8',     'X2J9Z3',     'X2JCG8',     'X2JL00',     'X4YHR1',\n",
       "     'X5D2I6',     'X5D7P6',     'X5DP75',     'X5ICQ3',     'X5IS84']\n",
       "Length: 12755, dtype: string"
      ]
     },
     "execution_count": 108,
     "metadata": {},
     "output_type": "execute_result"
    }
   ],
   "source": [
    "goa_uniprot70_tmtp_enables_iea[goa_uniprot70_tmtp_enables_iea.go_term.isin(terms_tmp.index)].Uniprot.unique()"
   ]
  }
 ],
 "metadata": {
  "kernelspec": {
   "display_name": "subpred4",
   "language": "python",
   "name": "python3"
  },
  "language_info": {
   "codemirror_mode": {
    "name": "ipython",
    "version": 3
   },
   "file_extension": ".py",
   "mimetype": "text/x-python",
   "name": "python",
   "nbconvert_exporter": "python",
   "pygments_lexer": "ipython3",
   "version": "3.10.8"
  },
  "orig_nbformat": 4
 },
 "nbformat": 4,
 "nbformat_minor": 2
}
