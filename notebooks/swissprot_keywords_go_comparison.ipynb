{
 "cells": [
  {
   "cell_type": "markdown",
   "metadata": {},
   "source": [
    "Up until now, we have been using Uniprot keywords for annotations. In order to get all transmembrane transporters of Sugar, we filter the proteins in the dataset by the keywords \"Transmembrane\" and \"Sugar transport\". \n",
    "\n",
    "This works most of the time, but sometimes there is a small number of proteins that fulfils these requirements, but does not actually transport the substrate. That could be the case for a \"sugar transporter\" that exchanges ATP and ADP, which is in turn used to promote Sugar transport. This means that the protein we are looking at promotes sugar transport, but is not a sugar transporter by itself. \n",
    "\n",
    "In order to prevent these rare cases, we could turn to the Gene Ontology. The advantage here is that the \"molecular function\" GO terms are much more specific. We would not have to filter for multiple keywords, and could instead just filter for \"sugar transmembrane transporter activity\". \n",
    "\n",
    "Tasks:\n",
    "\n",
    "- How many substrates do we get with keywords/go in comparison?\n",
    "- What can we say about proteins that either have a go term or a keyword? Are they outliers, or are they simply not annotated correctly in GO/KW?"
   ]
  },
  {
   "cell_type": "code",
   "execution_count": null,
   "metadata": {},
   "outputs": [],
   "source": []
  }
 ],
 "metadata": {
  "kernelspec": {
   "display_name": "Python 3.10.8 ('subpred4')",
   "language": "python",
   "name": "python3"
  },
  "language_info": {
   "name": "python",
   "version": "3.10.8"
  },
  "orig_nbformat": 4,
  "vscode": {
   "interpreter": {
    "hash": "ec8de6dd8f2d395005c42468f5d13cdd089376f2ad37eab4b2481f4d8703f0b2"
   }
  }
 },
 "nbformat": 4,
 "nbformat_minor": 2
}
