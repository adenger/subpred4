{
 "cells": [
  {
   "cell_type": "markdown",
   "metadata": {},
   "source": [
    "# GO vs. Keywords for substrates\n",
    "\n",
    "Up until now, we have been using Uniprot keywords for annotations. In order to get all transmembrane transporters of Sugar, we filter the proteins in the dataset by the keywords \"Transmembrane\" and \"Sugar transport\". \n",
    "\n",
    "This works most of the time, but sometimes there is a small number of proteins that fulfils these requirements, but does not actually transport the substrate. That could be the case for a \"sugar transport\" protein that exchanges ATP and ADP, which is in turn used to promote Sugar transport. This means that the protein we are looking at promotes sugar transport, but is not a sugar transporter by itself. We need all proteins in the dataset to be actual sugar transporters, to learn that function from the sequence.\n",
    "\n",
    "In order to prevent these cases, we could turn to the Gene Ontology. The advantage here is that the \"molecular function\" GO terms are much more specific. We would not have to filter for multiple keywords, and could instead just filter for \"sugar transmembrane transporter activity\". The downside could might be a lower number of samples, or lower-quality annotations if we use automatically annotated go terms.\n",
    "\n",
    "Tasks:\n",
    "\n",
    "- Implement tree-shaped datastructure for ontologies like GO and ChEMBL (done)\n",
    "    - This allows us to get all descendants/children for a GO term, automatically\n",
    "    - In contrast to Keywords, a protein is not annotated with all of its GO terms. If it is annotated with a descendant of \"transmembrane transporter activity\", such as \"sugar transmembrane transporter activity\", then it does not have to be annotated with \"transmembrane transporter activity\".\n",
    "- Create three annotation datasets:\n",
    "    - Uniprot GO annotations (filtered and preprocessed by uniprot)\n",
    "    - Uniprot annotation from GO website without electronically inferred evidence (IEA) (doing the filtering ourselves)\n",
    "    - Uniprot annotation from GO website with electronically inferred evidence (IEA) (doing the filtering ourselves)\n",
    "    - Uniprot keywords\n",
    "- Statistics for Swissprot\n",
    "    - How many transmembrane transporters are in each dataset?\n",
    "    - How many sugar/amino-acid/ion transporters?\n",
    "- Comparative analysis\n",
    "    - How many substrates do we get with keywords/go in comparison? (create table)\n",
    "    - What is the size of the intersection/difference sets?\n",
    "    - Look at samples of transporters that have GO term but not Keyword\n",
    "- Statistics for Swissprot + TrEMBL\n",
    "    - How many more transporters do we get with each annotation dataset, when we do not filter for Swissprot?"
   ]
  },
  {
   "cell_type": "markdown",
   "metadata": {},
   "source": [
    "## Information"
   ]
  },
  {
   "cell_type": "markdown",
   "metadata": {},
   "source": [
    "#### Transmembrane annotations in Uniprot\n",
    "\n",
    "https://www.uniprot.org/help/transmem\n",
    "\n",
    "Transmembrane helices in Swissprot are annotated via:\n",
    "\n",
    "- Prediction tools\n",
    "- Experimentally determined\n",
    "- Similarity to protein family that is known to contain TM domains\n",
    "\n",
    "In TrEMBL, the annotation happens automatically via TMHMM program.\n",
    "\n",
    "Multi-pass membrane proteinns are annotated as such in \"Subcellular location\" column, that might also be interesting for filtering. \n",
    "\n",
    "Beta-barrels are not predicted by Uniprot, therefore the information might be absent. Beta-barrel property can be found in Domains column."
   ]
  },
  {
   "cell_type": "markdown",
   "metadata": {},
   "source": [
    "#### Uniprot GO preprocessing\n",
    "\n",
    "https://www.uniprot.org/help/complete_go_annotation\n",
    "\n",
    "- Annotation filtering is applied\n",
    "    - manual annotation preferred\n",
    "- Some information is removed\n",
    "    - with/from column\n",
    "    - the qualifiers \"NOT, contributes_to, colocalizes_with\"\n",
    "    - annotations made to isoform identifiers\n",
    "- Info on Uniprot is about three months behind QuickGO website"
   ]
  },
  {
   "cell_type": "markdown",
   "metadata": {},
   "source": [
    "#### What are the differences between UniProtKB keywords and the GO terms?\n",
    "\n",
    "https://www.uniprot.org/help/keywords_vs_go\n",
    "\n",
    "- Keywords are manual for Swissprot, and automatic for TrEMBL\n",
    "- GO terms are manually mapped to keywords and xrefs"
   ]
  },
  {
   "cell_type": "markdown",
   "metadata": {},
   "source": [
    "#### Gene Ontology (GO) annotations in Uniprot:\n",
    "\n",
    "https://www.uniprot.org/help/gene_ontology\n",
    "\n",
    "- Keyword annotations made by Uniprot curators are included in GO with IEA evidence code!\n",
    "    - Keyword annotations and GO annotations will probably not be the same\n",
    "    - Swissprot is already annotated by curators, but GO might use more recent research\n",
    "    - Union set of GO and keywords might increase sample count, especially for TrEMBL"
   ]
  },
  {
   "cell_type": "markdown",
   "metadata": {},
   "source": [
    "## Creating datasets, genesets, and GO term/keyword sets\n",
    "\n",
    "Basic filtering is applied in the function: Removing fragmented sequences, and proteins that do not have evidence at either transcript level or protein level, among other things."
   ]
  },
  {
   "cell_type": "code",
   "execution_count": 22,
   "metadata": {},
   "outputs": [
    {
     "name": "stdout",
     "output_type": "stream",
     "text": [
      "Found pickle, reading...\n"
     ]
    },
    {
     "data": {
      "text/plain": [
       "(144929, 16)"
      ]
     },
     "execution_count": 22,
     "metadata": {},
     "output_type": "execute_result"
    }
   ],
   "source": [
    "from subpred.dataset import (\n",
    "    create_dataset,\n",
    "    get_go_df,\n",
    "    get_keywords_df,\n",
    "    get_tcdb_substrates,\n",
    ")\n",
    "from subpred.go_utils import GeneOntology, read_go_uniprot\n",
    "\n",
    "df_swissprot = create_dataset(\n",
    "    # keywords_classes=[\"Amino-acid transport\", \"Sugar transport\"],\n",
    "    # keywords_filter=[\"Transmembrane\", \"Transport\"],\n",
    "    input_file=\"../data/raw/uniprot/swissprot_data_2022_04.tsv.gz\",\n",
    "    multi_substrate=\"keep\",\n",
    "    verbose=True,\n",
    "    # tax_ids_filter=[3702, 9606, 83333, 559292],\n",
    "    # outliers=outliers,\n",
    "    # sequence_clustering=70,\n",
    "    evidence_code=2,\n",
    "    invalid_amino_acids=\"remove_protein\",\n",
    "    # force_update=True,\n",
    "    tcdb_substrates_file=\"../data/raw/tcdb/tcdb_substrates.tsv\",\n",
    ")\n",
    "df_swissprot.shape\n"
   ]
  },
  {
   "cell_type": "code",
   "execution_count": 25,
   "metadata": {},
   "outputs": [],
   "source": [
    "go = GeneOntology(\"../data/raw/ontologies/go.owl\")"
   ]
  },
  {
   "cell_type": "code",
   "execution_count": 38,
   "metadata": {},
   "outputs": [],
   "source": [
    "# Cellular Component\n",
    "cc_terms = {\"membrane\": \"GO:0016020\", \"plasma membrane\": \"GO:0005886\"}\n",
    "\n",
    "mf_terms = {\n",
    "    \"transmembrane transporter activity\": \"GO:0022857\",\n",
    "    \"amino acid transmembrane transporter activity\": \"GO:0015171\",\n",
    "    \"carbohydrate transmembrane transporter activity\": \"GO:0015144\",\n",
    "    \"sugar transmembrane transporter activity\": \"GO:0051119\",\n",
    "    \"ion transmembrane transporter activity\": \"GO:0015075\",\n",
    "}\n",
    "\n",
    "swissprot_proteins = set(df_swissprot.index.tolist())\n",
    "amino_acid_descendants = go.get_descendants(go.get_identifier(\"amino acid transmembrane transporter activity\"))\n",
    "carbohydrate_descendants = go.get_descendants(go.get_identifier(\"carbohydrate transmembrane transporter activity\"))\n",
    "sugar_descendants = go.get_descendants(go.get_identifier(\"sugar transmembrane transporter activity\"))\n",
    "ion_descendants = go.get_descendants(go.get_identifier(\"ion transmembrane transporter activity\"))\n"
   ]
  },
  {
   "cell_type": "markdown",
   "metadata": {},
   "source": [
    "## Uniprot GO dataset"
   ]
  },
  {
   "cell_type": "markdown",
   "metadata": {},
   "source": [
    "Get annotated go terms from Uniprot file:"
   ]
  },
  {
   "cell_type": "code",
   "execution_count": 23,
   "metadata": {},
   "outputs": [
    {
     "data": {
      "text/plain": [
       "(1399804, 3)"
      ]
     },
     "execution_count": 23,
     "metadata": {},
     "output_type": "execute_result"
    }
   ],
   "source": [
    "df_sp_go = get_go_df(df_swissprot)\n",
    "df_sp_go.shape"
   ]
  },
  {
   "cell_type": "markdown",
   "metadata": {},
   "source": [
    "GO terms of interest (for now):"
   ]
  },
  {
   "cell_type": "markdown",
   "metadata": {},
   "source": [
    "Ontology tree data structure that allows us to retrieve children/parents of GO terms, etc.:"
   ]
  },
  {
   "cell_type": "markdown",
   "metadata": {},
   "source": [
    "How many proteins in the dataset are annotated with \"transmembrane transporter activity\"?"
   ]
  },
  {
   "cell_type": "code",
   "execution_count": 39,
   "metadata": {},
   "outputs": [
    {
     "name": "stdout",
     "output_type": "stream",
     "text": [
      "proteins annotated with transmembrane transporter activity: 1166\n"
     ]
    }
   ],
   "source": [
    "print(\n",
    "    \"proteins annotated with transmembrane transporter activity:\",\n",
    "    df_sp_go[df_sp_go.go_id == go.get_identifier(\"transmembrane transporter activity\")].Uniprot.unique().shape[0],\n",
    ")\n"
   ]
  },
  {
   "cell_type": "markdown",
   "metadata": {},
   "source": [
    "1166 is not that much. \n",
    "\n",
    "Is every protein that is annotated with a descendant of \"transmembrane transporter activity\" also annotated with \"transmembrane transporter activity\"?"
   ]
  },
  {
   "cell_type": "code",
   "execution_count": 40,
   "metadata": {},
   "outputs": [
    {
     "name": "stdout",
     "output_type": "stream",
     "text": [
      "There are 1024 descendant go terms of transmembrane transporter activity\n",
      "Proteins annotated with transmembrane transporter activity or descendant go term: 9103\n"
     ]
    }
   ],
   "source": [
    "tta_descendants = go.get_descendants(\n",
    "    go.get_identifier(\"transmembrane transporter activity\")\n",
    ")\n",
    "print(\n",
    "    f\"There are {len(tta_descendants)} descendant go terms of transmembrane transporter activity\"\n",
    ")\n",
    "\n",
    "tta_descendants_proteins = df_sp_go[\n",
    "    df_sp_go.go_id.isin(tta_descendants)\n",
    "].Uniprot.unique()\n",
    "print(\n",
    "    f\"Proteins annotated with transmembrane transporter activity or descendant go term: {tta_descendants_proteins.shape[0]}\"\n",
    ")\n"
   ]
  },
  {
   "cell_type": "markdown",
   "metadata": {},
   "source": [
    "No, that is not the case! We can get 9130 unique proteins by looking at descendants of the term. "
   ]
  },
  {
   "cell_type": "markdown",
   "metadata": {},
   "source": [
    "#### Individual substrates excluding descendants"
   ]
  },
  {
   "cell_type": "code",
   "execution_count": 47,
   "metadata": {},
   "outputs": [
    {
     "name": "stdout",
     "output_type": "stream",
     "text": [
      "transmembrane transporter activity 1166\n",
      "amino acid transmembrane transporter activity 183\n",
      "carbohydrate transmembrane transporter activity 24\n",
      "sugar transmembrane transporter activity 68\n",
      "ion transmembrane transporter activity 32\n"
     ]
    }
   ],
   "source": [
    "for term, id in mf_terms.items():\n",
    "    print(term, df_sp_go[df_sp_go.go_id== id].Uniprot.unique().shape[0])"
   ]
  },
  {
   "cell_type": "markdown",
   "metadata": {},
   "source": [
    "#### Individual Substrates including descendants"
   ]
  },
  {
   "cell_type": "code",
   "execution_count": 46,
   "metadata": {},
   "outputs": [
    {
     "name": "stdout",
     "output_type": "stream",
     "text": [
      "amino_desc 546\n",
      "carbo_desc 477\n",
      "sugar_desc 281\n",
      "ion_desc 5624\n"
     ]
    }
   ],
   "source": [
    "for name, go_term_set in [\n",
    "    (\"amino_desc\",amino_acid_descendants),(\"carbo_desc\",carbohydrate_descendants),(\"sugar_desc\",sugar_descendants),(\"ion_desc\",ion_descendants)]:\n",
    "    print(name, df_sp_go[df_sp_go.go_id.isin(go_term_set)].Uniprot.unique().shape[0])"
   ]
  },
  {
   "cell_type": "markdown",
   "metadata": {},
   "source": [
    "## Official GO dataset (noiea)\n",
    "\n",
    "Is the Uniprot GO annotation complete? Or can we gain something by reading the official go uniprot annotations from the go website?\n",
    "\n",
    "To test this, we will read the Uniprot annotation file from the GO website. These GO annotations have not been filtered by Uniprot.\n",
    "\n",
    "Qualifiers starting with \"NOT\" and entries for other DBs have already been removed by the function read_go_uniprot. Evidence codes that were electronivally annotated (IEA) are not part of this dataset. \n",
    "\n",
    "We should pay attention to the qualifiers column."
   ]
  },
  {
   "cell_type": "code",
   "execution_count": 28,
   "metadata": {},
   "outputs": [],
   "source": [
    "df_go = read_go_uniprot(\"/home/ad/gene_ontology/goa_uniprot_all_noiea.gaf.gz\")"
   ]
  },
  {
   "cell_type": "markdown",
   "metadata": {},
   "source": [
    "What evidence codes are in the dataset? This \"noiea\" version explicitly does not contain IEA annotations. The downside of the IEA version is the file size: the NOIEA version is 6mb in size, the IEA version is 171GB. It might also be noisier, since most annoatations have not been checked by a curator.\n",
    "\n",
    "GO evidence code guide: http://geneontology.org/docs/guide-go-evidence-codes/\n",
    "\n",
    "We have mapped the evidence codes to descriptions, to make it easier to interpret. After reading the explanations, this looks good:"
   ]
  },
  {
   "cell_type": "code",
   "execution_count": 29,
   "metadata": {},
   "outputs": [
    {
     "data": {
      "text/plain": [
       "curator_statement                        129517\n",
       "computational_analysis                   115756\n",
       "experimental_evidence                     56587\n",
       "experimental_evidence_high_throughput      3156\n",
       "author_statement                           3154\n",
       "Name: evidence_description, dtype: int64"
      ]
     },
     "execution_count": 29,
     "metadata": {},
     "output_type": "execute_result"
    }
   ],
   "source": [
    "df_go.evidence_description.value_counts()"
   ]
  },
  {
   "cell_type": "markdown",
   "metadata": {},
   "source": [
    "#### Explanation of qualifiers\n",
    "\n",
    "Relations in GO: http://geneontology.org/docs/ontology-relations/\n",
    "\n",
    "The most common relation between go_terms is \"is_a\", for example \"carbohydrate transmembrane transporter activity\" \"is_a\" \"transmembrane transporter activity\". This term is used within the same sub-ontology, in this case Molecular Function. Other relations are used when switching from one part of the ontology to another, for example the MF \"transmembrane transporter activity\" is \"part_of\" the Biological Process \"transmembrane transport\".\n",
    "\n",
    "Most common relations between gene products and GO terms (via GO wiki):\n",
    "\n",
    "- \"involved_in\": Function of gene product means that it is involved in a biological process\n",
    "- \"enables\": Function of gene product explicitly enables the molecular function. This should be the most important category for us.\n",
    "- \"is_active_in\": The cellular component where the gene product carries out its function\n",
    "- \"located_in\": No documentation found, but presumably relation between gene product and CC\n",
    "- part_of: Location of gene product, without making statement about activity in that location. Can also be used to relate GO terms to each other, such as CC\n",
    "- acts_upstream_of_or_within: Experimental Evidence is not sufficient to relate gene products activity to a biological process. Often derived from mutant phenotypes. \n",
    "- contributes_to: gene product is a member of a complex that enables a molecular function. We should probably remove those annotations, since we are only interested in the actual channels/carriers.\n",
    "- colocalizes_with: resolution of assay is not accurate enough to say that gene product is in cellular component. different interpretations of term possible. Should be removed from dataset.\n",
    "- acts_upstream_of*: Molecular function of gene product has impact on Biological Process that is downstream of gene product. These relations should also be removed from our dataset.\n",
    "\n",
    "\n",
    "What we should do:\n",
    "\n",
    "- Keep \"enables\" for the MF terms, and \"is_active_in\" for the CC terms."
   ]
  },
  {
   "cell_type": "code",
   "execution_count": 30,
   "metadata": {},
   "outputs": [
    {
     "data": {
      "text/plain": [
       "involved_in                                   121545\n",
       "enables                                        94792\n",
       "is_active_in                                   43369\n",
       "located_in                                     38776\n",
       "part_of                                         5102\n",
       "acts_upstream_of_or_within                      3458\n",
       "contributes_to                                   519\n",
       "colocalizes_with                                 476\n",
       "acts_upstream_of                                  67\n",
       "acts_upstream_of_positive_effect                  28\n",
       "acts_upstream_of_or_within_positive_effect        22\n",
       "acts_upstream_of_negative_effect                  15\n",
       "acts_upstream_of_or_within_negative_effect         1\n",
       "Name: qualifier, dtype: int64"
      ]
     },
     "execution_count": 30,
     "metadata": {},
     "output_type": "execute_result"
    }
   ],
   "source": [
    "df_go.qualifier.value_counts()"
   ]
  },
  {
   "cell_type": "markdown",
   "metadata": {},
   "source": [
    "#### Creating the GO tables:\n",
    "\n",
    "Filtering the terms by Molecular Function:"
   ]
  },
  {
   "cell_type": "code",
   "execution_count": 31,
   "metadata": {},
   "outputs": [
    {
     "data": {
      "text/plain": [
       "(95311, 18)"
      ]
     },
     "execution_count": 31,
     "metadata": {},
     "output_type": "execute_result"
    }
   ],
   "source": [
    "df_go_mf = df_go[(df_go.aspect == \"F\")]\n",
    "df_go_mf.shape"
   ]
  },
  {
   "cell_type": "markdown",
   "metadata": {},
   "source": [
    "Only keeping the most accurate qualifier (\"enables\") "
   ]
  },
  {
   "cell_type": "code",
   "execution_count": 32,
   "metadata": {},
   "outputs": [
    {
     "data": {
      "text/plain": [
       "(94792, 18)"
      ]
     },
     "execution_count": 32,
     "metadata": {},
     "output_type": "execute_result"
    }
   ],
   "source": [
    "df_go_mf = df_go_mf[df_go_mf.qualifier == \"enables\"]\n",
    "df_go_mf.shape"
   ]
  },
  {
   "cell_type": "markdown",
   "metadata": {},
   "source": [
    "This only removes a small percentage of MF-terms!"
   ]
  },
  {
   "cell_type": "code",
   "execution_count": 33,
   "metadata": {},
   "outputs": [
    {
     "data": {
      "text/html": [
       "<div>\n",
       "<style scoped>\n",
       "    .dataframe tbody tr th:only-of-type {\n",
       "        vertical-align: middle;\n",
       "    }\n",
       "\n",
       "    .dataframe tbody tr th {\n",
       "        vertical-align: top;\n",
       "    }\n",
       "\n",
       "    .dataframe thead th {\n",
       "        text-align: right;\n",
       "    }\n",
       "</style>\n",
       "<table border=\"1\" class=\"dataframe\">\n",
       "  <thead>\n",
       "    <tr style=\"text-align: right;\">\n",
       "      <th></th>\n",
       "      <th>db</th>\n",
       "      <th>db_object_id</th>\n",
       "      <th>db_object_symbol</th>\n",
       "      <th>qualifier</th>\n",
       "      <th>go_id</th>\n",
       "      <th>db_reference</th>\n",
       "      <th>evidence_code</th>\n",
       "      <th>with_or_from</th>\n",
       "      <th>aspect</th>\n",
       "      <th>db_object_name</th>\n",
       "      <th>db_object_synonym</th>\n",
       "      <th>db_object_type</th>\n",
       "      <th>taxon</th>\n",
       "      <th>date</th>\n",
       "      <th>assigned_by</th>\n",
       "      <th>annotation_extension</th>\n",
       "      <th>gene_product_form_id</th>\n",
       "      <th>evidence_description</th>\n",
       "    </tr>\n",
       "  </thead>\n",
       "  <tbody>\n",
       "    <tr>\n",
       "      <th>2</th>\n",
       "      <td>UniProtKB</td>\n",
       "      <td>Q87UX2</td>\n",
       "      <td>blc</td>\n",
       "      <td>enables</td>\n",
       "      <td>GO:0003674</td>\n",
       "      <td>GO_REF:0000015</td>\n",
       "      <td>ND</td>\n",
       "      <td>NaN</td>\n",
       "      <td>F</td>\n",
       "      <td>Outer membrane lipoprotein Blc</td>\n",
       "      <td>blc|PSPTO_5170</td>\n",
       "      <td>protein</td>\n",
       "      <td>taxon:223283</td>\n",
       "      <td>20061207</td>\n",
       "      <td>JCVI</td>\n",
       "      <td>NaN</td>\n",
       "      <td>NaN</td>\n",
       "      <td>curator_statement</td>\n",
       "    </tr>\n",
       "    <tr>\n",
       "      <th>4</th>\n",
       "      <td>UniProtKB</td>\n",
       "      <td>C8VDI1</td>\n",
       "      <td>AN11006</td>\n",
       "      <td>enables</td>\n",
       "      <td>GO:0003674</td>\n",
       "      <td>GO_REF:0000015</td>\n",
       "      <td>ND</td>\n",
       "      <td>NaN</td>\n",
       "      <td>F</td>\n",
       "      <td>Uncharacterized protein AN11006</td>\n",
       "      <td>AN11006</td>\n",
       "      <td>protein</td>\n",
       "      <td>taxon:227321</td>\n",
       "      <td>20200401</td>\n",
       "      <td>AspGD</td>\n",
       "      <td>NaN</td>\n",
       "      <td>NaN</td>\n",
       "      <td>curator_statement</td>\n",
       "    </tr>\n",
       "    <tr>\n",
       "      <th>11</th>\n",
       "      <td>UniProtKB</td>\n",
       "      <td>Q2GIQ1</td>\n",
       "      <td>omp-1X</td>\n",
       "      <td>enables</td>\n",
       "      <td>GO:0003674</td>\n",
       "      <td>GO_REF:0000015</td>\n",
       "      <td>ND</td>\n",
       "      <td>NaN</td>\n",
       "      <td>F</td>\n",
       "      <td>Omp-1X</td>\n",
       "      <td>omp-1X|APH_1219</td>\n",
       "      <td>protein</td>\n",
       "      <td>taxon:212042</td>\n",
       "      <td>20061212</td>\n",
       "      <td>TIGR</td>\n",
       "      <td>NaN</td>\n",
       "      <td>NaN</td>\n",
       "      <td>curator_statement</td>\n",
       "    </tr>\n",
       "    <tr>\n",
       "      <th>14</th>\n",
       "      <td>UniProtKB</td>\n",
       "      <td>Q93AM0</td>\n",
       "      <td>fldI</td>\n",
       "      <td>enables</td>\n",
       "      <td>GO:0008047</td>\n",
       "      <td>PMID:11967068</td>\n",
       "      <td>IDA</td>\n",
       "      <td>NaN</td>\n",
       "      <td>F</td>\n",
       "      <td>(R)-phenyllactate dehydratase activator</td>\n",
       "      <td>fldI</td>\n",
       "      <td>protein</td>\n",
       "      <td>taxon:1509</td>\n",
       "      <td>20130610</td>\n",
       "      <td>UniProt</td>\n",
       "      <td>NaN</td>\n",
       "      <td>NaN</td>\n",
       "      <td>experimental_evidence</td>\n",
       "    </tr>\n",
       "    <tr>\n",
       "      <th>16</th>\n",
       "      <td>UniProtKB</td>\n",
       "      <td>G4NEF6</td>\n",
       "      <td>MGG_00119</td>\n",
       "      <td>enables</td>\n",
       "      <td>GO:0003674</td>\n",
       "      <td>GO_REF:0000015</td>\n",
       "      <td>ND</td>\n",
       "      <td>NaN</td>\n",
       "      <td>F</td>\n",
       "      <td>Prothymosin alpha</td>\n",
       "      <td>MGG_00119</td>\n",
       "      <td>protein</td>\n",
       "      <td>taxon:242507</td>\n",
       "      <td>20080211</td>\n",
       "      <td>PAMGO_MGG</td>\n",
       "      <td>NaN</td>\n",
       "      <td>NaN</td>\n",
       "      <td>curator_statement</td>\n",
       "    </tr>\n",
       "  </tbody>\n",
       "</table>\n",
       "</div>"
      ],
      "text/plain": [
       "           db db_object_id db_object_symbol qualifier       go_id  \\\n",
       "2   UniProtKB       Q87UX2              blc   enables  GO:0003674   \n",
       "4   UniProtKB       C8VDI1          AN11006   enables  GO:0003674   \n",
       "11  UniProtKB       Q2GIQ1           omp-1X   enables  GO:0003674   \n",
       "14  UniProtKB       Q93AM0             fldI   enables  GO:0008047   \n",
       "16  UniProtKB       G4NEF6        MGG_00119   enables  GO:0003674   \n",
       "\n",
       "      db_reference evidence_code with_or_from aspect  \\\n",
       "2   GO_REF:0000015            ND          NaN      F   \n",
       "4   GO_REF:0000015            ND          NaN      F   \n",
       "11  GO_REF:0000015            ND          NaN      F   \n",
       "14   PMID:11967068           IDA          NaN      F   \n",
       "16  GO_REF:0000015            ND          NaN      F   \n",
       "\n",
       "                             db_object_name db_object_synonym db_object_type  \\\n",
       "2            Outer membrane lipoprotein Blc    blc|PSPTO_5170        protein   \n",
       "4           Uncharacterized protein AN11006           AN11006        protein   \n",
       "11                                   Omp-1X   omp-1X|APH_1219        protein   \n",
       "14  (R)-phenyllactate dehydratase activator              fldI        protein   \n",
       "16                        Prothymosin alpha         MGG_00119        protein   \n",
       "\n",
       "           taxon      date assigned_by annotation_extension  \\\n",
       "2   taxon:223283  20061207        JCVI                  NaN   \n",
       "4   taxon:227321  20200401       AspGD                  NaN   \n",
       "11  taxon:212042  20061212        TIGR                  NaN   \n",
       "14    taxon:1509  20130610     UniProt                  NaN   \n",
       "16  taxon:242507  20080211   PAMGO_MGG                  NaN   \n",
       "\n",
       "   gene_product_form_id   evidence_description  \n",
       "2                   NaN      curator_statement  \n",
       "4                   NaN      curator_statement  \n",
       "11                  NaN      curator_statement  \n",
       "14                  NaN  experimental_evidence  \n",
       "16                  NaN      curator_statement  "
      ]
     },
     "execution_count": 33,
     "metadata": {},
     "output_type": "execute_result"
    }
   ],
   "source": [
    "df_go_mf.head()"
   ]
  },
  {
   "cell_type": "markdown",
   "metadata": {},
   "source": [
    "Finally, filtering the annotations for those of manually curated SwissProt proteins:"
   ]
  },
  {
   "cell_type": "code",
   "execution_count": 34,
   "metadata": {},
   "outputs": [],
   "source": [
    "df_go_mf = df_go_mf[df_go_mf.db_object_id.isin(swissprot_proteins)]"
   ]
  },
  {
   "cell_type": "markdown",
   "metadata": {},
   "source": [
    "#### Comparison to Uniprot GO terms\n",
    "\n",
    "Now we have a GO annotation dataset directly from GO. From the Uniprot annotations, we had 1166 proteins with the \"transmembrane transporter activity\", and 9103 proteins when including the descendant go terms. How does that compare to our new GO dataset?"
   ]
  },
  {
   "cell_type": "code",
   "execution_count": 35,
   "metadata": {},
   "outputs": [
    {
     "data": {
      "text/plain": [
       "5"
      ]
     },
     "execution_count": 35,
     "metadata": {},
     "output_type": "execute_result"
    }
   ],
   "source": [
    "df_go_mf[df_go_mf.go_id == mf_terms[\"transmembrane transporter activity\"]].shape[0]"
   ]
  },
  {
   "cell_type": "markdown",
   "metadata": {},
   "source": [
    "Only 5 proteins are annotated with \"transmembrane transporter activity\"! What about its descendants?"
   ]
  },
  {
   "cell_type": "code",
   "execution_count": 36,
   "metadata": {},
   "outputs": [
    {
     "data": {
      "text/plain": [
       "811"
      ]
     },
     "execution_count": 36,
     "metadata": {},
     "output_type": "execute_result"
    }
   ],
   "source": [
    "df_go_mf[\n",
    "    df_go_mf.go_id.isin(\n",
    "        go.get_descendants(mf_terms[\"transmembrane transporter activity\"])\n",
    "    )\n",
    "].shape[0]"
   ]
  },
  {
   "cell_type": "markdown",
   "metadata": {},
   "source": [
    "Now it's 811 proteins. That is a much smaller number than the 9103 proteins annotated with that with those GO terms in Uniprot. \n",
    "\n",
    "From the Information section above, we know that keywords are mapped to GO terms, but are labeled as \"IEA\" in the actual GO dataset. Maybe that could be the problem here: GO term annotations created by Uniprot curators are counted as experimental evidence in Uniprot, but as \"IEA\" in GO."
   ]
  },
  {
   "cell_type": "markdown",
   "metadata": {},
   "source": [
    "What are the most common descendant GO terms?"
   ]
  },
  {
   "cell_type": "code",
   "execution_count": 48,
   "metadata": {},
   "outputs": [
    {
     "data": {
      "text/html": [
       "<div>\n",
       "<style scoped>\n",
       "    .dataframe tbody tr th:only-of-type {\n",
       "        vertical-align: middle;\n",
       "    }\n",
       "\n",
       "    .dataframe tbody tr th {\n",
       "        vertical-align: top;\n",
       "    }\n",
       "\n",
       "    .dataframe thead th {\n",
       "        text-align: right;\n",
       "    }\n",
       "</style>\n",
       "<table border=\"1\" class=\"dataframe\">\n",
       "  <thead>\n",
       "    <tr style=\"text-align: right;\">\n",
       "      <th></th>\n",
       "      <th>go_id</th>\n",
       "      <th>count</th>\n",
       "      <th>go_term</th>\n",
       "    </tr>\n",
       "  </thead>\n",
       "  <tbody>\n",
       "    <tr>\n",
       "      <th>0</th>\n",
       "      <td>GO:0015250</td>\n",
       "      <td>28</td>\n",
       "      <td>water channel activity</td>\n",
       "    </tr>\n",
       "    <tr>\n",
       "      <th>1</th>\n",
       "      <td>GO:0008137</td>\n",
       "      <td>25</td>\n",
       "      <td>NADH dehydrogenase (ubiquinone) activity</td>\n",
       "    </tr>\n",
       "    <tr>\n",
       "      <th>2</th>\n",
       "      <td>GO:0051119</td>\n",
       "      <td>20</td>\n",
       "      <td>sugar transmembrane transporter activity</td>\n",
       "    </tr>\n",
       "    <tr>\n",
       "      <th>3</th>\n",
       "      <td>GO:0015562</td>\n",
       "      <td>17</td>\n",
       "      <td>efflux transmembrane transporter activity</td>\n",
       "    </tr>\n",
       "    <tr>\n",
       "      <th>4</th>\n",
       "      <td>GO:0005249</td>\n",
       "      <td>17</td>\n",
       "      <td>voltage-gated potassium channel activity</td>\n",
       "    </tr>\n",
       "    <tr>\n",
       "      <th>5</th>\n",
       "      <td>GO:0005388</td>\n",
       "      <td>16</td>\n",
       "      <td>P-type calcium transporter activity</td>\n",
       "    </tr>\n",
       "    <tr>\n",
       "      <th>6</th>\n",
       "      <td>GO:0005251</td>\n",
       "      <td>16</td>\n",
       "      <td>delayed rectifier potassium channel activity</td>\n",
       "    </tr>\n",
       "    <tr>\n",
       "      <th>7</th>\n",
       "      <td>GO:0005245</td>\n",
       "      <td>15</td>\n",
       "      <td>voltage-gated calcium channel activity</td>\n",
       "    </tr>\n",
       "    <tr>\n",
       "      <th>8</th>\n",
       "      <td>GO:0008320</td>\n",
       "      <td>15</td>\n",
       "      <td>protein transmembrane transporter activity</td>\n",
       "    </tr>\n",
       "    <tr>\n",
       "      <th>9</th>\n",
       "      <td>GO:0015106</td>\n",
       "      <td>15</td>\n",
       "      <td>bicarbonate transmembrane transporter activity</td>\n",
       "    </tr>\n",
       "  </tbody>\n",
       "</table>\n",
       "</div>"
      ],
      "text/plain": [
       "        go_id  count                                         go_term\n",
       "0  GO:0015250     28                          water channel activity\n",
       "1  GO:0008137     25        NADH dehydrogenase (ubiquinone) activity\n",
       "2  GO:0051119     20        sugar transmembrane transporter activity\n",
       "3  GO:0015562     17       efflux transmembrane transporter activity\n",
       "4  GO:0005249     17        voltage-gated potassium channel activity\n",
       "5  GO:0005388     16             P-type calcium transporter activity\n",
       "6  GO:0005251     16    delayed rectifier potassium channel activity\n",
       "7  GO:0005245     15          voltage-gated calcium channel activity\n",
       "8  GO:0008320     15      protein transmembrane transporter activity\n",
       "9  GO:0015106     15  bicarbonate transmembrane transporter activity"
      ]
     },
     "execution_count": 48,
     "metadata": {},
     "output_type": "execute_result"
    }
   ],
   "source": [
    "go_descendants_value_counts = df_go_mf[\n",
    "    df_go_mf.go_id.isin(\n",
    "        go.get_descendants(mf_terms[\"transmembrane transporter activity\"])\n",
    "    )\n",
    "].go_id.value_counts()\n",
    "\n",
    "go_descendants_value_counts = go_descendants_value_counts.reset_index(\n",
    "    drop=False\n",
    ").rename(columns={\"index\": \"go_id\", \"go_id\": \"count\"})\n",
    "go_descendants_value_counts[\"go_term\"] = go_descendants_value_counts.go_id.apply(\n",
    "    lambda x: go.get_label(x)\n",
    ")\n",
    "\n",
    "go_descendants_value_counts.head(10)\n"
   ]
  },
  {
   "cell_type": "markdown",
   "metadata": {},
   "source": [
    "When printing the top-10, there are some more general terms, but also some usable ones such as chloride and sugar. Of course we would also have to look at the descendants of those terms, some of the sugar transporters might only be annotated with a descendant of \"sugar transmembrane transporter activity\"."
   ]
  },
  {
   "cell_type": "code",
   "execution_count": 56,
   "metadata": {},
   "outputs": [
    {
     "name": "stdout",
     "output_type": "stream",
     "text": [
      "amino acid transmembrane transporter activity : 2\n",
      "amino acid transmembrane transporter activity + descentants: 30\n",
      "carbohydrate transmembrane transporter activity : 1\n",
      "carbohydrate transmembrane transporter activity + descentants: 52\n",
      "sugar transmembrane transporter activity : 20\n",
      "sugar transmembrane transporter activity + descentants: 35\n",
      "ion transmembrane transporter activity : 0\n",
      "ion transmembrane transporter activity + descentants: 288\n"
     ]
    }
   ],
   "source": [
    "for go_term_set, name in [\n",
    "    (amino_acid_descendants, \"amino acid transmembrane transporter activity\"),\n",
    "    (carbohydrate_descendants, \"carbohydrate transmembrane transporter activity\"),\n",
    "    (sugar_descendants, \"sugar transmembrane transporter activity\"),\n",
    "    (ion_descendants, \"ion transmembrane transporter activity\"),\n",
    "]:\n",
    "    print(\n",
    "        name,\n",
    "        \":\",\n",
    "        df_go_mf[df_go_mf.go_id == go.get_identifier(name)]\n",
    "        .db_object_id.unique()\n",
    "        .shape[0],\n",
    "    )\n",
    "    print(\n",
    "        name,\n",
    "        \"+ descentants:\",\n",
    "        df_go_mf[df_go_mf.go_id.isin(go_term_set)].db_object_id.unique().shape[0],\n",
    "    )\n"
   ]
  },
  {
   "cell_type": "markdown",
   "metadata": {},
   "source": [
    "## Official GO dataset (including iea) \n",
    "\n",
    "Now let's look at the full dataframe to compare:"
   ]
  },
  {
   "cell_type": "code",
   "execution_count": 16,
   "metadata": {},
   "outputs": [
    {
     "data": {
      "text/html": [
       "<div>\n",
       "<style scoped>\n",
       "    .dataframe tbody tr th:only-of-type {\n",
       "        vertical-align: middle;\n",
       "    }\n",
       "\n",
       "    .dataframe tbody tr th {\n",
       "        vertical-align: top;\n",
       "    }\n",
       "\n",
       "    .dataframe thead th {\n",
       "        text-align: right;\n",
       "    }\n",
       "</style>\n",
       "<table border=\"1\" class=\"dataframe\">\n",
       "  <thead>\n",
       "    <tr style=\"text-align: right;\">\n",
       "      <th></th>\n",
       "      <th>db</th>\n",
       "      <th>db_object_id</th>\n",
       "      <th>db_object_symbol</th>\n",
       "      <th>qualifier</th>\n",
       "      <th>go_id</th>\n",
       "      <th>db_reference</th>\n",
       "      <th>evidence_code</th>\n",
       "      <th>with_or_from</th>\n",
       "      <th>aspect</th>\n",
       "      <th>db_object_name</th>\n",
       "      <th>db_object_synonym</th>\n",
       "      <th>db_object_type</th>\n",
       "      <th>taxon</th>\n",
       "      <th>date</th>\n",
       "      <th>assigned_by</th>\n",
       "      <th>annotation_extension</th>\n",
       "      <th>gene_product_form_id</th>\n",
       "      <th>evidence_description</th>\n",
       "    </tr>\n",
       "  </thead>\n",
       "  <tbody>\n",
       "    <tr>\n",
       "      <th>2</th>\n",
       "      <td>UniProtKB</td>\n",
       "      <td>Q87UX2</td>\n",
       "      <td>blc</td>\n",
       "      <td>enables</td>\n",
       "      <td>GO:0003674</td>\n",
       "      <td>GO_REF:0000015</td>\n",
       "      <td>ND</td>\n",
       "      <td>NaN</td>\n",
       "      <td>F</td>\n",
       "      <td>Outer membrane lipoprotein Blc</td>\n",
       "      <td>blc|PSPTO_5170</td>\n",
       "      <td>protein</td>\n",
       "      <td>taxon:223283</td>\n",
       "      <td>20061207</td>\n",
       "      <td>JCVI</td>\n",
       "      <td>NaN</td>\n",
       "      <td>NaN</td>\n",
       "      <td>curator_statement</td>\n",
       "    </tr>\n",
       "    <tr>\n",
       "      <th>4</th>\n",
       "      <td>UniProtKB</td>\n",
       "      <td>C8VDI1</td>\n",
       "      <td>AN11006</td>\n",
       "      <td>enables</td>\n",
       "      <td>GO:0003674</td>\n",
       "      <td>GO_REF:0000015</td>\n",
       "      <td>ND</td>\n",
       "      <td>NaN</td>\n",
       "      <td>F</td>\n",
       "      <td>Uncharacterized protein AN11006</td>\n",
       "      <td>AN11006</td>\n",
       "      <td>protein</td>\n",
       "      <td>taxon:227321</td>\n",
       "      <td>20200401</td>\n",
       "      <td>AspGD</td>\n",
       "      <td>NaN</td>\n",
       "      <td>NaN</td>\n",
       "      <td>curator_statement</td>\n",
       "    </tr>\n",
       "    <tr>\n",
       "      <th>11</th>\n",
       "      <td>UniProtKB</td>\n",
       "      <td>Q2GIQ1</td>\n",
       "      <td>omp-1X</td>\n",
       "      <td>enables</td>\n",
       "      <td>GO:0003674</td>\n",
       "      <td>GO_REF:0000015</td>\n",
       "      <td>ND</td>\n",
       "      <td>NaN</td>\n",
       "      <td>F</td>\n",
       "      <td>Omp-1X</td>\n",
       "      <td>omp-1X|APH_1219</td>\n",
       "      <td>protein</td>\n",
       "      <td>taxon:212042</td>\n",
       "      <td>20061212</td>\n",
       "      <td>TIGR</td>\n",
       "      <td>NaN</td>\n",
       "      <td>NaN</td>\n",
       "      <td>curator_statement</td>\n",
       "    </tr>\n",
       "    <tr>\n",
       "      <th>14</th>\n",
       "      <td>UniProtKB</td>\n",
       "      <td>Q93AM0</td>\n",
       "      <td>fldI</td>\n",
       "      <td>enables</td>\n",
       "      <td>GO:0008047</td>\n",
       "      <td>PMID:11967068</td>\n",
       "      <td>IDA</td>\n",
       "      <td>NaN</td>\n",
       "      <td>F</td>\n",
       "      <td>(R)-phenyllactate dehydratase activator</td>\n",
       "      <td>fldI</td>\n",
       "      <td>protein</td>\n",
       "      <td>taxon:1509</td>\n",
       "      <td>20130610</td>\n",
       "      <td>UniProt</td>\n",
       "      <td>NaN</td>\n",
       "      <td>NaN</td>\n",
       "      <td>experimental_evidence</td>\n",
       "    </tr>\n",
       "    <tr>\n",
       "      <th>16</th>\n",
       "      <td>UniProtKB</td>\n",
       "      <td>G4NEF6</td>\n",
       "      <td>MGG_00119</td>\n",
       "      <td>enables</td>\n",
       "      <td>GO:0003674</td>\n",
       "      <td>GO_REF:0000015</td>\n",
       "      <td>ND</td>\n",
       "      <td>NaN</td>\n",
       "      <td>F</td>\n",
       "      <td>Prothymosin alpha</td>\n",
       "      <td>MGG_00119</td>\n",
       "      <td>protein</td>\n",
       "      <td>taxon:242507</td>\n",
       "      <td>20080211</td>\n",
       "      <td>PAMGO_MGG</td>\n",
       "      <td>NaN</td>\n",
       "      <td>NaN</td>\n",
       "      <td>curator_statement</td>\n",
       "    </tr>\n",
       "  </tbody>\n",
       "</table>\n",
       "</div>"
      ],
      "text/plain": [
       "           db db_object_id db_object_symbol qualifier       go_id  \\\n",
       "2   UniProtKB       Q87UX2              blc   enables  GO:0003674   \n",
       "4   UniProtKB       C8VDI1          AN11006   enables  GO:0003674   \n",
       "11  UniProtKB       Q2GIQ1           omp-1X   enables  GO:0003674   \n",
       "14  UniProtKB       Q93AM0             fldI   enables  GO:0008047   \n",
       "16  UniProtKB       G4NEF6        MGG_00119   enables  GO:0003674   \n",
       "\n",
       "      db_reference evidence_code with_or_from aspect  \\\n",
       "2   GO_REF:0000015            ND          NaN      F   \n",
       "4   GO_REF:0000015            ND          NaN      F   \n",
       "11  GO_REF:0000015            ND          NaN      F   \n",
       "14   PMID:11967068           IDA          NaN      F   \n",
       "16  GO_REF:0000015            ND          NaN      F   \n",
       "\n",
       "                             db_object_name db_object_synonym db_object_type  \\\n",
       "2            Outer membrane lipoprotein Blc    blc|PSPTO_5170        protein   \n",
       "4           Uncharacterized protein AN11006           AN11006        protein   \n",
       "11                                   Omp-1X   omp-1X|APH_1219        protein   \n",
       "14  (R)-phenyllactate dehydratase activator              fldI        protein   \n",
       "16                        Prothymosin alpha         MGG_00119        protein   \n",
       "\n",
       "           taxon      date assigned_by annotation_extension  \\\n",
       "2   taxon:223283  20061207        JCVI                  NaN   \n",
       "4   taxon:227321  20200401       AspGD                  NaN   \n",
       "11  taxon:212042  20061212        TIGR                  NaN   \n",
       "14    taxon:1509  20130610     UniProt                  NaN   \n",
       "16  taxon:242507  20080211   PAMGO_MGG                  NaN   \n",
       "\n",
       "   gene_product_form_id   evidence_description  \n",
       "2                   NaN      curator_statement  \n",
       "4                   NaN      curator_statement  \n",
       "11                  NaN      curator_statement  \n",
       "14                  NaN  experimental_evidence  \n",
       "16                  NaN      curator_statement  "
      ]
     },
     "execution_count": 16,
     "metadata": {},
     "output_type": "execute_result"
    }
   ],
   "source": [
    "df_go_mf.head()\n"
   ]
  },
  {
   "cell_type": "markdown",
   "metadata": {},
   "source": [
    "In order to read the whole 171GB file, I first filtered it down using a C++ program that removes the comments, and only keeps \"Molecular Function\" terms with the \"enables\" qualifier. All annotations for gene products that are not in Uniprot, i.e. functional RNA, were removed as well. The filtered file is 11GB in size."
   ]
  },
  {
   "cell_type": "code",
   "execution_count": 58,
   "metadata": {},
   "outputs": [],
   "source": [
    "import pandas as pd\n",
    "\n",
    "df_go_all = pd.read_table(\n",
    "    \"~/gene_ontology/goa_sp_iea_mf_enables.tsv\",\n",
    "    dtype=str,\n",
    "    header=None,\n",
    "    names=[\"Uniprot\", \"go_id\", \"evidence_code\"],\n",
    ")"
   ]
  },
  {
   "cell_type": "code",
   "execution_count": 59,
   "metadata": {},
   "outputs": [
    {
     "data": {
      "text/html": [
       "<div>\n",
       "<style scoped>\n",
       "    .dataframe tbody tr th:only-of-type {\n",
       "        vertical-align: middle;\n",
       "    }\n",
       "\n",
       "    .dataframe tbody tr th {\n",
       "        vertical-align: top;\n",
       "    }\n",
       "\n",
       "    .dataframe thead th {\n",
       "        text-align: right;\n",
       "    }\n",
       "</style>\n",
       "<table border=\"1\" class=\"dataframe\">\n",
       "  <thead>\n",
       "    <tr style=\"text-align: right;\">\n",
       "      <th></th>\n",
       "      <th>Uniprot</th>\n",
       "      <th>go_id</th>\n",
       "      <th>evidence_code</th>\n",
       "    </tr>\n",
       "  </thead>\n",
       "  <tbody>\n",
       "    <tr>\n",
       "      <th>0</th>\n",
       "      <td>A0A8H7LV99</td>\n",
       "      <td>GO:0022857</td>\n",
       "      <td>IEA</td>\n",
       "    </tr>\n",
       "    <tr>\n",
       "      <th>1</th>\n",
       "      <td>A0A852VR81</td>\n",
       "      <td>GO:0003677</td>\n",
       "      <td>IEA</td>\n",
       "    </tr>\n",
       "    <tr>\n",
       "      <th>2</th>\n",
       "      <td>A0A852VR81</td>\n",
       "      <td>GO:0003677</td>\n",
       "      <td>IEA</td>\n",
       "    </tr>\n",
       "    <tr>\n",
       "      <th>3</th>\n",
       "      <td>A0A852VR81</td>\n",
       "      <td>GO:0003677</td>\n",
       "      <td>IEA</td>\n",
       "    </tr>\n",
       "    <tr>\n",
       "      <th>4</th>\n",
       "      <td>A0A851ER61</td>\n",
       "      <td>GO:0003746</td>\n",
       "      <td>IEA</td>\n",
       "    </tr>\n",
       "  </tbody>\n",
       "</table>\n",
       "</div>"
      ],
      "text/plain": [
       "      Uniprot       go_id evidence_code\n",
       "0  A0A8H7LV99  GO:0022857           IEA\n",
       "1  A0A852VR81  GO:0003677           IEA\n",
       "2  A0A852VR81  GO:0003677           IEA\n",
       "3  A0A852VR81  GO:0003677           IEA\n",
       "4  A0A851ER61  GO:0003746           IEA"
      ]
     },
     "execution_count": 59,
     "metadata": {},
     "output_type": "execute_result"
    }
   ],
   "source": [
    "df_go_all.head()\n"
   ]
  },
  {
   "cell_type": "markdown",
   "metadata": {},
   "source": [
    "This dataset now also contains IEA evidence codes:"
   ]
  },
  {
   "cell_type": "code",
   "execution_count": 60,
   "metadata": {},
   "outputs": [
    {
     "data": {
      "text/plain": [
       "IEA    465678194\n",
       "ND         43142\n",
       "ISS        24489\n",
       "IDA        12067\n",
       "IPI        11924\n",
       "IMP         1532\n",
       "TAS          459\n",
       "EXP          234\n",
       "ISA          161\n",
       "RCA          161\n",
       "IGC          158\n",
       "NAS          144\n",
       "ISM          116\n",
       "IGI          102\n",
       "IC            52\n",
       "ISO           39\n",
       "IEP           12\n",
       "Name: evidence_code, dtype: int64"
      ]
     },
     "execution_count": 60,
     "metadata": {},
     "output_type": "execute_result"
    }
   ],
   "source": [
    "df_go_all.evidence_code.value_counts()"
   ]
  },
  {
   "cell_type": "markdown",
   "metadata": {},
   "source": [
    "#### Creating Swissprot subset:"
   ]
  },
  {
   "cell_type": "code",
   "execution_count": 61,
   "metadata": {},
   "outputs": [],
   "source": [
    "df_go_all_sp = df_go_all[df_go_all.Uniprot.isin(swissprot_proteins)]"
   ]
  },
  {
   "cell_type": "code",
   "execution_count": 64,
   "metadata": {},
   "outputs": [
    {
     "name": "stdout",
     "output_type": "stream",
     "text": [
      "Unique proteins with transmembrane transporter activity go term: 4401573\n"
     ]
    }
   ],
   "source": [
    "print(\n",
    "    \"Unique proteins with transmembrane transporter activity go term:\",\n",
    "    df_go_all[\n",
    "        df_go_all.go_id == go.get_identifier(\"transmembrane transporter activity\")\n",
    "    ]\n",
    "    .Uniprot.unique().shape[0],\n",
    ")"
   ]
  },
  {
   "cell_type": "markdown",
   "metadata": {},
   "source": [
    "There are 4,401,573 proteins with the transmembrane transporter activity keyword! How many of them are in Swissprot?"
   ]
  },
  {
   "cell_type": "code",
   "execution_count": 66,
   "metadata": {},
   "outputs": [
    {
     "name": "stdout",
     "output_type": "stream",
     "text": [
      "Unique proteins in our filtered Swissprot dataset with transmembrane transporter activity keyword: 626\n"
     ]
    }
   ],
   "source": [
    "print(\n",
    "    \"Unique proteins in our filtered Swissprot dataset with transmembrane transporter activity keyword:\",\n",
    "    df_go_all_sp[\n",
    "        df_go_all_sp.go_id == go.get_identifier(\"transmembrane transporter activity\")\n",
    "    ]\n",
    "    .Uniprot.unique().shape[0],\n",
    ")"
   ]
  },
  {
   "cell_type": "markdown",
   "metadata": {},
   "source": [
    "Only 626 out of 144,929, which is less than Uniprot GO annotations, but more than GO annotations from the official website! How many are there if we include descendants of \"transmembrane transporter activity\"?"
   ]
  },
  {
   "cell_type": "code",
   "execution_count": 68,
   "metadata": {},
   "outputs": [
    {
     "name": "stdout",
     "output_type": "stream",
     "text": [
      "Unique proteins with  transmembrane transporter activity go term or descendant: 13812246\n",
      "Unique proteins in our filtered Swissprot dataset with transmembrane transporter activity goterm or descandant goterm: 2914\n"
     ]
    }
   ],
   "source": [
    "print(\n",
    "    \"Unique proteins with  transmembrane transporter activity go term or descendant:\",\n",
    "    df_go_all[\n",
    "        df_go_all.go_id.isin(\n",
    "            go.get_descendants(go.get_identifier(\"transmembrane transporter activity\"))\n",
    "        )\n",
    "    ]\n",
    "    .Uniprot.unique()\n",
    "    .shape[0],\n",
    ")\n",
    "\n",
    "print(\n",
    "    \"Unique proteins in our filtered Swissprot dataset with transmembrane transporter activity goterm or descandant goterm:\",\n",
    "    df_go_all_sp[\n",
    "        df_go_all_sp.go_id.isin(\n",
    "            go.get_descendants(go.get_identifier(\"transmembrane transporter activity\"))\n",
    "        )\n",
    "    ]\n",
    "    .Uniprot.unique()\n",
    "    .shape[0],\n",
    ")"
   ]
  },
  {
   "cell_type": "markdown",
   "metadata": {},
   "source": [
    "#### Individual Substrates"
   ]
  },
  {
   "cell_type": "code",
   "execution_count": 70,
   "metadata": {},
   "outputs": [
    {
     "name": "stdout",
     "output_type": "stream",
     "text": [
      "amino acid transmembrane transporter activity : 4\n",
      "amino acid transmembrane transporter activity + descentants: 58\n",
      "carbohydrate transmembrane transporter activity : 26\n",
      "carbohydrate transmembrane transporter activity + descentants: 149\n",
      "sugar transmembrane transporter activity : 24\n",
      "sugar transmembrane transporter activity + descentants: 73\n",
      "ion transmembrane transporter activity : 20\n",
      "ion transmembrane transporter activity + descentants: 1479\n"
     ]
    }
   ],
   "source": [
    "for go_term_set, name in [\n",
    "    (amino_acid_descendants, \"amino acid transmembrane transporter activity\"),\n",
    "    (carbohydrate_descendants, \"carbohydrate transmembrane transporter activity\"),\n",
    "    (sugar_descendants, \"sugar transmembrane transporter activity\"),\n",
    "    (ion_descendants, \"ion transmembrane transporter activity\"),\n",
    "]:\n",
    "    print(\n",
    "        name,\n",
    "        \":\",\n",
    "        df_go_all_sp[df_go_all_sp.go_id == go.get_identifier(name)]\n",
    "        .Uniprot.unique()\n",
    "        .shape[0],\n",
    "    )\n",
    "    print(\n",
    "        name,\n",
    "        \"+ descentants:\",\n",
    "        df_go_all_sp[df_go_all_sp.go_id.isin(go_term_set)].Uniprot.unique().shape[0],\n",
    "    )\n"
   ]
  },
  {
   "cell_type": "markdown",
   "metadata": {},
   "source": [
    "TODO\n",
    "\n",
    "Three GO datasets, one Keywords dataset\n",
    "\n",
    "compare number of transmembrane transporters (with or without descendants)\n",
    "\n",
    "Compare number of sugar, amino-acid, ion transporters\n",
    "\n"
   ]
  },
  {
   "cell_type": "markdown",
   "metadata": {},
   "source": [
    "## Keywords dataset"
   ]
  },
  {
   "cell_type": "code",
   "execution_count": null,
   "metadata": {},
   "outputs": [
    {
     "data": {
      "text/plain": [
       "(1205130, 2)"
      ]
     },
     "execution_count": 10,
     "metadata": {},
     "output_type": "execute_result"
    }
   ],
   "source": [
    "# All keyword annotations in swissprot\n",
    "df_sp_kw = get_keywords_df(df_swissprot)\n",
    "df_sp_kw.shape\n"
   ]
  },
  {
   "cell_type": "markdown",
   "metadata": {},
   "source": [
    "Substrate keywords:"
   ]
  },
  {
   "cell_type": "code",
   "execution_count": null,
   "metadata": {},
   "outputs": [
    {
     "data": {
      "text/plain": [
       "9624"
      ]
     },
     "execution_count": 31,
     "metadata": {},
     "output_type": "execute_result"
    }
   ],
   "source": [
    "tm_tp = (\n",
    "    df_sp_kw[df_sp_kw.keyword.isin([\"Transmembrane\", \"Transport\"])]\n",
    "    .groupby(\"Uniprot\")\n",
    "    .apply(len)\n",
    "    == 2\n",
    ")\n",
    "\n",
    "tm_tp = set(tm_tp[tm_tp].index.tolist())\n",
    "\n",
    "len(tm_tp)\n"
   ]
  },
  {
   "cell_type": "code",
   "execution_count": null,
   "metadata": {},
   "outputs": [
    {
     "data": {
      "text/plain": [
       "Ion transport                         4487\n",
       "Protein transport                     4114\n",
       "Electron transport                    2189\n",
       "Oxygen transport                       889\n",
       "Hydrogen ion transport                 816\n",
       "Lipid transport                        785\n",
       "Sodium transport                       732\n",
       "Potassium transport                    704\n",
       "Sugar transport                        703\n",
       "mRNA transport                         669\n",
       "Translocation                          626\n",
       "Amino-acid transport                   545\n",
       "Calcium transport                      463\n",
       "Chloride                               392\n",
       "Iron transport                         293\n",
       "Zinc transport                         191\n",
       "Neurotransmitter transport             175\n",
       "Phosphate transport                    143\n",
       "Peptide transport                      119\n",
       "Copper transport                        84\n",
       "Ammonia transport                       79\n",
       "Sodium/potassium transport              77\n",
       "Anion exchange                          51\n",
       "Sulfate transport                       40\n",
       "Cobalt transport                        36\n",
       "Viral movement protein                  34\n",
       "Nickel transport                        32\n",
       "Bacterial flagellum protein export      16\n",
       "Polysaccharide transport                12\n",
       "Bacteriocin transport                    8\n",
       "Name: keyword, dtype: int64"
      ]
     },
     "execution_count": 13,
     "metadata": {},
     "output_type": "execute_result"
    }
   ],
   "source": [
    "from subpred.dataset import SUBSTRATE_KEYWORDS\n",
    "\n",
    "df_sp_substrates = df_sp_kw[df_sp_kw.keyword.isin(SUBSTRATE_KEYWORDS)]\n",
    "\n",
    "df_sp_substrates.keyword.value_counts()"
   ]
  },
  {
   "cell_type": "markdown",
   "metadata": {},
   "source": [
    "## Results\n",
    "\n",
    "We created four different datasets.\n",
    "\t\t\t\t\t\ttransmembrane transporter activity\t\tt.t.a. + descendants\n",
    "\t\t\t\t\t\tSwissprot\tSwissprot+TrEMBL\t\t\tSwissprot\tSwissprot+TrEMBL\n",
    "GO-Uniprot(Processed by Uniprot)\n",
    "GO-NOIEA(Official Website)\n",
    "GO-IEA(Official Website)\n",
    "\n",
    "Filters official version: \"Enables\" qualifier, molecular function terms only. Does not remove many annotations.\n",
    "\n",
    "\n",
    "Keywords"
   ]
  }
 ],
 "metadata": {
  "kernelspec": {
   "display_name": "Python 3.10.8 ('subpred4')",
   "language": "python",
   "name": "python3"
  },
  "language_info": {
   "codemirror_mode": {
    "name": "ipython",
    "version": 3
   },
   "file_extension": ".py",
   "mimetype": "text/x-python",
   "name": "python",
   "nbconvert_exporter": "python",
   "pygments_lexer": "ipython3",
   "version": "3.10.8"
  },
  "orig_nbformat": 4,
  "vscode": {
   "interpreter": {
    "hash": "ec8de6dd8f2d395005c42468f5d13cdd089376f2ad37eab4b2481f4d8703f0b2"
   }
  }
 },
 "nbformat": 4,
 "nbformat_minor": 2
}
