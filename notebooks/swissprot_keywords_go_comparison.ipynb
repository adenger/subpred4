{
 "cells": [
  {
   "cell_type": "markdown",
   "metadata": {},
   "source": [
    "# GO vs. Keywords for substrates\n",
    "\n",
    "Up until now, we have been using Uniprot keywords for annotations. In order to get all transmembrane transporters of Sugar, we filter the proteins in the dataset by the keywords \"Transmembrane\" and \"Sugar transport\". \n",
    "\n",
    "This works most of the time, but sometimes there is a small number of proteins that fulfils these requirements, but does not actually transport the substrate. That could be the case for a \"sugar transport\" protein that exchanges ATP and ADP, which is in turn used to promote Sugar transport. This means that the protein we are looking at promotes sugar transport, but is not a sugar transporter by itself. We need all proteins in the dataset to be actual sugar transporters, to learn that function from the sequence.\n",
    "\n",
    "In order to prevent these cases, we could turn to the Gene Ontology. The advantage here is that the \"molecular function\" GO terms are much more specific. We would not have to filter for multiple keywords, and could instead just filter for \"sugar transmembrane transporter activity\". The downside could might be a lower number of samples, or lower-quality annotations if we use automatically annotated go terms.\n",
    "\n",
    "Tasks:\n",
    "\n",
    "- Implement tree-shaped datastructure for ontologies like GO and ChEMBL\n",
    "- How many substrates do we get with keywords/go in comparison?\n",
    "- What can we say about proteins that either have a go term or a keyword? Are they outliers, or are they simply not annotated correctly in GO/KW?\n",
    "- Compare GO term sets from Uniprot dataset to entire GO dataset"
   ]
  },
  {
   "cell_type": "markdown",
   "metadata": {},
   "source": [
    "## Information\n",
    "\n",
    "What is the difference between the GO annotation included in the UniProtKB entry view, and the information accessible via the link \"Complete GO annotation\"?\n",
    "\n",
    "https://www.uniprot.org/help/complete_go_annotation\n",
    "\n",
    "\n",
    "What are the differences between UniProtKB keywords and the GO terms?\n",
    "\n",
    "https://www.uniprot.org/help/keywords_vs_go\n",
    "\n",
    "Gene Ontology (GO) annotations in Uniprot\n",
    "\n",
    "https://www.uniprot.org/help/gene_ontology\n",
    "\n",
    "Transmembrane annotations in Uniprot\n",
    "\n",
    "https://www.uniprot.org/help/transmem"
   ]
  },
  {
   "cell_type": "code",
   "execution_count": 15,
   "metadata": {},
   "outputs": [
    {
     "name": "stdout",
     "output_type": "stream",
     "text": [
      "Found pickle, reading...\n"
     ]
    },
    {
     "data": {
      "text/plain": [
       "(144929, 16)"
      ]
     },
     "execution_count": 15,
     "metadata": {},
     "output_type": "execute_result"
    }
   ],
   "source": [
    "from subpred.dataset import create_dataset, get_go_df, get_keywords_df, get_tcdb_substrates\n",
    "df_swissprot = create_dataset(\n",
    "    # keywords_classes=[\"Amino-acid transport\", \"Sugar transport\"],\n",
    "    # keywords_filter=[\"Transmembrane\", \"Transport\"],\n",
    "    input_file=\"../data/raw/uniprot/swissprot_data_2022_04.tsv.gz\",\n",
    "    multi_substrate=\"keep\",\n",
    "    verbose=True,\n",
    "    # tax_ids_filter=[3702, 9606, 83333, 559292],\n",
    "    # outliers=outliers,\n",
    "    # sequence_clustering=70,\n",
    "    evidence_code=2,\n",
    "    invalid_amino_acids=\"remove_protein\",\n",
    "    # force_update=True,\n",
    "    tcdb_substrates_file=\"../data/raw/tcdb/tcdb_substrates.tsv\",\n",
    ")\n",
    "df_swissprot.shape"
   ]
  },
  {
   "cell_type": "code",
   "execution_count": 19,
   "metadata": {},
   "outputs": [
    {
     "data": {
      "text/plain": [
       "(1399804, 3)"
      ]
     },
     "execution_count": 19,
     "metadata": {},
     "output_type": "execute_result"
    }
   ],
   "source": [
    "df_sp_go = get_go_df(df_swissprot)\n",
    "df_sp_go.shape"
   ]
  },
  {
   "cell_type": "code",
   "execution_count": 20,
   "metadata": {},
   "outputs": [
    {
     "data": {
      "text/plain": [
       "(1205130, 2)"
      ]
     },
     "execution_count": 20,
     "metadata": {},
     "output_type": "execute_result"
    }
   ],
   "source": [
    "df_sp_kw = get_keywords_df(df_swissprot)\n",
    "df_sp_kw.shape"
   ]
  },
  {
   "cell_type": "code",
   "execution_count": 21,
   "metadata": {},
   "outputs": [
    {
     "data": {
      "text/plain": [
       "(7804, 4)"
      ]
     },
     "execution_count": 21,
     "metadata": {},
     "output_type": "execute_result"
    }
   ],
   "source": [
    "df_sp_ch = get_tcdb_substrates(df_swissprot)\n",
    "df_sp_ch.shape"
   ]
  }
 ],
 "metadata": {
  "kernelspec": {
   "display_name": "Python 3.10.8 ('subpred4')",
   "language": "python",
   "name": "python3"
  },
  "language_info": {
   "codemirror_mode": {
    "name": "ipython",
    "version": 3
   },
   "file_extension": ".py",
   "mimetype": "text/x-python",
   "name": "python",
   "nbconvert_exporter": "python",
   "pygments_lexer": "ipython3",
   "version": "3.10.8"
  },
  "orig_nbformat": 4,
  "vscode": {
   "interpreter": {
    "hash": "ec8de6dd8f2d395005c42468f5d13cdd089376f2ad37eab4b2481f4d8703f0b2"
   }
  }
 },
 "nbformat": 4,
 "nbformat_minor": 2
}
