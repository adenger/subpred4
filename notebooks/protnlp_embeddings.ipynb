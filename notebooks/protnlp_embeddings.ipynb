{
 "cells": [
  {
   "cell_type": "code",
   "execution_count": null,
   "metadata": {},
   "outputs": [],
   "source": [
    "import numpy as np\n",
    "import h5py\n",
    "\n",
    "embeddings_dict = {}\n",
    "\n",
    "path = \"/home/ad/uniref_update/ecoli-per-protein.h5\"\n",
    "with h5py.File(path, \"r\") as file:\n",
    "    print(f\"number of entries: {len(file.items())}\")\n",
    "    for sequence_id, embedding in file.items():\n",
    "        embeddings_dict[sequence_id] = np.array(embedding)\n",
    "        # print(\n",
    "        #     f\"  id: {sequence_id}, \"\n",
    "        #     f\"  embeddings shape: {embedding.shape}, \"\n",
    "        #     f\"  embeddings mean: {np.array(embedding).mean()}\"\n",
    "        # )\n",
    "embeddings_dict\n"
   ]
  },
  {
   "attachments": {},
   "cell_type": "markdown",
   "metadata": {},
   "source": [
    "Per-residue contains one vector per residue, probably not what I want:"
   ]
  },
  {
   "cell_type": "code",
   "execution_count": null,
   "metadata": {},
   "outputs": [],
   "source": [
    "embeddings_dict = {}\n",
    "\n",
    "path = \"/home/ad/uniref_update/ecoli-per-residue.h5\"\n",
    "with h5py.File(path, \"r\") as file:\n",
    "    print(f\"number of entries: {len(file.items())}\")\n",
    "    for sequence_id, embedding in file.items():\n",
    "        embeddings_dict[sequence_id] = np.array(embedding)\n",
    "        print(\n",
    "            f\"  id: {sequence_id}, \"\n",
    "            f\"  embeddings shape: {embedding.shape}, \"\n",
    "            f\"  embeddings mean: {np.array(embedding).mean()}\"\n",
    "        )\n",
    "embeddings_dict"
   ]
  }
 ],
 "metadata": {
  "kernelspec": {
   "display_name": "subpred4",
   "language": "python",
   "name": "python3"
  },
  "language_info": {
   "name": "python",
   "version": "3.10.8"
  },
  "orig_nbformat": 4,
  "vscode": {
   "interpreter": {
    "hash": "ec8de6dd8f2d395005c42468f5d13cdd089376f2ad37eab4b2481f4d8703f0b2"
   }
  }
 },
 "nbformat": 4,
 "nbformat_minor": 2
}
