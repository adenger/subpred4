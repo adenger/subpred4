{
 "cells": [
  {
   "attachments": {},
   "cell_type": "markdown",
   "metadata": {},
   "source": [
    "Steps:\n",
    "\n",
    "- Filter protein dataset\n",
    "    - Organisms\n",
    "- Annotate with GO terms\n",
    "- Create subgraph of GO\n",
    "    - transmembrane transporter activity\n",
    "    - only go terms that occur in protein dataset\n",
    "- Annotate GO network with ChEBI terms\n",
    "- Chebi Network: Sub-Network of molecules that occur in organism\n",
    "    - Node size: Number of proteins\n",
    "    - Edges: Overlap in terms of proteins\n",
    "\n",
    "TODO compare to graph notebook\n",
    "\n",
    "TODO turn into functions in graph.py"
   ]
  },
  {
   "attachments": {},
   "cell_type": "markdown",
   "metadata": {},
   "source": [
    "## Protein dataset"
   ]
  },
  {
   "cell_type": "code",
   "execution_count": 4,
   "metadata": {},
   "outputs": [
    {
     "data": {
      "text/html": [
       "<div>\n",
       "<style scoped>\n",
       "    .dataframe tbody tr th:only-of-type {\n",
       "        vertical-align: middle;\n",
       "    }\n",
       "\n",
       "    .dataframe tbody tr th {\n",
       "        vertical-align: top;\n",
       "    }\n",
       "\n",
       "    .dataframe thead th {\n",
       "        text-align: right;\n",
       "    }\n",
       "</style>\n",
       "<table border=\"1\" class=\"dataframe\">\n",
       "  <thead>\n",
       "    <tr style=\"text-align: right;\">\n",
       "      <th></th>\n",
       "      <th>gene_names</th>\n",
       "      <th>protein_names</th>\n",
       "      <th>reviewed</th>\n",
       "      <th>protein_existence</th>\n",
       "      <th>sequence</th>\n",
       "      <th>organism_id</th>\n",
       "    </tr>\n",
       "    <tr>\n",
       "      <th>Uniprot</th>\n",
       "      <th></th>\n",
       "      <th></th>\n",
       "      <th></th>\n",
       "      <th></th>\n",
       "      <th></th>\n",
       "      <th></th>\n",
       "    </tr>\n",
       "  </thead>\n",
       "  <tbody>\n",
       "    <tr>\n",
       "      <th>A0A0C5B5G6</th>\n",
       "      <td>MT-RNR1</td>\n",
       "      <td>Mitochondrial-derived peptide MOTS-c (Mitochon...</td>\n",
       "      <td>True</td>\n",
       "      <td>1</td>\n",
       "      <td>MRWQEMGYIFYPRKLR</td>\n",
       "      <td>9606</td>\n",
       "    </tr>\n",
       "    <tr>\n",
       "      <th>A0A1B0GTW7</th>\n",
       "      <td>CIROP LMLN2</td>\n",
       "      <td>Ciliated left-right organizer metallopeptidase...</td>\n",
       "      <td>True</td>\n",
       "      <td>1</td>\n",
       "      <td>MLLLLLLLLLLPPLVLRVAASRCLHDETQKSVSLLRPPFSQLPSKS...</td>\n",
       "      <td>9606</td>\n",
       "    </tr>\n",
       "    <tr>\n",
       "      <th>A0JNW5</th>\n",
       "      <td>BLTP3B KIAA0701 SHIP164 UHRF1BP1L</td>\n",
       "      <td>Bridge-like lipid transfer protein family memb...</td>\n",
       "      <td>True</td>\n",
       "      <td>1</td>\n",
       "      <td>MAGIIKKQILKHLSRFTKNLSPDKINLSTLKGEGELKNLELDEEVL...</td>\n",
       "      <td>9606</td>\n",
       "    </tr>\n",
       "    <tr>\n",
       "      <th>A0JP26</th>\n",
       "      <td>POTEB3</td>\n",
       "      <td>POTE ankyrin domain family member B3</td>\n",
       "      <td>True</td>\n",
       "      <td>1</td>\n",
       "      <td>MVAEVCSMPAASAVKKPFDLRSKMGKWCHHRFPCCRGSGKSNMGTS...</td>\n",
       "      <td>9606</td>\n",
       "    </tr>\n",
       "    <tr>\n",
       "      <th>A0PK11</th>\n",
       "      <td>CLRN2</td>\n",
       "      <td>Clarin-2</td>\n",
       "      <td>True</td>\n",
       "      <td>1</td>\n",
       "      <td>MPGWFKKAWYGLASLLSFSSFILIIVALVVPHWLSGKILCQTGVDL...</td>\n",
       "      <td>9606</td>\n",
       "    </tr>\n",
       "    <tr>\n",
       "      <th>...</th>\n",
       "      <td>...</td>\n",
       "      <td>...</td>\n",
       "      <td>...</td>\n",
       "      <td>...</td>\n",
       "      <td>...</td>\n",
       "      <td>...</td>\n",
       "    </tr>\n",
       "    <tr>\n",
       "      <th>X5L4R4</th>\n",
       "      <td>NOD-2</td>\n",
       "      <td>Nucleotide-binding oligomerization domain-cont...</td>\n",
       "      <td>False</td>\n",
       "      <td>2</td>\n",
       "      <td>MSPGCYKGWPFNCHLSHEEDKRRNETLLQEAETSNLQITASFVSGL...</td>\n",
       "      <td>586796</td>\n",
       "    </tr>\n",
       "    <tr>\n",
       "      <th>X5MBL2</th>\n",
       "      <td>GT34D</td>\n",
       "      <td>Putative galacto(Gluco)mannan alpha-1,6-galact...</td>\n",
       "      <td>False</td>\n",
       "      <td>2</td>\n",
       "      <td>KVLYDRAFNSSDDQSALVYLLLKEKDKWADRIFIEHKYYLNGYWLD...</td>\n",
       "      <td>3352</td>\n",
       "    </tr>\n",
       "    <tr>\n",
       "      <th>X5MFI4</th>\n",
       "      <td>GT34D</td>\n",
       "      <td>Putative galacto(Gluco)mannan alpha-1,6-galact...</td>\n",
       "      <td>False</td>\n",
       "      <td>2</td>\n",
       "      <td>MDEDVLCKGPLHGGSARSLKGSLKRLKRIMESLNDGLIFMGGAVSA...</td>\n",
       "      <td>3352</td>\n",
       "    </tr>\n",
       "    <tr>\n",
       "      <th>X5MI49</th>\n",
       "      <td>GT34A</td>\n",
       "      <td>Putative galacto(Gluco)mannan alpha-1,6-galact...</td>\n",
       "      <td>False</td>\n",
       "      <td>2</td>\n",
       "      <td>MVNDSKLETISGNMVQKRKSFDGLPFWTVSIAGGLLLCWSLWRICF...</td>\n",
       "      <td>3352</td>\n",
       "    </tr>\n",
       "    <tr>\n",
       "      <th>X5MPI5</th>\n",
       "      <td>GT34C</td>\n",
       "      <td>Xyloglucan alpha-1,6-xylosyltransferase</td>\n",
       "      <td>False</td>\n",
       "      <td>2</td>\n",
       "      <td>MRESVKRGLPSVRGPANGRSLALPKARSIQKTFNNLKITILCGFVT...</td>\n",
       "      <td>3352</td>\n",
       "    </tr>\n",
       "  </tbody>\n",
       "</table>\n",
       "<p>1021957 rows × 6 columns</p>\n",
       "</div>"
      ],
      "text/plain": [
       "                                   gene_names  \\\n",
       "Uniprot                                         \n",
       "A0A0C5B5G6                            MT-RNR1   \n",
       "A0A1B0GTW7                        CIROP LMLN2   \n",
       "A0JNW5      BLTP3B KIAA0701 SHIP164 UHRF1BP1L   \n",
       "A0JP26                                 POTEB3   \n",
       "A0PK11                                  CLRN2   \n",
       "...                                       ...   \n",
       "X5L4R4                                  NOD-2   \n",
       "X5MBL2                                  GT34D   \n",
       "X5MFI4                                  GT34D   \n",
       "X5MI49                                  GT34A   \n",
       "X5MPI5                                  GT34C   \n",
       "\n",
       "                                                protein_names  reviewed  \\\n",
       "Uniprot                                                                   \n",
       "A0A0C5B5G6  Mitochondrial-derived peptide MOTS-c (Mitochon...      True   \n",
       "A0A1B0GTW7  Ciliated left-right organizer metallopeptidase...      True   \n",
       "A0JNW5      Bridge-like lipid transfer protein family memb...      True   \n",
       "A0JP26                   POTE ankyrin domain family member B3      True   \n",
       "A0PK11                                               Clarin-2      True   \n",
       "...                                                       ...       ...   \n",
       "X5L4R4      Nucleotide-binding oligomerization domain-cont...     False   \n",
       "X5MBL2      Putative galacto(Gluco)mannan alpha-1,6-galact...     False   \n",
       "X5MFI4      Putative galacto(Gluco)mannan alpha-1,6-galact...     False   \n",
       "X5MI49      Putative galacto(Gluco)mannan alpha-1,6-galact...     False   \n",
       "X5MPI5                Xyloglucan alpha-1,6-xylosyltransferase     False   \n",
       "\n",
       "            protein_existence  \\\n",
       "Uniprot                         \n",
       "A0A0C5B5G6                  1   \n",
       "A0A1B0GTW7                  1   \n",
       "A0JNW5                      1   \n",
       "A0JP26                      1   \n",
       "A0PK11                      1   \n",
       "...                       ...   \n",
       "X5L4R4                      2   \n",
       "X5MBL2                      2   \n",
       "X5MFI4                      2   \n",
       "X5MI49                      2   \n",
       "X5MPI5                      2   \n",
       "\n",
       "                                                     sequence  organism_id  \n",
       "Uniprot                                                                     \n",
       "A0A0C5B5G6                                   MRWQEMGYIFYPRKLR         9606  \n",
       "A0A1B0GTW7  MLLLLLLLLLLPPLVLRVAASRCLHDETQKSVSLLRPPFSQLPSKS...         9606  \n",
       "A0JNW5      MAGIIKKQILKHLSRFTKNLSPDKINLSTLKGEGELKNLELDEEVL...         9606  \n",
       "A0JP26      MVAEVCSMPAASAVKKPFDLRSKMGKWCHHRFPCCRGSGKSNMGTS...         9606  \n",
       "A0PK11      MPGWFKKAWYGLASLLSFSSFILIIVALVVPHWLSGKILCQTGVDL...         9606  \n",
       "...                                                       ...          ...  \n",
       "X5L4R4      MSPGCYKGWPFNCHLSHEEDKRRNETLLQEAETSNLQITASFVSGL...       586796  \n",
       "X5MBL2      KVLYDRAFNSSDDQSALVYLLLKEKDKWADRIFIEHKYYLNGYWLD...         3352  \n",
       "X5MFI4      MDEDVLCKGPLHGGSARSLKGSLKRLKRIMESLNDGLIFMGGAVSA...         3352  \n",
       "X5MI49      MVNDSKLETISGNMVQKRKSFDGLPFWTVSIAGGLLLCWSLWRICF...         3352  \n",
       "X5MPI5      MRESVKRGLPSVRGPANGRSLALPKARSIQKTFNNLKITILCGFVT...         3352  \n",
       "\n",
       "[1021957 rows x 6 columns]"
      ]
     },
     "execution_count": 4,
     "metadata": {},
     "output_type": "execute_result"
    }
   ],
   "source": [
    "from subpred.util import load_df\n",
    "df_uniprot = load_df(\"uniprot\")\n",
    "df_uniprot"
   ]
  },
  {
   "cell_type": "code",
   "execution_count": 5,
   "metadata": {},
   "outputs": [
    {
     "data": {
      "text/plain": [
       "3284"
      ]
     },
     "execution_count": 5,
     "metadata": {},
     "output_type": "execute_result"
    }
   ],
   "source": [
    "ORGANISM_ID = 83333\n",
    "\n",
    "df_uniprot_organism = df_uniprot[df_uniprot.organism_id == ORGANISM_ID].drop(\n",
    "    \"organism_id\", axis=1\n",
    ")\n",
    "df_uniprot_organism.shape[0]"
   ]
  },
  {
   "cell_type": "code",
   "execution_count": 6,
   "metadata": {},
   "outputs": [
    {
     "data": {
      "text/plain": [
       "3284"
      ]
     },
     "execution_count": 6,
     "metadata": {},
     "output_type": "execute_result"
    }
   ],
   "source": [
    "df_uniprot_organism = df_uniprot_organism[\n",
    "    ~df_uniprot_organism.gene_names.isnull()\n",
    "    & ~df_uniprot_organism.protein_names.isnull()\n",
    "    & ~df_uniprot_organism.sequence.isnull()\n",
    "]\n",
    "df_uniprot_organism.shape[0]"
   ]
  },
  {
   "cell_type": "code",
   "execution_count": 7,
   "metadata": {},
   "outputs": [
    {
     "data": {
      "text/plain": [
       "reviewed  protein_existence\n",
       "False     1                       1\n",
       "          2                       1\n",
       "True      1                    3118\n",
       "          2                     164\n",
       "dtype: int64"
      ]
     },
     "metadata": {},
     "output_type": "display_data"
    }
   ],
   "source": [
    "REVIEWED_ONLY = True\n",
    "PROTEIN_EXISTENCE_PROTEIN_LEVEL = True\n",
    "\n",
    "display(\n",
    "    df_uniprot_organism[[\"reviewed\", \"protein_existence\"]]\n",
    "    .groupby([\"reviewed\", \"protein_existence\"])\n",
    "    .apply(len)\n",
    ")\n",
    "\n",
    "if REVIEWED_ONLY:\n",
    "    df_uniprot_organism = df_uniprot_organism[df_uniprot_organism.reviewed]\n",
    "if PROTEIN_EXISTENCE_PROTEIN_LEVEL:\n",
    "    df_uniprot_organism = df_uniprot_organism[\n",
    "        df_uniprot_organism.protein_existence == 1\n",
    "    ]"
   ]
  },
  {
   "attachments": {},
   "cell_type": "markdown",
   "metadata": {},
   "source": [
    "## GO Annotations"
   ]
  },
  {
   "cell_type": "code",
   "execution_count": 8,
   "metadata": {},
   "outputs": [
    {
     "data": {
      "text/html": [
       "<div>\n",
       "<style scoped>\n",
       "    .dataframe tbody tr th:only-of-type {\n",
       "        vertical-align: middle;\n",
       "    }\n",
       "\n",
       "    .dataframe tbody tr th {\n",
       "        vertical-align: top;\n",
       "    }\n",
       "\n",
       "    .dataframe thead th {\n",
       "        text-align: right;\n",
       "    }\n",
       "</style>\n",
       "<table border=\"1\" class=\"dataframe\">\n",
       "  <thead>\n",
       "    <tr style=\"text-align: right;\">\n",
       "      <th></th>\n",
       "      <th>Uniprot</th>\n",
       "      <th>qualifier</th>\n",
       "      <th>go_id</th>\n",
       "      <th>evidence_code</th>\n",
       "      <th>aspect</th>\n",
       "    </tr>\n",
       "  </thead>\n",
       "  <tbody>\n",
       "    <tr>\n",
       "      <th>0</th>\n",
       "      <td>A0A009FND8</td>\n",
       "      <td>enables</td>\n",
       "      <td>GO:0000166</td>\n",
       "      <td>IEA</td>\n",
       "      <td>F</td>\n",
       "    </tr>\n",
       "    <tr>\n",
       "      <th>1</th>\n",
       "      <td>A0A009FND8</td>\n",
       "      <td>enables</td>\n",
       "      <td>GO:0005524</td>\n",
       "      <td>IEA</td>\n",
       "      <td>F</td>\n",
       "    </tr>\n",
       "    <tr>\n",
       "      <th>2</th>\n",
       "      <td>A0A009FND8</td>\n",
       "      <td>enables</td>\n",
       "      <td>GO:0051082</td>\n",
       "      <td>IEA</td>\n",
       "      <td>F</td>\n",
       "    </tr>\n",
       "    <tr>\n",
       "      <th>3</th>\n",
       "      <td>A0A009FND8</td>\n",
       "      <td>enables</td>\n",
       "      <td>GO:0140662</td>\n",
       "      <td>IEA</td>\n",
       "      <td>F</td>\n",
       "    </tr>\n",
       "    <tr>\n",
       "      <th>4</th>\n",
       "      <td>A0A009FND8</td>\n",
       "      <td>involved_in</td>\n",
       "      <td>GO:0006457</td>\n",
       "      <td>IEA</td>\n",
       "      <td>P</td>\n",
       "    </tr>\n",
       "    <tr>\n",
       "      <th>...</th>\n",
       "      <td>...</td>\n",
       "      <td>...</td>\n",
       "      <td>...</td>\n",
       "      <td>...</td>\n",
       "      <td>...</td>\n",
       "    </tr>\n",
       "    <tr>\n",
       "      <th>7452013</th>\n",
       "      <td>Z9JND5</td>\n",
       "      <td>enables</td>\n",
       "      <td>GO:0000166</td>\n",
       "      <td>IEA</td>\n",
       "      <td>F</td>\n",
       "    </tr>\n",
       "    <tr>\n",
       "      <th>7452014</th>\n",
       "      <td>Z9JND5</td>\n",
       "      <td>enables</td>\n",
       "      <td>GO:0005524</td>\n",
       "      <td>IEA</td>\n",
       "      <td>F</td>\n",
       "    </tr>\n",
       "    <tr>\n",
       "      <th>7452015</th>\n",
       "      <td>Z9JND5</td>\n",
       "      <td>enables</td>\n",
       "      <td>GO:0051082</td>\n",
       "      <td>IEA</td>\n",
       "      <td>F</td>\n",
       "    </tr>\n",
       "    <tr>\n",
       "      <th>7452016</th>\n",
       "      <td>Z9JND5</td>\n",
       "      <td>enables</td>\n",
       "      <td>GO:0140662</td>\n",
       "      <td>IEA</td>\n",
       "      <td>F</td>\n",
       "    </tr>\n",
       "    <tr>\n",
       "      <th>7452017</th>\n",
       "      <td>Z9JND5</td>\n",
       "      <td>involved_in</td>\n",
       "      <td>GO:0006457</td>\n",
       "      <td>IEA</td>\n",
       "      <td>P</td>\n",
       "    </tr>\n",
       "  </tbody>\n",
       "</table>\n",
       "<p>7452018 rows × 5 columns</p>\n",
       "</div>"
      ],
      "text/plain": [
       "            Uniprot    qualifier       go_id evidence_code aspect\n",
       "0        A0A009FND8      enables  GO:0000166           IEA      F\n",
       "1        A0A009FND8      enables  GO:0005524           IEA      F\n",
       "2        A0A009FND8      enables  GO:0051082           IEA      F\n",
       "3        A0A009FND8      enables  GO:0140662           IEA      F\n",
       "4        A0A009FND8  involved_in  GO:0006457           IEA      P\n",
       "...             ...          ...         ...           ...    ...\n",
       "7452013      Z9JND5      enables  GO:0000166           IEA      F\n",
       "7452014      Z9JND5      enables  GO:0005524           IEA      F\n",
       "7452015      Z9JND5      enables  GO:0051082           IEA      F\n",
       "7452016      Z9JND5      enables  GO:0140662           IEA      F\n",
       "7452017      Z9JND5  involved_in  GO:0006457           IEA      P\n",
       "\n",
       "[7452018 rows x 5 columns]"
      ]
     },
     "execution_count": 8,
     "metadata": {},
     "output_type": "execute_result"
    }
   ],
   "source": [
    "df_goa_uniprot = load_df(\"go\")\n",
    "df_goa_uniprot"
   ]
  },
  {
   "attachments": {},
   "cell_type": "markdown",
   "metadata": {},
   "source": [
    "Filter GO annotations for the organism:"
   ]
  },
  {
   "cell_type": "code",
   "execution_count": 9,
   "metadata": {},
   "outputs": [
    {
     "data": {
      "text/html": [
       "<div>\n",
       "<style scoped>\n",
       "    .dataframe tbody tr th:only-of-type {\n",
       "        vertical-align: middle;\n",
       "    }\n",
       "\n",
       "    .dataframe tbody tr th {\n",
       "        vertical-align: top;\n",
       "    }\n",
       "\n",
       "    .dataframe thead th {\n",
       "        text-align: right;\n",
       "    }\n",
       "</style>\n",
       "<table border=\"1\" class=\"dataframe\">\n",
       "  <thead>\n",
       "    <tr style=\"text-align: right;\">\n",
       "      <th></th>\n",
       "      <th>Uniprot</th>\n",
       "      <th>qualifier</th>\n",
       "      <th>go_id</th>\n",
       "      <th>evidence_code</th>\n",
       "      <th>aspect</th>\n",
       "    </tr>\n",
       "  </thead>\n",
       "  <tbody>\n",
       "    <tr>\n",
       "      <th>0</th>\n",
       "      <td>A5A615</td>\n",
       "      <td>located_in</td>\n",
       "      <td>GO:0005886</td>\n",
       "      <td>IDA</td>\n",
       "      <td>C</td>\n",
       "    </tr>\n",
       "    <tr>\n",
       "      <th>1</th>\n",
       "      <td>A5A615</td>\n",
       "      <td>located_in</td>\n",
       "      <td>GO:0005886</td>\n",
       "      <td>IEA</td>\n",
       "      <td>C</td>\n",
       "    </tr>\n",
       "    <tr>\n",
       "      <th>2</th>\n",
       "      <td>A5A615</td>\n",
       "      <td>located_in</td>\n",
       "      <td>GO:0005886</td>\n",
       "      <td>RCA</td>\n",
       "      <td>C</td>\n",
       "    </tr>\n",
       "    <tr>\n",
       "      <th>3</th>\n",
       "      <td>A5A615</td>\n",
       "      <td>located_in</td>\n",
       "      <td>GO:0016020</td>\n",
       "      <td>IEA</td>\n",
       "      <td>C</td>\n",
       "    </tr>\n",
       "    <tr>\n",
       "      <th>4</th>\n",
       "      <td>A5A616</td>\n",
       "      <td>acts_upstream_of_or_within</td>\n",
       "      <td>GO:0010350</td>\n",
       "      <td>IEP</td>\n",
       "      <td>P</td>\n",
       "    </tr>\n",
       "    <tr>\n",
       "      <th>...</th>\n",
       "      <td>...</td>\n",
       "      <td>...</td>\n",
       "      <td>...</td>\n",
       "      <td>...</td>\n",
       "      <td>...</td>\n",
       "    </tr>\n",
       "    <tr>\n",
       "      <th>39156</th>\n",
       "      <td>Q93K97</td>\n",
       "      <td>involved_in</td>\n",
       "      <td>GO:0006753</td>\n",
       "      <td>IBA</td>\n",
       "      <td>P</td>\n",
       "    </tr>\n",
       "    <tr>\n",
       "      <th>39157</th>\n",
       "      <td>Q93K97</td>\n",
       "      <td>involved_in</td>\n",
       "      <td>GO:0019693</td>\n",
       "      <td>IBA</td>\n",
       "      <td>P</td>\n",
       "    </tr>\n",
       "    <tr>\n",
       "      <th>39158</th>\n",
       "      <td>Q93K97</td>\n",
       "      <td>is_active_in</td>\n",
       "      <td>GO:0005829</td>\n",
       "      <td>IBA</td>\n",
       "      <td>C</td>\n",
       "    </tr>\n",
       "    <tr>\n",
       "      <th>39159</th>\n",
       "      <td>Q93K97</td>\n",
       "      <td>located_in</td>\n",
       "      <td>GO:0005829</td>\n",
       "      <td>HDA</td>\n",
       "      <td>C</td>\n",
       "    </tr>\n",
       "    <tr>\n",
       "      <th>39160</th>\n",
       "      <td>Q93K97</td>\n",
       "      <td>located_in</td>\n",
       "      <td>GO:0005829</td>\n",
       "      <td>IDA</td>\n",
       "      <td>C</td>\n",
       "    </tr>\n",
       "  </tbody>\n",
       "</table>\n",
       "<p>39161 rows × 5 columns</p>\n",
       "</div>"
      ],
      "text/plain": [
       "      Uniprot                   qualifier       go_id evidence_code aspect\n",
       "0      A5A615                  located_in  GO:0005886           IDA      C\n",
       "1      A5A615                  located_in  GO:0005886           IEA      C\n",
       "2      A5A615                  located_in  GO:0005886           RCA      C\n",
       "3      A5A615                  located_in  GO:0016020           IEA      C\n",
       "4      A5A616  acts_upstream_of_or_within  GO:0010350           IEP      P\n",
       "...       ...                         ...         ...           ...    ...\n",
       "39156  Q93K97                 involved_in  GO:0006753           IBA      P\n",
       "39157  Q93K97                 involved_in  GO:0019693           IBA      P\n",
       "39158  Q93K97                is_active_in  GO:0005829           IBA      C\n",
       "39159  Q93K97                  located_in  GO:0005829           HDA      C\n",
       "39160  Q93K97                  located_in  GO:0005829           IDA      C\n",
       "\n",
       "[39161 rows x 5 columns]"
      ]
     },
     "execution_count": 9,
     "metadata": {},
     "output_type": "execute_result"
    }
   ],
   "source": [
    "df_goa_uniprot_organism = df_goa_uniprot[\n",
    "    df_goa_uniprot.Uniprot.isin(df_uniprot_organism.index)\n",
    "].reset_index(drop=True)\n",
    "\n",
    "df_goa_uniprot_organism"
   ]
  },
  {
   "cell_type": "code",
   "execution_count": 21,
   "metadata": {},
   "outputs": [],
   "source": [
    "# TODO ancestors\n",
    "# TODO IEA, qualifiers?"
   ]
  },
  {
   "attachments": {},
   "cell_type": "markdown",
   "metadata": {},
   "source": [
    "## GO NetworkX"
   ]
  },
  {
   "cell_type": "code",
   "execution_count": 11,
   "metadata": {},
   "outputs": [],
   "source": [
    "import obonet\n",
    "import networkx as nx\n",
    "\n",
    "graph_go = obonet.read_obo(\"../data/raw/ontologies/go.obo\", ignore_obsolete=True)"
   ]
  },
  {
   "attachments": {},
   "cell_type": "markdown",
   "metadata": {},
   "source": [
    "Dicts for converting between labels and identifiers:"
   ]
  },
  {
   "cell_type": "code",
   "execution_count": null,
   "metadata": {},
   "outputs": [],
   "source": [
    "id_to_name = {id: data[\"name\"] for id, data in graph_go.nodes(data=True)}\n",
    "name_to_id = {name: id for id, name in id_to_name.items()}"
   ]
  },
  {
   "attachments": {},
   "cell_type": "markdown",
   "metadata": {},
   "source": [
    "Are there any GO Uniprot annotations that are not included in the graph? If not, the two files might be based on two different versions of Uniprot, and should be updated to the same version."
   ]
  },
  {
   "cell_type": "code",
   "execution_count": 13,
   "metadata": {},
   "outputs": [
    {
     "data": {
      "text/plain": [
       "0"
      ]
     },
     "execution_count": 13,
     "metadata": {},
     "output_type": "execute_result"
    }
   ],
   "source": [
    "df_goa_uniprot_organism[~df_goa_uniprot_organism.go_id.isin(set(graph_go.nodes()))].shape[0]\n",
    "# TODO filter for that?"
   ]
  },
  {
   "attachments": {},
   "cell_type": "markdown",
   "metadata": {},
   "source": [
    "What edge-annotations are in the data?"
   ]
  },
  {
   "cell_type": "code",
   "execution_count": 17,
   "metadata": {},
   "outputs": [
    {
     "data": {
      "text/plain": [
       "{'ends_during',\n",
       " 'happens_during',\n",
       " 'has_part',\n",
       " 'is_a',\n",
       " 'negatively_regulates',\n",
       " 'occurs_in',\n",
       " 'part_of',\n",
       " 'positively_regulates',\n",
       " 'regulates'}"
      ]
     },
     "execution_count": 17,
     "metadata": {},
     "output_type": "execute_result"
    }
   ],
   "source": [
    "{edge[2] for edge in graph_go.edges(data=True, keys=True)}"
   ]
  },
  {
   "attachments": {},
   "cell_type": "markdown",
   "metadata": {},
   "source": [
    "Creating sub-graph for Molecular Function terms:"
   ]
  },
  {
   "cell_type": "code",
   "execution_count": 40,
   "metadata": {},
   "outputs": [],
   "source": [
    "graph_go_mf = graph_go.subgraph(\n",
    "    nodes=[\n",
    "        node\n",
    "        for node, data in graph_go.nodes(data=True)\n",
    "        if data[\"namespace\"] == \"molecular_function\"\n",
    "    ]\n",
    ")"
   ]
  },
  {
   "attachments": {},
   "cell_type": "markdown",
   "metadata": {},
   "source": [
    "Which relations can we find in the MF-subgraph?\n",
    "\n",
    "- has_part, part_of: Used for example for protein complexes and their complex members\n",
    "- regulation: For transcription factors, messengers, etc.\n",
    "- is_a: Direct, logical relation. This is what we want for finding all sub-types of transmembrane transporter activity."
   ]
  },
  {
   "cell_type": "code",
   "execution_count": 41,
   "metadata": {},
   "outputs": [
    {
     "data": {
      "text/plain": [
       "{'has_part',\n",
       " 'is_a',\n",
       " 'negatively_regulates',\n",
       " 'part_of',\n",
       " 'positively_regulates',\n",
       " 'regulates'}"
      ]
     },
     "execution_count": 41,
     "metadata": {},
     "output_type": "execute_result"
    }
   ],
   "source": [
    "{edge[2] for edge in graph_go_mf.edges(data=True, keys=True)}"
   ]
  },
  {
   "cell_type": "code",
   "execution_count": 47,
   "metadata": {},
   "outputs": [
    {
     "data": {
      "text/plain": [
       "13736"
      ]
     },
     "execution_count": 47,
     "metadata": {},
     "output_type": "execute_result"
    }
   ],
   "source": [
    "# edge subgraph only contains nodes that are attached to the specified edges, so that should be fine.\n",
    "graph_go_mf_isa = graph_go_mf.edge_subgraph({edge for edge in graph_go_mf.edges(keys=True) if edge[2] == \"is_a\"})"
   ]
  },
  {
   "attachments": {},
   "cell_type": "markdown",
   "metadata": {},
   "source": [
    "The subgraph should be acyclic, is it?"
   ]
  },
  {
   "cell_type": "code",
   "execution_count": 49,
   "metadata": {},
   "outputs": [
    {
     "data": {
      "text/plain": [
       "True"
      ]
     },
     "execution_count": 49,
     "metadata": {},
     "output_type": "execute_result"
    }
   ],
   "source": [
    "nx.is_directed_acyclic_graph(graph_go_mf_isa)"
   ]
  },
  {
   "attachments": {},
   "cell_type": "markdown",
   "metadata": {},
   "source": []
  },
  {
   "cell_type": "code",
   "execution_count": 45,
   "metadata": {},
   "outputs": [
    {
     "data": {
      "text/plain": [
       "13985"
      ]
     },
     "execution_count": 45,
     "metadata": {},
     "output_type": "execute_result"
    }
   ],
   "source": []
  },
  {
   "attachments": {},
   "cell_type": "markdown",
   "metadata": {},
   "source": [
    "## Add abstract GO terms to annotation data"
   ]
  },
  {
   "cell_type": "code",
   "execution_count": 50,
   "metadata": {},
   "outputs": [],
   "source": [
    "# TODO filter network for e coli proteins"
   ]
  },
  {
   "attachments": {},
   "cell_type": "markdown",
   "metadata": {},
   "source": [
    "## Annotate GO network with number of organism annotations"
   ]
  },
  {
   "cell_type": "code",
   "execution_count": null,
   "metadata": {},
   "outputs": [],
   "source": []
  },
  {
   "attachments": {},
   "cell_type": "markdown",
   "metadata": {},
   "source": [
    "## Link from GO to ChEBI"
   ]
  },
  {
   "cell_type": "code",
   "execution_count": null,
   "metadata": {},
   "outputs": [],
   "source": []
  },
  {
   "attachments": {},
   "cell_type": "markdown",
   "metadata": {},
   "source": [
    "ChEBI NetworkX"
   ]
  },
  {
   "cell_type": "code",
   "execution_count": null,
   "metadata": {},
   "outputs": [],
   "source": []
  }
 ],
 "metadata": {
  "kernelspec": {
   "display_name": "subpred4",
   "language": "python",
   "name": "python3"
  },
  "language_info": {
   "codemirror_mode": {
    "name": "ipython",
    "version": 3
   },
   "file_extension": ".py",
   "mimetype": "text/x-python",
   "name": "python",
   "nbconvert_exporter": "python",
   "pygments_lexer": "ipython3",
   "version": "3.10.8"
  },
  "orig_nbformat": 4
 },
 "nbformat": 4,
 "nbformat_minor": 2
}
