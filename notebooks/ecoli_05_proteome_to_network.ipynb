{
 "cells": [
  {
   "attachments": {},
   "cell_type": "markdown",
   "metadata": {},
   "source": [
    "Steps:\n",
    "\n",
    "- Filter protein dataset\n",
    "    - Organisms\n",
    "- Annotate with GO terms\n",
    "- Create subgraph of GO\n",
    "    - transmembrane transporter activity\n",
    "    - only go terms that occur in protein dataset\n",
    "- Annotate GO network with ChEBI terms\n",
    "- Chebi Network: Sub-Network of molecules that occur in organism\n",
    "    - Node size: Number of proteins\n",
    "    - Edges: Overlap in terms of proteins"
   ]
  },
  {
   "cell_type": "code",
   "execution_count": null,
   "metadata": {},
   "outputs": [],
   "source": []
  }
 ],
 "metadata": {
  "language_info": {
   "name": "python"
  },
  "orig_nbformat": 4
 },
 "nbformat": 4,
 "nbformat_minor": 2
}
