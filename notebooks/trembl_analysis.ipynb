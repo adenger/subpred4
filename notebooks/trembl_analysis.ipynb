{
 "cells": [
  {
   "cell_type": "code",
   "execution_count": null,
   "metadata": {},
   "outputs": [],
   "source": [
    "# Downloaded from Uniprot FTP server and unzipped\n",
    "\n",
    "trembl_file_path = \"~/uniprot_2022_04/uniprot_trembl.fasta\"\n",
    "id_selected_file_path = \"~/uniprot_2022_04/idmapping_selected.tab\""
   ]
  },
  {
   "cell_type": "code",
   "execution_count": null,
   "metadata": {},
   "outputs": [],
   "source": [
    "with open(trembl_file_path) as trembl_file:\n",
    "    for line in trembl_file:\n",
    "        print(line)\n",
    "        break"
   ]
  }
 ],
 "metadata": {
  "language_info": {
   "name": "python"
  },
  "orig_nbformat": 4
 },
 "nbformat": 4,
 "nbformat_minor": 2
}
