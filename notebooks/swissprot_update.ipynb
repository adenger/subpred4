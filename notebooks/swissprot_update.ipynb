{
 "cells": [
  {
   "cell_type": "markdown",
   "metadata": {},
   "source": [
    "# Uniprot dataset update analysis\n",
    "\n",
    "### Task: Compare dataset from manuscript 1 to current version of Uniprot\n",
    "\n",
    "- Uniprot releases four updates per year\n",
    "    - Current version is 2022_4, manuscript 1 used 2021_04 \n",
    "- Are there changes to proteins/annotations in new Uniprot release?\n",
    "\n",
    "\n",
    "### Results:\n",
    "\n",
    "Dataset:\n",
    "- Swissprot 2022_04 \n",
    "- Protein evidence at transcript level or protein level\n",
    "- Transmembrane domain keyword\n",
    "- Substrate transport keywords\n",
    "- Clustering at 70% identity threshold\n",
    "- Only valid sequences\n",
    "\n",
    "Stats:\n",
    "- Transmembrane transporters (\"Transmembrane\" keyword + substrate transport keywords):\n",
    "    - Removed annotations\n",
    "        - 66 annotations in 46 proteins were deleted\n",
    "        - Only one of them might have been in the dataset in M1 (human sugar transporter that is actually ATP exchanger).\n",
    "    - Added annotations\n",
    "        - Before clustering: 282 proteins have 341 new substrate annotations\n",
    "        - After clustering: 142 proteins have 217 new substrate annotations\n",
    "        - Most were added in human, mouse and rat\n",
    "        - Most commonly added substrates: Lipid, Ion, Sodium, Amino-acid\n",
    "- Cellular component keywords (before filtering and clustering, top 4):\n",
    "    - Added annotations\n",
    "        - Membrane: 974\n",
    "        - Nucleus: 721\n",
    "        - Cell membrane: 630\n",
    "        - Transmembrane: 586\n",
    "        - Total: 3659\n",
    "    - Deleted annotations\n",
    "        - 184 deleted annotations\n",
    "        - 56 of them \"Transmembrane\"\n",
    "\n",
    "### Conclusion\n",
    "\n",
    "Using the most recent version of Uniprot adds additional annotations that could be useful for training our models, since more samples are available. The deleted annotations show that some errors in the previous version have been corrected, among them a wrongly-classified human sugar transporter that we removed from our dataset as an outlier in Manuscript 1.  "
   ]
  },
  {
   "cell_type": "markdown",
   "metadata": {},
   "source": [
    "## Imports"
   ]
  },
  {
   "cell_type": "code",
   "execution_count": 1,
   "metadata": {},
   "outputs": [],
   "source": [
    "from subpred.dataset import (\n",
    "    create_dataset,\n",
    "    SUBSTRATE_KEYWORDS,\n",
    "    get_keywords_df,\n",
    "    KEYWORDS_LOCATION,\n",
    ")\n"
   ]
  },
  {
   "cell_type": "markdown",
   "metadata": {},
   "source": [
    "Dataset used in manuscript 1:"
   ]
  },
  {
   "cell_type": "code",
   "execution_count": 2,
   "metadata": {},
   "outputs": [
    {
     "name": "stdout",
     "output_type": "stream",
     "text": [
      "Found pickle, reading...\n"
     ]
    },
    {
     "data": {
      "text/plain": [
       "(141892, 16)"
      ]
     },
     "execution_count": 2,
     "metadata": {},
     "output_type": "execute_result"
    }
   ],
   "source": [
    "df_swissprot_manuscript1 = create_dataset(\n",
    "    # keywords_substrate_filter=[\"Amino-acid transport\", \"Sugar transport\"],\n",
    "    # keywords_component_filter=[\"Transmembrane\"],\n",
    "    # keywords_transport_filter=[\"Transport\"],\n",
    "    input_file=\"../data/raw/uniprot/swissprot_data_2021_04_manuscript1.tsv.gz\",\n",
    "    multi_substrate=\"keep\",\n",
    "    verbose=True,\n",
    "    # tax_ids_filter=[3702, 9606, 83333, 559292],\n",
    "    # outliers=outliers,\n",
    "    # sequence_clustering=70,\n",
    "    evidence_code=2,\n",
    "    invalid_amino_acids=\"remove_protein\",\n",
    "    # force_update=True,\n",
    "    tcdb_substrates_file=\"../data/raw/tcdb/tcdb_substrates.tsv\",\n",
    ")\n",
    "df_swissprot_manuscript1.shape\n"
   ]
  },
  {
   "cell_type": "markdown",
   "metadata": {},
   "source": [
    "Swissprot 2022_04:"
   ]
  },
  {
   "cell_type": "code",
   "execution_count": 3,
   "metadata": {},
   "outputs": [
    {
     "name": "stdout",
     "output_type": "stream",
     "text": [
      "Found pickle, reading...\n"
     ]
    },
    {
     "data": {
      "text/plain": [
       "(144929, 16)"
      ]
     },
     "execution_count": 3,
     "metadata": {},
     "output_type": "execute_result"
    }
   ],
   "source": [
    "df_swissprot_new = create_dataset(\n",
    "    # keywords_substrate_filter=[\"Amino-acid transport\", \"Sugar transport\"],\n",
    "    # keywords_component_filter=[\"Transmembrane\"],\n",
    "    # keywords_transport_filter=[\"Transport\"],\n",
    "    input_file=\"../data/raw/uniprot/swissprot_data_2022_04.tsv.gz\",\n",
    "    multi_substrate=\"keep\",\n",
    "    verbose=True,\n",
    "    # tax_ids_filter=[3702, 9606, 83333, 559292],\n",
    "    # outliers=outliers,\n",
    "    # sequence_clustering=70,\n",
    "    evidence_code=2,\n",
    "    invalid_amino_acids=\"remove_protein\",\n",
    "    # force_update=True,\n",
    "    tcdb_substrates_file=\"../data/raw/tcdb/tcdb_substrates.tsv\",\n",
    ")\n",
    "df_swissprot_new.shape\n"
   ]
  },
  {
   "cell_type": "markdown",
   "metadata": {},
   "source": [
    "## New entries in general:"
   ]
  },
  {
   "cell_type": "code",
   "execution_count": 4,
   "metadata": {},
   "outputs": [
    {
     "data": {
      "text/plain": [
       "3037"
      ]
     },
     "execution_count": 4,
     "metadata": {},
     "output_type": "execute_result"
    }
   ],
   "source": [
    "df_swissprot_new.shape[0] - df_swissprot_manuscript1.shape[0]\n"
   ]
  },
  {
   "cell_type": "markdown",
   "metadata": {},
   "source": [
    "## New keyword annotations:"
   ]
  },
  {
   "cell_type": "code",
   "execution_count": 5,
   "metadata": {},
   "outputs": [
    {
     "data": {
      "text/html": [
       "<div>\n",
       "<style scoped>\n",
       "    .dataframe tbody tr th:only-of-type {\n",
       "        vertical-align: middle;\n",
       "    }\n",
       "\n",
       "    .dataframe tbody tr th {\n",
       "        vertical-align: top;\n",
       "    }\n",
       "\n",
       "    .dataframe thead th {\n",
       "        text-align: right;\n",
       "    }\n",
       "</style>\n",
       "<table border=\"1\" class=\"dataframe\">\n",
       "  <thead>\n",
       "    <tr style=\"text-align: right;\">\n",
       "      <th></th>\n",
       "      <th>Uniprot</th>\n",
       "      <th>keyword</th>\n",
       "    </tr>\n",
       "  </thead>\n",
       "  <tbody>\n",
       "    <tr>\n",
       "      <th>0</th>\n",
       "      <td>Q5SW45</td>\n",
       "      <td>Cell projection</td>\n",
       "    </tr>\n",
       "    <tr>\n",
       "      <th>1</th>\n",
       "      <td>Q5SW45</td>\n",
       "      <td>Cilium</td>\n",
       "    </tr>\n",
       "    <tr>\n",
       "      <th>2</th>\n",
       "      <td>Q5SW45</td>\n",
       "      <td>Cilium biogenesis/degradation</td>\n",
       "    </tr>\n",
       "    <tr>\n",
       "      <th>3</th>\n",
       "      <td>Q5SW45</td>\n",
       "      <td>Cytoplasm</td>\n",
       "    </tr>\n",
       "    <tr>\n",
       "      <th>4</th>\n",
       "      <td>Q5SW45</td>\n",
       "      <td>Cytoskeleton</td>\n",
       "    </tr>\n",
       "    <tr>\n",
       "      <th>...</th>\n",
       "      <td>...</td>\n",
       "      <td>...</td>\n",
       "    </tr>\n",
       "    <tr>\n",
       "      <th>1173568</th>\n",
       "      <td>P50402</td>\n",
       "      <td>Nucleus</td>\n",
       "    </tr>\n",
       "    <tr>\n",
       "      <th>1173569</th>\n",
       "      <td>P50402</td>\n",
       "      <td>Phosphoprotein</td>\n",
       "    </tr>\n",
       "    <tr>\n",
       "      <th>1173570</th>\n",
       "      <td>P50402</td>\n",
       "      <td>Reference proteome</td>\n",
       "    </tr>\n",
       "    <tr>\n",
       "      <th>1173571</th>\n",
       "      <td>P50402</td>\n",
       "      <td>Transmembrane</td>\n",
       "    </tr>\n",
       "    <tr>\n",
       "      <th>1173572</th>\n",
       "      <td>P50402</td>\n",
       "      <td>Transmembrane helix</td>\n",
       "    </tr>\n",
       "  </tbody>\n",
       "</table>\n",
       "<p>1173573 rows × 2 columns</p>\n",
       "</div>"
      ],
      "text/plain": [
       "        Uniprot                        keyword\n",
       "0        Q5SW45                Cell projection\n",
       "1        Q5SW45                         Cilium\n",
       "2        Q5SW45  Cilium biogenesis/degradation\n",
       "3        Q5SW45                      Cytoplasm\n",
       "4        Q5SW45                   Cytoskeleton\n",
       "...         ...                            ...\n",
       "1173568  P50402                        Nucleus\n",
       "1173569  P50402                 Phosphoprotein\n",
       "1173570  P50402             Reference proteome\n",
       "1173571  P50402                  Transmembrane\n",
       "1173572  P50402            Transmembrane helix\n",
       "\n",
       "[1173573 rows x 2 columns]"
      ]
     },
     "execution_count": 5,
     "metadata": {},
     "output_type": "execute_result"
    }
   ],
   "source": [
    "df_keywords_m1 = get_keywords_df(df_swissprot_manuscript1)\n",
    "df_keywords_m1\n"
   ]
  },
  {
   "cell_type": "code",
   "execution_count": 6,
   "metadata": {},
   "outputs": [
    {
     "data": {
      "text/html": [
       "<div>\n",
       "<style scoped>\n",
       "    .dataframe tbody tr th:only-of-type {\n",
       "        vertical-align: middle;\n",
       "    }\n",
       "\n",
       "    .dataframe tbody tr th {\n",
       "        vertical-align: top;\n",
       "    }\n",
       "\n",
       "    .dataframe thead th {\n",
       "        text-align: right;\n",
       "    }\n",
       "</style>\n",
       "<table border=\"1\" class=\"dataframe\">\n",
       "  <thead>\n",
       "    <tr style=\"text-align: right;\">\n",
       "      <th></th>\n",
       "      <th>Uniprot</th>\n",
       "      <th>keyword</th>\n",
       "    </tr>\n",
       "  </thead>\n",
       "  <tbody>\n",
       "    <tr>\n",
       "      <th>0</th>\n",
       "      <td>A0A024SC78</td>\n",
       "      <td>3D-structure</td>\n",
       "    </tr>\n",
       "    <tr>\n",
       "      <th>1</th>\n",
       "      <td>A0A024SC78</td>\n",
       "      <td>Disulfide bond</td>\n",
       "    </tr>\n",
       "    <tr>\n",
       "      <th>2</th>\n",
       "      <td>A0A024SC78</td>\n",
       "      <td>Hydrolase</td>\n",
       "    </tr>\n",
       "    <tr>\n",
       "      <th>3</th>\n",
       "      <td>A0A024SC78</td>\n",
       "      <td>Secreted</td>\n",
       "    </tr>\n",
       "    <tr>\n",
       "      <th>4</th>\n",
       "      <td>A0A024SC78</td>\n",
       "      <td>Serine esterase</td>\n",
       "    </tr>\n",
       "    <tr>\n",
       "      <th>...</th>\n",
       "      <td>...</td>\n",
       "      <td>...</td>\n",
       "    </tr>\n",
       "    <tr>\n",
       "      <th>1205125</th>\n",
       "      <td>V5XVW4</td>\n",
       "      <td>Capsid protein</td>\n",
       "    </tr>\n",
       "    <tr>\n",
       "      <th>1205126</th>\n",
       "      <td>V5XVW4</td>\n",
       "      <td>Direct protein sequencing</td>\n",
       "    </tr>\n",
       "    <tr>\n",
       "      <th>1205127</th>\n",
       "      <td>V5XVW4</td>\n",
       "      <td>Virion</td>\n",
       "    </tr>\n",
       "    <tr>\n",
       "      <th>1205128</th>\n",
       "      <td>W5X2N3</td>\n",
       "      <td>nan</td>\n",
       "    </tr>\n",
       "    <tr>\n",
       "      <th>1205129</th>\n",
       "      <td>W6JQK2</td>\n",
       "      <td>Reference proteome</td>\n",
       "    </tr>\n",
       "  </tbody>\n",
       "</table>\n",
       "<p>1205130 rows × 2 columns</p>\n",
       "</div>"
      ],
      "text/plain": [
       "            Uniprot                    keyword\n",
       "0        A0A024SC78               3D-structure\n",
       "1        A0A024SC78             Disulfide bond\n",
       "2        A0A024SC78                  Hydrolase\n",
       "3        A0A024SC78                   Secreted\n",
       "4        A0A024SC78            Serine esterase\n",
       "...             ...                        ...\n",
       "1205125      V5XVW4             Capsid protein\n",
       "1205126      V5XVW4  Direct protein sequencing\n",
       "1205127      V5XVW4                     Virion\n",
       "1205128      W5X2N3                        nan\n",
       "1205129      W6JQK2         Reference proteome\n",
       "\n",
       "[1205130 rows x 2 columns]"
      ]
     },
     "execution_count": 6,
     "metadata": {},
     "output_type": "execute_result"
    }
   ],
   "source": [
    "df_keywords_m2 = get_keywords_df(df_swissprot_new)\n",
    "df_keywords_m2\n"
   ]
  },
  {
   "cell_type": "markdown",
   "metadata": {},
   "source": [
    "There are 31.557 new keyword annoataions on total:"
   ]
  },
  {
   "cell_type": "code",
   "execution_count": 7,
   "metadata": {},
   "outputs": [
    {
     "data": {
      "text/plain": [
       "31557"
      ]
     },
     "execution_count": 7,
     "metadata": {},
     "output_type": "execute_result"
    }
   ],
   "source": [
    "df_keywords_m2.shape[0] - df_keywords_m1.shape[0]\n"
   ]
  },
  {
   "cell_type": "markdown",
   "metadata": {},
   "source": [
    "## New substrate annotations\n",
    "\n",
    "No filtering for Transmembrane transporters beforehand, these are all substrate annotations."
   ]
  },
  {
   "cell_type": "code",
   "execution_count": 8,
   "metadata": {},
   "outputs": [
    {
     "name": "stdout",
     "output_type": "stream",
     "text": [
      "{'Protein transport', 'Sulfate transport', 'Translocation', 'Neurotransmitter transport', 'Phosphate transport', 'Ammonia transport', 'Phosphonate transport', 'Viral movement protein', 'Copper transport', 'Calcium transport', 'Cobalt transport', 'Chloride', 'Sugar transport', 'Nickel transport', 'Bacteriocin transport', 'Hydrogen ion transport', 'Lipid transport', 'Peptide transport', 'Amino-acid transport', 'Zinc transport', 'Electron transport', 'Anion exchange', 'mRNA transport', 'Ion transport', 'Polysaccharide transport', 'Iron transport', 'Sodium transport', 'Potassium transport', 'Oxygen transport', 'Bacterial flagellum protein export', 'Sodium/potassium transport'}\n"
     ]
    }
   ],
   "source": [
    "print(SUBSTRATE_KEYWORDS)\n"
   ]
  },
  {
   "cell_type": "code",
   "execution_count": 9,
   "metadata": {},
   "outputs": [],
   "source": [
    "df_substrates_m1 = df_keywords_m1[df_keywords_m1.keyword.isin(SUBSTRATE_KEYWORDS)]\n"
   ]
  },
  {
   "cell_type": "code",
   "execution_count": 10,
   "metadata": {},
   "outputs": [],
   "source": [
    "df_substrates_m2 = df_keywords_m2[df_keywords_m2.keyword.isin(SUBSTRATE_KEYWORDS)]\n"
   ]
  },
  {
   "cell_type": "markdown",
   "metadata": {},
   "source": [
    "There are 445 more substrate annotations in all of swissprot:"
   ]
  },
  {
   "cell_type": "code",
   "execution_count": 11,
   "metadata": {},
   "outputs": [
    {
     "data": {
      "text/plain": [
       "445"
      ]
     },
     "execution_count": 11,
     "metadata": {},
     "output_type": "execute_result"
    }
   ],
   "source": [
    "df_substrates_m2.shape[0] - df_substrates_m1.shape[0]\n"
   ]
  },
  {
   "cell_type": "markdown",
   "metadata": {},
   "source": [
    "#### Merging dataframes to see differences:"
   ]
  },
  {
   "cell_type": "code",
   "execution_count": 12,
   "metadata": {},
   "outputs": [
    {
     "data": {
      "text/html": [
       "<div>\n",
       "<style scoped>\n",
       "    .dataframe tbody tr th:only-of-type {\n",
       "        vertical-align: middle;\n",
       "    }\n",
       "\n",
       "    .dataframe tbody tr th {\n",
       "        vertical-align: top;\n",
       "    }\n",
       "\n",
       "    .dataframe thead th {\n",
       "        text-align: right;\n",
       "    }\n",
       "</style>\n",
       "<table border=\"1\" class=\"dataframe\">\n",
       "  <thead>\n",
       "    <tr style=\"text-align: right;\">\n",
       "      <th></th>\n",
       "      <th>Uniprot</th>\n",
       "      <th>keyword</th>\n",
       "      <th>_merge</th>\n",
       "    </tr>\n",
       "  </thead>\n",
       "  <tbody>\n",
       "    <tr>\n",
       "      <th>0</th>\n",
       "      <td>A0A061ACU2</td>\n",
       "      <td>Ion transport</td>\n",
       "      <td>both</td>\n",
       "    </tr>\n",
       "    <tr>\n",
       "      <th>1</th>\n",
       "      <td>A0A0B4K7J2</td>\n",
       "      <td>mRNA transport</td>\n",
       "      <td>both</td>\n",
       "    </tr>\n",
       "    <tr>\n",
       "      <th>2</th>\n",
       "      <td>A0A0B4K7J2</td>\n",
       "      <td>Protein transport</td>\n",
       "      <td>both</td>\n",
       "    </tr>\n",
       "    <tr>\n",
       "      <th>3</th>\n",
       "      <td>A0A0B4K7J2</td>\n",
       "      <td>Translocation</td>\n",
       "      <td>both</td>\n",
       "    </tr>\n",
       "    <tr>\n",
       "      <th>4</th>\n",
       "      <td>A0A0B7P9G0</td>\n",
       "      <td>Ion transport</td>\n",
       "      <td>both</td>\n",
       "    </tr>\n",
       "    <tr>\n",
       "      <th>...</th>\n",
       "      <td>...</td>\n",
       "      <td>...</td>\n",
       "      <td>...</td>\n",
       "    </tr>\n",
       "    <tr>\n",
       "      <th>19565</th>\n",
       "      <td>Q10045</td>\n",
       "      <td>Protein transport</td>\n",
       "      <td>right_only</td>\n",
       "    </tr>\n",
       "    <tr>\n",
       "      <th>19566</th>\n",
       "      <td>Q5U520</td>\n",
       "      <td>Protein transport</td>\n",
       "      <td>right_only</td>\n",
       "    </tr>\n",
       "    <tr>\n",
       "      <th>19567</th>\n",
       "      <td>Q7ZUU1</td>\n",
       "      <td>Protein transport</td>\n",
       "      <td>right_only</td>\n",
       "    </tr>\n",
       "    <tr>\n",
       "      <th>19568</th>\n",
       "      <td>Q53HI1</td>\n",
       "      <td>Protein transport</td>\n",
       "      <td>right_only</td>\n",
       "    </tr>\n",
       "    <tr>\n",
       "      <th>19569</th>\n",
       "      <td>A1Z713</td>\n",
       "      <td>Protein transport</td>\n",
       "      <td>right_only</td>\n",
       "    </tr>\n",
       "  </tbody>\n",
       "</table>\n",
       "<p>19570 rows × 3 columns</p>\n",
       "</div>"
      ],
      "text/plain": [
       "          Uniprot            keyword      _merge\n",
       "0      A0A061ACU2      Ion transport        both\n",
       "1      A0A0B4K7J2     mRNA transport        both\n",
       "2      A0A0B4K7J2  Protein transport        both\n",
       "3      A0A0B4K7J2      Translocation        both\n",
       "4      A0A0B7P9G0      Ion transport        both\n",
       "...           ...                ...         ...\n",
       "19565      Q10045  Protein transport  right_only\n",
       "19566      Q5U520  Protein transport  right_only\n",
       "19567      Q7ZUU1  Protein transport  right_only\n",
       "19568      Q53HI1  Protein transport  right_only\n",
       "19569      A1Z713  Protein transport  right_only\n",
       "\n",
       "[19570 rows x 3 columns]"
      ]
     },
     "execution_count": 12,
     "metadata": {},
     "output_type": "execute_result"
    }
   ],
   "source": [
    "df_substrates_merged = df_substrates_m2.merge(\n",
    "    df_substrates_m1, indicator=True, how=\"outer\"\n",
    ")\n",
    "df_substrates_merged\n"
   ]
  },
  {
   "cell_type": "markdown",
   "metadata": {},
   "source": [
    "### Deleted annotations:\n",
    "\n",
    "66 keyword annotations were deleted in the new version, most of them related to protein transport:"
   ]
  },
  {
   "cell_type": "code",
   "execution_count": 13,
   "metadata": {},
   "outputs": [
    {
     "data": {
      "text/plain": [
       "Protein transport     37\n",
       "Translocation         10\n",
       "mRNA transport        10\n",
       "Sugar transport        4\n",
       "Lipid transport        3\n",
       "Chloride               1\n",
       "Electron transport     1\n",
       "Name: keyword, dtype: int64"
      ]
     },
     "metadata": {},
     "output_type": "display_data"
    },
    {
     "name": "stdout",
     "output_type": "stream",
     "text": [
      "46\n"
     ]
    }
   ],
   "source": [
    "display(\n",
    "    df_substrates_merged[\n",
    "        df_substrates_merged._merge == \"right_only\"\n",
    "    ].keyword.value_counts()\n",
    ")\n",
    "# display(df_substrates_merged[df_substrates_merged._merge == \"right_only\"])\n",
    "print(\n",
    "    df_substrates_merged[df_substrates_merged._merge == \"right_only\"]\n",
    "    .Uniprot.unique()\n",
    "    .size\n",
    ")\n"
   ]
  },
  {
   "cell_type": "markdown",
   "metadata": {},
   "source": [
    "#### What are the four deleted sugar transporters?\n",
    "\n",
    "It looks like they all belong to the same protein family, that is related to UDP-Galactose, but now we know that they are ATP/ADP Antiporters."
   ]
  },
  {
   "cell_type": "code",
   "execution_count": 14,
   "metadata": {},
   "outputs": [
    {
     "name": "stdout",
     "output_type": "stream",
     "text": [
      "manuscript 1:\n"
     ]
    },
    {
     "data": {
      "text/html": [
       "<div>\n",
       "<style scoped>\n",
       "    .dataframe tbody tr th:only-of-type {\n",
       "        vertical-align: middle;\n",
       "    }\n",
       "\n",
       "    .dataframe tbody tr th {\n",
       "        vertical-align: top;\n",
       "    }\n",
       "\n",
       "    .dataframe thead th {\n",
       "        text-align: right;\n",
       "    }\n",
       "</style>\n",
       "<table border=\"1\" class=\"dataframe\">\n",
       "  <thead>\n",
       "    <tr style=\"text-align: right;\">\n",
       "      <th></th>\n",
       "      <th>keyword</th>\n",
       "      <th>_merge</th>\n",
       "      <th>protein_names</th>\n",
       "      <th>organism_id</th>\n",
       "    </tr>\n",
       "    <tr>\n",
       "      <th>Uniprot</th>\n",
       "      <th></th>\n",
       "      <th></th>\n",
       "      <th></th>\n",
       "      <th></th>\n",
       "    </tr>\n",
       "  </thead>\n",
       "  <tbody>\n",
       "    <tr>\n",
       "      <th>P78383</th>\n",
       "      <td>Sugar transport</td>\n",
       "      <td>right_only</td>\n",
       "      <td>Solute carrier family 35 member B1 (UDP-galactose transporter-related protein 1) (UGTrel1) (hUGTrel1)</td>\n",
       "      <td>9606</td>\n",
       "    </tr>\n",
       "    <tr>\n",
       "      <th>P97858</th>\n",
       "      <td>Sugar transport</td>\n",
       "      <td>right_only</td>\n",
       "      <td>Solute carrier family 35 member B1 (UDP-galactose translocator 2) (UDP-galactose transporter-related protein 1) (UGTrel1)</td>\n",
       "      <td>10090</td>\n",
       "    </tr>\n",
       "    <tr>\n",
       "      <th>Q8MII5</th>\n",
       "      <td>Sugar transport</td>\n",
       "      <td>right_only</td>\n",
       "      <td>Solute carrier family 35 member B1 (Endoplasmic reticulum nucleotide sugar transporter 1)</td>\n",
       "      <td>9913</td>\n",
       "    </tr>\n",
       "    <tr>\n",
       "      <th>Q6V7K3</th>\n",
       "      <td>Sugar transport</td>\n",
       "      <td>right_only</td>\n",
       "      <td>Solute carrier family 35 member B1 (UDP-galactose transporter-related protein 1) (UGTrel1)</td>\n",
       "      <td>10116</td>\n",
       "    </tr>\n",
       "  </tbody>\n",
       "</table>\n",
       "</div>"
      ],
      "text/plain": [
       "                 keyword      _merge  \\\n",
       "Uniprot                                \n",
       "P78383   Sugar transport  right_only   \n",
       "P97858   Sugar transport  right_only   \n",
       "Q8MII5   Sugar transport  right_only   \n",
       "Q6V7K3   Sugar transport  right_only   \n",
       "\n",
       "                                                                                                                     protein_names  \\\n",
       "Uniprot                                                                                                                              \n",
       "P78383                       Solute carrier family 35 member B1 (UDP-galactose transporter-related protein 1) (UGTrel1) (hUGTrel1)   \n",
       "P97858   Solute carrier family 35 member B1 (UDP-galactose translocator 2) (UDP-galactose transporter-related protein 1) (UGTrel1)   \n",
       "Q8MII5                                   Solute carrier family 35 member B1 (Endoplasmic reticulum nucleotide sugar transporter 1)   \n",
       "Q6V7K3                                  Solute carrier family 35 member B1 (UDP-galactose transporter-related protein 1) (UGTrel1)   \n",
       "\n",
       "         organism_id  \n",
       "Uniprot               \n",
       "P78383          9606  \n",
       "P97858         10090  \n",
       "Q8MII5          9913  \n",
       "Q6V7K3         10116  "
      ]
     },
     "metadata": {},
     "output_type": "display_data"
    },
    {
     "name": "stdout",
     "output_type": "stream",
     "text": [
      "manuscript 2:\n"
     ]
    },
    {
     "data": {
      "text/html": [
       "<div>\n",
       "<style scoped>\n",
       "    .dataframe tbody tr th:only-of-type {\n",
       "        vertical-align: middle;\n",
       "    }\n",
       "\n",
       "    .dataframe tbody tr th {\n",
       "        vertical-align: top;\n",
       "    }\n",
       "\n",
       "    .dataframe thead th {\n",
       "        text-align: right;\n",
       "    }\n",
       "</style>\n",
       "<table border=\"1\" class=\"dataframe\">\n",
       "  <thead>\n",
       "    <tr style=\"text-align: right;\">\n",
       "      <th></th>\n",
       "      <th>keyword</th>\n",
       "      <th>_merge</th>\n",
       "      <th>protein_names</th>\n",
       "      <th>organism_id</th>\n",
       "    </tr>\n",
       "    <tr>\n",
       "      <th>Uniprot</th>\n",
       "      <th></th>\n",
       "      <th></th>\n",
       "      <th></th>\n",
       "      <th></th>\n",
       "    </tr>\n",
       "  </thead>\n",
       "  <tbody>\n",
       "    <tr>\n",
       "      <th>P78383</th>\n",
       "      <td>Sugar transport</td>\n",
       "      <td>right_only</td>\n",
       "      <td>Solute carrier family 35 member B1 (ATP/ADP exchanger ER) (AXER) (Endoplasmic reticulum ATP/ADP translocase) (UDP-galactose transporter-related protein 1) (UGTrel1)</td>\n",
       "      <td>9606</td>\n",
       "    </tr>\n",
       "    <tr>\n",
       "      <th>P97858</th>\n",
       "      <td>Sugar transport</td>\n",
       "      <td>right_only</td>\n",
       "      <td>Solute carrier family 35 member B1 (ATP/ADP exchanger ER) (AXER) (Endoplasmic reticulum ATP/ADP translocase) (UDP-galactose transporter-related protein 1) (UGTrel1)</td>\n",
       "      <td>10090</td>\n",
       "    </tr>\n",
       "    <tr>\n",
       "      <th>Q8MII5</th>\n",
       "      <td>Sugar transport</td>\n",
       "      <td>right_only</td>\n",
       "      <td>Solute carrier family 35 member B1 (ATP/ADP exchanger ER) (AXER) (Endoplasmic reticulum ATP/ADP translocase) (UDP-galactose transporter-related protein 1) (UGTrel1)</td>\n",
       "      <td>9913</td>\n",
       "    </tr>\n",
       "    <tr>\n",
       "      <th>Q6V7K3</th>\n",
       "      <td>Sugar transport</td>\n",
       "      <td>right_only</td>\n",
       "      <td>Solute carrier family 35 member B1 (ATP/ADP exchanger ER) (AXER) (Endoplasmic reticulum ATP/ADP translocase) (UDP-galactose transporter-related protein 1) (UGTrel1)</td>\n",
       "      <td>10116</td>\n",
       "    </tr>\n",
       "  </tbody>\n",
       "</table>\n",
       "</div>"
      ],
      "text/plain": [
       "                 keyword      _merge  \\\n",
       "Uniprot                                \n",
       "P78383   Sugar transport  right_only   \n",
       "P97858   Sugar transport  right_only   \n",
       "Q8MII5   Sugar transport  right_only   \n",
       "Q6V7K3   Sugar transport  right_only   \n",
       "\n",
       "                                                                                                                                                                protein_names  \\\n",
       "Uniprot                                                                                                                                                                         \n",
       "P78383   Solute carrier family 35 member B1 (ATP/ADP exchanger ER) (AXER) (Endoplasmic reticulum ATP/ADP translocase) (UDP-galactose transporter-related protein 1) (UGTrel1)   \n",
       "P97858   Solute carrier family 35 member B1 (ATP/ADP exchanger ER) (AXER) (Endoplasmic reticulum ATP/ADP translocase) (UDP-galactose transporter-related protein 1) (UGTrel1)   \n",
       "Q8MII5   Solute carrier family 35 member B1 (ATP/ADP exchanger ER) (AXER) (Endoplasmic reticulum ATP/ADP translocase) (UDP-galactose transporter-related protein 1) (UGTrel1)   \n",
       "Q6V7K3   Solute carrier family 35 member B1 (ATP/ADP exchanger ER) (AXER) (Endoplasmic reticulum ATP/ADP translocase) (UDP-galactose transporter-related protein 1) (UGTrel1)   \n",
       "\n",
       "         organism_id  \n",
       "Uniprot               \n",
       "P78383          9606  \n",
       "P97858         10090  \n",
       "Q8MII5          9913  \n",
       "Q6V7K3         10116  "
      ]
     },
     "execution_count": 14,
     "metadata": {},
     "output_type": "execute_result"
    }
   ],
   "source": [
    "import pandas as pd\n",
    "\n",
    "pd.set_option(\"max_colwidth\", 200)\n",
    "df_substrates_merged_deleted_sugar = df_substrates_merged[\n",
    "    (df_substrates_merged._merge == \"right_only\")\n",
    "    & (df_substrates_merged.keyword == \"Sugar transport\")\n",
    "]\n",
    "print(\"manuscript 1:\")\n",
    "display(\n",
    "    df_substrates_merged_deleted_sugar.set_index(\"Uniprot\", drop=True).join(\n",
    "        df_swissprot_manuscript1[[\"protein_names\", \"organism_id\"]], how=\"left\"\n",
    "    )\n",
    ")\n",
    "print(\"manuscript 2:\")\n",
    "df_substrates_merged_deleted_sugar.set_index(\"Uniprot\", drop=True).join(\n",
    "    df_swissprot_new[[\"protein_names\", \"organism_id\"]], how=\"left\"\n",
    ")\n"
   ]
  },
  {
   "cell_type": "markdown",
   "metadata": {},
   "source": [
    "They are all annotated with \"transmembrane\" and \"transport\", so they were in our dataset, at least the human protein. We did actually have troubles with some UDP-galactose transporters in the human dataset and removed some of them as outliers, so this could be why."
   ]
  },
  {
   "cell_type": "code",
   "execution_count": 15,
   "metadata": {},
   "outputs": [
    {
     "data": {
      "text/html": [
       "<div>\n",
       "<style scoped>\n",
       "    .dataframe tbody tr th:only-of-type {\n",
       "        vertical-align: middle;\n",
       "    }\n",
       "\n",
       "    .dataframe tbody tr th {\n",
       "        vertical-align: top;\n",
       "    }\n",
       "\n",
       "    .dataframe thead th {\n",
       "        text-align: right;\n",
       "    }\n",
       "</style>\n",
       "<table border=\"1\" class=\"dataframe\">\n",
       "  <thead>\n",
       "    <tr style=\"text-align: right;\">\n",
       "      <th></th>\n",
       "      <th>Uniprot</th>\n",
       "      <th>keyword</th>\n",
       "    </tr>\n",
       "  </thead>\n",
       "  <tbody>\n",
       "    <tr>\n",
       "      <th>163478</th>\n",
       "      <td>P78383</td>\n",
       "      <td>Transmembrane</td>\n",
       "    </tr>\n",
       "    <tr>\n",
       "      <th>163480</th>\n",
       "      <td>P78383</td>\n",
       "      <td>Transport</td>\n",
       "    </tr>\n",
       "    <tr>\n",
       "      <th>163512</th>\n",
       "      <td>P97858</td>\n",
       "      <td>Transmembrane</td>\n",
       "    </tr>\n",
       "    <tr>\n",
       "      <th>163514</th>\n",
       "      <td>P97858</td>\n",
       "      <td>Transport</td>\n",
       "    </tr>\n",
       "    <tr>\n",
       "      <th>178693</th>\n",
       "      <td>Q8MII5</td>\n",
       "      <td>Transmembrane</td>\n",
       "    </tr>\n",
       "    <tr>\n",
       "      <th>178695</th>\n",
       "      <td>Q8MII5</td>\n",
       "      <td>Transport</td>\n",
       "    </tr>\n",
       "    <tr>\n",
       "      <th>398963</th>\n",
       "      <td>Q6V7K3</td>\n",
       "      <td>Transmembrane</td>\n",
       "    </tr>\n",
       "    <tr>\n",
       "      <th>398965</th>\n",
       "      <td>Q6V7K3</td>\n",
       "      <td>Transport</td>\n",
       "    </tr>\n",
       "  </tbody>\n",
       "</table>\n",
       "</div>"
      ],
      "text/plain": [
       "       Uniprot        keyword\n",
       "163478  P78383  Transmembrane\n",
       "163480  P78383      Transport\n",
       "163512  P97858  Transmembrane\n",
       "163514  P97858      Transport\n",
       "178693  Q8MII5  Transmembrane\n",
       "178695  Q8MII5      Transport\n",
       "398963  Q6V7K3  Transmembrane\n",
       "398965  Q6V7K3      Transport"
      ]
     },
     "execution_count": 15,
     "metadata": {},
     "output_type": "execute_result"
    }
   ],
   "source": [
    "tmp = df_keywords_m1[\n",
    "    df_keywords_m1.Uniprot.isin(df_substrates_merged_deleted_sugar.Uniprot)\n",
    "]\n",
    "tmp[tmp.keyword.isin([\"Transport\", \"Transmembrane\"])]\n"
   ]
  },
  {
   "cell_type": "markdown",
   "metadata": {},
   "source": [
    "### Added annotations\n",
    "\n",
    "Substrate annotations that were added in the last year:\n",
    "\n",
    "- There are many new lipid transporter annotations, as well as ion and protein."
   ]
  },
  {
   "cell_type": "code",
   "execution_count": 16,
   "metadata": {},
   "outputs": [
    {
     "name": "stdout",
     "output_type": "stream",
     "text": [
      "511\n"
     ]
    },
    {
     "data": {
      "text/plain": [
       "Lipid transport           213\n",
       "Ion transport              68\n",
       "Protein transport          45\n",
       "Electron transport         33\n",
       "Hydrogen ion transport     23\n",
       "Amino-acid transport       19\n",
       "Sodium transport           18\n",
       "Chloride                   16\n",
       "Phosphate transport        16\n",
       "Potassium transport        16\n",
       "mRNA transport             11\n",
       "Sugar transport             9\n",
       "Iron transport              7\n",
       "Zinc transport              4\n",
       "Translocation               3\n",
       "Calcium transport           3\n",
       "Viral movement protein      2\n",
       "Peptide transport           2\n",
       "Anion exchange              2\n",
       "Cobalt transport            1\n",
       "Name: keyword, dtype: int64"
      ]
     },
     "execution_count": 16,
     "metadata": {},
     "output_type": "execute_result"
    }
   ],
   "source": [
    "df_substrates_new = df_substrates_merged[df_substrates_merged._merge == \"left_only\"]\n",
    "print(len(df_substrates_new))\n",
    "df_substrates_new.keyword.value_counts()\n"
   ]
  },
  {
   "cell_type": "markdown",
   "metadata": {},
   "source": [
    "#### How many of them are transmembrane transporters?\n",
    "\n",
    "We did not yet filter by transmembrane transport, and did not perform any clustering. How does this change the additional data?"
   ]
  },
  {
   "cell_type": "code",
   "execution_count": 17,
   "metadata": {},
   "outputs": [
    {
     "data": {
      "text/plain": [
       "Lipid transport           172\n",
       "Ion transport              44\n",
       "Phosphate transport        16\n",
       "Potassium transport        16\n",
       "Chloride                   15\n",
       "Protein transport          15\n",
       "Amino-acid transport       14\n",
       "Sodium transport           13\n",
       "Hydrogen ion transport     13\n",
       "Electron transport          7\n",
       "Sugar transport             5\n",
       "Zinc transport              4\n",
       "Anion exchange              2\n",
       "Calcium transport           2\n",
       "Cobalt transport            1\n",
       "Iron transport              1\n",
       "Translocation               1\n",
       "Name: keyword, dtype: int64"
      ]
     },
     "metadata": {},
     "output_type": "display_data"
    },
    {
     "name": "stdout",
     "output_type": "stream",
     "text": [
      "341\n",
      "282\n"
     ]
    }
   ],
   "source": [
    "keyword_matches = (\n",
    "    df_keywords_m2[df_keywords_m2.keyword.isin([\"Transport\", \"Transmembrane\"])]\n",
    "    .groupby(\"Uniprot\")\n",
    "    .apply(len)\n",
    ")\n",
    "transmembrane_transport = set(\n",
    "    keyword_matches[keyword_matches == len([\"Transport\", \"Transmembrane\"])]\n",
    "    .index.unique()\n",
    "    .values\n",
    ")\n",
    "df_substrates_new_transmembrane_transport = df_substrates_new[\n",
    "    df_substrates_new.Uniprot.isin(transmembrane_transport)\n",
    "]\n",
    "display(df_substrates_new_transmembrane_transport.keyword.value_counts())\n",
    "print(len(df_substrates_new_transmembrane_transport))\n",
    "print(len(df_substrates_new_transmembrane_transport.Uniprot.unique()))\n"
   ]
  },
  {
   "cell_type": "markdown",
   "metadata": {},
   "source": [
    "So, there are 341 new annotations for transmembrane transporters before clustering. How do they distribute among the organisms?\n",
    "\n",
    "- Most were added in human, followed by mouse and rat. This could make these organisms suitable for ion transporter training sets."
   ]
  },
  {
   "cell_type": "code",
   "execution_count": 18,
   "metadata": {},
   "outputs": [
    {
     "name": "stdout",
     "output_type": "stream",
     "text": [
      "Homo sapiens (Human)                                                                                           57\n",
      "Mus musculus (Mouse)                                                                                           56\n",
      "Rattus norvegicus (Rat)                                                                                        38\n",
      "Bos taurus (Bovine)                                                                                            19\n",
      "Caenorhabditis elegans                                                                                         19\n",
      "                                                                                                               ..\n",
      "Toxoplasma gondii                                                                                               1\n",
      "Plasmodium berghei (strain Anka)                                                                                1\n",
      "Escherichia coli O6:H1 (strain CFT073 / ATCC 700928 / UPEC)                                                     1\n",
      "Leucoraja erinacea (Little skate) (Raja erinacea)                                                               1\n",
      "Starkeya novella (strain ATCC 8093 / DSM 506 / JCM 20403 / CCM 1077 / IAM 12100 / NBRC 12443 / NCIMB 10456)     1\n",
      "Name: organism, Length: 61, dtype: int64\n"
     ]
    }
   ],
   "source": [
    "df_organisms_new = df_swissprot_new[[\"organism_id\", \"organism\"]].reset_index(drop=False)\n",
    "# df_substrates_new_transmembrane_transport.merge\n",
    "# df_swissprot_new\n",
    "df_substrates_new_transmembrane_transport = (\n",
    "    df_substrates_new_transmembrane_transport.merge(\n",
    "        df_organisms_new, how=\"left\", on=\"Uniprot\"\n",
    "    )\n",
    ")\n",
    "print(df_substrates_new_transmembrane_transport.organism.value_counts())\n"
   ]
  },
  {
   "cell_type": "markdown",
   "metadata": {},
   "source": [
    "#### Filtering out invalid proteins:\n",
    "\n",
    "How many proteins are in our filtered dataset, where only proteins with experimental evidence and valid sequences are allowed?\n",
    "\n",
    "- Now we have 282 proteins left. \n",
    "- This is also because proteins often have multiple substrate annotations."
   ]
  },
  {
   "cell_type": "code",
   "execution_count": 19,
   "metadata": {},
   "outputs": [
    {
     "data": {
      "text/html": [
       "<div>\n",
       "<style scoped>\n",
       "    .dataframe tbody tr th:only-of-type {\n",
       "        vertical-align: middle;\n",
       "    }\n",
       "\n",
       "    .dataframe tbody tr th {\n",
       "        vertical-align: top;\n",
       "    }\n",
       "\n",
       "    .dataframe thead th {\n",
       "        text-align: right;\n",
       "    }\n",
       "</style>\n",
       "<table border=\"1\" class=\"dataframe\">\n",
       "  <thead>\n",
       "    <tr style=\"text-align: right;\">\n",
       "      <th></th>\n",
       "      <th>Uniprot</th>\n",
       "      <th>sequence</th>\n",
       "    </tr>\n",
       "  </thead>\n",
       "  <tbody>\n",
       "    <tr>\n",
       "      <th>82</th>\n",
       "      <td>A0A0G2K1Q8</td>\n",
       "      <td>MVVLRQLRLLLWKNYTLKKRKVLVTVLELFLPLLFSGILIWLRLKIQSENVPNATVYPDQHIQELPLFFSFPPPGGSWELAYVPSHSDAARTITEAVRREFMIKMRVHGFSSEKDFEDYVRYDNHSSNVLAAVVFEHTFNHSKDPLPLAVRYHLRFSYTRRNYMWTQTGNLFLKETEGWHTASLFPLFPSPGPREP...</td>\n",
       "    </tr>\n",
       "    <tr>\n",
       "      <th>153</th>\n",
       "      <td>A0A0U1QT59</td>\n",
       "      <td>MQNDEEPAAAAGTSGLSNGESLRSPPAPAPRRPKPGILRLDIGKPRRSSGGSVDFRCVGSSSSNGNTSNVATGANSENNSGVTSPHQLSVTWAPPCDLDRGGWQMQSSADAKREFYKGQRGRRAASQEDHRSYELNDFPLQNQSSDAESCHQEPHFAHQRSPGIGFDEDGGGGDIDDEESYTISVSAIMQRRASVR...</td>\n",
       "    </tr>\n",
       "    <tr>\n",
       "      <th>341</th>\n",
       "      <td>A0JNM1</td>\n",
       "      <td>MNYSEKLTGAPPMTEVPLELLEEMLWFFRVEDATPWNCSMFVLAALVAIISFILLGRNIQANRNQKKLPPEKQTPEVLYLAEGGNKDDKNLTSLTETLLSEKPTLAQGEMEAKCSDVPRVHLPDPQEPES</td>\n",
       "    </tr>\n",
       "    <tr>\n",
       "      <th>610</th>\n",
       "      <td>A2AVZ9</td>\n",
       "      <td>MASKGLPLYLATLLTGLLECIGFAGVLFGWTSLLFVFKAENYFSEPCEQDCLLQSNVTGPSDLKAQDEKFSLIFTLASFMNNFMTFPTGYIFDRFKTTVARLIAIFFYTCATIIIAFTSANTAMLLFLAMPMLAVGGILFLITNLQIGNLFGKHRSTIITLYNGAFDSSSAVFLVIKLLYEQGISLRSSFIFMSVC...</td>\n",
       "    </tr>\n",
       "    <tr>\n",
       "      <th>749</th>\n",
       "      <td>A4FV52</td>\n",
       "      <td>MEFRQEEFRKLAGRALGKLHRLLEKRQEGAETLELSADGRPVTTQTRDPPVVDCTCFGLPRRYIIAIMSGLGFCISFGIRCNLGVAIVSMVNNSTTHRGGHVVMQKAQFNWDPETVGLIHGSFFWGYIVTQIPGGFICQKFAANRVFGFAIVATSTLNMLIPSAARVHYGCVIFVRILQGLVEGVTYPACHGIWSK...</td>\n",
       "    </tr>\n",
       "    <tr>\n",
       "      <th>...</th>\n",
       "      <td>...</td>\n",
       "      <td>...</td>\n",
       "    </tr>\n",
       "    <tr>\n",
       "      <th>121783</th>\n",
       "      <td>A3M137</td>\n",
       "      <td>MAAEEHALTSTEYIKHHLTNMTYGKMPDGTWKLAETAEEAHSMGFTAIHLDSMGWSIGLGVIFCLLFWIVARAANAGVPTKFQSAIEMIIEFVDSSVRDTFHGKSRLIAPLALTIFVWIFLMNLMDLIPVDWIPQVAAFVGANVFGMDPHHVYFKIVPSTDPNITLGMSLSVFVLILFYSIREKGVGGFVGELALN...</td>\n",
       "    </tr>\n",
       "    <tr>\n",
       "      <th>126412</th>\n",
       "      <td>P30144</td>\n",
       "      <td>MLGGAVWFPYVLLGVGLFFTIYLKFPQIRYFKHACQVVSGKFDKKDTEGDTTHFQALATALSGTVGTGNIGGVALAISIGGPAALFWMWMTAFFGMTTKFVEVTLSHKYREKTEDGTMSGGPMYYMDKRLNMKWLAILFAVATVISSFGTGSLPQINNIAQGMEATFGFAPMATGAVLSILLALVILGGIKRIAAI...</td>\n",
       "    </tr>\n",
       "    <tr>\n",
       "      <th>131439</th>\n",
       "      <td>Q3SWT5</td>\n",
       "      <td>MVVTQLSLEFRFQGKKLRGFSCELTRSPHGVLPESVLSTTCQVAIPILLSGLGMMTAGLVMNTVQHWPVFRDVKDLLTLVPPLVGLKGNLEMTLASRLSTSANTGQIDDRQERYRIISSNLAVVQVQATVVGLLAAVASLMLGTVSHEEFDWAKVALLCTSSVITAFLAALALGILMICIVIGARKFGVNPDNIAT...</td>\n",
       "    </tr>\n",
       "    <tr>\n",
       "      <th>132517</th>\n",
       "      <td>Q56036</td>\n",
       "      <td>MSALNKKSFLTWLKEGGIYVVLLVLLAIIIFQDPTFLSLLNLSNILTQSSVRIIIALGVAGLIVTQGTDLSAGRQVGLAAVVAATLLQSMENANKVFPEMATMPIALVILIVCAIGAVIGLVNGIIIAYLNVTPFITTLGTMIIVYGINSLYYDFVGASPISGFDSGFSTFAQGFVAMGSFRLSYITFYALIAVAF...</td>\n",
       "    </tr>\n",
       "    <tr>\n",
       "      <th>138860</th>\n",
       "      <td>Q8ZRZ3</td>\n",
       "      <td>MKHLHRFFSSDASGGIILIIAAALAMLMANMGATSGWYHDFLETPVQLRVGALEINKNMLLWINDALMAVFFLLIGLEVKRELMQGSLASLRQAAFPVIAAIGGMIVPALLYLAFNYSDPVTREGWAIPAATDIAFALGVLALLGSRVPLALKIFLMALAIIDDLGAIVIIALFYTSDLSIVSLGVAAFAIAVLAL...</td>\n",
       "    </tr>\n",
       "  </tbody>\n",
       "</table>\n",
       "<p>282 rows × 2 columns</p>\n",
       "</div>"
      ],
      "text/plain": [
       "           Uniprot  \\\n",
       "82      A0A0G2K1Q8   \n",
       "153     A0A0U1QT59   \n",
       "341         A0JNM1   \n",
       "610         A2AVZ9   \n",
       "749         A4FV52   \n",
       "...            ...   \n",
       "121783      A3M137   \n",
       "126412      P30144   \n",
       "131439      Q3SWT5   \n",
       "132517      Q56036   \n",
       "138860      Q8ZRZ3   \n",
       "\n",
       "                                                                                                                                                                                                       sequence  \n",
       "82      MVVLRQLRLLLWKNYTLKKRKVLVTVLELFLPLLFSGILIWLRLKIQSENVPNATVYPDQHIQELPLFFSFPPPGGSWELAYVPSHSDAARTITEAVRREFMIKMRVHGFSSEKDFEDYVRYDNHSSNVLAAVVFEHTFNHSKDPLPLAVRYHLRFSYTRRNYMWTQTGNLFLKETEGWHTASLFPLFPSPGPREP...  \n",
       "153     MQNDEEPAAAAGTSGLSNGESLRSPPAPAPRRPKPGILRLDIGKPRRSSGGSVDFRCVGSSSSNGNTSNVATGANSENNSGVTSPHQLSVTWAPPCDLDRGGWQMQSSADAKREFYKGQRGRRAASQEDHRSYELNDFPLQNQSSDAESCHQEPHFAHQRSPGIGFDEDGGGGDIDDEESYTISVSAIMQRRASVR...  \n",
       "341                                                                          MNYSEKLTGAPPMTEVPLELLEEMLWFFRVEDATPWNCSMFVLAALVAIISFILLGRNIQANRNQKKLPPEKQTPEVLYLAEGGNKDDKNLTSLTETLLSEKPTLAQGEMEAKCSDVPRVHLPDPQEPES  \n",
       "610     MASKGLPLYLATLLTGLLECIGFAGVLFGWTSLLFVFKAENYFSEPCEQDCLLQSNVTGPSDLKAQDEKFSLIFTLASFMNNFMTFPTGYIFDRFKTTVARLIAIFFYTCATIIIAFTSANTAMLLFLAMPMLAVGGILFLITNLQIGNLFGKHRSTIITLYNGAFDSSSAVFLVIKLLYEQGISLRSSFIFMSVC...  \n",
       "749     MEFRQEEFRKLAGRALGKLHRLLEKRQEGAETLELSADGRPVTTQTRDPPVVDCTCFGLPRRYIIAIMSGLGFCISFGIRCNLGVAIVSMVNNSTTHRGGHVVMQKAQFNWDPETVGLIHGSFFWGYIVTQIPGGFICQKFAANRVFGFAIVATSTLNMLIPSAARVHYGCVIFVRILQGLVEGVTYPACHGIWSK...  \n",
       "...                                                                                                                                                                                                         ...  \n",
       "121783  MAAEEHALTSTEYIKHHLTNMTYGKMPDGTWKLAETAEEAHSMGFTAIHLDSMGWSIGLGVIFCLLFWIVARAANAGVPTKFQSAIEMIIEFVDSSVRDTFHGKSRLIAPLALTIFVWIFLMNLMDLIPVDWIPQVAAFVGANVFGMDPHHVYFKIVPSTDPNITLGMSLSVFVLILFYSIREKGVGGFVGELALN...  \n",
       "126412  MLGGAVWFPYVLLGVGLFFTIYLKFPQIRYFKHACQVVSGKFDKKDTEGDTTHFQALATALSGTVGTGNIGGVALAISIGGPAALFWMWMTAFFGMTTKFVEVTLSHKYREKTEDGTMSGGPMYYMDKRLNMKWLAILFAVATVISSFGTGSLPQINNIAQGMEATFGFAPMATGAVLSILLALVILGGIKRIAAI...  \n",
       "131439  MVVTQLSLEFRFQGKKLRGFSCELTRSPHGVLPESVLSTTCQVAIPILLSGLGMMTAGLVMNTVQHWPVFRDVKDLLTLVPPLVGLKGNLEMTLASRLSTSANTGQIDDRQERYRIISSNLAVVQVQATVVGLLAAVASLMLGTVSHEEFDWAKVALLCTSSVITAFLAALALGILMICIVIGARKFGVNPDNIAT...  \n",
       "132517  MSALNKKSFLTWLKEGGIYVVLLVLLAIIIFQDPTFLSLLNLSNILTQSSVRIIIALGVAGLIVTQGTDLSAGRQVGLAAVVAATLLQSMENANKVFPEMATMPIALVILIVCAIGAVIGLVNGIIIAYLNVTPFITTLGTMIIVYGINSLYYDFVGASPISGFDSGFSTFAQGFVAMGSFRLSYITFYALIAVAF...  \n",
       "138860  MKHLHRFFSSDASGGIILIIAAALAMLMANMGATSGWYHDFLETPVQLRVGALEINKNMLLWINDALMAVFFLLIGLEVKRELMQGSLASLRQAAFPVIAAIGGMIVPALLYLAFNYSDPVTREGWAIPAATDIAFALGVLALLGSRVPLALKIFLMALAIIDDLGAIVIIALFYTSDLSIVSLGVAAFAIAVLAL...  \n",
       "\n",
       "[282 rows x 2 columns]"
      ]
     },
     "execution_count": 19,
     "metadata": {},
     "output_type": "execute_result"
    }
   ],
   "source": [
    "df_swissprot_new_sequence_only = df_swissprot_new[[\"sequence\"]].reset_index(drop=False)\n",
    "tmp = df_swissprot_new_sequence_only[\n",
    "    df_swissprot_new_sequence_only.Uniprot.isin(\n",
    "        df_substrates_new_transmembrane_transport.Uniprot\n",
    "    )\n",
    "]\n",
    "tmp\n"
   ]
  },
  {
   "cell_type": "markdown",
   "metadata": {},
   "source": [
    "#### How many are left after clustering?\n",
    "\n",
    "- After clustering, we have 142 transporters with new annotations"
   ]
  },
  {
   "cell_type": "code",
   "execution_count": 20,
   "metadata": {},
   "outputs": [
    {
     "name": "stdout",
     "output_type": "stream",
     "text": [
      "cd-hit: clustered 282 sequences into 142 clusters at threshold 70\n",
      "142\n"
     ]
    }
   ],
   "source": [
    "from subpred.cdhit import cd_hit\n",
    "\n",
    "valid_transporters_cluster_representatives = cd_hit(\n",
    "    tmp.set_index(\"Uniprot\").sequence, identity_threshold=70\n",
    ")\n",
    "print(len(valid_transporters_cluster_representatives))\n"
   ]
  },
  {
   "cell_type": "markdown",
   "metadata": {},
   "source": [
    "These 142 proteins have 217 substrate annotations:\n",
    "\n",
    "- Lipid is still the largest class in terms of gains, followed by Ion, Sodium and Amino-acid.\n"
   ]
  },
  {
   "cell_type": "code",
   "execution_count": 21,
   "metadata": {},
   "outputs": [
    {
     "data": {
      "text/plain": [
       "Lipid transport               64\n",
       "Ion transport                 57\n",
       "Sodium transport              24\n",
       "Amino-acid transport          14\n",
       "Hydrogen ion transport        11\n",
       "Potassium transport           11\n",
       "Protein transport             10\n",
       "Electron transport             6\n",
       "Zinc transport                 4\n",
       "Sugar transport                4\n",
       "Iron transport                 2\n",
       "Anion exchange                 2\n",
       "Phosphate transport            2\n",
       "Calcium transport              2\n",
       "Cobalt transport               1\n",
       "Chloride                       1\n",
       "Neurotransmitter transport     1\n",
       "Translocation                  1\n",
       "Name: keyword, dtype: int64"
      ]
     },
     "execution_count": 21,
     "metadata": {},
     "output_type": "execute_result"
    }
   ],
   "source": [
    "df_substrates_m2[\n",
    "    df_substrates_m2.Uniprot.isin(valid_transporters_cluster_representatives)\n",
    "]\n",
    "df_substrates_m2[\n",
    "    df_substrates_m2.Uniprot.isin(valid_transporters_cluster_representatives)\n",
    "].keyword.value_counts()\n"
   ]
  },
  {
   "cell_type": "markdown",
   "metadata": {},
   "source": [
    "We can't give any statistics on the organism distribution of these final proteins, since the cluster representative for a protein family is selected by cd-hit, based on deterministic criteria such as sequence length."
   ]
  },
  {
   "cell_type": "markdown",
   "metadata": {},
   "source": [
    "## Changes to cellular components"
   ]
  },
  {
   "cell_type": "code",
   "execution_count": 22,
   "metadata": {},
   "outputs": [
    {
     "data": {
      "text/html": [
       "<div>\n",
       "<style scoped>\n",
       "    .dataframe tbody tr th:only-of-type {\n",
       "        vertical-align: middle;\n",
       "    }\n",
       "\n",
       "    .dataframe tbody tr th {\n",
       "        vertical-align: top;\n",
       "    }\n",
       "\n",
       "    .dataframe thead th {\n",
       "        text-align: right;\n",
       "    }\n",
       "</style>\n",
       "<table border=\"1\" class=\"dataframe\">\n",
       "  <thead>\n",
       "    <tr style=\"text-align: right;\">\n",
       "      <th></th>\n",
       "      <th>Uniprot</th>\n",
       "      <th>keyword</th>\n",
       "      <th>_merge</th>\n",
       "    </tr>\n",
       "  </thead>\n",
       "  <tbody>\n",
       "    <tr>\n",
       "      <th>0</th>\n",
       "      <td>A0A026W182</td>\n",
       "      <td>Cell membrane</td>\n",
       "      <td>both</td>\n",
       "    </tr>\n",
       "    <tr>\n",
       "      <th>1</th>\n",
       "      <td>A0A026W182</td>\n",
       "      <td>Membrane</td>\n",
       "      <td>both</td>\n",
       "    </tr>\n",
       "    <tr>\n",
       "      <th>2</th>\n",
       "      <td>A0A026W182</td>\n",
       "      <td>Transmembrane</td>\n",
       "      <td>both</td>\n",
       "    </tr>\n",
       "    <tr>\n",
       "      <th>3</th>\n",
       "      <td>A0A060A682</td>\n",
       "      <td>Cell membrane</td>\n",
       "      <td>both</td>\n",
       "    </tr>\n",
       "    <tr>\n",
       "      <th>4</th>\n",
       "      <td>A0A060A682</td>\n",
       "      <td>Membrane</td>\n",
       "      <td>both</td>\n",
       "    </tr>\n",
       "    <tr>\n",
       "      <th>...</th>\n",
       "      <td>...</td>\n",
       "      <td>...</td>\n",
       "      <td>...</td>\n",
       "    </tr>\n",
       "    <tr>\n",
       "      <th>145403</th>\n",
       "      <td>Q9UR35</td>\n",
       "      <td>Endoplasmic reticulum</td>\n",
       "      <td>right_only</td>\n",
       "    </tr>\n",
       "    <tr>\n",
       "      <th>145404</th>\n",
       "      <td>Q1AE95</td>\n",
       "      <td>Membrane</td>\n",
       "      <td>right_only</td>\n",
       "    </tr>\n",
       "    <tr>\n",
       "      <th>145405</th>\n",
       "      <td>Q1AE95</td>\n",
       "      <td>Transmembrane</td>\n",
       "      <td>right_only</td>\n",
       "    </tr>\n",
       "    <tr>\n",
       "      <th>145406</th>\n",
       "      <td>Q8IM46</td>\n",
       "      <td>Membrane</td>\n",
       "      <td>right_only</td>\n",
       "    </tr>\n",
       "    <tr>\n",
       "      <th>145407</th>\n",
       "      <td>Q8IM46</td>\n",
       "      <td>Transmembrane</td>\n",
       "      <td>right_only</td>\n",
       "    </tr>\n",
       "  </tbody>\n",
       "</table>\n",
       "<p>145408 rows × 3 columns</p>\n",
       "</div>"
      ],
      "text/plain": [
       "           Uniprot                keyword      _merge\n",
       "0       A0A026W182          Cell membrane        both\n",
       "1       A0A026W182               Membrane        both\n",
       "2       A0A026W182          Transmembrane        both\n",
       "3       A0A060A682          Cell membrane        both\n",
       "4       A0A060A682               Membrane        both\n",
       "...            ...                    ...         ...\n",
       "145403      Q9UR35  Endoplasmic reticulum  right_only\n",
       "145404      Q1AE95               Membrane  right_only\n",
       "145405      Q1AE95          Transmembrane  right_only\n",
       "145406      Q8IM46               Membrane  right_only\n",
       "145407      Q8IM46          Transmembrane  right_only\n",
       "\n",
       "[145408 rows x 3 columns]"
      ]
     },
     "execution_count": 22,
     "metadata": {},
     "output_type": "execute_result"
    }
   ],
   "source": [
    "df_keywords_locations_merged = df_keywords_m2[\n",
    "    df_keywords_m2.keyword.isin(KEYWORDS_LOCATION)\n",
    "].merge(\n",
    "    df_keywords_m1[df_keywords_m1.keyword.isin(KEYWORDS_LOCATION)],\n",
    "    how=\"outer\",\n",
    "    indicator=True,\n",
    ")\n",
    "df_keywords_locations_merged\n"
   ]
  },
  {
   "cell_type": "markdown",
   "metadata": {},
   "source": [
    "#### Stats (before filtering and clustering)\n",
    "\n",
    "183 membrane-related keywords were deleted, 3659 were added:"
   ]
  },
  {
   "cell_type": "code",
   "execution_count": 23,
   "metadata": {},
   "outputs": [
    {
     "name": "stdout",
     "output_type": "stream",
     "text": [
      "183\n"
     ]
    },
    {
     "data": {
      "text/plain": [
       "Membrane                        76\n",
       "Transmembrane                   46\n",
       "Cell membrane                   24\n",
       "Nucleus                         21\n",
       "Endoplasmic reticulum            5\n",
       "Mitochondrion                    4\n",
       "Mitochondrion inner membrane     4\n",
       "Cell inner membrane              2\n",
       "Cell outer membrane              1\n",
       "Name: keyword, dtype: int64"
      ]
     },
     "execution_count": 23,
     "metadata": {},
     "output_type": "execute_result"
    }
   ],
   "source": [
    "df_keywords_locations_deleted = df_keywords_locations_merged[\n",
    "    df_keywords_locations_merged._merge == \"right_only\"\n",
    "]\n",
    "print(df_keywords_locations_deleted.shape[0])\n",
    "df_keywords_locations_deleted.keyword.value_counts()"
   ]
  },
  {
   "cell_type": "code",
   "execution_count": 24,
   "metadata": {},
   "outputs": [
    {
     "name": "stdout",
     "output_type": "stream",
     "text": [
      "3659\n"
     ]
    },
    {
     "data": {
      "text/plain": [
       "Membrane                        974\n",
       "Nucleus                         721\n",
       "Cell membrane                   630\n",
       "Transmembrane                   586\n",
       "Endoplasmic reticulum           268\n",
       "Mitochondrion                   259\n",
       "Cell inner membrane              80\n",
       "Mitochondrion inner membrane     79\n",
       "Mitochondrion outer membrane     45\n",
       "Cell outer membrane              13\n",
       "Postsynaptic cell membrane        3\n",
       "Plastid inner membrane            1\n",
       "Name: keyword, dtype: int64"
      ]
     },
     "execution_count": 24,
     "metadata": {},
     "output_type": "execute_result"
    }
   ],
   "source": [
    "df_keywords_locations_added = df_keywords_locations_merged[\n",
    "    df_keywords_locations_merged._merge == \"left_only\"\n",
    "]\n",
    "print(df_keywords_locations_added.shape[0])\n",
    "df_keywords_locations_added.keyword.value_counts()"
   ]
  }
 ],
 "metadata": {
  "kernelspec": {
   "display_name": "Python 3.10.8 ('subpred4')",
   "language": "python",
   "name": "python3"
  },
  "language_info": {
   "codemirror_mode": {
    "name": "ipython",
    "version": 3
   },
   "file_extension": ".py",
   "mimetype": "text/x-python",
   "name": "python",
   "nbconvert_exporter": "python",
   "pygments_lexer": "ipython3",
   "version": "3.10.8"
  },
  "orig_nbformat": 4,
  "vscode": {
   "interpreter": {
    "hash": "ec8de6dd8f2d395005c42468f5d13cdd089376f2ad37eab4b2481f4d8703f0b2"
   }
  }
 },
 "nbformat": 4,
 "nbformat_minor": 2
}
