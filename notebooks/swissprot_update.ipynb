{
 "cells": [
  {
   "cell_type": "markdown",
   "metadata": {},
   "source": [
    "# Uniprot dataset analysis\n",
    "\n",
    "Task: Compare dataset from manuscript 1 to current version of Uniprot\n",
    "\n",
    "- Uniprot releases four updates per year\n",
    "    - Current version is 2022_4, manuscript 1 used 2021_04 \n",
    "- Are there new proteins in new Uniprot release?\n",
    "- Comparison of samples annotated with keywords\n",
    "    - In general\n",
    "    - Individual organisms\n"
   ]
  },
  {
   "cell_type": "markdown",
   "metadata": {},
   "source": [
    "## Imports"
   ]
  },
  {
   "cell_type": "code",
   "execution_count": 105,
   "metadata": {},
   "outputs": [],
   "source": [
    "from subpred.dataset import create_dataset, SUBSTRATE_KEYWORDS, get_keywords_df\n"
   ]
  },
  {
   "cell_type": "markdown",
   "metadata": {},
   "source": [
    "Dataset used in manuscript 1:"
   ]
  },
  {
   "cell_type": "code",
   "execution_count": 106,
   "metadata": {},
   "outputs": [
    {
     "name": "stdout",
     "output_type": "stream",
     "text": [
      "Found pickle, reading...\n"
     ]
    },
    {
     "data": {
      "text/plain": [
       "(141892, 16)"
      ]
     },
     "execution_count": 106,
     "metadata": {},
     "output_type": "execute_result"
    }
   ],
   "source": [
    "df_swissprot_manuscript1 = create_dataset(\n",
    "    # keywords_substrate_filter=[\"Amino-acid transport\", \"Sugar transport\"],\n",
    "    # keywords_component_filter=[\"Transmembrane\"],\n",
    "    # keywords_transport_filter=[\"Transport\"],\n",
    "    input_file=\"../data/raw/uniprot/swissprot_data_2021_04_manuscript1.tsv.gz\",\n",
    "    multi_substrate=\"keep\",\n",
    "    verbose=True,\n",
    "    # tax_ids_filter=[3702, 9606, 83333, 559292],\n",
    "    # outliers=outliers,\n",
    "    # sequence_clustering=70,\n",
    "    evidence_code=2,\n",
    "    invalid_amino_acids=\"remove_protein\",\n",
    "    # force_update=True,\n",
    "    tcdb_substrates_file=\"../data/raw/tcdb/tcdb_substrates.tsv\",\n",
    ")\n",
    "df_swissprot_manuscript1.shape\n"
   ]
  },
  {
   "cell_type": "markdown",
   "metadata": {},
   "source": [
    "Swissprot 2022_04:"
   ]
  },
  {
   "cell_type": "code",
   "execution_count": 107,
   "metadata": {},
   "outputs": [
    {
     "name": "stdout",
     "output_type": "stream",
     "text": [
      "Found pickle, reading...\n"
     ]
    },
    {
     "data": {
      "text/plain": [
       "(144929, 16)"
      ]
     },
     "execution_count": 107,
     "metadata": {},
     "output_type": "execute_result"
    }
   ],
   "source": [
    "df_swissprot_new = create_dataset(\n",
    "    # keywords_substrate_filter=[\"Amino-acid transport\", \"Sugar transport\"],\n",
    "    # keywords_component_filter=[\"Transmembrane\"],\n",
    "    # keywords_transport_filter=[\"Transport\"],\n",
    "    input_file=\"../data/raw/uniprot/swissprot_data_2022_04.tsv.gz\",\n",
    "    multi_substrate=\"keep\",\n",
    "    verbose=True,\n",
    "    # tax_ids_filter=[3702, 9606, 83333, 559292],\n",
    "    # outliers=outliers,\n",
    "    # sequence_clustering=70,\n",
    "    evidence_code=2,\n",
    "    invalid_amino_acids=\"remove_protein\",\n",
    "    # force_update=True,\n",
    "    tcdb_substrates_file=\"../data/raw/tcdb/tcdb_substrates.tsv\",\n",
    ")\n",
    "df_swissprot_new.shape\n"
   ]
  },
  {
   "cell_type": "markdown",
   "metadata": {},
   "source": [
    "## New entries in general:"
   ]
  },
  {
   "cell_type": "code",
   "execution_count": 108,
   "metadata": {},
   "outputs": [
    {
     "data": {
      "text/plain": [
       "3037"
      ]
     },
     "execution_count": 108,
     "metadata": {},
     "output_type": "execute_result"
    }
   ],
   "source": [
    "df_swissprot_new.shape[0] - df_swissprot_manuscript1.shape[0]\n"
   ]
  },
  {
   "cell_type": "markdown",
   "metadata": {},
   "source": [
    "## New keyword annotations:"
   ]
  },
  {
   "cell_type": "code",
   "execution_count": 109,
   "metadata": {},
   "outputs": [
    {
     "data": {
      "text/html": [
       "<div>\n",
       "<style scoped>\n",
       "    .dataframe tbody tr th:only-of-type {\n",
       "        vertical-align: middle;\n",
       "    }\n",
       "\n",
       "    .dataframe tbody tr th {\n",
       "        vertical-align: top;\n",
       "    }\n",
       "\n",
       "    .dataframe thead th {\n",
       "        text-align: right;\n",
       "    }\n",
       "</style>\n",
       "<table border=\"1\" class=\"dataframe\">\n",
       "  <thead>\n",
       "    <tr style=\"text-align: right;\">\n",
       "      <th></th>\n",
       "      <th>Uniprot</th>\n",
       "      <th>keyword</th>\n",
       "    </tr>\n",
       "  </thead>\n",
       "  <tbody>\n",
       "    <tr>\n",
       "      <th>0</th>\n",
       "      <td>Q5SW45</td>\n",
       "      <td>Cell projection</td>\n",
       "    </tr>\n",
       "    <tr>\n",
       "      <th>1</th>\n",
       "      <td>Q5SW45</td>\n",
       "      <td>Cilium</td>\n",
       "    </tr>\n",
       "    <tr>\n",
       "      <th>2</th>\n",
       "      <td>Q5SW45</td>\n",
       "      <td>Cilium biogenesis/degradation</td>\n",
       "    </tr>\n",
       "    <tr>\n",
       "      <th>3</th>\n",
       "      <td>Q5SW45</td>\n",
       "      <td>Cytoplasm</td>\n",
       "    </tr>\n",
       "    <tr>\n",
       "      <th>4</th>\n",
       "      <td>Q5SW45</td>\n",
       "      <td>Cytoskeleton</td>\n",
       "    </tr>\n",
       "    <tr>\n",
       "      <th>...</th>\n",
       "      <td>...</td>\n",
       "      <td>...</td>\n",
       "    </tr>\n",
       "    <tr>\n",
       "      <th>1173568</th>\n",
       "      <td>P50402</td>\n",
       "      <td>Nucleus</td>\n",
       "    </tr>\n",
       "    <tr>\n",
       "      <th>1173569</th>\n",
       "      <td>P50402</td>\n",
       "      <td>Phosphoprotein</td>\n",
       "    </tr>\n",
       "    <tr>\n",
       "      <th>1173570</th>\n",
       "      <td>P50402</td>\n",
       "      <td>Reference proteome</td>\n",
       "    </tr>\n",
       "    <tr>\n",
       "      <th>1173571</th>\n",
       "      <td>P50402</td>\n",
       "      <td>Transmembrane</td>\n",
       "    </tr>\n",
       "    <tr>\n",
       "      <th>1173572</th>\n",
       "      <td>P50402</td>\n",
       "      <td>Transmembrane helix</td>\n",
       "    </tr>\n",
       "  </tbody>\n",
       "</table>\n",
       "<p>1173573 rows × 2 columns</p>\n",
       "</div>"
      ],
      "text/plain": [
       "        Uniprot                        keyword\n",
       "0        Q5SW45                Cell projection\n",
       "1        Q5SW45                         Cilium\n",
       "2        Q5SW45  Cilium biogenesis/degradation\n",
       "3        Q5SW45                      Cytoplasm\n",
       "4        Q5SW45                   Cytoskeleton\n",
       "...         ...                            ...\n",
       "1173568  P50402                        Nucleus\n",
       "1173569  P50402                 Phosphoprotein\n",
       "1173570  P50402             Reference proteome\n",
       "1173571  P50402                  Transmembrane\n",
       "1173572  P50402            Transmembrane helix\n",
       "\n",
       "[1173573 rows x 2 columns]"
      ]
     },
     "execution_count": 109,
     "metadata": {},
     "output_type": "execute_result"
    }
   ],
   "source": [
    "df_keywords_m1 = get_keywords_df(df_swissprot_manuscript1)\n",
    "df_keywords_m1\n"
   ]
  },
  {
   "cell_type": "code",
   "execution_count": 110,
   "metadata": {},
   "outputs": [
    {
     "data": {
      "text/html": [
       "<div>\n",
       "<style scoped>\n",
       "    .dataframe tbody tr th:only-of-type {\n",
       "        vertical-align: middle;\n",
       "    }\n",
       "\n",
       "    .dataframe tbody tr th {\n",
       "        vertical-align: top;\n",
       "    }\n",
       "\n",
       "    .dataframe thead th {\n",
       "        text-align: right;\n",
       "    }\n",
       "</style>\n",
       "<table border=\"1\" class=\"dataframe\">\n",
       "  <thead>\n",
       "    <tr style=\"text-align: right;\">\n",
       "      <th></th>\n",
       "      <th>Uniprot</th>\n",
       "      <th>keyword</th>\n",
       "    </tr>\n",
       "  </thead>\n",
       "  <tbody>\n",
       "    <tr>\n",
       "      <th>0</th>\n",
       "      <td>A0A024SC78</td>\n",
       "      <td>3D-structure</td>\n",
       "    </tr>\n",
       "    <tr>\n",
       "      <th>1</th>\n",
       "      <td>A0A024SC78</td>\n",
       "      <td>Disulfide bond</td>\n",
       "    </tr>\n",
       "    <tr>\n",
       "      <th>2</th>\n",
       "      <td>A0A024SC78</td>\n",
       "      <td>Hydrolase</td>\n",
       "    </tr>\n",
       "    <tr>\n",
       "      <th>3</th>\n",
       "      <td>A0A024SC78</td>\n",
       "      <td>Secreted</td>\n",
       "    </tr>\n",
       "    <tr>\n",
       "      <th>4</th>\n",
       "      <td>A0A024SC78</td>\n",
       "      <td>Serine esterase</td>\n",
       "    </tr>\n",
       "    <tr>\n",
       "      <th>...</th>\n",
       "      <td>...</td>\n",
       "      <td>...</td>\n",
       "    </tr>\n",
       "    <tr>\n",
       "      <th>1205125</th>\n",
       "      <td>V5XVW4</td>\n",
       "      <td>Capsid protein</td>\n",
       "    </tr>\n",
       "    <tr>\n",
       "      <th>1205126</th>\n",
       "      <td>V5XVW4</td>\n",
       "      <td>Direct protein sequencing</td>\n",
       "    </tr>\n",
       "    <tr>\n",
       "      <th>1205127</th>\n",
       "      <td>V5XVW4</td>\n",
       "      <td>Virion</td>\n",
       "    </tr>\n",
       "    <tr>\n",
       "      <th>1205128</th>\n",
       "      <td>W5X2N3</td>\n",
       "      <td>nan</td>\n",
       "    </tr>\n",
       "    <tr>\n",
       "      <th>1205129</th>\n",
       "      <td>W6JQK2</td>\n",
       "      <td>Reference proteome</td>\n",
       "    </tr>\n",
       "  </tbody>\n",
       "</table>\n",
       "<p>1205130 rows × 2 columns</p>\n",
       "</div>"
      ],
      "text/plain": [
       "            Uniprot                    keyword\n",
       "0        A0A024SC78               3D-structure\n",
       "1        A0A024SC78             Disulfide bond\n",
       "2        A0A024SC78                  Hydrolase\n",
       "3        A0A024SC78                   Secreted\n",
       "4        A0A024SC78            Serine esterase\n",
       "...             ...                        ...\n",
       "1205125      V5XVW4             Capsid protein\n",
       "1205126      V5XVW4  Direct protein sequencing\n",
       "1205127      V5XVW4                     Virion\n",
       "1205128      W5X2N3                        nan\n",
       "1205129      W6JQK2         Reference proteome\n",
       "\n",
       "[1205130 rows x 2 columns]"
      ]
     },
     "execution_count": 110,
     "metadata": {},
     "output_type": "execute_result"
    }
   ],
   "source": [
    "df_keywords_m2 = get_keywords_df(df_swissprot_new)\n",
    "df_keywords_m2\n"
   ]
  },
  {
   "cell_type": "markdown",
   "metadata": {},
   "source": [
    "There are 31.557 new keyword annoataions on total:"
   ]
  },
  {
   "cell_type": "code",
   "execution_count": 111,
   "metadata": {},
   "outputs": [
    {
     "data": {
      "text/plain": [
       "31557"
      ]
     },
     "execution_count": 111,
     "metadata": {},
     "output_type": "execute_result"
    }
   ],
   "source": [
    "df_keywords_m2.shape[0] - df_keywords_m1.shape[0]\n"
   ]
  },
  {
   "cell_type": "markdown",
   "metadata": {},
   "source": [
    "## New substrate annotations\n",
    "\n",
    "No filtering for Transmembrane transporters beforehand, these are all substrate annotations."
   ]
  },
  {
   "cell_type": "code",
   "execution_count": 112,
   "metadata": {},
   "outputs": [
    {
     "name": "stdout",
     "output_type": "stream",
     "text": [
      "{'Protein transport', 'Bacteriocin transport', 'mRNA transport', 'Sodium transport', 'Peptide transport', 'Bacterial flagellum protein export', 'Ammonia transport', 'Phosphate transport', 'Electron transport', 'Nickel transport', 'Anion exchange', 'Copper transport', 'Potassium transport', 'Translocation', 'Sugar transport', 'Ion transport', 'Sodium/potassium transport', 'Sulfate transport', 'Calcium transport', 'Polysaccharide transport', 'Oxygen transport', 'Lipid transport', 'Cobalt transport', 'Viral movement protein', 'Iron transport', 'Neurotransmitter transport', 'Hydrogen ion transport', 'Amino-acid transport', 'Zinc transport', 'Phosphonate transport', 'Chloride'}\n"
     ]
    }
   ],
   "source": [
    "print(SUBSTRATE_KEYWORDS)\n"
   ]
  },
  {
   "cell_type": "code",
   "execution_count": 113,
   "metadata": {},
   "outputs": [
    {
     "data": {
      "text/html": [
       "<div>\n",
       "<style scoped>\n",
       "    .dataframe tbody tr th:only-of-type {\n",
       "        vertical-align: middle;\n",
       "    }\n",
       "\n",
       "    .dataframe tbody tr th {\n",
       "        vertical-align: top;\n",
       "    }\n",
       "\n",
       "    .dataframe thead th {\n",
       "        text-align: right;\n",
       "    }\n",
       "</style>\n",
       "<table border=\"1\" class=\"dataframe\">\n",
       "  <thead>\n",
       "    <tr style=\"text-align: right;\">\n",
       "      <th></th>\n",
       "      <th>Uniprot</th>\n",
       "      <th>keyword</th>\n",
       "    </tr>\n",
       "  </thead>\n",
       "  <tbody>\n",
       "    <tr>\n",
       "      <th>106</th>\n",
       "      <td>Q02455</td>\n",
       "      <td>Protein transport</td>\n",
       "    </tr>\n",
       "    <tr>\n",
       "      <th>108</th>\n",
       "      <td>Q02455</td>\n",
       "      <td>Translocation</td>\n",
       "    </tr>\n",
       "    <tr>\n",
       "      <th>110</th>\n",
       "      <td>Q02455</td>\n",
       "      <td>mRNA transport</td>\n",
       "    </tr>\n",
       "    <tr>\n",
       "      <th>294</th>\n",
       "      <td>Q9BXB5</td>\n",
       "      <td>Lipid transport</td>\n",
       "    </tr>\n",
       "    <tr>\n",
       "      <th>320</th>\n",
       "      <td>Q8VHK5</td>\n",
       "      <td>Ion transport</td>\n",
       "    </tr>\n",
       "    <tr>\n",
       "      <th>...</th>\n",
       "      <td>...</td>\n",
       "      <td>...</td>\n",
       "    </tr>\n",
       "    <tr>\n",
       "      <th>1172631</th>\n",
       "      <td>Q8S8A0</td>\n",
       "      <td>Amino-acid transport</td>\n",
       "    </tr>\n",
       "    <tr>\n",
       "      <th>1172637</th>\n",
       "      <td>Q3E965</td>\n",
       "      <td>Amino-acid transport</td>\n",
       "    </tr>\n",
       "    <tr>\n",
       "      <th>1172643</th>\n",
       "      <td>Q3EAV6</td>\n",
       "      <td>Amino-acid transport</td>\n",
       "    </tr>\n",
       "    <tr>\n",
       "      <th>1172654</th>\n",
       "      <td>Q3E8L0</td>\n",
       "      <td>Amino-acid transport</td>\n",
       "    </tr>\n",
       "    <tr>\n",
       "      <th>1172662</th>\n",
       "      <td>O69279</td>\n",
       "      <td>Ion transport</td>\n",
       "    </tr>\n",
       "  </tbody>\n",
       "</table>\n",
       "<p>19059 rows × 2 columns</p>\n",
       "</div>"
      ],
      "text/plain": [
       "        Uniprot               keyword\n",
       "106      Q02455     Protein transport\n",
       "108      Q02455         Translocation\n",
       "110      Q02455        mRNA transport\n",
       "294      Q9BXB5       Lipid transport\n",
       "320      Q8VHK5         Ion transport\n",
       "...         ...                   ...\n",
       "1172631  Q8S8A0  Amino-acid transport\n",
       "1172637  Q3E965  Amino-acid transport\n",
       "1172643  Q3EAV6  Amino-acid transport\n",
       "1172654  Q3E8L0  Amino-acid transport\n",
       "1172662  O69279         Ion transport\n",
       "\n",
       "[19059 rows x 2 columns]"
      ]
     },
     "execution_count": 113,
     "metadata": {},
     "output_type": "execute_result"
    }
   ],
   "source": [
    "df_substrates_m1 = df_keywords_m1[df_keywords_m1.keyword.isin(SUBSTRATE_KEYWORDS)]\n",
    "df_substrates_m1\n"
   ]
  },
  {
   "cell_type": "code",
   "execution_count": 114,
   "metadata": {},
   "outputs": [
    {
     "data": {
      "text/html": [
       "<div>\n",
       "<style scoped>\n",
       "    .dataframe tbody tr th:only-of-type {\n",
       "        vertical-align: middle;\n",
       "    }\n",
       "\n",
       "    .dataframe tbody tr th {\n",
       "        vertical-align: top;\n",
       "    }\n",
       "\n",
       "    .dataframe thead th {\n",
       "        text-align: right;\n",
       "    }\n",
       "</style>\n",
       "<table border=\"1\" class=\"dataframe\">\n",
       "  <thead>\n",
       "    <tr style=\"text-align: right;\">\n",
       "      <th></th>\n",
       "      <th>Uniprot</th>\n",
       "      <th>keyword</th>\n",
       "    </tr>\n",
       "  </thead>\n",
       "  <tbody>\n",
       "    <tr>\n",
       "      <th>63</th>\n",
       "      <td>A0A061ACU2</td>\n",
       "      <td>Ion transport</td>\n",
       "    </tr>\n",
       "    <tr>\n",
       "      <th>478</th>\n",
       "      <td>A0A0B4K7J2</td>\n",
       "      <td>mRNA transport</td>\n",
       "    </tr>\n",
       "    <tr>\n",
       "      <th>482</th>\n",
       "      <td>A0A0B4K7J2</td>\n",
       "      <td>Protein transport</td>\n",
       "    </tr>\n",
       "    <tr>\n",
       "      <th>487</th>\n",
       "      <td>A0A0B4K7J2</td>\n",
       "      <td>Translocation</td>\n",
       "    </tr>\n",
       "    <tr>\n",
       "      <th>563</th>\n",
       "      <td>A0A0B7P9G0</td>\n",
       "      <td>Ion transport</td>\n",
       "    </tr>\n",
       "    <tr>\n",
       "      <th>...</th>\n",
       "      <td>...</td>\n",
       "      <td>...</td>\n",
       "    </tr>\n",
       "    <tr>\n",
       "      <th>1199326</th>\n",
       "      <td>R9RZK8</td>\n",
       "      <td>Oxygen transport</td>\n",
       "    </tr>\n",
       "    <tr>\n",
       "      <th>1200308</th>\n",
       "      <td>O59813</td>\n",
       "      <td>Amino-acid transport</td>\n",
       "    </tr>\n",
       "    <tr>\n",
       "      <th>1201946</th>\n",
       "      <td>Q01247</td>\n",
       "      <td>Protein transport</td>\n",
       "    </tr>\n",
       "    <tr>\n",
       "      <th>1204289</th>\n",
       "      <td>Q8YEE8</td>\n",
       "      <td>Amino-acid transport</td>\n",
       "    </tr>\n",
       "    <tr>\n",
       "      <th>1204571</th>\n",
       "      <td>Q9E7N8</td>\n",
       "      <td>Viral movement protein</td>\n",
       "    </tr>\n",
       "  </tbody>\n",
       "</table>\n",
       "<p>19504 rows × 2 columns</p>\n",
       "</div>"
      ],
      "text/plain": [
       "            Uniprot                 keyword\n",
       "63       A0A061ACU2           Ion transport\n",
       "478      A0A0B4K7J2          mRNA transport\n",
       "482      A0A0B4K7J2       Protein transport\n",
       "487      A0A0B4K7J2           Translocation\n",
       "563      A0A0B7P9G0           Ion transport\n",
       "...             ...                     ...\n",
       "1199326      R9RZK8        Oxygen transport\n",
       "1200308      O59813    Amino-acid transport\n",
       "1201946      Q01247       Protein transport\n",
       "1204289      Q8YEE8    Amino-acid transport\n",
       "1204571      Q9E7N8  Viral movement protein\n",
       "\n",
       "[19504 rows x 2 columns]"
      ]
     },
     "execution_count": 114,
     "metadata": {},
     "output_type": "execute_result"
    }
   ],
   "source": [
    "df_substrates_m2 = df_keywords_m2[df_keywords_m2.keyword.isin(SUBSTRATE_KEYWORDS)]\n",
    "df_substrates_m2\n"
   ]
  },
  {
   "cell_type": "markdown",
   "metadata": {},
   "source": [
    "There are 445 more substrate annotations in all of swissprot:"
   ]
  },
  {
   "cell_type": "code",
   "execution_count": 115,
   "metadata": {},
   "outputs": [
    {
     "data": {
      "text/plain": [
       "445"
      ]
     },
     "execution_count": 115,
     "metadata": {},
     "output_type": "execute_result"
    }
   ],
   "source": [
    "df_substrates_m2.shape[0] - df_substrates_m1.shape[0]\n"
   ]
  },
  {
   "cell_type": "markdown",
   "metadata": {},
   "source": [
    "Merging dataframes to see differences:"
   ]
  },
  {
   "cell_type": "code",
   "execution_count": 116,
   "metadata": {},
   "outputs": [
    {
     "data": {
      "text/html": [
       "<div>\n",
       "<style scoped>\n",
       "    .dataframe tbody tr th:only-of-type {\n",
       "        vertical-align: middle;\n",
       "    }\n",
       "\n",
       "    .dataframe tbody tr th {\n",
       "        vertical-align: top;\n",
       "    }\n",
       "\n",
       "    .dataframe thead th {\n",
       "        text-align: right;\n",
       "    }\n",
       "</style>\n",
       "<table border=\"1\" class=\"dataframe\">\n",
       "  <thead>\n",
       "    <tr style=\"text-align: right;\">\n",
       "      <th></th>\n",
       "      <th>Uniprot</th>\n",
       "      <th>keyword</th>\n",
       "      <th>_merge</th>\n",
       "    </tr>\n",
       "  </thead>\n",
       "  <tbody>\n",
       "    <tr>\n",
       "      <th>0</th>\n",
       "      <td>A0A061ACU2</td>\n",
       "      <td>Ion transport</td>\n",
       "      <td>both</td>\n",
       "    </tr>\n",
       "    <tr>\n",
       "      <th>1</th>\n",
       "      <td>A0A0B4K7J2</td>\n",
       "      <td>mRNA transport</td>\n",
       "      <td>both</td>\n",
       "    </tr>\n",
       "    <tr>\n",
       "      <th>2</th>\n",
       "      <td>A0A0B4K7J2</td>\n",
       "      <td>Protein transport</td>\n",
       "      <td>both</td>\n",
       "    </tr>\n",
       "    <tr>\n",
       "      <th>3</th>\n",
       "      <td>A0A0B4K7J2</td>\n",
       "      <td>Translocation</td>\n",
       "      <td>both</td>\n",
       "    </tr>\n",
       "    <tr>\n",
       "      <th>4</th>\n",
       "      <td>A0A0B7P9G0</td>\n",
       "      <td>Ion transport</td>\n",
       "      <td>both</td>\n",
       "    </tr>\n",
       "    <tr>\n",
       "      <th>...</th>\n",
       "      <td>...</td>\n",
       "      <td>...</td>\n",
       "      <td>...</td>\n",
       "    </tr>\n",
       "    <tr>\n",
       "      <th>19565</th>\n",
       "      <td>Q10045</td>\n",
       "      <td>Protein transport</td>\n",
       "      <td>right_only</td>\n",
       "    </tr>\n",
       "    <tr>\n",
       "      <th>19566</th>\n",
       "      <td>Q5U520</td>\n",
       "      <td>Protein transport</td>\n",
       "      <td>right_only</td>\n",
       "    </tr>\n",
       "    <tr>\n",
       "      <th>19567</th>\n",
       "      <td>Q7ZUU1</td>\n",
       "      <td>Protein transport</td>\n",
       "      <td>right_only</td>\n",
       "    </tr>\n",
       "    <tr>\n",
       "      <th>19568</th>\n",
       "      <td>Q53HI1</td>\n",
       "      <td>Protein transport</td>\n",
       "      <td>right_only</td>\n",
       "    </tr>\n",
       "    <tr>\n",
       "      <th>19569</th>\n",
       "      <td>A1Z713</td>\n",
       "      <td>Protein transport</td>\n",
       "      <td>right_only</td>\n",
       "    </tr>\n",
       "  </tbody>\n",
       "</table>\n",
       "<p>19570 rows × 3 columns</p>\n",
       "</div>"
      ],
      "text/plain": [
       "          Uniprot            keyword      _merge\n",
       "0      A0A061ACU2      Ion transport        both\n",
       "1      A0A0B4K7J2     mRNA transport        both\n",
       "2      A0A0B4K7J2  Protein transport        both\n",
       "3      A0A0B4K7J2      Translocation        both\n",
       "4      A0A0B7P9G0      Ion transport        both\n",
       "...           ...                ...         ...\n",
       "19565      Q10045  Protein transport  right_only\n",
       "19566      Q5U520  Protein transport  right_only\n",
       "19567      Q7ZUU1  Protein transport  right_only\n",
       "19568      Q53HI1  Protein transport  right_only\n",
       "19569      A1Z713  Protein transport  right_only\n",
       "\n",
       "[19570 rows x 3 columns]"
      ]
     },
     "execution_count": 116,
     "metadata": {},
     "output_type": "execute_result"
    }
   ],
   "source": [
    "df_substrates_merged = df_substrates_m2.merge(\n",
    "    df_substrates_m1, indicator=True, how=\"outer\"\n",
    ")\n",
    "df_substrates_merged\n"
   ]
  },
  {
   "cell_type": "markdown",
   "metadata": {},
   "source": [
    "### Deleted annotations:\n",
    "\n",
    "66 keyword annotations were deleted in the new version, most of them related to protein transport:"
   ]
  },
  {
   "cell_type": "code",
   "execution_count": 117,
   "metadata": {},
   "outputs": [
    {
     "data": {
      "text/plain": [
       "Protein transport     37\n",
       "Translocation         10\n",
       "mRNA transport        10\n",
       "Sugar transport        4\n",
       "Lipid transport        3\n",
       "Chloride               1\n",
       "Electron transport     1\n",
       "Name: keyword, dtype: int64"
      ]
     },
     "metadata": {},
     "output_type": "display_data"
    },
    {
     "data": {
      "text/html": [
       "<div>\n",
       "<style scoped>\n",
       "    .dataframe tbody tr th:only-of-type {\n",
       "        vertical-align: middle;\n",
       "    }\n",
       "\n",
       "    .dataframe tbody tr th {\n",
       "        vertical-align: top;\n",
       "    }\n",
       "\n",
       "    .dataframe thead th {\n",
       "        text-align: right;\n",
       "    }\n",
       "</style>\n",
       "<table border=\"1\" class=\"dataframe\">\n",
       "  <thead>\n",
       "    <tr style=\"text-align: right;\">\n",
       "      <th></th>\n",
       "      <th>Uniprot</th>\n",
       "      <th>keyword</th>\n",
       "      <th>_merge</th>\n",
       "    </tr>\n",
       "  </thead>\n",
       "  <tbody>\n",
       "    <tr>\n",
       "      <th>19504</th>\n",
       "      <td>Q9VHN5</td>\n",
       "      <td>Protein transport</td>\n",
       "      <td>right_only</td>\n",
       "    </tr>\n",
       "    <tr>\n",
       "      <th>19505</th>\n",
       "      <td>Q96RL7</td>\n",
       "      <td>Protein transport</td>\n",
       "      <td>right_only</td>\n",
       "    </tr>\n",
       "    <tr>\n",
       "      <th>19506</th>\n",
       "      <td>P78383</td>\n",
       "      <td>Sugar transport</td>\n",
       "      <td>right_only</td>\n",
       "    </tr>\n",
       "    <tr>\n",
       "      <th>19507</th>\n",
       "      <td>P97858</td>\n",
       "      <td>Sugar transport</td>\n",
       "      <td>right_only</td>\n",
       "    </tr>\n",
       "    <tr>\n",
       "      <th>19508</th>\n",
       "      <td>Q27966</td>\n",
       "      <td>Protein transport</td>\n",
       "      <td>right_only</td>\n",
       "    </tr>\n",
       "    <tr>\n",
       "      <th>...</th>\n",
       "      <td>...</td>\n",
       "      <td>...</td>\n",
       "      <td>...</td>\n",
       "    </tr>\n",
       "    <tr>\n",
       "      <th>19565</th>\n",
       "      <td>Q10045</td>\n",
       "      <td>Protein transport</td>\n",
       "      <td>right_only</td>\n",
       "    </tr>\n",
       "    <tr>\n",
       "      <th>19566</th>\n",
       "      <td>Q5U520</td>\n",
       "      <td>Protein transport</td>\n",
       "      <td>right_only</td>\n",
       "    </tr>\n",
       "    <tr>\n",
       "      <th>19567</th>\n",
       "      <td>Q7ZUU1</td>\n",
       "      <td>Protein transport</td>\n",
       "      <td>right_only</td>\n",
       "    </tr>\n",
       "    <tr>\n",
       "      <th>19568</th>\n",
       "      <td>Q53HI1</td>\n",
       "      <td>Protein transport</td>\n",
       "      <td>right_only</td>\n",
       "    </tr>\n",
       "    <tr>\n",
       "      <th>19569</th>\n",
       "      <td>A1Z713</td>\n",
       "      <td>Protein transport</td>\n",
       "      <td>right_only</td>\n",
       "    </tr>\n",
       "  </tbody>\n",
       "</table>\n",
       "<p>66 rows × 3 columns</p>\n",
       "</div>"
      ],
      "text/plain": [
       "      Uniprot            keyword      _merge\n",
       "19504  Q9VHN5  Protein transport  right_only\n",
       "19505  Q96RL7  Protein transport  right_only\n",
       "19506  P78383    Sugar transport  right_only\n",
       "19507  P97858    Sugar transport  right_only\n",
       "19508  Q27966  Protein transport  right_only\n",
       "...       ...                ...         ...\n",
       "19565  Q10045  Protein transport  right_only\n",
       "19566  Q5U520  Protein transport  right_only\n",
       "19567  Q7ZUU1  Protein transport  right_only\n",
       "19568  Q53HI1  Protein transport  right_only\n",
       "19569  A1Z713  Protein transport  right_only\n",
       "\n",
       "[66 rows x 3 columns]"
      ]
     },
     "metadata": {},
     "output_type": "display_data"
    }
   ],
   "source": [
    "display(\n",
    "    df_substrates_merged[\n",
    "        df_substrates_merged._merge == \"right_only\"\n",
    "    ].keyword.value_counts()\n",
    ")\n",
    "display(df_substrates_merged[df_substrates_merged._merge == \"right_only\"])\n"
   ]
  },
  {
   "cell_type": "markdown",
   "metadata": {},
   "source": [
    "#### What are the four deleted sugar transporters?\n",
    "\n",
    "It looks like they all belong to the same protein family, that is related to UDP-Galactose, but now we know that they are ATP/ADP Antiporters."
   ]
  },
  {
   "cell_type": "code",
   "execution_count": 118,
   "metadata": {},
   "outputs": [
    {
     "name": "stdout",
     "output_type": "stream",
     "text": [
      "manuscript 1:\n"
     ]
    },
    {
     "data": {
      "text/html": [
       "<div>\n",
       "<style scoped>\n",
       "    .dataframe tbody tr th:only-of-type {\n",
       "        vertical-align: middle;\n",
       "    }\n",
       "\n",
       "    .dataframe tbody tr th {\n",
       "        vertical-align: top;\n",
       "    }\n",
       "\n",
       "    .dataframe thead th {\n",
       "        text-align: right;\n",
       "    }\n",
       "</style>\n",
       "<table border=\"1\" class=\"dataframe\">\n",
       "  <thead>\n",
       "    <tr style=\"text-align: right;\">\n",
       "      <th></th>\n",
       "      <th>keyword</th>\n",
       "      <th>_merge</th>\n",
       "      <th>protein_names</th>\n",
       "      <th>organism_id</th>\n",
       "    </tr>\n",
       "    <tr>\n",
       "      <th>Uniprot</th>\n",
       "      <th></th>\n",
       "      <th></th>\n",
       "      <th></th>\n",
       "      <th></th>\n",
       "    </tr>\n",
       "  </thead>\n",
       "  <tbody>\n",
       "    <tr>\n",
       "      <th>P78383</th>\n",
       "      <td>Sugar transport</td>\n",
       "      <td>right_only</td>\n",
       "      <td>Solute carrier family 35 member B1 (UDP-galactose transporter-related protein 1) (UGTrel1) (hUGTrel1)</td>\n",
       "      <td>9606</td>\n",
       "    </tr>\n",
       "    <tr>\n",
       "      <th>P97858</th>\n",
       "      <td>Sugar transport</td>\n",
       "      <td>right_only</td>\n",
       "      <td>Solute carrier family 35 member B1 (UDP-galactose translocator 2) (UDP-galactose transporter-related protein 1) (UGTrel1)</td>\n",
       "      <td>10090</td>\n",
       "    </tr>\n",
       "    <tr>\n",
       "      <th>Q8MII5</th>\n",
       "      <td>Sugar transport</td>\n",
       "      <td>right_only</td>\n",
       "      <td>Solute carrier family 35 member B1 (Endoplasmic reticulum nucleotide sugar transporter 1)</td>\n",
       "      <td>9913</td>\n",
       "    </tr>\n",
       "    <tr>\n",
       "      <th>Q6V7K3</th>\n",
       "      <td>Sugar transport</td>\n",
       "      <td>right_only</td>\n",
       "      <td>Solute carrier family 35 member B1 (UDP-galactose transporter-related protein 1) (UGTrel1)</td>\n",
       "      <td>10116</td>\n",
       "    </tr>\n",
       "  </tbody>\n",
       "</table>\n",
       "</div>"
      ],
      "text/plain": [
       "                 keyword      _merge  \\\n",
       "Uniprot                                \n",
       "P78383   Sugar transport  right_only   \n",
       "P97858   Sugar transport  right_only   \n",
       "Q8MII5   Sugar transport  right_only   \n",
       "Q6V7K3   Sugar transport  right_only   \n",
       "\n",
       "                                                                                                                     protein_names  \\\n",
       "Uniprot                                                                                                                              \n",
       "P78383                       Solute carrier family 35 member B1 (UDP-galactose transporter-related protein 1) (UGTrel1) (hUGTrel1)   \n",
       "P97858   Solute carrier family 35 member B1 (UDP-galactose translocator 2) (UDP-galactose transporter-related protein 1) (UGTrel1)   \n",
       "Q8MII5                                   Solute carrier family 35 member B1 (Endoplasmic reticulum nucleotide sugar transporter 1)   \n",
       "Q6V7K3                                  Solute carrier family 35 member B1 (UDP-galactose transporter-related protein 1) (UGTrel1)   \n",
       "\n",
       "         organism_id  \n",
       "Uniprot               \n",
       "P78383          9606  \n",
       "P97858         10090  \n",
       "Q8MII5          9913  \n",
       "Q6V7K3         10116  "
      ]
     },
     "metadata": {},
     "output_type": "display_data"
    },
    {
     "name": "stdout",
     "output_type": "stream",
     "text": [
      "manuscript 2:\n"
     ]
    },
    {
     "data": {
      "text/html": [
       "<div>\n",
       "<style scoped>\n",
       "    .dataframe tbody tr th:only-of-type {\n",
       "        vertical-align: middle;\n",
       "    }\n",
       "\n",
       "    .dataframe tbody tr th {\n",
       "        vertical-align: top;\n",
       "    }\n",
       "\n",
       "    .dataframe thead th {\n",
       "        text-align: right;\n",
       "    }\n",
       "</style>\n",
       "<table border=\"1\" class=\"dataframe\">\n",
       "  <thead>\n",
       "    <tr style=\"text-align: right;\">\n",
       "      <th></th>\n",
       "      <th>keyword</th>\n",
       "      <th>_merge</th>\n",
       "      <th>protein_names</th>\n",
       "      <th>organism_id</th>\n",
       "    </tr>\n",
       "    <tr>\n",
       "      <th>Uniprot</th>\n",
       "      <th></th>\n",
       "      <th></th>\n",
       "      <th></th>\n",
       "      <th></th>\n",
       "    </tr>\n",
       "  </thead>\n",
       "  <tbody>\n",
       "    <tr>\n",
       "      <th>P78383</th>\n",
       "      <td>Sugar transport</td>\n",
       "      <td>right_only</td>\n",
       "      <td>Solute carrier family 35 member B1 (ATP/ADP exchanger ER) (AXER) (Endoplasmic reticulum ATP/ADP translocase) (UDP-galactose transporter-related protein 1) (UGTrel1)</td>\n",
       "      <td>9606</td>\n",
       "    </tr>\n",
       "    <tr>\n",
       "      <th>P97858</th>\n",
       "      <td>Sugar transport</td>\n",
       "      <td>right_only</td>\n",
       "      <td>Solute carrier family 35 member B1 (ATP/ADP exchanger ER) (AXER) (Endoplasmic reticulum ATP/ADP translocase) (UDP-galactose transporter-related protein 1) (UGTrel1)</td>\n",
       "      <td>10090</td>\n",
       "    </tr>\n",
       "    <tr>\n",
       "      <th>Q8MII5</th>\n",
       "      <td>Sugar transport</td>\n",
       "      <td>right_only</td>\n",
       "      <td>Solute carrier family 35 member B1 (ATP/ADP exchanger ER) (AXER) (Endoplasmic reticulum ATP/ADP translocase) (UDP-galactose transporter-related protein 1) (UGTrel1)</td>\n",
       "      <td>9913</td>\n",
       "    </tr>\n",
       "    <tr>\n",
       "      <th>Q6V7K3</th>\n",
       "      <td>Sugar transport</td>\n",
       "      <td>right_only</td>\n",
       "      <td>Solute carrier family 35 member B1 (ATP/ADP exchanger ER) (AXER) (Endoplasmic reticulum ATP/ADP translocase) (UDP-galactose transporter-related protein 1) (UGTrel1)</td>\n",
       "      <td>10116</td>\n",
       "    </tr>\n",
       "  </tbody>\n",
       "</table>\n",
       "</div>"
      ],
      "text/plain": [
       "                 keyword      _merge  \\\n",
       "Uniprot                                \n",
       "P78383   Sugar transport  right_only   \n",
       "P97858   Sugar transport  right_only   \n",
       "Q8MII5   Sugar transport  right_only   \n",
       "Q6V7K3   Sugar transport  right_only   \n",
       "\n",
       "                                                                                                                                                                protein_names  \\\n",
       "Uniprot                                                                                                                                                                         \n",
       "P78383   Solute carrier family 35 member B1 (ATP/ADP exchanger ER) (AXER) (Endoplasmic reticulum ATP/ADP translocase) (UDP-galactose transporter-related protein 1) (UGTrel1)   \n",
       "P97858   Solute carrier family 35 member B1 (ATP/ADP exchanger ER) (AXER) (Endoplasmic reticulum ATP/ADP translocase) (UDP-galactose transporter-related protein 1) (UGTrel1)   \n",
       "Q8MII5   Solute carrier family 35 member B1 (ATP/ADP exchanger ER) (AXER) (Endoplasmic reticulum ATP/ADP translocase) (UDP-galactose transporter-related protein 1) (UGTrel1)   \n",
       "Q6V7K3   Solute carrier family 35 member B1 (ATP/ADP exchanger ER) (AXER) (Endoplasmic reticulum ATP/ADP translocase) (UDP-galactose transporter-related protein 1) (UGTrel1)   \n",
       "\n",
       "         organism_id  \n",
       "Uniprot               \n",
       "P78383          9606  \n",
       "P97858         10090  \n",
       "Q8MII5          9913  \n",
       "Q6V7K3         10116  "
      ]
     },
     "execution_count": 118,
     "metadata": {},
     "output_type": "execute_result"
    }
   ],
   "source": [
    "import pandas as pd\n",
    "\n",
    "pd.set_option(\"max_colwidth\", 200)\n",
    "df_substrates_merged_deleted_sugar = df_substrates_merged[\n",
    "    (df_substrates_merged._merge == \"right_only\")\n",
    "    & (df_substrates_merged.keyword == \"Sugar transport\")\n",
    "]\n",
    "print(\"manuscript 1:\")\n",
    "display(\n",
    "    df_substrates_merged_deleted_sugar.set_index(\"Uniprot\", drop=True).join(\n",
    "        df_swissprot_manuscript1[[\"protein_names\", \"organism_id\"]], how=\"left\"\n",
    "    )\n",
    ")\n",
    "print(\"manuscript 2:\")\n",
    "df_substrates_merged_deleted_sugar.set_index(\"Uniprot\", drop=True).join(\n",
    "    df_swissprot_new[[\"protein_names\", \"organism_id\"]], how=\"left\"\n",
    ")\n"
   ]
  },
  {
   "cell_type": "markdown",
   "metadata": {},
   "source": [
    "They are all annotated with \"transmembrane\" and \"transport\", so they were in our dataset, at least the human protein. We did actually have troubles with some UDP-galactose transporters in the human dataset and removed some of them as outliers, so this could be why."
   ]
  },
  {
   "cell_type": "code",
   "execution_count": 119,
   "metadata": {},
   "outputs": [
    {
     "data": {
      "text/html": [
       "<div>\n",
       "<style scoped>\n",
       "    .dataframe tbody tr th:only-of-type {\n",
       "        vertical-align: middle;\n",
       "    }\n",
       "\n",
       "    .dataframe tbody tr th {\n",
       "        vertical-align: top;\n",
       "    }\n",
       "\n",
       "    .dataframe thead th {\n",
       "        text-align: right;\n",
       "    }\n",
       "</style>\n",
       "<table border=\"1\" class=\"dataframe\">\n",
       "  <thead>\n",
       "    <tr style=\"text-align: right;\">\n",
       "      <th></th>\n",
       "      <th>Uniprot</th>\n",
       "      <th>keyword</th>\n",
       "    </tr>\n",
       "  </thead>\n",
       "  <tbody>\n",
       "    <tr>\n",
       "      <th>163478</th>\n",
       "      <td>P78383</td>\n",
       "      <td>Transmembrane</td>\n",
       "    </tr>\n",
       "    <tr>\n",
       "      <th>163480</th>\n",
       "      <td>P78383</td>\n",
       "      <td>Transport</td>\n",
       "    </tr>\n",
       "    <tr>\n",
       "      <th>163512</th>\n",
       "      <td>P97858</td>\n",
       "      <td>Transmembrane</td>\n",
       "    </tr>\n",
       "    <tr>\n",
       "      <th>163514</th>\n",
       "      <td>P97858</td>\n",
       "      <td>Transport</td>\n",
       "    </tr>\n",
       "    <tr>\n",
       "      <th>178693</th>\n",
       "      <td>Q8MII5</td>\n",
       "      <td>Transmembrane</td>\n",
       "    </tr>\n",
       "    <tr>\n",
       "      <th>178695</th>\n",
       "      <td>Q8MII5</td>\n",
       "      <td>Transport</td>\n",
       "    </tr>\n",
       "    <tr>\n",
       "      <th>398963</th>\n",
       "      <td>Q6V7K3</td>\n",
       "      <td>Transmembrane</td>\n",
       "    </tr>\n",
       "    <tr>\n",
       "      <th>398965</th>\n",
       "      <td>Q6V7K3</td>\n",
       "      <td>Transport</td>\n",
       "    </tr>\n",
       "  </tbody>\n",
       "</table>\n",
       "</div>"
      ],
      "text/plain": [
       "       Uniprot        keyword\n",
       "163478  P78383  Transmembrane\n",
       "163480  P78383      Transport\n",
       "163512  P97858  Transmembrane\n",
       "163514  P97858      Transport\n",
       "178693  Q8MII5  Transmembrane\n",
       "178695  Q8MII5      Transport\n",
       "398963  Q6V7K3  Transmembrane\n",
       "398965  Q6V7K3      Transport"
      ]
     },
     "execution_count": 119,
     "metadata": {},
     "output_type": "execute_result"
    }
   ],
   "source": [
    "tmp = df_keywords_m1[\n",
    "    df_keywords_m1.Uniprot.isin(df_substrates_merged_deleted_sugar.Uniprot)\n",
    "]\n",
    "tmp[tmp.keyword.isin([\"Transport\", \"Transmembrane\"])]\n"
   ]
  },
  {
   "cell_type": "markdown",
   "metadata": {},
   "source": [
    "### Added annotations\n",
    "\n",
    "Substrate annotations that were added in the last year:\n",
    "\n",
    "- There are many new lipid transporter annotations, as well as ion and protein."
   ]
  },
  {
   "cell_type": "code",
   "execution_count": 120,
   "metadata": {},
   "outputs": [
    {
     "name": "stdout",
     "output_type": "stream",
     "text": [
      "511\n"
     ]
    },
    {
     "data": {
      "text/plain": [
       "Lipid transport           213\n",
       "Ion transport              68\n",
       "Protein transport          45\n",
       "Electron transport         33\n",
       "Hydrogen ion transport     23\n",
       "Amino-acid transport       19\n",
       "Sodium transport           18\n",
       "Chloride                   16\n",
       "Phosphate transport        16\n",
       "Potassium transport        16\n",
       "mRNA transport             11\n",
       "Sugar transport             9\n",
       "Iron transport              7\n",
       "Zinc transport              4\n",
       "Translocation               3\n",
       "Calcium transport           3\n",
       "Viral movement protein      2\n",
       "Peptide transport           2\n",
       "Anion exchange              2\n",
       "Cobalt transport            1\n",
       "Name: keyword, dtype: int64"
      ]
     },
     "execution_count": 120,
     "metadata": {},
     "output_type": "execute_result"
    }
   ],
   "source": [
    "df_substrates_new = df_substrates_merged[df_substrates_merged._merge == \"left_only\"]\n",
    "print(len(df_substrates_new))\n",
    "df_substrates_new.keyword.value_counts()\n"
   ]
  },
  {
   "cell_type": "markdown",
   "metadata": {},
   "source": [
    "#### How many of them are transmembrane transporters?\n",
    "\n",
    "We did not yet filter by transmembrane transport, and did not perform any clustering. How does this change the additional data?"
   ]
  },
  {
   "cell_type": "code",
   "execution_count": 121,
   "metadata": {},
   "outputs": [
    {
     "data": {
      "text/plain": [
       "Lipid transport           172\n",
       "Ion transport              44\n",
       "Phosphate transport        16\n",
       "Potassium transport        16\n",
       "Chloride                   15\n",
       "Protein transport          15\n",
       "Amino-acid transport       14\n",
       "Sodium transport           13\n",
       "Hydrogen ion transport     13\n",
       "Electron transport          7\n",
       "Sugar transport             5\n",
       "Zinc transport              4\n",
       "Anion exchange              2\n",
       "Calcium transport           2\n",
       "Cobalt transport            1\n",
       "Iron transport              1\n",
       "Translocation               1\n",
       "Name: keyword, dtype: int64"
      ]
     },
     "metadata": {},
     "output_type": "display_data"
    },
    {
     "name": "stdout",
     "output_type": "stream",
     "text": [
      "341\n"
     ]
    }
   ],
   "source": [
    "keyword_matches = (\n",
    "    df_keywords_m2[df_keywords_m2.keyword.isin([\"Transport\", \"Transmembrane\"])]\n",
    "    .groupby(\"Uniprot\")\n",
    "    .apply(len)\n",
    ")\n",
    "transmembrane_transport = set(\n",
    "    keyword_matches[keyword_matches == len([\"Transport\", \"Transmembrane\"])]\n",
    "    .index.unique()\n",
    "    .values\n",
    ")\n",
    "df_substrates_new_transmembrane_transport = df_substrates_new[\n",
    "    df_substrates_new.Uniprot.isin(transmembrane_transport)\n",
    "]\n",
    "display(df_substrates_new_transmembrane_transport.keyword.value_counts())\n",
    "print(len(df_substrates_new_transmembrane_transport))\n"
   ]
  },
  {
   "cell_type": "markdown",
   "metadata": {},
   "source": [
    "So, there are 341 new annotations for transmembrane transporters before clustering. How do they distribute among the organisms?\n",
    "\n",
    "- Most were added in human, followed by mouse and rat. This could make these organisms suitable for ion transporter training sets."
   ]
  },
  {
   "cell_type": "code",
   "execution_count": 122,
   "metadata": {},
   "outputs": [
    {
     "name": "stdout",
     "output_type": "stream",
     "text": [
      "Homo sapiens (Human)                                                                                           57\n",
      "Mus musculus (Mouse)                                                                                           56\n",
      "Rattus norvegicus (Rat)                                                                                        38\n",
      "Bos taurus (Bovine)                                                                                            19\n",
      "Caenorhabditis elegans                                                                                         19\n",
      "                                                                                                               ..\n",
      "Toxoplasma gondii                                                                                               1\n",
      "Plasmodium berghei (strain Anka)                                                                                1\n",
      "Escherichia coli O6:H1 (strain CFT073 / ATCC 700928 / UPEC)                                                     1\n",
      "Leucoraja erinacea (Little skate) (Raja erinacea)                                                               1\n",
      "Starkeya novella (strain ATCC 8093 / DSM 506 / JCM 20403 / CCM 1077 / IAM 12100 / NBRC 12443 / NCIMB 10456)     1\n",
      "Name: organism, Length: 61, dtype: int64\n"
     ]
    }
   ],
   "source": [
    "df_organisms_new = df_swissprot_new[[\"organism_id\", \"organism\"]].reset_index(drop=False)\n",
    "# df_substrates_new_transmembrane_transport.merge\n",
    "# df_swissprot_new\n",
    "df_substrates_new_transmembrane_transport = (\n",
    "    df_substrates_new_transmembrane_transport.merge(\n",
    "        df_organisms_new, how=\"left\", on=\"Uniprot\"\n",
    "    )\n",
    ")\n",
    "print(df_substrates_new_transmembrane_transport.organism.value_counts())\n"
   ]
  },
  {
   "cell_type": "markdown",
   "metadata": {},
   "source": [
    "Filtering out invalid proteins:\n",
    "\n",
    "How many proteins are in our filtered dataset, where only proteins with experimental evidence and valid sequences are allowed?\n",
    "\n",
    "- Now we have 282 proteins left. \n",
    "- This is also because proteins often have multiple substrate annotations."
   ]
  },
  {
   "cell_type": "code",
   "execution_count": 123,
   "metadata": {},
   "outputs": [
    {
     "data": {
      "text/html": [
       "<div>\n",
       "<style scoped>\n",
       "    .dataframe tbody tr th:only-of-type {\n",
       "        vertical-align: middle;\n",
       "    }\n",
       "\n",
       "    .dataframe tbody tr th {\n",
       "        vertical-align: top;\n",
       "    }\n",
       "\n",
       "    .dataframe thead th {\n",
       "        text-align: right;\n",
       "    }\n",
       "</style>\n",
       "<table border=\"1\" class=\"dataframe\">\n",
       "  <thead>\n",
       "    <tr style=\"text-align: right;\">\n",
       "      <th></th>\n",
       "      <th>Uniprot</th>\n",
       "      <th>sequence</th>\n",
       "    </tr>\n",
       "  </thead>\n",
       "  <tbody>\n",
       "    <tr>\n",
       "      <th>82</th>\n",
       "      <td>A0A0G2K1Q8</td>\n",
       "      <td>MVVLRQLRLLLWKNYTLKKRKVLVTVLELFLPLLFSGILIWLRLKIQSENVPNATVYPDQHIQELPLFFSFPPPGGSWELAYVPSHSDAARTITEAVRREFMIKMRVHGFSSEKDFEDYVRYDNHSSNVLAAVVFEHTFNHSKDPLPLAVRYHLRFSYTRRNYMWTQTGNLFLKETEGWHTASLFPLFPSPGPREP...</td>\n",
       "    </tr>\n",
       "    <tr>\n",
       "      <th>153</th>\n",
       "      <td>A0A0U1QT59</td>\n",
       "      <td>MQNDEEPAAAAGTSGLSNGESLRSPPAPAPRRPKPGILRLDIGKPRRSSGGSVDFRCVGSSSSNGNTSNVATGANSENNSGVTSPHQLSVTWAPPCDLDRGGWQMQSSADAKREFYKGQRGRRAASQEDHRSYELNDFPLQNQSSDAESCHQEPHFAHQRSPGIGFDEDGGGGDIDDEESYTISVSAIMQRRASVR...</td>\n",
       "    </tr>\n",
       "    <tr>\n",
       "      <th>341</th>\n",
       "      <td>A0JNM1</td>\n",
       "      <td>MNYSEKLTGAPPMTEVPLELLEEMLWFFRVEDATPWNCSMFVLAALVAIISFILLGRNIQANRNQKKLPPEKQTPEVLYLAEGGNKDDKNLTSLTETLLSEKPTLAQGEMEAKCSDVPRVHLPDPQEPES</td>\n",
       "    </tr>\n",
       "    <tr>\n",
       "      <th>610</th>\n",
       "      <td>A2AVZ9</td>\n",
       "      <td>MASKGLPLYLATLLTGLLECIGFAGVLFGWTSLLFVFKAENYFSEPCEQDCLLQSNVTGPSDLKAQDEKFSLIFTLASFMNNFMTFPTGYIFDRFKTTVARLIAIFFYTCATIIIAFTSANTAMLLFLAMPMLAVGGILFLITNLQIGNLFGKHRSTIITLYNGAFDSSSAVFLVIKLLYEQGISLRSSFIFMSVC...</td>\n",
       "    </tr>\n",
       "    <tr>\n",
       "      <th>749</th>\n",
       "      <td>A4FV52</td>\n",
       "      <td>MEFRQEEFRKLAGRALGKLHRLLEKRQEGAETLELSADGRPVTTQTRDPPVVDCTCFGLPRRYIIAIMSGLGFCISFGIRCNLGVAIVSMVNNSTTHRGGHVVMQKAQFNWDPETVGLIHGSFFWGYIVTQIPGGFICQKFAANRVFGFAIVATSTLNMLIPSAARVHYGCVIFVRILQGLVEGVTYPACHGIWSK...</td>\n",
       "    </tr>\n",
       "    <tr>\n",
       "      <th>...</th>\n",
       "      <td>...</td>\n",
       "      <td>...</td>\n",
       "    </tr>\n",
       "    <tr>\n",
       "      <th>121783</th>\n",
       "      <td>A3M137</td>\n",
       "      <td>MAAEEHALTSTEYIKHHLTNMTYGKMPDGTWKLAETAEEAHSMGFTAIHLDSMGWSIGLGVIFCLLFWIVARAANAGVPTKFQSAIEMIIEFVDSSVRDTFHGKSRLIAPLALTIFVWIFLMNLMDLIPVDWIPQVAAFVGANVFGMDPHHVYFKIVPSTDPNITLGMSLSVFVLILFYSIREKGVGGFVGELALN...</td>\n",
       "    </tr>\n",
       "    <tr>\n",
       "      <th>126412</th>\n",
       "      <td>P30144</td>\n",
       "      <td>MLGGAVWFPYVLLGVGLFFTIYLKFPQIRYFKHACQVVSGKFDKKDTEGDTTHFQALATALSGTVGTGNIGGVALAISIGGPAALFWMWMTAFFGMTTKFVEVTLSHKYREKTEDGTMSGGPMYYMDKRLNMKWLAILFAVATVISSFGTGSLPQINNIAQGMEATFGFAPMATGAVLSILLALVILGGIKRIAAI...</td>\n",
       "    </tr>\n",
       "    <tr>\n",
       "      <th>131439</th>\n",
       "      <td>Q3SWT5</td>\n",
       "      <td>MVVTQLSLEFRFQGKKLRGFSCELTRSPHGVLPESVLSTTCQVAIPILLSGLGMMTAGLVMNTVQHWPVFRDVKDLLTLVPPLVGLKGNLEMTLASRLSTSANTGQIDDRQERYRIISSNLAVVQVQATVVGLLAAVASLMLGTVSHEEFDWAKVALLCTSSVITAFLAALALGILMICIVIGARKFGVNPDNIAT...</td>\n",
       "    </tr>\n",
       "    <tr>\n",
       "      <th>132517</th>\n",
       "      <td>Q56036</td>\n",
       "      <td>MSALNKKSFLTWLKEGGIYVVLLVLLAIIIFQDPTFLSLLNLSNILTQSSVRIIIALGVAGLIVTQGTDLSAGRQVGLAAVVAATLLQSMENANKVFPEMATMPIALVILIVCAIGAVIGLVNGIIIAYLNVTPFITTLGTMIIVYGINSLYYDFVGASPISGFDSGFSTFAQGFVAMGSFRLSYITFYALIAVAF...</td>\n",
       "    </tr>\n",
       "    <tr>\n",
       "      <th>138860</th>\n",
       "      <td>Q8ZRZ3</td>\n",
       "      <td>MKHLHRFFSSDASGGIILIIAAALAMLMANMGATSGWYHDFLETPVQLRVGALEINKNMLLWINDALMAVFFLLIGLEVKRELMQGSLASLRQAAFPVIAAIGGMIVPALLYLAFNYSDPVTREGWAIPAATDIAFALGVLALLGSRVPLALKIFLMALAIIDDLGAIVIIALFYTSDLSIVSLGVAAFAIAVLAL...</td>\n",
       "    </tr>\n",
       "  </tbody>\n",
       "</table>\n",
       "<p>282 rows × 2 columns</p>\n",
       "</div>"
      ],
      "text/plain": [
       "           Uniprot  \\\n",
       "82      A0A0G2K1Q8   \n",
       "153     A0A0U1QT59   \n",
       "341         A0JNM1   \n",
       "610         A2AVZ9   \n",
       "749         A4FV52   \n",
       "...            ...   \n",
       "121783      A3M137   \n",
       "126412      P30144   \n",
       "131439      Q3SWT5   \n",
       "132517      Q56036   \n",
       "138860      Q8ZRZ3   \n",
       "\n",
       "                                                                                                                                                                                                       sequence  \n",
       "82      MVVLRQLRLLLWKNYTLKKRKVLVTVLELFLPLLFSGILIWLRLKIQSENVPNATVYPDQHIQELPLFFSFPPPGGSWELAYVPSHSDAARTITEAVRREFMIKMRVHGFSSEKDFEDYVRYDNHSSNVLAAVVFEHTFNHSKDPLPLAVRYHLRFSYTRRNYMWTQTGNLFLKETEGWHTASLFPLFPSPGPREP...  \n",
       "153     MQNDEEPAAAAGTSGLSNGESLRSPPAPAPRRPKPGILRLDIGKPRRSSGGSVDFRCVGSSSSNGNTSNVATGANSENNSGVTSPHQLSVTWAPPCDLDRGGWQMQSSADAKREFYKGQRGRRAASQEDHRSYELNDFPLQNQSSDAESCHQEPHFAHQRSPGIGFDEDGGGGDIDDEESYTISVSAIMQRRASVR...  \n",
       "341                                                                          MNYSEKLTGAPPMTEVPLELLEEMLWFFRVEDATPWNCSMFVLAALVAIISFILLGRNIQANRNQKKLPPEKQTPEVLYLAEGGNKDDKNLTSLTETLLSEKPTLAQGEMEAKCSDVPRVHLPDPQEPES  \n",
       "610     MASKGLPLYLATLLTGLLECIGFAGVLFGWTSLLFVFKAENYFSEPCEQDCLLQSNVTGPSDLKAQDEKFSLIFTLASFMNNFMTFPTGYIFDRFKTTVARLIAIFFYTCATIIIAFTSANTAMLLFLAMPMLAVGGILFLITNLQIGNLFGKHRSTIITLYNGAFDSSSAVFLVIKLLYEQGISLRSSFIFMSVC...  \n",
       "749     MEFRQEEFRKLAGRALGKLHRLLEKRQEGAETLELSADGRPVTTQTRDPPVVDCTCFGLPRRYIIAIMSGLGFCISFGIRCNLGVAIVSMVNNSTTHRGGHVVMQKAQFNWDPETVGLIHGSFFWGYIVTQIPGGFICQKFAANRVFGFAIVATSTLNMLIPSAARVHYGCVIFVRILQGLVEGVTYPACHGIWSK...  \n",
       "...                                                                                                                                                                                                         ...  \n",
       "121783  MAAEEHALTSTEYIKHHLTNMTYGKMPDGTWKLAETAEEAHSMGFTAIHLDSMGWSIGLGVIFCLLFWIVARAANAGVPTKFQSAIEMIIEFVDSSVRDTFHGKSRLIAPLALTIFVWIFLMNLMDLIPVDWIPQVAAFVGANVFGMDPHHVYFKIVPSTDPNITLGMSLSVFVLILFYSIREKGVGGFVGELALN...  \n",
       "126412  MLGGAVWFPYVLLGVGLFFTIYLKFPQIRYFKHACQVVSGKFDKKDTEGDTTHFQALATALSGTVGTGNIGGVALAISIGGPAALFWMWMTAFFGMTTKFVEVTLSHKYREKTEDGTMSGGPMYYMDKRLNMKWLAILFAVATVISSFGTGSLPQINNIAQGMEATFGFAPMATGAVLSILLALVILGGIKRIAAI...  \n",
       "131439  MVVTQLSLEFRFQGKKLRGFSCELTRSPHGVLPESVLSTTCQVAIPILLSGLGMMTAGLVMNTVQHWPVFRDVKDLLTLVPPLVGLKGNLEMTLASRLSTSANTGQIDDRQERYRIISSNLAVVQVQATVVGLLAAVASLMLGTVSHEEFDWAKVALLCTSSVITAFLAALALGILMICIVIGARKFGVNPDNIAT...  \n",
       "132517  MSALNKKSFLTWLKEGGIYVVLLVLLAIIIFQDPTFLSLLNLSNILTQSSVRIIIALGVAGLIVTQGTDLSAGRQVGLAAVVAATLLQSMENANKVFPEMATMPIALVILIVCAIGAVIGLVNGIIIAYLNVTPFITTLGTMIIVYGINSLYYDFVGASPISGFDSGFSTFAQGFVAMGSFRLSYITFYALIAVAF...  \n",
       "138860  MKHLHRFFSSDASGGIILIIAAALAMLMANMGATSGWYHDFLETPVQLRVGALEINKNMLLWINDALMAVFFLLIGLEVKRELMQGSLASLRQAAFPVIAAIGGMIVPALLYLAFNYSDPVTREGWAIPAATDIAFALGVLALLGSRVPLALKIFLMALAIIDDLGAIVIIALFYTSDLSIVSLGVAAFAIAVLAL...  \n",
       "\n",
       "[282 rows x 2 columns]"
      ]
     },
     "execution_count": 123,
     "metadata": {},
     "output_type": "execute_result"
    }
   ],
   "source": [
    "df_swissprot_new_sequence_only = df_swissprot_new[[\"sequence\"]].reset_index(drop=False)\n",
    "tmp = df_swissprot_new_sequence_only[\n",
    "    df_swissprot_new_sequence_only.Uniprot.isin(\n",
    "        df_substrates_new_transmembrane_transport.Uniprot\n",
    "    )\n",
    "]\n",
    "tmp\n"
   ]
  },
  {
   "cell_type": "markdown",
   "metadata": {},
   "source": [
    "How many are left after clustering?\n",
    "\n",
    "- After clustering, we have 142 transporters with new annotations"
   ]
  },
  {
   "cell_type": "code",
   "execution_count": 124,
   "metadata": {},
   "outputs": [
    {
     "name": "stdout",
     "output_type": "stream",
     "text": [
      "cd-hit: clustered 282 sequences into 142 clusters at threshold 70\n",
      "142\n"
     ]
    }
   ],
   "source": [
    "from subpred.cdhit import cd_hit\n",
    "\n",
    "valid_transporters_cluster_representatives = cd_hit(\n",
    "    tmp.set_index(\"Uniprot\").sequence, identity_threshold=70\n",
    ")\n",
    "print(len(valid_transporters_cluster_representatives))\n"
   ]
  },
  {
   "cell_type": "markdown",
   "metadata": {},
   "source": [
    "These 142 proteins have 217 substrate annotations:\n",
    "\n",
    "- Lipid is still the largest class in terms of gains, followed by Ion, Sodium and Amino-acid.\n"
   ]
  },
  {
   "cell_type": "code",
   "execution_count": 125,
   "metadata": {},
   "outputs": [
    {
     "data": {
      "text/plain": [
       "Lipid transport               64\n",
       "Ion transport                 57\n",
       "Sodium transport              24\n",
       "Amino-acid transport          14\n",
       "Hydrogen ion transport        11\n",
       "Potassium transport           11\n",
       "Protein transport             10\n",
       "Electron transport             6\n",
       "Zinc transport                 4\n",
       "Sugar transport                4\n",
       "Iron transport                 2\n",
       "Anion exchange                 2\n",
       "Phosphate transport            2\n",
       "Calcium transport              2\n",
       "Cobalt transport               1\n",
       "Chloride                       1\n",
       "Neurotransmitter transport     1\n",
       "Translocation                  1\n",
       "Name: keyword, dtype: int64"
      ]
     },
     "execution_count": 125,
     "metadata": {},
     "output_type": "execute_result"
    }
   ],
   "source": [
    "df_substrates_m2[\n",
    "    df_substrates_m2.Uniprot.isin(valid_transporters_cluster_representatives)\n",
    "]\n",
    "df_substrates_m2[\n",
    "    df_substrates_m2.Uniprot.isin(valid_transporters_cluster_representatives)\n",
    "].keyword.value_counts()"
   ]
  },
  {
   "cell_type": "markdown",
   "metadata": {},
   "source": [
    "We can't give any statistics on the organism distribution of these final proteins, since the cluster representative for a protein family is selected by cd-hit, based on deterministic criteria such as sequence length."
   ]
  },
  {
   "cell_type": "markdown",
   "metadata": {},
   "source": [
    "## Changes to transport-related keywords"
   ]
  },
  {
   "cell_type": "markdown",
   "metadata": {},
   "source": [
    "## Changes to cellular components"
   ]
  },
  {
   "cell_type": "markdown",
   "metadata": {},
   "source": [
    "## Effects on the actual dataset"
   ]
  },
  {
   "cell_type": "markdown",
   "metadata": {},
   "source": [
    "## Realistic test\n",
    "\n",
    "- Clustering is performed to only keep distinct protein sequences\n",
    "- Filter for organism\n",
    "- Filter for ..."
   ]
  }
 ],
 "metadata": {
  "kernelspec": {
   "display_name": "Python 3.10.8 ('subpred4')",
   "language": "python",
   "name": "python3"
  },
  "language_info": {
   "codemirror_mode": {
    "name": "ipython",
    "version": 3
   },
   "file_extension": ".py",
   "mimetype": "text/x-python",
   "name": "python",
   "nbconvert_exporter": "python",
   "pygments_lexer": "ipython3",
   "version": "3.10.8"
  },
  "orig_nbformat": 4,
  "vscode": {
   "interpreter": {
    "hash": "ec8de6dd8f2d395005c42468f5d13cdd089376f2ad37eab4b2481f4d8703f0b2"
   }
  }
 },
 "nbformat": 4,
 "nbformat_minor": 2
}
