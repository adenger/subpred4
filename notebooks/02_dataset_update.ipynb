{
 "cells": [
  {
   "attachments": {},
   "cell_type": "markdown",
   "metadata": {},
   "source": [
    "In this notebook, we will compare the dataset from the first manuscript with the updated version. The old dataset used Swissprot 2021_04 with GO terms, the new one uses all of Uniprot 2022_05 (experimentally verified proteins only) with GO terms.\n",
    "\n",
    "What difference does the update make? How do the number compare in terms of keywords, and GO terms?"
   ]
  },
  {
   "cell_type": "code",
   "execution_count": null,
   "metadata": {},
   "outputs": [],
   "source": [
    "# Reading the new dataset\n",
    "\n"
   ]
  }
 ],
 "metadata": {
  "language_info": {
   "name": "python"
  },
  "orig_nbformat": 4
 },
 "nbformat": 4,
 "nbformat_minor": 2
}
