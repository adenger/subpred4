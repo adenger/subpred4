{
 "cells": [
  {
   "attachments": {},
   "cell_type": "markdown",
   "metadata": {},
   "source": [
    "# Dataset creation\n",
    "\n",
    "The input file for this notebook is a Uniprot custom download. Proteins with existence not verified at protein level or transcript level, as well as proteins with fragmented sequences, were removed during the dataset creation process.\n",
    "\n",
    "The Uniprot version used here is 2022_05.\n",
    "\n",
    "The result will be datasets of:\n",
    "\n",
    "- Sequences, along with information about manual review status and gene/protein names\n",
    "- Uniprot keywords\n",
    "- GO terms\n",
    "- TCDB data, including annotated CHEBI molecules\n",
    "- Interpro domains\n",
    "\n",
    "The data will be saved as pickled dataframes, which makes the reading much faster. We also tried other binary formats, such as feather, parquet, HDF, and gz/lzma-compressed pickles. The normal pickles led to the best tradeoff between reading speed and file size. "
   ]
  },
  {
   "cell_type": "markdown",
   "metadata": {},
   "source": [
    "## Download commands\n",
    "\n",
    "- Uncomment to re-download\n",
    "- Some links need to be updated to the most recent version for compatibility across the datasets"
   ]
  },
  {
   "cell_type": "code",
   "execution_count": 1,
   "metadata": {},
   "outputs": [],
   "source": [
    "# !curl \"http://current.geneontology.org/ontology/go.owl\" > \"../data/raw/ontologies/go.owl\"\n",
    "# !curl \"https://ftp.ebi.ac.uk/pub/databases/chebi/ontology/chebi.owl.gz\" | gunzip -c > ../data/raw/ontologies/chebi.owl\n",
    "# !curl \"https://tcdb.org/cgi-bin/substrates/getSubstrates.py\" > ../data/raw/tcdb/tcdb_substrates.tsv\n",
    "# !python3 ../subpred/uniprot_downloader.py \"https://rest.uniprot.org/uniprotkb/search?compressed=false&fields=accession%2Cgene_names%2Cprotein_name%2Creviewed%2Cprotein_existence%2Csequence%2Corganism_id%2Cgo_id%2Ckeywordid%2Ckeyword%2Cxref_tcdb%2Cxref_interpro&format=tsv&query=%28%28fragment%3Afalse%29%20AND%20%28existence%3A1%29%20OR%20%28existence%3A2%29%29&size=500\" \"../data/raw/uniprot/uniprot_2022_05_evidence1-2_nofragments.tsv\"\n",
    "# !wget https://ftp.ebi.ac.uk/pub/databases/GO/goa/UNIPROT/goa_uniprot_all.gaf.gz -O - | gunzip -c | awk 'BEGIN {OFS=\"\\t\";FS=\"\\t\"} ($1 == \"UniProtKB\") {print $2,$4,$5,$7,$9,$14}' | sort -u | xz -T0 > ../data/raw/gene_ontology/goa_uniprot_all_ebi_filtered.tsv.xz\n",
    "# # !curl \"https://ftp.ebi.ac.uk/pub/databases/interpro/current_release/entry.list\" > \"../data/raw/interpro/interpro_entries.tsv\"\n",
    "# !curl \"https://ftp.ebi.ac.uk/pub/databases/interpro/releases/90.0/entry.list\" > \"../data/raw/interpro/interpro_entries.tsv\"\n",
    "# !curl https://release.geneontology.org/2023-01-01/ontology/go.obo > ../data/raw/ontologies/go.obo\n",
    "# !curl https://ftp.ebi.ac.uk/pub/databases/chebi/ontology/chebi.obo.gz | gzip -d  > ../data/raw/ontologies/chebi.obo"
   ]
  },
  {
   "cell_type": "markdown",
   "metadata": {},
   "source": [
    "## Preprocessing\n",
    "\n",
    "- Basic cleanup on the raw text files\n",
    "- Saving as pickles for fast reading speeds"
   ]
  },
  {
   "cell_type": "code",
   "execution_count": 2,
   "metadata": {},
   "outputs": [],
   "source": [
    "OUTPUT_FOLDER = \"../data/datasets\""
   ]
  },
  {
   "cell_type": "code",
   "execution_count": 3,
   "metadata": {},
   "outputs": [],
   "source": [
    "import requests, sys\n",
    "import pandas as pd\n",
    "from subpred.util import save_df, load_df\n",
    "from subpred.cdhit import cd_hit\n",
    "import obonet\n",
    "import json\n"
   ]
  },
  {
   "cell_type": "code",
   "execution_count": 4,
   "metadata": {},
   "outputs": [],
   "source": [
    "\n",
    "names = [\n",
    "    \"Uniprot\",\n",
    "    \"gene_names\",\n",
    "    \"protein_names\",\n",
    "    \"reviewed\",\n",
    "    \"protein_existence\",\n",
    "    \"sequence\",\n",
    "    \"organism_id\",\n",
    "    \"go_ids\",\n",
    "    \"keyword_ids\",\n",
    "    \"keywords\",\n",
    "    \"tcdb_ids\",\n",
    "    \"interpro_ids\",\n",
    "]\n",
    "dtypes = {\n",
    "    \"Uniprot\": \"string\",\n",
    "    \"gene_names\": \"string\",\n",
    "    \"protein_names\": \"string\",\n",
    "    \"reviewed\": \"category\",\n",
    "    \"protein_existence\": \"category\",\n",
    "    \"sequence\": \"string\",\n",
    "    \"organism_id\": \"int\",\n",
    "    \"go_ids\": \"string\",\n",
    "    \"keyword_ids\": \"string\",\n",
    "    \"keywords\": \"string\",\n",
    "    \"tcdb_ids\": \"string\",\n",
    "    \"interpro_ids\": \"string\",\n",
    "}\n",
    "\n",
    "df = pd.read_table(\n",
    "    \"../data/raw/uniprot/uniprot_2022_05_evidence1-2_nofragments.tsv\",\n",
    "    index_col=0,\n",
    "    header=None,\n",
    "    names=names,\n",
    "    dtype=dtypes,\n",
    "    skiprows=1,\n",
    ")\n"
   ]
  },
  {
   "attachments": {},
   "cell_type": "markdown",
   "metadata": {},
   "source": [
    "## Cleanup"
   ]
  },
  {
   "cell_type": "code",
   "execution_count": 5,
   "metadata": {},
   "outputs": [
    {
     "name": "stdout",
     "output_type": "stream",
     "text": [
      "reviewed\n",
      "unreviewed    1530743\n",
      "reviewed       162964\n",
      "reviewed\n",
      "False    1530743\n",
      "True      162964\n"
     ]
    }
   ],
   "source": [
    "print(df.reviewed.value_counts().to_string())\n",
    "df.reviewed = df.reviewed.transform(lambda x: x == \"reviewed\").astype(\"bool\")\n",
    "print(df.reviewed.value_counts().to_string())"
   ]
  },
  {
   "cell_type": "code",
   "execution_count": 6,
   "metadata": {},
   "outputs": [
    {
     "name": "stdout",
     "output_type": "stream",
     "text": [
      "protein_existence\n",
      "Evidence at transcript level    1429578\n",
      "Evidence at protein level        264129\n",
      "protein_existence\n",
      "2    1429578\n",
      "1     264129\n"
     ]
    }
   ],
   "source": [
    "print(df.protein_existence.value_counts().to_string())\n",
    "df.protein_existence = df.protein_existence.map({\"Evidence at transcript level\":2,\"Evidence at protein level\":1}).astype(\"int\")\n",
    "print(df.protein_existence.value_counts().to_string())"
   ]
  },
  {
   "attachments": {},
   "cell_type": "markdown",
   "metadata": {},
   "source": [
    "### Filtering out proteins without gene names\n",
    "\n",
    "Apparently mostly peptides and pollen, no transporters"
   ]
  },
  {
   "cell_type": "code",
   "execution_count": 7,
   "metadata": {},
   "outputs": [],
   "source": [
    "# print(\"before\", len(df))\n",
    "# df = df[~df.gene_names.isnull()]\n",
    "# print(\"after\", len(df))"
   ]
  },
  {
   "attachments": {},
   "cell_type": "markdown",
   "metadata": {},
   "source": [
    "### Parsing sequences"
   ]
  },
  {
   "cell_type": "code",
   "execution_count": 8,
   "metadata": {},
   "outputs": [
    {
     "name": "stdout",
     "output_type": "stream",
     "text": [
      "proteins with non-standard amino acids:\n"
     ]
    },
    {
     "data": {
      "text/plain": [
       "45718"
      ]
     },
     "execution_count": 8,
     "metadata": {},
     "output_type": "execute_result"
    }
   ],
   "source": [
    "import re\n",
    "print(\"proteins with non-standard amino acids:\")\n",
    "df[~df.sequence.str.fullmatch(re.compile(\"[ACDEFGHIKLMNPQRSTVWY]+\"))].shape[0]"
   ]
  },
  {
   "cell_type": "markdown",
   "metadata": {},
   "source": [
    "Saving proteins to later check how many end up in our datasets:"
   ]
  },
  {
   "cell_type": "code",
   "execution_count": 17,
   "metadata": {},
   "outputs": [],
   "source": [
    "df[\n",
    "    ~df.sequence.str.fullmatch(re.compile(\"[ACDEFGHIKLMNPQRSTVWY]+\"))\n",
    "].index.to_frame().drop_duplicates().to_csv(\n",
    "    \"../data/datasets/proteins_nonstandard_codes.txt\", index=False, header=False\n",
    ")"
   ]
  },
  {
   "cell_type": "code",
   "execution_count": 11,
   "metadata": {},
   "outputs": [
    {
     "data": {
      "text/plain": [
       "(1693707, 11)"
      ]
     },
     "execution_count": 11,
     "metadata": {},
     "output_type": "execute_result"
    }
   ],
   "source": [
    "df.shape"
   ]
  },
  {
   "attachments": {},
   "cell_type": "markdown",
   "metadata": {},
   "source": [
    "Removing non-standard amino acids from sequences:"
   ]
  },
  {
   "cell_type": "code",
   "execution_count": 8,
   "metadata": {},
   "outputs": [],
   "source": [
    "df.sequence = df.sequence.str.replace(re.compile(\"[^ACDEFGHIKLMNPQRSTVWY]+\"), \"\", regex=True)"
   ]
  },
  {
   "cell_type": "code",
   "execution_count": 9,
   "metadata": {},
   "outputs": [
    {
     "name": "stdout",
     "output_type": "stream",
     "text": [
      "proteins with non-standard amino acids:\n"
     ]
    },
    {
     "data": {
      "text/plain": [
       "0"
      ]
     },
     "execution_count": 9,
     "metadata": {},
     "output_type": "execute_result"
    }
   ],
   "source": [
    "print(\"proteins with non-standard amino acids:\")\n",
    "df[~df.sequence.str.fullmatch(re.compile(\"[ACDEFGHIKLMNPQRSTVWY]+\"))].shape[0]"
   ]
  },
  {
   "attachments": {},
   "cell_type": "markdown",
   "metadata": {},
   "source": [
    "### Saving dataset"
   ]
  },
  {
   "cell_type": "code",
   "execution_count": 12,
   "metadata": {},
   "outputs": [],
   "source": [
    "df_sequences = df.drop(\n",
    "    [\"go_ids\", \"keyword_ids\", \"keywords\", \"tcdb_ids\", \"interpro_ids\"], axis=1\n",
    ")"
   ]
  },
  {
   "cell_type": "code",
   "execution_count": 13,
   "metadata": {},
   "outputs": [],
   "source": [
    "save_df(df=df_sequences, dataset_name=\"uniprot\", folder_path=OUTPUT_FOLDER)"
   ]
  },
  {
   "attachments": {},
   "cell_type": "markdown",
   "metadata": {},
   "source": [
    "### Clustering"
   ]
  },
  {
   "cell_type": "code",
   "execution_count": 14,
   "metadata": {},
   "outputs": [
    {
     "name": "stdout",
     "output_type": "stream",
     "text": [
      "cd-hit: clustered .......... sequences into finished clusters at threshold 70\n"
     ]
    }
   ],
   "source": [
    "cluster_representatives_70 = cd_hit(df_sequences.sequence, identity_threshold=70,n_threads=0, memory=8192)\n",
    "df_sequences_cdhit70 = df_sequences.loc[cluster_representatives_70]\n",
    "save_df(df=df_sequences_cdhit70, dataset_name=\"uniprot70\", folder_path=OUTPUT_FOLDER)"
   ]
  },
  {
   "cell_type": "code",
   "execution_count": 15,
   "metadata": {},
   "outputs": [
    {
     "name": "stdout",
     "output_type": "stream",
     "text": [
      "cd-hit: clustered .......... sequences into finished clusters at threshold 100\n"
     ]
    }
   ],
   "source": [
    "cluster_representatives_100 = cd_hit(df_sequences.sequence, identity_threshold=100,n_threads=0, memory=8192)\n",
    "df_sequences_cdhit100 = df_sequences.loc[cluster_representatives_100]\n",
    "save_df(df=df_sequences_cdhit100, dataset_name=\"uniprot100\", folder_path=OUTPUT_FOLDER)"
   ]
  },
  {
   "attachments": {},
   "cell_type": "markdown",
   "metadata": {},
   "source": [
    "## Annotation datasets"
   ]
  },
  {
   "attachments": {},
   "cell_type": "markdown",
   "metadata": {},
   "source": [
    "### Keywords"
   ]
  },
  {
   "cell_type": "code",
   "execution_count": 16,
   "metadata": {},
   "outputs": [
    {
     "data": {
      "text/html": [
       "<div>\n",
       "<style scoped>\n",
       "    .dataframe tbody tr th:only-of-type {\n",
       "        vertical-align: middle;\n",
       "    }\n",
       "\n",
       "    .dataframe tbody tr th {\n",
       "        vertical-align: top;\n",
       "    }\n",
       "\n",
       "    .dataframe thead th {\n",
       "        text-align: right;\n",
       "    }\n",
       "</style>\n",
       "<table border=\"1\" class=\"dataframe\">\n",
       "  <thead>\n",
       "    <tr style=\"text-align: right;\">\n",
       "      <th></th>\n",
       "      <th>Uniprot</th>\n",
       "      <th>keyword</th>\n",
       "    </tr>\n",
       "  </thead>\n",
       "  <tbody>\n",
       "    <tr>\n",
       "      <th>0</th>\n",
       "      <td>A0A0C5B5G6</td>\n",
       "      <td>DNA-binding</td>\n",
       "    </tr>\n",
       "    <tr>\n",
       "      <th>1</th>\n",
       "      <td>A0A0C5B5G6</td>\n",
       "      <td>Mitochondrion</td>\n",
       "    </tr>\n",
       "    <tr>\n",
       "      <th>2</th>\n",
       "      <td>A0A0C5B5G6</td>\n",
       "      <td>Nucleus</td>\n",
       "    </tr>\n",
       "    <tr>\n",
       "      <th>3</th>\n",
       "      <td>A0A0C5B5G6</td>\n",
       "      <td>Osteogenesis</td>\n",
       "    </tr>\n",
       "    <tr>\n",
       "      <th>4</th>\n",
       "      <td>A0A0C5B5G6</td>\n",
       "      <td>Reference proteome</td>\n",
       "    </tr>\n",
       "    <tr>\n",
       "      <th>...</th>\n",
       "      <td>...</td>\n",
       "      <td>...</td>\n",
       "    </tr>\n",
       "    <tr>\n",
       "      <th>7182749</th>\n",
       "      <td>X5MPI4</td>\n",
       "      <td>Hydrolase</td>\n",
       "    </tr>\n",
       "    <tr>\n",
       "      <th>7182750</th>\n",
       "      <td>X5MPI4</td>\n",
       "      <td>Protease</td>\n",
       "    </tr>\n",
       "    <tr>\n",
       "      <th>7182751</th>\n",
       "      <td>X5MPI4</td>\n",
       "      <td>Serine protease</td>\n",
       "    </tr>\n",
       "    <tr>\n",
       "      <th>7182752</th>\n",
       "      <td>X5MPI4</td>\n",
       "      <td>Signal</td>\n",
       "    </tr>\n",
       "    <tr>\n",
       "      <th>7182753</th>\n",
       "      <td>X5MPI5</td>\n",
       "      <td>Transferase</td>\n",
       "    </tr>\n",
       "  </tbody>\n",
       "</table>\n",
       "<p>7182754 rows × 2 columns</p>\n",
       "</div>"
      ],
      "text/plain": [
       "            Uniprot             keyword\n",
       "0        A0A0C5B5G6         DNA-binding\n",
       "1        A0A0C5B5G6       Mitochondrion\n",
       "2        A0A0C5B5G6             Nucleus\n",
       "3        A0A0C5B5G6        Osteogenesis\n",
       "4        A0A0C5B5G6  Reference proteome\n",
       "...             ...                 ...\n",
       "7182749      X5MPI4           Hydrolase\n",
       "7182750      X5MPI4            Protease\n",
       "7182751      X5MPI4     Serine protease\n",
       "7182752      X5MPI4              Signal\n",
       "7182753      X5MPI5         Transferase\n",
       "\n",
       "[7182754 rows x 2 columns]"
      ]
     },
     "execution_count": 16,
     "metadata": {},
     "output_type": "execute_result"
    }
   ],
   "source": [
    "df_keywords = (\n",
    "    df.keywords.dropna()\n",
    "    .str.split(\";\")\n",
    "    .explode()\n",
    "    .str.strip()\n",
    "    .astype(\"category\")\n",
    "    .rename(\"keyword\")\n",
    "    .to_frame()\n",
    "    .reset_index(drop=False)\n",
    "    .drop_duplicates()\n",
    ")\n",
    "df_keywords"
   ]
  },
  {
   "cell_type": "code",
   "execution_count": 17,
   "metadata": {},
   "outputs": [],
   "source": [
    "save_df(df=df_keywords, dataset_name=\"keywords\", folder_path=OUTPUT_FOLDER)"
   ]
  },
  {
   "attachments": {},
   "cell_type": "markdown",
   "metadata": {},
   "source": [
    "There are keyword ids as well, but their order does not match that of the keyword strings column:"
   ]
  },
  {
   "cell_type": "code",
   "execution_count": 18,
   "metadata": {},
   "outputs": [
    {
     "data": {
      "text/plain": [
       "Uniprot\n",
       "A0A0C5B5G6    KW-0238\n",
       "A0A0C5B5G6    KW-0496\n",
       "A0A0C5B5G6    KW-0539\n",
       "A0A0C5B5G6    KW-0892\n",
       "A0A0C5B5G6    KW-1185\n",
       "               ...   \n",
       "X5MPI4        KW-0378\n",
       "X5MPI4        KW-0645\n",
       "X5MPI4        KW-0720\n",
       "X5MPI4        KW-0732\n",
       "X5MPI5        KW-0808\n",
       "Name: keyword_ids, Length: 7456053, dtype: object"
      ]
     },
     "execution_count": 18,
     "metadata": {},
     "output_type": "execute_result"
    }
   ],
   "source": [
    "df.keyword_ids.str.split(\";\").explode().str.strip()"
   ]
  },
  {
   "attachments": {},
   "cell_type": "markdown",
   "metadata": {},
   "source": [
    "### Interpro Domains"
   ]
  },
  {
   "cell_type": "code",
   "execution_count": 19,
   "metadata": {},
   "outputs": [
    {
     "data": {
      "text/html": [
       "<div>\n",
       "<style scoped>\n",
       "    .dataframe tbody tr th:only-of-type {\n",
       "        vertical-align: middle;\n",
       "    }\n",
       "\n",
       "    .dataframe tbody tr th {\n",
       "        vertical-align: top;\n",
       "    }\n",
       "\n",
       "    .dataframe thead th {\n",
       "        text-align: right;\n",
       "    }\n",
       "</style>\n",
       "<table border=\"1\" class=\"dataframe\">\n",
       "  <thead>\n",
       "    <tr style=\"text-align: right;\">\n",
       "      <th></th>\n",
       "      <th>Uniprot</th>\n",
       "      <th>interpro_id</th>\n",
       "    </tr>\n",
       "  </thead>\n",
       "  <tbody>\n",
       "    <tr>\n",
       "      <th>0</th>\n",
       "      <td>A0A1B0GTW7</td>\n",
       "      <td>IPR001577</td>\n",
       "    </tr>\n",
       "    <tr>\n",
       "      <th>1</th>\n",
       "      <td>A0JNW5</td>\n",
       "      <td>IPR026728</td>\n",
       "    </tr>\n",
       "    <tr>\n",
       "      <th>2</th>\n",
       "      <td>A0JNW5</td>\n",
       "      <td>IPR026854</td>\n",
       "    </tr>\n",
       "    <tr>\n",
       "      <th>3</th>\n",
       "      <td>A0JP26</td>\n",
       "      <td>IPR002110</td>\n",
       "    </tr>\n",
       "    <tr>\n",
       "      <th>4</th>\n",
       "      <td>A0JP26</td>\n",
       "      <td>IPR036770</td>\n",
       "    </tr>\n",
       "    <tr>\n",
       "      <th>...</th>\n",
       "      <td>...</td>\n",
       "      <td>...</td>\n",
       "    </tr>\n",
       "    <tr>\n",
       "      <th>6251499</th>\n",
       "      <td>X5MPI4</td>\n",
       "      <td>IPR001254</td>\n",
       "    </tr>\n",
       "    <tr>\n",
       "      <th>6251500</th>\n",
       "      <td>X5MPI4</td>\n",
       "      <td>IPR018114</td>\n",
       "    </tr>\n",
       "    <tr>\n",
       "      <th>6251501</th>\n",
       "      <td>X5MPI4</td>\n",
       "      <td>IPR033116</td>\n",
       "    </tr>\n",
       "    <tr>\n",
       "      <th>6251502</th>\n",
       "      <td>X5MPI5</td>\n",
       "      <td>IPR008630</td>\n",
       "    </tr>\n",
       "    <tr>\n",
       "      <th>6251503</th>\n",
       "      <td>X5MPI5</td>\n",
       "      <td>IPR029044</td>\n",
       "    </tr>\n",
       "  </tbody>\n",
       "</table>\n",
       "<p>6251504 rows × 2 columns</p>\n",
       "</div>"
      ],
      "text/plain": [
       "            Uniprot interpro_id\n",
       "0        A0A1B0GTW7   IPR001577\n",
       "1            A0JNW5   IPR026728\n",
       "2            A0JNW5   IPR026854\n",
       "3            A0JP26   IPR002110\n",
       "4            A0JP26   IPR036770\n",
       "...             ...         ...\n",
       "6251499      X5MPI4   IPR001254\n",
       "6251500      X5MPI4   IPR018114\n",
       "6251501      X5MPI4   IPR033116\n",
       "6251502      X5MPI5   IPR008630\n",
       "6251503      X5MPI5   IPR029044\n",
       "\n",
       "[6251504 rows x 2 columns]"
      ]
     },
     "execution_count": 19,
     "metadata": {},
     "output_type": "execute_result"
    }
   ],
   "source": [
    "df_interpro = (\n",
    "    df.interpro_ids.dropna()\n",
    "    .str.rstrip(\";\")\n",
    "    .str.split(\";\")\n",
    "    .explode()\n",
    "    .rename(\"interpro_id\")\n",
    "    .to_frame()\n",
    "    .reset_index(drop=False)\n",
    "    .drop_duplicates()\n",
    ")\n",
    "df_interpro"
   ]
  },
  {
   "attachments": {},
   "cell_type": "markdown",
   "metadata": {},
   "source": [
    "#### Adding Names for Interpro domains"
   ]
  },
  {
   "cell_type": "code",
   "execution_count": 20,
   "metadata": {},
   "outputs": [
    {
     "data": {
      "text/html": [
       "<div>\n",
       "<style scoped>\n",
       "    .dataframe tbody tr th:only-of-type {\n",
       "        vertical-align: middle;\n",
       "    }\n",
       "\n",
       "    .dataframe tbody tr th {\n",
       "        vertical-align: top;\n",
       "    }\n",
       "\n",
       "    .dataframe thead th {\n",
       "        text-align: right;\n",
       "    }\n",
       "</style>\n",
       "<table border=\"1\" class=\"dataframe\">\n",
       "  <thead>\n",
       "    <tr style=\"text-align: right;\">\n",
       "      <th></th>\n",
       "      <th>type</th>\n",
       "      <th>name</th>\n",
       "    </tr>\n",
       "    <tr>\n",
       "      <th>accession</th>\n",
       "      <th></th>\n",
       "      <th></th>\n",
       "    </tr>\n",
       "  </thead>\n",
       "  <tbody>\n",
       "    <tr>\n",
       "      <th>IPR000126</th>\n",
       "      <td>Active_site</td>\n",
       "      <td>Serine proteases, V8 family, serine active site</td>\n",
       "    </tr>\n",
       "    <tr>\n",
       "      <th>IPR000138</th>\n",
       "      <td>Active_site</td>\n",
       "      <td>Hydroxymethylglutaryl-CoA lyase, active site</td>\n",
       "    </tr>\n",
       "    <tr>\n",
       "      <th>IPR000169</th>\n",
       "      <td>Active_site</td>\n",
       "      <td>Cysteine peptidase, cysteine active site</td>\n",
       "    </tr>\n",
       "    <tr>\n",
       "      <th>IPR000180</th>\n",
       "      <td>Active_site</td>\n",
       "      <td>Membrane dipeptidase, active site</td>\n",
       "    </tr>\n",
       "    <tr>\n",
       "      <th>IPR000189</th>\n",
       "      <td>Active_site</td>\n",
       "      <td>Prokaryotic transglycosylase, active site</td>\n",
       "    </tr>\n",
       "  </tbody>\n",
       "</table>\n",
       "</div>"
      ],
      "text/plain": [
       "                  type                                             name\n",
       "accession                                                              \n",
       "IPR000126  Active_site  Serine proteases, V8 family, serine active site\n",
       "IPR000138  Active_site     Hydroxymethylglutaryl-CoA lyase, active site\n",
       "IPR000169  Active_site         Cysteine peptidase, cysteine active site\n",
       "IPR000180  Active_site                Membrane dipeptidase, active site\n",
       "IPR000189  Active_site        Prokaryotic transglycosylase, active site"
      ]
     },
     "execution_count": 20,
     "metadata": {},
     "output_type": "execute_result"
    }
   ],
   "source": [
    "df_interpro_annotations = pd.read_table(\n",
    "    \"../data/raw/interpro/interpro_entries.tsv\",\n",
    "    names=[\"accession\", \"type\", \"name\"],\n",
    "    skiprows=1,\n",
    "    index_col=0,\n",
    "    dtype={\"accession\": str, \"type\": \"category\", \"name\": str},\n",
    ")\n",
    "df_interpro_annotations.head()"
   ]
  },
  {
   "attachments": {},
   "cell_type": "markdown",
   "metadata": {},
   "source": [
    "What are the entry types?\n",
    "\n",
    "https://www.ebi.ac.uk/training/online/courses/interpro-functional-and-structural-analysis/what-is-an-interpro-entry/interpro-entry-types/#:~:text=InterPro%20entries%20are%20classified%20into,of%20an%20InterPro%20entry%20page.\n",
    "\n",
    "InterPro entries are classified into one of five categories, depending on the biological entity they represent: homologous superfamily, protein family, domain, repeat or site."
   ]
  },
  {
   "cell_type": "code",
   "execution_count": 21,
   "metadata": {},
   "outputs": [
    {
     "data": {
      "text/plain": [
       "type\n",
       "Family                    23997\n",
       "Domain                    11954\n",
       "Homologous_superfamily     3399\n",
       "Conserved_site              696\n",
       "Repeat                      327\n",
       "Active_site                 132\n",
       "Binding_site                 75\n",
       "PTM                          17\n",
       "Name: count, dtype: int64"
      ]
     },
     "execution_count": 21,
     "metadata": {},
     "output_type": "execute_result"
    }
   ],
   "source": [
    "df_interpro_annotations.type.value_counts()"
   ]
  },
  {
   "attachments": {},
   "cell_type": "markdown",
   "metadata": {},
   "source": [
    "It seems that the textual data splits \"site\" into converved site, active site, binding site, and PTM. We can just keep all of them, since it will be obvious later which category a particular annotation belongs to."
   ]
  },
  {
   "cell_type": "code",
   "execution_count": 22,
   "metadata": {},
   "outputs": [
    {
     "data": {
      "text/html": [
       "<div>\n",
       "<style scoped>\n",
       "    .dataframe tbody tr th:only-of-type {\n",
       "        vertical-align: middle;\n",
       "    }\n",
       "\n",
       "    .dataframe tbody tr th {\n",
       "        vertical-align: top;\n",
       "    }\n",
       "\n",
       "    .dataframe thead th {\n",
       "        text-align: right;\n",
       "    }\n",
       "</style>\n",
       "<table border=\"1\" class=\"dataframe\">\n",
       "  <thead>\n",
       "    <tr style=\"text-align: right;\">\n",
       "      <th></th>\n",
       "      <th>type</th>\n",
       "      <th>name</th>\n",
       "    </tr>\n",
       "    <tr>\n",
       "      <th>accession</th>\n",
       "      <th></th>\n",
       "      <th></th>\n",
       "    </tr>\n",
       "  </thead>\n",
       "  <tbody>\n",
       "    <tr>\n",
       "      <th>IPR000152</th>\n",
       "      <td>PTM</td>\n",
       "      <td>EGF-type aspartate/asparagine hydroxylation site</td>\n",
       "    </tr>\n",
       "    <tr>\n",
       "      <th>IPR001020</th>\n",
       "      <td>PTM</td>\n",
       "      <td>Phosphotransferase system, HPr histidine phosp...</td>\n",
       "    </tr>\n",
       "    <tr>\n",
       "      <th>IPR002114</th>\n",
       "      <td>PTM</td>\n",
       "      <td>Phosphotransferase system, HPr serine phosphor...</td>\n",
       "    </tr>\n",
       "    <tr>\n",
       "      <th>IPR002332</th>\n",
       "      <td>PTM</td>\n",
       "      <td>Nitrogen regulatory protein P-II, urydylation ...</td>\n",
       "    </tr>\n",
       "    <tr>\n",
       "      <th>IPR004091</th>\n",
       "      <td>PTM</td>\n",
       "      <td>Chemotaxis methyl-accepting receptor, methyl-a...</td>\n",
       "    </tr>\n",
       "    <tr>\n",
       "      <th>IPR006141</th>\n",
       "      <td>PTM</td>\n",
       "      <td>Intein N-terminal splicing region</td>\n",
       "    </tr>\n",
       "    <tr>\n",
       "      <th>IPR006162</th>\n",
       "      <td>PTM</td>\n",
       "      <td>Phosphopantetheine attachment site</td>\n",
       "    </tr>\n",
       "    <tr>\n",
       "      <th>IPR012902</th>\n",
       "      <td>PTM</td>\n",
       "      <td>Prokaryotic N-terminal methylation site</td>\n",
       "    </tr>\n",
       "    <tr>\n",
       "      <th>IPR018051</th>\n",
       "      <td>PTM</td>\n",
       "      <td>Surfactant-associated polypeptide, palmitoylat...</td>\n",
       "    </tr>\n",
       "    <tr>\n",
       "      <th>IPR018070</th>\n",
       "      <td>PTM</td>\n",
       "      <td>Neuromedin U, amidation site</td>\n",
       "    </tr>\n",
       "    <tr>\n",
       "      <th>IPR018243</th>\n",
       "      <td>PTM</td>\n",
       "      <td>Neuromodulin, palmitoylation site</td>\n",
       "    </tr>\n",
       "    <tr>\n",
       "      <th>IPR018303</th>\n",
       "      <td>PTM</td>\n",
       "      <td>P-type ATPase, phosphorylation site</td>\n",
       "    </tr>\n",
       "    <tr>\n",
       "      <th>IPR019736</th>\n",
       "      <td>PTM</td>\n",
       "      <td>Synapsin, phosphorylation site</td>\n",
       "    </tr>\n",
       "    <tr>\n",
       "      <th>IPR019769</th>\n",
       "      <td>PTM</td>\n",
       "      <td>Translation elongation factor, IF5A, hypusine ...</td>\n",
       "    </tr>\n",
       "    <tr>\n",
       "      <th>IPR021020</th>\n",
       "      <td>PTM</td>\n",
       "      <td>Adhesin, Dr family, signal peptide</td>\n",
       "    </tr>\n",
       "    <tr>\n",
       "      <th>IPR029259</th>\n",
       "      <td>PTM</td>\n",
       "      <td>Rapamycin-insensitive companion of mTOR, phosp...</td>\n",
       "    </tr>\n",
       "    <tr>\n",
       "      <th>IPR033137</th>\n",
       "      <td>PTM</td>\n",
       "      <td>Neuromodulin, phosphorylation site</td>\n",
       "    </tr>\n",
       "  </tbody>\n",
       "</table>\n",
       "</div>"
      ],
      "text/plain": [
       "          type                                               name\n",
       "accession                                                        \n",
       "IPR000152  PTM   EGF-type aspartate/asparagine hydroxylation site\n",
       "IPR001020  PTM  Phosphotransferase system, HPr histidine phosp...\n",
       "IPR002114  PTM  Phosphotransferase system, HPr serine phosphor...\n",
       "IPR002332  PTM  Nitrogen regulatory protein P-II, urydylation ...\n",
       "IPR004091  PTM  Chemotaxis methyl-accepting receptor, methyl-a...\n",
       "IPR006141  PTM                  Intein N-terminal splicing region\n",
       "IPR006162  PTM                 Phosphopantetheine attachment site\n",
       "IPR012902  PTM            Prokaryotic N-terminal methylation site\n",
       "IPR018051  PTM  Surfactant-associated polypeptide, palmitoylat...\n",
       "IPR018070  PTM                       Neuromedin U, amidation site\n",
       "IPR018243  PTM                  Neuromodulin, palmitoylation site\n",
       "IPR018303  PTM                P-type ATPase, phosphorylation site\n",
       "IPR019736  PTM                     Synapsin, phosphorylation site\n",
       "IPR019769  PTM  Translation elongation factor, IF5A, hypusine ...\n",
       "IPR021020  PTM                 Adhesin, Dr family, signal peptide\n",
       "IPR029259  PTM  Rapamycin-insensitive companion of mTOR, phosp...\n",
       "IPR033137  PTM                 Neuromodulin, phosphorylation site"
      ]
     },
     "execution_count": 22,
     "metadata": {},
     "output_type": "execute_result"
    }
   ],
   "source": [
    "df_interpro_annotations[df_interpro_annotations.type == \"PTM\"]"
   ]
  },
  {
   "cell_type": "code",
   "execution_count": 23,
   "metadata": {},
   "outputs": [
    {
     "data": {
      "text/html": [
       "<div>\n",
       "<style scoped>\n",
       "    .dataframe tbody tr th:only-of-type {\n",
       "        vertical-align: middle;\n",
       "    }\n",
       "\n",
       "    .dataframe tbody tr th {\n",
       "        vertical-align: top;\n",
       "    }\n",
       "\n",
       "    .dataframe thead th {\n",
       "        text-align: right;\n",
       "    }\n",
       "</style>\n",
       "<table border=\"1\" class=\"dataframe\">\n",
       "  <thead>\n",
       "    <tr style=\"text-align: right;\">\n",
       "      <th></th>\n",
       "      <th>Uniprot</th>\n",
       "      <th>interpro_id</th>\n",
       "      <th>type</th>\n",
       "      <th>name</th>\n",
       "    </tr>\n",
       "  </thead>\n",
       "  <tbody>\n",
       "    <tr>\n",
       "      <th>0</th>\n",
       "      <td>A0A1B0GTW7</td>\n",
       "      <td>IPR001577</td>\n",
       "      <td>Family</td>\n",
       "      <td>Peptidase M8, leishmanolysin</td>\n",
       "    </tr>\n",
       "    <tr>\n",
       "      <th>1</th>\n",
       "      <td>A0JNW5</td>\n",
       "      <td>IPR026728</td>\n",
       "      <td>Family</td>\n",
       "      <td>UHRF1-binding protein 1-like</td>\n",
       "    </tr>\n",
       "    <tr>\n",
       "      <th>2</th>\n",
       "      <td>A0JNW5</td>\n",
       "      <td>IPR026854</td>\n",
       "      <td>Domain</td>\n",
       "      <td>Vacuolar protein sorting-associated protein 13...</td>\n",
       "    </tr>\n",
       "    <tr>\n",
       "      <th>3</th>\n",
       "      <td>A0JP26</td>\n",
       "      <td>IPR002110</td>\n",
       "      <td>Repeat</td>\n",
       "      <td>Ankyrin repeat</td>\n",
       "    </tr>\n",
       "    <tr>\n",
       "      <th>4</th>\n",
       "      <td>A0JP26</td>\n",
       "      <td>IPR036770</td>\n",
       "      <td>Homologous_superfamily</td>\n",
       "      <td>Ankyrin repeat-containing domain superfamily</td>\n",
       "    </tr>\n",
       "    <tr>\n",
       "      <th>...</th>\n",
       "      <td>...</td>\n",
       "      <td>...</td>\n",
       "      <td>...</td>\n",
       "      <td>...</td>\n",
       "    </tr>\n",
       "    <tr>\n",
       "      <th>6251499</th>\n",
       "      <td>X5MPI4</td>\n",
       "      <td>IPR001254</td>\n",
       "      <td>Domain</td>\n",
       "      <td>Serine proteases, trypsin domain</td>\n",
       "    </tr>\n",
       "    <tr>\n",
       "      <th>6251500</th>\n",
       "      <td>X5MPI4</td>\n",
       "      <td>IPR018114</td>\n",
       "      <td>Active_site</td>\n",
       "      <td>Serine proteases, trypsin family, histidine ac...</td>\n",
       "    </tr>\n",
       "    <tr>\n",
       "      <th>6251501</th>\n",
       "      <td>X5MPI4</td>\n",
       "      <td>IPR033116</td>\n",
       "      <td>Active_site</td>\n",
       "      <td>Serine proteases, trypsin family, serine activ...</td>\n",
       "    </tr>\n",
       "    <tr>\n",
       "      <th>6251502</th>\n",
       "      <td>X5MPI5</td>\n",
       "      <td>IPR008630</td>\n",
       "      <td>Family</td>\n",
       "      <td>Glycosyltransferase 34</td>\n",
       "    </tr>\n",
       "    <tr>\n",
       "      <th>6251503</th>\n",
       "      <td>X5MPI5</td>\n",
       "      <td>IPR029044</td>\n",
       "      <td>Homologous_superfamily</td>\n",
       "      <td>Nucleotide-diphospho-sugar transferases</td>\n",
       "    </tr>\n",
       "  </tbody>\n",
       "</table>\n",
       "<p>6251504 rows × 4 columns</p>\n",
       "</div>"
      ],
      "text/plain": [
       "            Uniprot interpro_id                    type  \\\n",
       "0        A0A1B0GTW7   IPR001577                  Family   \n",
       "1            A0JNW5   IPR026728                  Family   \n",
       "2            A0JNW5   IPR026854                  Domain   \n",
       "3            A0JP26   IPR002110                  Repeat   \n",
       "4            A0JP26   IPR036770  Homologous_superfamily   \n",
       "...             ...         ...                     ...   \n",
       "6251499      X5MPI4   IPR001254                  Domain   \n",
       "6251500      X5MPI4   IPR018114             Active_site   \n",
       "6251501      X5MPI4   IPR033116             Active_site   \n",
       "6251502      X5MPI5   IPR008630                  Family   \n",
       "6251503      X5MPI5   IPR029044  Homologous_superfamily   \n",
       "\n",
       "                                                      name  \n",
       "0                             Peptidase M8, leishmanolysin  \n",
       "1                             UHRF1-binding protein 1-like  \n",
       "2        Vacuolar protein sorting-associated protein 13...  \n",
       "3                                           Ankyrin repeat  \n",
       "4             Ankyrin repeat-containing domain superfamily  \n",
       "...                                                    ...  \n",
       "6251499                   Serine proteases, trypsin domain  \n",
       "6251500  Serine proteases, trypsin family, histidine ac...  \n",
       "6251501  Serine proteases, trypsin family, serine activ...  \n",
       "6251502                             Glycosyltransferase 34  \n",
       "6251503            Nucleotide-diphospho-sugar transferases  \n",
       "\n",
       "[6251504 rows x 4 columns]"
      ]
     },
     "execution_count": 23,
     "metadata": {},
     "output_type": "execute_result"
    }
   ],
   "source": [
    "df_interpro = df_interpro.merge(df_interpro_annotations, how=\"left\", left_on=\"interpro_id\", right_index=True)\n",
    "df_interpro"
   ]
  },
  {
   "attachments": {},
   "cell_type": "markdown",
   "metadata": {},
   "source": [
    "When using the current interpro file, there were 61901 annotations with no name in the file. When looking them up manually (i.e. https://www.ebi.ac.uk/interpro/entry/InterPro/IPR027181/), it turned out that all of them were non-active, removed entries. We switched to version 90, which is what our Uniprot dataset 2022_05 was linked with. Now, there are no more identifiers with missing names."
   ]
  },
  {
   "cell_type": "code",
   "execution_count": 24,
   "metadata": {},
   "outputs": [
    {
     "data": {
      "text/html": [
       "<div>\n",
       "<style scoped>\n",
       "    .dataframe tbody tr th:only-of-type {\n",
       "        vertical-align: middle;\n",
       "    }\n",
       "\n",
       "    .dataframe tbody tr th {\n",
       "        vertical-align: top;\n",
       "    }\n",
       "\n",
       "    .dataframe thead th {\n",
       "        text-align: right;\n",
       "    }\n",
       "</style>\n",
       "<table border=\"1\" class=\"dataframe\">\n",
       "  <thead>\n",
       "    <tr style=\"text-align: right;\">\n",
       "      <th></th>\n",
       "      <th>Uniprot</th>\n",
       "      <th>interpro_id</th>\n",
       "      <th>type</th>\n",
       "      <th>name</th>\n",
       "    </tr>\n",
       "  </thead>\n",
       "  <tbody>\n",
       "  </tbody>\n",
       "</table>\n",
       "</div>"
      ],
      "text/plain": [
       "Empty DataFrame\n",
       "Columns: [Uniprot, interpro_id, type, name]\n",
       "Index: []"
      ]
     },
     "execution_count": 24,
     "metadata": {},
     "output_type": "execute_result"
    }
   ],
   "source": [
    "df_interpro[df_interpro.name.isnull() | df_interpro.type.isnull()]"
   ]
  },
  {
   "cell_type": "code",
   "execution_count": 25,
   "metadata": {},
   "outputs": [],
   "source": [
    "save_df(df=df_interpro, dataset_name=\"interpro\", folder_path=OUTPUT_FOLDER)"
   ]
  },
  {
   "attachments": {},
   "cell_type": "markdown",
   "metadata": {},
   "source": [
    "### TCDB substrates"
   ]
  },
  {
   "cell_type": "code",
   "execution_count": 26,
   "metadata": {},
   "outputs": [
    {
     "data": {
      "text/html": [
       "<div>\n",
       "<style scoped>\n",
       "    .dataframe tbody tr th:only-of-type {\n",
       "        vertical-align: middle;\n",
       "    }\n",
       "\n",
       "    .dataframe tbody tr th {\n",
       "        vertical-align: top;\n",
       "    }\n",
       "\n",
       "    .dataframe thead th {\n",
       "        text-align: right;\n",
       "    }\n",
       "</style>\n",
       "<table border=\"1\" class=\"dataframe\">\n",
       "  <thead>\n",
       "    <tr style=\"text-align: right;\">\n",
       "      <th></th>\n",
       "      <th>tcdb_id</th>\n",
       "      <th>variable</th>\n",
       "      <th>value</th>\n",
       "    </tr>\n",
       "  </thead>\n",
       "  <tbody>\n",
       "    <tr>\n",
       "      <th>0</th>\n",
       "      <td>2.A.52.2.2</td>\n",
       "      <td>chebi_id</td>\n",
       "      <td>CHEBI:23337</td>\n",
       "    </tr>\n",
       "    <tr>\n",
       "      <th>1</th>\n",
       "      <td>2.A.52.2.2</td>\n",
       "      <td>chebi_id</td>\n",
       "      <td>CHEBI:25517</td>\n",
       "    </tr>\n",
       "    <tr>\n",
       "      <th>2</th>\n",
       "      <td>2.A.22.2.5</td>\n",
       "      <td>chebi_id</td>\n",
       "      <td>CHEBI:9175</td>\n",
       "    </tr>\n",
       "    <tr>\n",
       "      <th>3</th>\n",
       "      <td>2.A.22.2.5</td>\n",
       "      <td>chebi_id</td>\n",
       "      <td>CHEBI:8345</td>\n",
       "    </tr>\n",
       "    <tr>\n",
       "      <th>4</th>\n",
       "      <td>2.A.90.2.4</td>\n",
       "      <td>chebi_id</td>\n",
       "      <td>CHEBI:8816</td>\n",
       "    </tr>\n",
       "    <tr>\n",
       "      <th>...</th>\n",
       "      <td>...</td>\n",
       "      <td>...</td>\n",
       "      <td>...</td>\n",
       "    </tr>\n",
       "    <tr>\n",
       "      <th>26829</th>\n",
       "      <td>1.H.1.1.17</td>\n",
       "      <td>chebi_term</td>\n",
       "      <td>cation</td>\n",
       "    </tr>\n",
       "    <tr>\n",
       "      <th>26830</th>\n",
       "      <td>8.A.139.2.2</td>\n",
       "      <td>chebi_term</td>\n",
       "      <td>peptide</td>\n",
       "    </tr>\n",
       "    <tr>\n",
       "      <th>26831</th>\n",
       "      <td>1.B.6.2.13</td>\n",
       "      <td>chebi_term</td>\n",
       "      <td>molecule</td>\n",
       "    </tr>\n",
       "    <tr>\n",
       "      <th>26832</th>\n",
       "      <td>2.A.66.1.20</td>\n",
       "      <td>chebi_term</td>\n",
       "      <td>hydron</td>\n",
       "    </tr>\n",
       "    <tr>\n",
       "      <th>26833</th>\n",
       "      <td>2.A.66.1.20</td>\n",
       "      <td>chebi_term</td>\n",
       "      <td>drug</td>\n",
       "    </tr>\n",
       "  </tbody>\n",
       "</table>\n",
       "<p>26834 rows × 3 columns</p>\n",
       "</div>"
      ],
      "text/plain": [
       "           tcdb_id    variable        value\n",
       "0       2.A.52.2.2    chebi_id  CHEBI:23337\n",
       "1       2.A.52.2.2    chebi_id  CHEBI:25517\n",
       "2       2.A.22.2.5    chebi_id   CHEBI:9175\n",
       "3       2.A.22.2.5    chebi_id   CHEBI:8345\n",
       "4       2.A.90.2.4    chebi_id   CHEBI:8816\n",
       "...            ...         ...          ...\n",
       "26829   1.H.1.1.17  chebi_term       cation\n",
       "26830  8.A.139.2.2  chebi_term      peptide\n",
       "26831   1.B.6.2.13  chebi_term     molecule\n",
       "26832  2.A.66.1.20  chebi_term       hydron\n",
       "26833  2.A.66.1.20  chebi_term         drug\n",
       "\n",
       "[26834 rows x 3 columns]"
      ]
     },
     "execution_count": 26,
     "metadata": {},
     "output_type": "execute_result"
    }
   ],
   "source": [
    "df_substrates = pd.read_table(\n",
    "    \"../data/raw/tcdb/tcdb_substrates.tsv\",\n",
    "    header=None,\n",
    "    names=[\"tcdb_id\", \"tcdb_substrates\"],\n",
    "    index_col=0,\n",
    ")\n",
    "df_substrates = (\n",
    "    df_substrates.tcdb_substrates.str.split(\"|\")\n",
    "    .explode()\n",
    "    .str.split(\";\", expand=True)\n",
    "    .rename(columns={0: \"chebi_id\", 1: \"chebi_term\"})\n",
    "    .reset_index(drop=False)\n",
    "    .melt(id_vars=[\"tcdb_id\"], value_vars=[\"chebi_id\", \"chebi_term\"])\n",
    ")\n",
    "df_substrates"
   ]
  },
  {
   "cell_type": "code",
   "execution_count": 27,
   "metadata": {},
   "outputs": [
    {
     "data": {
      "text/html": [
       "<div>\n",
       "<style scoped>\n",
       "    .dataframe tbody tr th:only-of-type {\n",
       "        vertical-align: middle;\n",
       "    }\n",
       "\n",
       "    .dataframe tbody tr th {\n",
       "        vertical-align: top;\n",
       "    }\n",
       "\n",
       "    .dataframe thead th {\n",
       "        text-align: right;\n",
       "    }\n",
       "</style>\n",
       "<table border=\"1\" class=\"dataframe\">\n",
       "  <thead>\n",
       "    <tr style=\"text-align: right;\">\n",
       "      <th></th>\n",
       "      <th>tcdb_id</th>\n",
       "      <th>variable</th>\n",
       "      <th>value</th>\n",
       "    </tr>\n",
       "  </thead>\n",
       "  <tbody>\n",
       "    <tr>\n",
       "      <th>0</th>\n",
       "      <td>9.A.46.1.2</td>\n",
       "      <td>Uniprot</td>\n",
       "      <td>A0PK11</td>\n",
       "    </tr>\n",
       "    <tr>\n",
       "      <th>1</th>\n",
       "      <td>9.B.438.1.1</td>\n",
       "      <td>Uniprot</td>\n",
       "      <td>A2RU14</td>\n",
       "    </tr>\n",
       "    <tr>\n",
       "      <th>2</th>\n",
       "      <td>1.N.2.1.1</td>\n",
       "      <td>Uniprot</td>\n",
       "      <td>A6NI61</td>\n",
       "    </tr>\n",
       "    <tr>\n",
       "      <th>3</th>\n",
       "      <td>9.A.80.1.1</td>\n",
       "      <td>Uniprot</td>\n",
       "      <td>A6NKB5</td>\n",
       "    </tr>\n",
       "    <tr>\n",
       "      <th>4</th>\n",
       "      <td>1.I.1.1.3</td>\n",
       "      <td>Uniprot</td>\n",
       "      <td>O00159</td>\n",
       "    </tr>\n",
       "    <tr>\n",
       "      <th>...</th>\n",
       "      <td>...</td>\n",
       "      <td>...</td>\n",
       "      <td>...</td>\n",
       "    </tr>\n",
       "    <tr>\n",
       "      <th>8084</th>\n",
       "      <td>8.A.88.1.3</td>\n",
       "      <td>Uniprot</td>\n",
       "      <td>V5IFI8</td>\n",
       "    </tr>\n",
       "    <tr>\n",
       "      <th>8085</th>\n",
       "      <td>8.A.69.1.3</td>\n",
       "      <td>Uniprot</td>\n",
       "      <td>V9L7R9</td>\n",
       "    </tr>\n",
       "    <tr>\n",
       "      <th>8086</th>\n",
       "      <td>1.C.52.1.29</td>\n",
       "      <td>Uniprot</td>\n",
       "      <td>V9MH43</td>\n",
       "    </tr>\n",
       "    <tr>\n",
       "      <th>8087</th>\n",
       "      <td>1.C.115.1.4</td>\n",
       "      <td>Uniprot</td>\n",
       "      <td>W5U3Z6</td>\n",
       "    </tr>\n",
       "    <tr>\n",
       "      <th>8088</th>\n",
       "      <td>1.A.8.8.23</td>\n",
       "      <td>Uniprot</td>\n",
       "      <td>W8DT73</td>\n",
       "    </tr>\n",
       "  </tbody>\n",
       "</table>\n",
       "<p>8089 rows × 3 columns</p>\n",
       "</div>"
      ],
      "text/plain": [
       "          tcdb_id variable   value\n",
       "0      9.A.46.1.2  Uniprot  A0PK11\n",
       "1     9.B.438.1.1  Uniprot  A2RU14\n",
       "2       1.N.2.1.1  Uniprot  A6NI61\n",
       "3      9.A.80.1.1  Uniprot  A6NKB5\n",
       "4       1.I.1.1.3  Uniprot  O00159\n",
       "...           ...      ...     ...\n",
       "8084   8.A.88.1.3  Uniprot  V5IFI8\n",
       "8085   8.A.69.1.3  Uniprot  V9L7R9\n",
       "8086  1.C.52.1.29  Uniprot  V9MH43\n",
       "8087  1.C.115.1.4  Uniprot  W5U3Z6\n",
       "8088   1.A.8.8.23  Uniprot  W8DT73\n",
       "\n",
       "[8089 rows x 3 columns]"
      ]
     },
     "execution_count": 27,
     "metadata": {},
     "output_type": "execute_result"
    }
   ],
   "source": [
    "df_tcdb_uniprot = (\n",
    "    df.tcdb_ids.dropna()\n",
    "    .str.rstrip(\";\")\n",
    "    .str.split(\";\")\n",
    "    .explode()\n",
    "    .rename(\"tcdb_id\")\n",
    "    .reset_index(drop=False)\n",
    "    .drop_duplicates()\n",
    "    .melt(id_vars=[\"tcdb_id\"], value_vars=[\"Uniprot\"])\n",
    ")\n",
    "df_tcdb_uniprot"
   ]
  },
  {
   "cell_type": "code",
   "execution_count": 28,
   "metadata": {},
   "outputs": [
    {
     "data": {
      "text/html": [
       "<div>\n",
       "<style scoped>\n",
       "    .dataframe tbody tr th:only-of-type {\n",
       "        vertical-align: middle;\n",
       "    }\n",
       "\n",
       "    .dataframe tbody tr th {\n",
       "        vertical-align: top;\n",
       "    }\n",
       "\n",
       "    .dataframe thead th {\n",
       "        text-align: right;\n",
       "    }\n",
       "</style>\n",
       "<table border=\"1\" class=\"dataframe\">\n",
       "  <thead>\n",
       "    <tr style=\"text-align: right;\">\n",
       "      <th></th>\n",
       "      <th>tcdb_id</th>\n",
       "      <th>variable</th>\n",
       "      <th>value</th>\n",
       "    </tr>\n",
       "  </thead>\n",
       "  <tbody>\n",
       "    <tr>\n",
       "      <th>0</th>\n",
       "      <td>2.A.52.2.2</td>\n",
       "      <td>chebi_id</td>\n",
       "      <td>CHEBI:23337</td>\n",
       "    </tr>\n",
       "    <tr>\n",
       "      <th>1</th>\n",
       "      <td>2.A.52.2.2</td>\n",
       "      <td>chebi_id</td>\n",
       "      <td>CHEBI:25517</td>\n",
       "    </tr>\n",
       "    <tr>\n",
       "      <th>2</th>\n",
       "      <td>2.A.22.2.5</td>\n",
       "      <td>chebi_id</td>\n",
       "      <td>CHEBI:9175</td>\n",
       "    </tr>\n",
       "    <tr>\n",
       "      <th>3</th>\n",
       "      <td>2.A.22.2.5</td>\n",
       "      <td>chebi_id</td>\n",
       "      <td>CHEBI:8345</td>\n",
       "    </tr>\n",
       "    <tr>\n",
       "      <th>4</th>\n",
       "      <td>2.A.90.2.4</td>\n",
       "      <td>chebi_id</td>\n",
       "      <td>CHEBI:8816</td>\n",
       "    </tr>\n",
       "    <tr>\n",
       "      <th>...</th>\n",
       "      <td>...</td>\n",
       "      <td>...</td>\n",
       "      <td>...</td>\n",
       "    </tr>\n",
       "    <tr>\n",
       "      <th>34839</th>\n",
       "      <td>8.A.88.1.3</td>\n",
       "      <td>Uniprot</td>\n",
       "      <td>V5IFI8</td>\n",
       "    </tr>\n",
       "    <tr>\n",
       "      <th>34840</th>\n",
       "      <td>8.A.69.1.3</td>\n",
       "      <td>Uniprot</td>\n",
       "      <td>V9L7R9</td>\n",
       "    </tr>\n",
       "    <tr>\n",
       "      <th>34841</th>\n",
       "      <td>1.C.52.1.29</td>\n",
       "      <td>Uniprot</td>\n",
       "      <td>V9MH43</td>\n",
       "    </tr>\n",
       "    <tr>\n",
       "      <th>34842</th>\n",
       "      <td>1.C.115.1.4</td>\n",
       "      <td>Uniprot</td>\n",
       "      <td>W5U3Z6</td>\n",
       "    </tr>\n",
       "    <tr>\n",
       "      <th>34843</th>\n",
       "      <td>1.A.8.8.23</td>\n",
       "      <td>Uniprot</td>\n",
       "      <td>W8DT73</td>\n",
       "    </tr>\n",
       "  </tbody>\n",
       "</table>\n",
       "<p>34844 rows × 3 columns</p>\n",
       "</div>"
      ],
      "text/plain": [
       "           tcdb_id  variable        value\n",
       "0       2.A.52.2.2  chebi_id  CHEBI:23337\n",
       "1       2.A.52.2.2  chebi_id  CHEBI:25517\n",
       "2       2.A.22.2.5  chebi_id   CHEBI:9175\n",
       "3       2.A.22.2.5  chebi_id   CHEBI:8345\n",
       "4       2.A.90.2.4  chebi_id   CHEBI:8816\n",
       "...            ...       ...          ...\n",
       "34839   8.A.88.1.3   Uniprot       V5IFI8\n",
       "34840   8.A.69.1.3   Uniprot       V9L7R9\n",
       "34841  1.C.52.1.29   Uniprot       V9MH43\n",
       "34842  1.C.115.1.4   Uniprot       W5U3Z6\n",
       "34843   1.A.8.8.23   Uniprot       W8DT73\n",
       "\n",
       "[34844 rows x 3 columns]"
      ]
     },
     "execution_count": 28,
     "metadata": {},
     "output_type": "execute_result"
    }
   ],
   "source": [
    "df_uniprot_tcdb_chebi = pd.concat([df_substrates, df_tcdb_uniprot]).reset_index(drop=True)\n",
    "df_uniprot_tcdb_chebi = df_uniprot_tcdb_chebi.drop_duplicates()\n",
    "df_uniprot_tcdb_chebi = df_uniprot_tcdb_chebi.reset_index(drop=True)\n",
    "df_uniprot_tcdb_chebi"
   ]
  },
  {
   "cell_type": "code",
   "execution_count": 29,
   "metadata": {},
   "outputs": [],
   "source": [
    "save_df(df=df_uniprot_tcdb_chebi, dataset_name=\"tcdb_substrates\", folder_path=OUTPUT_FOLDER)"
   ]
  },
  {
   "attachments": {},
   "cell_type": "markdown",
   "metadata": {},
   "source": [
    "### GO\n",
    "\n",
    "This file from EBI contains all GO terms from Uniprot and from Interpro. It has been filtered for Uniprot accessions, which removes RNA annotations, for example. Some of the unnecessary columns have also been removed by awk, in order to reduce the file size from 170GB (uncompressed raw data) to 1.5GB (as xz file). Command is in Makefile. We filter the dataset for Uniprot proteins in our dataset only, that reduces the pickle file size from around 8GB to 100MB."
   ]
  },
  {
   "cell_type": "code",
   "execution_count": 30,
   "metadata": {},
   "outputs": [
    {
     "data": {
      "text/plain": [
       "0"
      ]
     },
     "execution_count": 30,
     "metadata": {},
     "output_type": "execute_result"
    }
   ],
   "source": [
    "# TODO free up memory\n",
    "\n",
    "del cluster_representatives_100\n",
    "del cluster_representatives_70\n",
    "del df_interpro\n",
    "del df_interpro_annotations\n",
    "del df_keywords\n",
    "del df_sequences\n",
    "del df_sequences_cdhit100\n",
    "del df_sequences_cdhit70\n",
    "del df_substrates\n",
    "del df_tcdb_uniprot\n",
    "del df_uniprot_tcdb_chebi\n",
    "\n",
    "import gc\n",
    "gc.collect()"
   ]
  },
  {
   "cell_type": "code",
   "execution_count": 35,
   "metadata": {},
   "outputs": [],
   "source": [
    "uniprot_accessions = set(df.index.unique())\n",
    "\n",
    "df_go_ebi = pd.DataFrame()\n",
    "\n",
    "with pd.read_table(\n",
    "    \"../data/raw/gene_ontology/goa_uniprot_all_ebi_filtered.tsv.xz\",\n",
    "    header=None,\n",
    "    names=[\"Uniprot\", \"qualifier\", \"go_id\", \"evidence_code\", \"aspect\", \"date\"],\n",
    "    dtype={\n",
    "        \"Uniprot\": \"string\",\n",
    "        \"qualifier\": \"category\",\n",
    "        \"go_id\": \"string\",\n",
    "        \"evidence_code\": \"category\",\n",
    "        \"aspect\": \"category\",\n",
    "        \"date\": \"int\",\n",
    "    },\n",
    "    chunksize=10 ** 6\n",
    "    # parse_dates=[\"date\"],\n",
    ") as reader:\n",
    "    for df_chunk in reader:\n",
    "        df_chunk_filtered = df_chunk[df_chunk.Uniprot.isin(uniprot_accessions)].drop(\"date\", axis=1).drop_duplicates()\n",
    "        df_go_ebi = pd.concat([df_go_ebi,df_chunk_filtered], axis=0).reset_index(drop=True)"
   ]
  },
  {
   "cell_type": "code",
   "execution_count": 37,
   "metadata": {},
   "outputs": [],
   "source": [
    "# This halves the file size!\n",
    "df_go_ebi = df_go_ebi.reset_index(drop=True)\n",
    "save_df(df_go_ebi, \"go\", OUTPUT_FOLDER)"
   ]
  },
  {
   "cell_type": "code",
   "execution_count": 28,
   "metadata": {},
   "outputs": [],
   "source": [
    "CREATE_FULL_GO_TABLE=False\n",
    "if CREATE_FULL_GO_TABLE:\n",
    "    df_go_ebi = pd.read_table(\n",
    "        \"../data/raw/gene_ontology/goa_uniprot_all_ebi_filtered.tsv.xz\",\n",
    "        header=None,\n",
    "        names=[\"Uniprot\", \"qualifier\", \"go_id\", \"evidence_code\", \"aspect\", \"date\"],\n",
    "        dtype={\n",
    "            \"Uniprot\": \"string\",\n",
    "            \"qualifier\": \"category\",\n",
    "            \"go_id\": \"string\",\n",
    "            \"evidence_code\": \"category\",\n",
    "            \"aspect\": \"category\",\n",
    "            \"date\": \"int\",\n",
    "        },\n",
    "        # parse_dates=[\"date\"],\n",
    "    )\n",
    "    save_df(df_go_ebi, \"go_complete\", OUTPUT_FOLDER)\n",
    "    uniprot_accessions = set(df.index.unique())\n",
    "    df_go_ebi = df_go_ebi[df_go_ebi.Uniprot.isin(uniprot_accessions)]\n",
    "    print(df_go_ebi.shape)\n",
    "    df_go_ebi = df_go_ebi.drop(\"date\", axis=1)\n",
    "    df_go_ebi = df_go_ebi.drop_duplicates()\n",
    "    print(df_go_ebi.shape)\n",
    "    # This halves the file size!\n",
    "    df_go_ebi = df_go_ebi.reset_index(drop=True)\n",
    "    save_df(df_go_ebi, \"go\", OUTPUT_FOLDER)"
   ]
  },
  {
   "cell_type": "markdown",
   "metadata": {},
   "source": [
    "## GO-slim transmembrane transporter activity\n",
    "\n",
    "Currently not used, since the entries are too recent for our current Uniprot version, and we implemented a similar pipeline already."
   ]
  },
  {
   "cell_type": "code",
   "execution_count": 1,
   "metadata": {},
   "outputs": [
    {
     "data": {
      "text/html": [
       "<div>\n",
       "<style scoped>\n",
       "    .dataframe tbody tr th:only-of-type {\n",
       "        vertical-align: middle;\n",
       "    }\n",
       "\n",
       "    .dataframe tbody tr th {\n",
       "        vertical-align: top;\n",
       "    }\n",
       "\n",
       "    .dataframe thead th {\n",
       "        text-align: right;\n",
       "    }\n",
       "</style>\n",
       "<table border=\"1\" class=\"dataframe\">\n",
       "  <thead>\n",
       "    <tr style=\"text-align: right;\">\n",
       "      <th></th>\n",
       "      <th>slimsFromId</th>\n",
       "      <th>slimsToIds</th>\n",
       "    </tr>\n",
       "  </thead>\n",
       "  <tbody>\n",
       "    <tr>\n",
       "      <th>0</th>\n",
       "      <td>GO:0015313</td>\n",
       "      <td>GO:0022857</td>\n",
       "    </tr>\n",
       "    <tr>\n",
       "      <th>1</th>\n",
       "      <td>GO:0015554</td>\n",
       "      <td>GO:0022857</td>\n",
       "    </tr>\n",
       "    <tr>\n",
       "      <th>2</th>\n",
       "      <td>GO:0015312</td>\n",
       "      <td>GO:0022857</td>\n",
       "    </tr>\n",
       "    <tr>\n",
       "      <th>3</th>\n",
       "      <td>GO:0042933</td>\n",
       "      <td>GO:0022857</td>\n",
       "    </tr>\n",
       "    <tr>\n",
       "      <th>4</th>\n",
       "      <td>GO:0015553</td>\n",
       "      <td>GO:0022857</td>\n",
       "    </tr>\n",
       "    <tr>\n",
       "      <th>...</th>\n",
       "      <td>...</td>\n",
       "      <td>...</td>\n",
       "    </tr>\n",
       "    <tr>\n",
       "      <th>1027</th>\n",
       "      <td>GO:0033266</td>\n",
       "      <td>GO:0022857</td>\n",
       "    </tr>\n",
       "    <tr>\n",
       "      <th>1028</th>\n",
       "      <td>GO:0015615</td>\n",
       "      <td>GO:0022857</td>\n",
       "    </tr>\n",
       "    <tr>\n",
       "      <th>1029</th>\n",
       "      <td>GO:0015614</td>\n",
       "      <td>GO:0022857</td>\n",
       "    </tr>\n",
       "    <tr>\n",
       "      <th>1030</th>\n",
       "      <td>GO:0015612</td>\n",
       "      <td>GO:0022857</td>\n",
       "    </tr>\n",
       "    <tr>\n",
       "      <th>1031</th>\n",
       "      <td>GO:0015611</td>\n",
       "      <td>GO:0022857</td>\n",
       "    </tr>\n",
       "  </tbody>\n",
       "</table>\n",
       "<p>1032 rows × 2 columns</p>\n",
       "</div>"
      ],
      "text/plain": [
       "     slimsFromId  slimsToIds\n",
       "0     GO:0015313  GO:0022857\n",
       "1     GO:0015554  GO:0022857\n",
       "2     GO:0015312  GO:0022857\n",
       "3     GO:0042933  GO:0022857\n",
       "4     GO:0015553  GO:0022857\n",
       "...          ...         ...\n",
       "1027  GO:0033266  GO:0022857\n",
       "1028  GO:0015615  GO:0022857\n",
       "1029  GO:0015614  GO:0022857\n",
       "1030  GO:0015612  GO:0022857\n",
       "1031  GO:0015611  GO:0022857\n",
       "\n",
       "[1032 rows x 2 columns]"
      ]
     },
     "execution_count": 1,
     "metadata": {},
     "output_type": "execute_result"
    }
   ],
   "source": [
    "# import requests, sys\n",
    "# import json\n",
    "# import pandas as pd\n",
    "\n",
    "# REDOWNLOAD_TRANSPORTER_GO_TERMS = False\n",
    "# if REDOWNLOAD_TRANSPORTER_GO_TERMS:\n",
    "#     requestURL = \"https://www.ebi.ac.uk/QuickGO/services/ontology/go/slim?slimsToIds=GO%3A0022857&relations=is_a\"\n",
    "\n",
    "#     r = requests.get(requestURL, headers={ \"Accept\" : \"application/json\"})\n",
    "\n",
    "#     if not r.ok:\n",
    "#       r.raise_for_status()\n",
    "#       sys.exit()\n",
    "\n",
    "#     responseBody = r.text\n",
    "\n",
    "#     json_transporter_goslim_isa = json.loads(responseBody)[\"results\"]\n",
    "\n",
    "#     with open(\"../data/raw/gene_ontology/goslim_transmembrane_transport.json\", \"w\") as json_file:\n",
    "#         json.dump(json_transporter_goslim_isa, json_file)\n",
    "\n",
    "# df_goslim_transporter = pd.read_json(\"../data/raw/gene_ontology/goslim_transmembrane_transport.json\")\n",
    "# assert not (df_goslim_transporter.slimsToIds.apply(len) != 1).any()\n",
    "# df_goslim_transporter[\"slimsToIds\"] = df_goslim_transporter.slimsToIds.apply(lambda x: x[0])\n",
    "# df_goslim_transporter"
   ]
  },
  {
   "attachments": {},
   "cell_type": "markdown",
   "metadata": {},
   "source": [
    "### GO/Chebi connection\n",
    "\n",
    "Quickgo contains links between GO terms and Chebi molecule identifiers. We could not find them anywhere else, so downloading them through get-requests seems to be the best option."
   ]
  },
  {
   "cell_type": "code",
   "execution_count": 38,
   "metadata": {},
   "outputs": [],
   "source": [
    "REDOWNLOAD_GO_XRELS = False\n",
    "if REDOWNLOAD_GO_XRELS:\n",
    "\n",
    "    go_terms_uniprot = load_df(\"go\").go_id.unique().tolist()\n",
    "\n",
    "    responses = list()\n",
    "\n",
    "    max_entries = 300\n",
    "    i = 0\n",
    "    while i < min(i+max_entries, len(go_terms_uniprot)):\n",
    "        go_terms_sublist = go_terms_uniprot[i:min(i+max_entries, len(go_terms_uniprot))]\n",
    "        go_terms_str_encoded = \"%2C\".join([node.replace(\":\", \"%3A\") for node in go_terms_sublist])\n",
    "        requestURL = f\"https://www.ebi.ac.uk/QuickGO/services/ontology/go/terms/{go_terms_str_encoded}/xontologyrelations\"\n",
    "\n",
    "        r = requests.get(requestURL, headers={ \"Accept\" : \"application/json\"})\n",
    "        if not r.ok:\n",
    "            r.raise_for_status()\n",
    "            sys.exit()\n",
    "\n",
    "        responses.append(r.text)\n",
    "\n",
    "        i += max_entries\n",
    "\n",
    "    json_entries = list()\n",
    "    for response in responses:\n",
    "        json_entry = json.loads(response)[\"results\"]\n",
    "        json_entries.extend(json_entry)\n",
    "    with open(\"../data/raw/gene_ontology/go_xrel.json\", \"w\") as xrel_json_file: \n",
    "        json.dump(json_entries, xrel_json_file)"
   ]
  },
  {
   "cell_type": "code",
   "execution_count": 39,
   "metadata": {},
   "outputs": [],
   "source": [
    "df_go_xrel = pd.read_json(\"../data/raw/gene_ontology/go_xrel.json\")"
   ]
  },
  {
   "cell_type": "code",
   "execution_count": 40,
   "metadata": {},
   "outputs": [
    {
     "data": {
      "text/html": [
       "<div>\n",
       "<style scoped>\n",
       "    .dataframe tbody tr th:only-of-type {\n",
       "        vertical-align: middle;\n",
       "    }\n",
       "\n",
       "    .dataframe tbody tr th {\n",
       "        vertical-align: top;\n",
       "    }\n",
       "\n",
       "    .dataframe thead th {\n",
       "        text-align: right;\n",
       "    }\n",
       "</style>\n",
       "<table border=\"1\" class=\"dataframe\">\n",
       "  <thead>\n",
       "    <tr style=\"text-align: right;\">\n",
       "      <th></th>\n",
       "      <th>go_id</th>\n",
       "      <th>xrel_id</th>\n",
       "      <th>xrel_term</th>\n",
       "      <th>namespace</th>\n",
       "      <th>relation</th>\n",
       "    </tr>\n",
       "  </thead>\n",
       "  <tbody>\n",
       "    <tr>\n",
       "      <th>0</th>\n",
       "      <td>GO:0006633</td>\n",
       "      <td>CHEBI:28868</td>\n",
       "      <td>fatty acid anion</td>\n",
       "      <td>CHEBI</td>\n",
       "      <td>has_primary_output</td>\n",
       "    </tr>\n",
       "    <tr>\n",
       "      <th>1</th>\n",
       "      <td>GO:0006629</td>\n",
       "      <td>CHEBI:18059</td>\n",
       "      <td>lipid</td>\n",
       "      <td>CHEBI</td>\n",
       "      <td>has_primary_input_or_output</td>\n",
       "    </tr>\n",
       "    <tr>\n",
       "      <th>2</th>\n",
       "      <td>GO:0006665</td>\n",
       "      <td>CHEBI:26739</td>\n",
       "      <td>sphingolipid</td>\n",
       "      <td>CHEBI</td>\n",
       "      <td>has_primary_input_or_output</td>\n",
       "    </tr>\n",
       "    <tr>\n",
       "      <th>3</th>\n",
       "      <td>GO:0004045</td>\n",
       "      <td>CHEBI:59874</td>\n",
       "      <td>N-acyl-L-alpha-amino acid anion</td>\n",
       "      <td>CHEBI</td>\n",
       "      <td>has_participant</td>\n",
       "    </tr>\n",
       "    <tr>\n",
       "      <th>4</th>\n",
       "      <td>GO:0004045</td>\n",
       "      <td>CHEBI:15377</td>\n",
       "      <td>water</td>\n",
       "      <td>CHEBI</td>\n",
       "      <td>has_participant</td>\n",
       "    </tr>\n",
       "    <tr>\n",
       "      <th>...</th>\n",
       "      <td>...</td>\n",
       "      <td>...</td>\n",
       "      <td>...</td>\n",
       "      <td>...</td>\n",
       "      <td>...</td>\n",
       "    </tr>\n",
       "    <tr>\n",
       "      <th>22853</th>\n",
       "      <td>GO:0009709</td>\n",
       "      <td>CHEBI:65321</td>\n",
       "      <td>terpenoid indole alkaloid</td>\n",
       "      <td>CHEBI</td>\n",
       "      <td>has_primary_output</td>\n",
       "    </tr>\n",
       "    <tr>\n",
       "      <th>22854</th>\n",
       "      <td>GO:0140125</td>\n",
       "      <td>CHEBI:26948</td>\n",
       "      <td>vitamin B1</td>\n",
       "      <td>CHEBI</td>\n",
       "      <td>has_primary_input</td>\n",
       "    </tr>\n",
       "    <tr>\n",
       "      <th>22855</th>\n",
       "      <td>GO:0140145</td>\n",
       "      <td>CHEBI:23378</td>\n",
       "      <td>copper cation</td>\n",
       "      <td>CHEBI</td>\n",
       "      <td>has_primary_input</td>\n",
       "    </tr>\n",
       "    <tr>\n",
       "      <th>22856</th>\n",
       "      <td>GO:0007272</td>\n",
       "      <td>CL:0000125</td>\n",
       "      <td>glial cell</td>\n",
       "      <td>CL</td>\n",
       "      <td>has_participant</td>\n",
       "    </tr>\n",
       "    <tr>\n",
       "      <th>22857</th>\n",
       "      <td>GO:0007272</td>\n",
       "      <td>CL:0000540</td>\n",
       "      <td>neuron</td>\n",
       "      <td>CL</td>\n",
       "      <td>has_participant</td>\n",
       "    </tr>\n",
       "  </tbody>\n",
       "</table>\n",
       "<p>22858 rows × 5 columns</p>\n",
       "</div>"
      ],
      "text/plain": [
       "            go_id      xrel_id                        xrel_term namespace  \\\n",
       "0      GO:0006633  CHEBI:28868                 fatty acid anion     CHEBI   \n",
       "1      GO:0006629  CHEBI:18059                            lipid     CHEBI   \n",
       "2      GO:0006665  CHEBI:26739                     sphingolipid     CHEBI   \n",
       "3      GO:0004045  CHEBI:59874  N-acyl-L-alpha-amino acid anion     CHEBI   \n",
       "4      GO:0004045  CHEBI:15377                            water     CHEBI   \n",
       "...           ...          ...                              ...       ...   \n",
       "22853  GO:0009709  CHEBI:65321        terpenoid indole alkaloid     CHEBI   \n",
       "22854  GO:0140125  CHEBI:26948                       vitamin B1     CHEBI   \n",
       "22855  GO:0140145  CHEBI:23378                    copper cation     CHEBI   \n",
       "22856  GO:0007272   CL:0000125                       glial cell        CL   \n",
       "22857  GO:0007272   CL:0000540                           neuron        CL   \n",
       "\n",
       "                          relation  \n",
       "0               has_primary_output  \n",
       "1      has_primary_input_or_output  \n",
       "2      has_primary_input_or_output  \n",
       "3                  has_participant  \n",
       "4                  has_participant  \n",
       "...                            ...  \n",
       "22853           has_primary_output  \n",
       "22854            has_primary_input  \n",
       "22855            has_primary_input  \n",
       "22856              has_participant  \n",
       "22857              has_participant  \n",
       "\n",
       "[22858 rows x 5 columns]"
      ]
     },
     "execution_count": 40,
     "metadata": {},
     "output_type": "execute_result"
    }
   ],
   "source": [
    "# go term to list of dicts\n",
    "dict_go_to_xrels = df_go_xrel.set_index(\"id\").xRelations.to_dict()#.apply(pd.Series)\n",
    "go_to_xrel_records = []\n",
    "go_to_xrel_records_header = [\"go_id\", \"xrel_id\",\"xrel_term\", \"namespace\", \"relation\"]\n",
    "for go_term, xrel_list in dict_go_to_xrels.items():\n",
    "    if not isinstance(xrel_list, list):\n",
    "        continue\n",
    "    for entry in xrel_list:\n",
    "        go_to_xrel_records.append(\n",
    "            [\n",
    "                go_term, entry[\"id\"], entry[\"term\"], entry[\"namespace\"], entry[\"relation\"]\n",
    "            ]\n",
    "        )\n",
    "\n",
    "df_go_xrel = pd.DataFrame.from_records(go_to_xrel_records, columns=go_to_xrel_records_header)\n",
    "# df_go_to_chebi = df_go_to_chebi[df_go_to_chebi.namespace == \"CHEBI\"].drop(\"namespace\", axis=1)\n",
    "df_go_xrel = df_go_xrel.astype({\"relation\": \"category\", \"namespace\": \"category\"})\n",
    "\n",
    "df_go_xrel"
   ]
  },
  {
   "attachments": {},
   "cell_type": "markdown",
   "metadata": {},
   "source": [
    "The cross relations include:\n",
    "\n",
    "- Chemical Entities of Biological Interest (ChEBI): Chemical Entities of Biological Interest (ChEBI) is a freely available dictionary of molecular entities focused on ‘small’ chemical compounds.\n",
    "\n",
    "- Cell Type Ontology (CL): The Cell Ontology (CL) is an OBO Foundry ontology for the representation of cell types.\n",
    "\n",
    "- Plant ontology (PO): Plant Ontology project is a major international bioinformatics effort on standardizing the nomenclature, definitions, synonyms and relations of various terms/keywords/vocabularies that describe anatomical entities as well as the growth and developmental stages of plants."
   ]
  },
  {
   "attachments": {},
   "cell_type": "markdown",
   "metadata": {},
   "source": [
    "#### Chebi data:"
   ]
  },
  {
   "cell_type": "code",
   "execution_count": 41,
   "metadata": {},
   "outputs": [
    {
     "data": {
      "text/html": [
       "<div>\n",
       "<style scoped>\n",
       "    .dataframe tbody tr th:only-of-type {\n",
       "        vertical-align: middle;\n",
       "    }\n",
       "\n",
       "    .dataframe tbody tr th {\n",
       "        vertical-align: top;\n",
       "    }\n",
       "\n",
       "    .dataframe thead th {\n",
       "        text-align: right;\n",
       "    }\n",
       "</style>\n",
       "<table border=\"1\" class=\"dataframe\">\n",
       "  <thead>\n",
       "    <tr style=\"text-align: right;\">\n",
       "      <th></th>\n",
       "      <th>go_id</th>\n",
       "      <th>chebi_id</th>\n",
       "      <th>chebi_term</th>\n",
       "      <th>relation</th>\n",
       "    </tr>\n",
       "  </thead>\n",
       "  <tbody>\n",
       "    <tr>\n",
       "      <th>0</th>\n",
       "      <td>GO:0006633</td>\n",
       "      <td>CHEBI:28868</td>\n",
       "      <td>fatty acid anion</td>\n",
       "      <td>has_primary_output</td>\n",
       "    </tr>\n",
       "    <tr>\n",
       "      <th>1</th>\n",
       "      <td>GO:0006629</td>\n",
       "      <td>CHEBI:18059</td>\n",
       "      <td>lipid</td>\n",
       "      <td>has_primary_input_or_output</td>\n",
       "    </tr>\n",
       "    <tr>\n",
       "      <th>2</th>\n",
       "      <td>GO:0006665</td>\n",
       "      <td>CHEBI:26739</td>\n",
       "      <td>sphingolipid</td>\n",
       "      <td>has_primary_input_or_output</td>\n",
       "    </tr>\n",
       "    <tr>\n",
       "      <th>3</th>\n",
       "      <td>GO:0004045</td>\n",
       "      <td>CHEBI:59874</td>\n",
       "      <td>N-acyl-L-alpha-amino acid anion</td>\n",
       "      <td>has_participant</td>\n",
       "    </tr>\n",
       "    <tr>\n",
       "      <th>4</th>\n",
       "      <td>GO:0004045</td>\n",
       "      <td>CHEBI:15377</td>\n",
       "      <td>water</td>\n",
       "      <td>has_participant</td>\n",
       "    </tr>\n",
       "    <tr>\n",
       "      <th>...</th>\n",
       "      <td>...</td>\n",
       "      <td>...</td>\n",
       "      <td>...</td>\n",
       "      <td>...</td>\n",
       "    </tr>\n",
       "    <tr>\n",
       "      <th>21732</th>\n",
       "      <td>GO:1902434</td>\n",
       "      <td>CHEBI:16189</td>\n",
       "      <td>sulfate</td>\n",
       "      <td>has_primary_input</td>\n",
       "    </tr>\n",
       "    <tr>\n",
       "      <th>21733</th>\n",
       "      <td>GO:0010166</td>\n",
       "      <td>CHEBI:73702</td>\n",
       "      <td>wax</td>\n",
       "      <td>has_primary_input_or_output</td>\n",
       "    </tr>\n",
       "    <tr>\n",
       "      <th>21734</th>\n",
       "      <td>GO:0009709</td>\n",
       "      <td>CHEBI:65321</td>\n",
       "      <td>terpenoid indole alkaloid</td>\n",
       "      <td>has_primary_output</td>\n",
       "    </tr>\n",
       "    <tr>\n",
       "      <th>21735</th>\n",
       "      <td>GO:0140125</td>\n",
       "      <td>CHEBI:26948</td>\n",
       "      <td>vitamin B1</td>\n",
       "      <td>has_primary_input</td>\n",
       "    </tr>\n",
       "    <tr>\n",
       "      <th>21736</th>\n",
       "      <td>GO:0140145</td>\n",
       "      <td>CHEBI:23378</td>\n",
       "      <td>copper cation</td>\n",
       "      <td>has_primary_input</td>\n",
       "    </tr>\n",
       "  </tbody>\n",
       "</table>\n",
       "<p>21737 rows × 4 columns</p>\n",
       "</div>"
      ],
      "text/plain": [
       "            go_id     chebi_id                       chebi_term  \\\n",
       "0      GO:0006633  CHEBI:28868                 fatty acid anion   \n",
       "1      GO:0006629  CHEBI:18059                            lipid   \n",
       "2      GO:0006665  CHEBI:26739                     sphingolipid   \n",
       "3      GO:0004045  CHEBI:59874  N-acyl-L-alpha-amino acid anion   \n",
       "4      GO:0004045  CHEBI:15377                            water   \n",
       "...           ...          ...                              ...   \n",
       "21732  GO:1902434  CHEBI:16189                          sulfate   \n",
       "21733  GO:0010166  CHEBI:73702                              wax   \n",
       "21734  GO:0009709  CHEBI:65321        terpenoid indole alkaloid   \n",
       "21735  GO:0140125  CHEBI:26948                       vitamin B1   \n",
       "21736  GO:0140145  CHEBI:23378                    copper cation   \n",
       "\n",
       "                          relation  \n",
       "0               has_primary_output  \n",
       "1      has_primary_input_or_output  \n",
       "2      has_primary_input_or_output  \n",
       "3                  has_participant  \n",
       "4                  has_participant  \n",
       "...                            ...  \n",
       "21732            has_primary_input  \n",
       "21733  has_primary_input_or_output  \n",
       "21734           has_primary_output  \n",
       "21735            has_primary_input  \n",
       "21736            has_primary_input  \n",
       "\n",
       "[21737 rows x 4 columns]"
      ]
     },
     "execution_count": 41,
     "metadata": {},
     "output_type": "execute_result"
    }
   ],
   "source": [
    "df_go_to_chebi = (\n",
    "    df_go_xrel[df_go_xrel.namespace == \"CHEBI\"]\n",
    "    .drop(\"namespace\", axis=1)\n",
    "    .drop_duplicates()\n",
    "    .reset_index(drop=True)\n",
    "    .rename(columns={\"xrel_id\": \"chebi_id\", \"xrel_term\": \"chebi_term\"})\n",
    ")\n",
    "df_go_to_chebi\n"
   ]
  },
  {
   "cell_type": "code",
   "execution_count": 42,
   "metadata": {},
   "outputs": [],
   "source": [
    "save_df(df=df_go_to_chebi, dataset_name=\"go_chebi\")"
   ]
  },
  {
   "cell_type": "markdown",
   "metadata": {},
   "source": [
    "## Ontology files\n",
    "\n",
    "To make reading the graphs faster, we are going to pickle them as well. "
   ]
  },
  {
   "cell_type": "code",
   "execution_count": 43,
   "metadata": {},
   "outputs": [],
   "source": [
    "graph_go = obonet.read_obo(\"../data/raw/ontologies/go.obo\")\n",
    "\n",
    "save_df(graph_go, \"go_obo\")"
   ]
  },
  {
   "cell_type": "code",
   "execution_count": 44,
   "metadata": {},
   "outputs": [],
   "source": [
    "graph_chebi = obonet.read_obo(\"../data/raw/ontologies/chebi.obo\")\n",
    "\n",
    "save_df(graph_chebi, \"chebi_obo\")"
   ]
  },
  {
   "cell_type": "markdown",
   "metadata": {},
   "source": [
    "## Total file sizes:"
   ]
  },
  {
   "cell_type": "code",
   "execution_count": 45,
   "metadata": {},
   "outputs": [
    {
     "name": "stdout",
     "output_type": "stream",
     "text": [
      "197M\t../data/datasets/chebi_obo.gpickle\n",
      "211M\t../data/datasets/go.pickle\n",
      "928K\t../data/datasets/go_chebi.pickle\n",
      "16G\t../data/datasets/go_complete.pickle.deprecated\n",
      "29M\t../data/datasets/go_obo.gpickle\n",
      "147M\t../data/datasets/interpro.pickle\n",
      "56M\t../data/datasets/keywords.pickle\n",
      "904K\t../data/datasets/tcdb_substrates.pickle\n",
      "740M\t../data/datasets/uniprot.pickle\n",
      "693M\t../data/datasets/uniprot100.pickle\n",
      "248M\t../data/datasets/uniprot70.pickle\n"
     ]
    }
   ],
   "source": [
    "!du -hs ../data/datasets/*"
   ]
  }
 ],
 "metadata": {
  "kernelspec": {
   "display_name": "subpred4",
   "language": "python",
   "name": "python3"
  },
  "language_info": {
   "codemirror_mode": {
    "name": "ipython",
    "version": 3
   },
   "file_extension": ".py",
   "mimetype": "text/x-python",
   "name": "python",
   "nbconvert_exporter": "python",
   "pygments_lexer": "ipython3",
   "version": "3.10.12"
  },
  "orig_nbformat": 4,
  "vscode": {
   "interpreter": {
    "hash": "ec8de6dd8f2d395005c42468f5d13cdd089376f2ad37eab4b2481f4d8703f0b2"
   }
  }
 },
 "nbformat": 4,
 "nbformat_minor": 2
}
