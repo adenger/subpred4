{
 "cells": [
  {
   "attachments": {},
   "cell_type": "markdown",
   "metadata": {},
   "source": [
    "# Dataset creation\n",
    "\n",
    "The input file for this notebook is a Uniprot custom download. Proteins with existence not verified at protein level or transcript level, as well as proteins with fragmented sequences, were removed during the dataset creation process.\n",
    "\n",
    "The Uniprot version used here is 2022_05.\n",
    "\n",
    "The result will be datasets of:\n",
    "\n",
    "- Sequences, along with information about manual review status and gene/protein names\n",
    "- Uniprot keywords\n",
    "- GO terms\n",
    "- TCDB data, including annotated CHEBI molecules\n",
    "- Interpro domains\n",
    "\n",
    "The data will be saved as pickled dataframes, which makes the reading much faster. We also tried other binary formats, such as feather, parquet, HDF, and gz/lzma-compressed pickles. The normal pickles led to the best tradeoff between reading speed and file size. "
   ]
  },
  {
   "cell_type": "code",
   "execution_count": 1,
   "metadata": {},
   "outputs": [],
   "source": [
    "OUTPUT_FOLDER = \"../data/datasets\""
   ]
  },
  {
   "cell_type": "code",
   "execution_count": 2,
   "metadata": {},
   "outputs": [],
   "source": [
    "import requests, sys\n",
    "import pandas as pd\n",
    "from subpred.util import save_df, load_df\n",
    "from subpred.cdhit import cd_hit\n",
    "import obonet"
   ]
  },
  {
   "cell_type": "code",
   "execution_count": 3,
   "metadata": {},
   "outputs": [],
   "source": [
    "\n",
    "names = [\n",
    "    \"Uniprot\",\n",
    "    \"gene_names\",\n",
    "    \"protein_names\",\n",
    "    \"reviewed\",\n",
    "    \"protein_existence\",\n",
    "    \"sequence\",\n",
    "    \"organism_id\",\n",
    "    \"go_ids\",\n",
    "    \"keyword_ids\",\n",
    "    \"keywords\",\n",
    "    \"tcdb_ids\",\n",
    "    \"interpro_ids\",\n",
    "]\n",
    "dtypes = {\n",
    "    \"Uniprot\": \"string\",\n",
    "    \"gene_names\": \"string\",\n",
    "    \"protein_names\": \"string\",\n",
    "    \"reviewed\": \"category\",\n",
    "    \"protein_existence\": \"category\",\n",
    "    \"sequence\": \"string\",\n",
    "    \"organism_id\": \"int\",\n",
    "    \"go_ids\": \"string\",\n",
    "    \"keyword_ids\": \"string\",\n",
    "    \"keywords\": \"string\",\n",
    "    \"tcdb_ids\": \"string\",\n",
    "    \"interpro_ids\": \"string\",\n",
    "}\n",
    "\n",
    "df = pd.read_table(\n",
    "    \"../data/raw/uniprot/uniprot_2022_05_evidence1-2_nofragments.tsv\",\n",
    "    index_col=0,\n",
    "    header=None,\n",
    "    names=names,\n",
    "    dtype=dtypes,\n",
    "    skiprows=1,\n",
    ")\n"
   ]
  },
  {
   "attachments": {},
   "cell_type": "markdown",
   "metadata": {},
   "source": [
    "## Cleanup"
   ]
  },
  {
   "cell_type": "code",
   "execution_count": 4,
   "metadata": {},
   "outputs": [
    {
     "name": "stdout",
     "output_type": "stream",
     "text": [
      "reviewed\n",
      "unreviewed    1530743\n",
      "reviewed       162964\n",
      "reviewed\n",
      "False    1530743\n",
      "True      162964\n"
     ]
    }
   ],
   "source": [
    "print(df.reviewed.value_counts().to_string())\n",
    "df.reviewed = df.reviewed.transform(lambda x: x == \"reviewed\").astype(\"bool\")\n",
    "print(df.reviewed.value_counts().to_string())"
   ]
  },
  {
   "cell_type": "code",
   "execution_count": 5,
   "metadata": {},
   "outputs": [
    {
     "name": "stdout",
     "output_type": "stream",
     "text": [
      "protein_existence\n",
      "Evidence at transcript level    1429578\n",
      "Evidence at protein level        264129\n",
      "protein_existence\n",
      "2    1429578\n",
      "1     264129\n"
     ]
    }
   ],
   "source": [
    "print(df.protein_existence.value_counts().to_string())\n",
    "df.protein_existence = df.protein_existence.map({\"Evidence at transcript level\":2,\"Evidence at protein level\":1}).astype(\"int\")\n",
    "print(df.protein_existence.value_counts().to_string())"
   ]
  },
  {
   "attachments": {},
   "cell_type": "markdown",
   "metadata": {},
   "source": [
    "### Filtering out proteins without gene names\n",
    "\n",
    "Apparently mostly peptides and pollen, no transporters"
   ]
  },
  {
   "cell_type": "code",
   "execution_count": 6,
   "metadata": {},
   "outputs": [
    {
     "name": "stdout",
     "output_type": "stream",
     "text": [
      "before 1693707\n",
      "after 1021957\n"
     ]
    }
   ],
   "source": [
    "print(\"before\", len(df))\n",
    "df = df[~df.gene_names.isnull()]\n",
    "print(\"after\", len(df))"
   ]
  },
  {
   "attachments": {},
   "cell_type": "markdown",
   "metadata": {},
   "source": [
    "### Parsing sequences"
   ]
  },
  {
   "cell_type": "code",
   "execution_count": 7,
   "metadata": {},
   "outputs": [
    {
     "name": "stdout",
     "output_type": "stream",
     "text": [
      "proteins with non-standard amino acids:\n"
     ]
    },
    {
     "data": {
      "text/plain": [
       "21352"
      ]
     },
     "execution_count": 7,
     "metadata": {},
     "output_type": "execute_result"
    }
   ],
   "source": [
    "import re\n",
    "print(\"proteins with non-standard amino acids:\")\n",
    "df[~df.sequence.str.fullmatch(re.compile(\"[ACDEFGHIKLMNPQRSTVWY]+\"))].shape[0]"
   ]
  },
  {
   "attachments": {},
   "cell_type": "markdown",
   "metadata": {},
   "source": [
    "Removing non-standard amino acids from sequences:"
   ]
  },
  {
   "cell_type": "code",
   "execution_count": 8,
   "metadata": {},
   "outputs": [],
   "source": [
    "df.sequence = df.sequence.str.replace(re.compile(\"[^ACDEFGHIKLMNPQRSTVWY]+\"), \"\", regex=True)"
   ]
  },
  {
   "cell_type": "code",
   "execution_count": 9,
   "metadata": {},
   "outputs": [
    {
     "name": "stdout",
     "output_type": "stream",
     "text": [
      "proteins with non-standard amino acids:\n"
     ]
    },
    {
     "data": {
      "text/plain": [
       "0"
      ]
     },
     "execution_count": 9,
     "metadata": {},
     "output_type": "execute_result"
    }
   ],
   "source": [
    "print(\"proteins with non-standard amino acids:\")\n",
    "df[~df.sequence.str.fullmatch(re.compile(\"[ACDEFGHIKLMNPQRSTVWY]+\"))].shape[0]"
   ]
  },
  {
   "attachments": {},
   "cell_type": "markdown",
   "metadata": {},
   "source": [
    "### Saving dataset"
   ]
  },
  {
   "cell_type": "code",
   "execution_count": 10,
   "metadata": {},
   "outputs": [],
   "source": [
    "df_sequences = df.drop(\n",
    "    [\"go_ids\", \"keyword_ids\", \"keywords\", \"tcdb_ids\", \"interpro_ids\"], axis=1\n",
    ")"
   ]
  },
  {
   "cell_type": "code",
   "execution_count": 11,
   "metadata": {},
   "outputs": [],
   "source": [
    "save_df(df=df_sequences, dataset_name=\"uniprot\", folder_path=OUTPUT_FOLDER)"
   ]
  },
  {
   "attachments": {},
   "cell_type": "markdown",
   "metadata": {},
   "source": [
    "### Clustering"
   ]
  },
  {
   "cell_type": "code",
   "execution_count": 12,
   "metadata": {},
   "outputs": [
    {
     "name": "stdout",
     "output_type": "stream",
     "text": [
      "cd-hit: clustered .......... sequences into finished clusters at threshold 70\n"
     ]
    }
   ],
   "source": [
    "cluster_representatives_70 = cd_hit(df_sequences.sequence, identity_threshold=70,n_threads=0)\n",
    "df_sequences_cdhit70 = df_sequences.loc[cluster_representatives_70]\n",
    "save_df(df=df_sequences_cdhit70, dataset_name=\"uniprot70\", folder_path=OUTPUT_FOLDER)"
   ]
  },
  {
   "attachments": {},
   "cell_type": "markdown",
   "metadata": {},
   "source": [
    "## Annotation datasets"
   ]
  },
  {
   "attachments": {},
   "cell_type": "markdown",
   "metadata": {},
   "source": [
    "### Keywords"
   ]
  },
  {
   "cell_type": "code",
   "execution_count": 13,
   "metadata": {},
   "outputs": [
    {
     "data": {
      "text/html": [
       "<div>\n",
       "<style scoped>\n",
       "    .dataframe tbody tr th:only-of-type {\n",
       "        vertical-align: middle;\n",
       "    }\n",
       "\n",
       "    .dataframe tbody tr th {\n",
       "        vertical-align: top;\n",
       "    }\n",
       "\n",
       "    .dataframe thead th {\n",
       "        text-align: right;\n",
       "    }\n",
       "</style>\n",
       "<table border=\"1\" class=\"dataframe\">\n",
       "  <thead>\n",
       "    <tr style=\"text-align: right;\">\n",
       "      <th></th>\n",
       "      <th>Uniprot</th>\n",
       "      <th>keyword</th>\n",
       "    </tr>\n",
       "  </thead>\n",
       "  <tbody>\n",
       "    <tr>\n",
       "      <th>0</th>\n",
       "      <td>A0A0C5B5G6</td>\n",
       "      <td>DNA-binding</td>\n",
       "    </tr>\n",
       "    <tr>\n",
       "      <th>1</th>\n",
       "      <td>A0A0C5B5G6</td>\n",
       "      <td>Mitochondrion</td>\n",
       "    </tr>\n",
       "    <tr>\n",
       "      <th>2</th>\n",
       "      <td>A0A0C5B5G6</td>\n",
       "      <td>Nucleus</td>\n",
       "    </tr>\n",
       "    <tr>\n",
       "      <th>3</th>\n",
       "      <td>A0A0C5B5G6</td>\n",
       "      <td>Osteogenesis</td>\n",
       "    </tr>\n",
       "    <tr>\n",
       "      <th>4</th>\n",
       "      <td>A0A0C5B5G6</td>\n",
       "      <td>Reference proteome</td>\n",
       "    </tr>\n",
       "    <tr>\n",
       "      <th>...</th>\n",
       "      <td>...</td>\n",
       "      <td>...</td>\n",
       "    </tr>\n",
       "    <tr>\n",
       "      <th>5318151</th>\n",
       "      <td>X5MI49</td>\n",
       "      <td>Membrane</td>\n",
       "    </tr>\n",
       "    <tr>\n",
       "      <th>5318152</th>\n",
       "      <td>X5MI49</td>\n",
       "      <td>Transferase</td>\n",
       "    </tr>\n",
       "    <tr>\n",
       "      <th>5318153</th>\n",
       "      <td>X5MI49</td>\n",
       "      <td>Transmembrane</td>\n",
       "    </tr>\n",
       "    <tr>\n",
       "      <th>5318154</th>\n",
       "      <td>X5MI49</td>\n",
       "      <td>Transmembrane helix</td>\n",
       "    </tr>\n",
       "    <tr>\n",
       "      <th>5318155</th>\n",
       "      <td>X5MPI5</td>\n",
       "      <td>Transferase</td>\n",
       "    </tr>\n",
       "  </tbody>\n",
       "</table>\n",
       "<p>5318156 rows × 2 columns</p>\n",
       "</div>"
      ],
      "text/plain": [
       "            Uniprot              keyword\n",
       "0        A0A0C5B5G6          DNA-binding\n",
       "1        A0A0C5B5G6        Mitochondrion\n",
       "2        A0A0C5B5G6              Nucleus\n",
       "3        A0A0C5B5G6         Osteogenesis\n",
       "4        A0A0C5B5G6   Reference proteome\n",
       "...             ...                  ...\n",
       "5318151      X5MI49             Membrane\n",
       "5318152      X5MI49          Transferase\n",
       "5318153      X5MI49        Transmembrane\n",
       "5318154      X5MI49  Transmembrane helix\n",
       "5318155      X5MPI5          Transferase\n",
       "\n",
       "[5318156 rows x 2 columns]"
      ]
     },
     "execution_count": 13,
     "metadata": {},
     "output_type": "execute_result"
    }
   ],
   "source": [
    "df_keywords = (\n",
    "    df.keywords.dropna()\n",
    "    .str.split(\";\")\n",
    "    .explode()\n",
    "    .str.strip()\n",
    "    .astype(\"category\")\n",
    "    .rename(\"keyword\")\n",
    "    .to_frame()\n",
    "    .reset_index(drop=False)\n",
    "    .drop_duplicates()\n",
    ")\n",
    "df_keywords"
   ]
  },
  {
   "cell_type": "code",
   "execution_count": 14,
   "metadata": {},
   "outputs": [],
   "source": [
    "save_df(df=df_keywords, dataset_name=\"keywords\", folder_path=OUTPUT_FOLDER)"
   ]
  },
  {
   "attachments": {},
   "cell_type": "markdown",
   "metadata": {},
   "source": [
    "There are keyword ids as well, but their order does not match that of the keyword strings column:"
   ]
  },
  {
   "cell_type": "code",
   "execution_count": 15,
   "metadata": {},
   "outputs": [
    {
     "data": {
      "text/plain": [
       "Uniprot\n",
       "A0A0C5B5G6    KW-0238\n",
       "A0A0C5B5G6    KW-0496\n",
       "A0A0C5B5G6    KW-0539\n",
       "A0A0C5B5G6    KW-0892\n",
       "A0A0C5B5G6    KW-1185\n",
       "               ...   \n",
       "X5MI49        KW-0472\n",
       "X5MI49        KW-0808\n",
       "X5MI49        KW-0812\n",
       "X5MI49        KW-1133\n",
       "X5MPI5        KW-0808\n",
       "Name: keyword_ids, Length: 5410571, dtype: object"
      ]
     },
     "execution_count": 15,
     "metadata": {},
     "output_type": "execute_result"
    }
   ],
   "source": [
    "df.keyword_ids.str.split(\";\").explode().str.strip()"
   ]
  },
  {
   "attachments": {},
   "cell_type": "markdown",
   "metadata": {},
   "source": [
    "### Interpro Domains"
   ]
  },
  {
   "cell_type": "code",
   "execution_count": 16,
   "metadata": {},
   "outputs": [
    {
     "data": {
      "text/html": [
       "<div>\n",
       "<style scoped>\n",
       "    .dataframe tbody tr th:only-of-type {\n",
       "        vertical-align: middle;\n",
       "    }\n",
       "\n",
       "    .dataframe tbody tr th {\n",
       "        vertical-align: top;\n",
       "    }\n",
       "\n",
       "    .dataframe thead th {\n",
       "        text-align: right;\n",
       "    }\n",
       "</style>\n",
       "<table border=\"1\" class=\"dataframe\">\n",
       "  <thead>\n",
       "    <tr style=\"text-align: right;\">\n",
       "      <th></th>\n",
       "      <th>Uniprot</th>\n",
       "      <th>interpro_id</th>\n",
       "    </tr>\n",
       "  </thead>\n",
       "  <tbody>\n",
       "    <tr>\n",
       "      <th>0</th>\n",
       "      <td>A0A1B0GTW7</td>\n",
       "      <td>IPR001577</td>\n",
       "    </tr>\n",
       "    <tr>\n",
       "      <th>1</th>\n",
       "      <td>A0JNW5</td>\n",
       "      <td>IPR026728</td>\n",
       "    </tr>\n",
       "    <tr>\n",
       "      <th>2</th>\n",
       "      <td>A0JNW5</td>\n",
       "      <td>IPR026854</td>\n",
       "    </tr>\n",
       "    <tr>\n",
       "      <th>3</th>\n",
       "      <td>A0JP26</td>\n",
       "      <td>IPR002110</td>\n",
       "    </tr>\n",
       "    <tr>\n",
       "      <th>4</th>\n",
       "      <td>A0JP26</td>\n",
       "      <td>IPR036770</td>\n",
       "    </tr>\n",
       "    <tr>\n",
       "      <th>...</th>\n",
       "      <td>...</td>\n",
       "      <td>...</td>\n",
       "    </tr>\n",
       "    <tr>\n",
       "      <th>4190605</th>\n",
       "      <td>X5MFI4</td>\n",
       "      <td>IPR029044</td>\n",
       "    </tr>\n",
       "    <tr>\n",
       "      <th>4190606</th>\n",
       "      <td>X5MI49</td>\n",
       "      <td>IPR008630</td>\n",
       "    </tr>\n",
       "    <tr>\n",
       "      <th>4190607</th>\n",
       "      <td>X5MI49</td>\n",
       "      <td>IPR029044</td>\n",
       "    </tr>\n",
       "    <tr>\n",
       "      <th>4190608</th>\n",
       "      <td>X5MPI5</td>\n",
       "      <td>IPR008630</td>\n",
       "    </tr>\n",
       "    <tr>\n",
       "      <th>4190609</th>\n",
       "      <td>X5MPI5</td>\n",
       "      <td>IPR029044</td>\n",
       "    </tr>\n",
       "  </tbody>\n",
       "</table>\n",
       "<p>4190610 rows × 2 columns</p>\n",
       "</div>"
      ],
      "text/plain": [
       "            Uniprot interpro_id\n",
       "0        A0A1B0GTW7   IPR001577\n",
       "1            A0JNW5   IPR026728\n",
       "2            A0JNW5   IPR026854\n",
       "3            A0JP26   IPR002110\n",
       "4            A0JP26   IPR036770\n",
       "...             ...         ...\n",
       "4190605      X5MFI4   IPR029044\n",
       "4190606      X5MI49   IPR008630\n",
       "4190607      X5MI49   IPR029044\n",
       "4190608      X5MPI5   IPR008630\n",
       "4190609      X5MPI5   IPR029044\n",
       "\n",
       "[4190610 rows x 2 columns]"
      ]
     },
     "execution_count": 16,
     "metadata": {},
     "output_type": "execute_result"
    }
   ],
   "source": [
    "df_interpro = (\n",
    "    df.interpro_ids.dropna()\n",
    "    .str.rstrip(\";\")\n",
    "    .str.split(\";\")\n",
    "    .explode()\n",
    "    .rename(\"interpro_id\")\n",
    "    .to_frame()\n",
    "    .reset_index(drop=False)\n",
    "    .drop_duplicates()\n",
    ")\n",
    "df_interpro"
   ]
  },
  {
   "attachments": {},
   "cell_type": "markdown",
   "metadata": {},
   "source": [
    "#### Adding Names for Interpro domains"
   ]
  },
  {
   "cell_type": "code",
   "execution_count": 17,
   "metadata": {},
   "outputs": [
    {
     "data": {
      "text/html": [
       "<div>\n",
       "<style scoped>\n",
       "    .dataframe tbody tr th:only-of-type {\n",
       "        vertical-align: middle;\n",
       "    }\n",
       "\n",
       "    .dataframe tbody tr th {\n",
       "        vertical-align: top;\n",
       "    }\n",
       "\n",
       "    .dataframe thead th {\n",
       "        text-align: right;\n",
       "    }\n",
       "</style>\n",
       "<table border=\"1\" class=\"dataframe\">\n",
       "  <thead>\n",
       "    <tr style=\"text-align: right;\">\n",
       "      <th></th>\n",
       "      <th>type</th>\n",
       "      <th>name</th>\n",
       "    </tr>\n",
       "    <tr>\n",
       "      <th>accession</th>\n",
       "      <th></th>\n",
       "      <th></th>\n",
       "    </tr>\n",
       "  </thead>\n",
       "  <tbody>\n",
       "    <tr>\n",
       "      <th>IPR000126</th>\n",
       "      <td>Active_site</td>\n",
       "      <td>Serine proteases, V8 family, serine active site</td>\n",
       "    </tr>\n",
       "    <tr>\n",
       "      <th>IPR000138</th>\n",
       "      <td>Active_site</td>\n",
       "      <td>Hydroxymethylglutaryl-CoA lyase, active site</td>\n",
       "    </tr>\n",
       "    <tr>\n",
       "      <th>IPR000169</th>\n",
       "      <td>Active_site</td>\n",
       "      <td>Cysteine peptidase, cysteine active site</td>\n",
       "    </tr>\n",
       "    <tr>\n",
       "      <th>IPR000180</th>\n",
       "      <td>Active_site</td>\n",
       "      <td>Membrane dipeptidase, active site</td>\n",
       "    </tr>\n",
       "    <tr>\n",
       "      <th>IPR000189</th>\n",
       "      <td>Active_site</td>\n",
       "      <td>Prokaryotic transglycosylase, active site</td>\n",
       "    </tr>\n",
       "  </tbody>\n",
       "</table>\n",
       "</div>"
      ],
      "text/plain": [
       "                  type                                             name\n",
       "accession                                                              \n",
       "IPR000126  Active_site  Serine proteases, V8 family, serine active site\n",
       "IPR000138  Active_site     Hydroxymethylglutaryl-CoA lyase, active site\n",
       "IPR000169  Active_site         Cysteine peptidase, cysteine active site\n",
       "IPR000180  Active_site                Membrane dipeptidase, active site\n",
       "IPR000189  Active_site        Prokaryotic transglycosylase, active site"
      ]
     },
     "execution_count": 17,
     "metadata": {},
     "output_type": "execute_result"
    }
   ],
   "source": [
    "df_interpro_annotations = pd.read_table(\"../data/raw/interpro/interpro_entries.tsv\", names=[\"accession\", \"type\", \"name\"], skiprows=1, index_col=0, dtype={\"accession\":str, \"type\": \"category\", \"name\":str})\n",
    "df_interpro_annotations.head()"
   ]
  },
  {
   "attachments": {},
   "cell_type": "markdown",
   "metadata": {},
   "source": [
    "What are the entry types?\n",
    "\n",
    "https://www.ebi.ac.uk/training/online/courses/interpro-functional-and-structural-analysis/what-is-an-interpro-entry/interpro-entry-types/#:~:text=InterPro%20entries%20are%20classified%20into,of%20an%20InterPro%20entry%20page.\n",
    "\n",
    "InterPro entries are classified into one of five categories, depending on the biological entity they represent: homologous superfamily, protein family, domain, repeat or site."
   ]
  },
  {
   "cell_type": "code",
   "execution_count": 18,
   "metadata": {},
   "outputs": [
    {
     "data": {
      "text/plain": [
       "type\n",
       "Family                    23997\n",
       "Domain                    11954\n",
       "Homologous_superfamily     3399\n",
       "Conserved_site              696\n",
       "Repeat                      327\n",
       "Active_site                 132\n",
       "Binding_site                 75\n",
       "PTM                          17\n",
       "Name: count, dtype: int64"
      ]
     },
     "execution_count": 18,
     "metadata": {},
     "output_type": "execute_result"
    }
   ],
   "source": [
    "df_interpro_annotations.type.value_counts()"
   ]
  },
  {
   "attachments": {},
   "cell_type": "markdown",
   "metadata": {},
   "source": [
    "It seems that the textual data splits \"site\" into converved site, active site, binding site, and PTM. We can just keep all of them, since it will be obvious later which category a particular annotation belongs to."
   ]
  },
  {
   "cell_type": "code",
   "execution_count": 19,
   "metadata": {},
   "outputs": [
    {
     "data": {
      "text/html": [
       "<div>\n",
       "<style scoped>\n",
       "    .dataframe tbody tr th:only-of-type {\n",
       "        vertical-align: middle;\n",
       "    }\n",
       "\n",
       "    .dataframe tbody tr th {\n",
       "        vertical-align: top;\n",
       "    }\n",
       "\n",
       "    .dataframe thead th {\n",
       "        text-align: right;\n",
       "    }\n",
       "</style>\n",
       "<table border=\"1\" class=\"dataframe\">\n",
       "  <thead>\n",
       "    <tr style=\"text-align: right;\">\n",
       "      <th></th>\n",
       "      <th>type</th>\n",
       "      <th>name</th>\n",
       "    </tr>\n",
       "    <tr>\n",
       "      <th>accession</th>\n",
       "      <th></th>\n",
       "      <th></th>\n",
       "    </tr>\n",
       "  </thead>\n",
       "  <tbody>\n",
       "    <tr>\n",
       "      <th>IPR000152</th>\n",
       "      <td>PTM</td>\n",
       "      <td>EGF-type aspartate/asparagine hydroxylation site</td>\n",
       "    </tr>\n",
       "    <tr>\n",
       "      <th>IPR001020</th>\n",
       "      <td>PTM</td>\n",
       "      <td>Phosphotransferase system, HPr histidine phosp...</td>\n",
       "    </tr>\n",
       "    <tr>\n",
       "      <th>IPR002114</th>\n",
       "      <td>PTM</td>\n",
       "      <td>Phosphotransferase system, HPr serine phosphor...</td>\n",
       "    </tr>\n",
       "    <tr>\n",
       "      <th>IPR002332</th>\n",
       "      <td>PTM</td>\n",
       "      <td>Nitrogen regulatory protein P-II, urydylation ...</td>\n",
       "    </tr>\n",
       "    <tr>\n",
       "      <th>IPR004091</th>\n",
       "      <td>PTM</td>\n",
       "      <td>Chemotaxis methyl-accepting receptor, methyl-a...</td>\n",
       "    </tr>\n",
       "    <tr>\n",
       "      <th>IPR006141</th>\n",
       "      <td>PTM</td>\n",
       "      <td>Intein N-terminal splicing region</td>\n",
       "    </tr>\n",
       "    <tr>\n",
       "      <th>IPR006162</th>\n",
       "      <td>PTM</td>\n",
       "      <td>Phosphopantetheine attachment site</td>\n",
       "    </tr>\n",
       "    <tr>\n",
       "      <th>IPR012902</th>\n",
       "      <td>PTM</td>\n",
       "      <td>Prokaryotic N-terminal methylation site</td>\n",
       "    </tr>\n",
       "    <tr>\n",
       "      <th>IPR018051</th>\n",
       "      <td>PTM</td>\n",
       "      <td>Surfactant-associated polypeptide, palmitoylat...</td>\n",
       "    </tr>\n",
       "    <tr>\n",
       "      <th>IPR018070</th>\n",
       "      <td>PTM</td>\n",
       "      <td>Neuromedin U, amidation site</td>\n",
       "    </tr>\n",
       "    <tr>\n",
       "      <th>IPR018243</th>\n",
       "      <td>PTM</td>\n",
       "      <td>Neuromodulin, palmitoylation site</td>\n",
       "    </tr>\n",
       "    <tr>\n",
       "      <th>IPR018303</th>\n",
       "      <td>PTM</td>\n",
       "      <td>P-type ATPase, phosphorylation site</td>\n",
       "    </tr>\n",
       "    <tr>\n",
       "      <th>IPR019736</th>\n",
       "      <td>PTM</td>\n",
       "      <td>Synapsin, phosphorylation site</td>\n",
       "    </tr>\n",
       "    <tr>\n",
       "      <th>IPR019769</th>\n",
       "      <td>PTM</td>\n",
       "      <td>Translation elongation factor, IF5A, hypusine ...</td>\n",
       "    </tr>\n",
       "    <tr>\n",
       "      <th>IPR021020</th>\n",
       "      <td>PTM</td>\n",
       "      <td>Adhesin, Dr family, signal peptide</td>\n",
       "    </tr>\n",
       "    <tr>\n",
       "      <th>IPR029259</th>\n",
       "      <td>PTM</td>\n",
       "      <td>Rapamycin-insensitive companion of mTOR, phosp...</td>\n",
       "    </tr>\n",
       "    <tr>\n",
       "      <th>IPR033137</th>\n",
       "      <td>PTM</td>\n",
       "      <td>Neuromodulin, phosphorylation site</td>\n",
       "    </tr>\n",
       "  </tbody>\n",
       "</table>\n",
       "</div>"
      ],
      "text/plain": [
       "          type                                               name\n",
       "accession                                                        \n",
       "IPR000152  PTM   EGF-type aspartate/asparagine hydroxylation site\n",
       "IPR001020  PTM  Phosphotransferase system, HPr histidine phosp...\n",
       "IPR002114  PTM  Phosphotransferase system, HPr serine phosphor...\n",
       "IPR002332  PTM  Nitrogen regulatory protein P-II, urydylation ...\n",
       "IPR004091  PTM  Chemotaxis methyl-accepting receptor, methyl-a...\n",
       "IPR006141  PTM                  Intein N-terminal splicing region\n",
       "IPR006162  PTM                 Phosphopantetheine attachment site\n",
       "IPR012902  PTM            Prokaryotic N-terminal methylation site\n",
       "IPR018051  PTM  Surfactant-associated polypeptide, palmitoylat...\n",
       "IPR018070  PTM                       Neuromedin U, amidation site\n",
       "IPR018243  PTM                  Neuromodulin, palmitoylation site\n",
       "IPR018303  PTM                P-type ATPase, phosphorylation site\n",
       "IPR019736  PTM                     Synapsin, phosphorylation site\n",
       "IPR019769  PTM  Translation elongation factor, IF5A, hypusine ...\n",
       "IPR021020  PTM                 Adhesin, Dr family, signal peptide\n",
       "IPR029259  PTM  Rapamycin-insensitive companion of mTOR, phosp...\n",
       "IPR033137  PTM                 Neuromodulin, phosphorylation site"
      ]
     },
     "execution_count": 19,
     "metadata": {},
     "output_type": "execute_result"
    }
   ],
   "source": [
    "df_interpro_annotations[df_interpro_annotations.type == \"PTM\"]"
   ]
  },
  {
   "cell_type": "code",
   "execution_count": 20,
   "metadata": {},
   "outputs": [
    {
     "data": {
      "text/html": [
       "<div>\n",
       "<style scoped>\n",
       "    .dataframe tbody tr th:only-of-type {\n",
       "        vertical-align: middle;\n",
       "    }\n",
       "\n",
       "    .dataframe tbody tr th {\n",
       "        vertical-align: top;\n",
       "    }\n",
       "\n",
       "    .dataframe thead th {\n",
       "        text-align: right;\n",
       "    }\n",
       "</style>\n",
       "<table border=\"1\" class=\"dataframe\">\n",
       "  <thead>\n",
       "    <tr style=\"text-align: right;\">\n",
       "      <th></th>\n",
       "      <th>Uniprot</th>\n",
       "      <th>interpro_id</th>\n",
       "      <th>type</th>\n",
       "      <th>name</th>\n",
       "    </tr>\n",
       "  </thead>\n",
       "  <tbody>\n",
       "    <tr>\n",
       "      <th>0</th>\n",
       "      <td>A0A1B0GTW7</td>\n",
       "      <td>IPR001577</td>\n",
       "      <td>Family</td>\n",
       "      <td>Peptidase M8, leishmanolysin</td>\n",
       "    </tr>\n",
       "    <tr>\n",
       "      <th>1</th>\n",
       "      <td>A0JNW5</td>\n",
       "      <td>IPR026728</td>\n",
       "      <td>Family</td>\n",
       "      <td>UHRF1-binding protein 1-like</td>\n",
       "    </tr>\n",
       "    <tr>\n",
       "      <th>2</th>\n",
       "      <td>A0JNW5</td>\n",
       "      <td>IPR026854</td>\n",
       "      <td>Domain</td>\n",
       "      <td>Vacuolar protein sorting-associated protein 13...</td>\n",
       "    </tr>\n",
       "    <tr>\n",
       "      <th>3</th>\n",
       "      <td>A0JP26</td>\n",
       "      <td>IPR002110</td>\n",
       "      <td>Repeat</td>\n",
       "      <td>Ankyrin repeat</td>\n",
       "    </tr>\n",
       "    <tr>\n",
       "      <th>4</th>\n",
       "      <td>A0JP26</td>\n",
       "      <td>IPR036770</td>\n",
       "      <td>Homologous_superfamily</td>\n",
       "      <td>Ankyrin repeat-containing domain superfamily</td>\n",
       "    </tr>\n",
       "    <tr>\n",
       "      <th>...</th>\n",
       "      <td>...</td>\n",
       "      <td>...</td>\n",
       "      <td>...</td>\n",
       "      <td>...</td>\n",
       "    </tr>\n",
       "    <tr>\n",
       "      <th>4190605</th>\n",
       "      <td>X5MFI4</td>\n",
       "      <td>IPR029044</td>\n",
       "      <td>Homologous_superfamily</td>\n",
       "      <td>Nucleotide-diphospho-sugar transferases</td>\n",
       "    </tr>\n",
       "    <tr>\n",
       "      <th>4190606</th>\n",
       "      <td>X5MI49</td>\n",
       "      <td>IPR008630</td>\n",
       "      <td>Family</td>\n",
       "      <td>Glycosyltransferase 34</td>\n",
       "    </tr>\n",
       "    <tr>\n",
       "      <th>4190607</th>\n",
       "      <td>X5MI49</td>\n",
       "      <td>IPR029044</td>\n",
       "      <td>Homologous_superfamily</td>\n",
       "      <td>Nucleotide-diphospho-sugar transferases</td>\n",
       "    </tr>\n",
       "    <tr>\n",
       "      <th>4190608</th>\n",
       "      <td>X5MPI5</td>\n",
       "      <td>IPR008630</td>\n",
       "      <td>Family</td>\n",
       "      <td>Glycosyltransferase 34</td>\n",
       "    </tr>\n",
       "    <tr>\n",
       "      <th>4190609</th>\n",
       "      <td>X5MPI5</td>\n",
       "      <td>IPR029044</td>\n",
       "      <td>Homologous_superfamily</td>\n",
       "      <td>Nucleotide-diphospho-sugar transferases</td>\n",
       "    </tr>\n",
       "  </tbody>\n",
       "</table>\n",
       "<p>4190610 rows × 4 columns</p>\n",
       "</div>"
      ],
      "text/plain": [
       "            Uniprot interpro_id                    type  \\\n",
       "0        A0A1B0GTW7   IPR001577                  Family   \n",
       "1            A0JNW5   IPR026728                  Family   \n",
       "2            A0JNW5   IPR026854                  Domain   \n",
       "3            A0JP26   IPR002110                  Repeat   \n",
       "4            A0JP26   IPR036770  Homologous_superfamily   \n",
       "...             ...         ...                     ...   \n",
       "4190605      X5MFI4   IPR029044  Homologous_superfamily   \n",
       "4190606      X5MI49   IPR008630                  Family   \n",
       "4190607      X5MI49   IPR029044  Homologous_superfamily   \n",
       "4190608      X5MPI5   IPR008630                  Family   \n",
       "4190609      X5MPI5   IPR029044  Homologous_superfamily   \n",
       "\n",
       "                                                      name  \n",
       "0                             Peptidase M8, leishmanolysin  \n",
       "1                             UHRF1-binding protein 1-like  \n",
       "2        Vacuolar protein sorting-associated protein 13...  \n",
       "3                                           Ankyrin repeat  \n",
       "4             Ankyrin repeat-containing domain superfamily  \n",
       "...                                                    ...  \n",
       "4190605            Nucleotide-diphospho-sugar transferases  \n",
       "4190606                             Glycosyltransferase 34  \n",
       "4190607            Nucleotide-diphospho-sugar transferases  \n",
       "4190608                             Glycosyltransferase 34  \n",
       "4190609            Nucleotide-diphospho-sugar transferases  \n",
       "\n",
       "[4190610 rows x 4 columns]"
      ]
     },
     "execution_count": 20,
     "metadata": {},
     "output_type": "execute_result"
    }
   ],
   "source": [
    "df_interpro = df_interpro.merge(df_interpro_annotations, how=\"left\", left_on=\"interpro_id\", right_index=True)\n",
    "df_interpro"
   ]
  },
  {
   "attachments": {},
   "cell_type": "markdown",
   "metadata": {},
   "source": [
    "When using the current interpro file, there were 61901 annotations with no name in the file. When looking them up manually (i.e. https://www.ebi.ac.uk/interpro/entry/InterPro/IPR027181/), it turned out that all of them were non-active, removed entries. We switched to version 90, which is what our Uniprot dataset 2022_05 was linked with. Now, there are no more identifiers with missing names."
   ]
  },
  {
   "cell_type": "code",
   "execution_count": 21,
   "metadata": {},
   "outputs": [
    {
     "data": {
      "text/html": [
       "<div>\n",
       "<style scoped>\n",
       "    .dataframe tbody tr th:only-of-type {\n",
       "        vertical-align: middle;\n",
       "    }\n",
       "\n",
       "    .dataframe tbody tr th {\n",
       "        vertical-align: top;\n",
       "    }\n",
       "\n",
       "    .dataframe thead th {\n",
       "        text-align: right;\n",
       "    }\n",
       "</style>\n",
       "<table border=\"1\" class=\"dataframe\">\n",
       "  <thead>\n",
       "    <tr style=\"text-align: right;\">\n",
       "      <th></th>\n",
       "      <th>Uniprot</th>\n",
       "      <th>interpro_id</th>\n",
       "      <th>type</th>\n",
       "      <th>name</th>\n",
       "    </tr>\n",
       "  </thead>\n",
       "  <tbody>\n",
       "  </tbody>\n",
       "</table>\n",
       "</div>"
      ],
      "text/plain": [
       "Empty DataFrame\n",
       "Columns: [Uniprot, interpro_id, type, name]\n",
       "Index: []"
      ]
     },
     "execution_count": 21,
     "metadata": {},
     "output_type": "execute_result"
    }
   ],
   "source": [
    "df_interpro[df_interpro.name.isnull() | df_interpro.type.isnull()]"
   ]
  },
  {
   "cell_type": "code",
   "execution_count": 22,
   "metadata": {},
   "outputs": [],
   "source": [
    "save_df(df=df_interpro, dataset_name=\"interpro\", folder_path=OUTPUT_FOLDER)"
   ]
  },
  {
   "attachments": {},
   "cell_type": "markdown",
   "metadata": {},
   "source": [
    "### TCDB substrates"
   ]
  },
  {
   "cell_type": "code",
   "execution_count": 23,
   "metadata": {},
   "outputs": [
    {
     "data": {
      "text/html": [
       "<div>\n",
       "<style scoped>\n",
       "    .dataframe tbody tr th:only-of-type {\n",
       "        vertical-align: middle;\n",
       "    }\n",
       "\n",
       "    .dataframe tbody tr th {\n",
       "        vertical-align: top;\n",
       "    }\n",
       "\n",
       "    .dataframe thead th {\n",
       "        text-align: right;\n",
       "    }\n",
       "</style>\n",
       "<table border=\"1\" class=\"dataframe\">\n",
       "  <thead>\n",
       "    <tr style=\"text-align: right;\">\n",
       "      <th></th>\n",
       "      <th>tcdb_id</th>\n",
       "      <th>variable</th>\n",
       "      <th>value</th>\n",
       "    </tr>\n",
       "  </thead>\n",
       "  <tbody>\n",
       "    <tr>\n",
       "      <th>0</th>\n",
       "      <td>2.A.52.2.2</td>\n",
       "      <td>chebi_id</td>\n",
       "      <td>CHEBI:23337</td>\n",
       "    </tr>\n",
       "    <tr>\n",
       "      <th>1</th>\n",
       "      <td>2.A.52.2.2</td>\n",
       "      <td>chebi_id</td>\n",
       "      <td>CHEBI:25517</td>\n",
       "    </tr>\n",
       "    <tr>\n",
       "      <th>2</th>\n",
       "      <td>2.A.22.2.5</td>\n",
       "      <td>chebi_id</td>\n",
       "      <td>CHEBI:9175</td>\n",
       "    </tr>\n",
       "    <tr>\n",
       "      <th>3</th>\n",
       "      <td>2.A.22.2.5</td>\n",
       "      <td>chebi_id</td>\n",
       "      <td>CHEBI:8345</td>\n",
       "    </tr>\n",
       "    <tr>\n",
       "      <th>4</th>\n",
       "      <td>2.A.90.2.4</td>\n",
       "      <td>chebi_id</td>\n",
       "      <td>CHEBI:8816</td>\n",
       "    </tr>\n",
       "    <tr>\n",
       "      <th>...</th>\n",
       "      <td>...</td>\n",
       "      <td>...</td>\n",
       "      <td>...</td>\n",
       "    </tr>\n",
       "    <tr>\n",
       "      <th>26829</th>\n",
       "      <td>1.H.1.1.17</td>\n",
       "      <td>chebi_term</td>\n",
       "      <td>cation</td>\n",
       "    </tr>\n",
       "    <tr>\n",
       "      <th>26830</th>\n",
       "      <td>8.A.139.2.2</td>\n",
       "      <td>chebi_term</td>\n",
       "      <td>peptide</td>\n",
       "    </tr>\n",
       "    <tr>\n",
       "      <th>26831</th>\n",
       "      <td>1.B.6.2.13</td>\n",
       "      <td>chebi_term</td>\n",
       "      <td>molecule</td>\n",
       "    </tr>\n",
       "    <tr>\n",
       "      <th>26832</th>\n",
       "      <td>2.A.66.1.20</td>\n",
       "      <td>chebi_term</td>\n",
       "      <td>hydron</td>\n",
       "    </tr>\n",
       "    <tr>\n",
       "      <th>26833</th>\n",
       "      <td>2.A.66.1.20</td>\n",
       "      <td>chebi_term</td>\n",
       "      <td>drug</td>\n",
       "    </tr>\n",
       "  </tbody>\n",
       "</table>\n",
       "<p>26834 rows × 3 columns</p>\n",
       "</div>"
      ],
      "text/plain": [
       "           tcdb_id    variable        value\n",
       "0       2.A.52.2.2    chebi_id  CHEBI:23337\n",
       "1       2.A.52.2.2    chebi_id  CHEBI:25517\n",
       "2       2.A.22.2.5    chebi_id   CHEBI:9175\n",
       "3       2.A.22.2.5    chebi_id   CHEBI:8345\n",
       "4       2.A.90.2.4    chebi_id   CHEBI:8816\n",
       "...            ...         ...          ...\n",
       "26829   1.H.1.1.17  chebi_term       cation\n",
       "26830  8.A.139.2.2  chebi_term      peptide\n",
       "26831   1.B.6.2.13  chebi_term     molecule\n",
       "26832  2.A.66.1.20  chebi_term       hydron\n",
       "26833  2.A.66.1.20  chebi_term         drug\n",
       "\n",
       "[26834 rows x 3 columns]"
      ]
     },
     "execution_count": 23,
     "metadata": {},
     "output_type": "execute_result"
    }
   ],
   "source": [
    "df_substrates = pd.read_table(\n",
    "    \"../data/raw/tcdb/tcdb_substrates.tsv\",\n",
    "    header=None,\n",
    "    names=[\"tcdb_id\", \"tcdb_substrates\"],\n",
    "    index_col=0,\n",
    ")\n",
    "df_substrates = (\n",
    "    df_substrates.tcdb_substrates.str.split(\"|\")\n",
    "    .explode()\n",
    "    .str.split(\";\", expand=True)\n",
    "    .rename(columns={0: \"chebi_id\", 1: \"chebi_term\"})\n",
    "    .reset_index(drop=False)\n",
    "    .melt(id_vars=[\"tcdb_id\"], value_vars=[\"chebi_id\", \"chebi_term\"])\n",
    ")\n",
    "df_substrates"
   ]
  },
  {
   "cell_type": "code",
   "execution_count": 24,
   "metadata": {},
   "outputs": [
    {
     "data": {
      "text/html": [
       "<div>\n",
       "<style scoped>\n",
       "    .dataframe tbody tr th:only-of-type {\n",
       "        vertical-align: middle;\n",
       "    }\n",
       "\n",
       "    .dataframe tbody tr th {\n",
       "        vertical-align: top;\n",
       "    }\n",
       "\n",
       "    .dataframe thead th {\n",
       "        text-align: right;\n",
       "    }\n",
       "</style>\n",
       "<table border=\"1\" class=\"dataframe\">\n",
       "  <thead>\n",
       "    <tr style=\"text-align: right;\">\n",
       "      <th></th>\n",
       "      <th>tcdb_id</th>\n",
       "      <th>variable</th>\n",
       "      <th>value</th>\n",
       "    </tr>\n",
       "  </thead>\n",
       "  <tbody>\n",
       "    <tr>\n",
       "      <th>0</th>\n",
       "      <td>9.A.46.1.2</td>\n",
       "      <td>Uniprot</td>\n",
       "      <td>A0PK11</td>\n",
       "    </tr>\n",
       "    <tr>\n",
       "      <th>1</th>\n",
       "      <td>9.B.438.1.1</td>\n",
       "      <td>Uniprot</td>\n",
       "      <td>A2RU14</td>\n",
       "    </tr>\n",
       "    <tr>\n",
       "      <th>2</th>\n",
       "      <td>1.N.2.1.1</td>\n",
       "      <td>Uniprot</td>\n",
       "      <td>A6NI61</td>\n",
       "    </tr>\n",
       "    <tr>\n",
       "      <th>3</th>\n",
       "      <td>9.A.80.1.1</td>\n",
       "      <td>Uniprot</td>\n",
       "      <td>A6NKB5</td>\n",
       "    </tr>\n",
       "    <tr>\n",
       "      <th>4</th>\n",
       "      <td>1.I.1.1.3</td>\n",
       "      <td>Uniprot</td>\n",
       "      <td>O00159</td>\n",
       "    </tr>\n",
       "    <tr>\n",
       "      <th>...</th>\n",
       "      <td>...</td>\n",
       "      <td>...</td>\n",
       "      <td>...</td>\n",
       "    </tr>\n",
       "    <tr>\n",
       "      <th>7553</th>\n",
       "      <td>2.A.47.1.5</td>\n",
       "      <td>Uniprot</td>\n",
       "      <td>Q9W7I2</td>\n",
       "    </tr>\n",
       "    <tr>\n",
       "      <th>7554</th>\n",
       "      <td>2.A.18.3.2</td>\n",
       "      <td>Uniprot</td>\n",
       "      <td>Q9XE48</td>\n",
       "    </tr>\n",
       "    <tr>\n",
       "      <th>7555</th>\n",
       "      <td>2.A.18.3.3</td>\n",
       "      <td>Uniprot</td>\n",
       "      <td>Q9XE49</td>\n",
       "    </tr>\n",
       "    <tr>\n",
       "      <th>7556</th>\n",
       "      <td>2.A.29.11.2</td>\n",
       "      <td>Uniprot</td>\n",
       "      <td>Q9ZNY4</td>\n",
       "    </tr>\n",
       "    <tr>\n",
       "      <th>7557</th>\n",
       "      <td>1.C.71.2.3</td>\n",
       "      <td>Uniprot</td>\n",
       "      <td>T1WIB6</td>\n",
       "    </tr>\n",
       "  </tbody>\n",
       "</table>\n",
       "<p>7558 rows × 3 columns</p>\n",
       "</div>"
      ],
      "text/plain": [
       "          tcdb_id variable   value\n",
       "0      9.A.46.1.2  Uniprot  A0PK11\n",
       "1     9.B.438.1.1  Uniprot  A2RU14\n",
       "2       1.N.2.1.1  Uniprot  A6NI61\n",
       "3      9.A.80.1.1  Uniprot  A6NKB5\n",
       "4       1.I.1.1.3  Uniprot  O00159\n",
       "...           ...      ...     ...\n",
       "7553   2.A.47.1.5  Uniprot  Q9W7I2\n",
       "7554   2.A.18.3.2  Uniprot  Q9XE48\n",
       "7555   2.A.18.3.3  Uniprot  Q9XE49\n",
       "7556  2.A.29.11.2  Uniprot  Q9ZNY4\n",
       "7557   1.C.71.2.3  Uniprot  T1WIB6\n",
       "\n",
       "[7558 rows x 3 columns]"
      ]
     },
     "execution_count": 24,
     "metadata": {},
     "output_type": "execute_result"
    }
   ],
   "source": [
    "df_tcdb_uniprot = (\n",
    "    df.tcdb_ids.dropna()\n",
    "    .str.rstrip(\";\")\n",
    "    .str.split(\";\")\n",
    "    .explode()\n",
    "    .rename(\"tcdb_id\")\n",
    "    .reset_index(drop=False)\n",
    "    .drop_duplicates()\n",
    "    .melt(id_vars=[\"tcdb_id\"], value_vars=[\"Uniprot\"])\n",
    ")\n",
    "df_tcdb_uniprot"
   ]
  },
  {
   "cell_type": "code",
   "execution_count": 25,
   "metadata": {},
   "outputs": [
    {
     "data": {
      "text/html": [
       "<div>\n",
       "<style scoped>\n",
       "    .dataframe tbody tr th:only-of-type {\n",
       "        vertical-align: middle;\n",
       "    }\n",
       "\n",
       "    .dataframe tbody tr th {\n",
       "        vertical-align: top;\n",
       "    }\n",
       "\n",
       "    .dataframe thead th {\n",
       "        text-align: right;\n",
       "    }\n",
       "</style>\n",
       "<table border=\"1\" class=\"dataframe\">\n",
       "  <thead>\n",
       "    <tr style=\"text-align: right;\">\n",
       "      <th></th>\n",
       "      <th>tcdb_id</th>\n",
       "      <th>variable</th>\n",
       "      <th>value</th>\n",
       "    </tr>\n",
       "  </thead>\n",
       "  <tbody>\n",
       "    <tr>\n",
       "      <th>0</th>\n",
       "      <td>2.A.52.2.2</td>\n",
       "      <td>chebi_id</td>\n",
       "      <td>CHEBI:23337</td>\n",
       "    </tr>\n",
       "    <tr>\n",
       "      <th>1</th>\n",
       "      <td>2.A.52.2.2</td>\n",
       "      <td>chebi_id</td>\n",
       "      <td>CHEBI:25517</td>\n",
       "    </tr>\n",
       "    <tr>\n",
       "      <th>2</th>\n",
       "      <td>2.A.22.2.5</td>\n",
       "      <td>chebi_id</td>\n",
       "      <td>CHEBI:9175</td>\n",
       "    </tr>\n",
       "    <tr>\n",
       "      <th>3</th>\n",
       "      <td>2.A.22.2.5</td>\n",
       "      <td>chebi_id</td>\n",
       "      <td>CHEBI:8345</td>\n",
       "    </tr>\n",
       "    <tr>\n",
       "      <th>4</th>\n",
       "      <td>2.A.90.2.4</td>\n",
       "      <td>chebi_id</td>\n",
       "      <td>CHEBI:8816</td>\n",
       "    </tr>\n",
       "    <tr>\n",
       "      <th>...</th>\n",
       "      <td>...</td>\n",
       "      <td>...</td>\n",
       "      <td>...</td>\n",
       "    </tr>\n",
       "    <tr>\n",
       "      <th>34308</th>\n",
       "      <td>2.A.47.1.5</td>\n",
       "      <td>Uniprot</td>\n",
       "      <td>Q9W7I2</td>\n",
       "    </tr>\n",
       "    <tr>\n",
       "      <th>34309</th>\n",
       "      <td>2.A.18.3.2</td>\n",
       "      <td>Uniprot</td>\n",
       "      <td>Q9XE48</td>\n",
       "    </tr>\n",
       "    <tr>\n",
       "      <th>34310</th>\n",
       "      <td>2.A.18.3.3</td>\n",
       "      <td>Uniprot</td>\n",
       "      <td>Q9XE49</td>\n",
       "    </tr>\n",
       "    <tr>\n",
       "      <th>34311</th>\n",
       "      <td>2.A.29.11.2</td>\n",
       "      <td>Uniprot</td>\n",
       "      <td>Q9ZNY4</td>\n",
       "    </tr>\n",
       "    <tr>\n",
       "      <th>34312</th>\n",
       "      <td>1.C.71.2.3</td>\n",
       "      <td>Uniprot</td>\n",
       "      <td>T1WIB6</td>\n",
       "    </tr>\n",
       "  </tbody>\n",
       "</table>\n",
       "<p>34313 rows × 3 columns</p>\n",
       "</div>"
      ],
      "text/plain": [
       "           tcdb_id  variable        value\n",
       "0       2.A.52.2.2  chebi_id  CHEBI:23337\n",
       "1       2.A.52.2.2  chebi_id  CHEBI:25517\n",
       "2       2.A.22.2.5  chebi_id   CHEBI:9175\n",
       "3       2.A.22.2.5  chebi_id   CHEBI:8345\n",
       "4       2.A.90.2.4  chebi_id   CHEBI:8816\n",
       "...            ...       ...          ...\n",
       "34308   2.A.47.1.5   Uniprot       Q9W7I2\n",
       "34309   2.A.18.3.2   Uniprot       Q9XE48\n",
       "34310   2.A.18.3.3   Uniprot       Q9XE49\n",
       "34311  2.A.29.11.2   Uniprot       Q9ZNY4\n",
       "34312   1.C.71.2.3   Uniprot       T1WIB6\n",
       "\n",
       "[34313 rows x 3 columns]"
      ]
     },
     "execution_count": 25,
     "metadata": {},
     "output_type": "execute_result"
    }
   ],
   "source": [
    "df_uniprot_tcdb_chebi = pd.concat([df_substrates, df_tcdb_uniprot]).reset_index(drop=True)\n",
    "df_uniprot_tcdb_chebi = df_uniprot_tcdb_chebi.drop_duplicates()\n",
    "df_uniprot_tcdb_chebi = df_uniprot_tcdb_chebi.reset_index(drop=True)\n",
    "df_uniprot_tcdb_chebi"
   ]
  },
  {
   "cell_type": "code",
   "execution_count": 26,
   "metadata": {},
   "outputs": [],
   "source": [
    "save_df(df=df_uniprot_tcdb_chebi, dataset_name=\"tcdb_substrates\", folder_path=OUTPUT_FOLDER)"
   ]
  },
  {
   "attachments": {},
   "cell_type": "markdown",
   "metadata": {},
   "source": [
    "### GO\n",
    "\n",
    "This file from EBI contains all GO terms from Uniprot and from Interpro. It has been filtered for Uniprot accessions, which removes RNA annotations, for example. Some of the unnecessary columns have also been removed by awk, in order to reduce the file size from 170GB (uncompressed raw data) to 1.5GB (as xz file). Command is in Makefile. We filter the dataset for Uniprot proteins in our dataset only, that reduces the pickle file size from around 8GB to 100MB."
   ]
  },
  {
   "cell_type": "code",
   "execution_count": 27,
   "metadata": {},
   "outputs": [],
   "source": [
    "# # TODO chunk reading file\n",
    "# uniprot_accessions = set(df.index.unique())\n",
    "\n",
    "# with pd.read_table(\n",
    "#     \"../data/raw/gene_ontology/goa_uniprot_all_ebi_filtered.tsv.xz\",\n",
    "#     header=None,\n",
    "#     names=[\"Uniprot\", \"qualifier\", \"go_id\", \"evidence_code\", \"aspect\", \"date\"],\n",
    "#     dtype={\n",
    "#         \"Uniprot\": \"string\",\n",
    "#         \"qualifier\": \"category\",\n",
    "#         \"go_id\": \"string\",\n",
    "#         \"evidence_code\": \"category\",\n",
    "#         \"aspect\": \"category\",\n",
    "#         \"date\": \"int\",\n",
    "#     },\n",
    "#     chunksize=10 ** 6\n",
    "#     # parse_dates=[\"date\"],\n",
    "# ) as reader:\n",
    "#     for chunk in reader:\n",
    "#         pass"
   ]
  },
  {
   "cell_type": "code",
   "execution_count": 28,
   "metadata": {},
   "outputs": [],
   "source": [
    "df_go_ebi = pd.read_table(\n",
    "    \"../data/raw/gene_ontology/goa_uniprot_all_ebi_filtered.tsv.xz\",\n",
    "    header=None,\n",
    "    names=[\"Uniprot\", \"qualifier\", \"go_id\", \"evidence_code\", \"aspect\", \"date\"],\n",
    "    dtype={\n",
    "        \"Uniprot\": \"string\",\n",
    "        \"qualifier\": \"category\",\n",
    "        \"go_id\": \"string\",\n",
    "        \"evidence_code\": \"category\",\n",
    "        \"aspect\": \"category\",\n",
    "        \"date\": \"int\",\n",
    "    },\n",
    "    # parse_dates=[\"date\"],\n",
    ")\n",
    "save_df(df_go_ebi, \"go_complete\", OUTPUT_FOLDER)"
   ]
  },
  {
   "cell_type": "code",
   "execution_count": 29,
   "metadata": {},
   "outputs": [],
   "source": [
    "# df_go_ebi = load_df(\"go_complete\")"
   ]
  },
  {
   "cell_type": "code",
   "execution_count": 30,
   "metadata": {},
   "outputs": [],
   "source": [
    "uniprot_accessions = set(df.index.unique())\n",
    "df_go_ebi = df_go_ebi[df_go_ebi.Uniprot.isin(uniprot_accessions)]"
   ]
  },
  {
   "cell_type": "code",
   "execution_count": 31,
   "metadata": {},
   "outputs": [
    {
     "name": "stdout",
     "output_type": "stream",
     "text": [
      "(7580427, 6)\n",
      "(7452018, 5)\n"
     ]
    }
   ],
   "source": [
    "print(df_go_ebi.shape)\n",
    "df_go_ebi = df_go_ebi.drop(\"date\", axis=1)\n",
    "df_go_ebi = df_go_ebi.drop_duplicates()\n",
    "print(df_go_ebi.shape)"
   ]
  },
  {
   "cell_type": "code",
   "execution_count": 32,
   "metadata": {},
   "outputs": [],
   "source": [
    "# This halves the file size! \n",
    "df_go_ebi = df_go_ebi.reset_index(drop=True)"
   ]
  },
  {
   "cell_type": "code",
   "execution_count": 33,
   "metadata": {},
   "outputs": [],
   "source": [
    "save_df(df_go_ebi, \"go\", OUTPUT_FOLDER)"
   ]
  },
  {
   "cell_type": "code",
   "execution_count": 34,
   "metadata": {},
   "outputs": [],
   "source": [
    "# df_go_ebi_mf_enables = df_go_ebi[\n",
    "#     (df_go_ebi.qualifier == \"enables\")&\n",
    "#     (df_go_ebi.aspect == \"F\")\n",
    "# ].drop([\"qualifier\", \"aspect\"], axis=1).reset_index(drop=True)\n",
    "# save_df(df_go_ebi_mf_enables, \"go_mf\", OUTPUT_FOLDER)"
   ]
  },
  {
   "attachments": {},
   "cell_type": "markdown",
   "metadata": {},
   "source": [
    "### GO/Chebi connection\n",
    "\n",
    "Quickgo contains links between GO terms and Chebi molecule identifiers. We could not find them anywhere else, so downloading them through get-requests seems to be the best option."
   ]
  },
  {
   "cell_type": "code",
   "execution_count": 35,
   "metadata": {},
   "outputs": [],
   "source": [
    "REDOWNLOAD_GO_XRELS = False\n",
    "if REDOWNLOAD_GO_XRELS:\n",
    "    go_terms_uniprot = load_df(\"go\").go_id.unique().tolist()\n",
    "\n",
    "    responses = list()\n",
    "\n",
    "    max_entries = 300\n",
    "    i = 0\n",
    "    while i < min(i+max_entries, len(go_terms_uniprot)):\n",
    "        go_terms_sublist = go_terms_uniprot[i:min(i+max_entries, len(go_terms_uniprot))]\n",
    "        go_terms_str_encoded = \"%2C\".join([node.replace(\":\", \"%3A\") for node in go_terms_sublist])\n",
    "        requestURL = f\"https://www.ebi.ac.uk/QuickGO/services/ontology/go/terms/{go_terms_str_encoded}/xontologyrelations\"\n",
    "\n",
    "        r = requests.get(requestURL, headers={ \"Accept\" : \"application/json\"})\n",
    "        if not r.ok:\n",
    "            r.raise_for_status()\n",
    "            sys.exit()\n",
    "\n",
    "        responses.append(r.text)\n",
    "\n",
    "        i += max_entries\n",
    "\n",
    "    df_go_xrel_parts = []\n",
    "    for response in responses:\n",
    "        df_go_xrel_part = pd.read_json(response).results.apply(pd.Series)\n",
    "        df_go_xrel_parts.append(df_go_xrel_part)\n",
    "    df_go_xrel = pd.concat(df_go_xrel_parts, ignore_index=True)\n",
    "    df_go_xrel.to_csv(\"../data/raw/gene_ontology/go_xrel.tsv\", sep=\"\\t\")\n",
    "    df_go_xrel"
   ]
  },
  {
   "cell_type": "code",
   "execution_count": 37,
   "metadata": {},
   "outputs": [
    {
     "data": {
      "text/html": [
       "<div>\n",
       "<style scoped>\n",
       "    .dataframe tbody tr th:only-of-type {\n",
       "        vertical-align: middle;\n",
       "    }\n",
       "\n",
       "    .dataframe tbody tr th {\n",
       "        vertical-align: top;\n",
       "    }\n",
       "\n",
       "    .dataframe thead th {\n",
       "        text-align: right;\n",
       "    }\n",
       "</style>\n",
       "<table border=\"1\" class=\"dataframe\">\n",
       "  <thead>\n",
       "    <tr style=\"text-align: right;\">\n",
       "      <th></th>\n",
       "      <th>go_id</th>\n",
       "      <th>xrel_id</th>\n",
       "      <th>xrel_term</th>\n",
       "      <th>namespace</th>\n",
       "      <th>relation</th>\n",
       "    </tr>\n",
       "  </thead>\n",
       "  <tbody>\n",
       "    <tr>\n",
       "      <th>0</th>\n",
       "      <td>GO:0006633</td>\n",
       "      <td>CHEBI:28868</td>\n",
       "      <td>fatty acid anion</td>\n",
       "      <td>CHEBI</td>\n",
       "      <td>has_primary_output</td>\n",
       "    </tr>\n",
       "    <tr>\n",
       "      <th>1</th>\n",
       "      <td>GO:0006629</td>\n",
       "      <td>CHEBI:18059</td>\n",
       "      <td>lipid</td>\n",
       "      <td>CHEBI</td>\n",
       "      <td>has_primary_input_or_output</td>\n",
       "    </tr>\n",
       "    <tr>\n",
       "      <th>2</th>\n",
       "      <td>GO:0006665</td>\n",
       "      <td>CHEBI:26739</td>\n",
       "      <td>sphingolipid</td>\n",
       "      <td>CHEBI</td>\n",
       "      <td>has_primary_input_or_output</td>\n",
       "    </tr>\n",
       "    <tr>\n",
       "      <th>3</th>\n",
       "      <td>GO:0006754</td>\n",
       "      <td>CHEBI:30616</td>\n",
       "      <td>ATP(4-)</td>\n",
       "      <td>CHEBI</td>\n",
       "      <td>has_primary_output</td>\n",
       "    </tr>\n",
       "    <tr>\n",
       "      <th>4</th>\n",
       "      <td>GO:0051028</td>\n",
       "      <td>CHEBI:33699</td>\n",
       "      <td>messenger RNA</td>\n",
       "      <td>CHEBI</td>\n",
       "      <td>has_primary_input</td>\n",
       "    </tr>\n",
       "    <tr>\n",
       "      <th>...</th>\n",
       "      <td>...</td>\n",
       "      <td>...</td>\n",
       "      <td>...</td>\n",
       "      <td>...</td>\n",
       "      <td>...</td>\n",
       "    </tr>\n",
       "    <tr>\n",
       "      <th>22470</th>\n",
       "      <td>GO:0140786</td>\n",
       "      <td>CHEBI:28300</td>\n",
       "      <td>glutamine</td>\n",
       "      <td>CHEBI</td>\n",
       "      <td>has_input</td>\n",
       "    </tr>\n",
       "    <tr>\n",
       "      <th>22471</th>\n",
       "      <td>GO:1904474</td>\n",
       "      <td>CHEBI:57504</td>\n",
       "      <td>L-dopa zwitterion</td>\n",
       "      <td>CHEBI</td>\n",
       "      <td>has_input</td>\n",
       "    </tr>\n",
       "    <tr>\n",
       "      <th>22472</th>\n",
       "      <td>GO:0061431</td>\n",
       "      <td>CHEBI:64558</td>\n",
       "      <td>methionine zwitterion</td>\n",
       "      <td>CHEBI</td>\n",
       "      <td>has_input</td>\n",
       "    </tr>\n",
       "    <tr>\n",
       "      <th>22473</th>\n",
       "      <td>GO:0048353</td>\n",
       "      <td>PO:0000038</td>\n",
       "      <td>primary endosperm cell</td>\n",
       "      <td>PO</td>\n",
       "      <td>part_of</td>\n",
       "    </tr>\n",
       "    <tr>\n",
       "      <th>22474</th>\n",
       "      <td>GO:0009709</td>\n",
       "      <td>CHEBI:65321</td>\n",
       "      <td>terpenoid indole alkaloid</td>\n",
       "      <td>CHEBI</td>\n",
       "      <td>has_primary_output</td>\n",
       "    </tr>\n",
       "  </tbody>\n",
       "</table>\n",
       "<p>22475 rows × 5 columns</p>\n",
       "</div>"
      ],
      "text/plain": [
       "            go_id      xrel_id                  xrel_term namespace  \\\n",
       "0      GO:0006633  CHEBI:28868           fatty acid anion     CHEBI   \n",
       "1      GO:0006629  CHEBI:18059                      lipid     CHEBI   \n",
       "2      GO:0006665  CHEBI:26739               sphingolipid     CHEBI   \n",
       "3      GO:0006754  CHEBI:30616                    ATP(4-)     CHEBI   \n",
       "4      GO:0051028  CHEBI:33699              messenger RNA     CHEBI   \n",
       "...           ...          ...                        ...       ...   \n",
       "22470  GO:0140786  CHEBI:28300                  glutamine     CHEBI   \n",
       "22471  GO:1904474  CHEBI:57504          L-dopa zwitterion     CHEBI   \n",
       "22472  GO:0061431  CHEBI:64558      methionine zwitterion     CHEBI   \n",
       "22473  GO:0048353   PO:0000038     primary endosperm cell        PO   \n",
       "22474  GO:0009709  CHEBI:65321  terpenoid indole alkaloid     CHEBI   \n",
       "\n",
       "                          relation  \n",
       "0               has_primary_output  \n",
       "1      has_primary_input_or_output  \n",
       "2      has_primary_input_or_output  \n",
       "3               has_primary_output  \n",
       "4                has_primary_input  \n",
       "...                            ...  \n",
       "22470                    has_input  \n",
       "22471                    has_input  \n",
       "22472                    has_input  \n",
       "22473                      part_of  \n",
       "22474           has_primary_output  \n",
       "\n",
       "[22475 rows x 5 columns]"
      ]
     },
     "execution_count": 37,
     "metadata": {},
     "output_type": "execute_result"
    }
   ],
   "source": [
    "df_go_xrel = pd.read_table(\"../data/raw/gene_ontology/go_xrel.tsv\")\n",
    "\n",
    "# go term to list of dicts\n",
    "dict_go_to_xrels = df_go_xrel.set_index(\"id\").xRelations.to_dict()#.apply(pd.Series)\n",
    "go_to_xrel_records = []\n",
    "go_to_xrel_records_header = [\"go_id\", \"xrel_id\",\"xrel_term\", \"namespace\", \"relation\"]\n",
    "for go_term, xrel_list in dict_go_to_xrels.items():\n",
    "    if not isinstance(xrel_list, list):\n",
    "        continue\n",
    "    for entry in xrel_list:\n",
    "        go_to_xrel_records.append(\n",
    "            [\n",
    "                go_term, entry[\"id\"], entry[\"term\"], entry[\"namespace\"], entry[\"relation\"]\n",
    "            ]\n",
    "        )\n",
    "\n",
    "df_go_xrel = pd.DataFrame.from_records(go_to_xrel_records, columns=go_to_xrel_records_header)\n",
    "# df_go_to_chebi = df_go_to_chebi[df_go_to_chebi.namespace == \"CHEBI\"].drop(\"namespace\", axis=1)\n",
    "df_go_xrel = df_go_xrel.astype({\"relation\": \"category\", \"namespace\": \"category\"})\n",
    "\n",
    "df_go_xrel"
   ]
  },
  {
   "attachments": {},
   "cell_type": "markdown",
   "metadata": {},
   "source": [
    "The cross relations include:\n",
    "\n",
    "- Chemical Entities of Biological Interest (ChEBI): Chemical Entities of Biological Interest (ChEBI) is a freely available dictionary of molecular entities focused on ‘small’ chemical compounds.\n",
    "\n",
    "- Cell Type Ontology (CL): The Cell Ontology (CL) is an OBO Foundry ontology for the representation of cell types.\n",
    "\n",
    "- Plant ontology (PO): Plant Ontology project is a major international bioinformatics effort on standardizing the nomenclature, definitions, synonyms and relations of various terms/keywords/vocabularies that describe anatomical entities as well as the growth and developmental stages of plants."
   ]
  },
  {
   "attachments": {},
   "cell_type": "markdown",
   "metadata": {},
   "source": [
    "#### Chebi data:"
   ]
  },
  {
   "cell_type": "code",
   "execution_count": 38,
   "metadata": {},
   "outputs": [
    {
     "data": {
      "text/html": [
       "<div>\n",
       "<style scoped>\n",
       "    .dataframe tbody tr th:only-of-type {\n",
       "        vertical-align: middle;\n",
       "    }\n",
       "\n",
       "    .dataframe tbody tr th {\n",
       "        vertical-align: top;\n",
       "    }\n",
       "\n",
       "    .dataframe thead th {\n",
       "        text-align: right;\n",
       "    }\n",
       "</style>\n",
       "<table border=\"1\" class=\"dataframe\">\n",
       "  <thead>\n",
       "    <tr style=\"text-align: right;\">\n",
       "      <th></th>\n",
       "      <th>go_id</th>\n",
       "      <th>chebi_id</th>\n",
       "      <th>chebi_term</th>\n",
       "      <th>relation</th>\n",
       "    </tr>\n",
       "  </thead>\n",
       "  <tbody>\n",
       "    <tr>\n",
       "      <th>0</th>\n",
       "      <td>GO:0006633</td>\n",
       "      <td>CHEBI:28868</td>\n",
       "      <td>fatty acid anion</td>\n",
       "      <td>has_primary_output</td>\n",
       "    </tr>\n",
       "    <tr>\n",
       "      <th>1</th>\n",
       "      <td>GO:0006629</td>\n",
       "      <td>CHEBI:18059</td>\n",
       "      <td>lipid</td>\n",
       "      <td>has_primary_input_or_output</td>\n",
       "    </tr>\n",
       "    <tr>\n",
       "      <th>2</th>\n",
       "      <td>GO:0006665</td>\n",
       "      <td>CHEBI:26739</td>\n",
       "      <td>sphingolipid</td>\n",
       "      <td>has_primary_input_or_output</td>\n",
       "    </tr>\n",
       "    <tr>\n",
       "      <th>3</th>\n",
       "      <td>GO:0006754</td>\n",
       "      <td>CHEBI:30616</td>\n",
       "      <td>ATP(4-)</td>\n",
       "      <td>has_primary_output</td>\n",
       "    </tr>\n",
       "    <tr>\n",
       "      <th>4</th>\n",
       "      <td>GO:0051028</td>\n",
       "      <td>CHEBI:33699</td>\n",
       "      <td>messenger RNA</td>\n",
       "      <td>has_primary_input</td>\n",
       "    </tr>\n",
       "    <tr>\n",
       "      <th>...</th>\n",
       "      <td>...</td>\n",
       "      <td>...</td>\n",
       "      <td>...</td>\n",
       "      <td>...</td>\n",
       "    </tr>\n",
       "    <tr>\n",
       "      <th>21350</th>\n",
       "      <td>GO:0033521</td>\n",
       "      <td>CHEBI:58404</td>\n",
       "      <td>(E)-3,7,11,15-tetramethylhexadec-2-en-1-yl dip...</td>\n",
       "      <td>has_primary_output</td>\n",
       "    </tr>\n",
       "    <tr>\n",
       "      <th>21351</th>\n",
       "      <td>GO:0140786</td>\n",
       "      <td>CHEBI:28300</td>\n",
       "      <td>glutamine</td>\n",
       "      <td>has_input</td>\n",
       "    </tr>\n",
       "    <tr>\n",
       "      <th>21352</th>\n",
       "      <td>GO:1904474</td>\n",
       "      <td>CHEBI:57504</td>\n",
       "      <td>L-dopa zwitterion</td>\n",
       "      <td>has_input</td>\n",
       "    </tr>\n",
       "    <tr>\n",
       "      <th>21353</th>\n",
       "      <td>GO:0061431</td>\n",
       "      <td>CHEBI:64558</td>\n",
       "      <td>methionine zwitterion</td>\n",
       "      <td>has_input</td>\n",
       "    </tr>\n",
       "    <tr>\n",
       "      <th>21354</th>\n",
       "      <td>GO:0009709</td>\n",
       "      <td>CHEBI:65321</td>\n",
       "      <td>terpenoid indole alkaloid</td>\n",
       "      <td>has_primary_output</td>\n",
       "    </tr>\n",
       "  </tbody>\n",
       "</table>\n",
       "<p>21355 rows × 4 columns</p>\n",
       "</div>"
      ],
      "text/plain": [
       "            go_id     chebi_id  \\\n",
       "0      GO:0006633  CHEBI:28868   \n",
       "1      GO:0006629  CHEBI:18059   \n",
       "2      GO:0006665  CHEBI:26739   \n",
       "3      GO:0006754  CHEBI:30616   \n",
       "4      GO:0051028  CHEBI:33699   \n",
       "...           ...          ...   \n",
       "21350  GO:0033521  CHEBI:58404   \n",
       "21351  GO:0140786  CHEBI:28300   \n",
       "21352  GO:1904474  CHEBI:57504   \n",
       "21353  GO:0061431  CHEBI:64558   \n",
       "21354  GO:0009709  CHEBI:65321   \n",
       "\n",
       "                                              chebi_term  \\\n",
       "0                                       fatty acid anion   \n",
       "1                                                  lipid   \n",
       "2                                           sphingolipid   \n",
       "3                                                ATP(4-)   \n",
       "4                                          messenger RNA   \n",
       "...                                                  ...   \n",
       "21350  (E)-3,7,11,15-tetramethylhexadec-2-en-1-yl dip...   \n",
       "21351                                          glutamine   \n",
       "21352                                  L-dopa zwitterion   \n",
       "21353                              methionine zwitterion   \n",
       "21354                          terpenoid indole alkaloid   \n",
       "\n",
       "                          relation  \n",
       "0               has_primary_output  \n",
       "1      has_primary_input_or_output  \n",
       "2      has_primary_input_or_output  \n",
       "3               has_primary_output  \n",
       "4                has_primary_input  \n",
       "...                            ...  \n",
       "21350           has_primary_output  \n",
       "21351                    has_input  \n",
       "21352                    has_input  \n",
       "21353                    has_input  \n",
       "21354           has_primary_output  \n",
       "\n",
       "[21355 rows x 4 columns]"
      ]
     },
     "execution_count": 38,
     "metadata": {},
     "output_type": "execute_result"
    }
   ],
   "source": [
    "df_go_to_chebi = (\n",
    "    df_go_xrel[df_go_xrel.namespace == \"CHEBI\"]\n",
    "    .drop(\"namespace\", axis=1)\n",
    "    .drop_duplicates()\n",
    "    .reset_index(drop=True)\n",
    "    .rename(columns={\"xrel_id\": \"chebi_id\", \"xrel_term\": \"chebi_term\"})\n",
    ")\n",
    "df_go_to_chebi\n"
   ]
  },
  {
   "cell_type": "code",
   "execution_count": 39,
   "metadata": {},
   "outputs": [],
   "source": [
    "save_df(df=df_go_to_chebi, dataset_name=\"go_chebi\")"
   ]
  },
  {
   "cell_type": "markdown",
   "metadata": {},
   "source": [
    "## Ontology files\n",
    "\n",
    "To make reading the graphs faster, we are going to pickle them as well. "
   ]
  },
  {
   "cell_type": "code",
   "execution_count": 40,
   "metadata": {},
   "outputs": [],
   "source": [
    "graph_go = obonet.read_obo(\"../data/raw/ontologies/go.obo\")\n",
    "\n",
    "save_df(graph_go, \"go_obo\")"
   ]
  },
  {
   "cell_type": "code",
   "execution_count": 41,
   "metadata": {},
   "outputs": [],
   "source": [
    "graph_chebi = obonet.read_obo(\"../data/raw/ontologies/chebi.obo\")\n",
    "\n",
    "save_df(graph_chebi, \"chebi_obo\")"
   ]
  },
  {
   "cell_type": "markdown",
   "metadata": {},
   "source": [
    "## Total file sizes:"
   ]
  },
  {
   "cell_type": "code",
   "execution_count": 42,
   "metadata": {},
   "outputs": [
    {
     "name": "stdout",
     "output_type": "stream",
     "text": [
      "197M\t../data/datasets/chebi_obo.gpickle\n",
      "912K\t../data/datasets/go_chebi.pickle\n",
      "16G\t../data/datasets/go_complete.pickle\n",
      "29M\t../data/datasets/go_obo.gpickle\n",
      "107M\t../data/datasets/go.pickle\n",
      "98M\t../data/datasets/interpro.pickle\n",
      "41M\t../data/datasets/keywords.pickle\n",
      "892K\t../data/datasets/tcdb_substrates.pickle\n",
      "158M\t../data/datasets/uniprot70.pickle\n",
      "498M\t../data/datasets/uniprot.pickle\n"
     ]
    }
   ],
   "source": [
    "!du -hs ../data/datasets/*"
   ]
  }
 ],
 "metadata": {
  "kernelspec": {
   "display_name": "subpred4",
   "language": "python",
   "name": "python3"
  },
  "language_info": {
   "codemirror_mode": {
    "name": "ipython",
    "version": 3
   },
   "file_extension": ".py",
   "mimetype": "text/x-python",
   "name": "python",
   "nbconvert_exporter": "python",
   "pygments_lexer": "ipython3",
   "version": "3.10.12"
  },
  "orig_nbformat": 4,
  "vscode": {
   "interpreter": {
    "hash": "ec8de6dd8f2d395005c42468f5d13cdd089376f2ad37eab4b2481f4d8703f0b2"
   }
  }
 },
 "nbformat": 4,
 "nbformat_minor": 2
}
