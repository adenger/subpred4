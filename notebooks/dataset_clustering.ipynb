{
 "cells": [
  {
   "cell_type": "code",
   "execution_count": 11,
   "metadata": {},
   "outputs": [
    {
     "name": "stdout",
     "output_type": "stream",
     "text": [
      "Found pickle, reading...\n"
     ]
    },
    {
     "data": {
      "text/plain": [
       "(144929, 15)"
      ]
     },
     "execution_count": 11,
     "metadata": {},
     "output_type": "execute_result"
    }
   ],
   "source": [
    "from subpred.dataset import create_dataset\n",
    "df = create_dataset(\n",
    "        # keywords_substrate_filter=[\"Amino-acid transport\", \"Sugar transport\"],\n",
    "        # keywords_component_filter=[\"Transmembrane\"],\n",
    "        # keywords_transport_filter=[\"Transport\"],\n",
    "        input_file=\"../data/raw/swissprot/uniprot_data_2022_04.tab.gz\",\n",
    "        multi_substrate=\"keep\",\n",
    "        verbose=True,\n",
    "        # tax_ids_filter=[3702, 9606, 83333, 559292],\n",
    "        # outliers=outliers,\n",
    "        # sequence_clustering=70,\n",
    "        evidence_code=2,\n",
    "        invalid_amino_acids=\"remove_protein\",\n",
    "        # force_update=True\n",
    "    )\n",
    "df.shape"
   ]
  },
  {
   "cell_type": "markdown",
   "metadata": {},
   "source": [
    "## Keywords "
   ]
  },
  {
   "cell_type": "markdown",
   "metadata": {},
   "source": [
    "### Substrates"
   ]
  },
  {
   "cell_type": "code",
   "execution_count": 26,
   "metadata": {},
   "outputs": [
    {
     "name": "stdout",
     "output_type": "stream",
     "text": [
      "(14296, 15)\n"
     ]
    },
    {
     "data": {
      "text/plain": [
       "Protein transport                                                 3278\n",
       "Electron transport                                                2139\n",
       "Ion transport                                                     1057\n",
       "Oxygen transport                                                   889\n",
       "Hydrogen ion transport;Ion transport                               740\n",
       "                                                                  ... \n",
       "Ion transport;Neurotransmitter transport;Sodium transport            1\n",
       "Ion transport;Phosphate transport;Zinc transport                     1\n",
       "Cobalt transport;Ion transport;Iron transport;Zinc transport         1\n",
       "Cobalt transport;Copper transport;Ion transport;Zinc transport       1\n",
       "Amino-acid transport;Ion transport                                   1\n",
       "Name: keywords_substrates, Length: 87, dtype: int64"
      ]
     },
     "execution_count": 26,
     "metadata": {},
     "output_type": "execute_result"
    }
   ],
   "source": [
    "df_substrates = df[df.keywords_substrates != \"\"]\n",
    "print(df_substrates.shape)\n",
    "df_substrates.keywords_substrates.value_counts()"
   ]
  },
  {
   "cell_type": "code",
   "execution_count": 23,
   "metadata": {},
   "outputs": [
    {
     "data": {
      "text/plain": [
       "Ion transport                         4487\n",
       "Protein transport                     4114\n",
       "Electron transport                    2189\n",
       "Oxygen transport                       889\n",
       "Hydrogen ion transport                 816\n",
       "Lipid transport                        785\n",
       "Sodium transport                       732\n",
       "Potassium transport                    704\n",
       "Sugar transport                        703\n",
       "mRNA transport                         669\n",
       "Translocation                          626\n",
       "Amino-acid transport                   545\n",
       "Calcium transport                      463\n",
       "Chloride                               392\n",
       "Iron transport                         293\n",
       "Zinc transport                         191\n",
       "Neurotransmitter transport             175\n",
       "Phosphate transport                    143\n",
       "Peptide transport                      119\n",
       "Copper transport                        84\n",
       "Ammonia transport                       79\n",
       "Sodium/potassium transport              77\n",
       "Anion exchange                          51\n",
       "Sulfate transport                       40\n",
       "Cobalt transport                        36\n",
       "Viral movement protein                  34\n",
       "Nickel transport                        32\n",
       "Bacterial flagellum protein export      16\n",
       "Polysaccharide transport                12\n",
       "Bacteriocin transport                    8\n",
       "Name: keywords_substrates, dtype: int64"
      ]
     },
     "execution_count": 23,
     "metadata": {},
     "output_type": "execute_result"
    }
   ],
   "source": [
    "df_substrates_long = df_substrates.keywords_substrates.str.split(\";\").explode()\n",
    "\n",
    "display(df_substrates_long.value_counts())\n",
    "display(df_substrates_long.groupby())"
   ]
  },
  {
   "cell_type": "markdown",
   "metadata": {},
   "source": [
    "### Transmembrane transport"
   ]
  },
  {
   "cell_type": "code",
   "execution_count": 60,
   "metadata": {},
   "outputs": [
    {
     "data": {
      "text/html": [
       "<div>\n",
       "<style scoped>\n",
       "    .dataframe tbody tr th:only-of-type {\n",
       "        vertical-align: middle;\n",
       "    }\n",
       "\n",
       "    .dataframe tbody tr th {\n",
       "        vertical-align: top;\n",
       "    }\n",
       "\n",
       "    .dataframe thead th {\n",
       "        text-align: right;\n",
       "    }\n",
       "</style>\n",
       "<table border=\"1\" class=\"dataframe\">\n",
       "  <thead>\n",
       "    <tr style=\"text-align: right;\">\n",
       "      <th></th>\n",
       "      <th>Uniprot</th>\n",
       "      <th>keyword</th>\n",
       "    </tr>\n",
       "  </thead>\n",
       "  <tbody>\n",
       "    <tr>\n",
       "      <th>0</th>\n",
       "      <td>A0A024SC78</td>\n",
       "      <td>3D-structure</td>\n",
       "    </tr>\n",
       "    <tr>\n",
       "      <th>1</th>\n",
       "      <td>A0A024SC78</td>\n",
       "      <td>Disulfide bond</td>\n",
       "    </tr>\n",
       "    <tr>\n",
       "      <th>2</th>\n",
       "      <td>A0A024SC78</td>\n",
       "      <td>Hydrolase</td>\n",
       "    </tr>\n",
       "    <tr>\n",
       "      <th>3</th>\n",
       "      <td>A0A024SC78</td>\n",
       "      <td>Secreted</td>\n",
       "    </tr>\n",
       "    <tr>\n",
       "      <th>4</th>\n",
       "      <td>A0A024SC78</td>\n",
       "      <td>Serine esterase</td>\n",
       "    </tr>\n",
       "    <tr>\n",
       "      <th>...</th>\n",
       "      <td>...</td>\n",
       "      <td>...</td>\n",
       "    </tr>\n",
       "    <tr>\n",
       "      <th>1205125</th>\n",
       "      <td>V5XVW4</td>\n",
       "      <td>Capsid protein</td>\n",
       "    </tr>\n",
       "    <tr>\n",
       "      <th>1205126</th>\n",
       "      <td>V5XVW4</td>\n",
       "      <td>Direct protein sequencing</td>\n",
       "    </tr>\n",
       "    <tr>\n",
       "      <th>1205127</th>\n",
       "      <td>V5XVW4</td>\n",
       "      <td>Virion</td>\n",
       "    </tr>\n",
       "    <tr>\n",
       "      <th>1205128</th>\n",
       "      <td>W5X2N3</td>\n",
       "      <td>nan</td>\n",
       "    </tr>\n",
       "    <tr>\n",
       "      <th>1205129</th>\n",
       "      <td>W6JQK2</td>\n",
       "      <td>Reference proteome</td>\n",
       "    </tr>\n",
       "  </tbody>\n",
       "</table>\n",
       "<p>1205130 rows × 2 columns</p>\n",
       "</div>"
      ],
      "text/plain": [
       "            Uniprot                    keyword\n",
       "0        A0A024SC78               3D-structure\n",
       "1        A0A024SC78             Disulfide bond\n",
       "2        A0A024SC78                  Hydrolase\n",
       "3        A0A024SC78                   Secreted\n",
       "4        A0A024SC78            Serine esterase\n",
       "...             ...                        ...\n",
       "1205125      V5XVW4             Capsid protein\n",
       "1205126      V5XVW4  Direct protein sequencing\n",
       "1205127      V5XVW4                     Virion\n",
       "1205128      W5X2N3                        nan\n",
       "1205129      W6JQK2         Reference proteome\n",
       "\n",
       "[1205130 rows x 2 columns]"
      ]
     },
     "execution_count": 60,
     "metadata": {},
     "output_type": "execute_result"
    }
   ],
   "source": [
    "df_keywords_long = df.keywords.str.split(\";\").explode().str.strip().reset_index(drop=False)\n",
    "\n",
    "df_keywords_long = df_keywords_long.rename(columns = {\"keywords\": \"keyword\"})\n",
    "\n",
    "df_keywords_long"
   ]
  },
  {
   "cell_type": "code",
   "execution_count": 63,
   "metadata": {},
   "outputs": [
    {
     "data": {
      "text/plain": [
       "9624"
      ]
     },
     "execution_count": 63,
     "metadata": {},
     "output_type": "execute_result"
    }
   ],
   "source": [
    "prot_arr_tm = df_keywords_long[df_keywords_long.keyword== \"Transmembrane\"].Uniprot.values\n",
    "prot_arr_tp = df_keywords_long[df_keywords_long.keyword== \"Transport\"].Uniprot.values\n",
    "import numpy as np\n",
    "\n",
    "prot_arr_tm_tp = np.intersect1d(prot_arr_tm, prot_arr_tp)\n",
    "\n",
    "prot_arr_tm_tp.size"
   ]
  },
  {
   "cell_type": "markdown",
   "metadata": {},
   "source": [
    "## Gene ontology (Uniprot column annotation)\n",
    "\n",
    "Relevant terms:\n",
    "\n",
    "- transmembrane transporter activity: https://www.ebi.ac.uk/QuickGO/term/GO:0022857\n",
    "- membrane: https://www.ebi.ac.uk/QuickGO/term/GO:0016020\n",
    "- plasma membrane: https://www.ebi.ac.uk/QuickGO/term/GO:0005886\n",
    "- active transmembrane transporter activity\n",
    "    - primary active transmembrane transporter activity\n",
    "    - secondary active transmembrane transporter activity\n",
    "    - etc.\n",
    "\n",
    "TODO \n",
    "\n",
    "- does dataset contain all parent nodes?\n",
    "- stats on active transport etc.\n",
    "- pay attention to type of relationship (is_a), and evidence codes\n",
    "- Which go terms are included in uniprot column? are they filtered?\n",
    "- get go terms from GO directly, or from QuickGO (limited to 2mio annotations)"
   ]
  },
  {
   "cell_type": "code",
   "execution_count": 27,
   "metadata": {},
   "outputs": [],
   "source": [
    "# Set of relevant GO terms:\n",
    "\n",
    "transmembrane_transporter_activity = {\n",
    "    \"GO:0022857\",\n",
    "    \"GO:0005386\",\n",
    "    \"GO:0015563\",\n",
    "    \"GO:0015646\",\n",
    "    \"GO:0022891\",\n",
    "    \"GO:0022892\",\n",
    "}\n"
   ]
  },
  {
   "cell_type": "code",
   "execution_count": 48,
   "metadata": {},
   "outputs": [],
   "source": [
    "import pandas as pd\n",
    "import re\n",
    "\n",
    "df_go = df[~df.go_terms.isnull()]\n",
    "df_go = df_go.go_terms.str.split(\";\").explode().str.strip().reset_index(drop=False)\n",
    "go_id_pattern = re.compile(\"\\[(GO\\:[0-9]{7})\\]\")\n",
    "df_go[\"go_id\"] = df_go.go_terms.str.extract(go_id_pattern)\n",
    "df_go[\"go_term\"] = df_go.go_terms.str.replace(go_id_pattern, \"\").str.strip()\n",
    "df_go = df_go.drop(\"go_terms\", axis=1)\n",
    "df_go = df_go.drop_duplicates()"
   ]
  },
  {
   "cell_type": "code",
   "execution_count": 52,
   "metadata": {},
   "outputs": [
    {
     "data": {
      "text/html": [
       "<div>\n",
       "<style scoped>\n",
       "    .dataframe tbody tr th:only-of-type {\n",
       "        vertical-align: middle;\n",
       "    }\n",
       "\n",
       "    .dataframe tbody tr th {\n",
       "        vertical-align: top;\n",
       "    }\n",
       "\n",
       "    .dataframe thead th {\n",
       "        text-align: right;\n",
       "    }\n",
       "</style>\n",
       "<table border=\"1\" class=\"dataframe\">\n",
       "  <thead>\n",
       "    <tr style=\"text-align: right;\">\n",
       "      <th></th>\n",
       "      <th>Uniprot</th>\n",
       "      <th>go_id</th>\n",
       "      <th>go_term</th>\n",
       "    </tr>\n",
       "  </thead>\n",
       "  <tbody>\n",
       "    <tr>\n",
       "      <th>627</th>\n",
       "      <td>A0A0B7P9G0</td>\n",
       "      <td>GO:0022857</td>\n",
       "      <td>transmembrane transporter activity</td>\n",
       "    </tr>\n",
       "    <tr>\n",
       "      <th>1746</th>\n",
       "      <td>A0A131MCZ8</td>\n",
       "      <td>GO:0022857</td>\n",
       "      <td>transmembrane transporter activity</td>\n",
       "    </tr>\n",
       "    <tr>\n",
       "      <th>4569</th>\n",
       "      <td>A1A5C7</td>\n",
       "      <td>GO:0022857</td>\n",
       "      <td>transmembrane transporter activity</td>\n",
       "    </tr>\n",
       "    <tr>\n",
       "      <th>5484</th>\n",
       "      <td>A1Z8N1</td>\n",
       "      <td>GO:0022857</td>\n",
       "      <td>transmembrane transporter activity</td>\n",
       "    </tr>\n",
       "    <tr>\n",
       "      <th>6841</th>\n",
       "      <td>A2AJN7</td>\n",
       "      <td>GO:0022857</td>\n",
       "      <td>transmembrane transporter activity</td>\n",
       "    </tr>\n",
       "    <tr>\n",
       "      <th>...</th>\n",
       "      <td>...</td>\n",
       "      <td>...</td>\n",
       "      <td>...</td>\n",
       "    </tr>\n",
       "    <tr>\n",
       "      <th>1394142</th>\n",
       "      <td>Q9XI74</td>\n",
       "      <td>GO:0022857</td>\n",
       "      <td>transmembrane transporter activity</td>\n",
       "    </tr>\n",
       "    <tr>\n",
       "      <th>1394689</th>\n",
       "      <td>Q9ZUS1</td>\n",
       "      <td>GO:0022857</td>\n",
       "      <td>transmembrane transporter activity</td>\n",
       "    </tr>\n",
       "    <tr>\n",
       "      <th>1394731</th>\n",
       "      <td>Q9ZVH5</td>\n",
       "      <td>GO:0022857</td>\n",
       "      <td>transmembrane transporter activity</td>\n",
       "    </tr>\n",
       "    <tr>\n",
       "      <th>1394779</th>\n",
       "      <td>S0ECK8</td>\n",
       "      <td>GO:0022857</td>\n",
       "      <td>transmembrane transporter activity</td>\n",
       "    </tr>\n",
       "    <tr>\n",
       "      <th>1395836</th>\n",
       "      <td>Q58026</td>\n",
       "      <td>GO:0022857</td>\n",
       "      <td>transmembrane transporter activity</td>\n",
       "    </tr>\n",
       "  </tbody>\n",
       "</table>\n",
       "<p>1166 rows × 3 columns</p>\n",
       "</div>"
      ],
      "text/plain": [
       "            Uniprot       go_id                             go_term\n",
       "627      A0A0B7P9G0  GO:0022857  transmembrane transporter activity\n",
       "1746     A0A131MCZ8  GO:0022857  transmembrane transporter activity\n",
       "4569         A1A5C7  GO:0022857  transmembrane transporter activity\n",
       "5484         A1Z8N1  GO:0022857  transmembrane transporter activity\n",
       "6841         A2AJN7  GO:0022857  transmembrane transporter activity\n",
       "...             ...         ...                                 ...\n",
       "1394142      Q9XI74  GO:0022857  transmembrane transporter activity\n",
       "1394689      Q9ZUS1  GO:0022857  transmembrane transporter activity\n",
       "1394731      Q9ZVH5  GO:0022857  transmembrane transporter activity\n",
       "1394779      S0ECK8  GO:0022857  transmembrane transporter activity\n",
       "1395836      Q58026  GO:0022857  transmembrane transporter activity\n",
       "\n",
       "[1166 rows x 3 columns]"
      ]
     },
     "execution_count": 52,
     "metadata": {},
     "output_type": "execute_result"
    }
   ],
   "source": [
    "df_go[df_go.go_term == \"transmembrane transporter activity\"]"
   ]
  },
  {
   "cell_type": "code",
   "execution_count": null,
   "metadata": {},
   "outputs": [],
   "source": [
    "obo = get_namespace(\"http://purl.obolibrary.org/obo/\")"
   ]
  }
 ],
 "metadata": {
  "kernelspec": {
   "display_name": "Python 3.10.6 ('subpred4')",
   "language": "python",
   "name": "python3"
  },
  "language_info": {
   "codemirror_mode": {
    "name": "ipython",
    "version": 3
   },
   "file_extension": ".py",
   "mimetype": "text/x-python",
   "name": "python",
   "nbconvert_exporter": "python",
   "pygments_lexer": "ipython3",
   "version": "3.10.6"
  },
  "orig_nbformat": 4,
  "vscode": {
   "interpreter": {
    "hash": "89703b7381b6e5a13dc9aaf82af6d082bd0d16ec4603eaac08073f6ca03a6908"
   }
  }
 },
 "nbformat": 4,
 "nbformat_minor": 2
}
