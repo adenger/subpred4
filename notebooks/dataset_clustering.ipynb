{
 "cells": [
  {
   "cell_type": "code",
   "execution_count": 1,
   "metadata": {},
   "outputs": [
    {
     "name": "stdout",
     "output_type": "stream",
     "text": [
      "Found pickle, reading...\n"
     ]
    }
   ],
   "source": [
    "from subpred.dataset import create_dataset, get_tcdb_substrates, get_go_df, get_keywords_df\n",
    "df_swissprot = create_dataset(\n",
    "        # keywords_substrate_filter=[\"Amino-acid transport\", \"Sugar transport\"],\n",
    "        # keywords_component_filter=[\"Transmembrane\"],\n",
    "        # keywords_transport_filter=[\"Transport\"],\n",
    "        input_file=\"../data/raw/swissprot/uniprot_data_2022_04.tab.gz\",\n",
    "        multi_substrate=\"keep\",\n",
    "        verbose=True,\n",
    "        # tax_ids_filter=[3702, 9606, 83333, 559292],\n",
    "        # outliers=outliers,\n",
    "        # sequence_clustering=70,\n",
    "        evidence_code=1,\n",
    "        invalid_amino_acids=\"remove_protein\",\n",
    "        tcdb_substrates_file=\"../data/raw/tcdb/tcdb_substrates.tsv\"\n",
    "        # force_update=True\n",
    "    )\n"
   ]
  },
  {
   "cell_type": "code",
   "execution_count": 2,
   "metadata": {},
   "outputs": [
    {
     "data": {
      "text/plain": [
       "Uniprot\n",
       "A0A061ACU2                                    CHEBI:3473;cation\n",
       "A0A1L8F5J9                                      CHEBI:24870;ion\n",
       "A0FGR8                                         CHEBI:6486;lipid\n",
       "A0FGR9                                   CHEBI:3308;calcium(2+)\n",
       "A0PJK1                 CHEBI:9175;sodium(1+)|CHEBI:5418;glucose\n",
       "                                    ...                        \n",
       "Q9ZW74                                      CHEBI:14911;protein\n",
       "P9WHY3        CHEBI:45422;propionamide|CHEBI:5448;glycerol|C...\n",
       "Q01368                                      CHEBI:14911;protein\n",
       "Q57134           CHEBI:75980;single-stranded DNA polynucleotide\n",
       "Q58026                              CHEBI:2642;alpha-amino acid\n",
       "Name: tcdb_substrates, Length: 3980, dtype: object"
      ]
     },
     "execution_count": 2,
     "metadata": {},
     "output_type": "execute_result"
    }
   ],
   "source": [
    "df_swissprot.tcdb_substrates[~df_swissprot.tcdb_substrates.isnull()]"
   ]
  },
  {
   "cell_type": "code",
   "execution_count": 3,
   "metadata": {},
   "outputs": [
    {
     "data": {
      "text/html": [
       "<div>\n",
       "<style scoped>\n",
       "    .dataframe tbody tr th:only-of-type {\n",
       "        vertical-align: middle;\n",
       "    }\n",
       "\n",
       "    .dataframe tbody tr th {\n",
       "        vertical-align: top;\n",
       "    }\n",
       "\n",
       "    .dataframe thead th {\n",
       "        text-align: right;\n",
       "    }\n",
       "</style>\n",
       "<table border=\"1\" class=\"dataframe\">\n",
       "  <thead>\n",
       "    <tr style=\"text-align: right;\">\n",
       "      <th></th>\n",
       "      <th>Uniprot</th>\n",
       "      <th>tcdb_id</th>\n",
       "      <th>chebi_id</th>\n",
       "      <th>chebi_term</th>\n",
       "    </tr>\n",
       "  </thead>\n",
       "  <tbody>\n",
       "    <tr>\n",
       "      <th>0</th>\n",
       "      <td>A0A061ACU2</td>\n",
       "      <td>1.A.75.1.8</td>\n",
       "      <td>CHEBI:3473</td>\n",
       "      <td>cation</td>\n",
       "    </tr>\n",
       "    <tr>\n",
       "      <th>1</th>\n",
       "      <td>A0A1L8F5J9</td>\n",
       "      <td>1.A.10.1.12</td>\n",
       "      <td>CHEBI:24870</td>\n",
       "      <td>ion</td>\n",
       "    </tr>\n",
       "    <tr>\n",
       "      <th>2</th>\n",
       "      <td>A0FGR8</td>\n",
       "      <td>9.A.57.1.2</td>\n",
       "      <td>CHEBI:6486</td>\n",
       "      <td>lipid</td>\n",
       "    </tr>\n",
       "    <tr>\n",
       "      <th>3</th>\n",
       "      <td>A0FGR9</td>\n",
       "      <td>9.A.57.1.3</td>\n",
       "      <td>CHEBI:3308</td>\n",
       "      <td>calcium(2+)</td>\n",
       "    </tr>\n",
       "    <tr>\n",
       "      <th>4</th>\n",
       "      <td>A0PJK1</td>\n",
       "      <td>2.A.21.3.15</td>\n",
       "      <td>CHEBI:9175</td>\n",
       "      <td>sodium(1+)</td>\n",
       "    </tr>\n",
       "    <tr>\n",
       "      <th>...</th>\n",
       "      <td>...</td>\n",
       "      <td>...</td>\n",
       "      <td>...</td>\n",
       "      <td>...</td>\n",
       "    </tr>\n",
       "    <tr>\n",
       "      <th>6852</th>\n",
       "      <td>P9WHY3</td>\n",
       "      <td>1.B.94.1.1</td>\n",
       "      <td>CHEBI:5448</td>\n",
       "      <td>glycerol</td>\n",
       "    </tr>\n",
       "    <tr>\n",
       "      <th>6853</th>\n",
       "      <td>P9WHY3</td>\n",
       "      <td>1.B.94.1.1</td>\n",
       "      <td>CHEBI:5418</td>\n",
       "      <td>glucose</td>\n",
       "    </tr>\n",
       "    <tr>\n",
       "      <th>6854</th>\n",
       "      <td>Q01368</td>\n",
       "      <td>9.B.70.1.1</td>\n",
       "      <td>CHEBI:14911</td>\n",
       "      <td>protein</td>\n",
       "    </tr>\n",
       "    <tr>\n",
       "      <th>6855</th>\n",
       "      <td>Q57134</td>\n",
       "      <td>3.A.11.2.2</td>\n",
       "      <td>CHEBI:75980</td>\n",
       "      <td>single-stranded DNA polynucleotide</td>\n",
       "    </tr>\n",
       "    <tr>\n",
       "      <th>6856</th>\n",
       "      <td>Q58026</td>\n",
       "      <td>2.A.3.6.3</td>\n",
       "      <td>CHEBI:2642</td>\n",
       "      <td>alpha-amino acid</td>\n",
       "    </tr>\n",
       "  </tbody>\n",
       "</table>\n",
       "<p>6857 rows × 4 columns</p>\n",
       "</div>"
      ],
      "text/plain": [
       "         Uniprot      tcdb_id     chebi_id                          chebi_term\n",
       "0     A0A061ACU2   1.A.75.1.8   CHEBI:3473                              cation\n",
       "1     A0A1L8F5J9  1.A.10.1.12  CHEBI:24870                                 ion\n",
       "2         A0FGR8   9.A.57.1.2   CHEBI:6486                               lipid\n",
       "3         A0FGR9   9.A.57.1.3   CHEBI:3308                         calcium(2+)\n",
       "4         A0PJK1  2.A.21.3.15   CHEBI:9175                          sodium(1+)\n",
       "...          ...          ...          ...                                 ...\n",
       "6852      P9WHY3   1.B.94.1.1   CHEBI:5448                            glycerol\n",
       "6853      P9WHY3   1.B.94.1.1   CHEBI:5418                             glucose\n",
       "6854      Q01368   9.B.70.1.1  CHEBI:14911                             protein\n",
       "6855      Q57134   3.A.11.2.2  CHEBI:75980  single-stranded DNA polynucleotide\n",
       "6856      Q58026    2.A.3.6.3   CHEBI:2642                    alpha-amino acid\n",
       "\n",
       "[6857 rows x 4 columns]"
      ]
     },
     "execution_count": 3,
     "metadata": {},
     "output_type": "execute_result"
    }
   ],
   "source": [
    "get_tcdb_substrates(df_swissprot)"
   ]
  },
  {
   "cell_type": "code",
   "execution_count": 4,
   "metadata": {},
   "outputs": [
    {
     "data": {
      "text/html": [
       "<div>\n",
       "<style scoped>\n",
       "    .dataframe tbody tr th:only-of-type {\n",
       "        vertical-align: middle;\n",
       "    }\n",
       "\n",
       "    .dataframe tbody tr th {\n",
       "        vertical-align: top;\n",
       "    }\n",
       "\n",
       "    .dataframe thead th {\n",
       "        text-align: right;\n",
       "    }\n",
       "</style>\n",
       "<table border=\"1\" class=\"dataframe\">\n",
       "  <thead>\n",
       "    <tr style=\"text-align: right;\">\n",
       "      <th></th>\n",
       "      <th>Uniprot</th>\n",
       "      <th>go_id</th>\n",
       "      <th>go_term</th>\n",
       "    </tr>\n",
       "  </thead>\n",
       "  <tbody>\n",
       "    <tr>\n",
       "      <th>0</th>\n",
       "      <td>A0A024SC78</td>\n",
       "      <td>GO:0005576</td>\n",
       "      <td>extracellular region</td>\n",
       "    </tr>\n",
       "    <tr>\n",
       "      <th>1</th>\n",
       "      <td>A0A024SC78</td>\n",
       "      <td>GO:0050525</td>\n",
       "      <td>cutinase activity</td>\n",
       "    </tr>\n",
       "    <tr>\n",
       "      <th>2</th>\n",
       "      <td>A0A024SH76</td>\n",
       "      <td>GO:0005576</td>\n",
       "      <td>extracellular region</td>\n",
       "    </tr>\n",
       "    <tr>\n",
       "      <th>3</th>\n",
       "      <td>A0A024SH76</td>\n",
       "      <td>GO:0016162</td>\n",
       "      <td>cellulose 1,4-beta-cellobiosidase activity</td>\n",
       "    </tr>\n",
       "    <tr>\n",
       "      <th>4</th>\n",
       "      <td>A0A024SH76</td>\n",
       "      <td>GO:0030248</td>\n",
       "      <td>cellulose binding</td>\n",
       "    </tr>\n",
       "    <tr>\n",
       "      <th>...</th>\n",
       "      <td>...</td>\n",
       "      <td>...</td>\n",
       "      <td>...</td>\n",
       "    </tr>\n",
       "    <tr>\n",
       "      <th>1028353</th>\n",
       "      <td>Q9ZUU2</td>\n",
       "      <td>GO:0009507</td>\n",
       "      <td>chloroplast</td>\n",
       "    </tr>\n",
       "    <tr>\n",
       "      <th>1028354</th>\n",
       "      <td>Q9ZUU2</td>\n",
       "      <td>GO:0016209</td>\n",
       "      <td>antioxidant activity</td>\n",
       "    </tr>\n",
       "    <tr>\n",
       "      <th>1028355</th>\n",
       "      <td>V5XVW4</td>\n",
       "      <td>GO:0019028</td>\n",
       "      <td>viral capsid</td>\n",
       "    </tr>\n",
       "    <tr>\n",
       "      <th>1028356</th>\n",
       "      <td>W5X2N3</td>\n",
       "      <td>NaN</td>\n",
       "      <td>NaN</td>\n",
       "    </tr>\n",
       "    <tr>\n",
       "      <th>1028357</th>\n",
       "      <td>W6JQK2</td>\n",
       "      <td>NaN</td>\n",
       "      <td>NaN</td>\n",
       "    </tr>\n",
       "  </tbody>\n",
       "</table>\n",
       "<p>1028358 rows × 3 columns</p>\n",
       "</div>"
      ],
      "text/plain": [
       "            Uniprot       go_id                                     go_term\n",
       "0        A0A024SC78  GO:0005576                        extracellular region\n",
       "1        A0A024SC78  GO:0050525                           cutinase activity\n",
       "2        A0A024SH76  GO:0005576                        extracellular region\n",
       "3        A0A024SH76  GO:0016162  cellulose 1,4-beta-cellobiosidase activity\n",
       "4        A0A024SH76  GO:0030248                           cellulose binding\n",
       "...             ...         ...                                         ...\n",
       "1028353      Q9ZUU2  GO:0009507                                 chloroplast\n",
       "1028354      Q9ZUU2  GO:0016209                        antioxidant activity\n",
       "1028355      V5XVW4  GO:0019028                                viral capsid\n",
       "1028356      W5X2N3         NaN                                         NaN\n",
       "1028357      W6JQK2         NaN                                         NaN\n",
       "\n",
       "[1028358 rows x 3 columns]"
      ]
     },
     "execution_count": 4,
     "metadata": {},
     "output_type": "execute_result"
    }
   ],
   "source": [
    "get_go_df(df_swissprot)"
   ]
  },
  {
   "cell_type": "code",
   "execution_count": 5,
   "metadata": {},
   "outputs": [
    {
     "data": {
      "text/html": [
       "<div>\n",
       "<style scoped>\n",
       "    .dataframe tbody tr th:only-of-type {\n",
       "        vertical-align: middle;\n",
       "    }\n",
       "\n",
       "    .dataframe tbody tr th {\n",
       "        vertical-align: top;\n",
       "    }\n",
       "\n",
       "    .dataframe thead th {\n",
       "        text-align: right;\n",
       "    }\n",
       "</style>\n",
       "<table border=\"1\" class=\"dataframe\">\n",
       "  <thead>\n",
       "    <tr style=\"text-align: right;\">\n",
       "      <th></th>\n",
       "      <th>Uniprot</th>\n",
       "      <th>keyword</th>\n",
       "    </tr>\n",
       "  </thead>\n",
       "  <tbody>\n",
       "    <tr>\n",
       "      <th>0</th>\n",
       "      <td>A0A024SC78</td>\n",
       "      <td>3D-structure</td>\n",
       "    </tr>\n",
       "    <tr>\n",
       "      <th>1</th>\n",
       "      <td>A0A024SC78</td>\n",
       "      <td>Disulfide bond</td>\n",
       "    </tr>\n",
       "    <tr>\n",
       "      <th>2</th>\n",
       "      <td>A0A024SC78</td>\n",
       "      <td>Hydrolase</td>\n",
       "    </tr>\n",
       "    <tr>\n",
       "      <th>3</th>\n",
       "      <td>A0A024SC78</td>\n",
       "      <td>Secreted</td>\n",
       "    </tr>\n",
       "    <tr>\n",
       "      <th>4</th>\n",
       "      <td>A0A024SC78</td>\n",
       "      <td>Serine esterase</td>\n",
       "    </tr>\n",
       "    <tr>\n",
       "      <th>...</th>\n",
       "      <td>...</td>\n",
       "      <td>...</td>\n",
       "    </tr>\n",
       "    <tr>\n",
       "      <th>831452</th>\n",
       "      <td>V5XVW4</td>\n",
       "      <td>Capsid protein</td>\n",
       "    </tr>\n",
       "    <tr>\n",
       "      <th>831453</th>\n",
       "      <td>V5XVW4</td>\n",
       "      <td>Direct protein sequencing</td>\n",
       "    </tr>\n",
       "    <tr>\n",
       "      <th>831454</th>\n",
       "      <td>V5XVW4</td>\n",
       "      <td>Virion</td>\n",
       "    </tr>\n",
       "    <tr>\n",
       "      <th>831455</th>\n",
       "      <td>W5X2N3</td>\n",
       "      <td>nan</td>\n",
       "    </tr>\n",
       "    <tr>\n",
       "      <th>831456</th>\n",
       "      <td>W6JQK2</td>\n",
       "      <td>Reference proteome</td>\n",
       "    </tr>\n",
       "  </tbody>\n",
       "</table>\n",
       "<p>831457 rows × 2 columns</p>\n",
       "</div>"
      ],
      "text/plain": [
       "           Uniprot                    keyword\n",
       "0       A0A024SC78               3D-structure\n",
       "1       A0A024SC78             Disulfide bond\n",
       "2       A0A024SC78                  Hydrolase\n",
       "3       A0A024SC78                   Secreted\n",
       "4       A0A024SC78            Serine esterase\n",
       "...            ...                        ...\n",
       "831452      V5XVW4             Capsid protein\n",
       "831453      V5XVW4  Direct protein sequencing\n",
       "831454      V5XVW4                     Virion\n",
       "831455      W5X2N3                        nan\n",
       "831456      W6JQK2         Reference proteome\n",
       "\n",
       "[831457 rows x 2 columns]"
      ]
     },
     "execution_count": 5,
     "metadata": {},
     "output_type": "execute_result"
    }
   ],
   "source": [
    "get_keywords_df(df_swissprot)"
   ]
  },
  {
   "cell_type": "code",
   "execution_count": 16,
   "metadata": {},
   "outputs": [
    {
     "name": "stdout",
     "output_type": "stream",
     "text": [
      "(95197, 15)\n"
     ]
    },
    {
     "data": {
      "text/plain": [
       "5691"
      ]
     },
     "execution_count": 16,
     "metadata": {},
     "output_type": "execute_result"
    }
   ],
   "source": [
    "print(df_swissprot.shape)\n",
    "sum(~df_swissprot.tcdb_id.isnull())"
   ]
  },
  {
   "cell_type": "code",
   "execution_count": 52,
   "metadata": {},
   "outputs": [],
   "source": [
    "tcdb_substrates = \"../data/raw/tcdb/tcdb_substrates.tsv\"\n",
    "import pandas as pd\n",
    "\n",
    "df_substrates = pd.read_table(tcdb_substrates, header=None)\n",
    "df_substrates.columns = [\"tcdb\", \"substrates\"]\n",
    "substr = df_substrates.substrates.str.split(\"|\").explode()\n",
    "df_substrates = df_substrates.tcdb.to_frame().join(substr)\n",
    "df_substrates = (\n",
    "    df_substrates.tcdb.to_frame()\n",
    "    .join(df_substrates.substrates.str.split(\";\", expand=True))\n",
    "    .drop_duplicates()\n",
    ")\n",
    "df_substrates_long = df_substrates.rename(columns={0: \"chebi\", 1: \"molecule\"})\n",
    "\n",
    "# df_substrates_wide = pd.concat(\n",
    "#     [\n",
    "#         df_substrates.groupby(\"tcdb\").apply(lambda x: \";\".join(x[\"chebi\"])),\n",
    "#         df_substrates.groupby(\"tcdb\").apply(lambda x: \";\".join(x[\"molecule\"])),\n",
    "#     ],\n",
    "#     axis=1,\n",
    "# )\n",
    "# df_substrates_wide.columns = [\"chebi\", \"molecule\"]\n",
    "\n",
    "# df_substrates_wide"
   ]
  },
  {
   "cell_type": "code",
   "execution_count": 7,
   "metadata": {},
   "outputs": [
    {
     "name": "stdout",
     "output_type": "stream",
     "text": [
      "Found pickle, reading...\n"
     ]
    }
   ],
   "source": [
    "from subpred.dataset import create_dataset\n",
    "df_all = create_dataset(\n",
    "        # keywords_substrate_filter=[\"Amino-acid transport\", \"Sugar transport\"],\n",
    "        # keywords_component_filter=[\"Transmembrane\"],\n",
    "        # keywords_transport_filter=[\"Transport\"],\n",
    "        input_file=\"../data/raw/swissprot/uniprot_data_all_evidence1_2022_04.tsv\",\n",
    "        multi_substrate=\"keep\",\n",
    "        verbose=True,\n",
    "        # tax_ids_filter=[3702, 9606, 83333, 559292],\n",
    "        # outliers=outliers,\n",
    "        # sequence_clustering=70,\n",
    "        evidence_code=1,\n",
    "        invalid_amino_acids=\"remove_protein\",\n",
    "        # force_update=True\n",
    "    )"
   ]
  },
  {
   "cell_type": "code",
   "execution_count": 8,
   "metadata": {},
   "outputs": [
    {
     "data": {
      "text/plain": [
       "(242787, 15)"
      ]
     },
     "execution_count": 8,
     "metadata": {},
     "output_type": "execute_result"
    }
   ],
   "source": [
    "df_all.shape"
   ]
  },
  {
   "cell_type": "code",
   "execution_count": 13,
   "metadata": {},
   "outputs": [
    {
     "data": {
      "text/plain": [
       "6187"
      ]
     },
     "execution_count": 13,
     "metadata": {},
     "output_type": "execute_result"
    }
   ],
   "source": [
    "sum(~df_all.tcdb_id.isnull())"
   ]
  },
  {
   "cell_type": "markdown",
   "metadata": {},
   "source": [
    "## Keywords "
   ]
  },
  {
   "cell_type": "markdown",
   "metadata": {},
   "source": [
    "### Substrates"
   ]
  },
  {
   "cell_type": "code",
   "execution_count": 2,
   "metadata": {},
   "outputs": [
    {
     "name": "stdout",
     "output_type": "stream",
     "text": [
      "(14296, 15)\n"
     ]
    },
    {
     "data": {
      "text/plain": [
       "Protein transport                                                 3278\n",
       "Electron transport                                                2139\n",
       "Ion transport                                                     1057\n",
       "Oxygen transport                                                   889\n",
       "Hydrogen ion transport;Ion transport                               740\n",
       "                                                                  ... \n",
       "Ion transport;Neurotransmitter transport;Sodium transport            1\n",
       "Ion transport;Phosphate transport;Zinc transport                     1\n",
       "Cobalt transport;Ion transport;Iron transport;Zinc transport         1\n",
       "Cobalt transport;Copper transport;Ion transport;Zinc transport       1\n",
       "Amino-acid transport;Ion transport                                   1\n",
       "Name: keywords_substrates, Length: 87, dtype: int64"
      ]
     },
     "execution_count": 2,
     "metadata": {},
     "output_type": "execute_result"
    }
   ],
   "source": [
    "df_substrates = df[df.keywords_substrates != \"\"]\n",
    "print(df_substrates.shape)\n",
    "df_substrates.keywords_substrates.value_counts()"
   ]
  },
  {
   "cell_type": "code",
   "execution_count": 3,
   "metadata": {},
   "outputs": [
    {
     "data": {
      "text/plain": [
       "Ion transport                         4487\n",
       "Protein transport                     4114\n",
       "Electron transport                    2189\n",
       "Oxygen transport                       889\n",
       "Hydrogen ion transport                 816\n",
       "Lipid transport                        785\n",
       "Sodium transport                       732\n",
       "Potassium transport                    704\n",
       "Sugar transport                        703\n",
       "mRNA transport                         669\n",
       "Translocation                          626\n",
       "Amino-acid transport                   545\n",
       "Calcium transport                      463\n",
       "Chloride                               392\n",
       "Iron transport                         293\n",
       "Zinc transport                         191\n",
       "Neurotransmitter transport             175\n",
       "Phosphate transport                    143\n",
       "Peptide transport                      119\n",
       "Copper transport                        84\n",
       "Ammonia transport                       79\n",
       "Sodium/potassium transport              77\n",
       "Anion exchange                          51\n",
       "Sulfate transport                       40\n",
       "Cobalt transport                        36\n",
       "Viral movement protein                  34\n",
       "Nickel transport                        32\n",
       "Bacterial flagellum protein export      16\n",
       "Polysaccharide transport                12\n",
       "Bacteriocin transport                    8\n",
       "Name: keywords_substrates, dtype: int64"
      ]
     },
     "metadata": {},
     "output_type": "display_data"
    },
    {
     "ename": "TypeError",
     "evalue": "You have to supply one of 'by' and 'level'",
     "output_type": "error",
     "traceback": [
      "\u001b[0;31m---------------------------------------------------------------------------\u001b[0m",
      "\u001b[0;31mTypeError\u001b[0m                                 Traceback (most recent call last)",
      "Cell \u001b[0;32mIn [3], line 4\u001b[0m\n\u001b[1;32m      1\u001b[0m df_substrates_long \u001b[39m=\u001b[39m df_substrates\u001b[39m.\u001b[39mkeywords_substrates\u001b[39m.\u001b[39mstr\u001b[39m.\u001b[39msplit(\u001b[39m\"\u001b[39m\u001b[39m;\u001b[39m\u001b[39m\"\u001b[39m)\u001b[39m.\u001b[39mexplode()\n\u001b[1;32m      3\u001b[0m display(df_substrates_long\u001b[39m.\u001b[39mvalue_counts())\n\u001b[0;32m----> 4\u001b[0m display(df_substrates_long\u001b[39m.\u001b[39;49mgroupby())\n",
      "File \u001b[0;32m~/mambaforge/envs/subpred4/lib/python3.10/site-packages/pandas/core/series.py:2073\u001b[0m, in \u001b[0;36mSeries.groupby\u001b[0;34m(self, by, axis, level, as_index, sort, group_keys, squeeze, observed, dropna)\u001b[0m\n\u001b[1;32m   2070\u001b[0m     squeeze \u001b[39m=\u001b[39m \u001b[39mFalse\u001b[39;00m\n\u001b[1;32m   2072\u001b[0m \u001b[39mif\u001b[39;00m level \u001b[39mis\u001b[39;00m \u001b[39mNone\u001b[39;00m \u001b[39mand\u001b[39;00m by \u001b[39mis\u001b[39;00m \u001b[39mNone\u001b[39;00m:\n\u001b[0;32m-> 2073\u001b[0m     \u001b[39mraise\u001b[39;00m \u001b[39mTypeError\u001b[39;00m(\u001b[39m\"\u001b[39m\u001b[39mYou have to supply one of \u001b[39m\u001b[39m'\u001b[39m\u001b[39mby\u001b[39m\u001b[39m'\u001b[39m\u001b[39m and \u001b[39m\u001b[39m'\u001b[39m\u001b[39mlevel\u001b[39m\u001b[39m'\u001b[39m\u001b[39m\"\u001b[39m)\n\u001b[1;32m   2074\u001b[0m axis \u001b[39m=\u001b[39m \u001b[39mself\u001b[39m\u001b[39m.\u001b[39m_get_axis_number(axis)\n\u001b[1;32m   2076\u001b[0m \u001b[39mreturn\u001b[39;00m SeriesGroupBy(\n\u001b[1;32m   2077\u001b[0m     obj\u001b[39m=\u001b[39m\u001b[39mself\u001b[39m,\n\u001b[1;32m   2078\u001b[0m     keys\u001b[39m=\u001b[39mby,\n\u001b[0;32m   (...)\u001b[0m\n\u001b[1;32m   2086\u001b[0m     dropna\u001b[39m=\u001b[39mdropna,\n\u001b[1;32m   2087\u001b[0m )\n",
      "\u001b[0;31mTypeError\u001b[0m: You have to supply one of 'by' and 'level'"
     ]
    }
   ],
   "source": [
    "df_substrates_long = df_substrates.keywords_substrates.str.split(\";\").explode()\n",
    "\n",
    "display(df_substrates_long.value_counts())\n",
    "display(df_substrates_long.groupby())"
   ]
  },
  {
   "cell_type": "markdown",
   "metadata": {},
   "source": [
    "### Transmembrane transport"
   ]
  },
  {
   "cell_type": "code",
   "execution_count": null,
   "metadata": {},
   "outputs": [
    {
     "data": {
      "text/html": [
       "<div>\n",
       "<style scoped>\n",
       "    .dataframe tbody tr th:only-of-type {\n",
       "        vertical-align: middle;\n",
       "    }\n",
       "\n",
       "    .dataframe tbody tr th {\n",
       "        vertical-align: top;\n",
       "    }\n",
       "\n",
       "    .dataframe thead th {\n",
       "        text-align: right;\n",
       "    }\n",
       "</style>\n",
       "<table border=\"1\" class=\"dataframe\">\n",
       "  <thead>\n",
       "    <tr style=\"text-align: right;\">\n",
       "      <th></th>\n",
       "      <th>Uniprot</th>\n",
       "      <th>keyword</th>\n",
       "    </tr>\n",
       "  </thead>\n",
       "  <tbody>\n",
       "    <tr>\n",
       "      <th>0</th>\n",
       "      <td>A0A024SC78</td>\n",
       "      <td>3D-structure</td>\n",
       "    </tr>\n",
       "    <tr>\n",
       "      <th>1</th>\n",
       "      <td>A0A024SC78</td>\n",
       "      <td>Disulfide bond</td>\n",
       "    </tr>\n",
       "    <tr>\n",
       "      <th>2</th>\n",
       "      <td>A0A024SC78</td>\n",
       "      <td>Hydrolase</td>\n",
       "    </tr>\n",
       "    <tr>\n",
       "      <th>3</th>\n",
       "      <td>A0A024SC78</td>\n",
       "      <td>Secreted</td>\n",
       "    </tr>\n",
       "    <tr>\n",
       "      <th>4</th>\n",
       "      <td>A0A024SC78</td>\n",
       "      <td>Serine esterase</td>\n",
       "    </tr>\n",
       "    <tr>\n",
       "      <th>...</th>\n",
       "      <td>...</td>\n",
       "      <td>...</td>\n",
       "    </tr>\n",
       "    <tr>\n",
       "      <th>1205125</th>\n",
       "      <td>V5XVW4</td>\n",
       "      <td>Capsid protein</td>\n",
       "    </tr>\n",
       "    <tr>\n",
       "      <th>1205126</th>\n",
       "      <td>V5XVW4</td>\n",
       "      <td>Direct protein sequencing</td>\n",
       "    </tr>\n",
       "    <tr>\n",
       "      <th>1205127</th>\n",
       "      <td>V5XVW4</td>\n",
       "      <td>Virion</td>\n",
       "    </tr>\n",
       "    <tr>\n",
       "      <th>1205128</th>\n",
       "      <td>W5X2N3</td>\n",
       "      <td>nan</td>\n",
       "    </tr>\n",
       "    <tr>\n",
       "      <th>1205129</th>\n",
       "      <td>W6JQK2</td>\n",
       "      <td>Reference proteome</td>\n",
       "    </tr>\n",
       "  </tbody>\n",
       "</table>\n",
       "<p>1205130 rows × 2 columns</p>\n",
       "</div>"
      ],
      "text/plain": [
       "            Uniprot                    keyword\n",
       "0        A0A024SC78               3D-structure\n",
       "1        A0A024SC78             Disulfide bond\n",
       "2        A0A024SC78                  Hydrolase\n",
       "3        A0A024SC78                   Secreted\n",
       "4        A0A024SC78            Serine esterase\n",
       "...             ...                        ...\n",
       "1205125      V5XVW4             Capsid protein\n",
       "1205126      V5XVW4  Direct protein sequencing\n",
       "1205127      V5XVW4                     Virion\n",
       "1205128      W5X2N3                        nan\n",
       "1205129      W6JQK2         Reference proteome\n",
       "\n",
       "[1205130 rows x 2 columns]"
      ]
     },
     "execution_count": 60,
     "metadata": {},
     "output_type": "execute_result"
    }
   ],
   "source": [
    "df_keywords_long = df.keywords.str.split(\";\").explode().str.strip().reset_index(drop=False)\n",
    "\n",
    "df_keywords_long = df_keywords_long.rename(columns = {\"keywords\": \"keyword\"})\n",
    "\n",
    "df_keywords_long"
   ]
  },
  {
   "cell_type": "code",
   "execution_count": null,
   "metadata": {},
   "outputs": [
    {
     "data": {
      "text/plain": [
       "9624"
      ]
     },
     "execution_count": 63,
     "metadata": {},
     "output_type": "execute_result"
    }
   ],
   "source": [
    "prot_arr_tm = df_keywords_long[df_keywords_long.keyword== \"Transmembrane\"].Uniprot.values\n",
    "prot_arr_tp = df_keywords_long[df_keywords_long.keyword== \"Transport\"].Uniprot.values\n",
    "import numpy as np\n",
    "\n",
    "prot_arr_tm_tp = np.intersect1d(prot_arr_tm, prot_arr_tp)\n",
    "\n",
    "prot_arr_tm_tp.size"
   ]
  },
  {
   "cell_type": "markdown",
   "metadata": {},
   "source": [
    "## Gene ontology (Uniprot column annotation)\n",
    "\n",
    "Relevant terms:\n",
    "\n",
    "- transmembrane transporter activity: https://www.ebi.ac.uk/QuickGO/term/GO:0022857\n",
    "- membrane: https://www.ebi.ac.uk/QuickGO/term/GO:0016020\n",
    "- plasma membrane: https://www.ebi.ac.uk/QuickGO/term/GO:0005886\n",
    "- active transmembrane transporter activity\n",
    "    - primary active transmembrane transporter activity\n",
    "    - secondary active transmembrane transporter activity\n",
    "    - etc.\n",
    "\n",
    "TODO \n",
    "\n",
    "- does dataset contain all parent nodes?\n",
    "- stats on active transport etc.\n",
    "- pay attention to type of relationship (is_a), and evidence codes\n",
    "- Which go terms are included in uniprot column? are they filtered?\n",
    "- get go terms from GO directly, or from QuickGO (limited to 2mio annotations)"
   ]
  },
  {
   "cell_type": "code",
   "execution_count": null,
   "metadata": {},
   "outputs": [],
   "source": [
    "# Set of relevant GO terms:\n",
    "\n",
    "transmembrane_transporter_activity = {\n",
    "    \"GO:0022857\",\n",
    "    \"GO:0005386\",\n",
    "    \"GO:0015563\",\n",
    "    \"GO:0015646\",\n",
    "    \"GO:0022891\",\n",
    "    \"GO:0022892\",\n",
    "}\n"
   ]
  },
  {
   "cell_type": "code",
   "execution_count": null,
   "metadata": {},
   "outputs": [],
   "source": [
    "import pandas as pd\n",
    "import re\n",
    "\n",
    "df_go = df[~df.go_terms.isnull()]\n",
    "df_go = df_go.go_terms.str.split(\";\").explode().str.strip().reset_index(drop=False)\n",
    "go_id_pattern = re.compile(\"\\[(GO\\:[0-9]{7})\\]\")\n",
    "df_go[\"go_id\"] = df_go.go_terms.str.extract(go_id_pattern)\n",
    "df_go[\"go_term\"] = df_go.go_terms.str.replace(go_id_pattern, \"\").str.strip()\n",
    "df_go = df_go.drop(\"go_terms\", axis=1)\n",
    "df_go = df_go.drop_duplicates()"
   ]
  },
  {
   "cell_type": "code",
   "execution_count": null,
   "metadata": {},
   "outputs": [
    {
     "data": {
      "text/html": [
       "<div>\n",
       "<style scoped>\n",
       "    .dataframe tbody tr th:only-of-type {\n",
       "        vertical-align: middle;\n",
       "    }\n",
       "\n",
       "    .dataframe tbody tr th {\n",
       "        vertical-align: top;\n",
       "    }\n",
       "\n",
       "    .dataframe thead th {\n",
       "        text-align: right;\n",
       "    }\n",
       "</style>\n",
       "<table border=\"1\" class=\"dataframe\">\n",
       "  <thead>\n",
       "    <tr style=\"text-align: right;\">\n",
       "      <th></th>\n",
       "      <th>Uniprot</th>\n",
       "      <th>go_id</th>\n",
       "      <th>go_term</th>\n",
       "    </tr>\n",
       "  </thead>\n",
       "  <tbody>\n",
       "    <tr>\n",
       "      <th>627</th>\n",
       "      <td>A0A0B7P9G0</td>\n",
       "      <td>GO:0022857</td>\n",
       "      <td>transmembrane transporter activity</td>\n",
       "    </tr>\n",
       "    <tr>\n",
       "      <th>1746</th>\n",
       "      <td>A0A131MCZ8</td>\n",
       "      <td>GO:0022857</td>\n",
       "      <td>transmembrane transporter activity</td>\n",
       "    </tr>\n",
       "    <tr>\n",
       "      <th>4569</th>\n",
       "      <td>A1A5C7</td>\n",
       "      <td>GO:0022857</td>\n",
       "      <td>transmembrane transporter activity</td>\n",
       "    </tr>\n",
       "    <tr>\n",
       "      <th>5484</th>\n",
       "      <td>A1Z8N1</td>\n",
       "      <td>GO:0022857</td>\n",
       "      <td>transmembrane transporter activity</td>\n",
       "    </tr>\n",
       "    <tr>\n",
       "      <th>6841</th>\n",
       "      <td>A2AJN7</td>\n",
       "      <td>GO:0022857</td>\n",
       "      <td>transmembrane transporter activity</td>\n",
       "    </tr>\n",
       "    <tr>\n",
       "      <th>...</th>\n",
       "      <td>...</td>\n",
       "      <td>...</td>\n",
       "      <td>...</td>\n",
       "    </tr>\n",
       "    <tr>\n",
       "      <th>1394142</th>\n",
       "      <td>Q9XI74</td>\n",
       "      <td>GO:0022857</td>\n",
       "      <td>transmembrane transporter activity</td>\n",
       "    </tr>\n",
       "    <tr>\n",
       "      <th>1394689</th>\n",
       "      <td>Q9ZUS1</td>\n",
       "      <td>GO:0022857</td>\n",
       "      <td>transmembrane transporter activity</td>\n",
       "    </tr>\n",
       "    <tr>\n",
       "      <th>1394731</th>\n",
       "      <td>Q9ZVH5</td>\n",
       "      <td>GO:0022857</td>\n",
       "      <td>transmembrane transporter activity</td>\n",
       "    </tr>\n",
       "    <tr>\n",
       "      <th>1394779</th>\n",
       "      <td>S0ECK8</td>\n",
       "      <td>GO:0022857</td>\n",
       "      <td>transmembrane transporter activity</td>\n",
       "    </tr>\n",
       "    <tr>\n",
       "      <th>1395836</th>\n",
       "      <td>Q58026</td>\n",
       "      <td>GO:0022857</td>\n",
       "      <td>transmembrane transporter activity</td>\n",
       "    </tr>\n",
       "  </tbody>\n",
       "</table>\n",
       "<p>1166 rows × 3 columns</p>\n",
       "</div>"
      ],
      "text/plain": [
       "            Uniprot       go_id                             go_term\n",
       "627      A0A0B7P9G0  GO:0022857  transmembrane transporter activity\n",
       "1746     A0A131MCZ8  GO:0022857  transmembrane transporter activity\n",
       "4569         A1A5C7  GO:0022857  transmembrane transporter activity\n",
       "5484         A1Z8N1  GO:0022857  transmembrane transporter activity\n",
       "6841         A2AJN7  GO:0022857  transmembrane transporter activity\n",
       "...             ...         ...                                 ...\n",
       "1394142      Q9XI74  GO:0022857  transmembrane transporter activity\n",
       "1394689      Q9ZUS1  GO:0022857  transmembrane transporter activity\n",
       "1394731      Q9ZVH5  GO:0022857  transmembrane transporter activity\n",
       "1394779      S0ECK8  GO:0022857  transmembrane transporter activity\n",
       "1395836      Q58026  GO:0022857  transmembrane transporter activity\n",
       "\n",
       "[1166 rows x 3 columns]"
      ]
     },
     "execution_count": 52,
     "metadata": {},
     "output_type": "execute_result"
    }
   ],
   "source": [
    "df_go[df_go.go_term == \"transmembrane transporter activity\"]"
   ]
  },
  {
   "cell_type": "code",
   "execution_count": null,
   "metadata": {},
   "outputs": [],
   "source": [
    "obo = get_namespace(\"http://purl.obolibrary.org/obo/\")"
   ]
  }
 ],
 "metadata": {
  "kernelspec": {
   "display_name": "Python 3.10.8 ('subpred4': conda)",
   "language": "python",
   "name": "python3"
  },
  "language_info": {
   "codemirror_mode": {
    "name": "ipython",
    "version": 3
   },
   "file_extension": ".py",
   "mimetype": "text/x-python",
   "name": "python",
   "nbconvert_exporter": "python",
   "pygments_lexer": "ipython3",
   "version": "3.10.8"
  },
  "orig_nbformat": 4,
  "vscode": {
   "interpreter": {
    "hash": "ec8de6dd8f2d395005c42468f5d13cdd089376f2ad37eab4b2481f4d8703f0b2"
   }
  }
 },
 "nbformat": 4,
 "nbformat_minor": 2
}
