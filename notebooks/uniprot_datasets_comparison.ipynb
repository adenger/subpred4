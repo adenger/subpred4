{
 "cells": [
  {
   "cell_type": "markdown",
   "metadata": {},
   "source": [
    "# Uniprot dataset analysis\n",
    "\n",
    "Tasks:\n",
    "\n",
    "1. Compare dataset from manuscript 1 to current version of Uniprot\n",
    "    - Uniprot releases four updates per year\n",
    "        - Current version is 2022_4, manuscript 1 used 2021_04 \n",
    "    - Are there new proteins in new Uniprot release?\n",
    "    - Comparison of samples annotated with keywords\n",
    "        - In general\n",
    "        - Individual organisms\n",
    "2. Compare the Swissprot dataset (reviewed=True) with the Swissprot+TrEMBL dataset (also including unreviewed proteins).\n",
    "    - Does the additional data make a difference in terms of sample counts, for our substrates?\n",
    "    - TODO questions"
   ]
  },
  {
   "cell_type": "markdown",
   "metadata": {},
   "source": [
    "## Imports"
   ]
  },
  {
   "cell_type": "code",
   "execution_count": 3,
   "metadata": {},
   "outputs": [],
   "source": [
    "from subpred.dataset import create_dataset, SUBSTRATE_KEYWORDS"
   ]
  },
  {
   "cell_type": "markdown",
   "metadata": {},
   "source": [
    "Dataset used in manuscript 1:"
   ]
  },
  {
   "cell_type": "code",
   "execution_count": 5,
   "metadata": {},
   "outputs": [
    {
     "name": "stdout",
     "output_type": "stream",
     "text": [
      "Found pickle, reading...\n"
     ]
    },
    {
     "data": {
      "text/plain": [
       "(141892, 16)"
      ]
     },
     "execution_count": 5,
     "metadata": {},
     "output_type": "execute_result"
    }
   ],
   "source": [
    "df_swissprot_manuscript1 = create_dataset(\n",
    "    # keywords_substrate_filter=[\"Amino-acid transport\", \"Sugar transport\"],\n",
    "    # keywords_component_filter=[\"Transmembrane\"],\n",
    "    # keywords_transport_filter=[\"Transport\"],\n",
    "    input_file=\"../data/raw/swissprot/uniprot-reviewed_yes.tab.gz\",\n",
    "    multi_substrate=\"keep\",\n",
    "    verbose=True,\n",
    "    # tax_ids_filter=[3702, 9606, 83333, 559292],\n",
    "    # outliers=outliers,\n",
    "    # sequence_clustering=70,\n",
    "    evidence_code=2,\n",
    "    invalid_amino_acids=\"remove_protein\",\n",
    "    # force_update=True,\n",
    "    tcdb_substrates_file=\"../data/raw/tcdb/tcdb_substrates.tsv\"\n",
    ")\n",
    "df_swissprot_manuscript1.shape\n"
   ]
  },
  {
   "cell_type": "markdown",
   "metadata": {},
   "source": [
    "Dataset used in manuscript 2:"
   ]
  },
  {
   "cell_type": "code",
   "execution_count": 6,
   "metadata": {},
   "outputs": [
    {
     "name": "stdout",
     "output_type": "stream",
     "text": [
      "Found pickle, reading...\n"
     ]
    },
    {
     "data": {
      "text/plain": [
       "(144929, 16)"
      ]
     },
     "execution_count": 6,
     "metadata": {},
     "output_type": "execute_result"
    }
   ],
   "source": [
    "df_swissprot_new = create_dataset(\n",
    "    # keywords_substrate_filter=[\"Amino-acid transport\", \"Sugar transport\"],\n",
    "    # keywords_component_filter=[\"Transmembrane\"],\n",
    "    # keywords_transport_filter=[\"Transport\"],\n",
    "    input_file=\"../data/raw/swissprot/uniprot_data_2022_04.tab.gz\",\n",
    "    multi_substrate=\"keep\",\n",
    "    verbose=True,\n",
    "    # tax_ids_filter=[3702, 9606, 83333, 559292],\n",
    "    # outliers=outliers,\n",
    "    # sequence_clustering=70,\n",
    "    evidence_code=2,\n",
    "    invalid_amino_acids=\"remove_protein\",\n",
    "    # force_update=True,\n",
    "    tcdb_substrates_file=\"../data/raw/tcdb/tcdb_substrates.tsv\"\n",
    ")\n",
    "df_swissprot_new.shape\n"
   ]
  },
  {
   "cell_type": "markdown",
   "metadata": {},
   "source": [
    "## Downloading the raw data\n",
    "\n",
    "While downloading the raw data for Swissprot+TrEMBL, we encountered the problem that over 200mio entries were available in the dataset. Since the uniprot pagination downloader that we implemented can download about 3000 proteins per minute, this download would take almost two months to complete.\n",
    "\n",
    "To solve this problem, we decided to only download proteins for which the existence is verified at protein level, and whose sequence is not fragmented. This download only contains 257,658 proteins. This means that we no longer have the option of including proteins that were verified at transcript level, but for unreviewed proteins that might be a bad idea anyways."
   ]
  },
  {
   "cell_type": "code",
   "execution_count": 5,
   "metadata": {},
   "outputs": [
    {
     "name": "stdout",
     "output_type": "stream",
     "text": [
      "Found pickle, reading...\n"
     ]
    }
   ],
   "source": [
    "df_all = create_dataset(\n",
    "        # keywords_substrate_filter=[\"Amino-acid transport\", \"Sugar transport\"],\n",
    "        # keywords_component_filter=[\"Transmembrane\"],\n",
    "        # keywords_transport_filter=[\"Transport\"],\n",
    "        input_file=\"../data/raw/swissprot/uniprot_data_all_evidence1-2_2022_04.tsv\",\n",
    "        multi_substrate=\"keep\",\n",
    "        verbose=True,\n",
    "        # tax_ids_filter=[3702, 9606, 83333, 559292],\n",
    "        # outliers=outliers,\n",
    "        # sequence_clustering=70,\n",
    "        evidence_code=2,\n",
    "        invalid_amino_acids=\"remove_protein\",\n",
    "        # force_update=True\n",
    "    )\n",
    "\n"
   ]
  },
  {
   "cell_type": "code",
   "execution_count": 4,
   "metadata": {},
   "outputs": [
    {
     "name": "stdout",
     "output_type": "stream",
     "text": [
      "{'Bacteriocin transport', 'Oxygen transport', 'Calcium transport', 'Electron transport', 'Ion transport', 'Phosphonate transport', 'Potassium transport', 'Sodium/potassium transport', 'Cobalt transport', 'Sugar transport', 'Polysaccharide transport', 'Anion exchange', 'Bacterial flagellum protein export', 'Peptide transport', 'Phosphate transport', 'Zinc transport', 'Sulfate transport', 'Copper transport', 'Viral movement protein', 'Amino-acid transport', 'Nickel transport', 'Sodium transport', 'Neurotransmitter transport', 'mRNA transport', 'Ammonia transport', 'Chloride', 'Hydrogen ion transport', 'Protein transport', 'Lipid transport', 'Translocation', 'Iron transport'}\n"
     ]
    }
   ],
   "source": [
    "print(SUBSTRATE_KEYWORDS)"
   ]
  }
 ],
 "metadata": {
  "kernelspec": {
   "display_name": "Python 3.10.8 ('subpred4')",
   "language": "python",
   "name": "python3"
  },
  "language_info": {
   "codemirror_mode": {
    "name": "ipython",
    "version": 3
   },
   "file_extension": ".py",
   "mimetype": "text/x-python",
   "name": "python",
   "nbconvert_exporter": "python",
   "pygments_lexer": "ipython3",
   "version": "3.10.8"
  },
  "orig_nbformat": 4,
  "vscode": {
   "interpreter": {
    "hash": "ec8de6dd8f2d395005c42468f5d13cdd089376f2ad37eab4b2481f4d8703f0b2"
   }
  }
 },
 "nbformat": 4,
 "nbformat_minor": 2
}
