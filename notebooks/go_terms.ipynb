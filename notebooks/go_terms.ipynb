{
 "cells": [
  {
   "cell_type": "code",
   "execution_count": 36,
   "metadata": {},
   "outputs": [],
   "source": [
    "import pandas as pd\n",
    "import pickle\n",
    "from pathlib import Path\n",
    "from subpred.transporter_dataset import create_dataset"
   ]
  },
  {
   "cell_type": "code",
   "execution_count": 37,
   "metadata": {},
   "outputs": [],
   "source": [
    "# df = create_dataset(\n",
    "#     keywords_substrate_filter=[\"Amino-acid transport\", \"Sugar transport\"],\n",
    "#     keywords_component_filter=[\"Membrane\"],\n",
    "#     keywords_transport_filter=[\"Transport\"],\n",
    "#     input_file=\"../data/raw/swissprot/uniprot-reviewed_yes.tab.gz\",\n",
    "#     multi_substrate=\"remove\",\n",
    "#     outliers=[\"O81775\", \"Q9SW07\", \"Q9FHH5\", \"Q8S8A0\", \"Q3E965\", \"Q3EAV6\", \"Q3E8L0\"],\n",
    "#     verbose=True,\n",
    "#     tax_ids_filter=[3702],\n",
    "#     output_log=\"../logs/athaliana_sugar_amino.log\",\n",
    "#     sequence_clustering=70\n",
    "# )"
   ]
  },
  {
   "cell_type": "code",
   "execution_count": 38,
   "metadata": {},
   "outputs": [],
   "source": [
    "def read_raw(input_file: str):\n",
    "    input_path = Path(input_file)\n",
    "    pickle_path = Path(input_path.parent, input_path.name + \".pkl\")\n",
    "    if pickle_path.exists():\n",
    "        print(\"Found pickle, reading...\")\n",
    "        df = pd.read_pickle(pickle_path)\n",
    "    else:\n",
    "        print(\"Did not find pickle, reading text file...\")\n",
    "        df = pd.read_table(input_file, index_col=0)\n",
    "        df.to_pickle(pickle_path)\n",
    "    return df"
   ]
  },
  {
   "cell_type": "code",
   "execution_count": 39,
   "metadata": {},
   "outputs": [],
   "source": [
    "# for files created with old (pre-Sep 2022) version of uniprot\n",
    "def rename_columns_old():\n",
    "   ['Gene names', 'Protein names', 'Organism', 'Organism ID', 'Keyword ID',\n",
    "      'Keywords', 'Gene ontology IDs', 'Gene ontology (GO)',\n",
    "      'Cross-reference (TCDB)', 'Protein existence', 'Sequence', 'Fragment']\n",
    "   pass\n",
    "\n",
    "# for files created with new (Sep 2022) version of uniprot\n",
    "def rename_columns():\n",
    "   ['Entry Name', 'Gene Names', 'Protein names', 'Organism',\n",
    "      'Organism (ID)', 'Keyword ID', 'Keywords', 'Gene Ontology IDs',\n",
    "      'Gene Ontology (GO)', 'TCDB', 'Protein existence', 'Sequence',\n",
    "      'Fragment']\n",
    "   pass"
   ]
  },
  {
   "cell_type": "code",
   "execution_count": 40,
   "metadata": {},
   "outputs": [],
   "source": [
    "old_file = \"../data/raw/swissprot/uniprot-reviewed_yes.tab.gz\"\n",
    "new_file = \"../data/raw/swissprot/uniprot_data_2022_04.tab.gz\""
   ]
  },
  {
   "cell_type": "code",
   "execution_count": 41,
   "metadata": {},
   "outputs": [
    {
     "name": "stdout",
     "output_type": "stream",
     "text": [
      "Found pickle, reading...\n"
     ]
    }
   ],
   "source": [
    "df_old = read_raw(old_file)"
   ]
  },
  {
   "cell_type": "code",
   "execution_count": 42,
   "metadata": {},
   "outputs": [
    {
     "name": "stdout",
     "output_type": "stream",
     "text": [
      "Found pickle, reading...\n"
     ]
    }
   ],
   "source": [
    "df_new = read_raw(new_file)"
   ]
  }
 ],
 "metadata": {
  "kernelspec": {
   "display_name": "Python 3.10.6 ('subpred4')",
   "language": "python",
   "name": "python3"
  },
  "language_info": {
   "codemirror_mode": {
    "name": "ipython",
    "version": 3
   },
   "file_extension": ".py",
   "mimetype": "text/x-python",
   "name": "python",
   "nbconvert_exporter": "python",
   "pygments_lexer": "ipython3",
   "version": "3.10.6"
  },
  "orig_nbformat": 4,
  "vscode": {
   "interpreter": {
    "hash": "89703b7381b6e5a13dc9aaf82af6d082bd0d16ec4603eaac08073f6ca03a6908"
   }
  }
 },
 "nbformat": 4,
 "nbformat_minor": 2
}
