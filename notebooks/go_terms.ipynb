{
 "cells": [
  {
   "cell_type": "code",
   "execution_count": 75,
   "metadata": {},
   "outputs": [],
   "source": [
    "import pandas as pd\n",
    "import pickle\n",
    "from pathlib import Path\n",
    "from subpred.transporter_dataset import create_dataset"
   ]
  },
  {
   "cell_type": "code",
   "execution_count": 76,
   "metadata": {},
   "outputs": [],
   "source": [
    "# df = create_dataset(\n",
    "#     keywords_substrate_filter=[\"Amino-acid transport\", \"Sugar transport\"],\n",
    "#     keywords_component_filter=[\"Membrane\"],\n",
    "#     keywords_transport_filter=[\"Transport\"],\n",
    "#     input_file=\"../data/raw/swissprot/uniprot-reviewed_yes.tab.gz\",\n",
    "#     multi_substrate=\"remove\",\n",
    "#     outliers=[\"O81775\", \"Q9SW07\", \"Q9FHH5\", \"Q8S8A0\", \"Q3E965\", \"Q3EAV6\", \"Q3E8L0\"],\n",
    "#     verbose=True,\n",
    "#     tax_ids_filter=[3702],\n",
    "#     output_log=\"../logs/athaliana_sugar_amino.log\",\n",
    "#     sequence_clustering=70\n",
    "# )"
   ]
  },
  {
   "cell_type": "code",
   "execution_count": 77,
   "metadata": {},
   "outputs": [],
   "source": [
    "def read_raw(input_file: str):\n",
    "    input_path = Path(input_file)\n",
    "    pickle_path = Path(input_path.parent, input_path.name + \".pkl\")\n",
    "    if pickle_path.exists():\n",
    "        print(\"Found pickle, reading...\")\n",
    "        df = pd.read_pickle(pickle_path)\n",
    "    else:\n",
    "        print(\"Did not find pickle, reading text file...\")\n",
    "        df = pd.read_table(input_file, index_col=0)\n",
    "        df.to_pickle(pickle_path)\n",
    "    return df"
   ]
  },
  {
   "cell_type": "code",
   "execution_count": 78,
   "metadata": {},
   "outputs": [],
   "source": [
    "# for files created with old (pre-Sep 2022) version of uniprot\n",
    "def rename_columns_old():\n",
    "   ['Gene names', 'Protein names', 'Organism', 'Organism ID', 'Keyword ID',\n",
    "      'Keywords', 'Gene ontology IDs', 'Gene ontology (GO)',\n",
    "      'Cross-reference (TCDB)', 'Protein existence', 'Sequence', 'Fragment']\n",
    "   pass\n",
    "\n",
    "# for files created with new (Sep 2022) version of uniprot\n",
    "def rename_columns():\n",
    "   ['Entry Name', 'Gene Names', 'Protein names', 'Organism',\n",
    "      'Organism (ID)', 'Keyword ID', 'Keywords', 'Gene Ontology IDs',\n",
    "      'Gene Ontology (GO)', 'TCDB', 'Protein existence', 'Sequence',\n",
    "      'Fragment']\n",
    "   pass"
   ]
  },
  {
   "cell_type": "code",
   "execution_count": 79,
   "metadata": {},
   "outputs": [],
   "source": [
    "old_file = \"../data/raw/swissprot/uniprot-reviewed_yes.tab.gz\"\n",
    "new_file = \"../data/raw/swissprot/uniprot_data_2022_04.tab.gz\""
   ]
  },
  {
   "cell_type": "code",
   "execution_count": 80,
   "metadata": {},
   "outputs": [
    {
     "name": "stdout",
     "output_type": "stream",
     "text": [
      "Found pickle, reading...\n"
     ]
    }
   ],
   "source": [
    "df_old = read_raw(old_file)"
   ]
  },
  {
   "cell_type": "code",
   "execution_count": 81,
   "metadata": {},
   "outputs": [
    {
     "name": "stdout",
     "output_type": "stream",
     "text": [
      "Found pickle, reading...\n"
     ]
    }
   ],
   "source": [
    "df_new = read_raw(new_file)"
   ]
  },
  {
   "cell_type": "code",
   "execution_count": 88,
   "metadata": {},
   "outputs": [
    {
     "ename": "KeyboardInterrupt",
     "evalue": "",
     "output_type": "error",
     "traceback": [
      "\u001b[0;31m---------------------------------------------------------------------------\u001b[0m",
      "\u001b[0;31mKeyboardInterrupt\u001b[0m                         Traceback (most recent call last)",
      "\u001b[1;32m/home/ad/manuscript2/subpred4/notebooks/go_terms.ipynb Zelle 8\u001b[0m in \u001b[0;36m<cell line: 1>\u001b[0;34m()\u001b[0m\n\u001b[0;32m----> <a href='vscode-notebook-cell://ssh-remote%2B7b22686f73744e616d65223a2274657261222c2275736572223a226164227d/home/ad/manuscript2/subpred4/notebooks/go_terms.ipynb#X12sdnNjb2RlLXJlbW90ZQ%3D%3D?line=0'>1</a>\u001b[0m pd\u001b[39m.\u001b[39;49mread_xml(\u001b[39m\"\u001b[39;49m\u001b[39m../data/raw/swissprot/uniprot_sprot.xml.gz\u001b[39;49m\u001b[39m\"\u001b[39;49m)\n",
      "File \u001b[0;32m~/miniconda3/envs/subpred4/lib/python3.10/site-packages/pandas/util/_decorators.py:311\u001b[0m, in \u001b[0;36mdeprecate_nonkeyword_arguments.<locals>.decorate.<locals>.wrapper\u001b[0;34m(*args, **kwargs)\u001b[0m\n\u001b[1;32m    305\u001b[0m \u001b[39mif\u001b[39;00m \u001b[39mlen\u001b[39m(args) \u001b[39m>\u001b[39m num_allow_args:\n\u001b[1;32m    306\u001b[0m     warnings\u001b[39m.\u001b[39mwarn(\n\u001b[1;32m    307\u001b[0m         msg\u001b[39m.\u001b[39mformat(arguments\u001b[39m=\u001b[39marguments),\n\u001b[1;32m    308\u001b[0m         \u001b[39mFutureWarning\u001b[39;00m,\n\u001b[1;32m    309\u001b[0m         stacklevel\u001b[39m=\u001b[39mstacklevel,\n\u001b[1;32m    310\u001b[0m     )\n\u001b[0;32m--> 311\u001b[0m \u001b[39mreturn\u001b[39;00m func(\u001b[39m*\u001b[39;49margs, \u001b[39m*\u001b[39;49m\u001b[39m*\u001b[39;49mkwargs)\n",
      "File \u001b[0;32m~/miniconda3/envs/subpred4/lib/python3.10/site-packages/pandas/io/xml.py:938\u001b[0m, in \u001b[0;36mread_xml\u001b[0;34m(path_or_buffer, xpath, namespaces, elems_only, attrs_only, names, encoding, parser, stylesheet, compression, storage_options)\u001b[0m\n\u001b[1;32m    738\u001b[0m \u001b[39m@deprecate_nonkeyword_arguments\u001b[39m(\n\u001b[1;32m    739\u001b[0m     version\u001b[39m=\u001b[39m\u001b[39mNone\u001b[39;00m, allowed_args\u001b[39m=\u001b[39m[\u001b[39m\"\u001b[39m\u001b[39mpath_or_buffer\u001b[39m\u001b[39m\"\u001b[39m], stacklevel\u001b[39m=\u001b[39m\u001b[39m2\u001b[39m\n\u001b[1;32m    740\u001b[0m )\n\u001b[0;32m   (...)\u001b[0m\n\u001b[1;32m    757\u001b[0m     storage_options: StorageOptions \u001b[39m=\u001b[39m \u001b[39mNone\u001b[39;00m,\n\u001b[1;32m    758\u001b[0m ) \u001b[39m-\u001b[39m\u001b[39m>\u001b[39m DataFrame:\n\u001b[1;32m    759\u001b[0m     \u001b[39mr\u001b[39m\u001b[39m\"\"\"\u001b[39;00m\n\u001b[1;32m    760\u001b[0m \u001b[39m    Read XML document into a ``DataFrame`` object.\u001b[39;00m\n\u001b[1;32m    761\u001b[0m \n\u001b[0;32m   (...)\u001b[0m\n\u001b[1;32m    935\u001b[0m \u001b[39m    2  triangle      180    3.0\u001b[39;00m\n\u001b[1;32m    936\u001b[0m \u001b[39m    \"\"\"\u001b[39;00m\n\u001b[0;32m--> 938\u001b[0m     \u001b[39mreturn\u001b[39;00m _parse(\n\u001b[1;32m    939\u001b[0m         path_or_buffer\u001b[39m=\u001b[39;49mpath_or_buffer,\n\u001b[1;32m    940\u001b[0m         xpath\u001b[39m=\u001b[39;49mxpath,\n\u001b[1;32m    941\u001b[0m         namespaces\u001b[39m=\u001b[39;49mnamespaces,\n\u001b[1;32m    942\u001b[0m         elems_only\u001b[39m=\u001b[39;49melems_only,\n\u001b[1;32m    943\u001b[0m         attrs_only\u001b[39m=\u001b[39;49mattrs_only,\n\u001b[1;32m    944\u001b[0m         names\u001b[39m=\u001b[39;49mnames,\n\u001b[1;32m    945\u001b[0m         encoding\u001b[39m=\u001b[39;49mencoding,\n\u001b[1;32m    946\u001b[0m         parser\u001b[39m=\u001b[39;49mparser,\n\u001b[1;32m    947\u001b[0m         stylesheet\u001b[39m=\u001b[39;49mstylesheet,\n\u001b[1;32m    948\u001b[0m         compression\u001b[39m=\u001b[39;49mcompression,\n\u001b[1;32m    949\u001b[0m         storage_options\u001b[39m=\u001b[39;49mstorage_options,\n\u001b[1;32m    950\u001b[0m     )\n",
      "File \u001b[0;32m~/miniconda3/envs/subpred4/lib/python3.10/site-packages/pandas/io/xml.py:733\u001b[0m, in \u001b[0;36m_parse\u001b[0;34m(path_or_buffer, xpath, namespaces, elems_only, attrs_only, names, encoding, parser, stylesheet, compression, storage_options, **kwargs)\u001b[0m\n\u001b[1;32m    730\u001b[0m \u001b[39melse\u001b[39;00m:\n\u001b[1;32m    731\u001b[0m     \u001b[39mraise\u001b[39;00m \u001b[39mValueError\u001b[39;00m(\u001b[39m\"\u001b[39m\u001b[39mValues for parser can only be lxml or etree.\u001b[39m\u001b[39m\"\u001b[39m)\n\u001b[0;32m--> 733\u001b[0m data_dicts \u001b[39m=\u001b[39m p\u001b[39m.\u001b[39;49mparse_data()\n\u001b[1;32m    735\u001b[0m \u001b[39mreturn\u001b[39;00m _data_to_frame(data\u001b[39m=\u001b[39mdata_dicts, \u001b[39m*\u001b[39m\u001b[39m*\u001b[39mkwargs)\n",
      "File \u001b[0;32m~/miniconda3/envs/subpred4/lib/python3.10/site-packages/pandas/io/xml.py:389\u001b[0m, in \u001b[0;36m_LxmlFrameParser.parse_data\u001b[0;34m(self)\u001b[0m\n\u001b[1;32m    380\u001b[0m \u001b[39m\"\"\"\u001b[39;00m\n\u001b[1;32m    381\u001b[0m \u001b[39mParse xml data.\u001b[39;00m\n\u001b[1;32m    382\u001b[0m \n\u001b[0;32m   (...)\u001b[0m\n\u001b[1;32m    385\u001b[0m \u001b[39mand parse original or transformed XML and return specific nodes.\u001b[39;00m\n\u001b[1;32m    386\u001b[0m \u001b[39m\"\"\"\u001b[39;00m\n\u001b[1;32m    387\u001b[0m \u001b[39mfrom\u001b[39;00m \u001b[39mlxml\u001b[39;00m\u001b[39m.\u001b[39;00m\u001b[39metree\u001b[39;00m \u001b[39mimport\u001b[39;00m XML\n\u001b[0;32m--> 389\u001b[0m \u001b[39mself\u001b[39m\u001b[39m.\u001b[39mxml_doc \u001b[39m=\u001b[39m XML(\u001b[39mself\u001b[39;49m\u001b[39m.\u001b[39;49m_parse_doc(\u001b[39mself\u001b[39;49m\u001b[39m.\u001b[39;49mpath_or_buffer))\n\u001b[1;32m    391\u001b[0m \u001b[39mif\u001b[39;00m \u001b[39mself\u001b[39m\u001b[39m.\u001b[39mstylesheet \u001b[39mis\u001b[39;00m \u001b[39mnot\u001b[39;00m \u001b[39mNone\u001b[39;00m:\n\u001b[1;32m    392\u001b[0m     \u001b[39mself\u001b[39m\u001b[39m.\u001b[39mxsl_doc \u001b[39m=\u001b[39m XML(\u001b[39mself\u001b[39m\u001b[39m.\u001b[39m_parse_doc(\u001b[39mself\u001b[39m\u001b[39m.\u001b[39mstylesheet))\n",
      "\u001b[0;31mKeyboardInterrupt\u001b[0m: "
     ]
    }
   ],
   "source": [
    "df_xml = pd.read_fwf(\"../data/raw/swissprot/uniprot_sprot.tab.gz\")"
   ]
  }
 ],
 "metadata": {
  "kernelspec": {
   "display_name": "Python 3.10.6 ('subpred4')",
   "language": "python",
   "name": "python3"
  },
  "language_info": {
   "codemirror_mode": {
    "name": "ipython",
    "version": 3
   },
   "file_extension": ".py",
   "mimetype": "text/x-python",
   "name": "python",
   "nbconvert_exporter": "python",
   "pygments_lexer": "ipython3",
   "version": "3.10.6"
  },
  "orig_nbformat": 4,
  "vscode": {
   "interpreter": {
    "hash": "89703b7381b6e5a13dc9aaf82af6d082bd0d16ec4603eaac08073f6ca03a6908"
   }
  }
 },
 "nbformat": 4,
 "nbformat_minor": 2
}
