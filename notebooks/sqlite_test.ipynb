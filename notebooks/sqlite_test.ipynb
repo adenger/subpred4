{
 "cells": [
  {
   "cell_type": "code",
   "execution_count": null,
   "metadata": {},
   "outputs": [],
   "source": [
    "import sqlite3 as sl\n",
    "import pandas as pd\n",
    "from pathlib import Path\n",
    "import subprocess\n",
    "from subpred.fasta import write_fasta"
   ]
  },
  {
   "cell_type": "code",
   "execution_count": 171,
   "metadata": {},
   "outputs": [],
   "source": [
    "amino_acids = [\n",
    "    \"A\",\n",
    "    \"C\",\n",
    "    \"D\",\n",
    "    \"E\",\n",
    "    \"F\",\n",
    "    \"G\",\n",
    "    \"H\",\n",
    "    \"I\",\n",
    "    \"K\",\n",
    "    \"L\",\n",
    "    \"M\",\n",
    "    \"N\",\n",
    "    \"P\",\n",
    "    \"Q\",\n",
    "    \"R\",\n",
    "    \"S\",\n",
    "    \"T\",\n",
    "    \"V\",\n",
    "    \"W\",\n",
    "    \"Y\",\n",
    "]\n",
    "aa_encode_dict = {aa: num for num, aa in enumerate(amino_acids)}\n",
    "aa_encode = lambda aa: aa_encode_dict[aa]\n",
    "aa_decode = lambda num: amino_acids[num]\n",
    "def read_pssm(path):\n",
    "    header = \"\"\n",
    "    sequence=\"\"\n",
    "    pssm_scores = []\n",
    "    with open(path) as pssm_file:\n",
    "        next(pssm_file)\n",
    "        next(pssm_file)\n",
    "\n",
    "        amino_acids = pssm_file.readline().strip().split()[:20]\n",
    "        header = amino_acids\n",
    "        for line in pssm_file:\n",
    "            if line == \"\\n\":  # end of file, before overall scores\n",
    "                break\n",
    "\n",
    "            values = line.strip().split()\n",
    "            amino_acid = values[1]\n",
    "            if amino_acid not in amino_acids:\n",
    "                raise ValueError(\n",
    "                    f\"unexpected amino acid in pssm file {path.name}: {amino_acid}\"\n",
    "                )\n",
    "\n",
    "            scores = [float(score) for score in values[2:22]]\n",
    "            # scores = [int(score) if float.is_integer(score) else score for score in scores]\n",
    "\n",
    "            if len(scores) != 20:\n",
    "                # This happens when the program is interupted while it is writing.\n",
    "                raise ValueError(\n",
    "                    f\"incomplete PSSM file: {path.name}. Delete from folder {path.name} and recompute\"\n",
    "                )\n",
    "\n",
    "            sequence += amino_acid\n",
    "            pssm_scores.append(scores)\n",
    "    df_pssm = pd.DataFrame(data=pssm_scores, columns=header)\n",
    "    if (df_pssm % 1 == 0).all(axis=None):\n",
    "        df_pssm = df_pssm.astype(int)\n",
    "    df_pssm = df_pssm.assign(seq=pd.Series(list(sequence)).apply(aa_encode))\n",
    "    return df_pssm"
   ]
  },
  {
   "cell_type": "code",
   "execution_count": 173,
   "metadata": {},
   "outputs": [],
   "source": []
  },
  {
   "cell_type": "code",
   "execution_count": 174,
   "metadata": {},
   "outputs": [],
   "source": [
    "# TODO rewrite PSSM class with tempfiles\n",
    "# TODO compress pssm db with xz\n",
    "# TODO method that creates features\n",
    "# TODO write to temp file, then rename? That should eliminate problems with incomplete pssm files."
   ]
  },
  {
   "cell_type": "code",
   "execution_count": null,
   "metadata": {},
   "outputs": [],
   "source": [
    "def add_pssm_sql(pssm_file_path:str, table_name:str, con:sl.Connection):\n",
    "    try:\n",
    "        pssm = read_pssm(pssm_file_path)\n",
    "        # table_name = f\"{pssm_file_path.name.split('.')[0]}_{blast_db}_{n_iterations}it\"\n",
    "        pssm.to_sql(\n",
    "            table_name, con, if_exists=\"replace\"\n",
    "        )\n",
    "    except StopIteration:\n",
    "        print(\n",
    "            f\"StopIteration occurred for file {str(pssm_file_path)}. File might be empty\"\n",
    "        )\n",
    "    except ValueError as e:\n",
    "        print(e)\n",
    "        print(f\"ValueError occured for file:{str(pssm_file_path)}. File might be incomplete.\")"
   ]
  },
  {
   "cell_type": "code",
   "execution_count": 175,
   "metadata": {},
   "outputs": [
    {
     "name": "stdout",
     "output_type": "stream",
     "text": [
      "uniref50\n",
      "1\n",
      "3\n",
      "uniref90\n",
      "1\n",
      "StopIteration occurred for file /home/ad/blast_db_test/blast/pssm_uniref90_1it/Q46892.pssm in database uniref90 with 1 iterations. File might be empty\n",
      "3\n",
      "incomplete PSSM file: Q08967.pssm. Delete from folder Q08967.pssm and recompute\n",
      "file:/home/ad/blast_db_test/blast/pssm_uniref90_3it/Q08967.pssm\n",
      "incomplete PSSM file: Q9LEQ3.pssm. Delete from folder Q9LEQ3.pssm and recompute\n",
      "file:/home/ad/blast_db_test/blast/pssm_uniref90_3it/Q9LEQ3.pssm\n",
      "incomplete PSSM file: P07658.pssm. Delete from folder P07658.pssm and recompute\n",
      "file:/home/ad/blast_db_test/blast/pssm_uniref90_3it/P07658.pssm\n",
      "incomplete PSSM file: P18775.pssm. Delete from folder P18775.pssm and recompute\n",
      "file:/home/ad/blast_db_test/blast/pssm_uniref90_3it/P18775.pssm\n",
      "incomplete PSSM file: P17064.pssm. Delete from folder P17064.pssm and recompute\n",
      "file:/home/ad/blast_db_test/blast/pssm_uniref90_3it/P17064.pssm\n",
      "incomplete PSSM file: P0ABN9.pssm. Delete from folder P0ABN9.pssm and recompute\n",
      "file:/home/ad/blast_db_test/blast/pssm_uniref90_3it/P0ABN9.pssm\n"
     ]
    }
   ],
   "source": [
    "\n",
    "# pssm_folder = \"../data/intermediate/blast\"\n",
    "pssm_folder = \"/home/ad/blast_db_test/blast\"\n",
    "\n",
    "with sl.connect(\n",
    "    f\"/home/ad/blast_db_test/pssm.db\"\n",
    ") as con:\n",
    "    for blast_db in [\"uniref50\", \"uniref90\"]:\n",
    "        print(blast_db)\n",
    "        for n_iterations in [1, 3]:\n",
    "            print(n_iterations)\n",
    "            path = Path(f\"{pssm_folder}/pssm_{blast_db}_{n_iterations}it\")\n",
    "            for pssm_file_path in path.rglob(\"*.pssm\"):\n",
    "                try:\n",
    "                    pssm = read_pssm(pssm_file_path)\n",
    "                    table_name = f\"{pssm_file_path.name.split('.')[0]}_{blast_db}_{n_iterations}it\"\n",
    "                    pssm.to_sql(\n",
    "                        table_name, con, if_exists=\"replace\"\n",
    "                    )\n",
    "                except StopIteration:\n",
    "                    print(\n",
    "                        f\"StopIteration occurred for file {str(pssm_file_path)} in database {blast_db} with {n_iterations} iterations. File might be empty\"\n",
    "                    )\n",
    "                except ValueError as e:\n",
    "                    print(e)\n",
    "                    print(f\"file:{str(pssm_file_path)}\")\n"
   ]
  },
  {
   "cell_type": "code",
   "execution_count": null,
   "metadata": {},
   "outputs": [],
   "source": [
    "\n",
    "\n",
    "\n",
    "def create_pssm_file(\n",
    "    accession: str,\n",
    "    sequence: str,\n",
    "    psiblast_location: str,\n",
    "    fasta_file_name: str,\n",
    "    pssm_file_name: str,\n",
    "    blastdb_location: str,\n",
    "    iterations: int,\n",
    "    evalue: float = 0.002,\n",
    "    threads: int = 1,\n",
    ") -> None:\n",
    "    write_fasta(\n",
    "        fasta_file_name=fasta_file_name, fasta_data=[(\">\" + accession, sequence)]\n",
    "    )\n",
    "\n",
    "    log_file_name = f\"{pssm_file_name}.log\"\n",
    "    subprocess.run(\n",
    "        \"{} -query {} -db {} -num_iterations {} -inclusion_ethresh {} -num_threads {} -save_pssm_after_last_round\\\n",
    "             -out_ascii_pssm {} -out {} -comp_based_stats {}\".format(\n",
    "            psiblast_location,\n",
    "            fasta_file_name,\n",
    "            blastdb_location,\n",
    "            iterations,\n",
    "            evalue,\n",
    "            threads,\n",
    "            pssm_file_name,\n",
    "            log_file_name,\n",
    "            2\n",
    "            if iterations == 1\n",
    "            else 1,  # default is 2, but not supported when matrix is PSSM instead of BLOSUM\n",
    "        ),\n",
    "        check=True,\n",
    "        shell=True  # False if platform.system() == \"Windows\" else True,\n",
    "        # stdout=subprocess.DEVNULL,\n",
    "        # stderr=subprocess.DEVNULL,\n",
    "    )\n"
   ]
  },
  {
   "cell_type": "code",
   "execution_count": 3,
   "metadata": {},
   "outputs": [
    {
     "ename": "NameError",
     "evalue": "name 'sl' is not defined",
     "output_type": "error",
     "traceback": [
      "\u001b[0;31m---------------------------------------------------------------------------\u001b[0m",
      "\u001b[0;31mNameError\u001b[0m                                 Traceback (most recent call last)",
      "Cell \u001b[0;32mIn[3], line 21\u001b[0m\n\u001b[1;32m     18\u001b[0m                 \u001b[39m# TODO create and return PSSM\u001b[39;00m\n\u001b[1;32m     20\u001b[0m accessions \u001b[39m=\u001b[39m [\u001b[39m\"\u001b[39m\u001b[39mQ39253_uniref50_1it\u001b[39m\u001b[39m\"\u001b[39m,\u001b[39m\"\u001b[39m\u001b[39mQ39253_uniref50_1it_ERROR\u001b[39m\u001b[39m\"\u001b[39m]\n\u001b[0;32m---> 21\u001b[0m \u001b[39mlist\u001b[39;49m(get_pssms(accessions))\n",
      "Cell \u001b[0;32mIn[3], line 2\u001b[0m, in \u001b[0;36mget_pssms\u001b[0;34m(table_names, sql_db_path)\u001b[0m\n\u001b[1;32m      1\u001b[0m \u001b[39mdef\u001b[39;00m \u001b[39mget_pssms\u001b[39m(table_names:\u001b[39mlist\u001b[39m, sql_db_path:\u001b[39mstr\u001b[39m \u001b[39m=\u001b[39m \u001b[39m'\u001b[39m\u001b[39m/home/ad/blast_db_test/pssm.db\u001b[39m\u001b[39m'\u001b[39m):\n\u001b[0;32m----> 2\u001b[0m     \u001b[39mwith\u001b[39;00m sl\u001b[39m.\u001b[39mconnect(sql_db_path) \u001b[39mas\u001b[39;00m con:\n\u001b[1;32m      3\u001b[0m         \u001b[39mfor\u001b[39;00m table_name \u001b[39min\u001b[39;00m table_names:\n\u001b[1;32m      4\u001b[0m             \u001b[39m# https://stackoverflow.com/questions/1601151/how-do-i-check-in-sqlite-whether-a-table-exists\u001b[39;00m\n\u001b[1;32m      5\u001b[0m             \u001b[39m# TODO better solution?\u001b[39;00m\n\u001b[1;32m      6\u001b[0m             res \u001b[39m=\u001b[39m con\u001b[39m.\u001b[39mexecute(\u001b[39mf\u001b[39m\u001b[39m\"\u001b[39m\u001b[39mSELECT name FROM sqlite_master WHERE type=\u001b[39m\u001b[39m'\u001b[39m\u001b[39mtable\u001b[39m\u001b[39m'\u001b[39m\u001b[39m AND name=\u001b[39m\u001b[39m'\u001b[39m\u001b[39m{\u001b[39;00mtable_name\u001b[39m}\u001b[39;00m\u001b[39m'\u001b[39m\u001b[39m;\u001b[39m\u001b[39m\"\u001b[39m)\n",
      "\u001b[0;31mNameError\u001b[0m: name 'sl' is not defined"
     ]
    }
   ],
   "source": [
    "def get_pssms(table_names:list, sql_db_path:str = '/home/ad/blast_db_test/pssm.db'):\n",
    "    with sl.connect(sql_db_path) as con:\n",
    "        for table_name in table_names:\n",
    "            # https://stackoverflow.com/questions/1601151/how-do-i-check-in-sqlite-whether-a-table-exists\n",
    "            # TODO better solution?\n",
    "            res = con.execute(f\"SELECT name FROM sqlite_master WHERE type='table' AND name='{table_name}';\")\n",
    "            fetch = res.fetchone()\n",
    "            if fetch is not None:\n",
    "                print(\"Protein was found in SQL database! Reading...\")\n",
    "                pssm_prot = pd.read_sql_query(f\"select * from {table_name}\", con, index_col=\"index\")\n",
    "                pssm_prot.seq = pssm_prot.seq.apply(aa_decode)\n",
    "                yield pssm_prot\n",
    "            else:\n",
    "                print(\"Protein was not found in SQL database. Calling psiblast...\")\n",
    "\n",
    "\n",
    "                yield \"Null\"\n",
    "                # TODO create and return PSSM\n",
    "\n",
    "accessions = [\"Q39253_uniref50_1it\",\"Q39253_uniref50_1it_ERROR\"]\n",
    "list(get_pssms(accessions))"
   ]
  },
  {
   "cell_type": "code",
   "execution_count": 170,
   "metadata": {},
   "outputs": [
    {
     "data": {
      "text/plain": [
       "True"
      ]
     },
     "execution_count": 170,
     "metadata": {},
     "output_type": "execute_result"
    }
   ],
   "source": [
    "pssm_prot\n",
    "pssm = pssm_prot.drop(\"seq\", axis=1)\n",
    "pssm.loc[0,\"A\"] = -1.0\n",
    "(pssm % 1 == 0).all(axis=None)"
   ]
  },
  {
   "cell_type": "code",
   "execution_count": 71,
   "metadata": {},
   "outputs": [],
   "source": [
    "con.close()"
   ]
  }
 ],
 "metadata": {
  "kernelspec": {
   "display_name": "subpred4",
   "language": "python",
   "name": "python3"
  },
  "language_info": {
   "codemirror_mode": {
    "name": "ipython",
    "version": 3
   },
   "file_extension": ".py",
   "mimetype": "text/x-python",
   "name": "python",
   "nbconvert_exporter": "python",
   "pygments_lexer": "ipython3",
   "version": "3.10.8"
  },
  "orig_nbformat": 4,
  "vscode": {
   "interpreter": {
    "hash": "ec8de6dd8f2d395005c42468f5d13cdd089376f2ad37eab4b2481f4d8703f0b2"
   }
  }
 },
 "nbformat": 4,
 "nbformat_minor": 2
}
