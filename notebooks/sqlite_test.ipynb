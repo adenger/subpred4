{
 "cells": [
  {
   "cell_type": "code",
   "execution_count": 171,
   "metadata": {},
   "outputs": [],
   "source": [
    "import pandas as pd\n",
    "amino_acids = [\n",
    "    \"A\",\n",
    "    \"C\",\n",
    "    \"D\",\n",
    "    \"E\",\n",
    "    \"F\",\n",
    "    \"G\",\n",
    "    \"H\",\n",
    "    \"I\",\n",
    "    \"K\",\n",
    "    \"L\",\n",
    "    \"M\",\n",
    "    \"N\",\n",
    "    \"P\",\n",
    "    \"Q\",\n",
    "    \"R\",\n",
    "    \"S\",\n",
    "    \"T\",\n",
    "    \"V\",\n",
    "    \"W\",\n",
    "    \"Y\",\n",
    "]\n",
    "aa_encode_dict = {aa: num for num, aa in enumerate(amino_acids)}\n",
    "aa_encode = lambda aa: aa_encode_dict[aa]\n",
    "aa_decode = lambda num: amino_acids[num]\n",
    "def read_pssm(path):\n",
    "    header = \"\"\n",
    "    sequence=\"\"\n",
    "    pssm_scores = []\n",
    "    with open(path) as pssm_file:\n",
    "        next(pssm_file)\n",
    "        next(pssm_file)\n",
    "\n",
    "        amino_acids = pssm_file.readline().strip().split()[:20]\n",
    "        header = amino_acids\n",
    "        for line in pssm_file:\n",
    "            if line == \"\\n\":  # end of file, before overall scores\n",
    "                break\n",
    "\n",
    "            values = line.strip().split()\n",
    "            amino_acid = values[1]\n",
    "            if amino_acid not in amino_acids:\n",
    "                raise ValueError(\n",
    "                    f\"unexpected amino acid in pssm file {path.name}: {amino_acid}\"\n",
    "                )\n",
    "\n",
    "            scores = [float(score) for score in values[2:22]]\n",
    "            # scores = [int(score) if float.is_integer(score) else score for score in scores]\n",
    "\n",
    "            if len(scores) != 20:\n",
    "                # This happens when the program is interupted while it is writing.\n",
    "                raise ValueError(\n",
    "                    f\"incomplete PSSM file: {path.name}. Delete from folder {path.name} and recompute\"\n",
    "                )\n",
    "\n",
    "            sequence += amino_acid\n",
    "            pssm_scores.append(scores)\n",
    "    df_pssm = pd.DataFrame(data=pssm_scores, columns=header)\n",
    "    if (df_pssm % 1 == 0).all(axis=None):\n",
    "        df_pssm = df_pssm.astype(int)\n",
    "    df_pssm = df_pssm.assign(seq=pd.Series(list(sequence)).apply(aa_encode))\n",
    "    return df_pssm"
   ]
  },
  {
   "cell_type": "code",
   "execution_count": 173,
   "metadata": {},
   "outputs": [],
   "source": [
    "import sqlite3 as sl"
   ]
  },
  {
   "cell_type": "code",
   "execution_count": 174,
   "metadata": {},
   "outputs": [],
   "source": [
    "# TODO rewrite PSSM class with tempfiles\n",
    "# TODO compress pssm db with xz\n",
    "# TODO method that creates features\n",
    "# TODO write to temp file, then rename? That should eliminate problems with incomplete pssm files."
   ]
  },
  {
   "cell_type": "code",
   "execution_count": 175,
   "metadata": {},
   "outputs": [
    {
     "name": "stdout",
     "output_type": "stream",
     "text": [
      "uniref50\n",
      "1\n",
      "3\n",
      "uniref90\n",
      "1\n",
      "StopIteration occurred for file /home/ad/blast_db_test/blast/pssm_uniref90_1it/Q46892.pssm in database uniref90 with 1 iterations. File might be empty\n",
      "3\n",
      "incomplete PSSM file: Q08967.pssm. Delete from folder Q08967.pssm and recompute\n",
      "file:/home/ad/blast_db_test/blast/pssm_uniref90_3it/Q08967.pssm\n",
      "incomplete PSSM file: Q9LEQ3.pssm. Delete from folder Q9LEQ3.pssm and recompute\n",
      "file:/home/ad/blast_db_test/blast/pssm_uniref90_3it/Q9LEQ3.pssm\n",
      "incomplete PSSM file: P07658.pssm. Delete from folder P07658.pssm and recompute\n",
      "file:/home/ad/blast_db_test/blast/pssm_uniref90_3it/P07658.pssm\n",
      "incomplete PSSM file: P18775.pssm. Delete from folder P18775.pssm and recompute\n",
      "file:/home/ad/blast_db_test/blast/pssm_uniref90_3it/P18775.pssm\n",
      "incomplete PSSM file: P17064.pssm. Delete from folder P17064.pssm and recompute\n",
      "file:/home/ad/blast_db_test/blast/pssm_uniref90_3it/P17064.pssm\n",
      "incomplete PSSM file: P0ABN9.pssm. Delete from folder P0ABN9.pssm and recompute\n",
      "file:/home/ad/blast_db_test/blast/pssm_uniref90_3it/P0ABN9.pssm\n"
     ]
    }
   ],
   "source": [
    "from pathlib import Path\n",
    "\n",
    "# pssm_folder = \"../data/intermediate/blast\"\n",
    "pssm_folder = \"/home/ad/blast_db_test/blast\"\n",
    "\n",
    "with sl.connect(\n",
    "    f\"/home/ad/blast_db_test/pssm.db\"\n",
    ") as con:\n",
    "    for blast_db in [\"uniref50\", \"uniref90\"]:\n",
    "        print(blast_db)\n",
    "        for n_iterations in [1, 3]:\n",
    "            print(n_iterations)\n",
    "            path = Path(f\"{pssm_folder}/pssm_{blast_db}_{n_iterations}it\")\n",
    "            for pssm_file_path in path.rglob(\"*.pssm\"):\n",
    "                try:\n",
    "                    pssm = read_pssm(pssm_file_path)\n",
    "                    table_name = f\"{pssm_file_path.name.split('.')[0]}_{blast_db}_{n_iterations}it\"\n",
    "                    pssm.to_sql(\n",
    "                        table_name, con, if_exists=\"replace\"\n",
    "                    )\n",
    "                except StopIteration:\n",
    "                    print(\n",
    "                        f\"StopIteration occurred for file {str(pssm_file_path)} in database {blast_db} with {n_iterations} iterations. File might be empty\"\n",
    "                    )\n",
    "                except ValueError as e:\n",
    "                    print(e)\n",
    "                    print(f\"file:{str(pssm_file_path)}\")\n"
   ]
  },
  {
   "cell_type": "code",
   "execution_count": 220,
   "metadata": {},
   "outputs": [
    {
     "data": {
      "text/plain": [
       "[       A  R  N  D  C  Q  E  G  H  I  ...  K  M  F  P  S  T  W  Y  V  seq\n",
       " index                                ...                                \n",
       " 0     -1 -2 -3 -4 -2 -1 -2 -3 -2  1  ... -2  7  0 -3 -2 -1 -2 -1  1    M\n",
       " 1      5 -2 -2 -2 -1 -1 -1  1 -2 -2  ... -1 -2 -3 -1  2  0 -3 -2 -1    A\n",
       " 2     -1 -3 -1 -2 -3 -3 -3  6 -3 -4  ... -3 -3 -4 -3  1 -2 -4 -4 -4    G\n",
       " 3      0  0  1 -2 -2 -2 -2  0 -2  3  ... -1 -1 -2 -2  2  2 -3 -2  1    I\n",
       " 4     -1 -3 -3 -3 -2 -2 -3 -2 -4  2  ... -3 -1 -2  1  0  2 -4 -3  4    V\n",
       " ...   .. .. .. .. .. .. .. .. .. ..  ... .. .. .. .. .. .. .. .. ..  ...\n",
       " 458    2 -2 -1 -1 -2 -1  0  5 -2 -3  ... -1 -2 -3 -2  0 -1 -3 -3 -2    G\n",
       " 459   -1 -3 -3 -4 -1 -3 -3 -4 -4  3  ... -3  1 -1 -3 -2  0 -3 -1  4    V\n",
       " 460    1 -3 -3 -3 -2 -2 -3 -2 -2  0  ... -3  0  4 -3 -1 -2  6  2 -1    F\n",
       " 461    1 -1  0 -1 -1  0  0 -1 -1 -3  ...  0 -2 -3  4  4  1 -3 -2 -2    S\n",
       " 462    2 -1  0 -1 -1  0  0  0 -1 -2  ...  0 -1 -3 -1  4  1 -3 -2 -1    S\n",
       " \n",
       " [463 rows x 21 columns],\n",
       " 'Null']"
      ]
     },
     "execution_count": 220,
     "metadata": {},
     "output_type": "execute_result"
    }
   ],
   "source": [
    "from sqlite3 import DatabaseError, OperationalError\n",
    "\n",
    "# def get_pssm(accession, database, n_iterations, con):\n",
    "#     pssm_prot = pd.read_sql_query(f\"select * from {accession}_\", con, index_col=\"index\")\n",
    "#     pssm_prot.seq = pssm_prot.seq.apply(aa_decode)\n",
    "#     return pssm_prot\n",
    "\n",
    "accessions = [\"Q39253_uniref50_1it\",\"Q39253_uniref50_1it_ERROR\"]\n",
    "def get_pssms(accessions:list):\n",
    "    with sl.connect('/home/ad/blast_db_test/pssm.db') as con:\n",
    "        # TODO SQL query that returns multiple dataframes?\n",
    "        for accession in accessions:\n",
    "            # https://stackoverflow.com/questions/1601151/how-do-i-check-in-sqlite-whether-a-table-exists\n",
    "            # TODO better solution?\n",
    "            res = con.execute(f\"SELECT name FROM sqlite_master WHERE type='table' AND name='{accession}';\")\n",
    "            fetch = res.fetchone()\n",
    "            if fetch is not None:\n",
    "                pssm_prot = pd.read_sql_query(f\"select * from {accession}\", con, index_col=\"index\")\n",
    "                pssm_prot.seq = pssm_prot.seq.apply(aa_decode)\n",
    "                yield pssm_prot\n",
    "            else:\n",
    "                yield \"Null\"\n",
    "                # TODO create and return PSSM\n",
    "\n",
    "list(get_pssms(accessions=accessions))"
   ]
  },
  {
   "cell_type": "code",
   "execution_count": 170,
   "metadata": {},
   "outputs": [
    {
     "data": {
      "text/plain": [
       "True"
      ]
     },
     "execution_count": 170,
     "metadata": {},
     "output_type": "execute_result"
    }
   ],
   "source": [
    "pssm_prot\n",
    "pssm = pssm_prot.drop(\"seq\", axis=1)\n",
    "pssm.loc[0,\"A\"] = -1.0\n",
    "(pssm % 1 == 0).all(axis=None)"
   ]
  },
  {
   "cell_type": "code",
   "execution_count": 71,
   "metadata": {},
   "outputs": [],
   "source": [
    "con.close()"
   ]
  }
 ],
 "metadata": {
  "kernelspec": {
   "display_name": "subpred4",
   "language": "python",
   "name": "python3"
  },
  "language_info": {
   "codemirror_mode": {
    "name": "ipython",
    "version": 3
   },
   "file_extension": ".py",
   "mimetype": "text/x-python",
   "name": "python",
   "nbconvert_exporter": "python",
   "pygments_lexer": "ipython3",
   "version": "3.10.8"
  },
  "orig_nbformat": 4,
  "vscode": {
   "interpreter": {
    "hash": "ec8de6dd8f2d395005c42468f5d13cdd089376f2ad37eab4b2481f4d8703f0b2"
   }
  }
 },
 "nbformat": 4,
 "nbformat_minor": 2
}
