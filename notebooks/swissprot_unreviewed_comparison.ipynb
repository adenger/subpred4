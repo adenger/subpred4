{
 "cells": [
  {
   "cell_type": "markdown",
   "metadata": {},
   "source": [
    "2. Compare the Swissprot dataset (reviewed=True) with the Swissprot+TrEMBL dataset (also including unreviewed proteins).\n",
    "    - Does the additional data make a difference in terms of sample counts, for our substrates?\n",
    "    - TODO questions"
   ]
  },
  {
   "cell_type": "markdown",
   "metadata": {},
   "source": [
    "## Downloading the raw data\n",
    "\n",
    "While downloading the raw data for Swissprot+TrEMBL, we encountered the problem that over 200mio entries were available in the dataset. Since the uniprot pagination downloader that we implemented can download about 3000 proteins per minute, this download would take almost two months to complete.\n",
    "\n",
    "To solve this problem, we decided to only download proteins for which the existence is verified at protein level, and whose sequence is not fragmented. This download only contains 257,658 proteins. This means that we no longer have the option of including proteins that were verified at transcript level, but for unreviewed proteins that might be a bad idea anyways."
   ]
  },
  {
   "cell_type": "code",
   "execution_count": null,
   "metadata": {},
   "outputs": [],
   "source": [
    "df_all = create_dataset(\n",
    "        # keywords_substrate_filter=[\"Amino-acid transport\", \"Sugar transport\"],\n",
    "        # keywords_component_filter=[\"Transmembrane\"],\n",
    "        # keywords_transport_filter=[\"Transport\"],\n",
    "        input_file=\"../data/raw/swissprot/uniprot_data_all_evidence1-2_2022_04.tsv\",\n",
    "        multi_substrate=\"keep\",\n",
    "        verbose=True,\n",
    "        # tax_ids_filter=[3702, 9606, 83333, 559292],\n",
    "        # outliers=outliers,\n",
    "        # sequence_clustering=70,\n",
    "        evidence_code=2,\n",
    "        invalid_amino_acids=\"remove_protein\",\n",
    "        # force_update=True\n",
    "    )\n",
    "\n"
   ]
  }
 ],
 "metadata": {
  "kernelspec": {
   "display_name": "Python 3.10.8 ('subpred4')",
   "language": "python",
   "name": "python3"
  },
  "language_info": {
   "name": "python",
   "version": "3.10.8"
  },
  "orig_nbformat": 4,
  "vscode": {
   "interpreter": {
    "hash": "ec8de6dd8f2d395005c42468f5d13cdd089376f2ad37eab4b2481f4d8703f0b2"
   }
  }
 },
 "nbformat": 4,
 "nbformat_minor": 2
}
