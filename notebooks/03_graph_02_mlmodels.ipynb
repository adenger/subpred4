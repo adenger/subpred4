{
 "cells": [
  {
   "cell_type": "markdown",
   "metadata": {},
   "source": [
    "# Training machine learning models on pairs of substrates in individual organisms\n",
    "\n",
    "After creating the set of primary ChEBI substrates from a set of transmembrane transport proteins, the next task is to create a pipeline for generating these datasets automatically. Next, the "
   ]
  },
  {
   "cell_type": "markdown",
   "metadata": {},
   "source": [
    "## Generalized dataset creation method\n",
    "\n",
    "- filter uniprot proteins generally\n",
    "- filter again for transmembrane transporter activity\n",
    "- get network of GO terms that are descendants of transmembrane transporter activity\n",
    "    - filter network for proteins with in dataset with term\n",
    "    - annotate with number of proteins\n",
    "    - annotate with ChEBI substrates\n",
    "- get chebi network\n",
    "    - filter for GO terms in filtered GO network\n",
    "- 70% sequence identity?\n",
    "- feature generation\n",
    "- svm pipeline\n",
    "\n",
    "End results: \n",
    "- Annotated GO network for protein dataset\n",
    "- Annotated chebi network for protein dataset\n",
    "- Dataframe with accession, organism id, sequence, transport go terms, and transported substrate chebi term"
   ]
  },
  {
   "cell_type": "code",
   "execution_count": 4,
   "metadata": {},
   "outputs": [],
   "source": [
    "from subpred.util import load_df\n",
    "from subpred.graph import preprocess_data"
   ]
  },
  {
   "cell_type": "code",
   "execution_count": 2,
   "metadata": {},
   "outputs": [
    {
     "data": {
      "text/plain": [
       "{'human': 9606, 'athaliana': 3702, 'ecoli': 83333, 'yeast': 559292}"
      ]
     },
     "execution_count": 2,
     "metadata": {},
     "output_type": "execute_result"
    }
   ],
   "source": [
    "{\"human\": 9606, \"athaliana\": 3702, \"ecoli\": 83333, \"yeast\": 559292}\n"
   ]
  },
  {
   "cell_type": "code",
   "execution_count": 5,
   "metadata": {},
   "outputs": [
    {
     "name": "stdout",
     "output_type": "stream",
     "text": [
      "43248\n",
      "164519\n",
      "60547\n"
     ]
    },
    {
     "data": {
      "text/plain": [
       "(                                   gene_names  \\\n",
       " Uniprot                                         \n",
       " A0A0C5B5G6                            MT-RNR1   \n",
       " A0A1B0GTW7                        CIROP LMLN2   \n",
       " A0JNW5      BLTP3B KIAA0701 SHIP164 UHRF1BP1L   \n",
       " A0JP26                                 POTEB3   \n",
       " A0PK11                                  CLRN2   \n",
       " ...                                       ...   \n",
       " Q8IXQ3                                C9orf40   \n",
       " Q8N813                                C3orf56   \n",
       " Q96BQ5                                CCDC127   \n",
       " A6NCS6                                C2orf72   \n",
       " Q5STR5                                 SMIM40   \n",
       " \n",
       "                                                 protein_names  reviewed  \\\n",
       " Uniprot                                                                   \n",
       " A0A0C5B5G6  Mitochondrial-derived peptide MOTS-c (Mitochon...      True   \n",
       " A0A1B0GTW7  Ciliated left-right organizer metallopeptidase...      True   \n",
       " A0JNW5      Bridge-like lipid transfer protein family memb...      True   \n",
       " A0JP26                   POTE ankyrin domain family member B3      True   \n",
       " A0PK11                                               Clarin-2      True   \n",
       " ...                                                       ...       ...   \n",
       " Q8IXQ3                        Uncharacterized protein C9orf40      True   \n",
       " Q8N813               Putative uncharacterized protein C3orf56      True   \n",
       " Q96BQ5              Coiled-coil domain-containing protein 127      True   \n",
       " A6NCS6                        Uncharacterized protein C2orf72      True   \n",
       " Q5STR5                     Small integral membrane protein 40      True   \n",
       " \n",
       "             protein_existence  \\\n",
       " Uniprot                         \n",
       " A0A0C5B5G6                  1   \n",
       " A0A1B0GTW7                  1   \n",
       " A0JNW5                      1   \n",
       " A0JP26                      1   \n",
       " A0PK11                      1   \n",
       " ...                       ...   \n",
       " Q8IXQ3                      1   \n",
       " Q8N813                      1   \n",
       " Q96BQ5                      1   \n",
       " A6NCS6                      1   \n",
       " Q5STR5                      1   \n",
       " \n",
       "                                                      sequence  organism_id  \n",
       " Uniprot                                                                     \n",
       " A0A0C5B5G6                                   MRWQEMGYIFYPRKLR         9606  \n",
       " A0A1B0GTW7  MLLLLLLLLLLPPLVLRVAASRCLHDETQKSVSLLRPPFSQLPSKS...         9606  \n",
       " A0JNW5      MAGIIKKQILKHLSRFTKNLSPDKINLSTLKGEGELKNLELDEEVL...         9606  \n",
       " A0JP26      MVAEVCSMPAASAVKKPFDLRSKMGKWCHHRFPCCRGSGKSNMGTS...         9606  \n",
       " A0PK11      MPGWFKKAWYGLASLLSFSSFILIIVALVVPHWLSGKILCQTGVDL...         9606  \n",
       " ...                                                       ...          ...  \n",
       " Q8IXQ3      MAKRRAAEPVTFHVPWKRLLLCDFAEQPPPPPLWIRPPGVAHAGQL...         9606  \n",
       " Q8N813      MGTGASEKQAEQKVRRAFEASEEAHGTLAASTPWVAMGSAYGSCTC...         9606  \n",
       " Q96BQ5      MNNLNDPPNWNIRPNSRADGGDGSRWNYALLVPMLGLAAFRWIWSR...         9606  \n",
       " A6NCS6      MERELEALAARLARPAEPPFQALVEAAGGRGQVLLVGELWEREQSR...         9606  \n",
       " Q5STR5      MAEEGDVDEADVFLAFAQGPSPPRGPVRRALDKAFFIFLALFLTLL...         9606  \n",
       " \n",
       " [16587 rows x 6 columns],\n",
       "             Uniprot    qualifier evidence_code aspect       go_id\n",
       " 0        A0A075B6H7  involved_in           IEA      P  GO:0002376\n",
       " 1        A0A075B6H7  involved_in           IEA      P  GO:0006955\n",
       " 2        A0A075B6H7  involved_in           IEA      P  GO:0008150\n",
       " 3        A0A075B6H7  involved_in           IEA      P  GO:0002250\n",
       " 4        A0A075B6H7  involved_in           IEA      P  GO:0050896\n",
       " ...             ...          ...           ...    ...         ...\n",
       " 4510117      W6CW81  involved_in           IDA      P  GO:0009615\n",
       " 4510118      W6CW81  involved_in           IDA      P  GO:0009605\n",
       " 4510119      W6CW81  involved_in           IDA      P  GO:0051707\n",
       " 4510120      W6CW81  involved_in           IDA      P  GO:0098586\n",
       " 4510121      W6CW81  involved_in           IDA      P  GO:0140972\n",
       " \n",
       " [4510122 rows x 5 columns],\n",
       " <networkx.classes.multidigraph.MultiDiGraph at 0x7f57bf9c4d60>,\n",
       " <networkx.classes.multidigraph.MultiDiGraph at 0x7f57bf9c72e0>)"
      ]
     },
     "execution_count": 5,
     "metadata": {},
     "output_type": "execute_result"
    }
   ],
   "source": [
    "preprocess_data(organism_ids={9606}, datasets_folder_path=\"../data/datasets\")"
   ]
  }
 ],
 "metadata": {
  "kernelspec": {
   "display_name": "subpred4",
   "language": "python",
   "name": "python3"
  },
  "language_info": {
   "codemirror_mode": {
    "name": "ipython",
    "version": 3
   },
   "file_extension": ".py",
   "mimetype": "text/x-python",
   "name": "python",
   "nbconvert_exporter": "python",
   "pygments_lexer": "ipython3",
   "version": "3.10.12"
  },
  "orig_nbformat": 4
 },
 "nbformat": 4,
 "nbformat_minor": 2
}
