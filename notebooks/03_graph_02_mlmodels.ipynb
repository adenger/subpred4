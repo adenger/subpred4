{
 "cells": [
  {
   "cell_type": "markdown",
   "metadata": {},
   "source": [
    "# Training machine learning models on pairs of substrates in individual organisms\n",
    "\n",
    "After creating the set of primary ChEBI substrates from a set of transmembrane transport proteins, the next task is to create a pipeline for generating these datasets automatically. Next, the "
   ]
  },
  {
   "cell_type": "markdown",
   "metadata": {},
   "source": [
    "## Generalized dataset creation method\n",
    "\n",
    "- filter uniprot proteins generally\n",
    "- filter again for transmembrane transporter activity\n",
    "- get network of GO terms that are descendants of transmembrane transporter activity\n",
    "    - filter network for proteins with in dataset with term\n",
    "    - annotate with number of proteins\n",
    "    - annotate with ChEBI substrates\n",
    "- get chebi network\n",
    "    - filter for GO terms in filtered GO network\n",
    "- 70% sequence identity?\n",
    "- feature generation\n",
    "- svm pipeline\n",
    "\n",
    "End results: \n",
    "- Annotated GO network for protein dataset\n",
    "- Annotated chebi network for protein dataset\n",
    "- Dataframe with accession, organism id, sequence, transport go terms, and transported substrate chebi term"
   ]
  },
  {
   "cell_type": "code",
   "execution_count": 1,
   "metadata": {},
   "outputs": [],
   "source": [
    "from subpred.util import load_df\n",
    "from subpred.graph import preprocess_data, get_substrate_matrix\n",
    "from subpred.pssm import calculate_pssm_feature\n",
    "from subpred.compositions import calculate_aac, calculate_paac\n",
    "import pandas as pd"
   ]
  },
  {
   "cell_type": "code",
   "execution_count": 2,
   "metadata": {},
   "outputs": [
    {
     "data": {
      "text/plain": [
       "{'human': {9606},\n",
       " 'athaliana': {3702},\n",
       " 'ecoli': {83333},\n",
       " 'yeast': {559292},\n",
       " 'all': {3702, 9606, 83333, 559292}}"
      ]
     },
     "execution_count": 2,
     "metadata": {},
     "output_type": "execute_result"
    }
   ],
   "source": [
    "DATASET_FOLDER_PATH = \"../data/datasets\"\n",
    "\n",
    "DATASET_NAME_TO_ORGANISM_IDS = {\"human\": {9606}, \"athaliana\": {3702}, \"ecoli\": {83333}, \"yeast\": {559292}}\n",
    "DATASET_NAME_TO_ORGANISM_IDS[\"all\"] = {list(s)[0] for s in DATASET_NAME_TO_ORGANISM_IDS.values() if len(s) == 1}\n",
    "DATASET_NAME_TO_ORGANISM_IDS"
   ]
  },
  {
   "cell_type": "code",
   "execution_count": 3,
   "metadata": {},
   "outputs": [
    {
     "name": "stdout",
     "output_type": "stream",
     "text": [
      "43248\n",
      "164519\n",
      "60547\n"
     ]
    }
   ],
   "source": [
    "organism_ids = DATASET_NAME_TO_ORGANISM_IDS[\"athaliana\"]\n",
    "df_uniprot, df_uniprot_goa, graph_go_filtered, graph_chebi_filtered = preprocess_data(\n",
    "    organism_ids=organism_ids, datasets_folder_path=DATASET_FOLDER_PATH\n",
    ")\n"
   ]
  },
  {
   "cell_type": "code",
   "execution_count": 4,
   "metadata": {},
   "outputs": [
    {
     "name": "stdout",
     "output_type": "stream",
     "text": [
      "1995\n",
      "247\n",
      "246\n"
     ]
    }
   ],
   "source": [
    "# TODO rename? check what the method acutally does, do we need to change anything?\n",
    "\n",
    "df_substrate_overlaps, dict_chebi_to_uniprot = get_substrate_matrix(\n",
    "    datasets_folder_path=DATASET_FOLDER_PATH,\n",
    "    graph_chebi=graph_chebi_filtered,\n",
    "    graph_go=graph_go_filtered,\n",
    "    df_uniprot_goa=df_uniprot_goa,\n",
    "    min_overlap=0, max_overlap=int(1e6)\n",
    ")\n",
    "assert df_substrate_overlaps.shape[0] == len(dict_chebi_to_uniprot.keys())"
   ]
  },
  {
   "cell_type": "code",
   "execution_count": 5,
   "metadata": {},
   "outputs": [
    {
     "data": {
      "text/plain": [
       "[('monoatomic ion', 336),\n",
       " ('monoatomic cation', 276),\n",
       " ('inorganic cation', 249),\n",
       " ('metal cation', 138),\n",
       " ('proton', 125),\n",
       " ('organic anion', 82),\n",
       " ('carbohydrate', 71),\n",
       " ('inorganic anion', 70),\n",
       " ('carboxylic acid anion', 58),\n",
       " ('organic acid', 58),\n",
       " ('potassium(1+)', 56),\n",
       " ('carbohydrate derivative', 53),\n",
       " ('monoatomic anion', 46),\n",
       " ('biomacromolecule', 45),\n",
       " ('calcium(2+)', 44),\n",
       " ('chemical entity', 36),\n",
       " ('ion', 34),\n",
       " ('transition element cation', 33),\n",
       " ('amino acid', 32),\n",
       " ('amide', 30),\n",
       " ('organic phosphate', 27),\n",
       " ('water', 22),\n",
       " ('sulfur molecular entity', 22),\n",
       " ('monosaccharide', 22),\n",
       " ('nitrate', 18),\n",
       " ('purine nucleotide', 18),\n",
       " ('nucleotide', 18),\n",
       " ('adenyl nucleotide', 18),\n",
       " ('nucleotide-sugar', 17),\n",
       " ('chloride', 16),\n",
       " ('purine ribonucleotide', 16),\n",
       " ('sucrose', 15),\n",
       " ('ATP(4-)', 15),\n",
       " ('L-alpha-amino acid zwitterion', 15),\n",
       " ('peptide', 14),\n",
       " ('ADP(3-)', 14),\n",
       " ('pyrimidine nucleotide-sugar', 13),\n",
       " ('iron cation', 12),\n",
       " ('manganese cation', 12),\n",
       " ('oligopeptide', 12),\n",
       " ('nucleoside', 12),\n",
       " ('nucleobase', 11),\n",
       " ('inorganic phosphate', 11),\n",
       " ('sulfate', 10),\n",
       " ('organic cation', 10),\n",
       " ('hexose', 9),\n",
       " ('monocarboxylic acid', 9),\n",
       " ('phosphate ion', 9),\n",
       " ('phosphoglycerate', 9),\n",
       " ('glucose', 8),\n",
       " ('purine nucleobase', 8),\n",
       " ('sodium(1+)', 8),\n",
       " ('zinc(2+)', 8),\n",
       " ('molybdate', 8),\n",
       " ('copper cation', 7),\n",
       " ('purine nucleoside', 6),\n",
       " ('dicarboxylic acid', 6),\n",
       " ('cadmium cation', 6),\n",
       " ('polyol', 5),\n",
       " ('ammonium', 5),\n",
       " ('UDP-D-glucose(2-)', 5),\n",
       " ('amino acid derivative', 5),\n",
       " ('malate(2-)', 4),\n",
       " ('urea', 4),\n",
       " ('myo-inositol', 4),\n",
       " ('uracil', 4),\n",
       " ('pyrimidine nucleobase', 4),\n",
       " ('L-glutamate(1-)', 4),\n",
       " ('L-lysinium(1+)', 4),\n",
       " ('aromatic amino acid', 4),\n",
       " (\"adenosine 5'-monophosphate(2-)\", 4),\n",
       " ('L-proline zwitterion', 4),\n",
       " ('C4-dicarboxylate', 4),\n",
       " ('GDP-fucose', 4),\n",
       " ('allantoin', 3),\n",
       " ('arsenate ion', 3),\n",
       " ('glucoside', 3),\n",
       " ('fatty acid anion', 3),\n",
       " ('copper(2+)', 3),\n",
       " ('alcohol', 3),\n",
       " ('aldotriose phosphate', 3),\n",
       " ('magnesium cation', 3),\n",
       " ('dipeptide', 3),\n",
       " ('L-ornithinium(1+)', 3),\n",
       " ('tripeptide', 3),\n",
       " ('copper(1+)', 3),\n",
       " ('UDP-alpha-D-xylose(2-)', 3),\n",
       " ('S-adenosyl-L-methionine zwitterion', 3),\n",
       " ('folate(2-)', 3),\n",
       " ('NAD', 2),\n",
       " ('oxaloacetate(2-)', 2),\n",
       " ('fluoride', 2),\n",
       " ('glycerol', 2),\n",
       " ('glucosinolate', 2),\n",
       " ('pentose', 2),\n",
       " ('tricarboxylic acid', 2),\n",
       " ('galactose', 2),\n",
       " ('fructose', 2),\n",
       " ('iron(2+)', 2),\n",
       " ('heme', 2),\n",
       " ('amine', 2),\n",
       " ('boric acid', 2),\n",
       " ('L-histidine zwitterion', 2),\n",
       " ('methylammonium', 2),\n",
       " ('phytochelatin', 2),\n",
       " ('(+)-abscisic acid D-glucopyranosyl ester', 2),\n",
       " ('zinc cation', 2),\n",
       " ('azole', 2),\n",
       " ('D-glucose 6-phosphate', 1),\n",
       " ('xanthine', 1),\n",
       " ('choline', 1),\n",
       " ('pyruvate', 1),\n",
       " ('guanine', 1),\n",
       " ('adenine', 1),\n",
       " ('2-oxoglutarate(2-)', 1),\n",
       " ('citrate(3-)', 1),\n",
       " ('D-ribose', 1),\n",
       " ('maltose', 1),\n",
       " ('D-glucose', 1),\n",
       " ('salicin', 1),\n",
       " ('lipid', 1),\n",
       " ('xylose', 1),\n",
       " ('hydroquinone O-beta-D-glucopyranoside', 1),\n",
       " ('GDP-mannose', 1),\n",
       " ('arabinose', 1),\n",
       " ('gibberellin', 1),\n",
       " ('glutathione derivative', 1),\n",
       " ('organophosphorus compound', 1),\n",
       " ('quaternary nitrogen compound', 1),\n",
       " ('sulfur-containing amino acid', 1),\n",
       " ('arsenite(1-)', 1),\n",
       " ('glycolate', 1),\n",
       " ('mannitol', 1),\n",
       " ('glucitol', 1),\n",
       " ('L-argininium(1+)', 1),\n",
       " ('L-serine zwitterion', 1),\n",
       " ('glycerate', 1),\n",
       " ('serine zwitterion', 1),\n",
       " ('L-cystine zwitterion', 1),\n",
       " ('mannose', 1),\n",
       " ('L-ascorbate', 1),\n",
       " ('methotrexate(2-)', 1),\n",
       " ('polyamine macromolecule', 1),\n",
       " ('biotinate', 1),\n",
       " ('L-alanine zwitterion', 1),\n",
       " ('L-glutamine zwitterion', 1),\n",
       " ('phosphonatoenolpyruvate', 1),\n",
       " ('gamma-aminobutyric acid zwitterion', 1),\n",
       " ('2-cis-abscisate', 1),\n",
       " ('5-formyltetrahydrofolate(2-)', 1),\n",
       " ('alanine zwitterion', 1),\n",
       " ('fatty acyl-CoA(4-)', 1)]"
      ]
     },
     "execution_count": 5,
     "metadata": {},
     "output_type": "execute_result"
    }
   ],
   "source": [
    "chebi_name_to_term = {name : term for term, name in graph_chebi_filtered.nodes(data=\"name\")}\n",
    "chebi_term_to_name = {term : name for term, name in graph_chebi_filtered.nodes(data=\"name\")}\n",
    "molecule_counts = {\n",
    "    chebi_term_to_name[term] : len(proteins) for term, proteins in dict_chebi_to_uniprot.items()\n",
    "}\n",
    "sorted(molecule_counts.items(), key=lambda item: item[1], reverse=True)"
   ]
  },
  {
   "cell_type": "code",
   "execution_count": 6,
   "metadata": {},
   "outputs": [
    {
     "data": {
      "text/html": [
       "<div>\n",
       "<style scoped>\n",
       "    .dataframe tbody tr th:only-of-type {\n",
       "        vertical-align: middle;\n",
       "    }\n",
       "\n",
       "    .dataframe tbody tr th {\n",
       "        vertical-align: top;\n",
       "    }\n",
       "\n",
       "    .dataframe thead th {\n",
       "        text-align: right;\n",
       "    }\n",
       "</style>\n",
       "<table border=\"1\" class=\"dataframe\">\n",
       "  <thead>\n",
       "    <tr style=\"text-align: right;\">\n",
       "      <th></th>\n",
       "      <th>label</th>\n",
       "    </tr>\n",
       "    <tr>\n",
       "      <th>Uniprot</th>\n",
       "      <th></th>\n",
       "    </tr>\n",
       "  </thead>\n",
       "  <tbody>\n",
       "    <tr>\n",
       "      <th>Q8L7Z0</th>\n",
       "      <td>potassium(1+)</td>\n",
       "    </tr>\n",
       "    <tr>\n",
       "      <th>A0A1I9LLU1</th>\n",
       "      <td>potassium(1+)</td>\n",
       "    </tr>\n",
       "    <tr>\n",
       "      <th>Q38998</th>\n",
       "      <td>potassium(1+)</td>\n",
       "    </tr>\n",
       "    <tr>\n",
       "      <th>F4IIZ3</th>\n",
       "      <td>potassium(1+)</td>\n",
       "    </tr>\n",
       "    <tr>\n",
       "      <th>O22397</th>\n",
       "      <td>potassium(1+)</td>\n",
       "    </tr>\n",
       "    <tr>\n",
       "      <th>...</th>\n",
       "      <td>...</td>\n",
       "    </tr>\n",
       "    <tr>\n",
       "      <th>Q9FLS8</th>\n",
       "      <td>calcium(2+)</td>\n",
       "    </tr>\n",
       "    <tr>\n",
       "      <th>P92939</th>\n",
       "      <td>calcium(2+)</td>\n",
       "    </tr>\n",
       "    <tr>\n",
       "      <th>A8MR98</th>\n",
       "      <td>calcium(2+)</td>\n",
       "    </tr>\n",
       "    <tr>\n",
       "      <th>Q9LF79</th>\n",
       "      <td>calcium(2+)</td>\n",
       "    </tr>\n",
       "    <tr>\n",
       "      <th>Q94KI8</th>\n",
       "      <td>calcium(2+)</td>\n",
       "    </tr>\n",
       "  </tbody>\n",
       "</table>\n",
       "<p>100 rows × 1 columns</p>\n",
       "</div>"
      ],
      "text/plain": [
       "                    label\n",
       "Uniprot                  \n",
       "Q8L7Z0      potassium(1+)\n",
       "A0A1I9LLU1  potassium(1+)\n",
       "Q38998      potassium(1+)\n",
       "F4IIZ3      potassium(1+)\n",
       "O22397      potassium(1+)\n",
       "...                   ...\n",
       "Q9FLS8        calcium(2+)\n",
       "P92939        calcium(2+)\n",
       "A8MR98        calcium(2+)\n",
       "Q9LF79        calcium(2+)\n",
       "Q94KI8        calcium(2+)\n",
       "\n",
       "[100 rows x 1 columns]"
      ]
     },
     "execution_count": 6,
     "metadata": {},
     "output_type": "execute_result"
    }
   ],
   "source": [
    "# TODO sequence clustering?\n",
    "# TODO turn into function labels -> df_labels\n",
    "\n",
    "labels = \"potassium(1+)\", 'calcium(2+)'\n",
    "\n",
    "protein_to_label = list()\n",
    "for label in labels:\n",
    "    label_proteins = dict_chebi_to_uniprot[chebi_name_to_term[label]]\n",
    "    for protein in label_proteins:\n",
    "        protein_to_label.append([protein, label])\n",
    "\n",
    "df_labels = pd.DataFrame.from_records(protein_to_label,columns=[\"Uniprot\", \"label\"], index=\"Uniprot\")\n",
    "\n",
    "df_labels"
   ]
  },
  {
   "cell_type": "markdown",
   "metadata": {},
   "source": [
    "## Feature creation"
   ]
  },
  {
   "cell_type": "code",
   "execution_count": 7,
   "metadata": {},
   "outputs": [
    {
     "name": "stdout",
     "output_type": "stream",
     "text": [
      "100\n"
     ]
    }
   ],
   "source": [
    "df_sequences = df_uniprot.loc[df_labels.index].sequence\n",
    "print(df_sequences.shape[0])"
   ]
  },
  {
   "cell_type": "code",
   "execution_count": 8,
   "metadata": {},
   "outputs": [],
   "source": [
    "df_aac = calculate_aac(df_sequences)\n",
    "df_paac = calculate_paac(df_sequences)"
   ]
  },
  {
   "cell_type": "code",
   "execution_count": 9,
   "metadata": {},
   "outputs": [
    {
     "name": "stdout",
     "output_type": "stream",
     "text": [
      "PSSM for accession Q8L7Z0 was found in tmp folder ../data/intermediate/blast/pssm_uniref50_1it\n",
      "PSSM for accession A0A1I9LLU1 was found in tmp folder ../data/intermediate/blast/pssm_uniref50_1it\n",
      "PSSM for accession Q38998 was found in tmp folder ../data/intermediate/blast/pssm_uniref50_1it\n",
      "PSSM for accession F4IIZ3 was found in tmp folder ../data/intermediate/blast/pssm_uniref50_1it\n",
      "PSSM for accession O22397 was found in tmp folder ../data/intermediate/blast/pssm_uniref50_1it\n",
      "PSSM for accession Q9M7K4 was found in tmp folder ../data/intermediate/blast/pssm_uniref50_1it\n",
      "PSSM for accession A0A1P8B652 was found in tmp folder ../data/intermediate/blast/pssm_uniref50_1it\n",
      "PSSM for accession Q38849 was found in tmp folder ../data/intermediate/blast/pssm_uniref50_1it\n",
      "PSSM for accession F4KDC7 was found in tmp folder ../data/intermediate/blast/pssm_uniref50_1it\n",
      "PSSM for accession A0A1P8BFX1 was found in tmp folder ../data/intermediate/blast/pssm_uniref50_1it\n",
      "PSSM for accession Q9LD18 was found in tmp folder ../data/intermediate/blast/pssm_uniref50_1it\n",
      "PSSM for accession Q9ZTZ7 was found in tmp folder ../data/intermediate/blast/pssm_uniref50_1it\n",
      "PSSM for accession O65272 was found in tmp folder ../data/intermediate/blast/pssm_uniref50_1it\n",
      "PSSM for accession A0A1P8B977 was found in tmp folder ../data/intermediate/blast/pssm_uniref50_1it\n",
      "PSSM for accession Q8LBL1 was found in tmp folder ../data/intermediate/blast/pssm_uniref50_1it\n",
      "PSSM for accession F4JU14 was found in tmp folder ../data/intermediate/blast/pssm_uniref50_1it\n",
      "PSSM for accession Q9XFR0 was found in tmp folder ../data/intermediate/blast/pssm_uniref50_1it\n",
      "PSSM for accession Q9FE38 was found in tmp folder ../data/intermediate/blast/pssm_uniref50_1it\n",
      "PSSM for accession A0A1P8AYI8 was found in tmp folder ../data/intermediate/blast/pssm_uniref50_1it\n",
      "PSSM for accession F4JHE9 was found in tmp folder ../data/intermediate/blast/pssm_uniref50_1it\n",
      "PSSM for accession O22881 was found in tmp folder ../data/intermediate/blast/pssm_uniref50_1it\n",
      "PSSM for accession A0A1P8B1L6 was found in tmp folder ../data/intermediate/blast/pssm_uniref50_1it\n",
      "PSSM for accession F4JV35 was found in tmp folder ../data/intermediate/blast/pssm_uniref50_1it\n",
      "PSSM for accession Q9FY75 was found in tmp folder ../data/intermediate/blast/pssm_uniref50_1it\n",
      "PSSM for accession Q38898 was found in tmp folder ../data/intermediate/blast/pssm_uniref50_1it\n",
      "PSSM for accession A0A1P8BG02 was found in tmp folder ../data/intermediate/blast/pssm_uniref50_1it\n",
      "PSSM for accession O65718 was found in tmp folder ../data/intermediate/blast/pssm_uniref50_1it\n",
      "PSSM for accession Q94A76 was found in tmp folder ../data/intermediate/blast/pssm_uniref50_1it\n",
      "PSSM for accession Q8GXE6 was found in tmp folder ../data/intermediate/blast/pssm_uniref50_1it\n",
      "PSSM for accession O80739 was found in tmp folder ../data/intermediate/blast/pssm_uniref50_1it\n",
      "PSSM for accession F4JV33 was found in tmp folder ../data/intermediate/blast/pssm_uniref50_1it\n",
      "PSSM for accession A0A1P8B960 was found in tmp folder ../data/intermediate/blast/pssm_uniref50_1it\n",
      "PSSM for accession Q9M8S6 was found in tmp folder ../data/intermediate/blast/pssm_uniref50_1it\n",
      "PSSM for accession O82226 was found in tmp folder ../data/intermediate/blast/pssm_uniref50_1it\n",
      "PSSM for accession Q8LPL8 was found in tmp folder ../data/intermediate/blast/pssm_uniref50_1it\n",
      "PSSM for accession Q9LQL2 was found in tmp folder ../data/intermediate/blast/pssm_uniref50_1it\n",
      "PSSM for accession Q8RWN2 was found in tmp folder ../data/intermediate/blast/pssm_uniref50_1it\n",
      "PSSM for accession A0A1P8AYY4 was found in tmp folder ../data/intermediate/blast/pssm_uniref50_1it\n",
      "PSSM for accession Q8RWU6 was found in tmp folder ../data/intermediate/blast/pssm_uniref50_1it\n",
      "PSSM for accession A0A1P8BFX8 was found in tmp folder ../data/intermediate/blast/pssm_uniref50_1it\n",
      "PSSM for accession Q9S6Z8 was found in tmp folder ../data/intermediate/blast/pssm_uniref50_1it\n",
      "PSSM for accession Q39128 was found in tmp folder ../data/intermediate/blast/pssm_uniref50_1it\n",
      "PSSM for accession Q93VD3 was found in tmp folder ../data/intermediate/blast/pssm_uniref50_1it\n",
      "PSSM for accession P92960 was found in tmp folder ../data/intermediate/blast/pssm_uniref50_1it\n",
      "PSSM for accession Q84WG1 was found in tmp folder ../data/intermediate/blast/pssm_uniref50_1it\n",
      "PSSM for accession Q9LKW9 was found in tmp folder ../data/intermediate/blast/pssm_uniref50_1it\n",
      "PSSM for accession A0A1P8B8U1 was found in tmp folder ../data/intermediate/blast/pssm_uniref50_1it\n",
      "PSSM for accession Q84TI7 was found in tmp folder ../data/intermediate/blast/pssm_uniref50_1it\n",
      "PSSM for accession Q68KI4 was found in tmp folder ../data/intermediate/blast/pssm_uniref50_1it\n",
      "PSSM for accession A0A1P8B0E9 was found in tmp folder ../data/intermediate/blast/pssm_uniref50_1it\n",
      "PSSM for accession Q39016 was found in tmp folder ../data/intermediate/blast/pssm_uniref50_1it\n",
      "PSSM for accession A0A1P8B951 was found in tmp folder ../data/intermediate/blast/pssm_uniref50_1it\n",
      "PSSM for accession O22920 was found in tmp folder ../data/intermediate/blast/pssm_uniref50_1it\n",
      "PSSM for accession A0A1I9LLU0 was found in tmp folder ../data/intermediate/blast/pssm_uniref50_1it\n",
      "PSSM for accession Q2UVJ5 was found in tmp folder ../data/intermediate/blast/pssm_uniref50_1it\n",
      "PSSM for accession F4JQC2 was found in tmp folder ../data/intermediate/blast/pssm_uniref50_1it\n",
      "PSSM for accession A0A178UK01 was found in tmp folder ../data/intermediate/blast/pssm_uniref50_1it\n",
      "PSSM for accession O23087 was found in tmp folder ../data/intermediate/blast/pssm_uniref50_1it\n",
      "PSSM for accession Q9SX28 was found in tmp folder ../data/intermediate/blast/pssm_uniref50_1it\n",
      "PSSM for accession Q9M2L4 was found in tmp folder ../data/intermediate/blast/pssm_uniref50_1it\n",
      "PSSM for accession F4IGU5 was found in tmp folder ../data/intermediate/blast/pssm_uniref50_1it\n",
      "PSSM for accession Q37145 was found in tmp folder ../data/intermediate/blast/pssm_uniref50_1it\n",
      "PSSM for accession Q94AX5 was found in tmp folder ../data/intermediate/blast/pssm_uniref50_1it\n",
      "PSSM for accession Q9SZR1 was found in tmp folder ../data/intermediate/blast/pssm_uniref50_1it\n",
      "PSSM for accession Q39254 was found in tmp folder ../data/intermediate/blast/pssm_uniref50_1it\n",
      "PSSM for accession Q93Z81 was found in tmp folder ../data/intermediate/blast/pssm_uniref50_1it\n",
      "PSSM for accession Q9LHL8 was found in tmp folder ../data/intermediate/blast/pssm_uniref50_1it\n",
      "PSSM for accession Q9LEQ3 was found in tmp folder ../data/intermediate/blast/pssm_uniref50_1it\n",
      "PSSM for accession Q9T0H9 was found in tmp folder ../data/intermediate/blast/pssm_uniref50_1it\n",
      "PSSM for accession Q93YT1 was found in tmp folder ../data/intermediate/blast/pssm_uniref50_1it\n",
      "PSSM for accession A0A1I9LPN7 was found in tmp folder ../data/intermediate/blast/pssm_uniref50_1it\n",
      "PSSM for accession A0A1I9LSS9 was found in tmp folder ../data/intermediate/blast/pssm_uniref50_1it\n",
      "PSSM for accession Q8GXJ4 was found in tmp folder ../data/intermediate/blast/pssm_uniref50_1it\n",
      "PSSM for accession O81108 was found in tmp folder ../data/intermediate/blast/pssm_uniref50_1it\n",
      "PSSM for accession F4HUS8 was found in tmp folder ../data/intermediate/blast/pssm_uniref50_1it\n",
      "PSSM for accession O65718 was found in tmp folder ../data/intermediate/blast/pssm_uniref50_1it\n",
      "PSSM for accession Q8GYU6 was found in tmp folder ../data/intermediate/blast/pssm_uniref50_1it\n",
      "PSSM for accession A0A1P8AR51 was found in tmp folder ../data/intermediate/blast/pssm_uniref50_1it\n",
      "PSSM for accession A0A384L106 was found in tmp folder ../data/intermediate/blast/pssm_uniref50_1it\n",
      "PSSM for accession F4IS06 was found in tmp folder ../data/intermediate/blast/pssm_uniref50_1it\n",
      "PSSM for accession F4HZU9 was found in tmp folder ../data/intermediate/blast/pssm_uniref50_1it\n",
      "PSSM for accession Q9LY28 was found in tmp folder ../data/intermediate/blast/pssm_uniref50_1it\n",
      "PSSM for accession O82226 was found in tmp folder ../data/intermediate/blast/pssm_uniref50_1it\n",
      "PSSM for accession Q9FI43 was found in tmp folder ../data/intermediate/blast/pssm_uniref50_1it\n",
      "PSSM for accession Q9SY55 was found in tmp folder ../data/intermediate/blast/pssm_uniref50_1it\n",
      "PSSM for accession F4HZU8 was found in tmp folder ../data/intermediate/blast/pssm_uniref50_1it\n",
      "PSSM for accession Q9FG04 was found in tmp folder ../data/intermediate/blast/pssm_uniref50_1it\n",
      "PSSM for accession A0A1P8AP52 was found in tmp folder ../data/intermediate/blast/pssm_uniref50_1it\n",
      "PSSM for accession Q945S5 was found in tmp folder ../data/intermediate/blast/pssm_uniref50_1it\n",
      "PSSM for accession Q9C8E7 was found in tmp folder ../data/intermediate/blast/pssm_uniref50_1it\n",
      "PSSM for accession O22218 was found in tmp folder ../data/intermediate/blast/pssm_uniref50_1it\n",
      "PSSM for accession A0A1P8AYB6 was found in tmp folder ../data/intermediate/blast/pssm_uniref50_1it\n",
      "PSSM for accession Q8L7E9 was found in tmp folder ../data/intermediate/blast/pssm_uniref50_1it\n",
      "PSSM for accession Q39253 was found in tmp folder ../data/intermediate/blast/pssm_uniref50_1it\n",
      "PSSM for accession A0A1P8AXT8 was found in tmp folder ../data/intermediate/blast/pssm_uniref50_1it\n",
      "PSSM for accession Q9FLS8 was found in tmp folder ../data/intermediate/blast/pssm_uniref50_1it\n",
      "PSSM for accession P92939 was found in tmp folder ../data/intermediate/blast/pssm_uniref50_1it\n",
      "PSSM for accession A8MR98 was found in tmp folder ../data/intermediate/blast/pssm_uniref50_1it\n",
      "PSSM for accession Q9LF79 was found in tmp folder ../data/intermediate/blast/pssm_uniref50_1it\n",
      "PSSM for accession Q94KI8 was found in tmp folder ../data/intermediate/blast/pssm_uniref50_1it\n",
      "PSSM for accession Q8L7Z0 was found in tmp folder ../data/intermediate/blast/pssm_uniref50_3it\n",
      "PSSM for accession A0A1I9LLU1 was found in tmp folder ../data/intermediate/blast/pssm_uniref50_3it\n",
      "PSSM for accession Q38998 was found in tmp folder ../data/intermediate/blast/pssm_uniref50_3it\n",
      "PSSM for accession F4IIZ3 was found in tmp folder ../data/intermediate/blast/pssm_uniref50_3it\n",
      "PSSM for accession O22397 was found in tmp folder ../data/intermediate/blast/pssm_uniref50_3it\n",
      "PSSM for accession Q9M7K4 was found in tmp folder ../data/intermediate/blast/pssm_uniref50_3it\n",
      "PSSM for accession A0A1P8B652 was found in tmp folder ../data/intermediate/blast/pssm_uniref50_3it\n",
      "PSSM for accession Q38849 was found in tmp folder ../data/intermediate/blast/pssm_uniref50_3it\n",
      "PSSM for accession F4KDC7 was found in tmp folder ../data/intermediate/blast/pssm_uniref50_3it\n",
      "PSSM for accession A0A1P8BFX1 was found in tmp folder ../data/intermediate/blast/pssm_uniref50_3it\n",
      "PSSM for accession Q9LD18 was found in tmp folder ../data/intermediate/blast/pssm_uniref50_3it\n",
      "PSSM for accession Q9ZTZ7 was found in tmp folder ../data/intermediate/blast/pssm_uniref50_3it\n",
      "PSSM for accession O65272 was found in tmp folder ../data/intermediate/blast/pssm_uniref50_3it\n",
      "PSSM for accession A0A1P8B977 was found in tmp folder ../data/intermediate/blast/pssm_uniref50_3it\n",
      "PSSM for accession Q8LBL1 was found in tmp folder ../data/intermediate/blast/pssm_uniref50_3it\n",
      "PSSM for accession F4JU14 was found in tmp folder ../data/intermediate/blast/pssm_uniref50_3it\n",
      "PSSM for accession Q9XFR0 was found in tmp folder ../data/intermediate/blast/pssm_uniref50_3it\n",
      "PSSM for accession Q9FE38 was found in tmp folder ../data/intermediate/blast/pssm_uniref50_3it\n",
      "PSSM for accession A0A1P8AYI8 was found in tmp folder ../data/intermediate/blast/pssm_uniref50_3it\n",
      "PSSM for accession O22881 was found in tmp folder ../data/intermediate/blast/pssm_uniref50_3it\n",
      "PSSM for accession A0A1P8B1L6 was found in tmp folder ../data/intermediate/blast/pssm_uniref50_3it\n",
      "PSSM for accession F4JV35 was found in tmp folder ../data/intermediate/blast/pssm_uniref50_3it\n",
      "PSSM for accession Q9FY75 was found in tmp folder ../data/intermediate/blast/pssm_uniref50_3it\n",
      "PSSM for accession Q38898 was found in tmp folder ../data/intermediate/blast/pssm_uniref50_3it\n",
      "PSSM for accession A0A1P8BG02 was found in tmp folder ../data/intermediate/blast/pssm_uniref50_3it\n",
      "PSSM for accession O65718 was found in tmp folder ../data/intermediate/blast/pssm_uniref50_3it\n",
      "PSSM for accession Q94A76 was found in tmp folder ../data/intermediate/blast/pssm_uniref50_3it\n",
      "PSSM for accession Q8GXE6 was found in tmp folder ../data/intermediate/blast/pssm_uniref50_3it\n",
      "PSSM for accession O80739 was found in tmp folder ../data/intermediate/blast/pssm_uniref50_3it\n",
      "PSSM for accession F4JV33 was found in tmp folder ../data/intermediate/blast/pssm_uniref50_3it\n",
      "PSSM for accession A0A1P8B960 was found in tmp folder ../data/intermediate/blast/pssm_uniref50_3it\n",
      "PSSM for accession Q9M8S6 was found in tmp folder ../data/intermediate/blast/pssm_uniref50_3it\n",
      "PSSM for accession O82226 was found in tmp folder ../data/intermediate/blast/pssm_uniref50_3it\n",
      "PSSM for accession Q8LPL8 was found in tmp folder ../data/intermediate/blast/pssm_uniref50_3it\n",
      "PSSM for accession Q9LQL2 was found in tmp folder ../data/intermediate/blast/pssm_uniref50_3it\n",
      "PSSM for accession Q8RWN2 was found in tmp folder ../data/intermediate/blast/pssm_uniref50_3it\n",
      "PSSM for accession A0A1P8AYY4 was found in tmp folder ../data/intermediate/blast/pssm_uniref50_3it\n",
      "PSSM for accession Q8RWU6 was found in tmp folder ../data/intermediate/blast/pssm_uniref50_3it\n",
      "PSSM for accession A0A1P8BFX8 was found in tmp folder ../data/intermediate/blast/pssm_uniref50_3it\n",
      "PSSM for accession Q9S6Z8 was found in tmp folder ../data/intermediate/blast/pssm_uniref50_3it\n",
      "PSSM for accession Q39128 was found in tmp folder ../data/intermediate/blast/pssm_uniref50_3it\n",
      "PSSM for accession Q93VD3 was found in tmp folder ../data/intermediate/blast/pssm_uniref50_3it\n",
      "PSSM for accession P92960 was found in tmp folder ../data/intermediate/blast/pssm_uniref50_3it\n",
      "PSSM for accession Q84WG1 was found in tmp folder ../data/intermediate/blast/pssm_uniref50_3it\n",
      "PSSM for accession Q9LKW9 was found in tmp folder ../data/intermediate/blast/pssm_uniref50_3it\n",
      "PSSM for accession A0A1P8B8U1 was found in tmp folder ../data/intermediate/blast/pssm_uniref50_3it\n",
      "PSSM for accession Q84TI7 was found in tmp folder ../data/intermediate/blast/pssm_uniref50_3it\n",
      "PSSM for accession Q68KI4 was found in tmp folder ../data/intermediate/blast/pssm_uniref50_3it\n",
      "PSSM for accession A0A1P8B0E9 was found in tmp folder ../data/intermediate/blast/pssm_uniref50_3it\n",
      "PSSM for accession Q39016 was found in tmp folder ../data/intermediate/blast/pssm_uniref50_3it\n",
      "PSSM for accession A0A1P8B951 was found in tmp folder ../data/intermediate/blast/pssm_uniref50_3it\n",
      "PSSM for accession O22920 was found in tmp folder ../data/intermediate/blast/pssm_uniref50_3it\n",
      "PSSM for accession A0A1I9LLU0 was found in tmp folder ../data/intermediate/blast/pssm_uniref50_3it\n",
      "PSSM for accession Q2UVJ5 was found in tmp folder ../data/intermediate/blast/pssm_uniref50_3it\n",
      "PSSM for accession F4JQC2 was found in tmp folder ../data/intermediate/blast/pssm_uniref50_3it\n",
      "PSSM for accession A0A178UK01 was found in tmp folder ../data/intermediate/blast/pssm_uniref50_3it\n",
      "PSSM for accession O23087 was found in tmp folder ../data/intermediate/blast/pssm_uniref50_3it\n",
      "PSSM for accession Q9SX28 was found in tmp folder ../data/intermediate/blast/pssm_uniref50_3it\n",
      "PSSM for accession Q9M2L4 was found in tmp folder ../data/intermediate/blast/pssm_uniref50_3it\n",
      "PSSM for accession F4IGU5 was found in tmp folder ../data/intermediate/blast/pssm_uniref50_3it\n",
      "PSSM for accession Q37145 was found in tmp folder ../data/intermediate/blast/pssm_uniref50_3it\n",
      "PSSM for accession Q94AX5 was found in tmp folder ../data/intermediate/blast/pssm_uniref50_3it\n",
      "PSSM for accession Q9SZR1 was found in tmp folder ../data/intermediate/blast/pssm_uniref50_3it\n",
      "PSSM for accession Q39254 was found in tmp folder ../data/intermediate/blast/pssm_uniref50_3it\n",
      "PSSM for accession Q93Z81 was found in tmp folder ../data/intermediate/blast/pssm_uniref50_3it\n",
      "PSSM for accession Q9LHL8 was found in tmp folder ../data/intermediate/blast/pssm_uniref50_3it\n",
      "PSSM for accession Q9LEQ3 was found in tmp folder ../data/intermediate/blast/pssm_uniref50_3it\n",
      "PSSM for accession Q9T0H9 was found in tmp folder ../data/intermediate/blast/pssm_uniref50_3it\n",
      "PSSM for accession Q93YT1 was found in tmp folder ../data/intermediate/blast/pssm_uniref50_3it\n",
      "PSSM for accession A0A1I9LPN7 was found in tmp folder ../data/intermediate/blast/pssm_uniref50_3it\n",
      "PSSM for accession A0A1I9LSS9 was found in tmp folder ../data/intermediate/blast/pssm_uniref50_3it\n",
      "PSSM for accession Q8GXJ4 was found in tmp folder ../data/intermediate/blast/pssm_uniref50_3it\n",
      "PSSM for accession O81108 was found in tmp folder ../data/intermediate/blast/pssm_uniref50_3it\n",
      "PSSM for accession F4HUS8 was found in tmp folder ../data/intermediate/blast/pssm_uniref50_3it\n",
      "PSSM for accession O65718 was found in tmp folder ../data/intermediate/blast/pssm_uniref50_3it\n",
      "PSSM for accession Q8GYU6 was found in tmp folder ../data/intermediate/blast/pssm_uniref50_3it\n",
      "PSSM for accession A0A1P8AR51 was found in tmp folder ../data/intermediate/blast/pssm_uniref50_3it\n",
      "PSSM for accession A0A384L106 was found in tmp folder ../data/intermediate/blast/pssm_uniref50_3it\n",
      "PSSM for accession F4IS06 was found in tmp folder ../data/intermediate/blast/pssm_uniref50_3it\n",
      "PSSM for accession F4HZU9 was found in tmp folder ../data/intermediate/blast/pssm_uniref50_3it\n",
      "PSSM for accession Q9LY28 was found in tmp folder ../data/intermediate/blast/pssm_uniref50_3it\n",
      "PSSM for accession O82226 was found in tmp folder ../data/intermediate/blast/pssm_uniref50_3it\n",
      "PSSM for accession Q9FI43 was found in tmp folder ../data/intermediate/blast/pssm_uniref50_3it\n",
      "PSSM for accession Q9SY55 was found in tmp folder ../data/intermediate/blast/pssm_uniref50_3it\n",
      "PSSM for accession F4HZU8 was found in tmp folder ../data/intermediate/blast/pssm_uniref50_3it\n",
      "PSSM for accession Q9FG04 was found in tmp folder ../data/intermediate/blast/pssm_uniref50_3it\n",
      "PSSM for accession A0A1P8AP52 was found in tmp folder ../data/intermediate/blast/pssm_uniref50_3it\n",
      "PSSM for accession Q945S5 was found in tmp folder ../data/intermediate/blast/pssm_uniref50_3it\n",
      "PSSM for accession Q9C8E7 was found in tmp folder ../data/intermediate/blast/pssm_uniref50_3it\n",
      "PSSM for accession O22218 was found in tmp folder ../data/intermediate/blast/pssm_uniref50_3it\n",
      "PSSM for accession A0A1P8AYB6 was found in tmp folder ../data/intermediate/blast/pssm_uniref50_3it\n",
      "PSSM for accession Q8L7E9 was found in tmp folder ../data/intermediate/blast/pssm_uniref50_3it\n",
      "PSSM for accession Q39253 was found in tmp folder ../data/intermediate/blast/pssm_uniref50_3it\n",
      "PSSM for accession A0A1P8AXT8 was found in tmp folder ../data/intermediate/blast/pssm_uniref50_3it\n",
      "PSSM for accession Q9FLS8 was found in tmp folder ../data/intermediate/blast/pssm_uniref50_3it\n",
      "PSSM for accession P92939 was found in tmp folder ../data/intermediate/blast/pssm_uniref50_3it\n",
      "PSSM for accession A8MR98 was found in tmp folder ../data/intermediate/blast/pssm_uniref50_3it\n",
      "PSSM for accession Q9LF79 was found in tmp folder ../data/intermediate/blast/pssm_uniref50_3it\n",
      "PSSM for accession Q94KI8 was found in tmp folder ../data/intermediate/blast/pssm_uniref50_3it\n",
      "Error: AssertionError occurred for ../data/intermediate/blast/pssm_uniref50_3it/F4JHE9.pssm. Message:Sequence from PSSM file ../data/intermediate/blast/pssm_uniref50_3it/F4JHE9.pssm did not match input sequence:\n",
      "MDFASSVQRQSMFHGGADFASYCLPNRMISAKLCPKGLGGTRFWDPMIDSKVRSAIRSKRNVSYRSSLTLNADFNGRFYGHLLPAKPQNVPLGFRLLCQSSDSVGDLVGNDRNLEFAEGSDDREVTFSKEEKDTREQDSAPSLEELRDLLNKATKELEVASLNSTMFEEKAQRISEVAIALKDEAASAWNDVNQTLNVVQEAVDEESVAKEAVQKATMALSLAEARLQVALESLEAEGYNTSEESEVRDGVKDKEEALLSAKADIKECQENLASCEEQLRRLQVKKDELQKEVDRLNEAAERAQISALKAEEDVANIMVLAEQAVAFELEATQRVNDAEIALQRAEKTLFGSQTQETTQGKVLDGKNTIVGEDEVLSEIVDVSHQAERDLVVVGVSSDVGTQSYESDNENGKPTADFAKEAEGEAEKSKNVVLTKKQEVQKDLPRESSSHNGTKTSLKKSSRFFPASFFSSNGDGTATVFESLVESAKQQWPKLILGFTLLGAGVAIYSNGVGRNNQLPQQPNIVSTSAEDVSSSTKPLIRQMQKLPKRIKKLLEMFPQQEVNEEEASLLDVLWLLLASVIFVPLFQKIPGGSPVLGYLAAGILIGPYGLSIIRNVHGTKAIAEFGVVFLLFNIGLELSVERLSSMKKYVFGLGSAQVLVTAAVIGLITHYVAGQAGPAAIVIGNGLALSSTAVVLQVLQERGESTSRHGRATFSVLLFQDLAVVVLLILIPLISPNSSKGGIGFQAIAEALGLAAIKAAVAITGIIAGGRLFYNALIFWYTQLLRPIYKQIAENRNAEIFSANTLLVILGTSLLTARAGLSMALGAFLAGLLLAETEFSLQVESDIAPYRGLLLGLFFMTVGMSIDPKLLLANFPLIMGTLGLLLVGKTILVVIIGKLFGISIISAVRVGLLLAPGGEFAFVAFGEAVNQGIMTPQLSSLLFLVVGISMALTPWLAAGGQLIASRFELQDVRSLLPVESETDDLQGHIIICGFGRIGQIIAQLLSERLIPFVALDVSSDRVAIGRSLDLPVYFGDAGSREVLHKIGADRACAAAIALDTPGANYRCVWALSKYFPNVKTFVRAHDVDHGLNLEKAGATAVVPETLEPSLQLAAAVLAQAKLPTSEIATTINEFRSRHLSELAELCEASGSSLGYGFSRSTSKPKPPSP\n",
      "MDFASSVQRQSMFHGGADFASYCLPNRMISAKLCPKGLGGTRFWDPMIDSKVRSAIRSKRNVSYRSSLTLNADFNGRFYGHLLPAKPQNVPLGFRLLCQSSDSVGDLVGNDRNLEFAEGSDDREVTFSKEEKDTREQDSAPSLEELRDLLNKATKELEVASLNSTMFEEKAQRISEVAIALKDEAASAWNDVNQTLNVVQEAVDEESVAKEAVQKATMALSLAEARLQVALESLEAEGYNTSEESEVRDGVKDKEEALLSAKADIKECQENLASCEEQLRRLQVKKDELQKEVDRLNEAAERAQISALKAEEDVANIMVLAEQAVAFELEATQRVNDAEIALQRAEKTLFGSQTQETTQGKVLDGKNTIVGEDEVLSEIVDVSHQAERDLVVVGVSSDVGTQSYESDNENGKPTADFAKEAEGEAEKSKNVVLTKKQEVQKDLPRESSSHNGTKTSLKKSSRFFPASFFSSNGDGTATVFESLVESAKQQWPKLILGFTLLGAGVAIYSNGVGRNNQLPQQPNIVSTSAEDVSSSTKPLIRQMQKLPKRIKKLLEMFPQQEVNEEEASLLDVLWLLLASVIFVPLFQKIPGGSPVLGYLAAGILIGPYGLSIIRNVHGTKAIAEFGVVFLLFNIGLELSVERLSSMKKYVFGLGSAQVLVTAAVIGLITHYVAGQAGPAAIVIGNGLALSSTAVVLQVLQERGESTSRHGRATFSVLLFQDLAVVVLLILIPLISPNSSKGGIGFQAIAEALGLAAIKAAVAITGIIAGGRLFYNALIFWYTQLLRPIYKQIAENRNAEIFSANTLLVILGTSLLTARAGLSMALGAFLAGLLLAETEFSLQVESDIAPYRGLLLGLFFMTVGMSIDPKLLLANFPLIMGTLGLLLVGKTILVVIIGKLFGISIISAVRVGLLLAPGGEFAFVAFGEAVNQGIMTPQLSSLLFLVVGISMALTPWLAAGGQLIASRFELQDVRSLLPVESETDDLQGHIIICGFGRIGQIIAQLLSERLIPFVALDVSSDRVAIGRSLDLPVYFGDAGSREVLHKIGADRACAAAIALDTPGANYRCVWALSKYFPNVKTFVRAHDVDHGLNLEKAGATAVVPETLEPSLQLAAAVLAQAKLPTSEIATTINEFRSRHLSELAELCEASGSSLGYGFSRSTSKPKPPSPSETSDDNQIIEGTLAI\n",
      "PSSM for accession Q8L7Z0 was found in tmp folder ../data/intermediate/blast/pssm_uniref90_3it\n",
      "PSSM for accession A0A1I9LLU1 was found in tmp folder ../data/intermediate/blast/pssm_uniref90_3it\n",
      "PSSM for accession Q38998 was found in tmp folder ../data/intermediate/blast/pssm_uniref90_3it\n",
      "PSSM for accession F4IIZ3 was found in tmp folder ../data/intermediate/blast/pssm_uniref90_3it\n",
      "PSSM for accession O22397 was found in tmp folder ../data/intermediate/blast/pssm_uniref90_3it\n",
      "PSSM for accession Q9M7K4 was found in tmp folder ../data/intermediate/blast/pssm_uniref90_3it\n",
      "PSSM for accession A0A1P8B652 was found in tmp folder ../data/intermediate/blast/pssm_uniref90_3it\n",
      "PSSM for accession Q38849 was found in tmp folder ../data/intermediate/blast/pssm_uniref90_3it\n",
      "PSSM for accession F4KDC7 was found in tmp folder ../data/intermediate/blast/pssm_uniref90_3it\n",
      "PSSM for accession A0A1P8BFX1 was found in tmp folder ../data/intermediate/blast/pssm_uniref90_3it\n",
      "PSSM for accession Q9LD18 was found in tmp folder ../data/intermediate/blast/pssm_uniref90_3it\n",
      "PSSM for accession Q9ZTZ7 was found in tmp folder ../data/intermediate/blast/pssm_uniref90_3it\n",
      "PSSM for accession O65272 was found in tmp folder ../data/intermediate/blast/pssm_uniref90_3it\n",
      "PSSM for accession A0A1P8B977 was found in tmp folder ../data/intermediate/blast/pssm_uniref90_3it\n",
      "PSSM for accession Q8LBL1 was found in tmp folder ../data/intermediate/blast/pssm_uniref90_3it\n",
      "PSSM for accession F4JU14 was found in tmp folder ../data/intermediate/blast/pssm_uniref90_3it\n",
      "PSSM for accession Q9XFR0 was found in tmp folder ../data/intermediate/blast/pssm_uniref90_3it\n",
      "PSSM for accession Q9FE38 was found in tmp folder ../data/intermediate/blast/pssm_uniref90_3it\n",
      "PSSM for accession A0A1P8AYI8 was found in tmp folder ../data/intermediate/blast/pssm_uniref90_3it\n",
      "PSSM for accession F4JHE9 was found in tmp folder ../data/intermediate/blast/pssm_uniref90_3it\n",
      "PSSM for accession O22881 was found in tmp folder ../data/intermediate/blast/pssm_uniref90_3it\n",
      "PSSM for accession A0A1P8B1L6 was found in tmp folder ../data/intermediate/blast/pssm_uniref90_3it\n",
      "PSSM for accession F4JV35 was found in tmp folder ../data/intermediate/blast/pssm_uniref90_3it\n",
      "PSSM for accession Q9FY75 was found in tmp folder ../data/intermediate/blast/pssm_uniref90_3it\n",
      "PSSM for accession Q38898 was found in tmp folder ../data/intermediate/blast/pssm_uniref90_3it\n",
      "PSSM for accession A0A1P8BG02 was found in tmp folder ../data/intermediate/blast/pssm_uniref90_3it\n",
      "PSSM for accession O65718 was found in tmp folder ../data/intermediate/blast/pssm_uniref90_3it\n",
      "PSSM for accession Q94A76 was found in tmp folder ../data/intermediate/blast/pssm_uniref90_3it\n",
      "PSSM for accession Q8GXE6 was found in tmp folder ../data/intermediate/blast/pssm_uniref90_3it\n",
      "PSSM for accession O80739 was found in tmp folder ../data/intermediate/blast/pssm_uniref90_3it\n",
      "PSSM for accession F4JV33 was found in tmp folder ../data/intermediate/blast/pssm_uniref90_3it\n",
      "PSSM for accession A0A1P8B960 was found in tmp folder ../data/intermediate/blast/pssm_uniref90_3it\n",
      "PSSM for accession Q9M8S6 was found in tmp folder ../data/intermediate/blast/pssm_uniref90_3it\n",
      "PSSM for accession O82226 was found in tmp folder ../data/intermediate/blast/pssm_uniref90_3it\n",
      "PSSM for accession Q8LPL8 was found in tmp folder ../data/intermediate/blast/pssm_uniref90_3it\n",
      "PSSM for accession Q9LQL2 was found in tmp folder ../data/intermediate/blast/pssm_uniref90_3it\n",
      "PSSM for accession Q8RWN2 was found in tmp folder ../data/intermediate/blast/pssm_uniref90_3it\n",
      "PSSM for accession A0A1P8AYY4 was found in tmp folder ../data/intermediate/blast/pssm_uniref90_3it\n",
      "PSSM for accession Q8RWU6 was found in tmp folder ../data/intermediate/blast/pssm_uniref90_3it\n",
      "PSSM for accession A0A1P8BFX8 was found in tmp folder ../data/intermediate/blast/pssm_uniref90_3it\n",
      "PSSM for accession Q9S6Z8 was found in tmp folder ../data/intermediate/blast/pssm_uniref90_3it\n",
      "PSSM for accession Q39128 was found in tmp folder ../data/intermediate/blast/pssm_uniref90_3it\n",
      "PSSM for accession Q93VD3 was found in tmp folder ../data/intermediate/blast/pssm_uniref90_3it\n",
      "PSSM for accession P92960 was found in tmp folder ../data/intermediate/blast/pssm_uniref90_3it\n",
      "PSSM for accession Q84WG1 was found in tmp folder ../data/intermediate/blast/pssm_uniref90_3it\n",
      "PSSM for accession Q9LKW9 was found in tmp folder ../data/intermediate/blast/pssm_uniref90_3it\n",
      "PSSM for accession A0A1P8B8U1 was found in tmp folder ../data/intermediate/blast/pssm_uniref90_3it\n",
      "PSSM for accession Q84TI7 was found in tmp folder ../data/intermediate/blast/pssm_uniref90_3it\n",
      "PSSM for accession Q68KI4 was found in tmp folder ../data/intermediate/blast/pssm_uniref90_3it\n",
      "PSSM for accession A0A1P8B0E9 was found in tmp folder ../data/intermediate/blast/pssm_uniref90_3it\n",
      "PSSM for accession Q39016 was found in tmp folder ../data/intermediate/blast/pssm_uniref90_3it\n",
      "PSSM for accession A0A1P8B951 was found in tmp folder ../data/intermediate/blast/pssm_uniref90_3it\n",
      "PSSM for accession O22920 was found in tmp folder ../data/intermediate/blast/pssm_uniref90_3it\n",
      "PSSM for accession A0A1I9LLU0 was found in tmp folder ../data/intermediate/blast/pssm_uniref90_3it\n",
      "PSSM for accession Q2UVJ5 was found in tmp folder ../data/intermediate/blast/pssm_uniref90_3it\n",
      "PSSM for accession F4JQC2 was found in tmp folder ../data/intermediate/blast/pssm_uniref90_3it\n",
      "PSSM for accession A0A178UK01 was not found in tmp folder ../data/intermediate/blast/pssm_uniref90_3it, calling psiblast\n"
     ]
    },
    {
     "name": "stderr",
     "output_type": "stream",
     "text": [
      "Warning: [psiblast] Number of threads was reduced to 80 to match the number of available CPUs\n"
     ]
    },
    {
     "name": "stdout",
     "output_type": "stream",
     "text": [
      "PSSM for accession A0A178UK01 was generated\n",
      "PSSM for accession O23087 was found in tmp folder ../data/intermediate/blast/pssm_uniref90_3it\n",
      "PSSM for accession Q9SX28 was found in tmp folder ../data/intermediate/blast/pssm_uniref90_3it\n",
      "PSSM for accession Q9M2L4 was found in tmp folder ../data/intermediate/blast/pssm_uniref90_3it\n",
      "PSSM for accession F4IGU5 was found in tmp folder ../data/intermediate/blast/pssm_uniref90_3it\n",
      "PSSM for accession Q37145 was found in tmp folder ../data/intermediate/blast/pssm_uniref90_3it\n",
      "PSSM for accession Q94AX5 was found in tmp folder ../data/intermediate/blast/pssm_uniref90_3it\n",
      "PSSM for accession Q9SZR1 was found in tmp folder ../data/intermediate/blast/pssm_uniref90_3it\n",
      "PSSM for accession Q39254 was found in tmp folder ../data/intermediate/blast/pssm_uniref90_3it\n",
      "PSSM for accession Q93Z81 was found in tmp folder ../data/intermediate/blast/pssm_uniref90_3it\n",
      "PSSM for accession Q9LHL8 was not found in tmp folder ../data/intermediate/blast/pssm_uniref90_3it, calling psiblast\n"
     ]
    },
    {
     "name": "stderr",
     "output_type": "stream",
     "text": [
      "Warning: [psiblast] Number of threads was reduced to 80 to match the number of available CPUs\n"
     ]
    },
    {
     "name": "stdout",
     "output_type": "stream",
     "text": [
      "PSSM for accession Q9LHL8 was generated\n",
      "PSSM for accession Q9LEQ3 was found in tmp folder ../data/intermediate/blast/pssm_uniref90_3it\n",
      "PSSM for accession Q9T0H9 was found in tmp folder ../data/intermediate/blast/pssm_uniref90_3it\n",
      "PSSM for accession Q93YT1 was found in tmp folder ../data/intermediate/blast/pssm_uniref90_3it\n",
      "PSSM for accession A0A1I9LPN7 was not found in tmp folder ../data/intermediate/blast/pssm_uniref90_3it, calling psiblast\n"
     ]
    },
    {
     "name": "stderr",
     "output_type": "stream",
     "text": [
      "Warning: [psiblast] Number of threads was reduced to 80 to match the number of available CPUs\n"
     ]
    },
    {
     "name": "stdout",
     "output_type": "stream",
     "text": [
      "PSSM for accession A0A1I9LPN7 was generated\n",
      "PSSM for accession A0A1I9LSS9 was not found in tmp folder ../data/intermediate/blast/pssm_uniref90_3it, calling psiblast\n"
     ]
    },
    {
     "name": "stderr",
     "output_type": "stream",
     "text": [
      "Warning: [psiblast] Number of threads was reduced to 80 to match the number of available CPUs\n"
     ]
    },
    {
     "name": "stdout",
     "output_type": "stream",
     "text": [
      "PSSM for accession A0A1I9LSS9 was generated\n",
      "PSSM for accession Q8GXJ4 was found in tmp folder ../data/intermediate/blast/pssm_uniref90_3it\n",
      "PSSM for accession O81108 was found in tmp folder ../data/intermediate/blast/pssm_uniref90_3it\n",
      "PSSM for accession F4HUS8 was not found in tmp folder ../data/intermediate/blast/pssm_uniref90_3it, calling psiblast\n"
     ]
    },
    {
     "name": "stderr",
     "output_type": "stream",
     "text": [
      "Warning: [psiblast] Number of threads was reduced to 80 to match the number of available CPUs\n"
     ]
    },
    {
     "name": "stdout",
     "output_type": "stream",
     "text": [
      "PSSM for accession F4HUS8 was generated\n",
      "PSSM for accession O65718 was found in tmp folder ../data/intermediate/blast/pssm_uniref90_3it\n",
      "PSSM for accession Q8GYU6 was not found in tmp folder ../data/intermediate/blast/pssm_uniref90_3it, calling psiblast\n"
     ]
    },
    {
     "name": "stderr",
     "output_type": "stream",
     "text": [
      "Warning: [psiblast] Number of threads was reduced to 80 to match the number of available CPUs\n"
     ]
    },
    {
     "name": "stdout",
     "output_type": "stream",
     "text": [
      "PSSM for accession Q8GYU6 was generated\n",
      "PSSM for accession A0A1P8AR51 was not found in tmp folder ../data/intermediate/blast/pssm_uniref90_3it, calling psiblast\n"
     ]
    },
    {
     "name": "stderr",
     "output_type": "stream",
     "text": [
      "Warning: [psiblast] Number of threads was reduced to 80 to match the number of available CPUs\n"
     ]
    },
    {
     "name": "stdout",
     "output_type": "stream",
     "text": [
      "PSSM for accession A0A1P8AR51 was generated\n",
      "PSSM for accession A0A384L106 was not found in tmp folder ../data/intermediate/blast/pssm_uniref90_3it, calling psiblast\n"
     ]
    },
    {
     "name": "stderr",
     "output_type": "stream",
     "text": [
      "Warning: [psiblast] Number of threads was reduced to 80 to match the number of available CPUs\n"
     ]
    },
    {
     "name": "stdout",
     "output_type": "stream",
     "text": [
      "PSSM for accession A0A384L106 was generated\n",
      "PSSM for accession F4IS06 was not found in tmp folder ../data/intermediate/blast/pssm_uniref90_3it, calling psiblast\n"
     ]
    },
    {
     "name": "stderr",
     "output_type": "stream",
     "text": [
      "Warning: [psiblast] Number of threads was reduced to 80 to match the number of available CPUs\n"
     ]
    },
    {
     "name": "stdout",
     "output_type": "stream",
     "text": [
      "PSSM for accession F4IS06 was generated\n",
      "PSSM for accession F4HZU9 was not found in tmp folder ../data/intermediate/blast/pssm_uniref90_3it, calling psiblast\n"
     ]
    },
    {
     "name": "stderr",
     "output_type": "stream",
     "text": [
      "Warning: [psiblast] Number of threads was reduced to 80 to match the number of available CPUs\n"
     ]
    },
    {
     "name": "stdout",
     "output_type": "stream",
     "text": [
      "PSSM for accession F4HZU9 was generated\n",
      "PSSM for accession Q9LY28 was found in tmp folder ../data/intermediate/blast/pssm_uniref90_3it\n",
      "PSSM for accession O82226 was found in tmp folder ../data/intermediate/blast/pssm_uniref90_3it\n",
      "PSSM for accession Q9FI43 was found in tmp folder ../data/intermediate/blast/pssm_uniref90_3it\n",
      "PSSM for accession Q9SY55 was found in tmp folder ../data/intermediate/blast/pssm_uniref90_3it\n",
      "PSSM for accession F4HZU8 was not found in tmp folder ../data/intermediate/blast/pssm_uniref90_3it, calling psiblast\n"
     ]
    },
    {
     "name": "stderr",
     "output_type": "stream",
     "text": [
      "Warning: [psiblast] Number of threads was reduced to 80 to match the number of available CPUs\n"
     ]
    },
    {
     "name": "stdout",
     "output_type": "stream",
     "text": [
      "PSSM for accession F4HZU8 was generated\n",
      "PSSM for accession Q9FG04 was not found in tmp folder ../data/intermediate/blast/pssm_uniref90_3it, calling psiblast\n"
     ]
    },
    {
     "name": "stderr",
     "output_type": "stream",
     "text": [
      "Warning: [psiblast] Number of threads was reduced to 80 to match the number of available CPUs\n"
     ]
    },
    {
     "name": "stdout",
     "output_type": "stream",
     "text": [
      "PSSM for accession Q9FG04 was generated\n",
      "PSSM for accession A0A1P8AP52 was not found in tmp folder ../data/intermediate/blast/pssm_uniref90_3it, calling psiblast\n"
     ]
    },
    {
     "name": "stderr",
     "output_type": "stream",
     "text": [
      "Warning: [psiblast] Number of threads was reduced to 80 to match the number of available CPUs\n"
     ]
    },
    {
     "name": "stdout",
     "output_type": "stream",
     "text": [
      "PSSM for accession A0A1P8AP52 was generated\n",
      "PSSM for accession Q945S5 was found in tmp folder ../data/intermediate/blast/pssm_uniref90_3it\n",
      "PSSM for accession Q9C8E7 was found in tmp folder ../data/intermediate/blast/pssm_uniref90_3it\n",
      "PSSM for accession O22218 was found in tmp folder ../data/intermediate/blast/pssm_uniref90_3it\n",
      "PSSM for accession A0A1P8AYB6 was not found in tmp folder ../data/intermediate/blast/pssm_uniref90_3it, calling psiblast\n"
     ]
    },
    {
     "name": "stderr",
     "output_type": "stream",
     "text": [
      "Warning: [psiblast] Number of threads was reduced to 80 to match the number of available CPUs\n"
     ]
    },
    {
     "name": "stdout",
     "output_type": "stream",
     "text": [
      "PSSM for accession A0A1P8AYB6 was generated\n",
      "PSSM for accession Q8L7E9 was found in tmp folder ../data/intermediate/blast/pssm_uniref90_3it\n",
      "PSSM for accession Q39253 was found in tmp folder ../data/intermediate/blast/pssm_uniref90_3it\n",
      "PSSM for accession A0A1P8AXT8 was not found in tmp folder ../data/intermediate/blast/pssm_uniref90_3it, calling psiblast\n"
     ]
    },
    {
     "name": "stderr",
     "output_type": "stream",
     "text": [
      "Warning: [psiblast] Number of threads was reduced to 80 to match the number of available CPUs\n"
     ]
    },
    {
     "name": "stdout",
     "output_type": "stream",
     "text": [
      "PSSM for accession A0A1P8AXT8 was generated\n",
      "PSSM for accession Q9FLS8 was found in tmp folder ../data/intermediate/blast/pssm_uniref90_3it\n",
      "PSSM for accession P92939 was found in tmp folder ../data/intermediate/blast/pssm_uniref90_3it\n",
      "PSSM for accession A8MR98 was not found in tmp folder ../data/intermediate/blast/pssm_uniref90_3it, calling psiblast\n"
     ]
    },
    {
     "name": "stderr",
     "output_type": "stream",
     "text": [
      "Warning: [psiblast] Number of threads was reduced to 80 to match the number of available CPUs\n"
     ]
    },
    {
     "name": "stdout",
     "output_type": "stream",
     "text": [
      "PSSM for accession A8MR98 was generated\n",
      "PSSM for accession Q9LF79 was found in tmp folder ../data/intermediate/blast/pssm_uniref90_3it\n",
      "PSSM for accession Q94KI8 was found in tmp folder ../data/intermediate/blast/pssm_uniref90_3it\n",
      "PSSM for accession Q8L7Z0 was found in tmp folder ../data/intermediate/blast/pssm_uniref90_3it\n",
      "PSSM for accession A0A1I9LLU1 was found in tmp folder ../data/intermediate/blast/pssm_uniref90_3it\n",
      "PSSM for accession Q38998 was found in tmp folder ../data/intermediate/blast/pssm_uniref90_3it\n",
      "PSSM for accession F4IIZ3 was found in tmp folder ../data/intermediate/blast/pssm_uniref90_3it\n",
      "PSSM for accession O22397 was found in tmp folder ../data/intermediate/blast/pssm_uniref90_3it\n",
      "PSSM for accession Q9M7K4 was found in tmp folder ../data/intermediate/blast/pssm_uniref90_3it\n",
      "PSSM for accession A0A1P8B652 was found in tmp folder ../data/intermediate/blast/pssm_uniref90_3it\n",
      "PSSM for accession Q38849 was found in tmp folder ../data/intermediate/blast/pssm_uniref90_3it\n",
      "PSSM for accession F4KDC7 was found in tmp folder ../data/intermediate/blast/pssm_uniref90_3it\n",
      "PSSM for accession A0A1P8BFX1 was found in tmp folder ../data/intermediate/blast/pssm_uniref90_3it\n",
      "PSSM for accession Q9LD18 was found in tmp folder ../data/intermediate/blast/pssm_uniref90_3it\n",
      "PSSM for accession Q9ZTZ7 was found in tmp folder ../data/intermediate/blast/pssm_uniref90_3it\n",
      "PSSM for accession O65272 was found in tmp folder ../data/intermediate/blast/pssm_uniref90_3it\n",
      "PSSM for accession A0A1P8B977 was found in tmp folder ../data/intermediate/blast/pssm_uniref90_3it\n",
      "PSSM for accession Q8LBL1 was found in tmp folder ../data/intermediate/blast/pssm_uniref90_3it\n",
      "PSSM for accession F4JU14 was found in tmp folder ../data/intermediate/blast/pssm_uniref90_3it\n",
      "PSSM for accession Q9XFR0 was found in tmp folder ../data/intermediate/blast/pssm_uniref90_3it\n",
      "PSSM for accession Q9FE38 was found in tmp folder ../data/intermediate/blast/pssm_uniref90_3it\n",
      "PSSM for accession A0A1P8AYI8 was found in tmp folder ../data/intermediate/blast/pssm_uniref90_3it\n",
      "PSSM for accession F4JHE9 was found in tmp folder ../data/intermediate/blast/pssm_uniref90_3it\n",
      "PSSM for accession O22881 was found in tmp folder ../data/intermediate/blast/pssm_uniref90_3it\n",
      "PSSM for accession A0A1P8B1L6 was found in tmp folder ../data/intermediate/blast/pssm_uniref90_3it\n",
      "PSSM for accession F4JV35 was found in tmp folder ../data/intermediate/blast/pssm_uniref90_3it\n",
      "PSSM for accession Q9FY75 was found in tmp folder ../data/intermediate/blast/pssm_uniref90_3it\n",
      "PSSM for accession Q38898 was found in tmp folder ../data/intermediate/blast/pssm_uniref90_3it\n",
      "PSSM for accession A0A1P8BG02 was found in tmp folder ../data/intermediate/blast/pssm_uniref90_3it\n",
      "PSSM for accession O65718 was found in tmp folder ../data/intermediate/blast/pssm_uniref90_3it\n",
      "PSSM for accession Q94A76 was found in tmp folder ../data/intermediate/blast/pssm_uniref90_3it\n",
      "PSSM for accession Q8GXE6 was found in tmp folder ../data/intermediate/blast/pssm_uniref90_3it\n",
      "PSSM for accession O80739 was found in tmp folder ../data/intermediate/blast/pssm_uniref90_3it\n",
      "PSSM for accession F4JV33 was found in tmp folder ../data/intermediate/blast/pssm_uniref90_3it\n",
      "PSSM for accession A0A1P8B960 was found in tmp folder ../data/intermediate/blast/pssm_uniref90_3it\n",
      "PSSM for accession Q9M8S6 was found in tmp folder ../data/intermediate/blast/pssm_uniref90_3it\n",
      "PSSM for accession O82226 was found in tmp folder ../data/intermediate/blast/pssm_uniref90_3it\n",
      "PSSM for accession Q8LPL8 was found in tmp folder ../data/intermediate/blast/pssm_uniref90_3it\n",
      "PSSM for accession Q9LQL2 was found in tmp folder ../data/intermediate/blast/pssm_uniref90_3it\n",
      "PSSM for accession Q8RWN2 was found in tmp folder ../data/intermediate/blast/pssm_uniref90_3it\n",
      "PSSM for accession A0A1P8AYY4 was found in tmp folder ../data/intermediate/blast/pssm_uniref90_3it\n",
      "PSSM for accession Q8RWU6 was found in tmp folder ../data/intermediate/blast/pssm_uniref90_3it\n",
      "PSSM for accession A0A1P8BFX8 was found in tmp folder ../data/intermediate/blast/pssm_uniref90_3it\n",
      "PSSM for accession Q9S6Z8 was found in tmp folder ../data/intermediate/blast/pssm_uniref90_3it\n",
      "PSSM for accession Q39128 was found in tmp folder ../data/intermediate/blast/pssm_uniref90_3it\n",
      "PSSM for accession Q93VD3 was found in tmp folder ../data/intermediate/blast/pssm_uniref90_3it\n",
      "PSSM for accession P92960 was found in tmp folder ../data/intermediate/blast/pssm_uniref90_3it\n",
      "PSSM for accession Q84WG1 was found in tmp folder ../data/intermediate/blast/pssm_uniref90_3it\n",
      "PSSM for accession Q9LKW9 was found in tmp folder ../data/intermediate/blast/pssm_uniref90_3it\n",
      "PSSM for accession A0A1P8B8U1 was found in tmp folder ../data/intermediate/blast/pssm_uniref90_3it\n",
      "PSSM for accession Q84TI7 was found in tmp folder ../data/intermediate/blast/pssm_uniref90_3it\n",
      "PSSM for accession Q68KI4 was found in tmp folder ../data/intermediate/blast/pssm_uniref90_3it\n",
      "PSSM for accession A0A1P8B0E9 was found in tmp folder ../data/intermediate/blast/pssm_uniref90_3it\n",
      "PSSM for accession Q39016 was found in tmp folder ../data/intermediate/blast/pssm_uniref90_3it\n",
      "PSSM for accession A0A1P8B951 was found in tmp folder ../data/intermediate/blast/pssm_uniref90_3it\n",
      "PSSM for accession O22920 was found in tmp folder ../data/intermediate/blast/pssm_uniref90_3it\n",
      "PSSM for accession A0A1I9LLU0 was found in tmp folder ../data/intermediate/blast/pssm_uniref90_3it\n",
      "PSSM for accession Q2UVJ5 was found in tmp folder ../data/intermediate/blast/pssm_uniref90_3it\n",
      "PSSM for accession F4JQC2 was found in tmp folder ../data/intermediate/blast/pssm_uniref90_3it\n",
      "PSSM for accession A0A178UK01 was found in tmp folder ../data/intermediate/blast/pssm_uniref90_3it\n",
      "PSSM for accession O23087 was found in tmp folder ../data/intermediate/blast/pssm_uniref90_3it\n",
      "PSSM for accession Q9SX28 was found in tmp folder ../data/intermediate/blast/pssm_uniref90_3it\n",
      "PSSM for accession Q9M2L4 was found in tmp folder ../data/intermediate/blast/pssm_uniref90_3it\n",
      "PSSM for accession F4IGU5 was found in tmp folder ../data/intermediate/blast/pssm_uniref90_3it\n",
      "PSSM for accession Q37145 was found in tmp folder ../data/intermediate/blast/pssm_uniref90_3it\n",
      "PSSM for accession Q94AX5 was found in tmp folder ../data/intermediate/blast/pssm_uniref90_3it\n",
      "PSSM for accession Q9SZR1 was found in tmp folder ../data/intermediate/blast/pssm_uniref90_3it\n",
      "PSSM for accession Q39254 was found in tmp folder ../data/intermediate/blast/pssm_uniref90_3it\n",
      "PSSM for accession Q93Z81 was found in tmp folder ../data/intermediate/blast/pssm_uniref90_3it\n",
      "PSSM for accession Q9LHL8 was found in tmp folder ../data/intermediate/blast/pssm_uniref90_3it\n",
      "PSSM for accession Q9LEQ3 was found in tmp folder ../data/intermediate/blast/pssm_uniref90_3it\n",
      "PSSM for accession Q9T0H9 was found in tmp folder ../data/intermediate/blast/pssm_uniref90_3it\n",
      "PSSM for accession Q93YT1 was found in tmp folder ../data/intermediate/blast/pssm_uniref90_3it\n",
      "PSSM for accession A0A1I9LPN7 was found in tmp folder ../data/intermediate/blast/pssm_uniref90_3it\n",
      "PSSM for accession A0A1I9LSS9 was found in tmp folder ../data/intermediate/blast/pssm_uniref90_3it\n",
      "PSSM for accession Q8GXJ4 was found in tmp folder ../data/intermediate/blast/pssm_uniref90_3it\n",
      "PSSM for accession O81108 was found in tmp folder ../data/intermediate/blast/pssm_uniref90_3it\n",
      "PSSM for accession F4HUS8 was found in tmp folder ../data/intermediate/blast/pssm_uniref90_3it\n",
      "PSSM for accession O65718 was found in tmp folder ../data/intermediate/blast/pssm_uniref90_3it\n",
      "PSSM for accession Q8GYU6 was found in tmp folder ../data/intermediate/blast/pssm_uniref90_3it\n",
      "PSSM for accession A0A1P8AR51 was found in tmp folder ../data/intermediate/blast/pssm_uniref90_3it\n",
      "PSSM for accession A0A384L106 was found in tmp folder ../data/intermediate/blast/pssm_uniref90_3it\n",
      "PSSM for accession F4IS06 was found in tmp folder ../data/intermediate/blast/pssm_uniref90_3it\n",
      "PSSM for accession F4HZU9 was found in tmp folder ../data/intermediate/blast/pssm_uniref90_3it\n",
      "PSSM for accession Q9LY28 was found in tmp folder ../data/intermediate/blast/pssm_uniref90_3it\n",
      "PSSM for accession O82226 was found in tmp folder ../data/intermediate/blast/pssm_uniref90_3it\n",
      "PSSM for accession Q9FI43 was found in tmp folder ../data/intermediate/blast/pssm_uniref90_3it\n",
      "PSSM for accession Q9SY55 was found in tmp folder ../data/intermediate/blast/pssm_uniref90_3it\n",
      "PSSM for accession F4HZU8 was found in tmp folder ../data/intermediate/blast/pssm_uniref90_3it\n",
      "PSSM for accession Q9FG04 was found in tmp folder ../data/intermediate/blast/pssm_uniref90_3it\n",
      "PSSM for accession A0A1P8AP52 was found in tmp folder ../data/intermediate/blast/pssm_uniref90_3it\n",
      "PSSM for accession Q945S5 was found in tmp folder ../data/intermediate/blast/pssm_uniref90_3it\n",
      "PSSM for accession Q9C8E7 was found in tmp folder ../data/intermediate/blast/pssm_uniref90_3it\n",
      "PSSM for accession O22218 was found in tmp folder ../data/intermediate/blast/pssm_uniref90_3it\n",
      "PSSM for accession A0A1P8AYB6 was found in tmp folder ../data/intermediate/blast/pssm_uniref90_3it\n",
      "PSSM for accession Q8L7E9 was found in tmp folder ../data/intermediate/blast/pssm_uniref90_3it\n",
      "PSSM for accession Q39253 was found in tmp folder ../data/intermediate/blast/pssm_uniref90_3it\n",
      "PSSM for accession A0A1P8AXT8 was found in tmp folder ../data/intermediate/blast/pssm_uniref90_3it\n",
      "PSSM for accession Q9FLS8 was found in tmp folder ../data/intermediate/blast/pssm_uniref90_3it\n",
      "PSSM for accession P92939 was found in tmp folder ../data/intermediate/blast/pssm_uniref90_3it\n",
      "PSSM for accession A8MR98 was found in tmp folder ../data/intermediate/blast/pssm_uniref90_3it\n",
      "PSSM for accession Q9LF79 was found in tmp folder ../data/intermediate/blast/pssm_uniref90_3it\n",
      "PSSM for accession Q94KI8 was found in tmp folder ../data/intermediate/blast/pssm_uniref90_3it\n"
     ]
    }
   ],
   "source": [
    "# TODO cpu count too high?\n",
    "df_pssm_50_1 = calculate_pssm_feature(\n",
    "    df_sequences,\n",
    "    tmp_folder=\"../data/intermediate/blast/pssm_uniref50_1it\",\n",
    "    blast_db=\"../data/raw/uniref/uniref50/uniref50.fasta\",\n",
    "    iterations=1,\n",
    "    psiblast_threads=-1,\n",
    "    verbose=True\n",
    ")\n",
    "df_pssm_50_3 = calculate_pssm_feature(\n",
    "    df_sequences,\n",
    "    tmp_folder=\"../data/intermediate/blast/pssm_uniref50_3it\",\n",
    "    blast_db=\"../data/raw/uniref/uniref50/uniref50.fasta\",\n",
    "    iterations=3,\n",
    "    psiblast_threads=-1,\n",
    "    verbose=True\n",
    ")\n",
    "df_pssm_90_1 = calculate_pssm_feature(\n",
    "    df_sequences,\n",
    "    tmp_folder=\"../data/intermediate/blast/pssm_uniref90_3it\",\n",
    "    blast_db=\"../data/raw/uniref/uniref90/uniref90.fasta\",\n",
    "    iterations=1,\n",
    "    psiblast_threads=-1,\n",
    "    verbose=True\n",
    ")\n",
    "df_pssm_90_3 = calculate_pssm_feature(\n",
    "    df_sequences,\n",
    "    tmp_folder=\"../data/intermediate/blast/pssm_uniref90_3it\",\n",
    "    blast_db=\"../data/raw/uniref/uniref90/uniref90.fasta\",\n",
    "    iterations=3,\n",
    "    psiblast_threads=-1,\n",
    "    verbose=True\n",
    ")"
   ]
  },
  {
   "cell_type": "code",
   "execution_count": 10,
   "metadata": {},
   "outputs": [],
   "source": [
    "# TODO combine features, separated by <type>__<feature> to use with custom transformer\n",
    "# TODO test custom transformer method\n",
    "\n",
    "from subpred.custom_transformers import FeatureCombinator"
   ]
  },
  {
   "cell_type": "markdown",
   "metadata": {},
   "source": [
    "## ML pipeline"
   ]
  },
  {
   "cell_type": "code",
   "execution_count": 11,
   "metadata": {},
   "outputs": [
    {
     "ename": "InvalidParameterError",
     "evalue": "The 'stratify' parameter of train_test_split must be an array-like or None. Got True instead.",
     "output_type": "error",
     "traceback": [
      "\u001b[0;31m---------------------------------------------------------------------------\u001b[0m",
      "\u001b[0;31mInvalidParameterError\u001b[0m                     Traceback (most recent call last)",
      "Cell \u001b[0;32mIn[11], line 13\u001b[0m\n\u001b[1;32m     11\u001b[0m y \u001b[39m=\u001b[39m \u001b[39mNone\u001b[39;00m\n\u001b[1;32m     12\u001b[0m \u001b[39m# train test eval split\u001b[39;00m\n\u001b[0;32m---> 13\u001b[0m X_train, X_eval, y_train, y_eval \u001b[39m=\u001b[39m train_test_split(X, y, test_size\u001b[39m=\u001b[39;49m\u001b[39m0.2\u001b[39;49m, random_state\u001b[39m=\u001b[39;49m\u001b[39m1\u001b[39;49m, stratify\u001b[39m=\u001b[39;49m\u001b[39mTrue\u001b[39;49;00m)\n\u001b[1;32m     15\u001b[0m \u001b[39m# model\u001b[39;00m\n\u001b[1;32m     16\u001b[0m model \u001b[39m=\u001b[39m make_pipeline(StandardScaler(), SVC(random_state\u001b[39m=\u001b[39m\u001b[39m1\u001b[39m))\n",
      "File \u001b[0;32m~/mambaforge/envs/subpred4/lib/python3.10/site-packages/sklearn/utils/_param_validation.py:201\u001b[0m, in \u001b[0;36mvalidate_params.<locals>.decorator.<locals>.wrapper\u001b[0;34m(*args, **kwargs)\u001b[0m\n\u001b[1;32m    198\u001b[0m to_ignore \u001b[39m+\u001b[39m\u001b[39m=\u001b[39m [\u001b[39m\"\u001b[39m\u001b[39mself\u001b[39m\u001b[39m\"\u001b[39m, \u001b[39m\"\u001b[39m\u001b[39mcls\u001b[39m\u001b[39m\"\u001b[39m]\n\u001b[1;32m    199\u001b[0m params \u001b[39m=\u001b[39m {k: v \u001b[39mfor\u001b[39;00m k, v \u001b[39min\u001b[39;00m params\u001b[39m.\u001b[39marguments\u001b[39m.\u001b[39mitems() \u001b[39mif\u001b[39;00m k \u001b[39mnot\u001b[39;00m \u001b[39min\u001b[39;00m to_ignore}\n\u001b[0;32m--> 201\u001b[0m validate_parameter_constraints(\n\u001b[1;32m    202\u001b[0m     parameter_constraints, params, caller_name\u001b[39m=\u001b[39;49mfunc\u001b[39m.\u001b[39;49m\u001b[39m__qualname__\u001b[39;49m\n\u001b[1;32m    203\u001b[0m )\n\u001b[1;32m    205\u001b[0m \u001b[39mtry\u001b[39;00m:\n\u001b[1;32m    206\u001b[0m     \u001b[39mwith\u001b[39;00m config_context(\n\u001b[1;32m    207\u001b[0m         skip_parameter_validation\u001b[39m=\u001b[39m(\n\u001b[1;32m    208\u001b[0m             prefer_skip_nested_validation \u001b[39mor\u001b[39;00m global_skip_validation\n\u001b[1;32m    209\u001b[0m         )\n\u001b[1;32m    210\u001b[0m     ):\n",
      "File \u001b[0;32m~/mambaforge/envs/subpred4/lib/python3.10/site-packages/sklearn/utils/_param_validation.py:95\u001b[0m, in \u001b[0;36mvalidate_parameter_constraints\u001b[0;34m(parameter_constraints, params, caller_name)\u001b[0m\n\u001b[1;32m     89\u001b[0m \u001b[39melse\u001b[39;00m:\n\u001b[1;32m     90\u001b[0m     constraints_str \u001b[39m=\u001b[39m (\n\u001b[1;32m     91\u001b[0m         \u001b[39mf\u001b[39m\u001b[39m\"\u001b[39m\u001b[39m{\u001b[39;00m\u001b[39m'\u001b[39m\u001b[39m, \u001b[39m\u001b[39m'\u001b[39m\u001b[39m.\u001b[39mjoin([\u001b[39mstr\u001b[39m(c)\u001b[39m \u001b[39m\u001b[39mfor\u001b[39;00m\u001b[39m \u001b[39mc\u001b[39m \u001b[39m\u001b[39min\u001b[39;00m\u001b[39m \u001b[39mconstraints[:\u001b[39m-\u001b[39m\u001b[39m1\u001b[39m]])\u001b[39m}\u001b[39;00m\u001b[39m or\u001b[39m\u001b[39m\"\u001b[39m\n\u001b[1;32m     92\u001b[0m         \u001b[39mf\u001b[39m\u001b[39m\"\u001b[39m\u001b[39m \u001b[39m\u001b[39m{\u001b[39;00mconstraints[\u001b[39m-\u001b[39m\u001b[39m1\u001b[39m]\u001b[39m}\u001b[39;00m\u001b[39m\"\u001b[39m\n\u001b[1;32m     93\u001b[0m     )\n\u001b[0;32m---> 95\u001b[0m \u001b[39mraise\u001b[39;00m InvalidParameterError(\n\u001b[1;32m     96\u001b[0m     \u001b[39mf\u001b[39m\u001b[39m\"\u001b[39m\u001b[39mThe \u001b[39m\u001b[39m{\u001b[39;00mparam_name\u001b[39m!r}\u001b[39;00m\u001b[39m parameter of \u001b[39m\u001b[39m{\u001b[39;00mcaller_name\u001b[39m}\u001b[39;00m\u001b[39m must be\u001b[39m\u001b[39m\"\u001b[39m\n\u001b[1;32m     97\u001b[0m     \u001b[39mf\u001b[39m\u001b[39m\"\u001b[39m\u001b[39m \u001b[39m\u001b[39m{\u001b[39;00mconstraints_str\u001b[39m}\u001b[39;00m\u001b[39m. Got \u001b[39m\u001b[39m{\u001b[39;00mparam_val\u001b[39m!r}\u001b[39;00m\u001b[39m instead.\u001b[39m\u001b[39m\"\u001b[39m\n\u001b[1;32m     98\u001b[0m )\n",
      "\u001b[0;31mInvalidParameterError\u001b[0m: The 'stratify' parameter of train_test_split must be an array-like or None. Got True instead."
     ]
    }
   ],
   "source": [
    "from sklearn.pipeline import make_pipeline\n",
    "from sklearn.svm import SVC\n",
    "from sklearn.preprocessing import StandardScaler\n",
    "from sklearn.feature_selection import SelectKBest\n",
    "from sklearn.model_selection import cross_validate, GridSearchCV, train_test_split\n",
    "from sklearn.metrics import f1_score, classification_report\n",
    "from subpred.custom_transformers import FeatureCombinator\n",
    "\n",
    "# splitting data\n",
    "X = None\n",
    "y = None\n",
    "# train test eval split\n",
    "X_train, X_eval, y_train, y_eval = train_test_split(X, y, test_size=0.2, random_state=1, stratify=y)\n",
    "\n",
    "# model\n",
    "model = make_pipeline(StandardScaler(), SVC(random_state=1))\n",
    "param_grid = {\n",
    "    \"svc__C\": [0.1, 1, 10],\n",
    "    \"svc__gamma\": [\"scale\", \"auto\"],\n",
    "    \"svc__class_weight\": [\"balanced\", None],\n",
    "}\n",
    "\n",
    "# hyperparam optim & crossval\n",
    "gridsearch = GridSearchCV(\n",
    "    estimator=model,\n",
    "    param_grid=param_grid,\n",
    "    scoring=\"f1\",\n",
    "    cv=5,\n",
    "    n_jobs=-1,\n",
    "    return_train_score=True,\n",
    ")\n",
    "gridsearch.fit(X_train, y_train)\n",
    "print(\"Best train score:\",gridsearch.best_score_)\n",
    "print(\"Best train params\",gridsearch.best_params_)\n",
    "model_optim = gridsearch.best_estimator_\n",
    "\n",
    "# eval\n",
    "y_pred = model_optim.predict(y_eval)\n",
    "classification_report(y_true=y_eval, y_pred=y_pred)"
   ]
  },
  {
   "cell_type": "markdown",
   "metadata": {},
   "source": [
    "## Comparisons\n",
    "\n",
    "Compare training results with: \n",
    "\n",
    "- Average sequence similarity\n",
    "- GO term similarity\n",
    "  - How many protein in common?\n",
    "  - Semantic similarity?\n"
   ]
  }
 ],
 "metadata": {
  "kernelspec": {
   "display_name": "subpred4",
   "language": "python",
   "name": "python3"
  },
  "language_info": {
   "codemirror_mode": {
    "name": "ipython",
    "version": 3
   },
   "file_extension": ".py",
   "mimetype": "text/x-python",
   "name": "python",
   "nbconvert_exporter": "python",
   "pygments_lexer": "ipython3",
   "version": "3.10.12"
  },
  "orig_nbformat": 4
 },
 "nbformat": 4,
 "nbformat_minor": 2
}
