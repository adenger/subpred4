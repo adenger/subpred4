{
 "cells": [
  {
   "cell_type": "markdown",
   "metadata": {},
   "source": [
    "# Training machine learning models on pairs of substrates in individual organisms\n",
    "\n",
    "After creating the set of primary ChEBI substrates from a set of transmembrane transport proteins, the next task is to create a pipeline for generating these datasets automatically. Next, the "
   ]
  },
  {
   "cell_type": "markdown",
   "metadata": {},
   "source": [
    "## Generalized dataset creation method\n",
    "\n",
    "- filter uniprot proteins generally\n",
    "- filter again for transmembrane transporter activity\n",
    "- get network of GO terms that are descendants of transmembrane transporter activity\n",
    "    - filter network for proteins with in dataset with term\n",
    "    - annotate with number of proteins\n",
    "    - annotate with ChEBI substrates\n",
    "- get chebi network\n",
    "    - filter for GO terms in filtered GO network\n",
    "- 70% sequence identity?\n",
    "- feature generation\n",
    "- svm pipeline\n",
    "\n",
    "End results: \n",
    "- Annotated GO network for protein dataset\n",
    "- Annotated chebi network for protein dataset\n",
    "- Dataframe with accession, organism id, sequence, transport go terms, and transported substrate chebi term"
   ]
  },
  {
   "cell_type": "code",
   "execution_count": 12,
   "metadata": {},
   "outputs": [],
   "source": [
    "from subpred.util import load_df\n",
    "from subpred.graph import preprocess_data"
   ]
  },
  {
   "cell_type": "code",
   "execution_count": 13,
   "metadata": {},
   "outputs": [
    {
     "data": {
      "text/plain": [
       "{'human': {9606},\n",
       " 'athaliana': {3702},\n",
       " 'ecoli': {83333},\n",
       " 'yeast': {559292},\n",
       " 'all': {3702, 9606, 83333, 559292}}"
      ]
     },
     "execution_count": 13,
     "metadata": {},
     "output_type": "execute_result"
    }
   ],
   "source": [
    "dataset_name_to_organism_ids = {\"human\": {9606}, \"athaliana\": {3702}, \"ecoli\": {83333}, \"yeast\": {559292}}\n",
    "dataset_name_to_organism_ids[\"all\"] = {list(s)[0] for s in dataset_name_to_organism_ids.values() if len(s) == 1}\n",
    "dataset_name_to_organism_ids"
   ]
  },
  {
   "cell_type": "code",
   "execution_count": 17,
   "metadata": {},
   "outputs": [
    {
     "name": "stdout",
     "output_type": "stream",
     "text": [
      "43248\n",
      "164519\n",
      "60547\n"
     ]
    }
   ],
   "source": [
    "organism_ids = dataset_name_to_organism_ids[\"athaliana\"]\n",
    "df_uniprot, df_uniprot_goa, graph_go_filtered, graph_chebi_filtered = preprocess_data(\n",
    "    organism_ids=organism_ids, datasets_folder_path=\"../data/datasets\"\n",
    ")\n"
   ]
  },
  {
   "cell_type": "markdown",
   "metadata": {},
   "source": [
    "Create sequence-based features"
   ]
  },
  {
   "cell_type": "code",
   "execution_count": 18,
   "metadata": {},
   "outputs": [
    {
     "data": {
      "text/plain": [
       "Uniprot\n",
       "A0A1P8AUY4    MAIDGSFNLKLALETFSVRCPKVAAFPCFTSILSKGGEVVDNEEVI...\n",
       "A0MES8        MDPLASQHQHNHLEDNNQTLTHNNPQSDSTTDSSTSSAQRKRKGKG...\n",
       "A1A6M1        MASSSLPLSLPFPLRSLTSTTRSLPFQCSPLFFSIPSSIVCFSTQN...\n",
       "A7XGN8        MAEGVVLFGVHKLWELLNRESARLNGIGEQVDGLKRQLGRLQSLLK...\n",
       "A8MQN2        MSDLYIHELGDYLSDEFHGNDDGIVPDSAYEDGGQFPILVSNRKKR...\n",
       "                                    ...                        \n",
       "P0C0B0        MTLKGALSVKFDVKCPADKFFSAFVEDTNRPFEKNGKTEIEAVDLV...\n",
       "Q8RXM6        MATDDFFSLQREYWRQVAESDGFDIESVQIPPSMYGRINGLIPHNC...\n",
       "Q9C7N3        MALSGGDDQVPPGGPMTVSTRLIDAGSTIMQRRLPVKQMNTHVSTF...\n",
       "Q9LX56        MEANKKAKPSYGDVISNLPNDLLCRILSYLSTKEAALTSILSKRWS...\n",
       "Q9SGS5        MDIKHHTSTSKPKNKNKLLKMLPKAMSFGHRVPPFSPGRDLHHNNH...\n",
       "Name: sequence, Length: 7583, dtype: string"
      ]
     },
     "execution_count": 18,
     "metadata": {},
     "output_type": "execute_result"
    }
   ],
   "source": [
    "df_uniprot.sequence"
   ]
  },
  {
   "cell_type": "code",
   "execution_count": 19,
   "metadata": {},
   "outputs": [],
   "source": [
    "from subpred.compositions import calculate_aac, calculate_paac\n",
    "\n",
    "df_aac = calculate_aac(df_uniprot.sequence)\n",
    "df_paac = calculate_paac(df_uniprot.sequence)"
   ]
  },
  {
   "cell_type": "code",
   "execution_count": 22,
   "metadata": {},
   "outputs": [
    {
     "name": "stdout",
     "output_type": "stream",
     "text": [
      "PSSM for accession A0A1P8AUY4 was not found in tmp folder ../data/intermediate/blast/pssm_uniref50_1it, calling psiblast\n"
     ]
    },
    {
     "ename": "KeyboardInterrupt",
     "evalue": "",
     "output_type": "error",
     "traceback": [
      "\u001b[0;31m---------------------------------------------------------------------------\u001b[0m",
      "\u001b[0;31mKeyboardInterrupt\u001b[0m                         Traceback (most recent call last)",
      "Cell \u001b[0;32mIn[22], line 3\u001b[0m\n\u001b[1;32m      1\u001b[0m \u001b[39mfrom\u001b[39;00m \u001b[39msubpred\u001b[39;00m\u001b[39m.\u001b[39;00m\u001b[39mpssm\u001b[39;00m \u001b[39mimport\u001b[39;00m calculate_pssm_feature\n\u001b[0;32m----> 3\u001b[0m df_pssm \u001b[39m=\u001b[39m calculate_pssm_feature(\n\u001b[1;32m      4\u001b[0m     df_uniprot\u001b[39m.\u001b[39;49msequence,\n\u001b[1;32m      5\u001b[0m     tmp_folder\u001b[39m=\u001b[39;49m\u001b[39m\"\u001b[39;49m\u001b[39m../data/intermediate/blast/pssm_uniref50_1it\u001b[39;49m\u001b[39m\"\u001b[39;49m,\n\u001b[1;32m      6\u001b[0m     blast_db\u001b[39m=\u001b[39;49m\u001b[39m\"\u001b[39;49m\u001b[39m../data/raw/uniref/uniref50/uniref50.fasta\u001b[39;49m\u001b[39m\"\u001b[39;49m,\n\u001b[1;32m      7\u001b[0m     iterations\u001b[39m=\u001b[39;49m\u001b[39m1\u001b[39;49m,\n\u001b[1;32m      8\u001b[0m     verbose\u001b[39m=\u001b[39;49m\u001b[39mTrue\u001b[39;49;00m\n\u001b[1;32m      9\u001b[0m )\n",
      "File \u001b[0;32m~/subpred4/subpred/pssm.py:172\u001b[0m, in \u001b[0;36mcalculate_pssm_feature\u001b[0;34m(sequences, tmp_folder, blast_db, iterations, psiblast_executable, psiblast_threads, verbose)\u001b[0m\n\u001b[1;32m    170\u001b[0m \u001b[39mfor\u001b[39;00m i \u001b[39min\u001b[39;00m \u001b[39mrange\u001b[39m(\u001b[39mlen\u001b[39m(sequences)):\n\u001b[1;32m    171\u001b[0m     \u001b[39mtry\u001b[39;00m:\n\u001b[0;32m--> 172\u001b[0m         pssm \u001b[39m=\u001b[39m __get_pssm_feature(\n\u001b[1;32m    173\u001b[0m             accession\u001b[39m=\u001b[39;49msequences\u001b[39m.\u001b[39;49mindex[i],\n\u001b[1;32m    174\u001b[0m             sequence\u001b[39m=\u001b[39;49msequences\u001b[39m.\u001b[39;49mvalues[i],\n\u001b[1;32m    175\u001b[0m             blastdb_fasta_file\u001b[39m=\u001b[39;49mblast_db,\n\u001b[1;32m    176\u001b[0m             pssm_folder_path\u001b[39m=\u001b[39;49mtmp_folder,\n\u001b[1;32m    177\u001b[0m             iterations\u001b[39m=\u001b[39;49miterations,\n\u001b[1;32m    178\u001b[0m             psiblast_location\u001b[39m=\u001b[39;49mpsiblast_executable,\n\u001b[1;32m    179\u001b[0m             threads\u001b[39m=\u001b[39;49mpsiblast_threads,\n\u001b[1;32m    180\u001b[0m             verbose\u001b[39m=\u001b[39;49mverbose,\n\u001b[1;32m    181\u001b[0m         )\n\u001b[1;32m    182\u001b[0m         accessions\u001b[39m.\u001b[39mappend(sequences\u001b[39m.\u001b[39mindex[i])\n\u001b[1;32m    183\u001b[0m         features\u001b[39m.\u001b[39mappend(pssm)\n",
      "File \u001b[0;32m~/subpred4/subpred/pssm.py:141\u001b[0m, in \u001b[0;36m__get_pssm_feature\u001b[0;34m(accession, sequence, blastdb_fasta_file, pssm_folder_path, psiblast_location, iterations, evalue, threads, verbose)\u001b[0m\n\u001b[1;32m    135\u001b[0m     \u001b[39mprint\u001b[39m(\n\u001b[1;32m    136\u001b[0m         \u001b[39mf\u001b[39m\u001b[39m\"\u001b[39m\u001b[39mPSSM for accession \u001b[39m\u001b[39m{\u001b[39;00maccession\u001b[39m}\u001b[39;00m\u001b[39m was not found in tmp folder \u001b[39m\u001b[39m{\u001b[39;00mpssm_folder_path\u001b[39m}\u001b[39;00m\u001b[39m, calling psiblast\u001b[39m\u001b[39m\"\u001b[39m\n\u001b[1;32m    137\u001b[0m     )\n\u001b[1;32m    138\u001b[0m write_fasta(\n\u001b[1;32m    139\u001b[0m     fasta_file_name\u001b[39m=\u001b[39mfasta_file_name, fasta_data\u001b[39m=\u001b[39m[(\u001b[39m\"\u001b[39m\u001b[39m>\u001b[39m\u001b[39m\"\u001b[39m \u001b[39m+\u001b[39m accession, sequence)]\n\u001b[1;32m    140\u001b[0m )\n\u001b[0;32m--> 141\u001b[0m __create_pssm_file(\n\u001b[1;32m    142\u001b[0m     psiblast_location\u001b[39m=\u001b[39;49mpsiblast_location,\n\u001b[1;32m    143\u001b[0m     fasta_file_name\u001b[39m=\u001b[39;49mfasta_file_name,\n\u001b[1;32m    144\u001b[0m     pssm_file_name\u001b[39m=\u001b[39;49mpssm_file_name,\n\u001b[1;32m    145\u001b[0m     blastdb_location\u001b[39m=\u001b[39;49mblastdb_fasta_file,\n\u001b[1;32m    146\u001b[0m     iterations\u001b[39m=\u001b[39;49miterations,\n\u001b[1;32m    147\u001b[0m     evalue\u001b[39m=\u001b[39;49mevalue,\n\u001b[1;32m    148\u001b[0m     threads\u001b[39m=\u001b[39;49mthreads,\n\u001b[1;32m    149\u001b[0m )\n\u001b[1;32m    150\u001b[0m pssm \u001b[39m=\u001b[39m __process_pssm_file(pssm_file_name, sequence)\n\u001b[1;32m    151\u001b[0m \u001b[39mif\u001b[39;00m verbose:\n",
      "File \u001b[0;32m~/subpred4/subpred/pssm.py:86\u001b[0m, in \u001b[0;36m__create_pssm_file\u001b[0;34m(psiblast_location, fasta_file_name, pssm_file_name, blastdb_location, iterations, evalue, threads)\u001b[0m\n\u001b[1;32m     74\u001b[0m \u001b[39mdef\u001b[39;00m \u001b[39m__create_pssm_file\u001b[39m(\n\u001b[1;32m     75\u001b[0m     psiblast_location: \u001b[39mstr\u001b[39m,\n\u001b[1;32m     76\u001b[0m     fasta_file_name: \u001b[39mstr\u001b[39m,\n\u001b[0;32m   (...)\u001b[0m\n\u001b[1;32m     83\u001b[0m \n\u001b[1;32m     84\u001b[0m     \u001b[39m# TODO create tmp files, then rename after program finished\u001b[39;00m\n\u001b[1;32m     85\u001b[0m     log_file_name \u001b[39m=\u001b[39m \u001b[39mf\u001b[39m\u001b[39m\"\u001b[39m\u001b[39m{\u001b[39;00mpssm_file_name\u001b[39m}\u001b[39;00m\u001b[39m.log\u001b[39m\u001b[39m\"\u001b[39m\n\u001b[0;32m---> 86\u001b[0m     subprocess\u001b[39m.\u001b[39;49mrun(\n\u001b[1;32m     87\u001b[0m         \u001b[39m\"\u001b[39;49m\u001b[39m{}\u001b[39;49;00m\u001b[39m -query \u001b[39;49m\u001b[39m{}\u001b[39;49;00m\u001b[39m -db \u001b[39;49m\u001b[39m{}\u001b[39;49;00m\u001b[39m -num_iterations \u001b[39;49m\u001b[39m{}\u001b[39;49;00m\u001b[39m -inclusion_ethresh \u001b[39;49m\u001b[39m{}\u001b[39;49;00m\u001b[39m -num_threads \u001b[39;49m\u001b[39m{}\u001b[39;49;00m\u001b[39m -save_pssm_after_last_round\u001b[39;49m\u001b[39m\\\u001b[39;49;00m\n\u001b[1;32m     88\u001b[0m \u001b[39m             -out_ascii_pssm \u001b[39;49m\u001b[39m{}\u001b[39;49;00m\u001b[39m -out \u001b[39;49m\u001b[39m{}\u001b[39;49;00m\u001b[39m -comp_based_stats \u001b[39;49m\u001b[39m{}\u001b[39;49;00m\u001b[39m\"\u001b[39;49m\u001b[39m.\u001b[39;49mformat(\n\u001b[1;32m     89\u001b[0m             psiblast_location,\n\u001b[1;32m     90\u001b[0m             fasta_file_name,\n\u001b[1;32m     91\u001b[0m             blastdb_location,\n\u001b[1;32m     92\u001b[0m             iterations,\n\u001b[1;32m     93\u001b[0m             evalue,\n\u001b[1;32m     94\u001b[0m             threads,\n\u001b[1;32m     95\u001b[0m             pssm_file_name,\n\u001b[1;32m     96\u001b[0m             log_file_name,\n\u001b[1;32m     97\u001b[0m             \u001b[39m2\u001b[39;49m\n\u001b[1;32m     98\u001b[0m             \u001b[39mif\u001b[39;49;00m iterations \u001b[39m==\u001b[39;49m \u001b[39m1\u001b[39;49m\n\u001b[1;32m     99\u001b[0m             \u001b[39melse\u001b[39;49;00m \u001b[39m1\u001b[39;49m,  \u001b[39m# default is 2, but not supported when matrix is PSSM instead of BLOSUM\u001b[39;49;00m\n\u001b[1;32m    100\u001b[0m         ),\n\u001b[1;32m    101\u001b[0m         check\u001b[39m=\u001b[39;49m\u001b[39mTrue\u001b[39;49;00m,\n\u001b[1;32m    102\u001b[0m         shell\u001b[39m=\u001b[39;49m\u001b[39mFalse\u001b[39;49;00m \u001b[39mif\u001b[39;49;00m platform\u001b[39m.\u001b[39;49msystem() \u001b[39m==\u001b[39;49m \u001b[39m\"\u001b[39;49m\u001b[39mWindows\u001b[39;49m\u001b[39m\"\u001b[39;49m \u001b[39melse\u001b[39;49;00m \u001b[39mTrue\u001b[39;49;00m,\n\u001b[1;32m    103\u001b[0m         \u001b[39m# stdout=subprocess.DEVNULL,\u001b[39;49;00m\n\u001b[1;32m    104\u001b[0m         \u001b[39m# stderr=subprocess.DEVNULL,\u001b[39;49;00m\n\u001b[1;32m    105\u001b[0m     )\n",
      "File \u001b[0;32m~/mambaforge/envs/subpred4/lib/python3.10/subprocess.py:505\u001b[0m, in \u001b[0;36mrun\u001b[0;34m(input, capture_output, timeout, check, *popenargs, **kwargs)\u001b[0m\n\u001b[1;32m    503\u001b[0m \u001b[39mwith\u001b[39;00m Popen(\u001b[39m*\u001b[39mpopenargs, \u001b[39m*\u001b[39m\u001b[39m*\u001b[39mkwargs) \u001b[39mas\u001b[39;00m process:\n\u001b[1;32m    504\u001b[0m     \u001b[39mtry\u001b[39;00m:\n\u001b[0;32m--> 505\u001b[0m         stdout, stderr \u001b[39m=\u001b[39m process\u001b[39m.\u001b[39;49mcommunicate(\u001b[39minput\u001b[39;49m, timeout\u001b[39m=\u001b[39;49mtimeout)\n\u001b[1;32m    506\u001b[0m     \u001b[39mexcept\u001b[39;00m TimeoutExpired \u001b[39mas\u001b[39;00m exc:\n\u001b[1;32m    507\u001b[0m         process\u001b[39m.\u001b[39mkill()\n",
      "File \u001b[0;32m~/mambaforge/envs/subpred4/lib/python3.10/subprocess.py:1146\u001b[0m, in \u001b[0;36mPopen.communicate\u001b[0;34m(self, input, timeout)\u001b[0m\n\u001b[1;32m   1144\u001b[0m         stderr \u001b[39m=\u001b[39m \u001b[39mself\u001b[39m\u001b[39m.\u001b[39mstderr\u001b[39m.\u001b[39mread()\n\u001b[1;32m   1145\u001b[0m         \u001b[39mself\u001b[39m\u001b[39m.\u001b[39mstderr\u001b[39m.\u001b[39mclose()\n\u001b[0;32m-> 1146\u001b[0m     \u001b[39mself\u001b[39;49m\u001b[39m.\u001b[39;49mwait()\n\u001b[1;32m   1147\u001b[0m \u001b[39melse\u001b[39;00m:\n\u001b[1;32m   1148\u001b[0m     \u001b[39mif\u001b[39;00m timeout \u001b[39mis\u001b[39;00m \u001b[39mnot\u001b[39;00m \u001b[39mNone\u001b[39;00m:\n",
      "File \u001b[0;32m~/mambaforge/envs/subpred4/lib/python3.10/subprocess.py:1209\u001b[0m, in \u001b[0;36mPopen.wait\u001b[0;34m(self, timeout)\u001b[0m\n\u001b[1;32m   1207\u001b[0m     endtime \u001b[39m=\u001b[39m _time() \u001b[39m+\u001b[39m timeout\n\u001b[1;32m   1208\u001b[0m \u001b[39mtry\u001b[39;00m:\n\u001b[0;32m-> 1209\u001b[0m     \u001b[39mreturn\u001b[39;00m \u001b[39mself\u001b[39;49m\u001b[39m.\u001b[39;49m_wait(timeout\u001b[39m=\u001b[39;49mtimeout)\n\u001b[1;32m   1210\u001b[0m \u001b[39mexcept\u001b[39;00m \u001b[39mKeyboardInterrupt\u001b[39;00m:\n\u001b[1;32m   1211\u001b[0m     \u001b[39m# https://bugs.python.org/issue25942\u001b[39;00m\n\u001b[1;32m   1212\u001b[0m     \u001b[39m# The first keyboard interrupt waits briefly for the child to\u001b[39;00m\n\u001b[1;32m   1213\u001b[0m     \u001b[39m# exit under the common assumption that it also received the ^C\u001b[39;00m\n\u001b[1;32m   1214\u001b[0m     \u001b[39m# generated SIGINT and will exit rapidly.\u001b[39;00m\n\u001b[1;32m   1215\u001b[0m     \u001b[39mif\u001b[39;00m timeout \u001b[39mis\u001b[39;00m \u001b[39mnot\u001b[39;00m \u001b[39mNone\u001b[39;00m:\n",
      "File \u001b[0;32m~/mambaforge/envs/subpred4/lib/python3.10/subprocess.py:1959\u001b[0m, in \u001b[0;36mPopen._wait\u001b[0;34m(self, timeout)\u001b[0m\n\u001b[1;32m   1957\u001b[0m \u001b[39mif\u001b[39;00m \u001b[39mself\u001b[39m\u001b[39m.\u001b[39mreturncode \u001b[39mis\u001b[39;00m \u001b[39mnot\u001b[39;00m \u001b[39mNone\u001b[39;00m:\n\u001b[1;32m   1958\u001b[0m     \u001b[39mbreak\u001b[39;00m  \u001b[39m# Another thread waited.\u001b[39;00m\n\u001b[0;32m-> 1959\u001b[0m (pid, sts) \u001b[39m=\u001b[39m \u001b[39mself\u001b[39;49m\u001b[39m.\u001b[39;49m_try_wait(\u001b[39m0\u001b[39;49m)\n\u001b[1;32m   1960\u001b[0m \u001b[39m# Check the pid and loop as waitpid has been known to\u001b[39;00m\n\u001b[1;32m   1961\u001b[0m \u001b[39m# return 0 even without WNOHANG in odd situations.\u001b[39;00m\n\u001b[1;32m   1962\u001b[0m \u001b[39m# http://bugs.python.org/issue14396.\u001b[39;00m\n\u001b[1;32m   1963\u001b[0m \u001b[39mif\u001b[39;00m pid \u001b[39m==\u001b[39m \u001b[39mself\u001b[39m\u001b[39m.\u001b[39mpid:\n",
      "File \u001b[0;32m~/mambaforge/envs/subpred4/lib/python3.10/subprocess.py:1917\u001b[0m, in \u001b[0;36mPopen._try_wait\u001b[0;34m(self, wait_flags)\u001b[0m\n\u001b[1;32m   1915\u001b[0m \u001b[39m\u001b[39m\u001b[39m\"\"\"All callers to this function MUST hold self._waitpid_lock.\"\"\"\u001b[39;00m\n\u001b[1;32m   1916\u001b[0m \u001b[39mtry\u001b[39;00m:\n\u001b[0;32m-> 1917\u001b[0m     (pid, sts) \u001b[39m=\u001b[39m os\u001b[39m.\u001b[39;49mwaitpid(\u001b[39mself\u001b[39;49m\u001b[39m.\u001b[39;49mpid, wait_flags)\n\u001b[1;32m   1918\u001b[0m \u001b[39mexcept\u001b[39;00m \u001b[39mChildProcessError\u001b[39;00m:\n\u001b[1;32m   1919\u001b[0m     \u001b[39m# This happens if SIGCLD is set to be ignored or waiting\u001b[39;00m\n\u001b[1;32m   1920\u001b[0m     \u001b[39m# for child processes has otherwise been disabled for our\u001b[39;00m\n\u001b[1;32m   1921\u001b[0m     \u001b[39m# process.  This child is dead, we can't get the status.\u001b[39;00m\n\u001b[1;32m   1922\u001b[0m     pid \u001b[39m=\u001b[39m \u001b[39mself\u001b[39m\u001b[39m.\u001b[39mpid\n",
      "\u001b[0;31mKeyboardInterrupt\u001b[0m: "
     ]
    }
   ],
   "source": [
    "from subpred.pssm import calculate_pssm_feature\n",
    "\n",
    "df_pssm = calculate_pssm_feature(\n",
    "    df_uniprot.sequence,\n",
    "    tmp_folder=\"../data/intermediate/blast/pssm_uniref50_1it\",\n",
    "    blast_db=\"../data/raw/uniref/uniref50/uniref50.fasta\",\n",
    "    iterations=1,\n",
    "    psiblast_threads=16,\n",
    "    verbose=True\n",
    ")"
   ]
  },
  {
   "cell_type": "code",
   "execution_count": 15,
   "metadata": {},
   "outputs": [
    {
     "data": {
      "text/plain": [
       "NodeView(('GO:0022836', 'GO:0008381', 'GO:0015086', 'GO:0015106', 'GO:0008520', 'GO:0015180', 'GO:0042910', 'GO:0005283', 'GO:0061459', 'GO:0015450', 'GO:0044736', 'GO:0005351', 'GO:0015349', 'GO:0008513', 'GO:0015374', 'GO:0022841', 'GO:1905030', 'GO:0005297', 'GO:0080122', 'GO:0015651', 'GO:1901702', 'GO:0015233', 'GO:0015390', 'GO:0033285', 'GO:0005228', 'GO:0015098', 'GO:0042887', 'GO:0015218', 'GO:0015655', 'GO:0061768', 'GO:0005260', 'GO:0015228', 'GO:0044769', 'GO:0015095', 'GO:0015112', 'GO:0000064', 'GO:0022803', 'GO:0086057', 'GO:0008521', 'GO:0140831', 'GO:0015208', 'GO:1901682', 'GO:0099142', 'GO:0005343', 'GO:1901680', 'GO:0015552', 'GO:0022857', 'GO:0015271', 'GO:0015187', 'GO:0005452', 'GO:0000514', 'GO:0005427', 'GO:0008320', 'GO:0033283', 'GO:0005277', 'GO:0015234', 'GO:0015526', 'GO:0015279', 'GO:0046715', 'GO:0005221', 'GO:0043250', 'GO:0005223', 'GO:0015203', 'GO:0005326', 'GO:0015272', 'GO:0015665', 'GO:0015278', 'GO:0015139', 'GO:0005375', 'GO:0140930', 'GO:0015195', 'GO:0086076', 'GO:0015188', 'GO:0015179', 'GO:0001409', 'GO:0015440', 'GO:0015267', 'GO:0051978', 'GO:0086059', 'GO:0015194', 'GO:0005234', 'GO:1903763', 'GO:0015146', 'GO:0005292', 'GO:0015367', 'GO:0015099', 'GO:0060072', 'GO:0005457', 'GO:0015149', 'GO:0005242', 'GO:0097603', 'GO:0046873', 'GO:0022884', 'GO:0005384', 'GO:0015190', 'GO:0022850', 'GO:0015333', 'GO:0015103', 'GO:0099507', 'GO:0046933', 'GO:0015373', 'GO:0005464', 'GO:0015220', 'GO:0046915', 'GO:0140410', 'GO:0022832', 'GO:0005368', 'GO:0042943', 'GO:0015371', 'GO:0005216', 'GO:0015129', 'GO:0043225', 'GO:0044610', 'GO:0008509', 'GO:0015081', 'GO:0140968', 'GO:0000095', 'GO:0015191', 'GO:0015175', 'GO:0098782', 'GO:0015230', 'GO:0015453', 'GO:0005372', 'GO:0008518', 'GO:0051032', 'GO:0097604', 'GO:0015606', 'GO:0015318', 'GO:0015288', 'GO:0005345', 'GO:0015142', 'GO:0005365', 'GO:0010348', 'GO:0005471', 'GO:0086039', 'GO:0005298', 'GO:0030504', 'GO:0005267', 'GO:0015932', 'GO:0015382', 'GO:0015079', 'GO:0022858', 'GO:0030233', 'GO:0015636', 'GO:0106439', 'GO:0015214', 'GO:0015173', 'GO:0033300', 'GO:0015538', 'GO:0015150', 'GO:0015101', 'GO:0015168', 'GO:0071916', 'GO:0015075', 'GO:0005332', 'GO:0033284', 'GO:0015138', 'GO:0015264', 'GO:0086078', 'GO:0086006', 'GO:0015151', 'GO:0140613', 'GO:0005416', 'GO:0015385', 'GO:0099094', 'GO:0015152', 'GO:0015217', 'GO:0005334', 'GO:0140232', 'GO:0008324', 'GO:0015145', 'GO:0086079', 'GO:0003957', 'GO:0005294', 'GO:0015154', 'GO:0042959', 'GO:0015291', 'GO:0022848', 'GO:0086089', 'GO:0099580', 'GO:0015126', 'GO:0005381', 'GO:0009674', 'GO:0005220', 'GO:0022835', 'GO:0015439', 'GO:0015131', 'GO:0004971', 'GO:0071077', 'GO:0015328', 'GO:0061513', 'GO:0015125', 'GO:0061797', 'GO:0005330', 'GO:0042947', 'GO:0015172', 'GO:0022839', 'GO:0009679', 'GO:0090422', 'GO:0140571', 'GO:0086041', 'GO:0032217', 'GO:0015391', 'GO:0008517', 'GO:0005460', 'GO:0008028', 'GO:0015378', 'GO:0005463', 'GO:0015135', 'GO:0000099', 'GO:0015594', 'GO:0042937', 'GO:0015182', 'GO:0015657', 'GO:0008900', 'GO:0015212', 'GO:0015229', 'GO:0043682', 'GO:0015105', 'GO:0005477', 'GO:0140010', 'GO:0015085', 'GO:0022843', 'GO:0005245', 'GO:0008273', 'GO:0046583', 'GO:0005350', 'GO:0015136', 'GO:0015662', 'GO:0015292', 'GO:0005231', 'GO:0005385', 'GO:0008137', 'GO:0005432', 'GO:0022829', 'GO:0015094', 'GO:0140901', 'GO:0072320', 'GO:0005278', 'GO:0015117', 'GO:0022851', 'GO:0015127', 'GO:0022849', 'GO:0140161', 'GO:0046964', 'GO:0015140', 'GO:0015375', 'GO:0072345', 'GO:0005456', 'GO:0015467', 'GO:0004129', 'GO:0071913', 'GO:0015119', 'GO:0015111', 'GO:0099604', 'GO:0015137', 'GO:0005355', 'GO:0005459', 'GO:0140926', 'GO:0086077', 'GO:0005338', 'GO:0015093', 'GO:0015280', 'GO:0005313', 'GO:0015377', 'GO:0017153', 'GO:0140826', 'GO:0005342', 'GO:0140359', 'GO:0015361', 'GO:0042931', 'GO:0015432', 'GO:0140830', 'GO:0005366', 'GO:0005287', 'GO:0034041', 'GO:1901235', 'GO:0062156', 'GO:0015215', 'GO:0005369', 'GO:0019829', 'GO:0015277', 'GO:0005249', 'GO:0005250', 'GO:0022804', 'GO:0036080', 'GO:0015114', 'GO:0015410', 'GO:0008508', 'GO:1905056', 'GO:0048763', 'GO:0008308', 'GO:0022852', 'GO:0015647', 'GO:0086040', 'GO:0015607', 'GO:0015184', 'GO:0015245', 'GO:0030171', 'GO:0015420', 'GO:0005252', 'GO:0005222', 'GO:0042880', 'GO:1905060', 'GO:0005272', 'GO:0005328', 'GO:0097682', 'GO:0140360', 'GO:0030184', 'GO:0005304', 'GO:0140832', 'GO:0015130', 'GO:0015252', 'GO:0008332', 'GO:0015132', 'GO:0015171', 'GO:0005261', 'GO:0015250', 'GO:0015658', 'GO:0004970', 'GO:0090416', 'GO:0070835', 'GO:0015116', 'GO:0005314', 'GO:0005254', 'GO:0015193', 'GO:0034632', 'GO:0098695', 'GO:0015327', 'GO:0008121', 'GO:0008271', 'GO:0099508', 'GO:0043865', 'GO:0015087', 'GO:0005436', 'GO:0035381', 'GO:0015265', 'GO:0005462', 'GO:0015164', 'GO:0140848', 'GO:0015254', 'GO:0005356', 'GO:0086056', 'GO:0015141', 'GO:1904680', 'GO:0015100', 'GO:0015370', 'GO:1901480', 'GO:0008514', 'GO:0140929', 'GO:0015322', 'GO:0015196', 'GO:0099511', 'GO:0005217', 'GO:0008554', 'GO:0005415', 'GO:0022853', 'GO:0086087', 'GO:1902282', 'GO:0005230', 'GO:0015389', 'GO:0034040', 'GO:0015433', 'GO:1901505', 'GO:0140481', 'GO:0001761', 'GO:0071714', 'GO:0005388', 'GO:0015317', 'GO:0015269', 'GO:0022834', 'GO:0140902', 'GO:0140211', 'GO:0005346', 'GO:0015225', 'GO:0015227', 'GO:0019534', 'GO:0015311', 'GO:0005229', 'GO:0008504', 'GO:0008559', 'GO:0086038', 'GO:0015296', 'GO:0035379', 'GO:0015186', 'GO:0015192', 'GO:0140893', 'GO:1901474', 'GO:0140358', 'GO:1990760', 'GO:0086062', 'GO:0061778', 'GO:0005307', 'GO:0017077', 'GO:0022883', 'GO:0015211', 'GO:0015501', 'GO:0140892', 'GO:0005371', 'GO:0051139', 'GO:0005347', 'GO:0005335', 'GO:0009669', 'GO:0005237', 'GO:0022842', 'GO:0055056', 'GO:0015383', 'GO:0022810', 'GO:0008507', 'GO:0015294', 'GO:0015165', 'GO:0005219', 'GO:0015368', 'GO:0086060', 'GO:0015216', 'GO:0005337', 'GO:1901618', 'GO:0140485', 'GO:0050833', 'GO:0015517', 'GO:0015226', 'GO:0099095', 'GO:0015276', 'GO:0015362', 'GO:0046943', 'GO:0015350', 'GO:0015355', 'GO:0022840', 'GO:0005354', 'GO:1904315', 'GO:0015204', 'GO:0051119', 'GO:0015489', 'GO:0005227', 'GO:0140787', 'GO:0005225', 'GO:0042626', 'GO:0015578', 'GO:0140900', 'GO:0005251', 'GO:0015312', 'GO:0015174', 'GO:0140412', 'GO:0005367', 'GO:0015343', 'GO:0022894', 'GO:0015293', 'GO:0005362', 'GO:0022890', 'GO:0005243', 'GO:0016286', 'GO:0046961', 'GO:0015431', 'GO:0015144', 'GO:0034590', 'GO:0015386', 'GO:0015183', 'GO:0045119', 'GO:0015143', 'GO:0015499', 'GO:0008516', 'GO:0015080', 'GO:0005353', 'GO:0015295', 'GO:0000515', 'GO:0008553', 'GO:0015078', 'GO:0016934', 'GO:0015166', 'GO:0051033', 'GO:0005391', 'GO:0070089', 'GO:0008493', 'GO:0090482', 'GO:0015417', 'GO:0022824', 'GO:0086075', 'GO:0015189', 'GO:0086061', 'GO:0015399', 'GO:0005402', 'GO:0009678', 'GO:0015297', 'GO:0035673', 'GO:0005244', 'GO:0008515', 'GO:0015199', 'GO:0015421', 'GO:0042625', 'GO:0022821', 'GO:0005290', 'GO:0008331', 'GO:0140829', 'GO:0008506', 'GO:1905059', 'GO:0086020', 'GO:0015605', 'GO:0015232', 'GO:0005412', 'GO:0008556', 'GO:0004972', 'GO:0008523', 'GO:0015213', 'GO:0000295', 'GO:0015347', 'GO:0140135', 'GO:0005295', 'GO:0015562', 'GO:0005275', 'GO:0015275', 'GO:0004931', 'GO:0086008', 'GO:0019531', 'GO:0005247', 'GO:0034634', 'GO:0015205', 'GO:0015379', 'GO:0140581', 'GO:0005309', 'GO:0043855', 'GO:0022889', 'GO:0086007', 'GO:0005280', 'GO:0005308', 'GO:0005248', 'GO:0051724', 'GO:0016933', 'GO:0005316', 'GO:0015304', 'GO:0033229', 'GO:1901375', 'GO:0005253', 'GO:0005302', 'GO:0015185', 'GO:0086090', 'GO:0005289', 'GO:0015200', 'GO:0015650', 'GO:0015315', 'GO:0072349', 'GO:0086063', 'GO:0015207', 'GO:0008519', 'GO:0140788', 'GO:0005262', 'GO:0008510', 'GO:0140828', 'GO:0015157', 'GO:0005310', 'GO:0008511', 'GO:0099626', 'GO:0055077', 'GO:0005315', 'GO:0015108', 'GO:0015556', 'GO:0015369'))"
      ]
     },
     "execution_count": 15,
     "metadata": {},
     "output_type": "execute_result"
    }
   ],
   "source": [
    "graph_go.nodes()"
   ]
  }
 ],
 "metadata": {
  "kernelspec": {
   "display_name": "subpred4",
   "language": "python",
   "name": "python3"
  },
  "language_info": {
   "codemirror_mode": {
    "name": "ipython",
    "version": 3
   },
   "file_extension": ".py",
   "mimetype": "text/x-python",
   "name": "python",
   "nbconvert_exporter": "python",
   "pygments_lexer": "ipython3",
   "version": "3.10.12"
  },
  "orig_nbformat": 4
 },
 "nbformat": 4,
 "nbformat_minor": 2
}
